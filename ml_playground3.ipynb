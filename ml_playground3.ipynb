{
  "cells": [
    {
      "cell_type": "markdown",
      "metadata": {
        "id": "view-in-github",
        "colab_type": "text"
      },
      "source": [
        "<a href=\"https://colab.research.google.com/github/romenlaw/ML-playground/blob/main/ml_playground3.ipynb\" target=\"_parent\"><img src=\"https://colab.research.google.com/assets/colab-badge.svg\" alt=\"Open In Colab\"/></a>"
      ]
    },
    {
      "cell_type": "code",
      "source": [
        "import graphviz\n",
        "import pandas as pd\n",
        "import numpy as np\n",
        "import random\n",
        "import math\n",
        "from matplotlib import pyplot as plt\n",
        "from sklearn.tree import DecisionTreeClassifier, export_graphviz\n",
        "\n",
        "# Some functions to plot our points and draw the models\n",
        "def plot_points(features, labels, size_of_points=100):\n",
        "    X = np.array(features)\n",
        "    y = np.array(labels)\n",
        "    spam = X[np.argwhere(y==1)]\n",
        "    ham = X[np.argwhere(y==0)]\n",
        "    plt.scatter([s[0][0] for s in spam],\n",
        "                [s[0][1] for s in spam],\n",
        "                s = size_of_points,\n",
        "                color = 'cyan',\n",
        "                edgecolor = 'k',\n",
        "                marker = '^')\n",
        "    plt.scatter([s[0][0] for s in ham],\n",
        "                [s[0][1] for s in ham],\n",
        "                s = size_of_points,\n",
        "                color = 'red',\n",
        "                edgecolor = 'k',\n",
        "                marker = 's')\n",
        "    #plt.xlabel('GRE')\n",
        "    #plt.ylabel('TOEFL')\n",
        "    #plt.legend(['Admitted','Not admitted'])\n",
        "\n",
        "def plot_model(X, y, model, size_of_points=100):\n",
        "    X = np.array(X)\n",
        "    y = np.array(y)\n",
        "    plot_step = 0.2\n",
        "    x_min, x_max = X[:, 0].min() - 1, X[:, 0].max() + 1\n",
        "    y_min, y_max = X[:, 1].min() - 1, X[:, 1].max() + 1\n",
        "    xx, yy = np.meshgrid(np.arange(x_min, x_max, plot_step),\n",
        "                         np.arange(y_min, y_max, plot_step))\n",
        "    Z = model.predict(np.c_[xx.ravel(), yy.ravel()])\n",
        "    Z = Z.reshape(xx.shape)\n",
        "    plt.contourf(xx, yy, Z, colors=['red', 'blue'], alpha=0.2, levels=range(-1,2))\n",
        "    plt.contour(xx, yy, Z,colors = 'k',linewidths = 1)\n",
        "    plot_points(X, y, size_of_points)\n",
        "    plt.show()\n",
        "\n",
        "def plot_regressor(model, features, labels):\n",
        "    x = np.linspace(0,85,1000)\n",
        "    plt.scatter(features, labels)\n",
        "    plt.plot(x, model.predict(x.reshape([-1,1])))\n",
        "    plt.xlabel(\"Age\")\n",
        "    plt.ylabel(\"Days per week\")\n",
        "    plt.show()\n"
      ],
      "metadata": {
        "id": "KWeqI8Dfl0XZ"
      },
      "execution_count": 69,
      "outputs": []
    },
    {
      "cell_type": "markdown",
      "source": [
        "# Native Bayes Model\n",
        "\n",
        "it's an important ML model used in classification. It's called 'naive' because we make some assumption to simplify the calculation.\n",
        "\n",
        "It is based on the premise that the more information we gather about an event, the better estimate of the probability we can make. Bayes' theorem answers \"what is the prob of Y given X occured?\" - *conditional probability*.\n",
        "\n",
        "* **prior** - the initial probability\n",
        "* **event** - something that occurs which gives us information\n",
        "* **posterior** - the final (and more accurate) probability calculated using prior probability and event.\n",
        "\n",
        "Example:\n",
        "* Prior: probability that the patient is sick (1/10,000)\n",
        "* Event: the patient tested positive\n",
        "* Posterior: probability that the patient is sick given that he is tested positive (99/(99+9999)=0.98%)"
      ],
      "metadata": {
        "id": "ft1ySWXqslsp"
      }
    },
    {
      "cell_type": "code",
      "source": [
        "import graphviz\n",
        "\n",
        "# Create a new Digraph\n",
        "dot = graphviz.Digraph(format='svg', graph_attr={'rankdir': 'LR'})\n",
        "\n",
        "# Add nodes (parent and children)\n",
        "dot.node('A', '1,000,000\\nAll patients', shape='plaintext')\n",
        "dot.node('S', '100\\nSick', shape='plaintext')\n",
        "dot.node('H', '999,900\\nHealthy', shape='plaintext')\n",
        "dot.node('SDS', 'Diagnosed Sick:    99', shape='plaintext')\n",
        "dot.node('SDH', 'Diagnosed Healthy: 1', shape='plaintext', fontcolor='grey')\n",
        "dot.node('HDS', 'Diagnosed Sick:    9999', shape='plaintext')\n",
        "dot.node('HDH', 'Diagnosed Healthy: 989,901', shape='plaintext', fontcolor='grey')\n",
        "\n",
        "# Add edges (connections)\n",
        "dot.edge('A', 'S')\n",
        "dot.edge('A', 'H')\n",
        "dot.edge('S', 'SDS')\n",
        "dot.edge('S', 'SDH', color='grey')\n",
        "dot.edge('H', 'HDS')\n",
        "dot.edge('H', 'HDH', color='grey')\n",
        "\n",
        "dot.node('F', 'your friend is one of these', shape='note')\n",
        "dot.edge('SDS', 'F', style='dashed', color='grey', arrowhead='none')\n",
        "dot.edge('HDS', 'F', style='dashed', color='grey', arrowhead='none')\n",
        "# Display the diagram\n",
        "dot"
      ],
      "metadata": {
        "colab": {
          "base_uri": "https://localhost:8080/",
          "height": 295
        },
        "id": "HDfrtGBrbQjm",
        "outputId": "837a1583-86c4-410b-e81c-e82c150f5709"
      },
      "execution_count": null,
      "outputs": [
        {
          "output_type": "execute_result",
          "data": {
            "image/svg+xml": "<?xml version=\"1.0\" encoding=\"UTF-8\" standalone=\"no\"?>\n<!DOCTYPE svg PUBLIC \"-//W3C//DTD SVG 1.1//EN\"\n \"http://www.w3.org/Graphics/SVG/1.1/DTD/svg11.dtd\">\n<!-- Generated by graphviz version 2.43.0 (0)\n -->\n<!-- Title: %3 Pages: 1 -->\n<svg width=\"590pt\" height=\"206pt\"\n viewBox=\"0.00 0.00 590.00 206.00\" xmlns=\"http://www.w3.org/2000/svg\" xmlns:xlink=\"http://www.w3.org/1999/xlink\">\n<g id=\"graph0\" class=\"graph\" transform=\"scale(1 1) rotate(0) translate(4 202)\">\n<title>%3</title>\n<polygon fill=\"white\" stroke=\"transparent\" points=\"-4,4 -4,-202 586,-202 586,4 -4,4\"/>\n<!-- A -->\n<g id=\"node1\" class=\"node\">\n<title>A</title>\n<text text-anchor=\"middle\" x=\"40\" y=\"-102.8\" font-family=\"Times,serif\" font-size=\"14.00\">1,000,000</text>\n<text text-anchor=\"middle\" x=\"40\" y=\"-87.8\" font-family=\"Times,serif\" font-size=\"14.00\">All patients</text>\n</g>\n<!-- S -->\n<g id=\"node2\" class=\"node\">\n<title>S</title>\n<text text-anchor=\"middle\" x=\"146.5\" y=\"-130.8\" font-family=\"Times,serif\" font-size=\"14.00\">100</text>\n<text text-anchor=\"middle\" x=\"146.5\" y=\"-115.8\" font-family=\"Times,serif\" font-size=\"14.00\">Sick</text>\n</g>\n<!-- A&#45;&gt;S -->\n<g id=\"edge1\" class=\"edge\">\n<title>A&#45;&gt;S</title>\n<path fill=\"none\" stroke=\"black\" d=\"M80.21,-109.51C89.82,-112.08 100.06,-114.83 109.51,-117.36\"/>\n<polygon fill=\"black\" stroke=\"black\" points=\"108.83,-120.8 119.39,-120.01 110.64,-114.04 108.83,-120.8\"/>\n</g>\n<!-- H -->\n<g id=\"node3\" class=\"node\">\n<title>H</title>\n<text text-anchor=\"middle\" x=\"146.5\" y=\"-74.8\" font-family=\"Times,serif\" font-size=\"14.00\">999,900</text>\n<text text-anchor=\"middle\" x=\"146.5\" y=\"-59.8\" font-family=\"Times,serif\" font-size=\"14.00\">Healthy</text>\n</g>\n<!-- A&#45;&gt;H -->\n<g id=\"edge2\" class=\"edge\">\n<title>A&#45;&gt;H</title>\n<path fill=\"none\" stroke=\"black\" d=\"M80.21,-88.49C88.7,-86.22 97.68,-83.81 106.18,-81.54\"/>\n<polygon fill=\"black\" stroke=\"black\" points=\"107.12,-84.91 115.87,-78.94 105.31,-78.15 107.12,-84.91\"/>\n</g>\n<!-- SDS -->\n<g id=\"node4\" class=\"node\">\n<title>SDS</title>\n<text text-anchor=\"middle\" x=\"299.5\" y=\"-176.3\" font-family=\"Times,serif\" font-size=\"14.00\">Diagnosed Sick: &#160;&#160;&#160;99</text>\n</g>\n<!-- S&#45;&gt;SDS -->\n<g id=\"edge3\" class=\"edge\">\n<title>S&#45;&gt;SDS</title>\n<path fill=\"none\" stroke=\"black\" d=\"M173.79,-137.94C185.69,-142.76 199.97,-148.37 213,-153 218.45,-154.94 224.12,-156.88 229.83,-158.79\"/>\n<polygon fill=\"black\" stroke=\"black\" points=\"228.85,-162.16 239.44,-161.96 231.04,-155.51 228.85,-162.16\"/>\n</g>\n<!-- SDH -->\n<g id=\"node5\" class=\"node\">\n<title>SDH</title>\n<text text-anchor=\"middle\" x=\"299.5\" y=\"-122.3\" font-family=\"Times,serif\" font-size=\"14.00\" fill=\"grey\">Diagnosed Healthy: 1</text>\n</g>\n<!-- S&#45;&gt;SDH -->\n<g id=\"edge4\" class=\"edge\">\n<title>S&#45;&gt;SDH</title>\n<path fill=\"none\" stroke=\"grey\" d=\"M173.8,-126.83C187.29,-126.74 204.5,-126.62 221.78,-126.51\"/>\n<polygon fill=\"grey\" stroke=\"grey\" points=\"221.97,-130.01 231.95,-126.44 221.92,-123.01 221.97,-130.01\"/>\n</g>\n<!-- HDS -->\n<g id=\"node6\" class=\"node\">\n<title>HDS</title>\n<text text-anchor=\"middle\" x=\"299.5\" y=\"-68.3\" font-family=\"Times,serif\" font-size=\"14.00\">Diagnosed Sick: &#160;&#160;&#160;9999</text>\n</g>\n<!-- H&#45;&gt;HDS -->\n<g id=\"edge5\" class=\"edge\">\n<title>H&#45;&gt;HDS</title>\n<path fill=\"none\" stroke=\"black\" d=\"M177.33,-71.2C188.36,-71.27 201.47,-71.36 214.92,-71.45\"/>\n<polygon fill=\"black\" stroke=\"black\" points=\"215.23,-74.95 225.25,-71.51 215.27,-67.95 215.23,-74.95\"/>\n</g>\n<!-- HDH -->\n<g id=\"node7\" class=\"node\">\n<title>HDH</title>\n<text text-anchor=\"middle\" x=\"299.5\" y=\"-14.3\" font-family=\"Times,serif\" font-size=\"14.00\" fill=\"grey\">Diagnosed Healthy: 989,901</text>\n</g>\n<!-- H&#45;&gt;HDH -->\n<g id=\"edge6\" class=\"edge\">\n<title>H&#45;&gt;HDH</title>\n<path fill=\"none\" stroke=\"grey\" d=\"M177,-58.77C188.21,-54.26 201.13,-49.22 213,-45 218.45,-43.06 224.12,-41.12 229.83,-39.21\"/>\n<polygon fill=\"grey\" stroke=\"grey\" points=\"231.04,-42.49 239.44,-36.04 228.85,-35.84 231.04,-42.49\"/>\n</g>\n<!-- F -->\n<g id=\"node8\" class=\"node\">\n<title>F</title>\n<polygon fill=\"none\" stroke=\"black\" points=\"576,-144 422,-144 422,-108 582,-108 582,-138 576,-144\"/>\n<polyline fill=\"none\" stroke=\"black\" points=\"576,-144 576,-138 \"/>\n<polyline fill=\"none\" stroke=\"black\" points=\"582,-138 576,-138 \"/>\n<text text-anchor=\"middle\" x=\"502\" y=\"-122.3\" font-family=\"Times,serif\" font-size=\"14.00\">your friend is one of these</text>\n</g>\n<!-- SDS&#45;&gt;F -->\n<g id=\"edge7\" class=\"edge\">\n<title>SDS&#45;&gt;F</title>\n<path fill=\"none\" stroke=\"grey\" stroke-dasharray=\"5,2\" d=\"M366.71,-162.17C388.27,-156.36 412.21,-149.91 433.83,-144.09\"/>\n</g>\n<!-- HDS&#45;&gt;F -->\n<g id=\"edge8\" class=\"edge\">\n<title>HDS&#45;&gt;F</title>\n<path fill=\"none\" stroke=\"grey\" stroke-dasharray=\"5,2\" d=\"M367.54,-90.06C388.94,-95.82 412.62,-102.2 434.02,-107.96\"/>\n</g>\n</g>\n</svg>\n",
            "text/plain": [
              "<graphviz.graphs.Digraph at 0x7b77ca7941d0>"
            ]
          },
          "metadata": {},
          "execution_count": 23
        }
      ]
    },
    {
      "cell_type": "code",
      "source": [
        "99/(99+9999)  # prob of friend is sick"
      ],
      "metadata": {
        "colab": {
          "base_uri": "https://localhost:8080/"
        },
        "id": "D3UPgL7JgWSz",
        "outputId": "54096307-30d4-4003-96eb-400bd9a8a6c7"
      },
      "execution_count": null,
      "outputs": [
        {
          "output_type": "execute_result",
          "data": {
            "text/plain": [
              "0.00980392156862745"
            ]
          },
          "metadata": {},
          "execution_count": 17
        }
      ]
    },
    {
      "cell_type": "code",
      "source": [
        "# the spam email example\n",
        "g = graphviz.Digraph(format='svg', graph_attr={'rankdir': 'LR'})\n",
        "g.node('R', 'Root\\n100/100', shape='plaintext')\n",
        "g.node('S', 'Spam\\n20/100', shape='box')\n",
        "g.node('H', 'Ham\\n80/100', shape='box')\n",
        "g.node('SL', '15/100 \"lottery\"', shape='plaintext')\n",
        "g.node('SNL', '5/100 No \"lottery\"', shape='plaintext', fontcolor='grey')\n",
        "g.node('HL', '5/100 \"lottery\"', shape='plaintext')\n",
        "g.node('HNL', '75/80 No \"lottery\"', shape='plaintext', fontcolor='grey')\n",
        "\n",
        "g.edge('R', 'S', label='0.2'); g.edge('R', 'H', label='0.8')\n",
        "g.edge('S', 'SL', label='15/20'); g.edge('S', 'SNL', label='5/20', color='grey')\n",
        "g.edge('H', 'HL', label='5/80'); g.edge('H', 'HNL', label='75/80', color='grey')\n",
        "\n",
        "g"
      ],
      "metadata": {
        "id": "2_9GYNCUlvmy",
        "outputId": "4ed801bb-e3db-46b2-a5cf-58176989faf3",
        "colab": {
          "base_uri": "https://localhost:8080/",
          "height": 296
        }
      },
      "execution_count": null,
      "outputs": [
        {
          "output_type": "execute_result",
          "data": {
            "image/svg+xml": "<?xml version=\"1.0\" encoding=\"UTF-8\" standalone=\"no\"?>\n<!DOCTYPE svg PUBLIC \"-//W3C//DTD SVG 1.1//EN\"\n \"http://www.w3.org/Graphics/SVG/1.1/DTD/svg11.dtd\">\n<!-- Generated by graphviz version 2.43.0 (0)\n -->\n<!-- Title: %3 Pages: 1 -->\n<svg width=\"363pt\" height=\"206pt\"\n viewBox=\"0.00 0.00 363.00 206.00\" xmlns=\"http://www.w3.org/2000/svg\" xmlns:xlink=\"http://www.w3.org/1999/xlink\">\n<g id=\"graph0\" class=\"graph\" transform=\"scale(1 1) rotate(0) translate(4 202)\">\n<title>%3</title>\n<polygon fill=\"white\" stroke=\"transparent\" points=\"-4,4 -4,-202 359,-202 359,4 -4,4\"/>\n<!-- R -->\n<g id=\"node1\" class=\"node\">\n<title>R</title>\n<text text-anchor=\"middle\" x=\"30.5\" y=\"-102.8\" font-family=\"Times,serif\" font-size=\"14.00\">Root</text>\n<text text-anchor=\"middle\" x=\"30.5\" y=\"-87.8\" font-family=\"Times,serif\" font-size=\"14.00\">100/100</text>\n</g>\n<!-- S -->\n<g id=\"node2\" class=\"node\">\n<title>S</title>\n<polygon fill=\"none\" stroke=\"black\" points=\"169,-146 115,-146 115,-108 169,-108 169,-146\"/>\n<text text-anchor=\"middle\" x=\"142\" y=\"-130.8\" font-family=\"Times,serif\" font-size=\"14.00\">Spam</text>\n<text text-anchor=\"middle\" x=\"142\" y=\"-115.8\" font-family=\"Times,serif\" font-size=\"14.00\">20/100</text>\n</g>\n<!-- R&#45;&gt;S -->\n<g id=\"edge1\" class=\"edge\">\n<title>R&#45;&gt;S</title>\n<path fill=\"none\" stroke=\"black\" d=\"M61.13,-106.58C74.59,-110.02 90.63,-114.12 104.79,-117.74\"/>\n<polygon fill=\"black\" stroke=\"black\" points=\"104.15,-121.19 114.71,-120.28 105.89,-114.41 104.15,-121.19\"/>\n<text text-anchor=\"middle\" x=\"88\" y=\"-118.8\" font-family=\"Times,serif\" font-size=\"14.00\">0.2</text>\n</g>\n<!-- H -->\n<g id=\"node3\" class=\"node\">\n<title>H</title>\n<polygon fill=\"none\" stroke=\"black\" points=\"169,-90 115,-90 115,-52 169,-52 169,-90\"/>\n<text text-anchor=\"middle\" x=\"142\" y=\"-74.8\" font-family=\"Times,serif\" font-size=\"14.00\">Ham</text>\n<text text-anchor=\"middle\" x=\"142\" y=\"-59.8\" font-family=\"Times,serif\" font-size=\"14.00\">80/100</text>\n</g>\n<!-- R&#45;&gt;H -->\n<g id=\"edge2\" class=\"edge\">\n<title>R&#45;&gt;H</title>\n<path fill=\"none\" stroke=\"black\" d=\"M61.13,-91.42C74.59,-87.98 90.63,-83.88 104.79,-80.26\"/>\n<polygon fill=\"black\" stroke=\"black\" points=\"105.89,-83.59 114.71,-77.72 104.15,-76.81 105.89,-83.59\"/>\n<text text-anchor=\"middle\" x=\"88\" y=\"-89.8\" font-family=\"Times,serif\" font-size=\"14.00\">0.8</text>\n</g>\n<!-- SL -->\n<g id=\"node4\" class=\"node\">\n<title>SL</title>\n<text text-anchor=\"middle\" x=\"295.5\" y=\"-176.3\" font-family=\"Times,serif\" font-size=\"14.00\">15/100 &quot;lottery&quot;</text>\n</g>\n<!-- S&#45;&gt;SL -->\n<g id=\"edge3\" class=\"edge\">\n<title>S&#45;&gt;SL</title>\n<path fill=\"none\" stroke=\"black\" d=\"M169.4,-138.17C175.17,-140.51 181.27,-142.9 187,-145 201.81,-150.43 217.92,-155.91 233.06,-160.86\"/>\n<polygon fill=\"black\" stroke=\"black\" points=\"232.24,-164.27 242.84,-164.03 234.4,-157.61 232.24,-164.27\"/>\n<text text-anchor=\"middle\" x=\"202.5\" y=\"-158.8\" font-family=\"Times,serif\" font-size=\"14.00\">15/20</text>\n</g>\n<!-- SNL -->\n<g id=\"node5\" class=\"node\">\n<title>SNL</title>\n<text text-anchor=\"middle\" x=\"295.5\" y=\"-122.3\" font-family=\"Times,serif\" font-size=\"14.00\" fill=\"grey\">5/100 No &quot;lottery&quot;</text>\n</g>\n<!-- S&#45;&gt;SNL -->\n<g id=\"edge4\" class=\"edge\">\n<title>S&#45;&gt;SNL</title>\n<path fill=\"none\" stroke=\"grey\" d=\"M169.04,-126.83C184.75,-126.72 205.56,-126.59 225.71,-126.45\"/>\n<polygon fill=\"grey\" stroke=\"grey\" points=\"225.86,-129.95 235.83,-126.39 225.81,-122.95 225.86,-129.95\"/>\n<text text-anchor=\"middle\" x=\"202.5\" y=\"-129.8\" font-family=\"Times,serif\" font-size=\"14.00\">5/20</text>\n</g>\n<!-- HL -->\n<g id=\"node6\" class=\"node\">\n<title>HL</title>\n<text text-anchor=\"middle\" x=\"295.5\" y=\"-68.3\" font-family=\"Times,serif\" font-size=\"14.00\">5/100 &quot;lottery&quot;</text>\n</g>\n<!-- H&#45;&gt;HL -->\n<g id=\"edge5\" class=\"edge\">\n<title>H&#45;&gt;HL</title>\n<path fill=\"none\" stroke=\"black\" d=\"M169.04,-71.17C187.54,-71.29 213.12,-71.46 236.36,-71.62\"/>\n<polygon fill=\"black\" stroke=\"black\" points=\"236.47,-75.12 246.49,-71.68 236.51,-68.12 236.47,-75.12\"/>\n<text text-anchor=\"middle\" x=\"202.5\" y=\"-74.8\" font-family=\"Times,serif\" font-size=\"14.00\">5/80</text>\n</g>\n<!-- HNL -->\n<g id=\"node7\" class=\"node\">\n<title>HNL</title>\n<text text-anchor=\"middle\" x=\"295.5\" y=\"-14.3\" font-family=\"Times,serif\" font-size=\"14.00\" fill=\"grey\">75/80 No &quot;lottery&quot;</text>\n</g>\n<!-- H&#45;&gt;HNL -->\n<g id=\"edge6\" class=\"edge\">\n<title>H&#45;&gt;HNL</title>\n<path fill=\"none\" stroke=\"grey\" d=\"M169.35,-59.11C175.12,-56.65 181.23,-54.15 187,-52 199.5,-47.34 212.95,-42.75 225.98,-38.53\"/>\n<polygon fill=\"grey\" stroke=\"grey\" points=\"227.37,-41.76 235.83,-35.37 225.24,-35.09 227.37,-41.76\"/>\n<text text-anchor=\"middle\" x=\"202.5\" y=\"-55.8\" font-family=\"Times,serif\" font-size=\"14.00\">75/80</text>\n</g>\n</g>\n</svg>\n",
            "text/plain": [
              "<graphviz.graphs.Digraph at 0x7b25d7630d90>"
            ]
          },
          "metadata": {},
          "execution_count": 4
        }
      ]
    },
    {
      "cell_type": "markdown",
      "source": [
        "After eliminating the tree nodes with 'No \"lottery\"', we calculate the probability that an email is spam given that it contains the word 'lottery' is 15/20=0.75\n",
        "\n",
        "**Question**: what is the prob that an email that contains the word 'lottery' is spam?\n",
        "\n",
        "**Rule of complementary probabilities**: For an event E, the complement of event E (denoted $E^c$) is the event opposite to E. The prob of $E^c$ is 1 minus the prob of E:\n",
        "$$P(E^c)=1-P(E)$$\n",
        "\n",
        "as an example, P(spam)=20%, P(ham)=1-P(spam)=80%\n",
        "\n",
        "another example: The prob that a spam email contains 'lottery' is 15/20=0.75. This can be read as: the prob that an email contains 'lottery' given that it's a spam, is 0.75.\n",
        "* $P('lottery'|spam)=0.75$ : the probability that a spam email contains the word *lottery*\n",
        "* $P(no 'lottery'|spam)=1-0.75=0.25$ : the probability that a spam email does not contain the word *lottery*.\n",
        "* $P('lottery'|ham)=\\frac{5}{80}=0.0625$ : the probability that a ham email contains the word *lottery*\n",
        "* $P(no 'lottery'|ham)=1-0.0625=0.9375$ : the probability that a ham email contains the word *lottery*\n",
        "\n",
        "**Product rule of probabilities** For events E and F, the probability of their intersection is the product of the conditional probability of F given E, times the probability of F, namely,\n",
        "$$P(E \\cap F) = P(E | F) \\cap P(F)$$\n",
        "\n",
        "\n",
        "i.e. we find the probs of 2 events happening at the same time by multiplying the two probs:\n",
        "1. $P('lottery' \\cap spam)=P(spam)\\cap P('lottery'|spam)=0.2 \\times 0.75 = 0.15$ : The probability that *and* email is spam and contains the word lottery\n",
        "2. $P(no 'lottery' \\cap spam)=P(no 'lottery'|spam)\\cap P(spam)=0.25\\times 0.2=0.05$ : The probability that *and* email is spam and does not contain the word lottery\n",
        "3. $P('lottery' \\cap ham) = P('lottery'|ham) \\cap P(ham)=0.0625\\times0.8=0.05$ : The probability that *and* email is ham and contains the word lottery\n",
        "4. $P(no 'lottery' \\cap ham)=P(no 'lottery'|ham)\\cap P(ham)=0.9375\\times0.8=0.75$ : The probability that *and* email is ham and does not contain the word lottery\n",
        "\n",
        "The sum of above 4 probs is 1 because they are all the possible scenarios.\n",
        "\n",
        "Now we want to find $P(spam|'lottery')=?$, i.e. prob that email is spam, given that it contains the word 'lottery'.\n",
        "\n",
        "From above list, there are 2 scenarios that contain the word 'lottery': $P('lottery' \\cap spam)$ and $P('lottery' \\cap ham)$, i.e. we only need to consider these 2 branches of the tree. The ratio between the 2 scenarios is 3:1 and they should add up to 1 (because our whole population is emails with 'lottery' only). So\n",
        "* $P(spam|'lottery')=\\frac{P('lottery'\\cap spam)}{P('lottery'\\cap spam)+P('lottery'\\cap ham)}=\\frac{0.15}{0.15+0.05}=3/4=0.75$\n",
        "* $P(ham|'lottery')=\\frac{P('lottery'\\cap ham)}{P('lottery'\\cap ham)+P('lottery'\\cap spam)}=\\frac{0.05}{0.05+0.15}=1/4=.25$\n",
        "\n",
        "**Bayes theorum** for events E and F\n",
        "$$P(E|F)=\\frac{P(F|E)\\cdot P(E)}{P(F)}\n",
        "$$\n",
        "Because event F can be broken down to 2 disjoint events $F|E$ and $F|E^c$, then\n",
        "$$P(E|F)=\\frac{P(F|E)\\cdot P(E)}{P(F|E)\\cdot P(E)+P(F|E^c)\\cdot P(E^c)}\n",
        "$$\n",
        "\n",
        "Using Bayes theorum to find P(spam|'lottery'):\n",
        "\n",
        "$P(spam|'lottery')=\\frac{P('lottery'|spam)\\cdot P('lottery')}{P('lottery'|spam)\\cdot P(spam)+P('lottery'|ham)\\cdot P(ham)}\n",
        "= \\frac{0.75\\times (\\frac{15}{100}+\\frac{5}{100})}{0.75\\times 0.2+0.0625\\times 0.8} = \\frac{0.75\\times 0.2}{0.75\\times 0.2+0.0625\\times 0.8} = \\frac{0.15}{0.15+0.05} = 0.75\n",
        "$"
      ],
      "metadata": {
        "id": "d2UscThRngJx"
      }
    },
    {
      "cell_type": "markdown",
      "source": [
        "## Two events\n",
        "\n",
        "The above looks at single word 'lottery' in email, What about two words, i.e. two events?\n",
        "\n",
        "If two events are independent, then the prob of both of them occuring is the product of their probs. But some cases the events are not independent - e.g. gender, eye color, but we can assume they are, hence *naive* Bayes...\n",
        "\n",
        "**product rule for independent probabilities**:\n",
        "$$P(E\\cap F) = P(E)\\cdot P(F)\n",
        "$$\n",
        "\n",
        "**naiive assumption**: the two events E and F are independent. Sometimes this assumption is not true - e.g. words 'salt' and 'pepper' appear in the same email..."
      ],
      "metadata": {
        "id": "aamhK-mpLOk5"
      }
    },
    {
      "cell_type": "code",
      "source": [
        "# example, let's say the stats for the word 'sale' in emails are:\n",
        "# P('sale'|spam) = 6/20; P('sale'|ham)=4/80\n",
        "P_sale_spam = 6/20\n",
        "P_sale_ham = 4/80\n",
        "# from previous example we know\n",
        "P_lottery_spam = 15/20\n",
        "P_lottery_ham = 5/80\n",
        "\n",
        "# calc P('lottery', 'sale' | spam)\n",
        "# i.e. prob of a spam email containing both words\n",
        "P_2_spam = P_lottery_spam * P_sale_spam\n",
        "print(\"P('lotter', 'sale'|spam)=\", P_2_spam)\n",
        "\n",
        "# calc P('lottery', 'sale'|ham)\n",
        "# i.e. prob of a ham email containing both words\n",
        "P_2_ham = P_lottery_ham * P_sale_ham\n",
        "print(\"P('lottery', 'sale'|ham)=\", P_2_ham)"
      ],
      "metadata": {
        "colab": {
          "base_uri": "https://localhost:8080/"
        },
        "id": "9nRsBnZ5N3V8",
        "outputId": "0bffd2d6-0498-4b61-bbe0-be4e4a24b1c4"
      },
      "execution_count": 2,
      "outputs": [
        {
          "output_type": "stream",
          "name": "stdout",
          "text": [
            "P('lotter', 'sale'|spam)= 0.22499999999999998\n",
            "P('lottery', 'sale'|ham)= 0.003125\n"
          ]
        }
      ]
    },
    {
      "cell_type": "code",
      "source": [
        "# if we restrict our population to emails containg both words only, i.e.\n",
        "population = 20 * P_2_spam + 80 * P_2_ham\n",
        "print(\"number emails containing both words: \", population)\n",
        "\n",
        "# and calculate prob of spam in this population, i.e. P(spam|lottery AND sale)\n",
        "P_spam_2 = 20 * P_2_spam / population\n",
        "print(\"P(spam | lottery \\cap sale)=\", P_spam_2)"
      ],
      "metadata": {
        "colab": {
          "base_uri": "https://localhost:8080/"
        },
        "id": "Fozw7QbKQW7Q",
        "outputId": "f93c9ba9-d4e4-49d5-f2f5-a6a7905b4a0a"
      },
      "execution_count": 4,
      "outputs": [
        {
          "output_type": "stream",
          "name": "stdout",
          "text": [
            "number emails containing both words:  4.75\n",
            "P(spam | lottery \\cap sale)= 0.9473684210526315\n"
          ]
        }
      ]
    },
    {
      "cell_type": "markdown",
      "source": [
        "## Multiple events\n",
        "\n",
        "Extend the above to multiple events: e.g. the email has n words x1, x2, ... xn, Bayes' theorom states that the prob of an email being spam given that it contains words x1, x2, ... xn is (comma is used the same as $\\cap$:\n",
        "$$P(spam|x_1, x_2, \\ldots, x_n) = \\frac{P(x_1, x_2, \\ldots, x_n|spam)P(spam)}{P(x_1, x_2, \\ldots, x_n|spam)P(spam)+P(x_1, x_2, \\ldots, x_n|ham)P(ham)}\n",
        "$$\n",
        "Assuming all words are independent, we get\n",
        "\n",
        "$P(x_1, x_2, \\ldots, x_n|spam) = P(x_1|spam)\\cdot P(x_2|spam) \\ldots P(x_n|spam)$\n",
        "\n",
        "and\n",
        "\n",
        "$P(x_1, x_2, \\ldots, x_n|ham) = P(x_1|ham)\\cdot P(x_2|ham) \\ldots P(x_n|ham)$\n",
        "\n",
        "substitute them into the first equation:\n",
        "$$P(spam|x_1, x_2, \\ldots, x_n) = \\frac{P(x_1|spam)\\cdot P(x_2|spam) \\ldots P(x_n|spam)P(spam)}{P(x_1|spam)\\cdot P(x_2|spam) \\ldots P(x_n|spam)P(spam)+P(x_1|ham)\\cdot P(x_2|ham) \\ldots P(x_n|ham)P(ham)}\n",
        "$$\n"
      ],
      "metadata": {
        "id": "JVyDQKvFSoQy"
      }
    },
    {
      "cell_type": "markdown",
      "source": [
        "## Spam detection example"
      ],
      "metadata": {
        "id": "3JwgKkUhVT4I"
      }
    },
    {
      "cell_type": "code",
      "source": [
        "!rm -f data/emails.csv\n",
        "!wget -nv -P data https://raw.githubusercontent.com/luisguiserrano/manning/master/Chapter_08_Naive_Bayes/emails.csv\n",
        "!ls -al data\n",
        "!wc -l data/emails.csv"
      ],
      "metadata": {
        "colab": {
          "base_uri": "https://localhost:8080/"
        },
        "id": "ET0rfLB6VS8w",
        "outputId": "b6ce8fae-b13c-4108-8265-c5093c2d73f0"
      },
      "execution_count": 5,
      "outputs": [
        {
          "output_type": "stream",
          "name": "stdout",
          "text": [
            "2025-02-24 23:43:30 URL:https://raw.githubusercontent.com/luisguiserrano/manning/master/Chapter_08_Naive_Bayes/emails.csv [8954755/8954755] -> \"data/emails.csv\" [1]\n",
            "total 8756\n",
            "drwxr-xr-x 2 root root    4096 Feb 24 23:43 .\n",
            "drwxr-xr-x 1 root root    4096 Feb 24 23:43 ..\n",
            "-rw-r--r-- 1 root root 8954755 Feb 24 23:43 emails.csv\n",
            "5729 data/emails.csv\n"
          ]
        }
      ]
    },
    {
      "cell_type": "code",
      "source": [
        "emails = pd.read_csv('data/emails.csv')\n",
        "emails.head()"
      ],
      "metadata": {
        "colab": {
          "base_uri": "https://localhost:8080/",
          "height": 660
        },
        "id": "udEJESMAWHg2",
        "outputId": "9157bf04-750a-4689-8e32-36a273cadd35"
      },
      "execution_count": 24,
      "outputs": [
        {
          "output_type": "execute_result",
          "data": {
            "text/plain": [
              "                                                text  spam\n",
              "0  Subject: naturally irresistible your corporate...     1\n",
              "1  Subject: the stock trading gunslinger  fanny i...     1\n",
              "2  Subject: unbelievable new homes made easy  im ...     1\n",
              "3  Subject: 4 color printing special  request add...     1\n",
              "4  Subject: do not have money , get software cds ...     1"
            ],
            "text/html": [
              "\n",
              "  <div id=\"df-f21390ce-87ad-482c-b741-510faebdf662\" class=\"colab-df-container\">\n",
              "    <div>\n",
              "<style scoped>\n",
              "    .dataframe tbody tr th:only-of-type {\n",
              "        vertical-align: middle;\n",
              "    }\n",
              "\n",
              "    .dataframe tbody tr th {\n",
              "        vertical-align: top;\n",
              "    }\n",
              "\n",
              "    .dataframe thead th {\n",
              "        text-align: right;\n",
              "    }\n",
              "</style>\n",
              "<table border=\"1\" class=\"dataframe\">\n",
              "  <thead>\n",
              "    <tr style=\"text-align: right;\">\n",
              "      <th></th>\n",
              "      <th>text</th>\n",
              "      <th>spam</th>\n",
              "    </tr>\n",
              "  </thead>\n",
              "  <tbody>\n",
              "    <tr>\n",
              "      <th>0</th>\n",
              "      <td>Subject: naturally irresistible your corporate...</td>\n",
              "      <td>1</td>\n",
              "    </tr>\n",
              "    <tr>\n",
              "      <th>1</th>\n",
              "      <td>Subject: the stock trading gunslinger  fanny i...</td>\n",
              "      <td>1</td>\n",
              "    </tr>\n",
              "    <tr>\n",
              "      <th>2</th>\n",
              "      <td>Subject: unbelievable new homes made easy  im ...</td>\n",
              "      <td>1</td>\n",
              "    </tr>\n",
              "    <tr>\n",
              "      <th>3</th>\n",
              "      <td>Subject: 4 color printing special  request add...</td>\n",
              "      <td>1</td>\n",
              "    </tr>\n",
              "    <tr>\n",
              "      <th>4</th>\n",
              "      <td>Subject: do not have money , get software cds ...</td>\n",
              "      <td>1</td>\n",
              "    </tr>\n",
              "  </tbody>\n",
              "</table>\n",
              "</div>\n",
              "    <div class=\"colab-df-buttons\">\n",
              "\n",
              "  <div class=\"colab-df-container\">\n",
              "    <button class=\"colab-df-convert\" onclick=\"convertToInteractive('df-f21390ce-87ad-482c-b741-510faebdf662')\"\n",
              "            title=\"Convert this dataframe to an interactive table.\"\n",
              "            style=\"display:none;\">\n",
              "\n",
              "  <svg xmlns=\"http://www.w3.org/2000/svg\" height=\"24px\" viewBox=\"0 -960 960 960\">\n",
              "    <path d=\"M120-120v-720h720v720H120Zm60-500h600v-160H180v160Zm220 220h160v-160H400v160Zm0 220h160v-160H400v160ZM180-400h160v-160H180v160Zm440 0h160v-160H620v160ZM180-180h160v-160H180v160Zm440 0h160v-160H620v160Z\"/>\n",
              "  </svg>\n",
              "    </button>\n",
              "\n",
              "  <style>\n",
              "    .colab-df-container {\n",
              "      display:flex;\n",
              "      gap: 12px;\n",
              "    }\n",
              "\n",
              "    .colab-df-convert {\n",
              "      background-color: #E8F0FE;\n",
              "      border: none;\n",
              "      border-radius: 50%;\n",
              "      cursor: pointer;\n",
              "      display: none;\n",
              "      fill: #1967D2;\n",
              "      height: 32px;\n",
              "      padding: 0 0 0 0;\n",
              "      width: 32px;\n",
              "    }\n",
              "\n",
              "    .colab-df-convert:hover {\n",
              "      background-color: #E2EBFA;\n",
              "      box-shadow: 0px 1px 2px rgba(60, 64, 67, 0.3), 0px 1px 3px 1px rgba(60, 64, 67, 0.15);\n",
              "      fill: #174EA6;\n",
              "    }\n",
              "\n",
              "    .colab-df-buttons div {\n",
              "      margin-bottom: 4px;\n",
              "    }\n",
              "\n",
              "    [theme=dark] .colab-df-convert {\n",
              "      background-color: #3B4455;\n",
              "      fill: #D2E3FC;\n",
              "    }\n",
              "\n",
              "    [theme=dark] .colab-df-convert:hover {\n",
              "      background-color: #434B5C;\n",
              "      box-shadow: 0px 1px 3px 1px rgba(0, 0, 0, 0.15);\n",
              "      filter: drop-shadow(0px 1px 2px rgba(0, 0, 0, 0.3));\n",
              "      fill: #FFFFFF;\n",
              "    }\n",
              "  </style>\n",
              "\n",
              "    <script>\n",
              "      const buttonEl =\n",
              "        document.querySelector('#df-f21390ce-87ad-482c-b741-510faebdf662 button.colab-df-convert');\n",
              "      buttonEl.style.display =\n",
              "        google.colab.kernel.accessAllowed ? 'block' : 'none';\n",
              "\n",
              "      async function convertToInteractive(key) {\n",
              "        const element = document.querySelector('#df-f21390ce-87ad-482c-b741-510faebdf662');\n",
              "        const dataTable =\n",
              "          await google.colab.kernel.invokeFunction('convertToInteractive',\n",
              "                                                    [key], {});\n",
              "        if (!dataTable) return;\n",
              "\n",
              "        const docLinkHtml = 'Like what you see? Visit the ' +\n",
              "          '<a target=\"_blank\" href=https://colab.research.google.com/notebooks/data_table.ipynb>data table notebook</a>'\n",
              "          + ' to learn more about interactive tables.';\n",
              "        element.innerHTML = '';\n",
              "        dataTable['output_type'] = 'display_data';\n",
              "        await google.colab.output.renderOutput(dataTable, element);\n",
              "        const docLink = document.createElement('div');\n",
              "        docLink.innerHTML = docLinkHtml;\n",
              "        element.appendChild(docLink);\n",
              "      }\n",
              "    </script>\n",
              "  </div>\n",
              "\n",
              "\n",
              "<div id=\"df-e2c0aa67-9abf-494a-bb52-9974915564f9\">\n",
              "  <button class=\"colab-df-quickchart\" onclick=\"quickchart('df-e2c0aa67-9abf-494a-bb52-9974915564f9')\"\n",
              "            title=\"Suggest charts\"\n",
              "            style=\"display:none;\">\n",
              "\n",
              "<svg xmlns=\"http://www.w3.org/2000/svg\" height=\"24px\"viewBox=\"0 0 24 24\"\n",
              "     width=\"24px\">\n",
              "    <g>\n",
              "        <path d=\"M19 3H5c-1.1 0-2 .9-2 2v14c0 1.1.9 2 2 2h14c1.1 0 2-.9 2-2V5c0-1.1-.9-2-2-2zM9 17H7v-7h2v7zm4 0h-2V7h2v10zm4 0h-2v-4h2v4z\"/>\n",
              "    </g>\n",
              "</svg>\n",
              "  </button>\n",
              "\n",
              "<style>\n",
              "  .colab-df-quickchart {\n",
              "      --bg-color: #E8F0FE;\n",
              "      --fill-color: #1967D2;\n",
              "      --hover-bg-color: #E2EBFA;\n",
              "      --hover-fill-color: #174EA6;\n",
              "      --disabled-fill-color: #AAA;\n",
              "      --disabled-bg-color: #DDD;\n",
              "  }\n",
              "\n",
              "  [theme=dark] .colab-df-quickchart {\n",
              "      --bg-color: #3B4455;\n",
              "      --fill-color: #D2E3FC;\n",
              "      --hover-bg-color: #434B5C;\n",
              "      --hover-fill-color: #FFFFFF;\n",
              "      --disabled-bg-color: #3B4455;\n",
              "      --disabled-fill-color: #666;\n",
              "  }\n",
              "\n",
              "  .colab-df-quickchart {\n",
              "    background-color: var(--bg-color);\n",
              "    border: none;\n",
              "    border-radius: 50%;\n",
              "    cursor: pointer;\n",
              "    display: none;\n",
              "    fill: var(--fill-color);\n",
              "    height: 32px;\n",
              "    padding: 0;\n",
              "    width: 32px;\n",
              "  }\n",
              "\n",
              "  .colab-df-quickchart:hover {\n",
              "    background-color: var(--hover-bg-color);\n",
              "    box-shadow: 0 1px 2px rgba(60, 64, 67, 0.3), 0 1px 3px 1px rgba(60, 64, 67, 0.15);\n",
              "    fill: var(--button-hover-fill-color);\n",
              "  }\n",
              "\n",
              "  .colab-df-quickchart-complete:disabled,\n",
              "  .colab-df-quickchart-complete:disabled:hover {\n",
              "    background-color: var(--disabled-bg-color);\n",
              "    fill: var(--disabled-fill-color);\n",
              "    box-shadow: none;\n",
              "  }\n",
              "\n",
              "  .colab-df-spinner {\n",
              "    border: 2px solid var(--fill-color);\n",
              "    border-color: transparent;\n",
              "    border-bottom-color: var(--fill-color);\n",
              "    animation:\n",
              "      spin 1s steps(1) infinite;\n",
              "  }\n",
              "\n",
              "  @keyframes spin {\n",
              "    0% {\n",
              "      border-color: transparent;\n",
              "      border-bottom-color: var(--fill-color);\n",
              "      border-left-color: var(--fill-color);\n",
              "    }\n",
              "    20% {\n",
              "      border-color: transparent;\n",
              "      border-left-color: var(--fill-color);\n",
              "      border-top-color: var(--fill-color);\n",
              "    }\n",
              "    30% {\n",
              "      border-color: transparent;\n",
              "      border-left-color: var(--fill-color);\n",
              "      border-top-color: var(--fill-color);\n",
              "      border-right-color: var(--fill-color);\n",
              "    }\n",
              "    40% {\n",
              "      border-color: transparent;\n",
              "      border-right-color: var(--fill-color);\n",
              "      border-top-color: var(--fill-color);\n",
              "    }\n",
              "    60% {\n",
              "      border-color: transparent;\n",
              "      border-right-color: var(--fill-color);\n",
              "    }\n",
              "    80% {\n",
              "      border-color: transparent;\n",
              "      border-right-color: var(--fill-color);\n",
              "      border-bottom-color: var(--fill-color);\n",
              "    }\n",
              "    90% {\n",
              "      border-color: transparent;\n",
              "      border-bottom-color: var(--fill-color);\n",
              "    }\n",
              "  }\n",
              "</style>\n",
              "\n",
              "  <script>\n",
              "    async function quickchart(key) {\n",
              "      const quickchartButtonEl =\n",
              "        document.querySelector('#' + key + ' button');\n",
              "      quickchartButtonEl.disabled = true;  // To prevent multiple clicks.\n",
              "      quickchartButtonEl.classList.add('colab-df-spinner');\n",
              "      try {\n",
              "        const charts = await google.colab.kernel.invokeFunction(\n",
              "            'suggestCharts', [key], {});\n",
              "      } catch (error) {\n",
              "        console.error('Error during call to suggestCharts:', error);\n",
              "      }\n",
              "      quickchartButtonEl.classList.remove('colab-df-spinner');\n",
              "      quickchartButtonEl.classList.add('colab-df-quickchart-complete');\n",
              "    }\n",
              "    (() => {\n",
              "      let quickchartButtonEl =\n",
              "        document.querySelector('#df-e2c0aa67-9abf-494a-bb52-9974915564f9 button');\n",
              "      quickchartButtonEl.style.display =\n",
              "        google.colab.kernel.accessAllowed ? 'block' : 'none';\n",
              "    })();\n",
              "  </script>\n",
              "</div>\n",
              "\n",
              "    </div>\n",
              "  </div>\n"
            ],
            "application/vnd.google.colaboratory.intrinsic+json": {
              "type": "dataframe",
              "variable_name": "emails",
              "summary": "{\n  \"name\": \"emails\",\n  \"rows\": 5728,\n  \"fields\": [\n    {\n      \"column\": \"text\",\n      \"properties\": {\n        \"dtype\": \"string\",\n        \"num_unique_values\": 5695,\n        \"samples\": [\n          \"Subject: eprm article  hi vince ,  ?  as always , it was good to see you again in houston - we all enjoyed the meal  very much , the restaurant was a good choice .  ?  it ' s that time again i ' m afraid . can you pls cast your eye over the  attached ? and , if at all possible , get back to me in the next few days - i  have to deliver something to london by friday .  ?  how ' s the course going at rice ? not too much work i hope .  ?  best regards .  ?  chris .  ?  - eprm _ 09 _ fwd _ vol _ estimation . doc\",\n          \"Subject: fluid analysis  our customer speak volumes about our spur m product  \\\" i just wanted to write and thank you for spur - m .  i suffered from poor sperm count and motility . i found  your site and ordered spur - m fertility blend for men .  i have wondered for years what caused low semen and sperm  count , and how i could improve my fertility and help my wife  conceive . spur - m seems to have done just that ! thank you  for your support . \\\"  andrew h . , london , uk  \\\" spur - m really does help improve fertility and effectiveness  of sperm and semen motility . i used it for the past few months ,  and not only does it work - i also feel better to . i have  more energy . this is an excellent counter to low sperm count  and motility . i ' ll be buying more ! ! ! \\\"  franz k . , bonn , germany  http : / / findgoodstuffhere . com / spur /  for removing , pls go here  http : / / findgoodstuffhere . com / rm . php\",\n          \"Subject: re : liquids limits oct . 20  john :  i will be here most of the week , and am looking forward to working with niamh  c . i will also check the availability of people in vince k . group as well as  naveen andrews in ours .  regards  bjorn h .  john l nowlan  24 / 10 / 2000 10 : 32  to : bjorn hagelmann / hou / ect @ ect  cc : ted murphy / hou / ect @ ect  subject : re : liquids limits oct . 20  bjorn , niamh clarke is going to come to houston from mon afternoon to friday  next week to work on nvar . she developed var models for mitsubishi and has  lots of experience in this area . can you please provide her with the best  people we can from research and rac so we can try and get a better  understanding and more confidence in our model . i ' m sure you agree with me  that if my group is going to make any progress we need to get this sorted .  thanks in advance .  - - - - - - - - - - - - - - - - - - - - - - forwarded by john l nowlan / hou / ect on 10 / 24 / 2000 09 : 51  am - - - - - - - - - - - - - - - - - - - - - - - - - - -  from : bjorn hagelmann  10 / 24 / 2000 07 : 31 am  to : john l nowlan / hou / ect @ ect  cc : scott earnest / hou / ect @ ect  subject : re : liquids limits oct . 20  i think we need to sit down and talk about developing reporting that will  show the risk in the books . at this point and time it can be derived , but  only if you know what to look for . i would appreciate if you had some time to  do so .  regards  bjorn h  john l nowlan  23 / 10 / 2000 13 : 10  to : christian lebroc / corp / enron @ enron , scott earnest / hou / ect @ ect , bjorn  hagelmann / hou / ect @ ect  cc :  subject : re : liquids limits oct . 20  looking at these numbers i think the var model must be waaaaaaaaaay over  calcing something , most likely the spreads . the net and outright product  position are negligible . seems it would take one hell of a daily move to  loose 12 . 7 on these positions .\"\n        ],\n        \"semantic_type\": \"\",\n        \"description\": \"\"\n      }\n    },\n    {\n      \"column\": \"spam\",\n      \"properties\": {\n        \"dtype\": \"number\",\n        \"std\": 0,\n        \"min\": 0,\n        \"max\": 1,\n        \"num_unique_values\": 2,\n        \"samples\": [\n          0,\n          1\n        ],\n        \"semantic_type\": \"\",\n        \"description\": \"\"\n      }\n    }\n  ]\n}"
            }
          },
          "metadata": {},
          "execution_count": 24
        }
      ]
    },
    {
      "cell_type": "code",
      "source": [
        "# preprocess data\n",
        "def process_email(text): # text is individual email record\n",
        "  text = text.lower()\n",
        "  return list(set(text.split())) # return list of unique words\n",
        "\n",
        "text = process_email(emails[\"text\"][0])\n",
        "len(text), text[:10]"
      ],
      "metadata": {
        "colab": {
          "base_uri": "https://localhost:8080/"
        },
        "id": "krLaAb7_WqmI",
        "outputId": "19c77c94-b300-4b5a-bd77-af4fd158f72a"
      },
      "execution_count": 13,
      "outputs": [
        {
          "output_type": "execute_result",
          "data": {
            "text/plain": [
              "(139,\n",
              " ['more',\n",
              "  'its',\n",
              "  'are',\n",
              "  'for',\n",
              "  'iogo',\n",
              "  'at',\n",
              "  'ciear',\n",
              "  'promptness',\n",
              "  'gaps',\n",
              "  'website'])"
            ]
          },
          "metadata": {},
          "execution_count": 13
        }
      ]
    },
    {
      "cell_type": "code",
      "source": [
        "# add another column in dataframe to store the list of unique words\n",
        "emails['words'] = emails['text'].apply(process_email)\n",
        "\n",
        "# finding the priors\n",
        "sum(emails['spam']) / len(emails)"
      ],
      "metadata": {
        "colab": {
          "base_uri": "https://localhost:8080/"
        },
        "id": "VtvlETLkXVo7",
        "outputId": "ed13117f-4e4d-49b7-ac3e-5c38865420ab"
      },
      "execution_count": 15,
      "outputs": [
        {
          "output_type": "execute_result",
          "data": {
            "text/plain": [
              "0.2388268156424581"
            ]
          },
          "metadata": {},
          "execution_count": 15
        }
      ]
    },
    {
      "cell_type": "code",
      "source": [
        "# finding the posteriors with Bayes' theorom\n",
        "# this is equivalent to training the model\n",
        "model = {} # stores spam and ham counts for each word\n",
        "for idx, email in emails.iterrows():\n",
        "  for word in email['words']:\n",
        "    if word not in model:\n",
        "      model[word] = {'spam':1, 'ham':1} # note, counts are init to 1 to avoid divid by 0\n",
        "    if email['spam']:\n",
        "      model[word]['spam'] += 1\n",
        "    else:\n",
        "      model[word]['ham'] += 1"
      ],
      "metadata": {
        "id": "bM5VXh5OYMsc"
      },
      "execution_count": 16,
      "outputs": []
    },
    {
      "cell_type": "code",
      "source": [
        "model['lottery'], model['sale'], model['click']"
      ],
      "metadata": {
        "colab": {
          "base_uri": "https://localhost:8080/"
        },
        "id": "whVB5HsYZcS0",
        "outputId": "ed9f72c1-db47-4686-e258-caffe65945fd"
      },
      "execution_count": 25,
      "outputs": [
        {
          "output_type": "execute_result",
          "data": {
            "text/plain": [
              "({'spam': 9, 'ham': 1}, {'spam': 39, 'ham': 42}, {'spam': 330, 'ham': 147})"
            ]
          },
          "metadata": {},
          "execution_count": 25
        }
      ]
    },
    {
      "cell_type": "code",
      "source": [
        "# P(spam | word)\n",
        "def predict_bayes(word):\n",
        "    word = word.lower()\n",
        "    num_spam_with_word = model[word]['spam']\n",
        "    num_ham_with_word = model[word]['ham']\n",
        "    return 1.0*num_spam_with_word/(num_spam_with_word + num_ham_with_word)"
      ],
      "metadata": {
        "id": "CLMUDt1k0yQR"
      },
      "execution_count": 29,
      "outputs": []
    },
    {
      "cell_type": "code",
      "source": [
        "predict_bayes('lottery'), predict_bayes('sale'), predict_bayes('him'), predict_bayes('her')"
      ],
      "metadata": {
        "colab": {
          "base_uri": "https://localhost:8080/"
        },
        "id": "Ct3d311_1EBC",
        "outputId": "3244a520-42a9-4063-fdc0-e652581b1db4"
      },
      "execution_count": 47,
      "outputs": [
        {
          "output_type": "execute_result",
          "data": {
            "text/plain": [
              "(0.9, 0.48148148148148145, 0.05699481865284974, 0.24107142857142858)"
            ]
          },
          "metadata": {},
          "execution_count": 47
        }
      ]
    },
    {
      "cell_type": "code",
      "source": [
        "def predict_naive_bayes(email):\n",
        "  total = len(emails)\n",
        "  num_spam = sum(emails['spam'])\n",
        "  num_ham = total - num_spam\n",
        "  words = process_email(email)\n",
        "  spams = [1.0]\n",
        "  hams = [1.0]\n",
        "  for word in words:\n",
        "    if word in model:\n",
        "      # calc P(word|spam) and P(word|ham)\n",
        "      spams.append(model[word]['spam']/num_spam ) #* total)\n",
        "      hams.append(model[word]['ham']/num_ham )#* total)\n",
        "\n",
        "  prod_spams = np.prod(spams) * num_spam / total # num_spam/total is P(spam)\n",
        "  prod_hams = np.prod(hams) * num_ham / total # num_ham/total is P(ham)\n",
        "\n",
        "  return prod_spams / (prod_spams + prod_hams)"
      ],
      "metadata": {
        "id": "sLrnv4LvaBtZ"
      },
      "execution_count": 53,
      "outputs": []
    },
    {
      "cell_type": "code",
      "source": [
        "# words that don't exist in the model gets the prior (sum(emails['spam']) / len(emails))\n",
        "predict_naive_bayes('蛇年大吉')"
      ],
      "metadata": {
        "colab": {
          "base_uri": "https://localhost:8080/"
        },
        "id": "WkqUEdniCAe3",
        "outputId": "6b3080bd-3c7c-49e3-991a-6c3ff02bab6e"
      },
      "execution_count": 64,
      "outputs": [
        {
          "output_type": "execute_result",
          "data": {
            "text/plain": [
              "0.2388268156424581"
            ]
          },
          "metadata": {},
          "execution_count": 64
        }
      ]
    },
    {
      "cell_type": "code",
      "source": [
        "predict_naive_bayes('great lottery opportunity, send me the money now')"
      ],
      "metadata": {
        "colab": {
          "base_uri": "https://localhost:8080/"
        },
        "id": "i_l26s3Ge1cL",
        "outputId": "e3c7186a-44f7-4942-e906-05f422a4b228"
      },
      "execution_count": 54,
      "outputs": [
        {
          "output_type": "execute_result",
          "data": {
            "text/plain": [
              "0.9722510815977699"
            ]
          },
          "metadata": {},
          "execution_count": 54
        }
      ]
    },
    {
      "cell_type": "code",
      "source": [
        "predict_naive_bayes('hi mum, how are you? I will be late tonight')"
      ],
      "metadata": {
        "colab": {
          "base_uri": "https://localhost:8080/"
        },
        "id": "XGDiCuiBACP2",
        "outputId": "27482aa7-7f87-447e-eeae-cc3c5a8e70c4"
      },
      "execution_count": 55,
      "outputs": [
        {
          "output_type": "execute_result",
          "data": {
            "text/plain": [
              "0.002394570947765674"
            ]
          },
          "metadata": {},
          "execution_count": 55
        }
      ]
    },
    {
      "cell_type": "code",
      "source": [
        "predict_naive_bayes('The LCD displays INFO. Can you please check if its working OK?')"
      ],
      "metadata": {
        "colab": {
          "base_uri": "https://localhost:8080/"
        },
        "id": "1PDTK0FbAR1R",
        "outputId": "badc518d-430c-4cc2-c32e-e50a7a2e0192"
      },
      "execution_count": 60,
      "outputs": [
        {
          "output_type": "execute_result",
          "data": {
            "text/plain": [
              "0.01959701915531569"
            ]
          },
          "metadata": {},
          "execution_count": 60
        }
      ]
    },
    {
      "cell_type": "code",
      "source": [
        "predict_naive_bayes(\"are your contact details up to date? To update your details, please call us on 132 022 or go to westpac.com.au\")"
      ],
      "metadata": {
        "colab": {
          "base_uri": "https://localhost:8080/"
        },
        "id": "3DUqkdNtBQYA",
        "outputId": "1b970aa4-6734-489d-d263-e4b4b34deb1f"
      },
      "execution_count": 63,
      "outputs": [
        {
          "output_type": "execute_result",
          "data": {
            "text/plain": [
              "0.07086513220150273"
            ]
          },
          "metadata": {},
          "execution_count": 63
        }
      ]
    },
    {
      "cell_type": "code",
      "source": [
        "msg=\"\"\"Join an instructor-led virtual hands-on lab on Wednesday, March 12 delivered live by our AI data experts. Discover how to govern data and apps across different sources and formats in Snowflake Horizon through a unified set of capabilities.\n",
        "\n",
        "Free Hands-on Lab\n",
        "\n",
        "Ask the Expert\n",
        "\n",
        "Live and Local\n",
        "\n",
        "Learning outcomes:\n",
        "•\tClassifying, tagging and applying granular policies to sensitive data\n",
        "•\tMonitoring data quality and visualising lineage\n",
        "•\tApplying data privacy features\n",
        "•\tDiscovering and securely sharing content\n",
        "\n",
        "Who should attend:\n",
        "Virtual Hands-On Labs sessions cater to individuals ranging from beginners to those with extensive experience in using Snowflake. This includes IT Managers, Data Architects, Engineers, Scientists, Administrators, and Developers.\n",
        "\n",
        "We look forward to engaging with you!\n",
        "\"\"\"\n",
        "predict_naive_bayes(msg)"
      ],
      "metadata": {
        "colab": {
          "base_uri": "https://localhost:8080/"
        },
        "id": "qjVJeC6-Ackh",
        "outputId": "0e0d86eb-9613-4c7e-d9a0-2d8660956700"
      },
      "execution_count": 59,
      "outputs": [
        {
          "output_type": "execute_result",
          "data": {
            "text/plain": [
              "0.9983483553452716"
            ]
          },
          "metadata": {},
          "execution_count": 59
        }
      ]
    },
    {
      "cell_type": "markdown",
      "source": [
        "# Decision Trees\n",
        "\n",
        "The simpliest decision tree is a *decision stump*, one root node and two leaves. It represents a single yes/no (binary) question.\n",
        "\n",
        "**depth**: number of branches on the longest path.\n",
        "\n",
        "Decision trees can be used for classification and regression. For regression, the leaf nodes have values.\n",
        "\n",
        "**sum rule for disjoint posibilities** if events E and F are disjoint (cannot occur at the same time), then the prob of either one of them happening (the union of events) is the sum of their probs:\n",
        "$$P(E \\cup F)=P(E)+P(F)\n",
        "$$\n"
      ],
      "metadata": {
        "id": "Srdegx_xCuKD"
      }
    },
    {
      "cell_type": "markdown",
      "source": [
        "## Gini Impurity Index\n",
        "**Gini Impurity Index** or *Gini index* measures how diverse is the dataset - the bigger the value, the more diverse; a pure set always has Gini index 0. In a set with $m$ elements and $n$ classes, with $a_i$ elements belonging to the $i$-th class, the Gini impurity index is\n",
        "$$Gini = 1-p_1^2-p_2^2\\ldots -p_n^2 \\text { , where } p_i=\\frac{a_i}{m}\n",
        "$$\n",
        "\n",
        "It can be interpreted as the prob of picking 2 balls of different colors = 1 - P(picking 2 balls of same color)"
      ],
      "metadata": {
        "id": "9qZ_K0m-m7nD"
      }
    },
    {
      "cell_type": "code",
      "source": [
        "# Gini example\n",
        "# set 1 has 8 red balls, two blue balls\n",
        "set1=['red']*8+['blue']*2\n",
        "m=8+2\n",
        "p_red = 8/10\n",
        "p_blue = 2/10\n",
        "gini = 1 - p_red**2 - p_blue**2\n",
        "gini"
      ],
      "metadata": {
        "colab": {
          "base_uri": "https://localhost:8080/"
        },
        "id": "hzCctU0xVcgP",
        "outputId": "4a8b06df-baee-47c9-e95f-5ac8ea5e6af7"
      },
      "execution_count": 23,
      "outputs": [
        {
          "output_type": "execute_result",
          "data": {
            "text/plain": [
              "0.31999999999999984"
            ]
          },
          "metadata": {},
          "execution_count": 23
        }
      ]
    },
    {
      "cell_type": "code",
      "source": [
        "# set 2 has 4 red, 3 blue, 2 yellow, 1 green\n",
        "set2 = ['red']*4 + ['blue']*3 + ['yellow']*2 + ['green']\n",
        "m = len(set2)\n",
        "p_red = 4/m\n",
        "p_blue = 3/m\n",
        "p_yellow = 2/m\n",
        "p_green = 1/m\n",
        "gini = 1-p_red**2 - p_blue**2 - p_yellow**2 - p_green**2\n",
        "gini"
      ],
      "metadata": {
        "colab": {
          "base_uri": "https://localhost:8080/"
        },
        "id": "GuG7EPLUWP2T",
        "outputId": "c1dde42b-7a4b-416a-96ee-1f612f859bc3"
      },
      "execution_count": 24,
      "outputs": [
        {
          "output_type": "execute_result",
          "data": {
            "text/plain": [
              "0.7"
            ]
          },
          "metadata": {},
          "execution_count": 24
        }
      ]
    },
    {
      "cell_type": "code",
      "source": [
        "# generalise it\n",
        "\n",
        "elements = ['A', 'A', 'A', 'C', 'B', 'C']\n",
        "# return list of count of each class\n",
        "def counts(elements):\n",
        "  element_counts = {}\n",
        "  for element in elements:\n",
        "    if element in element_counts:\n",
        "      element_counts[element] += 1\n",
        "    else:\n",
        "      element_counts[element] = 1\n",
        "\n",
        "  return list(element_counts.values())\n",
        "\n",
        "def gini(elements):\n",
        "  cnts = counts(elements)\n",
        "  total = sum(cnts)\n",
        "  gini = 1 - sum( [(c/total)**2 for c in cnts])\n",
        "  return gini\n"
      ],
      "metadata": {
        "id": "xtijenwFlBDW"
      },
      "execution_count": 26,
      "outputs": []
    },
    {
      "cell_type": "code",
      "source": [
        "gini(elements), gini(set1), gini(set2)"
      ],
      "metadata": {
        "colab": {
          "base_uri": "https://localhost:8080/"
        },
        "id": "0OmvmnC8ntMr",
        "outputId": "5c367245-adf0-4f14-99ea-dd323810e56c"
      },
      "execution_count": 27,
      "outputs": [
        {
          "output_type": "execute_result",
          "data": {
            "text/plain": [
              "(0.6111111111111112, 0.31999999999999984, 0.7)"
            ]
          },
          "metadata": {},
          "execution_count": 27
        }
      ]
    },
    {
      "cell_type": "markdown",
      "source": [
        "## Entropy\n",
        "another measure of diversity used in information theory. = means pure set; large entropy value means more diverse data.\n",
        "\n",
        "Imagine from set1 and set2 in above example, we blindly take out one marble from the set at a time and return it into the set, we do it 10 times:"
      ],
      "metadata": {
        "id": "tNA5XFzsmrUl"
      }
    },
    {
      "cell_type": "code",
      "source": [
        "num_attempts=10\n",
        "results=[]\n",
        "for _ in range(num_attempts):\n",
        "  results.append(set1[random.randint(0,num_attempts-1)])\n",
        "\n",
        "results.count('red'), results.count('blue'), results"
      ],
      "metadata": {
        "colab": {
          "base_uri": "https://localhost:8080/"
        },
        "id": "30KHdy2PnPRa",
        "outputId": "f6328647-c7b7-44f1-b120-efa9ac383a95"
      },
      "execution_count": 29,
      "outputs": [
        {
          "output_type": "execute_result",
          "data": {
            "text/plain": [
              "(9, 1, ['red', 'red', 'blue', 'red', 'red', 'red', 'red', 'red', 'red', 'red'])"
            ]
          },
          "metadata": {},
          "execution_count": 29
        }
      ]
    },
    {
      "cell_type": "markdown",
      "source": [
        "What is the probability of getting exact same sequence as the set1's definition, i.e. ['red']*8+['blue']*2, 8 reds followed by 2 blues?\n",
        "\n",
        "$P(r,r,r,r,r,r,r,r,b,b)=(8/10)^8\\times (2/10)^2$"
      ],
      "metadata": {
        "id": "iMcbGwMmpwz2"
      }
    },
    {
      "cell_type": "code",
      "source": [
        "(8/10)**8*(2/10)**2"
      ],
      "metadata": {
        "colab": {
          "base_uri": "https://localhost:8080/"
        },
        "id": "vzptcU8oqYzx",
        "outputId": "9becae23-be43-40a6-deba-4a91f5787918"
      },
      "execution_count": 31,
      "outputs": [
        {
          "output_type": "execute_result",
          "data": {
            "text/plain": [
              "0.006710886400000005"
            ]
          },
          "metadata": {},
          "execution_count": 31
        }
      ]
    },
    {
      "cell_type": "markdown",
      "source": [
        "same question for set2:\n",
        "\n",
        "$P(r,r,r,r,b,b,b,y,y,g)=(4/10)^4(3/10)^3(2/10)^2(1/10)$"
      ],
      "metadata": {
        "id": "3zc6QHmTqtSx"
      }
    },
    {
      "cell_type": "code",
      "source": [
        ".4**4 * .3**3 * .2**2 * .1"
      ],
      "metadata": {
        "colab": {
          "base_uri": "https://localhost:8080/"
        },
        "id": "44zN5dIIrAf1",
        "outputId": "578d6513-5ed2-4dcc-d95a-5d75695db705"
      },
      "execution_count": 33,
      "outputs": [
        {
          "output_type": "execute_result",
          "data": {
            "text/plain": [
              "2.7648000000000006e-06"
            ]
          },
          "metadata": {},
          "execution_count": 33
        }
      ]
    },
    {
      "cell_type": "markdown",
      "source": [
        "i.e. the more diverse the set, the more unlikely we can pick the original sequence of the set.\n",
        "\n",
        "When the dataset is really big, the prob is very small. So it's better to use log. e.g. 1e-15 becomes -15. But because decision trees use binary decisions, we will use log2, and we take negative of it (because most of these numbers are very small so their log is -, negating it makes it positive).\n",
        "\n",
        "Entropy:\n",
        "1. we start with calc prob of picking original sequence like above\n",
        "2. then we take log2, and normalise it (divice by total num of elements)\n",
        "3. negate it to make the output positive\n",
        "\n",
        "The bigger the entropy, the more diverse the data.\n",
        "\n",
        "**Entropy**: in a set of $m$ elements and $n$ classe, with $a_i$ elements belonging to the $i$-th class, the entropy is\n",
        "$$Entropy=-p_1\\log_2(p_1)-p_2\\log_2(p_2)\\ldots -p_i\\log_2(p_i) \\text{ , where } p_i=\\frac{a_i}{m}\n",
        "$$"
      ],
      "metadata": {
        "id": "7HVrXdv-rXGE"
      }
    },
    {
      "cell_type": "code",
      "source": [
        "# for set 1\n",
        "p_1=(8/10)**8*(2/10)**2\n",
        "e_1=-1/len(set1) * math.log2(p_1)\n",
        "# alternatively, mathimatically the same\n",
        "e1 = -8/10*math.log2(8/10) - 2/10 * math.log2(2/10)\n",
        "\n",
        "p_2 = .4**4 * .3**3 * .2**2 * .1\n",
        "e_2=-1/len(set2) * math.log2(p_2)\n",
        "\n",
        "print(e_1, e1, e_2)"
      ],
      "metadata": {
        "colab": {
          "base_uri": "https://localhost:8080/"
        },
        "id": "GZQ0IJUutAVt",
        "outputId": "aa2daff0-e8b5-47ac-88d3-1259e7696d27"
      },
      "execution_count": 29,
      "outputs": [
        {
          "output_type": "stream",
          "name": "stdout",
          "text": [
            "0.7219280948873623 0.7219280948873623 1.8464393446710154\n"
          ]
        }
      ]
    },
    {
      "cell_type": "code",
      "source": [
        "# generalise it\n",
        "def entropy(elements):\n",
        "  cnts = np.array(counts(elements))\n",
        "  total = sum(cnts)\n",
        "  calc_prob = lambda x: - x/total * np.log2(x/total)\n",
        "  entropy = calc_prob(np.array(cnts)).sum()\n",
        "  # entropy = sum([-p * math.log2(p) for p in p_elements])\n",
        "\n",
        "  return entropy"
      ],
      "metadata": {
        "id": "YnEyyy4Nn1KF"
      },
      "execution_count": 45,
      "outputs": []
    },
    {
      "cell_type": "code",
      "source": [
        "entropy(set1), entropy(set2)"
      ],
      "metadata": {
        "colab": {
          "base_uri": "https://localhost:8080/"
        },
        "id": "o_QFiiRPogNV",
        "outputId": "f3fde86a-eac6-49bc-b2fb-3278e090ac23"
      },
      "execution_count": 47,
      "outputs": [
        {
          "output_type": "execute_result",
          "data": {
            "text/plain": [
              "(0.7219280948873623, 1.8464393446710154)"
            ]
          },
          "metadata": {},
          "execution_count": 47
        }
      ]
    },
    {
      "cell_type": "markdown",
      "source": [
        "## weighted Gini Index, Entropy\n",
        "\n",
        "In above examples, all samples (data points) are taken from one set. If multiple sets are involved and each set has different sample sizes (number of data points), we can use the weighted Gini index and Entropy.\n",
        "\n",
        "Consider the following example:"
      ],
      "metadata": {
        "id": "3x57_2hFQLkl"
      }
    },
    {
      "cell_type": "code",
      "source": [
        "g = graphviz.Digraph(format='svg', graph_attr={'rankdir': 'TD'})\n",
        "g.node('O', 'set0: \\n4 x black, 4 x white')\n",
        "g.node('L', 'set1: \\n2 x black, 4 x white')\n",
        "g.node('R', 'set2: \\n2 x black')\n",
        "\n",
        "g.edge('O', 'L', label='Yes' )\n",
        "g.edge('O', 'R', label='No' )\n",
        "g"
      ],
      "metadata": {
        "colab": {
          "base_uri": "https://localhost:8080/",
          "height": 243
        },
        "id": "ye1mG344QiAe",
        "outputId": "48013b48-d44c-45a0-82c1-32c4091b8ecf"
      },
      "execution_count": 13,
      "outputs": [
        {
          "output_type": "execute_result",
          "data": {
            "image/svg+xml": "<?xml version=\"1.0\" encoding=\"UTF-8\" standalone=\"no\"?>\n<!DOCTYPE svg PUBLIC \"-//W3C//DTD SVG 1.1//EN\"\n \"http://www.w3.org/Graphics/SVG/1.1/DTD/svg11.dtd\">\n<!-- Generated by graphviz version 2.43.0 (0)\n -->\n<!-- Title: %3 Pages: 1 -->\n<svg width=\"298pt\" height=\"166pt\"\n viewBox=\"0.00 0.00 297.76 166.48\" xmlns=\"http://www.w3.org/2000/svg\" xmlns:xlink=\"http://www.w3.org/1999/xlink\">\n<g id=\"graph0\" class=\"graph\" transform=\"scale(1 1) rotate(0) translate(4 162.48)\">\n<title>%3</title>\n<polygon fill=\"white\" stroke=\"transparent\" points=\"-4,4 -4,-162.48 293.76,-162.48 293.76,4 -4,4\"/>\n<!-- O -->\n<g id=\"node1\" class=\"node\">\n<title>O</title>\n<ellipse fill=\"none\" stroke=\"black\" cx=\"165.39\" cy=\"-131.61\" rx=\"88.28\" ry=\"26.74\"/>\n<text text-anchor=\"middle\" x=\"165.39\" y=\"-135.41\" font-family=\"Times,serif\" font-size=\"14.00\">set0: </text>\n<text text-anchor=\"middle\" x=\"165.39\" y=\"-120.41\" font-family=\"Times,serif\" font-size=\"14.00\">4 x black, 4 x white</text>\n</g>\n<!-- L -->\n<g id=\"node2\" class=\"node\">\n<title>L</title>\n<ellipse fill=\"none\" stroke=\"black\" cx=\"88.39\" cy=\"-26.87\" rx=\"88.28\" ry=\"26.74\"/>\n<text text-anchor=\"middle\" x=\"88.39\" y=\"-30.67\" font-family=\"Times,serif\" font-size=\"14.00\">set1: </text>\n<text text-anchor=\"middle\" x=\"88.39\" y=\"-15.67\" font-family=\"Times,serif\" font-size=\"14.00\">2 x black, 4 x white</text>\n</g>\n<!-- O&#45;&gt;L -->\n<g id=\"edge1\" class=\"edge\">\n<title>O&#45;&gt;L</title>\n<path fill=\"none\" stroke=\"black\" d=\"M146.35,-105.21C136.45,-92 124.22,-75.68 113.54,-61.44\"/>\n<polygon fill=\"black\" stroke=\"black\" points=\"116.27,-59.23 107.47,-53.33 110.67,-63.43 116.27,-59.23\"/>\n<text text-anchor=\"middle\" x=\"142.89\" y=\"-75.54\" font-family=\"Times,serif\" font-size=\"14.00\">Yes</text>\n</g>\n<!-- R -->\n<g id=\"node3\" class=\"node\">\n<title>R</title>\n<ellipse fill=\"none\" stroke=\"black\" cx=\"242.39\" cy=\"-26.87\" rx=\"47.25\" ry=\"26.74\"/>\n<text text-anchor=\"middle\" x=\"242.39\" y=\"-30.67\" font-family=\"Times,serif\" font-size=\"14.00\">set2: </text>\n<text text-anchor=\"middle\" x=\"242.39\" y=\"-15.67\" font-family=\"Times,serif\" font-size=\"14.00\">2 x black</text>\n</g>\n<!-- O&#45;&gt;R -->\n<g id=\"edge2\" class=\"edge\">\n<title>O&#45;&gt;R</title>\n<path fill=\"none\" stroke=\"black\" d=\"M184.42,-105.21C194.62,-91.6 207.3,-74.69 218.19,-60.16\"/>\n<polygon fill=\"black\" stroke=\"black\" points=\"221.17,-62.02 224.37,-51.92 215.57,-57.82 221.17,-62.02\"/>\n<text text-anchor=\"middle\" x=\"216.89\" y=\"-75.54\" font-family=\"Times,serif\" font-size=\"14.00\">No</text>\n</g>\n</g>\n</svg>\n",
            "text/plain": [
              "<graphviz.graphs.Digraph at 0x7d2b06b1c090>"
            ]
          },
          "metadata": {},
          "execution_count": 13
        }
      ]
    },
    {
      "cell_type": "code",
      "source": [
        "set0 = ['black']*4 + ['white']*4\n",
        "set1 = ['black']*2 + ['white']*4\n",
        "set2 = ['black']*2\n",
        "# weighted average Gini index\n",
        "weighted_average_gini = (gini(set1) * len(set1) + gini(set2)*len(set2)) / len(set0)\n",
        "\n",
        "print(f\"Gini index for set1={gini(set1)}, for set2={gini(set2)}\")\n",
        "print(\"weighted average Gini index: \", weighted_average_gini)\n",
        "\n",
        "# weighted average Entropy:\n",
        "weighted_average_entropy = (entropy(set1) * len(set1) + entropy(set2) * len(set2))/len(set0)\n",
        "\n",
        "print(f\"Entropy for set1={entropy(set1)}, for set2={entropy(set2)}\")\n",
        "print(\"weighted average Entropy: \", weighted_average_entropy)"
      ],
      "metadata": {
        "colab": {
          "base_uri": "https://localhost:8080/"
        },
        "id": "wGt2zS3US8qw",
        "outputId": "3bd35741-e9dd-465c-e465-efeda44f8cd0"
      },
      "execution_count": 48,
      "outputs": [
        {
          "output_type": "stream",
          "name": "stdout",
          "text": [
            "Gini index for set1=0.4444444444444444, for set2=0.0\n",
            "weighted average Gini index:  0.3333333333333333\n",
            "Entropy for set1=0.9182958340544896, for set2=0.0\n",
            "weighted average Entropy:  0.6887218755408672\n"
          ]
        }
      ]
    },
    {
      "cell_type": "markdown",
      "source": [
        "## hyperparameters\n",
        "\n",
        "One hyperparameter for building the decision tree is when to stop, because the more we split the dataset and add to the tree nodes, the smaller the sample size for each node, which can cause overfitting. Some thresholds for this hyperparam can be:\n",
        "1. if the change in **accuracy, Gini index, Entropy** < some threshold\n",
        "2. don't split a node if its **sample size** < some threshold\n",
        "3. split a node only if resulting **child nodes sample sizes** > some threshold\n",
        "4. stop building the tree if its **depth** > some threshold\n",
        "\n",
        "The way to choose the hyperparam is either by experience or by running exhaustive search based on performance on validation set - this is called *grid search*."
      ],
      "metadata": {
        "id": "534A0DaQXabP"
      }
    },
    {
      "cell_type": "markdown",
      "source": [
        "## Decision Tree algorithm\n",
        "Basically building the tree (by splitting the node/samples until stopping condition is met by all leaf nodes.\n",
        "\n",
        "**Gini gain**: is the difference between weighted-average Gini index of leave nodes and the Gini index of their parent node. (parent - children)\n",
        "\n",
        "**Information gain**: is the difference between the weighted-averaged Entropy of leave nodes and the Entropy of their parent node. (parent - children)\n",
        "\n",
        "In the above example of set1, set2:"
      ],
      "metadata": {
        "id": "aq9KUDiSaJBD"
      }
    },
    {
      "cell_type": "code",
      "source": [
        "p_black0 = 4/8\n",
        "p_white0 = 4/8\n",
        "gini_set0 = 1- (4/8)**2 - (4/8)**2\n",
        "p_set0 = [p_black1, p_white1]\n",
        "gini_set0 = [-p**2 for p in p_set0]\n",
        "gini_set0 = 1 + sum(gini_set0)\n",
        "entropy_set0 = sum([-p * math.log2(p) for p in p_set0])\n",
        "\n",
        "gini_gain = gini_set0-weighted_average_gini\n",
        "info_gain = entropy_set0-weighted_average_entropy\n",
        "\n",
        "print(f\"set0 Gini index={gini_set0}, Gini gain={gini_gain}\")\n",
        "print(f\"set0 Entropy={entropy_set0}, Information gain={info_gain}\")"
      ],
      "metadata": {
        "colab": {
          "base_uri": "https://localhost:8080/"
        },
        "id": "lqGXp70rb9SX",
        "outputId": "5f6db238-ca2a-445f-fdf9-1d78efed353f"
      },
      "execution_count": 16,
      "outputs": [
        {
          "output_type": "stream",
          "name": "stdout",
          "text": [
            "set0 Gini index=0.4444444444444444, Gini gain=0.1111111111111111\n",
            "set0 Entropy=0.9182958340544896, Information gain=0.2295739585136224\n"
          ]
        }
      ]
    },
    {
      "cell_type": "code",
      "source": [
        "# to determine different ways of splitting the list and the best option\n",
        "elements = ['A', 'A', 'A', 'C', 'B', 'C']\n",
        "ginis = np.zeros(len(elements))\n",
        "for i in range(len(elements)):\n",
        "  left = elements[:i]\n",
        "  right = elements[i:]\n",
        "  weighted_average_gini = (gini(left) * len(left) + gini(right)*len(right))/len(elements)\n",
        "  weighted_average_entropy = (entropy(left)*len(left) + entropy(right)*len(right)) / len(elements)\n",
        "\n",
        "  print(f\"{left}, {right}\")\n",
        "  print(f\"weighted average Gini Impurity Index: {weighted_average_gini}\")\n",
        "  print(f\"weighted average Entropy            : {weighted_average_entropy}\")\n",
        "  print(\"\")\n",
        "\n",
        "  ginis[i] = weighted_average_gini\n",
        "\n",
        "idx = ginis.argmin()\n",
        "print(f\"best split: {elements[:idx]}, {elements[idx:]}\")"
      ],
      "metadata": {
        "id": "AlVrzrNS_5wO",
        "outputId": "a9b5bcd0-1d19-4a13-e669-2991bb7272d5",
        "colab": {
          "base_uri": "https://localhost:8080/"
        }
      },
      "execution_count": 52,
      "outputs": [
        {
          "output_type": "stream",
          "name": "stdout",
          "text": [
            "[], ['A', 'A', 'A', 'C', 'B', 'C']\n",
            "weighted average Gini Impurity Index: 0.6111111111111112\n",
            "weighted average Entropy            : 1.4591479170272448\n",
            "\n",
            "['A'], ['A', 'A', 'C', 'B', 'C']\n",
            "weighted average Gini Impurity Index: 0.5333333333333332\n",
            "weighted average Entropy            : 1.268273412406135\n",
            "\n",
            "['A', 'A'], ['A', 'C', 'B', 'C']\n",
            "weighted average Gini Impurity Index: 0.4166666666666667\n",
            "weighted average Entropy            : 1.0\n",
            "\n",
            "['A', 'A', 'A'], ['C', 'B', 'C']\n",
            "weighted average Gini Impurity Index: 0.2222222222222222\n",
            "weighted average Entropy            : 0.4591479170272448\n",
            "\n",
            "['A', 'A', 'A', 'C'], ['B', 'C']\n",
            "weighted average Gini Impurity Index: 0.4166666666666667\n",
            "weighted average Entropy            : 0.8741854163060886\n",
            "\n",
            "['A', 'A', 'A', 'C', 'B'], ['C']\n",
            "weighted average Gini Impurity Index: 0.4666666666666666\n",
            "weighted average Entropy            : 1.142458828712224\n",
            "\n",
            "best split: ['A', 'A', 'A'], ['C', 'B', 'C']\n"
          ]
        }
      ]
    },
    {
      "cell_type": "markdown",
      "source": [
        "## beyond binary splitting\n",
        "### one-hot encoding\n",
        "When dealing with multiple classes of a feature (e.g. which animal), we turn the question into binary features (is it a dog, is it a cat, etc.). To figure out which questions to ask first, we use the above methods (accuray, Gini index, Entropy). This process of turning non-binary catagorical feature into several binary features is called *one-hot encoding*.\n",
        "\n",
        "### Splitting data using continuous features\n",
        "such as age. We turn them into bands of values/thresholds. To choose which thresholds to use, we again use weighted accuracy/Gini index/Entropy (to maximise accuracy, minimise Gini index and Entropy)."
      ],
      "metadata": {
        "id": "8QWcRbSgeaX6"
      }
    },
    {
      "cell_type": "markdown",
      "source": [
        "## Graphical boundary of Decision Trees"
      ],
      "metadata": {
        "id": "08axAUIwDdlf"
      }
    },
    {
      "cell_type": "code",
      "source": [
        "dataset = pd.DataFrame({\n",
        "  'x_0':[7,3,2,1,2,4,1,8,6,7,8,9],\n",
        "  'x_1':[1,2,3,5,6,7,9,10,5,8,4,6],\n",
        "  'y': [0,0,0,0,0,0,1,1,1,1,1,1]\n",
        "})\n",
        "features = dataset[['x_0', 'x_1']]\n",
        "labels = dataset['y']\n",
        "\n",
        "# plt.scatter(features['x_0'][:6], features['x_1'][:6], color='red', edgecolor='k', marker='s')\n",
        "# plt.scatter(features['x_0'][6:], features['x_1'][6:], color='cyan', edgecolor='k', marker='^')\n",
        "# plt.legend(['y=0', 'y=1'])\n"
      ],
      "metadata": {
        "id": "I3zgnDAVEL9H"
      },
      "execution_count": 83,
      "outputs": []
    },
    {
      "cell_type": "code",
      "source": [
        "plot_points(features, labels)\n",
        "plt.legend(['y=1', 'y=0'])"
      ],
      "metadata": {
        "id": "gBi2uJSYRlN9",
        "outputId": "d70b09f0-76a6-4ba8-c8b5-968943eac3ad",
        "colab": {
          "base_uri": "https://localhost:8080/",
          "height": 447
        }
      },
      "execution_count": 84,
      "outputs": [
        {
          "output_type": "execute_result",
          "data": {
            "text/plain": [
              "<matplotlib.legend.Legend at 0x7d2afbbea050>"
            ]
          },
          "metadata": {},
          "execution_count": 84
        },
        {
          "output_type": "display_data",
          "data": {
            "text/plain": [
              "<Figure size 640x480 with 1 Axes>"
            ],
            "image/png": "[encoded data removed]"
          },
          "metadata": {}
        }
      ]
    },
    {
      "cell_type": "code",
      "source": [
        "model = DecisionTreeClassifier() # default is using Gini\n",
        "# model = DecisionTreeClassifier(criterion='entropy')\n",
        "\n",
        "model.fit(features, labels)\n",
        "print(\"model score: \", model.score(features, labels))\n",
        "\n",
        "dot_data = export_graphviz(model, feature_names=['x_0', 'x_1'],\n",
        "                           filled=True, rounded=True, special_characters=True)\n",
        "g = graphviz.Source(dot_data)\n",
        "g"
      ],
      "metadata": {
        "id": "i29Sk9QkOPC2",
        "outputId": "52f72d7d-5169-493e-9e13-3d6b6a70ec1d",
        "colab": {
          "base_uri": "https://localhost:8080/",
          "height": 397
        }
      },
      "execution_count": 213,
      "outputs": [
        {
          "output_type": "stream",
          "name": "stdout",
          "text": [
            "model score:  1.0\n"
          ]
        },
        {
          "output_type": "execute_result",
          "data": {
            "image/svg+xml": "<?xml version=\"1.0\" encoding=\"UTF-8\" standalone=\"no\"?>\n<!DOCTYPE svg PUBLIC \"-//W3C//DTD SVG 1.1//EN\"\n \"http://www.w3.org/Graphics/SVG/1.1/DTD/svg11.dtd\">\n<!-- Generated by graphviz version 2.43.0 (0)\n -->\n<!-- Title: Tree Pages: 1 -->\n<svg width=\"442pt\" height=\"269pt\"\n viewBox=\"0.00 0.00 442.00 269.00\" xmlns=\"http://www.w3.org/2000/svg\" xmlns:xlink=\"http://www.w3.org/1999/xlink\">\n<g id=\"graph0\" class=\"graph\" transform=\"scale(1 1) rotate(0) translate(4 265)\">\n<title>Tree</title>\n<polygon fill=\"white\" stroke=\"transparent\" points=\"-4,4 -4,-265 438,-265 438,4 -4,4\"/>\n<!-- 0 -->\n<g id=\"node1\" class=\"node\">\n<title>0</title>\n<path fill=\"#ffffff\" stroke=\"black\" d=\"M253.5,-261C253.5,-261 179.5,-261 179.5,-261 173.5,-261 167.5,-255 167.5,-249 167.5,-249 167.5,-205 167.5,-205 167.5,-199 173.5,-193 179.5,-193 179.5,-193 253.5,-193 253.5,-193 259.5,-193 265.5,-199 265.5,-205 265.5,-205 265.5,-249 265.5,-249 265.5,-255 259.5,-261 253.5,-261\"/>\n<text text-anchor=\"start\" x=\"188.5\" y=\"-245.8\" font-family=\"Helvetica,sans-Serif\" font-size=\"14.00\">x_0 ≤ 5.0</text>\n<text text-anchor=\"start\" x=\"188.5\" y=\"-230.8\" font-family=\"Helvetica,sans-Serif\" font-size=\"14.00\">gini = 0.5</text>\n<text text-anchor=\"start\" x=\"175.5\" y=\"-215.8\" font-family=\"Helvetica,sans-Serif\" font-size=\"14.00\">samples = 12</text>\n<text text-anchor=\"start\" x=\"177\" y=\"-200.8\" font-family=\"Helvetica,sans-Serif\" font-size=\"14.00\">value = [6, 6]</text>\n</g>\n<!-- 1 -->\n<g id=\"node2\" class=\"node\">\n<title>1</title>\n<path fill=\"#ea9a61\" stroke=\"black\" d=\"M196,-157C196,-157 125,-157 125,-157 119,-157 113,-151 113,-145 113,-145 113,-101 113,-101 113,-95 119,-89 125,-89 125,-89 196,-89 196,-89 202,-89 208,-95 208,-101 208,-101 208,-145 208,-145 208,-151 202,-157 196,-157\"/>\n<text text-anchor=\"start\" x=\"132.5\" y=\"-141.8\" font-family=\"Helvetica,sans-Serif\" font-size=\"14.00\">x_1 ≤ 8.0</text>\n<text text-anchor=\"start\" x=\"125\" y=\"-126.8\" font-family=\"Helvetica,sans-Serif\" font-size=\"14.00\">gini = 0.278</text>\n<text text-anchor=\"start\" x=\"123\" y=\"-111.8\" font-family=\"Helvetica,sans-Serif\" font-size=\"14.00\">samples = 6</text>\n<text text-anchor=\"start\" x=\"121\" y=\"-96.8\" font-family=\"Helvetica,sans-Serif\" font-size=\"14.00\">value = [5, 1]</text>\n</g>\n<!-- 0&#45;&gt;1 -->\n<g id=\"edge1\" class=\"edge\">\n<title>0&#45;&gt;1</title>\n<path fill=\"none\" stroke=\"black\" d=\"M198.32,-192.88C193.62,-184.33 188.51,-175.01 183.6,-166.07\"/>\n<polygon fill=\"black\" stroke=\"black\" points=\"186.66,-164.38 178.78,-157.3 180.53,-167.75 186.66,-164.38\"/>\n<text text-anchor=\"middle\" x=\"171.79\" y=\"-177.6\" font-family=\"Helvetica,sans-Serif\" font-size=\"14.00\">True</text>\n</g>\n<!-- 4 -->\n<g id=\"node5\" class=\"node\">\n<title>4</title>\n<path fill=\"#61b1ea\" stroke=\"black\" d=\"M309,-157C309,-157 238,-157 238,-157 232,-157 226,-151 226,-145 226,-145 226,-101 226,-101 226,-95 232,-89 238,-89 238,-89 309,-89 309,-89 315,-89 321,-95 321,-101 321,-101 321,-145 321,-145 321,-151 315,-157 309,-157\"/>\n<text text-anchor=\"start\" x=\"245.5\" y=\"-141.8\" font-family=\"Helvetica,sans-Serif\" font-size=\"14.00\">x_1 ≤ 2.5</text>\n<text text-anchor=\"start\" x=\"238\" y=\"-126.8\" font-family=\"Helvetica,sans-Serif\" font-size=\"14.00\">gini = 0.278</text>\n<text text-anchor=\"start\" x=\"236\" y=\"-111.8\" font-family=\"Helvetica,sans-Serif\" font-size=\"14.00\">samples = 6</text>\n<text text-anchor=\"start\" x=\"234\" y=\"-96.8\" font-family=\"Helvetica,sans-Serif\" font-size=\"14.00\">value = [1, 5]</text>\n</g>\n<!-- 0&#45;&gt;4 -->\n<g id=\"edge4\" class=\"edge\">\n<title>0&#45;&gt;4</title>\n<path fill=\"none\" stroke=\"black\" d=\"M235.01,-192.88C239.78,-184.33 244.99,-175.01 249.99,-166.07\"/>\n<polygon fill=\"black\" stroke=\"black\" points=\"253.07,-167.74 254.89,-157.3 246.96,-164.32 253.07,-167.74\"/>\n<text text-anchor=\"middle\" x=\"261.7\" y=\"-177.65\" font-family=\"Helvetica,sans-Serif\" font-size=\"14.00\">False</text>\n</g>\n<!-- 2 -->\n<g id=\"node3\" class=\"node\">\n<title>2</title>\n<path fill=\"#e58139\" stroke=\"black\" d=\"M83,-53C83,-53 12,-53 12,-53 6,-53 0,-47 0,-41 0,-41 0,-12 0,-12 0,-6 6,0 12,0 12,0 83,0 83,0 89,0 95,-6 95,-12 95,-12 95,-41 95,-41 95,-47 89,-53 83,-53\"/>\n<text text-anchor=\"start\" x=\"19.5\" y=\"-37.8\" font-family=\"Helvetica,sans-Serif\" font-size=\"14.00\">gini = 0.0</text>\n<text text-anchor=\"start\" x=\"10\" y=\"-22.8\" font-family=\"Helvetica,sans-Serif\" font-size=\"14.00\">samples = 5</text>\n<text text-anchor=\"start\" x=\"8\" y=\"-7.8\" font-family=\"Helvetica,sans-Serif\" font-size=\"14.00\">value = [5, 0]</text>\n</g>\n<!-- 1&#45;&gt;2 -->\n<g id=\"edge2\" class=\"edge\">\n<title>1&#45;&gt;2</title>\n<path fill=\"none\" stroke=\"black\" d=\"M120.98,-88.95C109.71,-79.53 97.45,-69.27 86.23,-59.89\"/>\n<polygon fill=\"black\" stroke=\"black\" points=\"88.19,-56.97 78.28,-53.24 83.7,-62.34 88.19,-56.97\"/>\n</g>\n<!-- 3 -->\n<g id=\"node4\" class=\"node\">\n<title>3</title>\n<path fill=\"#399de5\" stroke=\"black\" d=\"M196,-53C196,-53 125,-53 125,-53 119,-53 113,-47 113,-41 113,-41 113,-12 113,-12 113,-6 119,0 125,0 125,0 196,0 196,0 202,0 208,-6 208,-12 208,-12 208,-41 208,-41 208,-47 202,-53 196,-53\"/>\n<text text-anchor=\"start\" x=\"132.5\" y=\"-37.8\" font-family=\"Helvetica,sans-Serif\" font-size=\"14.00\">gini = 0.0</text>\n<text text-anchor=\"start\" x=\"123\" y=\"-22.8\" font-family=\"Helvetica,sans-Serif\" font-size=\"14.00\">samples = 1</text>\n<text text-anchor=\"start\" x=\"121\" y=\"-7.8\" font-family=\"Helvetica,sans-Serif\" font-size=\"14.00\">value = [0, 1]</text>\n</g>\n<!-- 1&#45;&gt;3 -->\n<g id=\"edge3\" class=\"edge\">\n<title>1&#45;&gt;3</title>\n<path fill=\"none\" stroke=\"black\" d=\"M160.5,-88.95C160.5,-80.72 160.5,-71.85 160.5,-63.48\"/>\n<polygon fill=\"black\" stroke=\"black\" points=\"164,-63.24 160.5,-53.24 157,-63.24 164,-63.24\"/>\n</g>\n<!-- 5 -->\n<g id=\"node6\" class=\"node\">\n<title>5</title>\n<path fill=\"#e58139\" stroke=\"black\" d=\"M309,-53C309,-53 238,-53 238,-53 232,-53 226,-47 226,-41 226,-41 226,-12 226,-12 226,-6 232,0 238,0 238,0 309,0 309,0 315,0 321,-6 321,-12 321,-12 321,-41 321,-41 321,-47 315,-53 309,-53\"/>\n<text text-anchor=\"start\" x=\"245.5\" y=\"-37.8\" font-family=\"Helvetica,sans-Serif\" font-size=\"14.00\">gini = 0.0</text>\n<text text-anchor=\"start\" x=\"236\" y=\"-22.8\" font-family=\"Helvetica,sans-Serif\" font-size=\"14.00\">samples = 1</text>\n<text text-anchor=\"start\" x=\"234\" y=\"-7.8\" font-family=\"Helvetica,sans-Serif\" font-size=\"14.00\">value = [1, 0]</text>\n</g>\n<!-- 4&#45;&gt;5 -->\n<g id=\"edge5\" class=\"edge\">\n<title>4&#45;&gt;5</title>\n<path fill=\"none\" stroke=\"black\" d=\"M273.5,-88.95C273.5,-80.72 273.5,-71.85 273.5,-63.48\"/>\n<polygon fill=\"black\" stroke=\"black\" points=\"277,-63.24 273.5,-53.24 270,-63.24 277,-63.24\"/>\n</g>\n<!-- 6 -->\n<g id=\"node7\" class=\"node\">\n<title>6</title>\n<path fill=\"#399de5\" stroke=\"black\" d=\"M422,-53C422,-53 351,-53 351,-53 345,-53 339,-47 339,-41 339,-41 339,-12 339,-12 339,-6 345,0 351,0 351,0 422,0 422,0 428,0 434,-6 434,-12 434,-12 434,-41 434,-41 434,-47 428,-53 422,-53\"/>\n<text text-anchor=\"start\" x=\"358.5\" y=\"-37.8\" font-family=\"Helvetica,sans-Serif\" font-size=\"14.00\">gini = 0.0</text>\n<text text-anchor=\"start\" x=\"349\" y=\"-22.8\" font-family=\"Helvetica,sans-Serif\" font-size=\"14.00\">samples = 5</text>\n<text text-anchor=\"start\" x=\"347\" y=\"-7.8\" font-family=\"Helvetica,sans-Serif\" font-size=\"14.00\">value = [0, 5]</text>\n</g>\n<!-- 4&#45;&gt;6 -->\n<g id=\"edge6\" class=\"edge\">\n<title>4&#45;&gt;6</title>\n<path fill=\"none\" stroke=\"black\" d=\"M313.02,-88.95C324.29,-79.53 336.55,-69.27 347.77,-59.89\"/>\n<polygon fill=\"black\" stroke=\"black\" points=\"350.3,-62.34 355.72,-53.24 345.81,-56.97 350.3,-62.34\"/>\n</g>\n</g>\n</svg>\n",
            "text/plain": [
              "<graphviz.sources.Source at 0x7d2af939fd10>"
            ]
          },
          "metadata": {},
          "execution_count": 213
        }
      ]
    },
    {
      "cell_type": "code",
      "source": [
        "# plot_model(features, labels, model)\n",
        "plot_step = .5\n",
        "X = np.array(features)\n",
        "y = np.array(labels)\n",
        "x_min, x_max = X[:, 0].min() - 1, X[:, 0].max() + 1\n",
        "y_min, y_max = X[:, 1].min() - 1, X[:, 1].max() + 1\n",
        "xx, yy = np.meshgrid(np.arange(x_min, x_max, plot_step),\n",
        "                      np.arange(y_min, y_max, plot_step))\n",
        "Z = model.predict(np.c_[xx.ravel(), yy.ravel()]) # ravel is similar to flatten() it's a view\n",
        "Z = Z.reshape(xx.shape)\n",
        "plt.contourf(xx, yy, Z, colors=['red', 'blue'], alpha=0.2, levels=[float('-inf'), 0.1, float('inf')])\n",
        "plt.contour(xx, yy, Z,colors = 'k',linewidths = 1, levels=0)\n",
        "plot_points(X, y)\n",
        "plt.show()"
      ],
      "metadata": {
        "id": "d9IGCVDrRMBE",
        "outputId": "26370f60-bb41-4acd-e733-ccb15c3a42c0",
        "colab": {
          "base_uri": "https://localhost:8080/",
          "height": 485
        }
      },
      "execution_count": 197,
      "outputs": [
        {
          "output_type": "stream",
          "name": "stderr",
          "text": [
            "/usr/local/lib/python3.11/dist-packages/sklearn/utils/validation.py:2739: UserWarning: X does not have valid feature names, but DecisionTreeClassifier was fitted with feature names\n",
            "  warnings.warn(\n"
          ]
        },
        {
          "output_type": "display_data",
          "data": {
            "text/plain": [
              "<Figure size 640x480 with 1 Axes>"
            ],
            "image/png": "[encoded data removed]"
          },
          "metadata": {}
        }
      ]
    },
    {
      "cell_type": "markdown",
      "source": [
        "The above contour plot matches the tree diagram:\n",
        "* vertical line is x_0=5\n",
        "* top horizonal line is x_1=8\n",
        "* bottom horizontal line is x_1=2.5"
      ],
      "metadata": {
        "id": "5knRJXliiNK6"
      }
    },
    {
      "cell_type": "code",
      "source": [
        "model.predict([[5.5,2.5]])"
      ],
      "metadata": {
        "id": "sz-lg1ZNguq7",
        "outputId": "645cf4be-977b-43b2-f56d-d2905769b6d3",
        "colab": {
          "base_uri": "https://localhost:8080/"
        }
      },
      "execution_count": 208,
      "outputs": [
        {
          "output_type": "stream",
          "name": "stderr",
          "text": [
            "/usr/local/lib/python3.11/dist-packages/sklearn/utils/validation.py:2739: UserWarning: X does not have valid feature names, but DecisionTreeClassifier was fitted with feature names\n",
            "  warnings.warn(\n"
          ]
        },
        {
          "output_type": "execute_result",
          "data": {
            "text/plain": [
              "array([0])"
            ]
          },
          "metadata": {},
          "execution_count": 208
        }
      ]
    },
    {
      "cell_type": "code",
      "source": [
        "Z, Z.shape"
      ],
      "metadata": {
        "id": "Awmy_byWXUHt",
        "outputId": "a5da3aaa-d09c-4098-f84f-de288e4ae1b7",
        "colab": {
          "base_uri": "https://localhost:8080/"
        }
      },
      "execution_count": 126,
      "outputs": [
        {
          "output_type": "execute_result",
          "data": {
            "text/plain": [
              "(array([[0, 0, 0, 0, 0, 0, 0, 0, 0, 0],\n",
              "        [0, 0, 0, 0, 0, 0, 0, 0, 0, 0],\n",
              "        [0, 0, 0, 0, 0, 0, 0, 0, 0, 0],\n",
              "        [0, 0, 0, 0, 0, 0, 1, 1, 1, 1],\n",
              "        [0, 0, 0, 0, 0, 0, 1, 1, 1, 1],\n",
              "        [0, 0, 0, 0, 0, 0, 1, 1, 1, 1],\n",
              "        [0, 0, 0, 0, 0, 0, 1, 1, 1, 1],\n",
              "        [0, 0, 0, 0, 0, 0, 1, 1, 1, 1],\n",
              "        [0, 0, 0, 0, 0, 0, 1, 1, 1, 1],\n",
              "        [1, 1, 1, 1, 1, 1, 1, 1, 1, 1],\n",
              "        [1, 1, 1, 1, 1, 1, 1, 1, 1, 1]]),\n",
              " (11, 10))"
            ]
          },
          "metadata": {},
          "execution_count": 126
        }
      ]
    },
    {
      "cell_type": "code",
      "source": [
        "# building decision tree of depth 1\n",
        "decision_tree_depth_1 = DecisionTreeClassifier(max_depth=1)\n",
        "decision_tree_depth_1.fit(features, labels)\n",
        "decision_tree_depth_1.score(features, labels)\n",
        "plot_model(features, labels, decision_tree_depth_1)"
      ],
      "metadata": {
        "id": "IF9I2YBNjBwt",
        "outputId": "ddc83ef2-0185-4d47-f763-b6b8ee26c4c0",
        "colab": {
          "base_uri": "https://localhost:8080/",
          "height": 485
        }
      },
      "execution_count": 210,
      "outputs": [
        {
          "output_type": "stream",
          "name": "stderr",
          "text": [
            "/usr/local/lib/python3.11/dist-packages/sklearn/utils/validation.py:2739: UserWarning: X does not have valid feature names, but DecisionTreeClassifier was fitted with feature names\n",
            "  warnings.warn(\n"
          ]
        },
        {
          "output_type": "display_data",
          "data": {
            "text/plain": [
              "<Figure size 640x480 with 1 Axes>"
            ],
            "image/png": "[encoded data removed]"
          },
          "metadata": {}
        }
      ]
    },
    {
      "cell_type": "code",
      "source": [
        "dot_data = export_graphviz(decision_tree_depth_1, feature_names=['x_0', 'x_1'],\n",
        "                           filled=True, rounded=True, special_characters=True)\n",
        "g = graphviz.Source(dot_data)\n",
        "g"
      ],
      "metadata": {
        "id": "hCfsqdPpjN7Y",
        "outputId": "4df7faf0-ddf2-43d5-e091-c61ff011d70b",
        "colab": {
          "base_uri": "https://localhost:8080/",
          "height": 241
        }
      },
      "execution_count": 212,
      "outputs": [
        {
          "output_type": "execute_result",
          "data": {
            "image/svg+xml": "<?xml version=\"1.0\" encoding=\"UTF-8\" standalone=\"no\"?>\n<!DOCTYPE svg PUBLIC \"-//W3C//DTD SVG 1.1//EN\"\n \"http://www.w3.org/Graphics/SVG/1.1/DTD/svg11.dtd\">\n<!-- Generated by graphviz version 2.43.0 (0)\n -->\n<!-- Title: Tree Pages: 1 -->\n<svg width=\"216pt\" height=\"165pt\"\n viewBox=\"0.00 0.00 216.00 165.00\" xmlns=\"http://www.w3.org/2000/svg\" xmlns:xlink=\"http://www.w3.org/1999/xlink\">\n<g id=\"graph0\" class=\"graph\" transform=\"scale(1 1) rotate(0) translate(4 161)\">\n<title>Tree</title>\n<polygon fill=\"white\" stroke=\"transparent\" points=\"-4,4 -4,-161 212,-161 212,4 -4,4\"/>\n<!-- 0 -->\n<g id=\"node1\" class=\"node\">\n<title>0</title>\n<path fill=\"#ffffff\" stroke=\"black\" d=\"M140.5,-157C140.5,-157 66.5,-157 66.5,-157 60.5,-157 54.5,-151 54.5,-145 54.5,-145 54.5,-101 54.5,-101 54.5,-95 60.5,-89 66.5,-89 66.5,-89 140.5,-89 140.5,-89 146.5,-89 152.5,-95 152.5,-101 152.5,-101 152.5,-145 152.5,-145 152.5,-151 146.5,-157 140.5,-157\"/>\n<text text-anchor=\"start\" x=\"75.5\" y=\"-141.8\" font-family=\"Helvetica,sans-Serif\" font-size=\"14.00\">x_0 ≤ 5.0</text>\n<text text-anchor=\"start\" x=\"75.5\" y=\"-126.8\" font-family=\"Helvetica,sans-Serif\" font-size=\"14.00\">gini = 0.5</text>\n<text text-anchor=\"start\" x=\"62.5\" y=\"-111.8\" font-family=\"Helvetica,sans-Serif\" font-size=\"14.00\">samples = 12</text>\n<text text-anchor=\"start\" x=\"64\" y=\"-96.8\" font-family=\"Helvetica,sans-Serif\" font-size=\"14.00\">value = [6, 6]</text>\n</g>\n<!-- 1 -->\n<g id=\"node2\" class=\"node\">\n<title>1</title>\n<path fill=\"#ea9a61\" stroke=\"black\" d=\"M83,-53C83,-53 12,-53 12,-53 6,-53 0,-47 0,-41 0,-41 0,-12 0,-12 0,-6 6,0 12,0 12,0 83,0 83,0 89,0 95,-6 95,-12 95,-12 95,-41 95,-41 95,-47 89,-53 83,-53\"/>\n<text text-anchor=\"start\" x=\"12\" y=\"-37.8\" font-family=\"Helvetica,sans-Serif\" font-size=\"14.00\">gini = 0.278</text>\n<text text-anchor=\"start\" x=\"10\" y=\"-22.8\" font-family=\"Helvetica,sans-Serif\" font-size=\"14.00\">samples = 6</text>\n<text text-anchor=\"start\" x=\"8\" y=\"-7.8\" font-family=\"Helvetica,sans-Serif\" font-size=\"14.00\">value = [5, 1]</text>\n</g>\n<!-- 0&#45;&gt;1 -->\n<g id=\"edge1\" class=\"edge\">\n<title>0&#45;&gt;1</title>\n<path fill=\"none\" stroke=\"black\" d=\"M83.91,-88.95C78.76,-80.26 73.2,-70.86 68,-62.09\"/>\n<polygon fill=\"black\" stroke=\"black\" points=\"70.86,-60.06 62.75,-53.24 64.84,-63.62 70.86,-60.06\"/>\n<text text-anchor=\"middle\" x=\"56.56\" y=\"-73.76\" font-family=\"Helvetica,sans-Serif\" font-size=\"14.00\">True</text>\n</g>\n<!-- 2 -->\n<g id=\"node3\" class=\"node\">\n<title>2</title>\n<path fill=\"#61b1ea\" stroke=\"black\" d=\"M196,-53C196,-53 125,-53 125,-53 119,-53 113,-47 113,-41 113,-41 113,-12 113,-12 113,-6 119,0 125,0 125,0 196,0 196,0 202,0 208,-6 208,-12 208,-12 208,-41 208,-41 208,-47 202,-53 196,-53\"/>\n<text text-anchor=\"start\" x=\"125\" y=\"-37.8\" font-family=\"Helvetica,sans-Serif\" font-size=\"14.00\">gini = 0.278</text>\n<text text-anchor=\"start\" x=\"123\" y=\"-22.8\" font-family=\"Helvetica,sans-Serif\" font-size=\"14.00\">samples = 6</text>\n<text text-anchor=\"start\" x=\"121\" y=\"-7.8\" font-family=\"Helvetica,sans-Serif\" font-size=\"14.00\">value = [1, 5]</text>\n</g>\n<!-- 0&#45;&gt;2 -->\n<g id=\"edge2\" class=\"edge\">\n<title>0&#45;&gt;2</title>\n<path fill=\"none\" stroke=\"black\" d=\"M123.44,-88.95C128.73,-80.17 134.47,-70.66 139.8,-61.82\"/>\n<polygon fill=\"black\" stroke=\"black\" points=\"142.81,-63.61 144.98,-53.24 136.81,-59.99 142.81,-63.61\"/>\n<text text-anchor=\"middle\" x=\"150.98\" y=\"-73.8\" font-family=\"Helvetica,sans-Serif\" font-size=\"14.00\">False</text>\n</g>\n</g>\n</svg>\n",
            "text/plain": [
              "<graphviz.sources.Source at 0x7d2afbbeaf10>"
            ]
          },
          "metadata": {},
          "execution_count": 212
        }
      ]
    },
    {
      "cell_type": "markdown",
      "source": [
        "## Example - model student admin\n",
        "\n",
        "dataset features:\n",
        "* GRE score: a number out of 340\n",
        "* TOFEL score: a number out of 120\n",
        "* Uni rating: a number from 1 to 5\n",
        "* SOP: a number from 1 to 5\n",
        "* CGPA: a number from 1 to 10\n",
        "* LOR: a number from 1 to 5\n",
        "* Research experience: boolean (0 or 1)"
      ],
      "metadata": {
        "id": "3xat7Zylizap"
      }
    },
    {
      "cell_type": "code",
      "source": [
        "!rm -f data/Admission_Predict.csv\n",
        "!wget -nv -P data https://raw.githubusercontent.com/luisguiserrano/manning/master/Chapter_09_Decision_Trees/Admission_Predict.csv\n",
        "!ls -al data\n",
        "!wc -l data/Admission_Predict.csv"
      ],
      "metadata": {
        "id": "jcCWC33AkMwu",
        "outputId": "fd4bc6ac-78ca-450e-ce15-a3f434c1479d",
        "colab": {
          "base_uri": "https://localhost:8080/"
        }
      },
      "execution_count": 214,
      "outputs": [
        {
          "output_type": "stream",
          "name": "stdout",
          "text": [
            "2025-02-26 04:44:06 URL:https://raw.githubusercontent.com/luisguiserrano/manning/master/Chapter_09_Decision_Trees/Admission_Predict.csv [12501/12501] -> \"data/Admission_Predict.csv\" [1]\n",
            "total 24\n",
            "drwxr-xr-x 2 root root  4096 Feb 26 04:44 .\n",
            "drwxr-xr-x 1 root root  4096 Feb 26 04:44 ..\n",
            "-rw-r--r-- 1 root root 12501 Feb 26 04:44 Admission_Predict.csv\n",
            "400 data/Admission_Predict.csv\n"
          ]
        }
      ]
    },
    {
      "cell_type": "code",
      "source": [
        "data = pd.read_csv('data/Admission_Predict.csv')\n",
        "# replace a column\n",
        "data['Admitted'] = data['Chance of Admit'] >= 0.75\n",
        "data = data.drop(['Chance of Admit'], axis=1)\n",
        "data"
      ],
      "metadata": {
        "id": "Wlq0CnbAk9m9",
        "outputId": "8017b569-e1b8-405d-bcb9-72bf78c13012",
        "colab": {
          "base_uri": "https://localhost:8080/",
          "height": 424
        }
      },
      "execution_count": 217,
      "outputs": [
        {
          "output_type": "execute_result",
          "data": {
            "text/plain": [
              "     Serial No.  GRE Score  TOEFL Score  University Rating  SOP  LOR  CGPA  \\\n",
              "0             1        337          118                  4  4.5  4.5  9.65   \n",
              "1             2        324          107                  4  4.0  4.5  8.87   \n",
              "2             3        316          104                  3  3.0  3.5  8.00   \n",
              "3             4        322          110                  3  3.5  2.5  8.67   \n",
              "4             5        314          103                  2  2.0  3.0  8.21   \n",
              "..          ...        ...          ...                ...  ...  ...   ...   \n",
              "395         396        324          110                  3  3.5  3.5  9.04   \n",
              "396         397        325          107                  3  3.0  3.5  9.11   \n",
              "397         398        330          116                  4  5.0  4.5  9.45   \n",
              "398         399        312          103                  3  3.5  4.0  8.78   \n",
              "399         400        333          117                  4  5.0  4.0  9.66   \n",
              "\n",
              "     Research  Admitted  \n",
              "0           1      True  \n",
              "1           1      True  \n",
              "2           1     False  \n",
              "3           1      True  \n",
              "4           0     False  \n",
              "..        ...       ...  \n",
              "395         1      True  \n",
              "396         1      True  \n",
              "397         1      True  \n",
              "398         0     False  \n",
              "399         1      True  \n",
              "\n",
              "[400 rows x 9 columns]"
            ],
            "text/html": [
              "\n",
              "  <div id=\"df-176b2386-6ed4-4536-9a2a-905eda189a8e\" class=\"colab-df-container\">\n",
              "    <div>\n",
              "<style scoped>\n",
              "    .dataframe tbody tr th:only-of-type {\n",
              "        vertical-align: middle;\n",
              "    }\n",
              "\n",
              "    .dataframe tbody tr th {\n",
              "        vertical-align: top;\n",
              "    }\n",
              "\n",
              "    .dataframe thead th {\n",
              "        text-align: right;\n",
              "    }\n",
              "</style>\n",
              "<table border=\"1\" class=\"dataframe\">\n",
              "  <thead>\n",
              "    <tr style=\"text-align: right;\">\n",
              "      <th></th>\n",
              "      <th>Serial No.</th>\n",
              "      <th>GRE Score</th>\n",
              "      <th>TOEFL Score</th>\n",
              "      <th>University Rating</th>\n",
              "      <th>SOP</th>\n",
              "      <th>LOR</th>\n",
              "      <th>CGPA</th>\n",
              "      <th>Research</th>\n",
              "      <th>Admitted</th>\n",
              "    </tr>\n",
              "  </thead>\n",
              "  <tbody>\n",
              "    <tr>\n",
              "      <th>0</th>\n",
              "      <td>1</td>\n",
              "      <td>337</td>\n",
              "      <td>118</td>\n",
              "      <td>4</td>\n",
              "      <td>4.5</td>\n",
              "      <td>4.5</td>\n",
              "      <td>9.65</td>\n",
              "      <td>1</td>\n",
              "      <td>True</td>\n",
              "    </tr>\n",
              "    <tr>\n",
              "      <th>1</th>\n",
              "      <td>2</td>\n",
              "      <td>324</td>\n",
              "      <td>107</td>\n",
              "      <td>4</td>\n",
              "      <td>4.0</td>\n",
              "      <td>4.5</td>\n",
              "      <td>8.87</td>\n",
              "      <td>1</td>\n",
              "      <td>True</td>\n",
              "    </tr>\n",
              "    <tr>\n",
              "      <th>2</th>\n",
              "      <td>3</td>\n",
              "      <td>316</td>\n",
              "      <td>104</td>\n",
              "      <td>3</td>\n",
              "      <td>3.0</td>\n",
              "      <td>3.5</td>\n",
              "      <td>8.00</td>\n",
              "      <td>1</td>\n",
              "      <td>False</td>\n",
              "    </tr>\n",
              "    <tr>\n",
              "      <th>3</th>\n",
              "      <td>4</td>\n",
              "      <td>322</td>\n",
              "      <td>110</td>\n",
              "      <td>3</td>\n",
              "      <td>3.5</td>\n",
              "      <td>2.5</td>\n",
              "      <td>8.67</td>\n",
              "      <td>1</td>\n",
              "      <td>True</td>\n",
              "    </tr>\n",
              "    <tr>\n",
              "      <th>4</th>\n",
              "      <td>5</td>\n",
              "      <td>314</td>\n",
              "      <td>103</td>\n",
              "      <td>2</td>\n",
              "      <td>2.0</td>\n",
              "      <td>3.0</td>\n",
              "      <td>8.21</td>\n",
              "      <td>0</td>\n",
              "      <td>False</td>\n",
              "    </tr>\n",
              "    <tr>\n",
              "      <th>...</th>\n",
              "      <td>...</td>\n",
              "      <td>...</td>\n",
              "      <td>...</td>\n",
              "      <td>...</td>\n",
              "      <td>...</td>\n",
              "      <td>...</td>\n",
              "      <td>...</td>\n",
              "      <td>...</td>\n",
              "      <td>...</td>\n",
              "    </tr>\n",
              "    <tr>\n",
              "      <th>395</th>\n",
              "      <td>396</td>\n",
              "      <td>324</td>\n",
              "      <td>110</td>\n",
              "      <td>3</td>\n",
              "      <td>3.5</td>\n",
              "      <td>3.5</td>\n",
              "      <td>9.04</td>\n",
              "      <td>1</td>\n",
              "      <td>True</td>\n",
              "    </tr>\n",
              "    <tr>\n",
              "      <th>396</th>\n",
              "      <td>397</td>\n",
              "      <td>325</td>\n",
              "      <td>107</td>\n",
              "      <td>3</td>\n",
              "      <td>3.0</td>\n",
              "      <td>3.5</td>\n",
              "      <td>9.11</td>\n",
              "      <td>1</td>\n",
              "      <td>True</td>\n",
              "    </tr>\n",
              "    <tr>\n",
              "      <th>397</th>\n",
              "      <td>398</td>\n",
              "      <td>330</td>\n",
              "      <td>116</td>\n",
              "      <td>4</td>\n",
              "      <td>5.0</td>\n",
              "      <td>4.5</td>\n",
              "      <td>9.45</td>\n",
              "      <td>1</td>\n",
              "      <td>True</td>\n",
              "    </tr>\n",
              "    <tr>\n",
              "      <th>398</th>\n",
              "      <td>399</td>\n",
              "      <td>312</td>\n",
              "      <td>103</td>\n",
              "      <td>3</td>\n",
              "      <td>3.5</td>\n",
              "      <td>4.0</td>\n",
              "      <td>8.78</td>\n",
              "      <td>0</td>\n",
              "      <td>False</td>\n",
              "    </tr>\n",
              "    <tr>\n",
              "      <th>399</th>\n",
              "      <td>400</td>\n",
              "      <td>333</td>\n",
              "      <td>117</td>\n",
              "      <td>4</td>\n",
              "      <td>5.0</td>\n",
              "      <td>4.0</td>\n",
              "      <td>9.66</td>\n",
              "      <td>1</td>\n",
              "      <td>True</td>\n",
              "    </tr>\n",
              "  </tbody>\n",
              "</table>\n",
              "<p>400 rows × 9 columns</p>\n",
              "</div>\n",
              "    <div class=\"colab-df-buttons\">\n",
              "\n",
              "  <div class=\"colab-df-container\">\n",
              "    <button class=\"colab-df-convert\" onclick=\"convertToInteractive('df-176b2386-6ed4-4536-9a2a-905eda189a8e')\"\n",
              "            title=\"Convert this dataframe to an interactive table.\"\n",
              "            style=\"display:none;\">\n",
              "\n",
              "  <svg xmlns=\"http://www.w3.org/2000/svg\" height=\"24px\" viewBox=\"0 -960 960 960\">\n",
              "    <path d=\"M120-120v-720h720v720H120Zm60-500h600v-160H180v160Zm220 220h160v-160H400v160Zm0 220h160v-160H400v160ZM180-400h160v-160H180v160Zm440 0h160v-160H620v160ZM180-180h160v-160H180v160Zm440 0h160v-160H620v160Z\"/>\n",
              "  </svg>\n",
              "    </button>\n",
              "\n",
              "  <style>\n",
              "    .colab-df-container {\n",
              "      display:flex;\n",
              "      gap: 12px;\n",
              "    }\n",
              "\n",
              "    .colab-df-convert {\n",
              "      background-color: #E8F0FE;\n",
              "      border: none;\n",
              "      border-radius: 50%;\n",
              "      cursor: pointer;\n",
              "      display: none;\n",
              "      fill: #1967D2;\n",
              "      height: 32px;\n",
              "      padding: 0 0 0 0;\n",
              "      width: 32px;\n",
              "    }\n",
              "\n",
              "    .colab-df-convert:hover {\n",
              "      background-color: #E2EBFA;\n",
              "      box-shadow: 0px 1px 2px rgba(60, 64, 67, 0.3), 0px 1px 3px 1px rgba(60, 64, 67, 0.15);\n",
              "      fill: #174EA6;\n",
              "    }\n",
              "\n",
              "    .colab-df-buttons div {\n",
              "      margin-bottom: 4px;\n",
              "    }\n",
              "\n",
              "    [theme=dark] .colab-df-convert {\n",
              "      background-color: #3B4455;\n",
              "      fill: #D2E3FC;\n",
              "    }\n",
              "\n",
              "    [theme=dark] .colab-df-convert:hover {\n",
              "      background-color: #434B5C;\n",
              "      box-shadow: 0px 1px 3px 1px rgba(0, 0, 0, 0.15);\n",
              "      filter: drop-shadow(0px 1px 2px rgba(0, 0, 0, 0.3));\n",
              "      fill: #FFFFFF;\n",
              "    }\n",
              "  </style>\n",
              "\n",
              "    <script>\n",
              "      const buttonEl =\n",
              "        document.querySelector('#df-176b2386-6ed4-4536-9a2a-905eda189a8e button.colab-df-convert');\n",
              "      buttonEl.style.display =\n",
              "        google.colab.kernel.accessAllowed ? 'block' : 'none';\n",
              "\n",
              "      async function convertToInteractive(key) {\n",
              "        const element = document.querySelector('#df-176b2386-6ed4-4536-9a2a-905eda189a8e');\n",
              "        const dataTable =\n",
              "          await google.colab.kernel.invokeFunction('convertToInteractive',\n",
              "                                                    [key], {});\n",
              "        if (!dataTable) return;\n",
              "\n",
              "        const docLinkHtml = 'Like what you see? Visit the ' +\n",
              "          '<a target=\"_blank\" href=https://colab.research.google.com/notebooks/data_table.ipynb>data table notebook</a>'\n",
              "          + ' to learn more about interactive tables.';\n",
              "        element.innerHTML = '';\n",
              "        dataTable['output_type'] = 'display_data';\n",
              "        await google.colab.output.renderOutput(dataTable, element);\n",
              "        const docLink = document.createElement('div');\n",
              "        docLink.innerHTML = docLinkHtml;\n",
              "        element.appendChild(docLink);\n",
              "      }\n",
              "    </script>\n",
              "  </div>\n",
              "\n",
              "\n",
              "<div id=\"df-7b2e479a-e975-4450-b3f0-7782f1e62d3c\">\n",
              "  <button class=\"colab-df-quickchart\" onclick=\"quickchart('df-7b2e479a-e975-4450-b3f0-7782f1e62d3c')\"\n",
              "            title=\"Suggest charts\"\n",
              "            style=\"display:none;\">\n",
              "\n",
              "<svg xmlns=\"http://www.w3.org/2000/svg\" height=\"24px\"viewBox=\"0 0 24 24\"\n",
              "     width=\"24px\">\n",
              "    <g>\n",
              "        <path d=\"M19 3H5c-1.1 0-2 .9-2 2v14c0 1.1.9 2 2 2h14c1.1 0 2-.9 2-2V5c0-1.1-.9-2-2-2zM9 17H7v-7h2v7zm4 0h-2V7h2v10zm4 0h-2v-4h2v4z\"/>\n",
              "    </g>\n",
              "</svg>\n",
              "  </button>\n",
              "\n",
              "<style>\n",
              "  .colab-df-quickchart {\n",
              "      --bg-color: #E8F0FE;\n",
              "      --fill-color: #1967D2;\n",
              "      --hover-bg-color: #E2EBFA;\n",
              "      --hover-fill-color: #174EA6;\n",
              "      --disabled-fill-color: #AAA;\n",
              "      --disabled-bg-color: #DDD;\n",
              "  }\n",
              "\n",
              "  [theme=dark] .colab-df-quickchart {\n",
              "      --bg-color: #3B4455;\n",
              "      --fill-color: #D2E3FC;\n",
              "      --hover-bg-color: #434B5C;\n",
              "      --hover-fill-color: #FFFFFF;\n",
              "      --disabled-bg-color: #3B4455;\n",
              "      --disabled-fill-color: #666;\n",
              "  }\n",
              "\n",
              "  .colab-df-quickchart {\n",
              "    background-color: var(--bg-color);\n",
              "    border: none;\n",
              "    border-radius: 50%;\n",
              "    cursor: pointer;\n",
              "    display: none;\n",
              "    fill: var(--fill-color);\n",
              "    height: 32px;\n",
              "    padding: 0;\n",
              "    width: 32px;\n",
              "  }\n",
              "\n",
              "  .colab-df-quickchart:hover {\n",
              "    background-color: var(--hover-bg-color);\n",
              "    box-shadow: 0 1px 2px rgba(60, 64, 67, 0.3), 0 1px 3px 1px rgba(60, 64, 67, 0.15);\n",
              "    fill: var(--button-hover-fill-color);\n",
              "  }\n",
              "\n",
              "  .colab-df-quickchart-complete:disabled,\n",
              "  .colab-df-quickchart-complete:disabled:hover {\n",
              "    background-color: var(--disabled-bg-color);\n",
              "    fill: var(--disabled-fill-color);\n",
              "    box-shadow: none;\n",
              "  }\n",
              "\n",
              "  .colab-df-spinner {\n",
              "    border: 2px solid var(--fill-color);\n",
              "    border-color: transparent;\n",
              "    border-bottom-color: var(--fill-color);\n",
              "    animation:\n",
              "      spin 1s steps(1) infinite;\n",
              "  }\n",
              "\n",
              "  @keyframes spin {\n",
              "    0% {\n",
              "      border-color: transparent;\n",
              "      border-bottom-color: var(--fill-color);\n",
              "      border-left-color: var(--fill-color);\n",
              "    }\n",
              "    20% {\n",
              "      border-color: transparent;\n",
              "      border-left-color: var(--fill-color);\n",
              "      border-top-color: var(--fill-color);\n",
              "    }\n",
              "    30% {\n",
              "      border-color: transparent;\n",
              "      border-left-color: var(--fill-color);\n",
              "      border-top-color: var(--fill-color);\n",
              "      border-right-color: var(--fill-color);\n",
              "    }\n",
              "    40% {\n",
              "      border-color: transparent;\n",
              "      border-right-color: var(--fill-color);\n",
              "      border-top-color: var(--fill-color);\n",
              "    }\n",
              "    60% {\n",
              "      border-color: transparent;\n",
              "      border-right-color: var(--fill-color);\n",
              "    }\n",
              "    80% {\n",
              "      border-color: transparent;\n",
              "      border-right-color: var(--fill-color);\n",
              "      border-bottom-color: var(--fill-color);\n",
              "    }\n",
              "    90% {\n",
              "      border-color: transparent;\n",
              "      border-bottom-color: var(--fill-color);\n",
              "    }\n",
              "  }\n",
              "</style>\n",
              "\n",
              "  <script>\n",
              "    async function quickchart(key) {\n",
              "      const quickchartButtonEl =\n",
              "        document.querySelector('#' + key + ' button');\n",
              "      quickchartButtonEl.disabled = true;  // To prevent multiple clicks.\n",
              "      quickchartButtonEl.classList.add('colab-df-spinner');\n",
              "      try {\n",
              "        const charts = await google.colab.kernel.invokeFunction(\n",
              "            'suggestCharts', [key], {});\n",
              "      } catch (error) {\n",
              "        console.error('Error during call to suggestCharts:', error);\n",
              "      }\n",
              "      quickchartButtonEl.classList.remove('colab-df-spinner');\n",
              "      quickchartButtonEl.classList.add('colab-df-quickchart-complete');\n",
              "    }\n",
              "    (() => {\n",
              "      let quickchartButtonEl =\n",
              "        document.querySelector('#df-7b2e479a-e975-4450-b3f0-7782f1e62d3c button');\n",
              "      quickchartButtonEl.style.display =\n",
              "        google.colab.kernel.accessAllowed ? 'block' : 'none';\n",
              "    })();\n",
              "  </script>\n",
              "</div>\n",
              "\n",
              "  <div id=\"id_c1673d83-1a32-446b-9998-dc29f35780f7\">\n",
              "    <style>\n",
              "      .colab-df-generate {\n",
              "        background-color: #E8F0FE;\n",
              "        border: none;\n",
              "        border-radius: 50%;\n",
              "        cursor: pointer;\n",
              "        display: none;\n",
              "        fill: #1967D2;\n",
              "        height: 32px;\n",
              "        padding: 0 0 0 0;\n",
              "        width: 32px;\n",
              "      }\n",
              "\n",
              "      .colab-df-generate:hover {\n",
              "        background-color: #E2EBFA;\n",
              "        box-shadow: 0px 1px 2px rgba(60, 64, 67, 0.3), 0px 1px 3px 1px rgba(60, 64, 67, 0.15);\n",
              "        fill: #174EA6;\n",
              "      }\n",
              "\n",
              "      [theme=dark] .colab-df-generate {\n",
              "        background-color: #3B4455;\n",
              "        fill: #D2E3FC;\n",
              "      }\n",
              "\n",
              "      [theme=dark] .colab-df-generate:hover {\n",
              "        background-color: #434B5C;\n",
              "        box-shadow: 0px 1px 3px 1px rgba(0, 0, 0, 0.15);\n",
              "        filter: drop-shadow(0px 1px 2px rgba(0, 0, 0, 0.3));\n",
              "        fill: #FFFFFF;\n",
              "      }\n",
              "    </style>\n",
              "    <button class=\"colab-df-generate\" onclick=\"generateWithVariable('data')\"\n",
              "            title=\"Generate code using this dataframe.\"\n",
              "            style=\"display:none;\">\n",
              "\n",
              "  <svg xmlns=\"http://www.w3.org/2000/svg\" height=\"24px\"viewBox=\"0 0 24 24\"\n",
              "       width=\"24px\">\n",
              "    <path d=\"M7,19H8.4L18.45,9,17,7.55,7,17.6ZM5,21V16.75L18.45,3.32a2,2,0,0,1,2.83,0l1.4,1.43a1.91,1.91,0,0,1,.58,1.4,1.91,1.91,0,0,1-.58,1.4L9.25,21ZM18.45,9,17,7.55Zm-12,3A5.31,5.31,0,0,0,4.9,8.1,5.31,5.31,0,0,0,1,6.5,5.31,5.31,0,0,0,4.9,4.9,5.31,5.31,0,0,0,6.5,1,5.31,5.31,0,0,0,8.1,4.9,5.31,5.31,0,0,0,12,6.5,5.46,5.46,0,0,0,6.5,12Z\"/>\n",
              "  </svg>\n",
              "    </button>\n",
              "    <script>\n",
              "      (() => {\n",
              "      const buttonEl =\n",
              "        document.querySelector('#id_c1673d83-1a32-446b-9998-dc29f35780f7 button.colab-df-generate');\n",
              "      buttonEl.style.display =\n",
              "        google.colab.kernel.accessAllowed ? 'block' : 'none';\n",
              "\n",
              "      buttonEl.onclick = () => {\n",
              "        google.colab.notebook.generateWithVariable('data');\n",
              "      }\n",
              "      })();\n",
              "    </script>\n",
              "  </div>\n",
              "\n",
              "    </div>\n",
              "  </div>\n"
            ],
            "application/vnd.google.colaboratory.intrinsic+json": {
              "type": "dataframe",
              "variable_name": "data",
              "summary": "{\n  \"name\": \"data\",\n  \"rows\": 400,\n  \"fields\": [\n    {\n      \"column\": \"Serial No.\",\n      \"properties\": {\n        \"dtype\": \"number\",\n        \"std\": 115,\n        \"min\": 1,\n        \"max\": 400,\n        \"num_unique_values\": 400,\n        \"samples\": [\n          210,\n          281,\n          34\n        ],\n        \"semantic_type\": \"\",\n        \"description\": \"\"\n      }\n    },\n    {\n      \"column\": \"GRE Score\",\n      \"properties\": {\n        \"dtype\": \"number\",\n        \"std\": 11,\n        \"min\": 290,\n        \"max\": 340,\n        \"num_unique_values\": 49,\n        \"samples\": [\n          307,\n          335,\n          297\n        ],\n        \"semantic_type\": \"\",\n        \"description\": \"\"\n      }\n    },\n    {\n      \"column\": \"TOEFL Score\",\n      \"properties\": {\n        \"dtype\": \"number\",\n        \"std\": 6,\n        \"min\": 92,\n        \"max\": 120,\n        \"num_unique_values\": 29,\n        \"samples\": [\n          94,\n          119,\n          112\n        ],\n        \"semantic_type\": \"\",\n        \"description\": \"\"\n      }\n    },\n    {\n      \"column\": \"University Rating\",\n      \"properties\": {\n        \"dtype\": \"number\",\n        \"std\": 1,\n        \"min\": 1,\n        \"max\": 5,\n        \"num_unique_values\": 5,\n        \"samples\": [\n          3,\n          1,\n          2\n        ],\n        \"semantic_type\": \"\",\n        \"description\": \"\"\n      }\n    },\n    {\n      \"column\": \"SOP\",\n      \"properties\": {\n        \"dtype\": \"number\",\n        \"std\": 1.0068686414586976,\n        \"min\": 1.0,\n        \"max\": 5.0,\n        \"num_unique_values\": 9,\n        \"samples\": [\n          1.0,\n          4.0,\n          5.0\n        ],\n        \"semantic_type\": \"\",\n        \"description\": \"\"\n      }\n    },\n    {\n      \"column\": \"LOR\",\n      \"properties\": {\n        \"dtype\": \"number\",\n        \"std\": 0.898477548279256,\n        \"min\": 1.0,\n        \"max\": 5.0,\n        \"num_unique_values\": 9,\n        \"samples\": [\n          5.0,\n          3.5,\n          1.5\n        ],\n        \"semantic_type\": \"\",\n        \"description\": \"\"\n      }\n    },\n    {\n      \"column\": \"CGPA\",\n      \"properties\": {\n        \"dtype\": \"number\",\n        \"std\": 0.5963170964964317,\n        \"min\": 6.8,\n        \"max\": 9.92,\n        \"num_unique_values\": 168,\n        \"samples\": [\n          8.15,\n          7.4,\n          9.91\n        ],\n        \"semantic_type\": \"\",\n        \"description\": \"\"\n      }\n    },\n    {\n      \"column\": \"Research\",\n      \"properties\": {\n        \"dtype\": \"number\",\n        \"std\": 0,\n        \"min\": 0,\n        \"max\": 1,\n        \"num_unique_values\": 2,\n        \"samples\": [\n          0,\n          1\n        ],\n        \"semantic_type\": \"\",\n        \"description\": \"\"\n      }\n    },\n    {\n      \"column\": \"Admitted\",\n      \"properties\": {\n        \"dtype\": \"boolean\",\n        \"num_unique_values\": 2,\n        \"samples\": [\n          false,\n          true\n        ],\n        \"semantic_type\": \"\",\n        \"description\": \"\"\n      }\n    }\n  ]\n}"
            }
          },
          "metadata": {},
          "execution_count": 217
        }
      ]
    },
    {
      "cell_type": "code",
      "source": [
        "features = data.drop(['Admitted', 'Serial No.'], axis=1)\n",
        "labels = data['Admitted']\n",
        "features, labels"
      ],
      "metadata": {
        "id": "pLudFCSbli4v",
        "outputId": "7a992c7c-9b02-4c50-e502-ad2cd3033b76",
        "colab": {
          "base_uri": "https://localhost:8080/"
        }
      },
      "execution_count": 233,
      "outputs": [
        {
          "output_type": "execute_result",
          "data": {
            "text/plain": [
              "(     GRE Score  TOEFL Score  University Rating  SOP  LOR  CGPA  Research\n",
              " 0          337          118                  4  4.5  4.5  9.65         1\n",
              " 1          324          107                  4  4.0  4.5  8.87         1\n",
              " 2          316          104                  3  3.0  3.5  8.00         1\n",
              " 3          322          110                  3  3.5  2.5  8.67         1\n",
              " 4          314          103                  2  2.0  3.0  8.21         0\n",
              " ..         ...          ...                ...  ...  ...   ...       ...\n",
              " 395        324          110                  3  3.5  3.5  9.04         1\n",
              " 396        325          107                  3  3.0  3.5  9.11         1\n",
              " 397        330          116                  4  5.0  4.5  9.45         1\n",
              " 398        312          103                  3  3.5  4.0  8.78         0\n",
              " 399        333          117                  4  5.0  4.0  9.66         1\n",
              " \n",
              " [400 rows x 7 columns],\n",
              " 0       True\n",
              " 1       True\n",
              " 2      False\n",
              " 3       True\n",
              " 4      False\n",
              "        ...  \n",
              " 395     True\n",
              " 396     True\n",
              " 397     True\n",
              " 398    False\n",
              " 399     True\n",
              " Name: Admitted, Length: 400, dtype: bool)"
            ]
          },
          "metadata": {},
          "execution_count": 233
        }
      ]
    },
    {
      "cell_type": "code",
      "source": [
        "from sklearn.tree import DecisionTreeClassifier\n",
        "\n",
        "model = DecisionTreeClassifier()\n",
        "model.fit(features, labels)\n",
        "print(\"score: \", model.score(features, labels))\n",
        "print(\"depth: \", model.get_depth())\n",
        "print(model.predict(features[0:5]))"
      ],
      "metadata": {
        "id": "YFb5mINLl7Eh",
        "outputId": "b399b12b-a9d5-4121-b531-81ca3ef98172",
        "colab": {
          "base_uri": "https://localhost:8080/"
        }
      },
      "execution_count": 237,
      "outputs": [
        {
          "output_type": "stream",
          "name": "stdout",
          "text": [
            "score:  1.0\n",
            "depth:  10\n",
            "[ True  True False  True False]\n"
          ]
        }
      ]
    },
    {
      "cell_type": "markdown",
      "source": [
        "The score is 100% in the training set. This is massively overfit."
      ],
      "metadata": {
        "id": "wUVh93WEmgT6"
      }
    },
    {
      "cell_type": "code",
      "source": [
        "features.columns.tolist()"
      ],
      "metadata": {
        "id": "-2nU4sBwm-Sz",
        "outputId": "c02af54f-2d67-44c2-bbc6-a204745e3c01",
        "colab": {
          "base_uri": "https://localhost:8080/"
        }
      },
      "execution_count": 235,
      "outputs": [
        {
          "output_type": "execute_result",
          "data": {
            "text/plain": [
              "['GRE Score',\n",
              " 'TOEFL Score',\n",
              " 'University Rating',\n",
              " 'SOP',\n",
              " 'LOR',\n",
              " 'CGPA',\n",
              " 'Research']"
            ]
          },
          "metadata": {},
          "execution_count": 235
        }
      ]
    },
    {
      "cell_type": "code",
      "source": [
        "dot_data = export_graphviz(model, feature_names=features.columns.tolist(),\n",
        "                           filled=True, rounded=True, special_characters=True)\n",
        "g = graphviz.Source(dot_data)\n",
        "g"
      ],
      "metadata": {
        "id": "2WBGHB4smtSo",
        "outputId": "c0fec8ea-212c-4ef6-c6d4-d112e4edc3fa",
        "colab": {
          "base_uri": "https://localhost:8080/",
          "height": 1000
        }
      },
      "execution_count": 236,
      "outputs": [
        {
          "output_type": "execute_result",
          "data": {
            "image/svg+xml": "<?xml version=\"1.0\" encoding=\"UTF-8\" standalone=\"no\"?>\n<!DOCTYPE svg PUBLIC \"-//W3C//DTD SVG 1.1//EN\"\n \"http://www.w3.org/Graphics/SVG/1.1/DTD/svg11.dtd\">\n<!-- Generated by graphviz version 2.43.0 (0)\n -->\n<!-- Title: Tree Pages: 1 -->\n<svg width=\"2818pt\" height=\"1101pt\"\n viewBox=\"0.00 0.00 2818.00 1101.00\" xmlns=\"http://www.w3.org/2000/svg\" xmlns:xlink=\"http://www.w3.org/1999/xlink\">\n<g id=\"graph0\" class=\"graph\" transform=\"scale(1 1) rotate(0) translate(4 1097)\">\n<title>Tree</title>\n<polygon fill=\"white\" stroke=\"transparent\" points=\"-4,4 -4,-1097 2814,-1097 2814,4 -4,4\"/>\n<!-- 0 -->\n<g id=\"node1\" class=\"node\">\n<title>0</title>\n<path fill=\"#fae8db\" stroke=\"black\" d=\"M1759,-1093C1759,-1093 1636,-1093 1636,-1093 1630,-1093 1624,-1087 1624,-1081 1624,-1081 1624,-1037 1624,-1037 1624,-1031 1630,-1025 1636,-1025 1636,-1025 1759,-1025 1759,-1025 1765,-1025 1771,-1031 1771,-1037 1771,-1037 1771,-1081 1771,-1081 1771,-1087 1765,-1093 1759,-1093\"/>\n<text text-anchor=\"start\" x=\"1654\" y=\"-1077.8\" font-family=\"Helvetica,sans-Serif\" font-size=\"14.00\">CGPA ≤ 8.735</text>\n<text text-anchor=\"start\" x=\"1662\" y=\"-1062.8\" font-family=\"Helvetica,sans-Serif\" font-size=\"14.00\">gini = 0.495</text>\n<text text-anchor=\"start\" x=\"1652.5\" y=\"-1047.8\" font-family=\"Helvetica,sans-Serif\" font-size=\"14.00\">samples = 400</text>\n<text text-anchor=\"start\" x=\"1632\" y=\"-1032.8\" font-family=\"Helvetica,sans-Serif\" font-size=\"14.00\">value = [220.0, 180.0]</text>\n</g>\n<!-- 1 -->\n<g id=\"node2\" class=\"node\">\n<title>1</title>\n<path fill=\"#e99457\" stroke=\"black\" d=\"M1300,-989C1300,-989 1175,-989 1175,-989 1169,-989 1163,-983 1163,-977 1163,-977 1163,-933 1163,-933 1163,-927 1169,-921 1175,-921 1175,-921 1300,-921 1300,-921 1306,-921 1312,-927 1312,-933 1312,-933 1312,-977 1312,-977 1312,-983 1306,-989 1300,-989\"/>\n<text text-anchor=\"start\" x=\"1171\" y=\"-973.8\" font-family=\"Helvetica,sans-Serif\" font-size=\"14.00\">TOEFL Score ≤ 106.5</text>\n<text text-anchor=\"start\" x=\"1205.5\" y=\"-958.8\" font-family=\"Helvetica,sans-Serif\" font-size=\"14.00\">gini = 0.23</text>\n<text text-anchor=\"start\" x=\"1192.5\" y=\"-943.8\" font-family=\"Helvetica,sans-Serif\" font-size=\"14.00\">samples = 234</text>\n<text text-anchor=\"start\" x=\"1187\" y=\"-928.8\" font-family=\"Helvetica,sans-Serif\" font-size=\"14.00\">value = [203, 31]</text>\n</g>\n<!-- 0&#45;&gt;1 -->\n<g id=\"edge1\" class=\"edge\">\n<title>0&#45;&gt;1</title>\n<path fill=\"none\" stroke=\"black\" d=\"M1623.85,-1041.67C1541.49,-1023.41 1408.34,-993.88 1321.86,-974.71\"/>\n<polygon fill=\"black\" stroke=\"black\" points=\"1322.59,-971.28 1312.07,-972.54 1321.08,-978.12 1322.59,-971.28\"/>\n<text text-anchor=\"middle\" x=\"1325.51\" y=\"-989.92\" font-family=\"Helvetica,sans-Serif\" font-size=\"14.00\">True</text>\n</g>\n<!-- 70 -->\n<g id=\"node71\" class=\"node\">\n<title>70</title>\n<path fill=\"#50a8e8\" stroke=\"black\" d=\"M1996.5,-989C1996.5,-989 1886.5,-989 1886.5,-989 1880.5,-989 1874.5,-983 1874.5,-977 1874.5,-977 1874.5,-933 1874.5,-933 1874.5,-927 1880.5,-921 1886.5,-921 1886.5,-921 1996.5,-921 1996.5,-921 2002.5,-921 2008.5,-927 2008.5,-933 2008.5,-933 2008.5,-977 2008.5,-977 2008.5,-983 2002.5,-989 1996.5,-989\"/>\n<text text-anchor=\"start\" x=\"1882.5\" y=\"-973.8\" font-family=\"Helvetica,sans-Serif\" font-size=\"14.00\">GRE Score ≤ 319.5</text>\n<text text-anchor=\"start\" x=\"1906\" y=\"-958.8\" font-family=\"Helvetica,sans-Serif\" font-size=\"14.00\">gini = 0.184</text>\n<text text-anchor=\"start\" x=\"1896.5\" y=\"-943.8\" font-family=\"Helvetica,sans-Serif\" font-size=\"14.00\">samples = 166</text>\n<text text-anchor=\"start\" x=\"1891\" y=\"-928.8\" font-family=\"Helvetica,sans-Serif\" font-size=\"14.00\">value = [17, 149]</text>\n</g>\n<!-- 0&#45;&gt;70 -->\n<g id=\"edge70\" class=\"edge\">\n<title>0&#45;&gt;70</title>\n<path fill=\"none\" stroke=\"black\" d=\"M1771.04,-1027.26C1800.67,-1014.87 1834.85,-1000.58 1864.79,-988.07\"/>\n<polygon fill=\"black\" stroke=\"black\" points=\"1866.47,-991.16 1874.35,-984.07 1863.77,-984.7 1866.47,-991.16\"/>\n<text text-anchor=\"middle\" x=\"1864.86\" y=\"-1003.5\" font-family=\"Helvetica,sans-Serif\" font-size=\"14.00\">False</text>\n</g>\n<!-- 2 -->\n<g id=\"node3\" class=\"node\">\n<title>2</title>\n<path fill=\"#e78945\" stroke=\"black\" d=\"M834,-885C834,-885 741,-885 741,-885 735,-885 729,-879 729,-873 729,-873 729,-829 729,-829 729,-823 735,-817 741,-817 741,-817 834,-817 834,-817 840,-817 846,-823 846,-829 846,-829 846,-873 846,-873 846,-879 840,-885 834,-885\"/>\n<text text-anchor=\"start\" x=\"752\" y=\"-869.8\" font-family=\"Helvetica,sans-Serif\" font-size=\"14.00\">SOP ≤ 3.75</text>\n<text text-anchor=\"start\" x=\"752\" y=\"-854.8\" font-family=\"Helvetica,sans-Serif\" font-size=\"14.00\">gini = 0.111</text>\n<text text-anchor=\"start\" x=\"742.5\" y=\"-839.8\" font-family=\"Helvetica,sans-Serif\" font-size=\"14.00\">samples = 169</text>\n<text text-anchor=\"start\" x=\"737\" y=\"-824.8\" font-family=\"Helvetica,sans-Serif\" font-size=\"14.00\">value = [159, 10]</text>\n</g>\n<!-- 1&#45;&gt;2 -->\n<g id=\"edge2\" class=\"edge\">\n<title>1&#45;&gt;2</title>\n<path fill=\"none\" stroke=\"black\" d=\"M1162.94,-937.1C1077.49,-917.73 938.62,-886.25 855.86,-867.5\"/>\n<polygon fill=\"black\" stroke=\"black\" points=\"856.58,-864.07 846.06,-865.27 855.04,-870.9 856.58,-864.07\"/>\n</g>\n<!-- 31 -->\n<g id=\"node32\" class=\"node\">\n<title>31</title>\n<path fill=\"#f1bd98\" stroke=\"black\" d=\"M1292.5,-885C1292.5,-885 1182.5,-885 1182.5,-885 1176.5,-885 1170.5,-879 1170.5,-873 1170.5,-873 1170.5,-829 1170.5,-829 1170.5,-823 1176.5,-817 1182.5,-817 1182.5,-817 1292.5,-817 1292.5,-817 1298.5,-817 1304.5,-823 1304.5,-829 1304.5,-829 1304.5,-873 1304.5,-873 1304.5,-879 1298.5,-885 1292.5,-885\"/>\n<text text-anchor=\"start\" x=\"1178.5\" y=\"-869.8\" font-family=\"Helvetica,sans-Serif\" font-size=\"14.00\">GRE Score ≤ 318.5</text>\n<text text-anchor=\"start\" x=\"1202\" y=\"-854.8\" font-family=\"Helvetica,sans-Serif\" font-size=\"14.00\">gini = 0.437</text>\n<text text-anchor=\"start\" x=\"1196.5\" y=\"-839.8\" font-family=\"Helvetica,sans-Serif\" font-size=\"14.00\">samples = 65</text>\n<text text-anchor=\"start\" x=\"1190.5\" y=\"-824.8\" font-family=\"Helvetica,sans-Serif\" font-size=\"14.00\">value = [44, 21]</text>\n</g>\n<!-- 1&#45;&gt;31 -->\n<g id=\"edge31\" class=\"edge\">\n<title>1&#45;&gt;31</title>\n<path fill=\"none\" stroke=\"black\" d=\"M1237.5,-920.88C1237.5,-912.78 1237.5,-903.98 1237.5,-895.47\"/>\n<polygon fill=\"black\" stroke=\"black\" points=\"1241,-895.3 1237.5,-885.3 1234,-895.3 1241,-895.3\"/>\n</g>\n<!-- 3 -->\n<g id=\"node4\" class=\"node\">\n<title>3</title>\n<path fill=\"#e6853f\" stroke=\"black\" d=\"M585.5,-781C585.5,-781 499.5,-781 499.5,-781 493.5,-781 487.5,-775 487.5,-769 487.5,-769 487.5,-725 487.5,-725 487.5,-719 493.5,-713 499.5,-713 499.5,-713 585.5,-713 585.5,-713 591.5,-713 597.5,-719 597.5,-725 597.5,-725 597.5,-769 597.5,-769 597.5,-775 591.5,-781 585.5,-781\"/>\n<text text-anchor=\"start\" x=\"507.5\" y=\"-765.8\" font-family=\"Helvetica,sans-Serif\" font-size=\"14.00\">LOR ≤ 4.25</text>\n<text text-anchor=\"start\" x=\"507\" y=\"-750.8\" font-family=\"Helvetica,sans-Serif\" font-size=\"14.00\">gini = 0.053</text>\n<text text-anchor=\"start\" x=\"497.5\" y=\"-735.8\" font-family=\"Helvetica,sans-Serif\" font-size=\"14.00\">samples = 146</text>\n<text text-anchor=\"start\" x=\"495.5\" y=\"-720.8\" font-family=\"Helvetica,sans-Serif\" font-size=\"14.00\">value = [142, 4]</text>\n</g>\n<!-- 2&#45;&gt;3 -->\n<g id=\"edge3\" class=\"edge\">\n<title>2&#45;&gt;3</title>\n<path fill=\"none\" stroke=\"black\" d=\"M728.82,-825.57C692.14,-810.3 644.89,-790.63 607.14,-774.91\"/>\n<polygon fill=\"black\" stroke=\"black\" points=\"608.34,-771.62 597.76,-771.01 605.65,-778.08 608.34,-771.62\"/>\n</g>\n<!-- 20 -->\n<g id=\"node21\" class=\"node\">\n<title>20</title>\n<path fill=\"#eead7f\" stroke=\"black\" d=\"M827,-781C827,-781 748,-781 748,-781 742,-781 736,-775 736,-769 736,-769 736,-725 736,-725 736,-719 742,-713 748,-713 748,-713 827,-713 827,-713 833,-713 839,-719 839,-725 839,-725 839,-769 839,-769 839,-775 833,-781 827,-781\"/>\n<text text-anchor=\"start\" x=\"744\" y=\"-765.8\" font-family=\"Helvetica,sans-Serif\" font-size=\"14.00\">CGPA ≤ 8.445</text>\n<text text-anchor=\"start\" x=\"752\" y=\"-750.8\" font-family=\"Helvetica,sans-Serif\" font-size=\"14.00\">gini = 0.386</text>\n<text text-anchor=\"start\" x=\"746.5\" y=\"-735.8\" font-family=\"Helvetica,sans-Serif\" font-size=\"14.00\">samples = 23</text>\n<text text-anchor=\"start\" x=\"744.5\" y=\"-720.8\" font-family=\"Helvetica,sans-Serif\" font-size=\"14.00\">value = [17, 6]</text>\n</g>\n<!-- 2&#45;&gt;20 -->\n<g id=\"edge20\" class=\"edge\">\n<title>2&#45;&gt;20</title>\n<path fill=\"none\" stroke=\"black\" d=\"M787.5,-816.88C787.5,-808.78 787.5,-799.98 787.5,-791.47\"/>\n<polygon fill=\"black\" stroke=\"black\" points=\"791,-791.3 787.5,-781.3 784,-791.3 791,-791.3\"/>\n</g>\n<!-- 4 -->\n<g id=\"node5\" class=\"node\">\n<title>4</title>\n<path fill=\"#e6843d\" stroke=\"black\" d=\"M405,-677C405,-677 280,-677 280,-677 274,-677 268,-671 268,-665 268,-665 268,-621 268,-621 268,-615 274,-609 280,-609 280,-609 405,-609 405,-609 411,-609 417,-615 417,-621 417,-621 417,-665 417,-665 417,-671 411,-677 405,-677\"/>\n<text text-anchor=\"start\" x=\"276\" y=\"-661.8\" font-family=\"Helvetica,sans-Serif\" font-size=\"14.00\">TOEFL Score ≤ 105.5</text>\n<text text-anchor=\"start\" x=\"307\" y=\"-646.8\" font-family=\"Helvetica,sans-Serif\" font-size=\"14.00\">gini = 0.041</text>\n<text text-anchor=\"start\" x=\"297.5\" y=\"-631.8\" font-family=\"Helvetica,sans-Serif\" font-size=\"14.00\">samples = 143</text>\n<text text-anchor=\"start\" x=\"295.5\" y=\"-616.8\" font-family=\"Helvetica,sans-Serif\" font-size=\"14.00\">value = [140, 3]</text>\n</g>\n<!-- 3&#45;&gt;4 -->\n<g id=\"edge4\" class=\"edge\">\n<title>3&#45;&gt;4</title>\n<path fill=\"none\" stroke=\"black\" d=\"M487.32,-717.86C465.48,-706.72 440.03,-693.74 416.63,-681.8\"/>\n<polygon fill=\"black\" stroke=\"black\" points=\"417.92,-678.54 407.42,-677.11 414.74,-684.77 417.92,-678.54\"/>\n</g>\n<!-- 17 -->\n<g id=\"node18\" class=\"node\">\n<title>17</title>\n<path fill=\"#f2c09c\" stroke=\"black\" d=\"M605,-677C605,-677 480,-677 480,-677 474,-677 468,-671 468,-665 468,-665 468,-621 468,-621 468,-615 474,-609 480,-609 480,-609 605,-609 605,-609 611,-609 617,-615 617,-621 617,-621 617,-665 617,-665 617,-671 611,-677 605,-677\"/>\n<text text-anchor=\"start\" x=\"476\" y=\"-661.8\" font-family=\"Helvetica,sans-Serif\" font-size=\"14.00\">TOEFL Score ≤ 100.0</text>\n<text text-anchor=\"start\" x=\"507\" y=\"-646.8\" font-family=\"Helvetica,sans-Serif\" font-size=\"14.00\">gini = 0.444</text>\n<text text-anchor=\"start\" x=\"505\" y=\"-631.8\" font-family=\"Helvetica,sans-Serif\" font-size=\"14.00\">samples = 3</text>\n<text text-anchor=\"start\" x=\"503\" y=\"-616.8\" font-family=\"Helvetica,sans-Serif\" font-size=\"14.00\">value = [2, 1]</text>\n</g>\n<!-- 3&#45;&gt;17 -->\n<g id=\"edge17\" class=\"edge\">\n<title>3&#45;&gt;17</title>\n<path fill=\"none\" stroke=\"black\" d=\"M542.5,-712.88C542.5,-704.78 542.5,-695.98 542.5,-687.47\"/>\n<polygon fill=\"black\" stroke=\"black\" points=\"546,-687.3 542.5,-677.3 539,-687.3 546,-687.3\"/>\n</g>\n<!-- 5 -->\n<g id=\"node6\" class=\"node\">\n<title>5</title>\n<path fill=\"#e5823b\" stroke=\"black\" d=\"M258.5,-573C258.5,-573 172.5,-573 172.5,-573 166.5,-573 160.5,-567 160.5,-561 160.5,-561 160.5,-517 160.5,-517 160.5,-511 166.5,-505 172.5,-505 172.5,-505 258.5,-505 258.5,-505 264.5,-505 270.5,-511 270.5,-517 270.5,-517 270.5,-561 270.5,-561 270.5,-567 264.5,-573 258.5,-573\"/>\n<text text-anchor=\"start\" x=\"172\" y=\"-557.8\" font-family=\"Helvetica,sans-Serif\" font-size=\"14.00\">CGPA ≤ 8.465</text>\n<text text-anchor=\"start\" x=\"180\" y=\"-542.8\" font-family=\"Helvetica,sans-Serif\" font-size=\"14.00\">gini = 0.016</text>\n<text text-anchor=\"start\" x=\"170.5\" y=\"-527.8\" font-family=\"Helvetica,sans-Serif\" font-size=\"14.00\">samples = 128</text>\n<text text-anchor=\"start\" x=\"168.5\" y=\"-512.8\" font-family=\"Helvetica,sans-Serif\" font-size=\"14.00\">value = [127, 1]</text>\n</g>\n<!-- 4&#45;&gt;5 -->\n<g id=\"edge5\" class=\"edge\">\n<title>4&#45;&gt;5</title>\n<path fill=\"none\" stroke=\"black\" d=\"M301.27,-608.88C289.62,-599.53 276.83,-589.26 264.77,-579.57\"/>\n<polygon fill=\"black\" stroke=\"black\" points=\"266.95,-576.83 256.96,-573.3 262.57,-582.29 266.95,-576.83\"/>\n</g>\n<!-- 12 -->\n<g id=\"node13\" class=\"node\">\n<title>12</title>\n<path fill=\"#e99457\" stroke=\"black\" d=\"M384.5,-573C384.5,-573 300.5,-573 300.5,-573 294.5,-573 288.5,-567 288.5,-561 288.5,-561 288.5,-517 288.5,-517 288.5,-511 294.5,-505 300.5,-505 300.5,-505 384.5,-505 384.5,-505 390.5,-505 396.5,-511 396.5,-517 396.5,-517 396.5,-561 396.5,-561 396.5,-567 390.5,-573 384.5,-573\"/>\n<text text-anchor=\"start\" x=\"296.5\" y=\"-557.8\" font-family=\"Helvetica,sans-Serif\" font-size=\"14.00\">Research ≤ 0.5</text>\n<text text-anchor=\"start\" x=\"307\" y=\"-542.8\" font-family=\"Helvetica,sans-Serif\" font-size=\"14.00\">gini = 0.231</text>\n<text text-anchor=\"start\" x=\"301.5\" y=\"-527.8\" font-family=\"Helvetica,sans-Serif\" font-size=\"14.00\">samples = 15</text>\n<text text-anchor=\"start\" x=\"299.5\" y=\"-512.8\" font-family=\"Helvetica,sans-Serif\" font-size=\"14.00\">value = [13, 2]</text>\n</g>\n<!-- 4&#45;&gt;12 -->\n<g id=\"edge12\" class=\"edge\">\n<title>4&#45;&gt;12</title>\n<path fill=\"none\" stroke=\"black\" d=\"M342.5,-608.88C342.5,-600.78 342.5,-591.98 342.5,-583.47\"/>\n<polygon fill=\"black\" stroke=\"black\" points=\"346,-583.3 342.5,-573.3 339,-583.3 346,-583.3\"/>\n</g>\n<!-- 6 -->\n<g id=\"node7\" class=\"node\">\n<title>6</title>\n<path fill=\"#e58139\" stroke=\"black\" d=\"M135.5,-461.5C135.5,-461.5 49.5,-461.5 49.5,-461.5 43.5,-461.5 37.5,-455.5 37.5,-449.5 37.5,-449.5 37.5,-420.5 37.5,-420.5 37.5,-414.5 43.5,-408.5 49.5,-408.5 49.5,-408.5 135.5,-408.5 135.5,-408.5 141.5,-408.5 147.5,-414.5 147.5,-420.5 147.5,-420.5 147.5,-449.5 147.5,-449.5 147.5,-455.5 141.5,-461.5 135.5,-461.5\"/>\n<text text-anchor=\"start\" x=\"64.5\" y=\"-446.3\" font-family=\"Helvetica,sans-Serif\" font-size=\"14.00\">gini = 0.0</text>\n<text text-anchor=\"start\" x=\"47.5\" y=\"-431.3\" font-family=\"Helvetica,sans-Serif\" font-size=\"14.00\">samples = 111</text>\n<text text-anchor=\"start\" x=\"45.5\" y=\"-416.3\" font-family=\"Helvetica,sans-Serif\" font-size=\"14.00\">value = [111, 0]</text>\n</g>\n<!-- 5&#45;&gt;6 -->\n<g id=\"edge6\" class=\"edge\">\n<title>5&#45;&gt;6</title>\n<path fill=\"none\" stroke=\"black\" d=\"M175.57,-504.88C161.37,-493.12 145.43,-479.89 131.33,-468.2\"/>\n<polygon fill=\"black\" stroke=\"black\" points=\"133.21,-465.21 123.27,-461.52 128.74,-470.6 133.21,-465.21\"/>\n</g>\n<!-- 7 -->\n<g id=\"node8\" class=\"node\">\n<title>7</title>\n<path fill=\"#e78945\" stroke=\"black\" d=\"M255.5,-469C255.5,-469 177.5,-469 177.5,-469 171.5,-469 165.5,-463 165.5,-457 165.5,-457 165.5,-413 165.5,-413 165.5,-407 171.5,-401 177.5,-401 177.5,-401 255.5,-401 255.5,-401 261.5,-401 267.5,-407 267.5,-413 267.5,-413 267.5,-457 267.5,-457 267.5,-463 261.5,-469 255.5,-469\"/>\n<text text-anchor=\"start\" x=\"181\" y=\"-453.8\" font-family=\"Helvetica,sans-Serif\" font-size=\"14.00\">SOP ≤ 2.25</text>\n<text text-anchor=\"start\" x=\"181\" y=\"-438.8\" font-family=\"Helvetica,sans-Serif\" font-size=\"14.00\">gini = 0.111</text>\n<text text-anchor=\"start\" x=\"175.5\" y=\"-423.8\" font-family=\"Helvetica,sans-Serif\" font-size=\"14.00\">samples = 17</text>\n<text text-anchor=\"start\" x=\"173.5\" y=\"-408.8\" font-family=\"Helvetica,sans-Serif\" font-size=\"14.00\">value = [16, 1]</text>\n</g>\n<!-- 5&#45;&gt;7 -->\n<g id=\"edge7\" class=\"edge\">\n<title>5&#45;&gt;7</title>\n<path fill=\"none\" stroke=\"black\" d=\"M215.82,-504.88C215.9,-496.78 215.99,-487.98 216.07,-479.47\"/>\n<polygon fill=\"black\" stroke=\"black\" points=\"219.58,-479.33 216.17,-469.3 212.58,-479.26 219.58,-479.33\"/>\n</g>\n<!-- 8 -->\n<g id=\"node9\" class=\"node\">\n<title>8</title>\n<path fill=\"#ffffff\" stroke=\"black\" d=\"M139,-365C139,-365 68,-365 68,-365 62,-365 56,-359 56,-353 56,-353 56,-309 56,-309 56,-303 62,-297 68,-297 68,-297 139,-297 139,-297 145,-297 151,-303 151,-309 151,-309 151,-353 151,-353 151,-359 145,-365 139,-365\"/>\n<text text-anchor=\"start\" x=\"64\" y=\"-349.8\" font-family=\"Helvetica,sans-Serif\" font-size=\"14.00\">CGPA ≤ 8.57</text>\n<text text-anchor=\"start\" x=\"75.5\" y=\"-334.8\" font-family=\"Helvetica,sans-Serif\" font-size=\"14.00\">gini = 0.5</text>\n<text text-anchor=\"start\" x=\"66\" y=\"-319.8\" font-family=\"Helvetica,sans-Serif\" font-size=\"14.00\">samples = 2</text>\n<text text-anchor=\"start\" x=\"64\" y=\"-304.8\" font-family=\"Helvetica,sans-Serif\" font-size=\"14.00\">value = [1, 1]</text>\n</g>\n<!-- 7&#45;&gt;8 -->\n<g id=\"edge8\" class=\"edge\">\n<title>7&#45;&gt;8</title>\n<path fill=\"none\" stroke=\"black\" d=\"M179.81,-400.88C169.65,-391.71 158.5,-381.65 147.95,-372.12\"/>\n<polygon fill=\"black\" stroke=\"black\" points=\"150.16,-369.4 140.39,-365.3 145.47,-374.6 150.16,-369.4\"/>\n</g>\n<!-- 11 -->\n<g id=\"node12\" class=\"node\">\n<title>11</title>\n<path fill=\"#e58139\" stroke=\"black\" d=\"M259.5,-357.5C259.5,-357.5 181.5,-357.5 181.5,-357.5 175.5,-357.5 169.5,-351.5 169.5,-345.5 169.5,-345.5 169.5,-316.5 169.5,-316.5 169.5,-310.5 175.5,-304.5 181.5,-304.5 181.5,-304.5 259.5,-304.5 259.5,-304.5 265.5,-304.5 271.5,-310.5 271.5,-316.5 271.5,-316.5 271.5,-345.5 271.5,-345.5 271.5,-351.5 265.5,-357.5 259.5,-357.5\"/>\n<text text-anchor=\"start\" x=\"192.5\" y=\"-342.3\" font-family=\"Helvetica,sans-Serif\" font-size=\"14.00\">gini = 0.0</text>\n<text text-anchor=\"start\" x=\"179.5\" y=\"-327.3\" font-family=\"Helvetica,sans-Serif\" font-size=\"14.00\">samples = 15</text>\n<text text-anchor=\"start\" x=\"177.5\" y=\"-312.3\" font-family=\"Helvetica,sans-Serif\" font-size=\"14.00\">value = [15, 0]</text>\n</g>\n<!-- 7&#45;&gt;11 -->\n<g id=\"edge11\" class=\"edge\">\n<title>7&#45;&gt;11</title>\n<path fill=\"none\" stroke=\"black\" d=\"M217.8,-400.88C218.22,-390.22 218.68,-378.35 219.11,-367.52\"/>\n<polygon fill=\"black\" stroke=\"black\" points=\"222.6,-367.65 219.5,-357.52 215.61,-367.38 222.6,-367.65\"/>\n</g>\n<!-- 9 -->\n<g id=\"node10\" class=\"node\">\n<title>9</title>\n<path fill=\"#399de5\" stroke=\"black\" d=\"M83,-253.5C83,-253.5 12,-253.5 12,-253.5 6,-253.5 0,-247.5 0,-241.5 0,-241.5 0,-212.5 0,-212.5 0,-206.5 6,-200.5 12,-200.5 12,-200.5 83,-200.5 83,-200.5 89,-200.5 95,-206.5 95,-212.5 95,-212.5 95,-241.5 95,-241.5 95,-247.5 89,-253.5 83,-253.5\"/>\n<text text-anchor=\"start\" x=\"19.5\" y=\"-238.3\" font-family=\"Helvetica,sans-Serif\" font-size=\"14.00\">gini = 0.0</text>\n<text text-anchor=\"start\" x=\"10\" y=\"-223.3\" font-family=\"Helvetica,sans-Serif\" font-size=\"14.00\">samples = 1</text>\n<text text-anchor=\"start\" x=\"8\" y=\"-208.3\" font-family=\"Helvetica,sans-Serif\" font-size=\"14.00\">value = [0, 1]</text>\n</g>\n<!-- 8&#45;&gt;9 -->\n<g id=\"edge9\" class=\"edge\">\n<title>8&#45;&gt;9</title>\n<path fill=\"none\" stroke=\"black\" d=\"M85.32,-296.88C79.28,-285.89 72.54,-273.62 66.45,-262.52\"/>\n<polygon fill=\"black\" stroke=\"black\" points=\"69.39,-260.6 61.51,-253.52 63.26,-263.97 69.39,-260.6\"/>\n</g>\n<!-- 10 -->\n<g id=\"node11\" class=\"node\">\n<title>10</title>\n<path fill=\"#e58139\" stroke=\"black\" d=\"M196,-253.5C196,-253.5 125,-253.5 125,-253.5 119,-253.5 113,-247.5 113,-241.5 113,-241.5 113,-212.5 113,-212.5 113,-206.5 119,-200.5 125,-200.5 125,-200.5 196,-200.5 196,-200.5 202,-200.5 208,-206.5 208,-212.5 208,-212.5 208,-241.5 208,-241.5 208,-247.5 202,-253.5 196,-253.5\"/>\n<text text-anchor=\"start\" x=\"132.5\" y=\"-238.3\" font-family=\"Helvetica,sans-Serif\" font-size=\"14.00\">gini = 0.0</text>\n<text text-anchor=\"start\" x=\"123\" y=\"-223.3\" font-family=\"Helvetica,sans-Serif\" font-size=\"14.00\">samples = 1</text>\n<text text-anchor=\"start\" x=\"121\" y=\"-208.3\" font-family=\"Helvetica,sans-Serif\" font-size=\"14.00\">value = [1, 0]</text>\n</g>\n<!-- 8&#45;&gt;10 -->\n<g id=\"edge10\" class=\"edge\">\n<title>8&#45;&gt;10</title>\n<path fill=\"none\" stroke=\"black\" d=\"M122.01,-296.88C128.15,-285.89 135.01,-273.62 141.21,-262.52\"/>\n<polygon fill=\"black\" stroke=\"black\" points=\"144.42,-263.96 146.24,-253.52 138.31,-260.54 144.42,-263.96\"/>\n</g>\n<!-- 13 -->\n<g id=\"node14\" class=\"node\">\n<title>13</title>\n<path fill=\"#e58139\" stroke=\"black\" d=\"M376.5,-461.5C376.5,-461.5 298.5,-461.5 298.5,-461.5 292.5,-461.5 286.5,-455.5 286.5,-449.5 286.5,-449.5 286.5,-420.5 286.5,-420.5 286.5,-414.5 292.5,-408.5 298.5,-408.5 298.5,-408.5 376.5,-408.5 376.5,-408.5 382.5,-408.5 388.5,-414.5 388.5,-420.5 388.5,-420.5 388.5,-449.5 388.5,-449.5 388.5,-455.5 382.5,-461.5 376.5,-461.5\"/>\n<text text-anchor=\"start\" x=\"309.5\" y=\"-446.3\" font-family=\"Helvetica,sans-Serif\" font-size=\"14.00\">gini = 0.0</text>\n<text text-anchor=\"start\" x=\"296.5\" y=\"-431.3\" font-family=\"Helvetica,sans-Serif\" font-size=\"14.00\">samples = 11</text>\n<text text-anchor=\"start\" x=\"294.5\" y=\"-416.3\" font-family=\"Helvetica,sans-Serif\" font-size=\"14.00\">value = [11, 0]</text>\n</g>\n<!-- 12&#45;&gt;13 -->\n<g id=\"edge13\" class=\"edge\">\n<title>12&#45;&gt;13</title>\n<path fill=\"none\" stroke=\"black\" d=\"M340.88,-504.88C340.35,-494.22 339.77,-482.35 339.24,-471.52\"/>\n<polygon fill=\"black\" stroke=\"black\" points=\"342.74,-471.34 338.75,-461.52 335.74,-471.68 342.74,-471.34\"/>\n</g>\n<!-- 14 -->\n<g id=\"node15\" class=\"node\">\n<title>14</title>\n<path fill=\"#ffffff\" stroke=\"black\" d=\"M498,-469C498,-469 419,-469 419,-469 413,-469 407,-463 407,-457 407,-457 407,-413 407,-413 407,-407 413,-401 419,-401 419,-401 498,-401 498,-401 504,-401 510,-407 510,-413 510,-413 510,-457 510,-457 510,-463 504,-469 498,-469\"/>\n<text text-anchor=\"start\" x=\"415\" y=\"-453.8\" font-family=\"Helvetica,sans-Serif\" font-size=\"14.00\">CGPA ≤ 8.295</text>\n<text text-anchor=\"start\" x=\"430.5\" y=\"-438.8\" font-family=\"Helvetica,sans-Serif\" font-size=\"14.00\">gini = 0.5</text>\n<text text-anchor=\"start\" x=\"421\" y=\"-423.8\" font-family=\"Helvetica,sans-Serif\" font-size=\"14.00\">samples = 4</text>\n<text text-anchor=\"start\" x=\"419\" y=\"-408.8\" font-family=\"Helvetica,sans-Serif\" font-size=\"14.00\">value = [2, 2]</text>\n</g>\n<!-- 12&#45;&gt;14 -->\n<g id=\"edge14\" class=\"edge\">\n<title>12&#45;&gt;14</title>\n<path fill=\"none\" stroke=\"black\" d=\"M380.16,-504.88C390.6,-495.71 402.04,-485.65 412.87,-476.12\"/>\n<polygon fill=\"black\" stroke=\"black\" points=\"415.43,-478.53 420.63,-469.3 410.81,-473.27 415.43,-478.53\"/>\n</g>\n<!-- 15 -->\n<g id=\"node16\" class=\"node\">\n<title>15</title>\n<path fill=\"#399de5\" stroke=\"black\" d=\"M381,-357.5C381,-357.5 310,-357.5 310,-357.5 304,-357.5 298,-351.5 298,-345.5 298,-345.5 298,-316.5 298,-316.5 298,-310.5 304,-304.5 310,-304.5 310,-304.5 381,-304.5 381,-304.5 387,-304.5 393,-310.5 393,-316.5 393,-316.5 393,-345.5 393,-345.5 393,-351.5 387,-357.5 381,-357.5\"/>\n<text text-anchor=\"start\" x=\"317.5\" y=\"-342.3\" font-family=\"Helvetica,sans-Serif\" font-size=\"14.00\">gini = 0.0</text>\n<text text-anchor=\"start\" x=\"308\" y=\"-327.3\" font-family=\"Helvetica,sans-Serif\" font-size=\"14.00\">samples = 2</text>\n<text text-anchor=\"start\" x=\"306\" y=\"-312.3\" font-family=\"Helvetica,sans-Serif\" font-size=\"14.00\">value = [0, 2]</text>\n</g>\n<!-- 14&#45;&gt;15 -->\n<g id=\"edge15\" class=\"edge\">\n<title>14&#45;&gt;15</title>\n<path fill=\"none\" stroke=\"black\" d=\"M421.81,-400.88C408.9,-389.23 394.4,-376.14 381.54,-364.53\"/>\n<polygon fill=\"black\" stroke=\"black\" points=\"383.54,-361.62 373.77,-357.52 378.85,-366.82 383.54,-361.62\"/>\n</g>\n<!-- 16 -->\n<g id=\"node17\" class=\"node\">\n<title>16</title>\n<path fill=\"#e58139\" stroke=\"black\" d=\"M494,-357.5C494,-357.5 423,-357.5 423,-357.5 417,-357.5 411,-351.5 411,-345.5 411,-345.5 411,-316.5 411,-316.5 411,-310.5 417,-304.5 423,-304.5 423,-304.5 494,-304.5 494,-304.5 500,-304.5 506,-310.5 506,-316.5 506,-316.5 506,-345.5 506,-345.5 506,-351.5 500,-357.5 494,-357.5\"/>\n<text text-anchor=\"start\" x=\"430.5\" y=\"-342.3\" font-family=\"Helvetica,sans-Serif\" font-size=\"14.00\">gini = 0.0</text>\n<text text-anchor=\"start\" x=\"421\" y=\"-327.3\" font-family=\"Helvetica,sans-Serif\" font-size=\"14.00\">samples = 2</text>\n<text text-anchor=\"start\" x=\"419\" y=\"-312.3\" font-family=\"Helvetica,sans-Serif\" font-size=\"14.00\">value = [2, 0]</text>\n</g>\n<!-- 14&#45;&gt;16 -->\n<g id=\"edge16\" class=\"edge\">\n<title>14&#45;&gt;16</title>\n<path fill=\"none\" stroke=\"black\" d=\"M458.5,-400.88C458.5,-390.33 458.5,-378.6 458.5,-367.85\"/>\n<polygon fill=\"black\" stroke=\"black\" points=\"462,-367.52 458.5,-357.52 455,-367.52 462,-367.52\"/>\n</g>\n<!-- 18 -->\n<g id=\"node19\" class=\"node\">\n<title>18</title>\n<path fill=\"#399de5\" stroke=\"black\" d=\"M498,-565.5C498,-565.5 427,-565.5 427,-565.5 421,-565.5 415,-559.5 415,-553.5 415,-553.5 415,-524.5 415,-524.5 415,-518.5 421,-512.5 427,-512.5 427,-512.5 498,-512.5 498,-512.5 504,-512.5 510,-518.5 510,-524.5 510,-524.5 510,-553.5 510,-553.5 510,-559.5 504,-565.5 498,-565.5\"/>\n<text text-anchor=\"start\" x=\"434.5\" y=\"-550.3\" font-family=\"Helvetica,sans-Serif\" font-size=\"14.00\">gini = 0.0</text>\n<text text-anchor=\"start\" x=\"425\" y=\"-535.3\" font-family=\"Helvetica,sans-Serif\" font-size=\"14.00\">samples = 1</text>\n<text text-anchor=\"start\" x=\"423\" y=\"-520.3\" font-family=\"Helvetica,sans-Serif\" font-size=\"14.00\">value = [0, 1]</text>\n</g>\n<!-- 17&#45;&gt;18 -->\n<g id=\"edge18\" class=\"edge\">\n<title>17&#45;&gt;18</title>\n<path fill=\"none\" stroke=\"black\" d=\"M516.53,-608.88C507.64,-597.56 497.7,-584.88 488.79,-573.52\"/>\n<polygon fill=\"black\" stroke=\"black\" points=\"491.44,-571.23 482.52,-565.52 485.93,-575.55 491.44,-571.23\"/>\n</g>\n<!-- 19 -->\n<g id=\"node20\" class=\"node\">\n<title>19</title>\n<path fill=\"#e58139\" stroke=\"black\" d=\"M611,-565.5C611,-565.5 540,-565.5 540,-565.5 534,-565.5 528,-559.5 528,-553.5 528,-553.5 528,-524.5 528,-524.5 528,-518.5 534,-512.5 540,-512.5 540,-512.5 611,-512.5 611,-512.5 617,-512.5 623,-518.5 623,-524.5 623,-524.5 623,-553.5 623,-553.5 623,-559.5 617,-565.5 611,-565.5\"/>\n<text text-anchor=\"start\" x=\"547.5\" y=\"-550.3\" font-family=\"Helvetica,sans-Serif\" font-size=\"14.00\">gini = 0.0</text>\n<text text-anchor=\"start\" x=\"538\" y=\"-535.3\" font-family=\"Helvetica,sans-Serif\" font-size=\"14.00\">samples = 2</text>\n<text text-anchor=\"start\" x=\"536\" y=\"-520.3\" font-family=\"Helvetica,sans-Serif\" font-size=\"14.00\">value = [2, 0]</text>\n</g>\n<!-- 17&#45;&gt;19 -->\n<g id=\"edge19\" class=\"edge\">\n<title>17&#45;&gt;19</title>\n<path fill=\"none\" stroke=\"black\" d=\"M553.21,-608.88C556.7,-598.11 560.58,-586.11 564.12,-575.18\"/>\n<polygon fill=\"black\" stroke=\"black\" points=\"567.5,-576.11 567.24,-565.52 560.84,-573.96 567.5,-576.11\"/>\n</g>\n<!-- 21 -->\n<g id=\"node22\" class=\"node\">\n<title>21</title>\n<path fill=\"#e58139\" stroke=\"black\" d=\"M758.5,-669.5C758.5,-669.5 680.5,-669.5 680.5,-669.5 674.5,-669.5 668.5,-663.5 668.5,-657.5 668.5,-657.5 668.5,-628.5 668.5,-628.5 668.5,-622.5 674.5,-616.5 680.5,-616.5 680.5,-616.5 758.5,-616.5 758.5,-616.5 764.5,-616.5 770.5,-622.5 770.5,-628.5 770.5,-628.5 770.5,-657.5 770.5,-657.5 770.5,-663.5 764.5,-669.5 758.5,-669.5\"/>\n<text text-anchor=\"start\" x=\"691.5\" y=\"-654.3\" font-family=\"Helvetica,sans-Serif\" font-size=\"14.00\">gini = 0.0</text>\n<text text-anchor=\"start\" x=\"678.5\" y=\"-639.3\" font-family=\"Helvetica,sans-Serif\" font-size=\"14.00\">samples = 12</text>\n<text text-anchor=\"start\" x=\"676.5\" y=\"-624.3\" font-family=\"Helvetica,sans-Serif\" font-size=\"14.00\">value = [12, 0]</text>\n</g>\n<!-- 20&#45;&gt;21 -->\n<g id=\"edge21\" class=\"edge\">\n<title>20&#45;&gt;21</title>\n<path fill=\"none\" stroke=\"black\" d=\"M765.42,-712.88C757.94,-701.67 749.58,-689.13 742.07,-677.85\"/>\n<polygon fill=\"black\" stroke=\"black\" points=\"744.97,-675.9 736.51,-669.52 739.15,-679.78 744.97,-675.9\"/>\n</g>\n<!-- 22 -->\n<g id=\"node23\" class=\"node\">\n<title>22</title>\n<path fill=\"#deeffb\" stroke=\"black\" d=\"M910.5,-677C910.5,-677 800.5,-677 800.5,-677 794.5,-677 788.5,-671 788.5,-665 788.5,-665 788.5,-621 788.5,-621 788.5,-615 794.5,-609 800.5,-609 800.5,-609 910.5,-609 910.5,-609 916.5,-609 922.5,-615 922.5,-621 922.5,-621 922.5,-665 922.5,-665 922.5,-671 916.5,-677 910.5,-677\"/>\n<text text-anchor=\"start\" x=\"796.5\" y=\"-661.8\" font-family=\"Helvetica,sans-Serif\" font-size=\"14.00\">GRE Score ≤ 318.0</text>\n<text text-anchor=\"start\" x=\"820\" y=\"-646.8\" font-family=\"Helvetica,sans-Serif\" font-size=\"14.00\">gini = 0.496</text>\n<text text-anchor=\"start\" x=\"814.5\" y=\"-631.8\" font-family=\"Helvetica,sans-Serif\" font-size=\"14.00\">samples = 11</text>\n<text text-anchor=\"start\" x=\"816\" y=\"-616.8\" font-family=\"Helvetica,sans-Serif\" font-size=\"14.00\">value = [5, 6]</text>\n</g>\n<!-- 20&#45;&gt;22 -->\n<g id=\"edge22\" class=\"edge\">\n<title>20&#45;&gt;22</title>\n<path fill=\"none\" stroke=\"black\" d=\"M809.58,-712.88C815.34,-704.24 821.62,-694.82 827.64,-685.79\"/>\n<polygon fill=\"black\" stroke=\"black\" points=\"830.67,-687.56 833.3,-677.3 824.84,-683.68 830.67,-687.56\"/>\n</g>\n<!-- 23 -->\n<g id=\"node24\" class=\"node\">\n<title>23</title>\n<path fill=\"#fae6d7\" stroke=\"black\" d=\"M778,-573C778,-573 653,-573 653,-573 647,-573 641,-567 641,-561 641,-561 641,-517 641,-517 641,-511 647,-505 653,-505 653,-505 778,-505 778,-505 784,-505 790,-511 790,-517 790,-517 790,-561 790,-561 790,-567 784,-573 778,-573\"/>\n<text text-anchor=\"start\" x=\"649\" y=\"-557.8\" font-family=\"Helvetica,sans-Serif\" font-size=\"14.00\">TOEFL Score ≤ 104.5</text>\n<text text-anchor=\"start\" x=\"680\" y=\"-542.8\" font-family=\"Helvetica,sans-Serif\" font-size=\"14.00\">gini = 0.494</text>\n<text text-anchor=\"start\" x=\"678\" y=\"-527.8\" font-family=\"Helvetica,sans-Serif\" font-size=\"14.00\">samples = 9</text>\n<text text-anchor=\"start\" x=\"676\" y=\"-512.8\" font-family=\"Helvetica,sans-Serif\" font-size=\"14.00\">value = [5, 4]</text>\n</g>\n<!-- 22&#45;&gt;23 -->\n<g id=\"edge23\" class=\"edge\">\n<title>22&#45;&gt;23</title>\n<path fill=\"none\" stroke=\"black\" d=\"M810.05,-608.88C797.09,-599.44 782.84,-589.06 769.43,-579.29\"/>\n<polygon fill=\"black\" stroke=\"black\" points=\"771.35,-576.36 761.21,-573.3 767.23,-582.02 771.35,-576.36\"/>\n</g>\n<!-- 30 -->\n<g id=\"node31\" class=\"node\">\n<title>30</title>\n<path fill=\"#399de5\" stroke=\"black\" d=\"M891,-565.5C891,-565.5 820,-565.5 820,-565.5 814,-565.5 808,-559.5 808,-553.5 808,-553.5 808,-524.5 808,-524.5 808,-518.5 814,-512.5 820,-512.5 820,-512.5 891,-512.5 891,-512.5 897,-512.5 903,-518.5 903,-524.5 903,-524.5 903,-553.5 903,-553.5 903,-559.5 897,-565.5 891,-565.5\"/>\n<text text-anchor=\"start\" x=\"827.5\" y=\"-550.3\" font-family=\"Helvetica,sans-Serif\" font-size=\"14.00\">gini = 0.0</text>\n<text text-anchor=\"start\" x=\"818\" y=\"-535.3\" font-family=\"Helvetica,sans-Serif\" font-size=\"14.00\">samples = 2</text>\n<text text-anchor=\"start\" x=\"816\" y=\"-520.3\" font-family=\"Helvetica,sans-Serif\" font-size=\"14.00\">value = [0, 2]</text>\n</g>\n<!-- 22&#45;&gt;30 -->\n<g id=\"edge30\" class=\"edge\">\n<title>22&#45;&gt;30</title>\n<path fill=\"none\" stroke=\"black\" d=\"M855.5,-608.88C855.5,-598.33 855.5,-586.6 855.5,-575.85\"/>\n<polygon fill=\"black\" stroke=\"black\" points=\"859,-575.52 855.5,-565.52 852,-575.52 859,-575.52\"/>\n</g>\n<!-- 24 -->\n<g id=\"node25\" class=\"node\">\n<title>24</title>\n<path fill=\"#efb388\" stroke=\"black\" d=\"M642,-469C642,-469 571,-469 571,-469 565,-469 559,-463 559,-457 559,-457 559,-413 559,-413 559,-407 565,-401 571,-401 571,-401 642,-401 642,-401 648,-401 654,-407 654,-413 654,-413 654,-457 654,-457 654,-463 648,-469 642,-469\"/>\n<text text-anchor=\"start\" x=\"567\" y=\"-453.8\" font-family=\"Helvetica,sans-Serif\" font-size=\"14.00\">CGPA ≤ 8.59</text>\n<text text-anchor=\"start\" x=\"571\" y=\"-438.8\" font-family=\"Helvetica,sans-Serif\" font-size=\"14.00\">gini = 0.408</text>\n<text text-anchor=\"start\" x=\"569\" y=\"-423.8\" font-family=\"Helvetica,sans-Serif\" font-size=\"14.00\">samples = 7</text>\n<text text-anchor=\"start\" x=\"567\" y=\"-408.8\" font-family=\"Helvetica,sans-Serif\" font-size=\"14.00\">value = [5, 2]</text>\n</g>\n<!-- 23&#45;&gt;24 -->\n<g id=\"edge24\" class=\"edge\">\n<title>23&#45;&gt;24</title>\n<path fill=\"none\" stroke=\"black\" d=\"M680.11,-504.88C670.4,-495.8 659.77,-485.85 649.67,-476.4\"/>\n<polygon fill=\"black\" stroke=\"black\" points=\"651.78,-473.58 642.08,-469.3 646.99,-478.69 651.78,-473.58\"/>\n</g>\n<!-- 29 -->\n<g id=\"node30\" class=\"node\">\n<title>29</title>\n<path fill=\"#399de5\" stroke=\"black\" d=\"M755,-461.5C755,-461.5 684,-461.5 684,-461.5 678,-461.5 672,-455.5 672,-449.5 672,-449.5 672,-420.5 672,-420.5 672,-414.5 678,-408.5 684,-408.5 684,-408.5 755,-408.5 755,-408.5 761,-408.5 767,-414.5 767,-420.5 767,-420.5 767,-449.5 767,-449.5 767,-455.5 761,-461.5 755,-461.5\"/>\n<text text-anchor=\"start\" x=\"691.5\" y=\"-446.3\" font-family=\"Helvetica,sans-Serif\" font-size=\"14.00\">gini = 0.0</text>\n<text text-anchor=\"start\" x=\"682\" y=\"-431.3\" font-family=\"Helvetica,sans-Serif\" font-size=\"14.00\">samples = 2</text>\n<text text-anchor=\"start\" x=\"680\" y=\"-416.3\" font-family=\"Helvetica,sans-Serif\" font-size=\"14.00\">value = [0, 2]</text>\n</g>\n<!-- 23&#45;&gt;29 -->\n<g id=\"edge29\" class=\"edge\">\n<title>23&#45;&gt;29</title>\n<path fill=\"none\" stroke=\"black\" d=\"M716.8,-504.88C717.22,-494.22 717.68,-482.35 718.11,-471.52\"/>\n<polygon fill=\"black\" stroke=\"black\" points=\"721.6,-471.65 718.5,-461.52 714.61,-471.38 721.6,-471.65\"/>\n</g>\n<!-- 25 -->\n<g id=\"node26\" class=\"node\">\n<title>25</title>\n<path fill=\"#9ccef2\" stroke=\"black\" d=\"M664,-365C664,-365 539,-365 539,-365 533,-365 527,-359 527,-353 527,-353 527,-309 527,-309 527,-303 533,-297 539,-297 539,-297 664,-297 664,-297 670,-297 676,-303 676,-309 676,-309 676,-353 676,-353 676,-359 670,-365 664,-365\"/>\n<text text-anchor=\"start\" x=\"535\" y=\"-349.8\" font-family=\"Helvetica,sans-Serif\" font-size=\"14.00\">TOEFL Score ≤ 103.5</text>\n<text text-anchor=\"start\" x=\"566\" y=\"-334.8\" font-family=\"Helvetica,sans-Serif\" font-size=\"14.00\">gini = 0.444</text>\n<text text-anchor=\"start\" x=\"564\" y=\"-319.8\" font-family=\"Helvetica,sans-Serif\" font-size=\"14.00\">samples = 3</text>\n<text text-anchor=\"start\" x=\"562\" y=\"-304.8\" font-family=\"Helvetica,sans-Serif\" font-size=\"14.00\">value = [1, 2]</text>\n</g>\n<!-- 24&#45;&gt;25 -->\n<g id=\"edge25\" class=\"edge\">\n<title>24&#45;&gt;25</title>\n<path fill=\"none\" stroke=\"black\" d=\"M604.88,-400.88C604.48,-392.78 604.05,-383.98 603.63,-375.47\"/>\n<polygon fill=\"black\" stroke=\"black\" points=\"607.12,-375.12 603.13,-365.3 600.13,-375.46 607.12,-375.12\"/>\n</g>\n<!-- 28 -->\n<g id=\"node29\" class=\"node\">\n<title>28</title>\n<path fill=\"#e58139\" stroke=\"black\" d=\"M777,-357.5C777,-357.5 706,-357.5 706,-357.5 700,-357.5 694,-351.5 694,-345.5 694,-345.5 694,-316.5 694,-316.5 694,-310.5 700,-304.5 706,-304.5 706,-304.5 777,-304.5 777,-304.5 783,-304.5 789,-310.5 789,-316.5 789,-316.5 789,-345.5 789,-345.5 789,-351.5 783,-357.5 777,-357.5\"/>\n<text text-anchor=\"start\" x=\"713.5\" y=\"-342.3\" font-family=\"Helvetica,sans-Serif\" font-size=\"14.00\">gini = 0.0</text>\n<text text-anchor=\"start\" x=\"704\" y=\"-327.3\" font-family=\"Helvetica,sans-Serif\" font-size=\"14.00\">samples = 4</text>\n<text text-anchor=\"start\" x=\"702\" y=\"-312.3\" font-family=\"Helvetica,sans-Serif\" font-size=\"14.00\">value = [4, 0]</text>\n</g>\n<!-- 24&#45;&gt;28 -->\n<g id=\"edge28\" class=\"edge\">\n<title>24&#45;&gt;28</title>\n<path fill=\"none\" stroke=\"black\" d=\"M650.33,-400.88C666.2,-388.9 684.06,-375.4 699.74,-363.55\"/>\n<polygon fill=\"black\" stroke=\"black\" points=\"701.85,-366.34 707.72,-357.52 697.63,-360.76 701.85,-366.34\"/>\n</g>\n<!-- 26 -->\n<g id=\"node27\" class=\"node\">\n<title>26</title>\n<path fill=\"#399de5\" stroke=\"black\" d=\"M581,-253.5C581,-253.5 510,-253.5 510,-253.5 504,-253.5 498,-247.5 498,-241.5 498,-241.5 498,-212.5 498,-212.5 498,-206.5 504,-200.5 510,-200.5 510,-200.5 581,-200.5 581,-200.5 587,-200.5 593,-206.5 593,-212.5 593,-212.5 593,-241.5 593,-241.5 593,-247.5 587,-253.5 581,-253.5\"/>\n<text text-anchor=\"start\" x=\"517.5\" y=\"-238.3\" font-family=\"Helvetica,sans-Serif\" font-size=\"14.00\">gini = 0.0</text>\n<text text-anchor=\"start\" x=\"508\" y=\"-223.3\" font-family=\"Helvetica,sans-Serif\" font-size=\"14.00\">samples = 2</text>\n<text text-anchor=\"start\" x=\"506\" y=\"-208.3\" font-family=\"Helvetica,sans-Serif\" font-size=\"14.00\">value = [0, 2]</text>\n</g>\n<!-- 25&#45;&gt;26 -->\n<g id=\"edge26\" class=\"edge\">\n<title>25&#45;&gt;26</title>\n<path fill=\"none\" stroke=\"black\" d=\"M583.32,-296.88C577.28,-285.89 570.54,-273.62 564.45,-262.52\"/>\n<polygon fill=\"black\" stroke=\"black\" points=\"567.39,-260.6 559.51,-253.52 561.26,-263.97 567.39,-260.6\"/>\n</g>\n<!-- 27 -->\n<g id=\"node28\" class=\"node\">\n<title>27</title>\n<path fill=\"#e58139\" stroke=\"black\" d=\"M694,-253.5C694,-253.5 623,-253.5 623,-253.5 617,-253.5 611,-247.5 611,-241.5 611,-241.5 611,-212.5 611,-212.5 611,-206.5 617,-200.5 623,-200.5 623,-200.5 694,-200.5 694,-200.5 700,-200.5 706,-206.5 706,-212.5 706,-212.5 706,-241.5 706,-241.5 706,-247.5 700,-253.5 694,-253.5\"/>\n<text text-anchor=\"start\" x=\"630.5\" y=\"-238.3\" font-family=\"Helvetica,sans-Serif\" font-size=\"14.00\">gini = 0.0</text>\n<text text-anchor=\"start\" x=\"621\" y=\"-223.3\" font-family=\"Helvetica,sans-Serif\" font-size=\"14.00\">samples = 1</text>\n<text text-anchor=\"start\" x=\"619\" y=\"-208.3\" font-family=\"Helvetica,sans-Serif\" font-size=\"14.00\">value = [1, 0]</text>\n</g>\n<!-- 25&#45;&gt;27 -->\n<g id=\"edge27\" class=\"edge\">\n<title>25&#45;&gt;27</title>\n<path fill=\"none\" stroke=\"black\" d=\"M620.01,-296.88C626.15,-285.89 633.01,-273.62 639.21,-262.52\"/>\n<polygon fill=\"black\" stroke=\"black\" points=\"642.42,-263.96 644.24,-253.52 636.31,-260.54 642.42,-263.96\"/>\n</g>\n<!-- 32 -->\n<g id=\"node33\" class=\"node\">\n<title>32</title>\n<path fill=\"#eca26c\" stroke=\"black\" d=\"M1191,-781C1191,-781 1090,-781 1090,-781 1084,-781 1078,-775 1078,-769 1078,-769 1078,-725 1078,-725 1078,-719 1084,-713 1090,-713 1090,-713 1191,-713 1191,-713 1197,-713 1203,-719 1203,-725 1203,-725 1203,-769 1203,-769 1203,-775 1197,-781 1191,-781\"/>\n<text text-anchor=\"start\" x=\"1101\" y=\"-765.8\" font-family=\"Helvetica,sans-Serif\" font-size=\"14.00\">CGPA ≤ 8.31</text>\n<text text-anchor=\"start\" x=\"1105\" y=\"-750.8\" font-family=\"Helvetica,sans-Serif\" font-size=\"14.00\">gini = 0.326</text>\n<text text-anchor=\"start\" x=\"1099.5\" y=\"-735.8\" font-family=\"Helvetica,sans-Serif\" font-size=\"14.00\">samples = 39</text>\n<text text-anchor=\"start\" x=\"1086\" y=\"-720.8\" font-family=\"Helvetica,sans-Serif\" font-size=\"14.00\">value = [31.0, 8.0]</text>\n</g>\n<!-- 31&#45;&gt;32 -->\n<g id=\"edge32\" class=\"edge\">\n<title>31&#45;&gt;32</title>\n<path fill=\"none\" stroke=\"black\" d=\"M1206.01,-816.88C1197.45,-807.89 1188.09,-798.04 1179.18,-788.68\"/>\n<polygon fill=\"black\" stroke=\"black\" points=\"1181.59,-786.13 1172.17,-781.3 1176.52,-790.96 1181.59,-786.13\"/>\n</g>\n<!-- 51 -->\n<g id=\"node52\" class=\"node\">\n<title>51</title>\n<path fill=\"#ffffff\" stroke=\"black\" d=\"M1378.5,-781C1378.5,-781 1292.5,-781 1292.5,-781 1286.5,-781 1280.5,-775 1280.5,-769 1280.5,-769 1280.5,-725 1280.5,-725 1280.5,-719 1286.5,-713 1292.5,-713 1292.5,-713 1378.5,-713 1378.5,-713 1384.5,-713 1390.5,-719 1390.5,-725 1390.5,-725 1390.5,-769 1390.5,-769 1390.5,-775 1384.5,-781 1378.5,-781\"/>\n<text text-anchor=\"start\" x=\"1289.5\" y=\"-765.8\" font-family=\"Helvetica,sans-Serif\" font-size=\"14.00\">Research ≤ 0.5</text>\n<text text-anchor=\"start\" x=\"1307.5\" y=\"-750.8\" font-family=\"Helvetica,sans-Serif\" font-size=\"14.00\">gini = 0.5</text>\n<text text-anchor=\"start\" x=\"1294.5\" y=\"-735.8\" font-family=\"Helvetica,sans-Serif\" font-size=\"14.00\">samples = 26</text>\n<text text-anchor=\"start\" x=\"1288.5\" y=\"-720.8\" font-family=\"Helvetica,sans-Serif\" font-size=\"14.00\">value = [13, 13]</text>\n</g>\n<!-- 31&#45;&gt;51 -->\n<g id=\"edge51\" class=\"edge\">\n<title>31&#45;&gt;51</title>\n<path fill=\"none\" stroke=\"black\" d=\"M1269.32,-816.88C1277.96,-807.89 1287.42,-798.04 1296.42,-788.68\"/>\n<polygon fill=\"black\" stroke=\"black\" points=\"1299.1,-790.94 1303.51,-781.3 1294.05,-786.09 1299.1,-790.94\"/>\n</g>\n<!-- 33 -->\n<g id=\"node34\" class=\"node\">\n<title>33</title>\n<path fill=\"#e58139\" stroke=\"black\" d=\"M1034.5,-669.5C1034.5,-669.5 956.5,-669.5 956.5,-669.5 950.5,-669.5 944.5,-663.5 944.5,-657.5 944.5,-657.5 944.5,-628.5 944.5,-628.5 944.5,-622.5 950.5,-616.5 956.5,-616.5 956.5,-616.5 1034.5,-616.5 1034.5,-616.5 1040.5,-616.5 1046.5,-622.5 1046.5,-628.5 1046.5,-628.5 1046.5,-657.5 1046.5,-657.5 1046.5,-663.5 1040.5,-669.5 1034.5,-669.5\"/>\n<text text-anchor=\"start\" x=\"967.5\" y=\"-654.3\" font-family=\"Helvetica,sans-Serif\" font-size=\"14.00\">gini = 0.0</text>\n<text text-anchor=\"start\" x=\"954.5\" y=\"-639.3\" font-family=\"Helvetica,sans-Serif\" font-size=\"14.00\">samples = 12</text>\n<text text-anchor=\"start\" x=\"952.5\" y=\"-624.3\" font-family=\"Helvetica,sans-Serif\" font-size=\"14.00\">value = [12, 0]</text>\n</g>\n<!-- 32&#45;&gt;33 -->\n<g id=\"edge33\" class=\"edge\">\n<title>32&#45;&gt;33</title>\n<path fill=\"none\" stroke=\"black\" d=\"M1093.42,-712.88C1076.38,-700.9 1057.19,-687.4 1040.35,-675.55\"/>\n<polygon fill=\"black\" stroke=\"black\" points=\"1041.97,-672.41 1031.78,-669.52 1037.94,-678.14 1041.97,-672.41\"/>\n</g>\n<!-- 34 -->\n<g id=\"node35\" class=\"node\">\n<title>34</title>\n<path fill=\"#f0b68c\" stroke=\"black\" d=\"M1204.5,-677C1204.5,-677 1076.5,-677 1076.5,-677 1070.5,-677 1064.5,-671 1064.5,-665 1064.5,-665 1064.5,-621 1064.5,-621 1064.5,-615 1070.5,-609 1076.5,-609 1076.5,-609 1204.5,-609 1204.5,-609 1210.5,-609 1216.5,-615 1216.5,-621 1216.5,-621 1216.5,-665 1216.5,-665 1216.5,-671 1210.5,-677 1204.5,-677\"/>\n<text text-anchor=\"start\" x=\"1072.5\" y=\"-661.8\" font-family=\"Helvetica,sans-Serif\" font-size=\"14.00\">University Rating ≤ 2.5</text>\n<text text-anchor=\"start\" x=\"1105\" y=\"-646.8\" font-family=\"Helvetica,sans-Serif\" font-size=\"14.00\">gini = 0.417</text>\n<text text-anchor=\"start\" x=\"1099.5\" y=\"-631.8\" font-family=\"Helvetica,sans-Serif\" font-size=\"14.00\">samples = 27</text>\n<text text-anchor=\"start\" x=\"1097.5\" y=\"-616.8\" font-family=\"Helvetica,sans-Serif\" font-size=\"14.00\">value = [19, 8]</text>\n</g>\n<!-- 32&#45;&gt;34 -->\n<g id=\"edge34\" class=\"edge\">\n<title>32&#45;&gt;34</title>\n<path fill=\"none\" stroke=\"black\" d=\"M1140.5,-712.88C1140.5,-704.78 1140.5,-695.98 1140.5,-687.47\"/>\n<polygon fill=\"black\" stroke=\"black\" points=\"1144,-687.3 1140.5,-677.3 1137,-687.3 1144,-687.3\"/>\n</g>\n<!-- 35 -->\n<g id=\"node36\" class=\"node\">\n<title>35</title>\n<path fill=\"#e88f4f\" stroke=\"black\" d=\"M1043.5,-573C1043.5,-573 933.5,-573 933.5,-573 927.5,-573 921.5,-567 921.5,-561 921.5,-561 921.5,-517 921.5,-517 921.5,-511 927.5,-505 933.5,-505 933.5,-505 1043.5,-505 1043.5,-505 1049.5,-505 1055.5,-511 1055.5,-517 1055.5,-517 1055.5,-561 1055.5,-561 1055.5,-567 1049.5,-573 1043.5,-573\"/>\n<text text-anchor=\"start\" x=\"929.5\" y=\"-557.8\" font-family=\"Helvetica,sans-Serif\" font-size=\"14.00\">GRE Score ≤ 307.5</text>\n<text text-anchor=\"start\" x=\"956.5\" y=\"-542.8\" font-family=\"Helvetica,sans-Serif\" font-size=\"14.00\">gini = 0.18</text>\n<text text-anchor=\"start\" x=\"947.5\" y=\"-527.8\" font-family=\"Helvetica,sans-Serif\" font-size=\"14.00\">samples = 10</text>\n<text text-anchor=\"start\" x=\"949\" y=\"-512.8\" font-family=\"Helvetica,sans-Serif\" font-size=\"14.00\">value = [9, 1]</text>\n</g>\n<!-- 34&#45;&gt;35 -->\n<g id=\"edge35\" class=\"edge\">\n<title>34&#45;&gt;35</title>\n<path fill=\"none\" stroke=\"black\" d=\"M1091.15,-608.88C1076.87,-599.3 1061.16,-588.76 1046.42,-578.86\"/>\n<polygon fill=\"black\" stroke=\"black\" points=\"1048.12,-575.79 1037.86,-573.12 1044.22,-581.6 1048.12,-575.79\"/>\n</g>\n<!-- 40 -->\n<g id=\"node41\" class=\"node\">\n<title>40</title>\n<path fill=\"#f7d9c4\" stroke=\"black\" d=\"M1195.5,-573C1195.5,-573 1085.5,-573 1085.5,-573 1079.5,-573 1073.5,-567 1073.5,-561 1073.5,-561 1073.5,-517 1073.5,-517 1073.5,-511 1079.5,-505 1085.5,-505 1085.5,-505 1195.5,-505 1195.5,-505 1201.5,-505 1207.5,-511 1207.5,-517 1207.5,-517 1207.5,-561 1207.5,-561 1207.5,-567 1201.5,-573 1195.5,-573\"/>\n<text text-anchor=\"start\" x=\"1081.5\" y=\"-557.8\" font-family=\"Helvetica,sans-Serif\" font-size=\"14.00\">GRE Score ≤ 306.0</text>\n<text text-anchor=\"start\" x=\"1105\" y=\"-542.8\" font-family=\"Helvetica,sans-Serif\" font-size=\"14.00\">gini = 0.484</text>\n<text text-anchor=\"start\" x=\"1099.5\" y=\"-527.8\" font-family=\"Helvetica,sans-Serif\" font-size=\"14.00\">samples = 17</text>\n<text text-anchor=\"start\" x=\"1097.5\" y=\"-512.8\" font-family=\"Helvetica,sans-Serif\" font-size=\"14.00\">value = [10, 7]</text>\n</g>\n<!-- 34&#45;&gt;40 -->\n<g id=\"edge40\" class=\"edge\">\n<title>34&#45;&gt;40</title>\n<path fill=\"none\" stroke=\"black\" d=\"M1140.5,-608.88C1140.5,-600.78 1140.5,-591.98 1140.5,-583.47\"/>\n<polygon fill=\"black\" stroke=\"black\" points=\"1144,-583.3 1140.5,-573.3 1137,-583.3 1144,-583.3\"/>\n</g>\n<!-- 36 -->\n<g id=\"node37\" class=\"node\">\n<title>36</title>\n<path fill=\"#f2c09c\" stroke=\"black\" d=\"M910.5,-469C910.5,-469 800.5,-469 800.5,-469 794.5,-469 788.5,-463 788.5,-457 788.5,-457 788.5,-413 788.5,-413 788.5,-407 794.5,-401 800.5,-401 800.5,-401 910.5,-401 910.5,-401 916.5,-401 922.5,-407 922.5,-413 922.5,-413 922.5,-457 922.5,-457 922.5,-463 916.5,-469 910.5,-469\"/>\n<text text-anchor=\"start\" x=\"796.5\" y=\"-453.8\" font-family=\"Helvetica,sans-Serif\" font-size=\"14.00\">GRE Score ≤ 306.5</text>\n<text text-anchor=\"start\" x=\"820\" y=\"-438.8\" font-family=\"Helvetica,sans-Serif\" font-size=\"14.00\">gini = 0.444</text>\n<text text-anchor=\"start\" x=\"818\" y=\"-423.8\" font-family=\"Helvetica,sans-Serif\" font-size=\"14.00\">samples = 3</text>\n<text text-anchor=\"start\" x=\"816\" y=\"-408.8\" font-family=\"Helvetica,sans-Serif\" font-size=\"14.00\">value = [2, 1]</text>\n</g>\n<!-- 35&#45;&gt;36 -->\n<g id=\"edge36\" class=\"edge\">\n<title>35&#45;&gt;36</title>\n<path fill=\"none\" stroke=\"black\" d=\"M945.32,-504.88C933.12,-495.53 919.73,-485.26 907.09,-475.57\"/>\n<polygon fill=\"black\" stroke=\"black\" points=\"908.98,-472.61 898.92,-469.3 904.72,-478.16 908.98,-472.61\"/>\n</g>\n<!-- 39 -->\n<g id=\"node40\" class=\"node\">\n<title>39</title>\n<path fill=\"#e58139\" stroke=\"black\" d=\"M1024,-461.5C1024,-461.5 953,-461.5 953,-461.5 947,-461.5 941,-455.5 941,-449.5 941,-449.5 941,-420.5 941,-420.5 941,-414.5 947,-408.5 953,-408.5 953,-408.5 1024,-408.5 1024,-408.5 1030,-408.5 1036,-414.5 1036,-420.5 1036,-420.5 1036,-449.5 1036,-449.5 1036,-455.5 1030,-461.5 1024,-461.5\"/>\n<text text-anchor=\"start\" x=\"960.5\" y=\"-446.3\" font-family=\"Helvetica,sans-Serif\" font-size=\"14.00\">gini = 0.0</text>\n<text text-anchor=\"start\" x=\"951\" y=\"-431.3\" font-family=\"Helvetica,sans-Serif\" font-size=\"14.00\">samples = 7</text>\n<text text-anchor=\"start\" x=\"949\" y=\"-416.3\" font-family=\"Helvetica,sans-Serif\" font-size=\"14.00\">value = [7, 0]</text>\n</g>\n<!-- 35&#45;&gt;39 -->\n<g id=\"edge39\" class=\"edge\">\n<title>35&#45;&gt;39</title>\n<path fill=\"none\" stroke=\"black\" d=\"M988.5,-504.88C988.5,-494.33 988.5,-482.6 988.5,-471.85\"/>\n<polygon fill=\"black\" stroke=\"black\" points=\"992,-471.52 988.5,-461.52 985,-471.52 992,-471.52\"/>\n</g>\n<!-- 37 -->\n<g id=\"node38\" class=\"node\">\n<title>37</title>\n<path fill=\"#e58139\" stroke=\"black\" d=\"M891,-357.5C891,-357.5 820,-357.5 820,-357.5 814,-357.5 808,-351.5 808,-345.5 808,-345.5 808,-316.5 808,-316.5 808,-310.5 814,-304.5 820,-304.5 820,-304.5 891,-304.5 891,-304.5 897,-304.5 903,-310.5 903,-316.5 903,-316.5 903,-345.5 903,-345.5 903,-351.5 897,-357.5 891,-357.5\"/>\n<text text-anchor=\"start\" x=\"827.5\" y=\"-342.3\" font-family=\"Helvetica,sans-Serif\" font-size=\"14.00\">gini = 0.0</text>\n<text text-anchor=\"start\" x=\"818\" y=\"-327.3\" font-family=\"Helvetica,sans-Serif\" font-size=\"14.00\">samples = 2</text>\n<text text-anchor=\"start\" x=\"816\" y=\"-312.3\" font-family=\"Helvetica,sans-Serif\" font-size=\"14.00\">value = [2, 0]</text>\n</g>\n<!-- 36&#45;&gt;37 -->\n<g id=\"edge37\" class=\"edge\">\n<title>36&#45;&gt;37</title>\n<path fill=\"none\" stroke=\"black\" d=\"M855.5,-400.88C855.5,-390.33 855.5,-378.6 855.5,-367.85\"/>\n<polygon fill=\"black\" stroke=\"black\" points=\"859,-367.52 855.5,-357.52 852,-367.52 859,-367.52\"/>\n</g>\n<!-- 38 -->\n<g id=\"node39\" class=\"node\">\n<title>38</title>\n<path fill=\"#399de5\" stroke=\"black\" d=\"M1004,-357.5C1004,-357.5 933,-357.5 933,-357.5 927,-357.5 921,-351.5 921,-345.5 921,-345.5 921,-316.5 921,-316.5 921,-310.5 927,-304.5 933,-304.5 933,-304.5 1004,-304.5 1004,-304.5 1010,-304.5 1016,-310.5 1016,-316.5 1016,-316.5 1016,-345.5 1016,-345.5 1016,-351.5 1010,-357.5 1004,-357.5\"/>\n<text text-anchor=\"start\" x=\"940.5\" y=\"-342.3\" font-family=\"Helvetica,sans-Serif\" font-size=\"14.00\">gini = 0.0</text>\n<text text-anchor=\"start\" x=\"931\" y=\"-327.3\" font-family=\"Helvetica,sans-Serif\" font-size=\"14.00\">samples = 1</text>\n<text text-anchor=\"start\" x=\"929\" y=\"-312.3\" font-family=\"Helvetica,sans-Serif\" font-size=\"14.00\">value = [0, 1]</text>\n</g>\n<!-- 36&#45;&gt;38 -->\n<g id=\"edge38\" class=\"edge\">\n<title>36&#45;&gt;38</title>\n<path fill=\"none\" stroke=\"black\" d=\"M892.19,-400.88C905.1,-389.23 919.6,-376.14 932.46,-364.53\"/>\n<polygon fill=\"black\" stroke=\"black\" points=\"935.15,-366.82 940.23,-357.52 930.46,-361.62 935.15,-366.82\"/>\n</g>\n<!-- 41 -->\n<g id=\"node42\" class=\"node\">\n<title>41</title>\n<path fill=\"#e58139\" stroke=\"black\" d=\"M1137,-461.5C1137,-461.5 1066,-461.5 1066,-461.5 1060,-461.5 1054,-455.5 1054,-449.5 1054,-449.5 1054,-420.5 1054,-420.5 1054,-414.5 1060,-408.5 1066,-408.5 1066,-408.5 1137,-408.5 1137,-408.5 1143,-408.5 1149,-414.5 1149,-420.5 1149,-420.5 1149,-449.5 1149,-449.5 1149,-455.5 1143,-461.5 1137,-461.5\"/>\n<text text-anchor=\"start\" x=\"1073.5\" y=\"-446.3\" font-family=\"Helvetica,sans-Serif\" font-size=\"14.00\">gini = 0.0</text>\n<text text-anchor=\"start\" x=\"1064\" y=\"-431.3\" font-family=\"Helvetica,sans-Serif\" font-size=\"14.00\">samples = 3</text>\n<text text-anchor=\"start\" x=\"1062\" y=\"-416.3\" font-family=\"Helvetica,sans-Serif\" font-size=\"14.00\">value = [3, 0]</text>\n</g>\n<!-- 40&#45;&gt;41 -->\n<g id=\"edge41\" class=\"edge\">\n<title>40&#45;&gt;41</title>\n<path fill=\"none\" stroke=\"black\" d=\"M1127.84,-504.88C1123.72,-494.11 1119.13,-482.11 1114.95,-471.18\"/>\n<polygon fill=\"black\" stroke=\"black\" points=\"1118.1,-469.61 1111.26,-461.52 1111.56,-472.11 1118.1,-469.61\"/>\n</g>\n<!-- 42 -->\n<g id=\"node43\" class=\"node\">\n<title>42</title>\n<path fill=\"#ffffff\" stroke=\"black\" d=\"M1253.5,-469C1253.5,-469 1179.5,-469 1179.5,-469 1173.5,-469 1167.5,-463 1167.5,-457 1167.5,-457 1167.5,-413 1167.5,-413 1167.5,-407 1173.5,-401 1179.5,-401 1179.5,-401 1253.5,-401 1253.5,-401 1259.5,-401 1265.5,-407 1265.5,-413 1265.5,-413 1265.5,-457 1265.5,-457 1265.5,-463 1259.5,-469 1253.5,-469\"/>\n<text text-anchor=\"start\" x=\"1177\" y=\"-453.8\" font-family=\"Helvetica,sans-Serif\" font-size=\"14.00\">CGPA ≤ 8.48</text>\n<text text-anchor=\"start\" x=\"1188.5\" y=\"-438.8\" font-family=\"Helvetica,sans-Serif\" font-size=\"14.00\">gini = 0.5</text>\n<text text-anchor=\"start\" x=\"1175.5\" y=\"-423.8\" font-family=\"Helvetica,sans-Serif\" font-size=\"14.00\">samples = 14</text>\n<text text-anchor=\"start\" x=\"1177\" y=\"-408.8\" font-family=\"Helvetica,sans-Serif\" font-size=\"14.00\">value = [7, 7]</text>\n</g>\n<!-- 40&#45;&gt;42 -->\n<g id=\"edge42\" class=\"edge\">\n<title>40&#45;&gt;42</title>\n<path fill=\"none\" stroke=\"black\" d=\"M1165.18,-504.88C1171.68,-496.15 1178.78,-486.62 1185.57,-477.51\"/>\n<polygon fill=\"black\" stroke=\"black\" points=\"1188.52,-479.41 1191.69,-469.3 1182.91,-475.23 1188.52,-479.41\"/>\n</g>\n<!-- 43 -->\n<g id=\"node44\" class=\"node\">\n<title>43</title>\n<path fill=\"#399de5\" stroke=\"black\" d=\"M1137,-357.5C1137,-357.5 1066,-357.5 1066,-357.5 1060,-357.5 1054,-351.5 1054,-345.5 1054,-345.5 1054,-316.5 1054,-316.5 1054,-310.5 1060,-304.5 1066,-304.5 1066,-304.5 1137,-304.5 1137,-304.5 1143,-304.5 1149,-310.5 1149,-316.5 1149,-316.5 1149,-345.5 1149,-345.5 1149,-351.5 1143,-357.5 1137,-357.5\"/>\n<text text-anchor=\"start\" x=\"1073.5\" y=\"-342.3\" font-family=\"Helvetica,sans-Serif\" font-size=\"14.00\">gini = 0.0</text>\n<text text-anchor=\"start\" x=\"1064\" y=\"-327.3\" font-family=\"Helvetica,sans-Serif\" font-size=\"14.00\">samples = 3</text>\n<text text-anchor=\"start\" x=\"1062\" y=\"-312.3\" font-family=\"Helvetica,sans-Serif\" font-size=\"14.00\">value = [0, 3]</text>\n</g>\n<!-- 42&#45;&gt;43 -->\n<g id=\"edge43\" class=\"edge\">\n<title>42&#45;&gt;43</title>\n<path fill=\"none\" stroke=\"black\" d=\"M1179.16,-400.88C1165.9,-389.12 1150.99,-375.89 1137.81,-364.2\"/>\n<polygon fill=\"black\" stroke=\"black\" points=\"1140.08,-361.54 1130.27,-357.52 1135.43,-366.77 1140.08,-361.54\"/>\n</g>\n<!-- 44 -->\n<g id=\"node45\" class=\"node\">\n<title>44</title>\n<path fill=\"#f4c9aa\" stroke=\"black\" d=\"M1253.5,-365C1253.5,-365 1179.5,-365 1179.5,-365 1173.5,-365 1167.5,-359 1167.5,-353 1167.5,-353 1167.5,-309 1167.5,-309 1167.5,-303 1173.5,-297 1179.5,-297 1179.5,-297 1253.5,-297 1253.5,-297 1259.5,-297 1265.5,-303 1265.5,-309 1265.5,-309 1265.5,-353 1265.5,-353 1265.5,-359 1259.5,-365 1253.5,-365\"/>\n<text text-anchor=\"start\" x=\"1181\" y=\"-349.8\" font-family=\"Helvetica,sans-Serif\" font-size=\"14.00\">SOP ≤ 3.75</text>\n<text text-anchor=\"start\" x=\"1181\" y=\"-334.8\" font-family=\"Helvetica,sans-Serif\" font-size=\"14.00\">gini = 0.463</text>\n<text text-anchor=\"start\" x=\"1175.5\" y=\"-319.8\" font-family=\"Helvetica,sans-Serif\" font-size=\"14.00\">samples = 11</text>\n<text text-anchor=\"start\" x=\"1177\" y=\"-304.8\" font-family=\"Helvetica,sans-Serif\" font-size=\"14.00\">value = [7, 4]</text>\n</g>\n<!-- 42&#45;&gt;44 -->\n<g id=\"edge44\" class=\"edge\">\n<title>42&#45;&gt;44</title>\n<path fill=\"none\" stroke=\"black\" d=\"M1216.5,-400.88C1216.5,-392.78 1216.5,-383.98 1216.5,-375.47\"/>\n<polygon fill=\"black\" stroke=\"black\" points=\"1220,-375.3 1216.5,-365.3 1213,-375.3 1220,-375.3\"/>\n</g>\n<!-- 45 -->\n<g id=\"node46\" class=\"node\">\n<title>45</title>\n<path fill=\"#cee6f8\" stroke=\"black\" d=\"M1139,-261C1139,-261 1060,-261 1060,-261 1054,-261 1048,-255 1048,-249 1048,-249 1048,-205 1048,-205 1048,-199 1054,-193 1060,-193 1060,-193 1139,-193 1139,-193 1145,-193 1151,-199 1151,-205 1151,-205 1151,-249 1151,-249 1151,-255 1145,-261 1139,-261\"/>\n<text text-anchor=\"start\" x=\"1056\" y=\"-245.8\" font-family=\"Helvetica,sans-Serif\" font-size=\"14.00\">CGPA ≤ 8.635</text>\n<text text-anchor=\"start\" x=\"1067.5\" y=\"-230.8\" font-family=\"Helvetica,sans-Serif\" font-size=\"14.00\">gini = 0.49</text>\n<text text-anchor=\"start\" x=\"1062\" y=\"-215.8\" font-family=\"Helvetica,sans-Serif\" font-size=\"14.00\">samples = 7</text>\n<text text-anchor=\"start\" x=\"1060\" y=\"-200.8\" font-family=\"Helvetica,sans-Serif\" font-size=\"14.00\">value = [3, 4]</text>\n</g>\n<!-- 44&#45;&gt;45 -->\n<g id=\"edge45\" class=\"edge\">\n<title>44&#45;&gt;45</title>\n<path fill=\"none\" stroke=\"black\" d=\"M1178.51,-296.88C1167.99,-287.71 1156.45,-277.65 1145.52,-268.12\"/>\n<polygon fill=\"black\" stroke=\"black\" points=\"1147.53,-265.23 1137.7,-261.3 1142.93,-270.51 1147.53,-265.23\"/>\n</g>\n<!-- 50 -->\n<g id=\"node51\" class=\"node\">\n<title>50</title>\n<path fill=\"#e58139\" stroke=\"black\" d=\"M1252,-253.5C1252,-253.5 1181,-253.5 1181,-253.5 1175,-253.5 1169,-247.5 1169,-241.5 1169,-241.5 1169,-212.5 1169,-212.5 1169,-206.5 1175,-200.5 1181,-200.5 1181,-200.5 1252,-200.5 1252,-200.5 1258,-200.5 1264,-206.5 1264,-212.5 1264,-212.5 1264,-241.5 1264,-241.5 1264,-247.5 1258,-253.5 1252,-253.5\"/>\n<text text-anchor=\"start\" x=\"1188.5\" y=\"-238.3\" font-family=\"Helvetica,sans-Serif\" font-size=\"14.00\">gini = 0.0</text>\n<text text-anchor=\"start\" x=\"1179\" y=\"-223.3\" font-family=\"Helvetica,sans-Serif\" font-size=\"14.00\">samples = 4</text>\n<text text-anchor=\"start\" x=\"1177\" y=\"-208.3\" font-family=\"Helvetica,sans-Serif\" font-size=\"14.00\">value = [4, 0]</text>\n</g>\n<!-- 44&#45;&gt;50 -->\n<g id=\"edge50\" class=\"edge\">\n<title>44&#45;&gt;50</title>\n<path fill=\"none\" stroke=\"black\" d=\"M1216.5,-296.88C1216.5,-286.33 1216.5,-274.6 1216.5,-263.85\"/>\n<polygon fill=\"black\" stroke=\"black\" points=\"1220,-263.52 1216.5,-253.52 1213,-263.52 1220,-263.52\"/>\n</g>\n<!-- 46 -->\n<g id=\"node47\" class=\"node\">\n<title>46</title>\n<path fill=\"#eeab7b\" stroke=\"black\" d=\"M1079,-157C1079,-157 1008,-157 1008,-157 1002,-157 996,-151 996,-145 996,-145 996,-101 996,-101 996,-95 1002,-89 1008,-89 1008,-89 1079,-89 1079,-89 1085,-89 1091,-95 1091,-101 1091,-101 1091,-145 1091,-145 1091,-151 1085,-157 1079,-157\"/>\n<text text-anchor=\"start\" x=\"1012\" y=\"-141.8\" font-family=\"Helvetica,sans-Serif\" font-size=\"14.00\">LOR ≤ 3.5</text>\n<text text-anchor=\"start\" x=\"1008\" y=\"-126.8\" font-family=\"Helvetica,sans-Serif\" font-size=\"14.00\">gini = 0.375</text>\n<text text-anchor=\"start\" x=\"1006\" y=\"-111.8\" font-family=\"Helvetica,sans-Serif\" font-size=\"14.00\">samples = 4</text>\n<text text-anchor=\"start\" x=\"1004\" y=\"-96.8\" font-family=\"Helvetica,sans-Serif\" font-size=\"14.00\">value = [3, 1]</text>\n</g>\n<!-- 45&#45;&gt;46 -->\n<g id=\"edge46\" class=\"edge\">\n<title>45&#45;&gt;46</title>\n<path fill=\"none\" stroke=\"black\" d=\"M1081.32,-192.88C1076.62,-184.33 1071.51,-175.01 1066.6,-166.07\"/>\n<polygon fill=\"black\" stroke=\"black\" points=\"1069.66,-164.38 1061.78,-157.3 1063.53,-167.75 1069.66,-164.38\"/>\n</g>\n<!-- 49 -->\n<g id=\"node50\" class=\"node\">\n<title>49</title>\n<path fill=\"#399de5\" stroke=\"black\" d=\"M1192,-149.5C1192,-149.5 1121,-149.5 1121,-149.5 1115,-149.5 1109,-143.5 1109,-137.5 1109,-137.5 1109,-108.5 1109,-108.5 1109,-102.5 1115,-96.5 1121,-96.5 1121,-96.5 1192,-96.5 1192,-96.5 1198,-96.5 1204,-102.5 1204,-108.5 1204,-108.5 1204,-137.5 1204,-137.5 1204,-143.5 1198,-149.5 1192,-149.5\"/>\n<text text-anchor=\"start\" x=\"1128.5\" y=\"-134.3\" font-family=\"Helvetica,sans-Serif\" font-size=\"14.00\">gini = 0.0</text>\n<text text-anchor=\"start\" x=\"1119\" y=\"-119.3\" font-family=\"Helvetica,sans-Serif\" font-size=\"14.00\">samples = 3</text>\n<text text-anchor=\"start\" x=\"1117\" y=\"-104.3\" font-family=\"Helvetica,sans-Serif\" font-size=\"14.00\">value = [0, 3]</text>\n</g>\n<!-- 45&#45;&gt;49 -->\n<g id=\"edge49\" class=\"edge\">\n<title>45&#45;&gt;49</title>\n<path fill=\"none\" stroke=\"black\" d=\"M1118.01,-192.88C1124.15,-181.89 1131.01,-169.62 1137.21,-158.52\"/>\n<polygon fill=\"black\" stroke=\"black\" points=\"1140.42,-159.96 1142.24,-149.52 1134.31,-156.54 1140.42,-159.96\"/>\n</g>\n<!-- 47 -->\n<g id=\"node48\" class=\"node\">\n<title>47</title>\n<path fill=\"#e58139\" stroke=\"black\" d=\"M1023,-53C1023,-53 952,-53 952,-53 946,-53 940,-47 940,-41 940,-41 940,-12 940,-12 940,-6 946,0 952,0 952,0 1023,0 1023,0 1029,0 1035,-6 1035,-12 1035,-12 1035,-41 1035,-41 1035,-47 1029,-53 1023,-53\"/>\n<text text-anchor=\"start\" x=\"959.5\" y=\"-37.8\" font-family=\"Helvetica,sans-Serif\" font-size=\"14.00\">gini = 0.0</text>\n<text text-anchor=\"start\" x=\"950\" y=\"-22.8\" font-family=\"Helvetica,sans-Serif\" font-size=\"14.00\">samples = 3</text>\n<text text-anchor=\"start\" x=\"948\" y=\"-7.8\" font-family=\"Helvetica,sans-Serif\" font-size=\"14.00\">value = [3, 0]</text>\n</g>\n<!-- 46&#45;&gt;47 -->\n<g id=\"edge47\" class=\"edge\">\n<title>46&#45;&gt;47</title>\n<path fill=\"none\" stroke=\"black\" d=\"M1023.91,-88.95C1018.76,-80.26 1013.2,-70.86 1008,-62.09\"/>\n<polygon fill=\"black\" stroke=\"black\" points=\"1010.86,-60.06 1002.75,-53.24 1004.84,-63.62 1010.86,-60.06\"/>\n</g>\n<!-- 48 -->\n<g id=\"node49\" class=\"node\">\n<title>48</title>\n<path fill=\"#399de5\" stroke=\"black\" d=\"M1136,-53C1136,-53 1065,-53 1065,-53 1059,-53 1053,-47 1053,-41 1053,-41 1053,-12 1053,-12 1053,-6 1059,0 1065,0 1065,0 1136,0 1136,0 1142,0 1148,-6 1148,-12 1148,-12 1148,-41 1148,-41 1148,-47 1142,-53 1136,-53\"/>\n<text text-anchor=\"start\" x=\"1072.5\" y=\"-37.8\" font-family=\"Helvetica,sans-Serif\" font-size=\"14.00\">gini = 0.0</text>\n<text text-anchor=\"start\" x=\"1063\" y=\"-22.8\" font-family=\"Helvetica,sans-Serif\" font-size=\"14.00\">samples = 1</text>\n<text text-anchor=\"start\" x=\"1061\" y=\"-7.8\" font-family=\"Helvetica,sans-Serif\" font-size=\"14.00\">value = [0, 1]</text>\n</g>\n<!-- 46&#45;&gt;48 -->\n<g id=\"edge48\" class=\"edge\">\n<title>46&#45;&gt;48</title>\n<path fill=\"none\" stroke=\"black\" d=\"M1063.44,-88.95C1068.73,-80.17 1074.47,-70.66 1079.8,-61.82\"/>\n<polygon fill=\"black\" stroke=\"black\" points=\"1082.81,-63.61 1084.98,-53.24 1076.81,-59.99 1082.81,-63.61\"/>\n</g>\n<!-- 52 -->\n<g id=\"node53\" class=\"node\">\n<title>52</title>\n<path fill=\"#ea9a61\" stroke=\"black\" d=\"M1398,-677C1398,-677 1273,-677 1273,-677 1267,-677 1261,-671 1261,-665 1261,-665 1261,-621 1261,-621 1261,-615 1267,-609 1273,-609 1273,-609 1398,-609 1398,-609 1404,-609 1410,-615 1410,-621 1410,-621 1410,-665 1410,-665 1410,-671 1404,-677 1398,-677\"/>\n<text text-anchor=\"start\" x=\"1269\" y=\"-661.8\" font-family=\"Helvetica,sans-Serif\" font-size=\"14.00\">TOEFL Score ≤ 107.5</text>\n<text text-anchor=\"start\" x=\"1300\" y=\"-646.8\" font-family=\"Helvetica,sans-Serif\" font-size=\"14.00\">gini = 0.278</text>\n<text text-anchor=\"start\" x=\"1298\" y=\"-631.8\" font-family=\"Helvetica,sans-Serif\" font-size=\"14.00\">samples = 6</text>\n<text text-anchor=\"start\" x=\"1296\" y=\"-616.8\" font-family=\"Helvetica,sans-Serif\" font-size=\"14.00\">value = [5, 1]</text>\n</g>\n<!-- 51&#45;&gt;52 -->\n<g id=\"edge52\" class=\"edge\">\n<title>51&#45;&gt;52</title>\n<path fill=\"none\" stroke=\"black\" d=\"M1335.5,-712.88C1335.5,-704.78 1335.5,-695.98 1335.5,-687.47\"/>\n<polygon fill=\"black\" stroke=\"black\" points=\"1339,-687.3 1335.5,-677.3 1332,-687.3 1339,-687.3\"/>\n</g>\n<!-- 55 -->\n<g id=\"node56\" class=\"node\">\n<title>55</title>\n<path fill=\"#bddef6\" stroke=\"black\" d=\"M1542.5,-677C1542.5,-677 1464.5,-677 1464.5,-677 1458.5,-677 1452.5,-671 1452.5,-665 1452.5,-665 1452.5,-621 1452.5,-621 1452.5,-615 1458.5,-609 1464.5,-609 1464.5,-609 1542.5,-609 1542.5,-609 1548.5,-609 1554.5,-615 1554.5,-621 1554.5,-621 1554.5,-665 1554.5,-665 1554.5,-671 1548.5,-677 1542.5,-677\"/>\n<text text-anchor=\"start\" x=\"1468.5\" y=\"-661.8\" font-family=\"Helvetica,sans-Serif\" font-size=\"14.00\">LOR ≤ 3.25</text>\n<text text-anchor=\"start\" x=\"1471.5\" y=\"-646.8\" font-family=\"Helvetica,sans-Serif\" font-size=\"14.00\">gini = 0.48</text>\n<text text-anchor=\"start\" x=\"1462.5\" y=\"-631.8\" font-family=\"Helvetica,sans-Serif\" font-size=\"14.00\">samples = 20</text>\n<text text-anchor=\"start\" x=\"1460.5\" y=\"-616.8\" font-family=\"Helvetica,sans-Serif\" font-size=\"14.00\">value = [8, 12]</text>\n</g>\n<!-- 51&#45;&gt;55 -->\n<g id=\"edge55\" class=\"edge\">\n<title>51&#45;&gt;55</title>\n<path fill=\"none\" stroke=\"black\" d=\"M1390.04,-712.88C1407.1,-702.53 1426,-691.05 1443.41,-680.48\"/>\n<polygon fill=\"black\" stroke=\"black\" points=\"1445.63,-683.23 1452.36,-675.05 1442,-677.24 1445.63,-683.23\"/>\n</g>\n<!-- 53 -->\n<g id=\"node54\" class=\"node\">\n<title>53</title>\n<path fill=\"#399de5\" stroke=\"black\" d=\"M1309,-565.5C1309,-565.5 1238,-565.5 1238,-565.5 1232,-565.5 1226,-559.5 1226,-553.5 1226,-553.5 1226,-524.5 1226,-524.5 1226,-518.5 1232,-512.5 1238,-512.5 1238,-512.5 1309,-512.5 1309,-512.5 1315,-512.5 1321,-518.5 1321,-524.5 1321,-524.5 1321,-553.5 1321,-553.5 1321,-559.5 1315,-565.5 1309,-565.5\"/>\n<text text-anchor=\"start\" x=\"1245.5\" y=\"-550.3\" font-family=\"Helvetica,sans-Serif\" font-size=\"14.00\">gini = 0.0</text>\n<text text-anchor=\"start\" x=\"1236\" y=\"-535.3\" font-family=\"Helvetica,sans-Serif\" font-size=\"14.00\">samples = 1</text>\n<text text-anchor=\"start\" x=\"1234\" y=\"-520.3\" font-family=\"Helvetica,sans-Serif\" font-size=\"14.00\">value = [0, 1]</text>\n</g>\n<!-- 52&#45;&gt;53 -->\n<g id=\"edge53\" class=\"edge\">\n<title>52&#45;&gt;53</title>\n<path fill=\"none\" stroke=\"black\" d=\"M1315.37,-608.88C1308.62,-597.78 1301.08,-585.37 1294.28,-574.18\"/>\n<polygon fill=\"black\" stroke=\"black\" points=\"1297.2,-572.25 1289.01,-565.52 1291.22,-575.88 1297.2,-572.25\"/>\n</g>\n<!-- 54 -->\n<g id=\"node55\" class=\"node\">\n<title>54</title>\n<path fill=\"#e58139\" stroke=\"black\" d=\"M1422,-565.5C1422,-565.5 1351,-565.5 1351,-565.5 1345,-565.5 1339,-559.5 1339,-553.5 1339,-553.5 1339,-524.5 1339,-524.5 1339,-518.5 1345,-512.5 1351,-512.5 1351,-512.5 1422,-512.5 1422,-512.5 1428,-512.5 1434,-518.5 1434,-524.5 1434,-524.5 1434,-553.5 1434,-553.5 1434,-559.5 1428,-565.5 1422,-565.5\"/>\n<text text-anchor=\"start\" x=\"1358.5\" y=\"-550.3\" font-family=\"Helvetica,sans-Serif\" font-size=\"14.00\">gini = 0.0</text>\n<text text-anchor=\"start\" x=\"1349\" y=\"-535.3\" font-family=\"Helvetica,sans-Serif\" font-size=\"14.00\">samples = 5</text>\n<text text-anchor=\"start\" x=\"1347\" y=\"-520.3\" font-family=\"Helvetica,sans-Serif\" font-size=\"14.00\">value = [5, 0]</text>\n</g>\n<!-- 52&#45;&gt;54 -->\n<g id=\"edge54\" class=\"edge\">\n<title>52&#45;&gt;54</title>\n<path fill=\"none\" stroke=\"black\" d=\"M1352.06,-608.88C1357.56,-597.89 1363.69,-585.62 1369.24,-574.52\"/>\n<polygon fill=\"black\" stroke=\"black\" points=\"1372.4,-576.03 1373.74,-565.52 1366.14,-572.9 1372.4,-576.03\"/>\n</g>\n<!-- 56 -->\n<g id=\"node57\" class=\"node\">\n<title>56</title>\n<path fill=\"#72b9ec\" stroke=\"black\" d=\"M1543,-573C1543,-573 1464,-573 1464,-573 1458,-573 1452,-567 1452,-561 1452,-561 1452,-517 1452,-517 1452,-511 1458,-505 1464,-505 1464,-505 1543,-505 1543,-505 1549,-505 1555,-511 1555,-517 1555,-517 1555,-561 1555,-561 1555,-567 1549,-573 1543,-573\"/>\n<text text-anchor=\"start\" x=\"1460\" y=\"-557.8\" font-family=\"Helvetica,sans-Serif\" font-size=\"14.00\">CGPA ≤ 8.715</text>\n<text text-anchor=\"start\" x=\"1468\" y=\"-542.8\" font-family=\"Helvetica,sans-Serif\" font-size=\"14.00\">gini = 0.346</text>\n<text text-anchor=\"start\" x=\"1466\" y=\"-527.8\" font-family=\"Helvetica,sans-Serif\" font-size=\"14.00\">samples = 9</text>\n<text text-anchor=\"start\" x=\"1464\" y=\"-512.8\" font-family=\"Helvetica,sans-Serif\" font-size=\"14.00\">value = [2, 7]</text>\n</g>\n<!-- 55&#45;&gt;56 -->\n<g id=\"edge56\" class=\"edge\">\n<title>55&#45;&gt;56</title>\n<path fill=\"none\" stroke=\"black\" d=\"M1503.5,-608.88C1503.5,-600.78 1503.5,-591.98 1503.5,-583.47\"/>\n<polygon fill=\"black\" stroke=\"black\" points=\"1507,-583.3 1503.5,-573.3 1500,-583.3 1507,-583.3\"/>\n</g>\n<!-- 63 -->\n<g id=\"node64\" class=\"node\">\n<title>63</title>\n<path fill=\"#fbeade\" stroke=\"black\" d=\"M1659.5,-573C1659.5,-573 1585.5,-573 1585.5,-573 1579.5,-573 1573.5,-567 1573.5,-561 1573.5,-561 1573.5,-517 1573.5,-517 1573.5,-511 1579.5,-505 1585.5,-505 1585.5,-505 1659.5,-505 1659.5,-505 1665.5,-505 1671.5,-511 1671.5,-517 1671.5,-517 1671.5,-561 1671.5,-561 1671.5,-567 1665.5,-573 1659.5,-573\"/>\n<text text-anchor=\"start\" x=\"1583\" y=\"-557.8\" font-family=\"Helvetica,sans-Serif\" font-size=\"14.00\">CGPA ≤ 8.45</text>\n<text text-anchor=\"start\" x=\"1587\" y=\"-542.8\" font-family=\"Helvetica,sans-Serif\" font-size=\"14.00\">gini = 0.496</text>\n<text text-anchor=\"start\" x=\"1581.5\" y=\"-527.8\" font-family=\"Helvetica,sans-Serif\" font-size=\"14.00\">samples = 11</text>\n<text text-anchor=\"start\" x=\"1583\" y=\"-512.8\" font-family=\"Helvetica,sans-Serif\" font-size=\"14.00\">value = [6, 5]</text>\n</g>\n<!-- 55&#45;&gt;63 -->\n<g id=\"edge63\" class=\"edge\">\n<title>55&#45;&gt;63</title>\n<path fill=\"none\" stroke=\"black\" d=\"M1542.14,-608.88C1552.94,-599.62 1564.8,-589.45 1576.01,-579.85\"/>\n<polygon fill=\"black\" stroke=\"black\" points=\"1578.34,-582.46 1583.65,-573.3 1573.78,-577.15 1578.34,-582.46\"/>\n</g>\n<!-- 57 -->\n<g id=\"node58\" class=\"node\">\n<title>57</title>\n<path fill=\"#55abe9\" stroke=\"black\" d=\"M1429,-469C1429,-469 1358,-469 1358,-469 1352,-469 1346,-463 1346,-457 1346,-457 1346,-413 1346,-413 1346,-407 1352,-401 1358,-401 1358,-401 1429,-401 1429,-401 1435,-401 1441,-407 1441,-413 1441,-413 1441,-457 1441,-457 1441,-463 1435,-469 1429,-469\"/>\n<text text-anchor=\"start\" x=\"1354\" y=\"-453.8\" font-family=\"Helvetica,sans-Serif\" font-size=\"14.00\">CGPA ≤ 8.32</text>\n<text text-anchor=\"start\" x=\"1358\" y=\"-438.8\" font-family=\"Helvetica,sans-Serif\" font-size=\"14.00\">gini = 0.219</text>\n<text text-anchor=\"start\" x=\"1356\" y=\"-423.8\" font-family=\"Helvetica,sans-Serif\" font-size=\"14.00\">samples = 8</text>\n<text text-anchor=\"start\" x=\"1354\" y=\"-408.8\" font-family=\"Helvetica,sans-Serif\" font-size=\"14.00\">value = [1, 7]</text>\n</g>\n<!-- 56&#45;&gt;57 -->\n<g id=\"edge57\" class=\"edge\">\n<title>56&#45;&gt;57</title>\n<path fill=\"none\" stroke=\"black\" d=\"M1467.79,-504.88C1457.89,-495.71 1447.04,-485.65 1436.77,-476.12\"/>\n<polygon fill=\"black\" stroke=\"black\" points=\"1439.12,-473.53 1429.41,-469.3 1434.36,-478.67 1439.12,-473.53\"/>\n</g>\n<!-- 62 -->\n<g id=\"node63\" class=\"node\">\n<title>62</title>\n<path fill=\"#e58139\" stroke=\"black\" d=\"M1542,-461.5C1542,-461.5 1471,-461.5 1471,-461.5 1465,-461.5 1459,-455.5 1459,-449.5 1459,-449.5 1459,-420.5 1459,-420.5 1459,-414.5 1465,-408.5 1471,-408.5 1471,-408.5 1542,-408.5 1542,-408.5 1548,-408.5 1554,-414.5 1554,-420.5 1554,-420.5 1554,-449.5 1554,-449.5 1554,-455.5 1548,-461.5 1542,-461.5\"/>\n<text text-anchor=\"start\" x=\"1478.5\" y=\"-446.3\" font-family=\"Helvetica,sans-Serif\" font-size=\"14.00\">gini = 0.0</text>\n<text text-anchor=\"start\" x=\"1469\" y=\"-431.3\" font-family=\"Helvetica,sans-Serif\" font-size=\"14.00\">samples = 1</text>\n<text text-anchor=\"start\" x=\"1467\" y=\"-416.3\" font-family=\"Helvetica,sans-Serif\" font-size=\"14.00\">value = [1, 0]</text>\n</g>\n<!-- 56&#45;&gt;62 -->\n<g id=\"edge62\" class=\"edge\">\n<title>56&#45;&gt;62</title>\n<path fill=\"none\" stroke=\"black\" d=\"M1504.47,-504.88C1504.79,-494.22 1505.14,-482.35 1505.46,-471.52\"/>\n<polygon fill=\"black\" stroke=\"black\" points=\"1508.95,-471.62 1505.75,-461.52 1501.96,-471.41 1508.95,-471.62\"/>\n</g>\n<!-- 58 -->\n<g id=\"node59\" class=\"node\">\n<title>58</title>\n<path fill=\"#ffffff\" stroke=\"black\" d=\"M1425.5,-365C1425.5,-365 1315.5,-365 1315.5,-365 1309.5,-365 1303.5,-359 1303.5,-353 1303.5,-353 1303.5,-309 1303.5,-309 1303.5,-303 1309.5,-297 1315.5,-297 1315.5,-297 1425.5,-297 1425.5,-297 1431.5,-297 1437.5,-303 1437.5,-309 1437.5,-309 1437.5,-353 1437.5,-353 1437.5,-359 1431.5,-365 1425.5,-365\"/>\n<text text-anchor=\"start\" x=\"1311.5\" y=\"-349.8\" font-family=\"Helvetica,sans-Serif\" font-size=\"14.00\">GRE Score ≤ 329.0</text>\n<text text-anchor=\"start\" x=\"1342.5\" y=\"-334.8\" font-family=\"Helvetica,sans-Serif\" font-size=\"14.00\">gini = 0.5</text>\n<text text-anchor=\"start\" x=\"1333\" y=\"-319.8\" font-family=\"Helvetica,sans-Serif\" font-size=\"14.00\">samples = 2</text>\n<text text-anchor=\"start\" x=\"1331\" y=\"-304.8\" font-family=\"Helvetica,sans-Serif\" font-size=\"14.00\">value = [1, 1]</text>\n</g>\n<!-- 57&#45;&gt;58 -->\n<g id=\"edge58\" class=\"edge\">\n<title>57&#45;&gt;58</title>\n<path fill=\"none\" stroke=\"black\" d=\"M1386.03,-400.88C1384.18,-392.69 1382.18,-383.79 1380.24,-375.19\"/>\n<polygon fill=\"black\" stroke=\"black\" points=\"1383.62,-374.28 1378.01,-365.3 1376.79,-375.82 1383.62,-374.28\"/>\n</g>\n<!-- 61 -->\n<g id=\"node62\" class=\"node\">\n<title>61</title>\n<path fill=\"#399de5\" stroke=\"black\" d=\"M1539,-357.5C1539,-357.5 1468,-357.5 1468,-357.5 1462,-357.5 1456,-351.5 1456,-345.5 1456,-345.5 1456,-316.5 1456,-316.5 1456,-310.5 1462,-304.5 1468,-304.5 1468,-304.5 1539,-304.5 1539,-304.5 1545,-304.5 1551,-310.5 1551,-316.5 1551,-316.5 1551,-345.5 1551,-345.5 1551,-351.5 1545,-357.5 1539,-357.5\"/>\n<text text-anchor=\"start\" x=\"1475.5\" y=\"-342.3\" font-family=\"Helvetica,sans-Serif\" font-size=\"14.00\">gini = 0.0</text>\n<text text-anchor=\"start\" x=\"1466\" y=\"-327.3\" font-family=\"Helvetica,sans-Serif\" font-size=\"14.00\">samples = 6</text>\n<text text-anchor=\"start\" x=\"1464\" y=\"-312.3\" font-family=\"Helvetica,sans-Serif\" font-size=\"14.00\">value = [0, 6]</text>\n</g>\n<!-- 57&#45;&gt;61 -->\n<g id=\"edge61\" class=\"edge\">\n<title>57&#45;&gt;61</title>\n<path fill=\"none\" stroke=\"black\" d=\"M1429.21,-400.88C1441.79,-389.23 1455.9,-376.14 1468.42,-364.53\"/>\n<polygon fill=\"black\" stroke=\"black\" points=\"1471.03,-366.89 1475.98,-357.52 1466.27,-361.75 1471.03,-366.89\"/>\n</g>\n<!-- 59 -->\n<g id=\"node60\" class=\"node\">\n<title>59</title>\n<path fill=\"#e58139\" stroke=\"black\" d=\"M1365,-253.5C1365,-253.5 1294,-253.5 1294,-253.5 1288,-253.5 1282,-247.5 1282,-241.5 1282,-241.5 1282,-212.5 1282,-212.5 1282,-206.5 1288,-200.5 1294,-200.5 1294,-200.5 1365,-200.5 1365,-200.5 1371,-200.5 1377,-206.5 1377,-212.5 1377,-212.5 1377,-241.5 1377,-241.5 1377,-247.5 1371,-253.5 1365,-253.5\"/>\n<text text-anchor=\"start\" x=\"1301.5\" y=\"-238.3\" font-family=\"Helvetica,sans-Serif\" font-size=\"14.00\">gini = 0.0</text>\n<text text-anchor=\"start\" x=\"1292\" y=\"-223.3\" font-family=\"Helvetica,sans-Serif\" font-size=\"14.00\">samples = 1</text>\n<text text-anchor=\"start\" x=\"1290\" y=\"-208.3\" font-family=\"Helvetica,sans-Serif\" font-size=\"14.00\">value = [1, 0]</text>\n</g>\n<!-- 58&#45;&gt;59 -->\n<g id=\"edge59\" class=\"edge\">\n<title>58&#45;&gt;59</title>\n<path fill=\"none\" stroke=\"black\" d=\"M1357.19,-296.88C1352.81,-286 1347.93,-273.86 1343.51,-262.85\"/>\n<polygon fill=\"black\" stroke=\"black\" points=\"1346.74,-261.49 1339.76,-253.52 1340.24,-264.1 1346.74,-261.49\"/>\n</g>\n<!-- 60 -->\n<g id=\"node61\" class=\"node\">\n<title>60</title>\n<path fill=\"#399de5\" stroke=\"black\" d=\"M1478,-253.5C1478,-253.5 1407,-253.5 1407,-253.5 1401,-253.5 1395,-247.5 1395,-241.5 1395,-241.5 1395,-212.5 1395,-212.5 1395,-206.5 1401,-200.5 1407,-200.5 1407,-200.5 1478,-200.5 1478,-200.5 1484,-200.5 1490,-206.5 1490,-212.5 1490,-212.5 1490,-241.5 1490,-241.5 1490,-247.5 1484,-253.5 1478,-253.5\"/>\n<text text-anchor=\"start\" x=\"1414.5\" y=\"-238.3\" font-family=\"Helvetica,sans-Serif\" font-size=\"14.00\">gini = 0.0</text>\n<text text-anchor=\"start\" x=\"1405\" y=\"-223.3\" font-family=\"Helvetica,sans-Serif\" font-size=\"14.00\">samples = 1</text>\n<text text-anchor=\"start\" x=\"1403\" y=\"-208.3\" font-family=\"Helvetica,sans-Serif\" font-size=\"14.00\">value = [0, 1]</text>\n</g>\n<!-- 58&#45;&gt;60 -->\n<g id=\"edge60\" class=\"edge\">\n<title>58&#45;&gt;60</title>\n<path fill=\"none\" stroke=\"black\" d=\"M1393.88,-296.88C1401.79,-285.67 1410.65,-273.13 1418.6,-261.85\"/>\n<polygon fill=\"black\" stroke=\"black\" points=\"1421.58,-263.71 1424.49,-253.52 1415.86,-259.67 1421.58,-263.71\"/>\n</g>\n<!-- 64 -->\n<g id=\"node65\" class=\"node\">\n<title>64</title>\n<path fill=\"#399de5\" stroke=\"black\" d=\"M1657,-461.5C1657,-461.5 1586,-461.5 1586,-461.5 1580,-461.5 1574,-455.5 1574,-449.5 1574,-449.5 1574,-420.5 1574,-420.5 1574,-414.5 1580,-408.5 1586,-408.5 1586,-408.5 1657,-408.5 1657,-408.5 1663,-408.5 1669,-414.5 1669,-420.5 1669,-420.5 1669,-449.5 1669,-449.5 1669,-455.5 1663,-461.5 1657,-461.5\"/>\n<text text-anchor=\"start\" x=\"1593.5\" y=\"-446.3\" font-family=\"Helvetica,sans-Serif\" font-size=\"14.00\">gini = 0.0</text>\n<text text-anchor=\"start\" x=\"1584\" y=\"-431.3\" font-family=\"Helvetica,sans-Serif\" font-size=\"14.00\">samples = 3</text>\n<text text-anchor=\"start\" x=\"1582\" y=\"-416.3\" font-family=\"Helvetica,sans-Serif\" font-size=\"14.00\">value = [0, 3]</text>\n</g>\n<!-- 63&#45;&gt;64 -->\n<g id=\"edge64\" class=\"edge\">\n<title>63&#45;&gt;64</title>\n<path fill=\"none\" stroke=\"black\" d=\"M1622.18,-504.88C1622.07,-494.33 1621.96,-482.6 1621.85,-471.85\"/>\n<polygon fill=\"black\" stroke=\"black\" points=\"1625.35,-471.49 1621.75,-461.52 1618.35,-471.55 1625.35,-471.49\"/>\n</g>\n<!-- 65 -->\n<g id=\"node66\" class=\"node\">\n<title>65</title>\n<path fill=\"#eeab7b\" stroke=\"black\" d=\"M1770,-469C1770,-469 1699,-469 1699,-469 1693,-469 1687,-463 1687,-457 1687,-457 1687,-413 1687,-413 1687,-407 1693,-401 1699,-401 1699,-401 1770,-401 1770,-401 1776,-401 1782,-407 1782,-413 1782,-413 1782,-457 1782,-457 1782,-463 1776,-469 1770,-469\"/>\n<text text-anchor=\"start\" x=\"1703\" y=\"-453.8\" font-family=\"Helvetica,sans-Serif\" font-size=\"14.00\">LOR ≤ 4.5</text>\n<text text-anchor=\"start\" x=\"1699\" y=\"-438.8\" font-family=\"Helvetica,sans-Serif\" font-size=\"14.00\">gini = 0.375</text>\n<text text-anchor=\"start\" x=\"1697\" y=\"-423.8\" font-family=\"Helvetica,sans-Serif\" font-size=\"14.00\">samples = 8</text>\n<text text-anchor=\"start\" x=\"1695\" y=\"-408.8\" font-family=\"Helvetica,sans-Serif\" font-size=\"14.00\">value = [6, 2]</text>\n</g>\n<!-- 63&#45;&gt;65 -->\n<g id=\"edge65\" class=\"edge\">\n<title>63&#45;&gt;65</title>\n<path fill=\"none\" stroke=\"black\" d=\"M1658.86,-504.88C1668.94,-495.71 1679.98,-485.65 1690.44,-476.12\"/>\n<polygon fill=\"black\" stroke=\"black\" points=\"1692.9,-478.62 1697.94,-469.3 1688.19,-473.44 1692.9,-478.62\"/>\n</g>\n<!-- 66 -->\n<g id=\"node67\" class=\"node\">\n<title>66</title>\n<path fill=\"#e9965a\" stroke=\"black\" d=\"M1720.5,-365C1720.5,-365 1592.5,-365 1592.5,-365 1586.5,-365 1580.5,-359 1580.5,-353 1580.5,-353 1580.5,-309 1580.5,-309 1580.5,-303 1586.5,-297 1592.5,-297 1592.5,-297 1720.5,-297 1720.5,-297 1726.5,-297 1732.5,-303 1732.5,-309 1732.5,-309 1732.5,-353 1732.5,-353 1732.5,-359 1726.5,-365 1720.5,-365\"/>\n<text text-anchor=\"start\" x=\"1588.5\" y=\"-349.8\" font-family=\"Helvetica,sans-Serif\" font-size=\"14.00\">University Rating ≤ 4.5</text>\n<text text-anchor=\"start\" x=\"1621\" y=\"-334.8\" font-family=\"Helvetica,sans-Serif\" font-size=\"14.00\">gini = 0.245</text>\n<text text-anchor=\"start\" x=\"1619\" y=\"-319.8\" font-family=\"Helvetica,sans-Serif\" font-size=\"14.00\">samples = 7</text>\n<text text-anchor=\"start\" x=\"1617\" y=\"-304.8\" font-family=\"Helvetica,sans-Serif\" font-size=\"14.00\">value = [6, 1]</text>\n</g>\n<!-- 65&#45;&gt;66 -->\n<g id=\"edge66\" class=\"edge\">\n<title>65&#45;&gt;66</title>\n<path fill=\"none\" stroke=\"black\" d=\"M1709.18,-400.88C1702.5,-392.15 1695.21,-382.62 1688.25,-373.51\"/>\n<polygon fill=\"black\" stroke=\"black\" points=\"1690.82,-371.12 1681.96,-365.3 1685.26,-375.37 1690.82,-371.12\"/>\n</g>\n<!-- 69 -->\n<g id=\"node70\" class=\"node\">\n<title>69</title>\n<path fill=\"#399de5\" stroke=\"black\" d=\"M1834,-357.5C1834,-357.5 1763,-357.5 1763,-357.5 1757,-357.5 1751,-351.5 1751,-345.5 1751,-345.5 1751,-316.5 1751,-316.5 1751,-310.5 1757,-304.5 1763,-304.5 1763,-304.5 1834,-304.5 1834,-304.5 1840,-304.5 1846,-310.5 1846,-316.5 1846,-316.5 1846,-345.5 1846,-345.5 1846,-351.5 1840,-357.5 1834,-357.5\"/>\n<text text-anchor=\"start\" x=\"1770.5\" y=\"-342.3\" font-family=\"Helvetica,sans-Serif\" font-size=\"14.00\">gini = 0.0</text>\n<text text-anchor=\"start\" x=\"1761\" y=\"-327.3\" font-family=\"Helvetica,sans-Serif\" font-size=\"14.00\">samples = 1</text>\n<text text-anchor=\"start\" x=\"1759\" y=\"-312.3\" font-family=\"Helvetica,sans-Serif\" font-size=\"14.00\">value = [0, 1]</text>\n</g>\n<!-- 65&#45;&gt;69 -->\n<g id=\"edge69\" class=\"edge\">\n<title>65&#45;&gt;69</title>\n<path fill=\"none\" stroke=\"black\" d=\"M1755.28,-400.88C1762.25,-389.78 1770.03,-377.37 1777.05,-366.18\"/>\n<polygon fill=\"black\" stroke=\"black\" points=\"1780.14,-367.85 1782.49,-357.52 1774.21,-364.13 1780.14,-367.85\"/>\n</g>\n<!-- 67 -->\n<g id=\"node68\" class=\"node\">\n<title>67</title>\n<path fill=\"#e58139\" stroke=\"black\" d=\"M1591,-253.5C1591,-253.5 1520,-253.5 1520,-253.5 1514,-253.5 1508,-247.5 1508,-241.5 1508,-241.5 1508,-212.5 1508,-212.5 1508,-206.5 1514,-200.5 1520,-200.5 1520,-200.5 1591,-200.5 1591,-200.5 1597,-200.5 1603,-206.5 1603,-212.5 1603,-212.5 1603,-241.5 1603,-241.5 1603,-247.5 1597,-253.5 1591,-253.5\"/>\n<text text-anchor=\"start\" x=\"1527.5\" y=\"-238.3\" font-family=\"Helvetica,sans-Serif\" font-size=\"14.00\">gini = 0.0</text>\n<text text-anchor=\"start\" x=\"1518\" y=\"-223.3\" font-family=\"Helvetica,sans-Serif\" font-size=\"14.00\">samples = 6</text>\n<text text-anchor=\"start\" x=\"1516\" y=\"-208.3\" font-family=\"Helvetica,sans-Serif\" font-size=\"14.00\">value = [6, 0]</text>\n</g>\n<!-- 66&#45;&gt;67 -->\n<g id=\"edge67\" class=\"edge\">\n<title>66&#45;&gt;67</title>\n<path fill=\"none\" stroke=\"black\" d=\"M1623.71,-296.88C1612.27,-285.34 1599.45,-272.39 1588.04,-260.86\"/>\n<polygon fill=\"black\" stroke=\"black\" points=\"1590.29,-258.16 1580.77,-253.52 1585.32,-263.09 1590.29,-258.16\"/>\n</g>\n<!-- 68 -->\n<g id=\"node69\" class=\"node\">\n<title>68</title>\n<path fill=\"#399de5\" stroke=\"black\" d=\"M1704,-253.5C1704,-253.5 1633,-253.5 1633,-253.5 1627,-253.5 1621,-247.5 1621,-241.5 1621,-241.5 1621,-212.5 1621,-212.5 1621,-206.5 1627,-200.5 1633,-200.5 1633,-200.5 1704,-200.5 1704,-200.5 1710,-200.5 1716,-206.5 1716,-212.5 1716,-212.5 1716,-241.5 1716,-241.5 1716,-247.5 1710,-253.5 1704,-253.5\"/>\n<text text-anchor=\"start\" x=\"1640.5\" y=\"-238.3\" font-family=\"Helvetica,sans-Serif\" font-size=\"14.00\">gini = 0.0</text>\n<text text-anchor=\"start\" x=\"1631\" y=\"-223.3\" font-family=\"Helvetica,sans-Serif\" font-size=\"14.00\">samples = 1</text>\n<text text-anchor=\"start\" x=\"1629\" y=\"-208.3\" font-family=\"Helvetica,sans-Serif\" font-size=\"14.00\">value = [0, 1]</text>\n</g>\n<!-- 66&#45;&gt;68 -->\n<g id=\"edge68\" class=\"edge\">\n<title>66&#45;&gt;68</title>\n<path fill=\"none\" stroke=\"black\" d=\"M1660.4,-296.88C1661.65,-286.22 1663.05,-274.35 1664.32,-263.52\"/>\n<polygon fill=\"black\" stroke=\"black\" points=\"1667.81,-263.86 1665.5,-253.52 1660.85,-263.04 1667.81,-263.86\"/>\n</g>\n<!-- 71 -->\n<g id=\"node72\" class=\"node\">\n<title>71</title>\n<path fill=\"#c6e3f8\" stroke=\"black\" d=\"M1984.5,-885C1984.5,-885 1898.5,-885 1898.5,-885 1892.5,-885 1886.5,-879 1886.5,-873 1886.5,-873 1886.5,-829 1886.5,-829 1886.5,-823 1892.5,-817 1898.5,-817 1898.5,-817 1984.5,-817 1984.5,-817 1990.5,-817 1996.5,-823 1996.5,-829 1996.5,-829 1996.5,-873 1996.5,-873 1996.5,-879 1990.5,-885 1984.5,-885\"/>\n<text text-anchor=\"start\" x=\"1906\" y=\"-869.8\" font-family=\"Helvetica,sans-Serif\" font-size=\"14.00\">SOP ≤ 3.25</text>\n<text text-anchor=\"start\" x=\"1906\" y=\"-854.8\" font-family=\"Helvetica,sans-Serif\" font-size=\"14.00\">gini = 0.486</text>\n<text text-anchor=\"start\" x=\"1900.5\" y=\"-839.8\" font-family=\"Helvetica,sans-Serif\" font-size=\"14.00\">samples = 24</text>\n<text text-anchor=\"start\" x=\"1894.5\" y=\"-824.8\" font-family=\"Helvetica,sans-Serif\" font-size=\"14.00\">value = [10, 14]</text>\n</g>\n<!-- 70&#45;&gt;71 -->\n<g id=\"edge71\" class=\"edge\">\n<title>70&#45;&gt;71</title>\n<path fill=\"none\" stroke=\"black\" d=\"M1941.5,-920.88C1941.5,-912.78 1941.5,-903.98 1941.5,-895.47\"/>\n<polygon fill=\"black\" stroke=\"black\" points=\"1945,-895.3 1941.5,-885.3 1938,-895.3 1945,-895.3\"/>\n</g>\n<!-- 92 -->\n<g id=\"node93\" class=\"node\">\n<title>92</title>\n<path fill=\"#43a2e6\" stroke=\"black\" d=\"M2349.5,-885C2349.5,-885 2241.5,-885 2241.5,-885 2235.5,-885 2229.5,-879 2229.5,-873 2229.5,-873 2229.5,-829 2229.5,-829 2229.5,-823 2235.5,-817 2241.5,-817 2241.5,-817 2349.5,-817 2349.5,-817 2355.5,-817 2361.5,-823 2361.5,-829 2361.5,-829 2361.5,-873 2361.5,-873 2361.5,-879 2355.5,-885 2349.5,-885\"/>\n<text text-anchor=\"start\" x=\"2260\" y=\"-869.8\" font-family=\"Helvetica,sans-Serif\" font-size=\"14.00\">SOP ≤ 3.75</text>\n<text text-anchor=\"start\" x=\"2260\" y=\"-854.8\" font-family=\"Helvetica,sans-Serif\" font-size=\"14.00\">gini = 0.094</text>\n<text text-anchor=\"start\" x=\"2250.5\" y=\"-839.8\" font-family=\"Helvetica,sans-Serif\" font-size=\"14.00\">samples = 142</text>\n<text text-anchor=\"start\" x=\"2237.5\" y=\"-824.8\" font-family=\"Helvetica,sans-Serif\" font-size=\"14.00\">value = [7.0, 135.0]</text>\n</g>\n<!-- 70&#45;&gt;92 -->\n<g id=\"edge92\" class=\"edge\">\n<title>70&#45;&gt;92</title>\n<path fill=\"none\" stroke=\"black\" d=\"M2008.5,-934.69C2068.63,-917.37 2156.8,-891.96 2219.53,-873.89\"/>\n<polygon fill=\"black\" stroke=\"black\" points=\"2220.73,-877.19 2229.37,-871.05 2218.79,-870.46 2220.73,-877.19\"/>\n</g>\n<!-- 72 -->\n<g id=\"node73\" class=\"node\">\n<title>72</title>\n<path fill=\"#eca06a\" stroke=\"black\" d=\"M1914,-781C1914,-781 1835,-781 1835,-781 1829,-781 1823,-775 1823,-769 1823,-769 1823,-725 1823,-725 1823,-719 1829,-713 1835,-713 1835,-713 1914,-713 1914,-713 1920,-713 1926,-719 1926,-725 1926,-725 1926,-769 1926,-769 1926,-775 1920,-781 1914,-781\"/>\n<text text-anchor=\"start\" x=\"1831\" y=\"-765.8\" font-family=\"Helvetica,sans-Serif\" font-size=\"14.00\">CGPA ≤ 8.775</text>\n<text text-anchor=\"start\" x=\"1842.5\" y=\"-750.8\" font-family=\"Helvetica,sans-Serif\" font-size=\"14.00\">gini = 0.32</text>\n<text text-anchor=\"start\" x=\"1837\" y=\"-735.8\" font-family=\"Helvetica,sans-Serif\" font-size=\"14.00\">samples = 5</text>\n<text text-anchor=\"start\" x=\"1835\" y=\"-720.8\" font-family=\"Helvetica,sans-Serif\" font-size=\"14.00\">value = [4, 1]</text>\n</g>\n<!-- 71&#45;&gt;72 -->\n<g id=\"edge72\" class=\"edge\">\n<title>71&#45;&gt;72</title>\n<path fill=\"none\" stroke=\"black\" d=\"M1919.75,-816.88C1914.07,-808.24 1907.88,-798.82 1901.95,-789.79\"/>\n<polygon fill=\"black\" stroke=\"black\" points=\"1904.79,-787.74 1896.37,-781.3 1898.94,-791.58 1904.79,-787.74\"/>\n</g>\n<!-- 77 -->\n<g id=\"node78\" class=\"node\">\n<title>77</title>\n<path fill=\"#94caf1\" stroke=\"black\" d=\"M2046.5,-781C2046.5,-781 1968.5,-781 1968.5,-781 1962.5,-781 1956.5,-775 1956.5,-769 1956.5,-769 1956.5,-725 1956.5,-725 1956.5,-719 1962.5,-713 1968.5,-713 1968.5,-713 2046.5,-713 2046.5,-713 2052.5,-713 2058.5,-719 2058.5,-725 2058.5,-725 2058.5,-769 2058.5,-769 2058.5,-775 2052.5,-781 2046.5,-781\"/>\n<text text-anchor=\"start\" x=\"1968\" y=\"-765.8\" font-family=\"Helvetica,sans-Serif\" font-size=\"14.00\">CGPA ≤ 9.17</text>\n<text text-anchor=\"start\" x=\"1972\" y=\"-750.8\" font-family=\"Helvetica,sans-Serif\" font-size=\"14.00\">gini = 0.432</text>\n<text text-anchor=\"start\" x=\"1966.5\" y=\"-735.8\" font-family=\"Helvetica,sans-Serif\" font-size=\"14.00\">samples = 19</text>\n<text text-anchor=\"start\" x=\"1964.5\" y=\"-720.8\" font-family=\"Helvetica,sans-Serif\" font-size=\"14.00\">value = [6, 13]</text>\n</g>\n<!-- 71&#45;&gt;77 -->\n<g id=\"edge77\" class=\"edge\">\n<title>71&#45;&gt;77</title>\n<path fill=\"none\" stroke=\"black\" d=\"M1962.93,-816.88C1968.52,-808.24 1974.62,-798.82 1980.46,-789.79\"/>\n<polygon fill=\"black\" stroke=\"black\" points=\"1983.46,-791.6 1985.95,-781.3 1977.58,-787.79 1983.46,-791.6\"/>\n</g>\n<!-- 73 -->\n<g id=\"node74\" class=\"node\">\n<title>73</title>\n<path fill=\"#ffffff\" stroke=\"black\" d=\"M1797,-677C1797,-677 1726,-677 1726,-677 1720,-677 1714,-671 1714,-665 1714,-665 1714,-621 1714,-621 1714,-615 1720,-609 1726,-609 1726,-609 1797,-609 1797,-609 1803,-609 1809,-615 1809,-621 1809,-621 1809,-665 1809,-665 1809,-671 1803,-677 1797,-677\"/>\n<text text-anchor=\"start\" x=\"1726\" y=\"-661.8\" font-family=\"Helvetica,sans-Serif\" font-size=\"14.00\">SOP ≤ 2.75</text>\n<text text-anchor=\"start\" x=\"1733.5\" y=\"-646.8\" font-family=\"Helvetica,sans-Serif\" font-size=\"14.00\">gini = 0.5</text>\n<text text-anchor=\"start\" x=\"1724\" y=\"-631.8\" font-family=\"Helvetica,sans-Serif\" font-size=\"14.00\">samples = 2</text>\n<text text-anchor=\"start\" x=\"1722\" y=\"-616.8\" font-family=\"Helvetica,sans-Serif\" font-size=\"14.00\">value = [1, 1]</text>\n</g>\n<!-- 72&#45;&gt;73 -->\n<g id=\"edge73\" class=\"edge\">\n<title>72&#45;&gt;73</title>\n<path fill=\"none\" stroke=\"black\" d=\"M1837.81,-712.88C1827.65,-703.71 1816.5,-693.65 1805.95,-684.12\"/>\n<polygon fill=\"black\" stroke=\"black\" points=\"1808.16,-681.4 1798.39,-677.3 1803.47,-686.6 1808.16,-681.4\"/>\n</g>\n<!-- 76 -->\n<g id=\"node77\" class=\"node\">\n<title>76</title>\n<path fill=\"#e58139\" stroke=\"black\" d=\"M1910,-669.5C1910,-669.5 1839,-669.5 1839,-669.5 1833,-669.5 1827,-663.5 1827,-657.5 1827,-657.5 1827,-628.5 1827,-628.5 1827,-622.5 1833,-616.5 1839,-616.5 1839,-616.5 1910,-616.5 1910,-616.5 1916,-616.5 1922,-622.5 1922,-628.5 1922,-628.5 1922,-657.5 1922,-657.5 1922,-663.5 1916,-669.5 1910,-669.5\"/>\n<text text-anchor=\"start\" x=\"1846.5\" y=\"-654.3\" font-family=\"Helvetica,sans-Serif\" font-size=\"14.00\">gini = 0.0</text>\n<text text-anchor=\"start\" x=\"1837\" y=\"-639.3\" font-family=\"Helvetica,sans-Serif\" font-size=\"14.00\">samples = 3</text>\n<text text-anchor=\"start\" x=\"1835\" y=\"-624.3\" font-family=\"Helvetica,sans-Serif\" font-size=\"14.00\">value = [3, 0]</text>\n</g>\n<!-- 72&#45;&gt;76 -->\n<g id=\"edge76\" class=\"edge\">\n<title>72&#45;&gt;76</title>\n<path fill=\"none\" stroke=\"black\" d=\"M1874.5,-712.88C1874.5,-702.33 1874.5,-690.6 1874.5,-679.85\"/>\n<polygon fill=\"black\" stroke=\"black\" points=\"1878,-679.52 1874.5,-669.52 1871,-679.52 1878,-679.52\"/>\n</g>\n<!-- 74 -->\n<g id=\"node75\" class=\"node\">\n<title>74</title>\n<path fill=\"#e58139\" stroke=\"black\" d=\"M1792,-565.5C1792,-565.5 1721,-565.5 1721,-565.5 1715,-565.5 1709,-559.5 1709,-553.5 1709,-553.5 1709,-524.5 1709,-524.5 1709,-518.5 1715,-512.5 1721,-512.5 1721,-512.5 1792,-512.5 1792,-512.5 1798,-512.5 1804,-518.5 1804,-524.5 1804,-524.5 1804,-553.5 1804,-553.5 1804,-559.5 1798,-565.5 1792,-565.5\"/>\n<text text-anchor=\"start\" x=\"1728.5\" y=\"-550.3\" font-family=\"Helvetica,sans-Serif\" font-size=\"14.00\">gini = 0.0</text>\n<text text-anchor=\"start\" x=\"1719\" y=\"-535.3\" font-family=\"Helvetica,sans-Serif\" font-size=\"14.00\">samples = 1</text>\n<text text-anchor=\"start\" x=\"1717\" y=\"-520.3\" font-family=\"Helvetica,sans-Serif\" font-size=\"14.00\">value = [1, 0]</text>\n</g>\n<!-- 73&#45;&gt;74 -->\n<g id=\"edge74\" class=\"edge\">\n<title>73&#45;&gt;74</title>\n<path fill=\"none\" stroke=\"black\" d=\"M1759.88,-608.88C1759.35,-598.22 1758.77,-586.35 1758.24,-575.52\"/>\n<polygon fill=\"black\" stroke=\"black\" points=\"1761.74,-575.34 1757.75,-565.52 1754.74,-575.68 1761.74,-575.34\"/>\n</g>\n<!-- 75 -->\n<g id=\"node76\" class=\"node\">\n<title>75</title>\n<path fill=\"#399de5\" stroke=\"black\" d=\"M1905,-565.5C1905,-565.5 1834,-565.5 1834,-565.5 1828,-565.5 1822,-559.5 1822,-553.5 1822,-553.5 1822,-524.5 1822,-524.5 1822,-518.5 1828,-512.5 1834,-512.5 1834,-512.5 1905,-512.5 1905,-512.5 1911,-512.5 1917,-518.5 1917,-524.5 1917,-524.5 1917,-553.5 1917,-553.5 1917,-559.5 1911,-565.5 1905,-565.5\"/>\n<text text-anchor=\"start\" x=\"1841.5\" y=\"-550.3\" font-family=\"Helvetica,sans-Serif\" font-size=\"14.00\">gini = 0.0</text>\n<text text-anchor=\"start\" x=\"1832\" y=\"-535.3\" font-family=\"Helvetica,sans-Serif\" font-size=\"14.00\">samples = 1</text>\n<text text-anchor=\"start\" x=\"1830\" y=\"-520.3\" font-family=\"Helvetica,sans-Serif\" font-size=\"14.00\">value = [0, 1]</text>\n</g>\n<!-- 73&#45;&gt;75 -->\n<g id=\"edge75\" class=\"edge\">\n<title>73&#45;&gt;75</title>\n<path fill=\"none\" stroke=\"black\" d=\"M1796.56,-608.88C1808.91,-597.23 1822.76,-584.14 1835.05,-572.53\"/>\n<polygon fill=\"black\" stroke=\"black\" points=\"1837.61,-574.93 1842.48,-565.52 1832.81,-569.84 1837.61,-574.93\"/>\n</g>\n<!-- 78 -->\n<g id=\"node79\" class=\"node\">\n<title>78</title>\n<path fill=\"#85c3ef\" stroke=\"black\" d=\"M2062.5,-677C2062.5,-677 1952.5,-677 1952.5,-677 1946.5,-677 1940.5,-671 1940.5,-665 1940.5,-665 1940.5,-621 1940.5,-621 1940.5,-615 1946.5,-609 1952.5,-609 1952.5,-609 2062.5,-609 2062.5,-609 2068.5,-609 2074.5,-615 2074.5,-621 2074.5,-621 2074.5,-665 2074.5,-665 2074.5,-671 2068.5,-677 2062.5,-677\"/>\n<text text-anchor=\"start\" x=\"1948.5\" y=\"-661.8\" font-family=\"Helvetica,sans-Serif\" font-size=\"14.00\">GRE Score ≤ 310.5</text>\n<text text-anchor=\"start\" x=\"1972\" y=\"-646.8\" font-family=\"Helvetica,sans-Serif\" font-size=\"14.00\">gini = 0.401</text>\n<text text-anchor=\"start\" x=\"1966.5\" y=\"-631.8\" font-family=\"Helvetica,sans-Serif\" font-size=\"14.00\">samples = 18</text>\n<text text-anchor=\"start\" x=\"1964.5\" y=\"-616.8\" font-family=\"Helvetica,sans-Serif\" font-size=\"14.00\">value = [5, 13]</text>\n</g>\n<!-- 77&#45;&gt;78 -->\n<g id=\"edge78\" class=\"edge\">\n<title>77&#45;&gt;78</title>\n<path fill=\"none\" stroke=\"black\" d=\"M2007.5,-712.88C2007.5,-704.78 2007.5,-695.98 2007.5,-687.47\"/>\n<polygon fill=\"black\" stroke=\"black\" points=\"2011,-687.3 2007.5,-677.3 2004,-687.3 2011,-687.3\"/>\n</g>\n<!-- 91 -->\n<g id=\"node92\" class=\"node\">\n<title>91</title>\n<path fill=\"#e58139\" stroke=\"black\" d=\"M2176,-669.5C2176,-669.5 2105,-669.5 2105,-669.5 2099,-669.5 2093,-663.5 2093,-657.5 2093,-657.5 2093,-628.5 2093,-628.5 2093,-622.5 2099,-616.5 2105,-616.5 2105,-616.5 2176,-616.5 2176,-616.5 2182,-616.5 2188,-622.5 2188,-628.5 2188,-628.5 2188,-657.5 2188,-657.5 2188,-663.5 2182,-669.5 2176,-669.5\"/>\n<text text-anchor=\"start\" x=\"2112.5\" y=\"-654.3\" font-family=\"Helvetica,sans-Serif\" font-size=\"14.00\">gini = 0.0</text>\n<text text-anchor=\"start\" x=\"2103\" y=\"-639.3\" font-family=\"Helvetica,sans-Serif\" font-size=\"14.00\">samples = 1</text>\n<text text-anchor=\"start\" x=\"2101\" y=\"-624.3\" font-family=\"Helvetica,sans-Serif\" font-size=\"14.00\">value = [1, 0]</text>\n</g>\n<!-- 77&#45;&gt;91 -->\n<g id=\"edge91\" class=\"edge\">\n<title>77&#45;&gt;91</title>\n<path fill=\"none\" stroke=\"black\" d=\"M2050.68,-712.88C2066.17,-701.01 2083.59,-687.65 2098.94,-675.88\"/>\n<polygon fill=\"black\" stroke=\"black\" points=\"2101.42,-678.38 2107.22,-669.52 2097.16,-672.83 2101.42,-678.38\"/>\n</g>\n<!-- 79 -->\n<g id=\"node80\" class=\"node\">\n<title>79</title>\n<path fill=\"#e58139\" stroke=\"black\" d=\"M2037,-565.5C2037,-565.5 1966,-565.5 1966,-565.5 1960,-565.5 1954,-559.5 1954,-553.5 1954,-553.5 1954,-524.5 1954,-524.5 1954,-518.5 1960,-512.5 1966,-512.5 1966,-512.5 2037,-512.5 2037,-512.5 2043,-512.5 2049,-518.5 2049,-524.5 2049,-524.5 2049,-553.5 2049,-553.5 2049,-559.5 2043,-565.5 2037,-565.5\"/>\n<text text-anchor=\"start\" x=\"1973.5\" y=\"-550.3\" font-family=\"Helvetica,sans-Serif\" font-size=\"14.00\">gini = 0.0</text>\n<text text-anchor=\"start\" x=\"1964\" y=\"-535.3\" font-family=\"Helvetica,sans-Serif\" font-size=\"14.00\">samples = 1</text>\n<text text-anchor=\"start\" x=\"1962\" y=\"-520.3\" font-family=\"Helvetica,sans-Serif\" font-size=\"14.00\">value = [1, 0]</text>\n</g>\n<!-- 78&#45;&gt;79 -->\n<g id=\"edge79\" class=\"edge\">\n<title>78&#45;&gt;79</title>\n<path fill=\"none\" stroke=\"black\" d=\"M2005.55,-608.88C2004.92,-598.22 2004.23,-586.35 2003.59,-575.52\"/>\n<polygon fill=\"black\" stroke=\"black\" points=\"2007.08,-575.3 2003,-565.52 2000.09,-575.71 2007.08,-575.3\"/>\n</g>\n<!-- 80 -->\n<g id=\"node81\" class=\"node\">\n<title>80</title>\n<path fill=\"#76bbed\" stroke=\"black\" d=\"M2157.5,-573C2157.5,-573 2079.5,-573 2079.5,-573 2073.5,-573 2067.5,-567 2067.5,-561 2067.5,-561 2067.5,-517 2067.5,-517 2067.5,-511 2073.5,-505 2079.5,-505 2079.5,-505 2157.5,-505 2157.5,-505 2163.5,-505 2169.5,-511 2169.5,-517 2169.5,-517 2169.5,-561 2169.5,-561 2169.5,-567 2163.5,-573 2157.5,-573\"/>\n<text text-anchor=\"start\" x=\"2079\" y=\"-557.8\" font-family=\"Helvetica,sans-Serif\" font-size=\"14.00\">CGPA ≤ 8.85</text>\n<text text-anchor=\"start\" x=\"2086.5\" y=\"-542.8\" font-family=\"Helvetica,sans-Serif\" font-size=\"14.00\">gini = 0.36</text>\n<text text-anchor=\"start\" x=\"2077.5\" y=\"-527.8\" font-family=\"Helvetica,sans-Serif\" font-size=\"14.00\">samples = 17</text>\n<text text-anchor=\"start\" x=\"2075.5\" y=\"-512.8\" font-family=\"Helvetica,sans-Serif\" font-size=\"14.00\">value = [4, 13]</text>\n</g>\n<!-- 78&#45;&gt;80 -->\n<g id=\"edge80\" class=\"edge\">\n<title>78&#45;&gt;80</title>\n<path fill=\"none\" stroke=\"black\" d=\"M2043.54,-608.88C2053.52,-599.71 2064.47,-589.65 2074.84,-580.12\"/>\n<polygon fill=\"black\" stroke=\"black\" points=\"2077.27,-582.64 2082.26,-573.3 2072.53,-577.49 2077.27,-582.64\"/>\n</g>\n<!-- 81 -->\n<g id=\"node82\" class=\"node\">\n<title>81</title>\n<path fill=\"#d7ebfa\" stroke=\"black\" d=\"M2059.5,-469C2059.5,-469 1949.5,-469 1949.5,-469 1943.5,-469 1937.5,-463 1937.5,-457 1937.5,-457 1937.5,-413 1937.5,-413 1937.5,-407 1943.5,-401 1949.5,-401 1949.5,-401 2059.5,-401 2059.5,-401 2065.5,-401 2071.5,-407 2071.5,-413 2071.5,-413 2071.5,-457 2071.5,-457 2071.5,-463 2065.5,-469 2059.5,-469\"/>\n<text text-anchor=\"start\" x=\"1945.5\" y=\"-453.8\" font-family=\"Helvetica,sans-Serif\" font-size=\"14.00\">GRE Score ≤ 315.0</text>\n<text text-anchor=\"start\" x=\"1969\" y=\"-438.8\" font-family=\"Helvetica,sans-Serif\" font-size=\"14.00\">gini = 0.494</text>\n<text text-anchor=\"start\" x=\"1967\" y=\"-423.8\" font-family=\"Helvetica,sans-Serif\" font-size=\"14.00\">samples = 9</text>\n<text text-anchor=\"start\" x=\"1965\" y=\"-408.8\" font-family=\"Helvetica,sans-Serif\" font-size=\"14.00\">value = [4, 5]</text>\n</g>\n<!-- 80&#45;&gt;81 -->\n<g id=\"edge81\" class=\"edge\">\n<title>80&#45;&gt;81</title>\n<path fill=\"none\" stroke=\"black\" d=\"M2081.49,-504.88C2071.23,-495.71 2059.99,-485.65 2049.34,-476.12\"/>\n<polygon fill=\"black\" stroke=\"black\" points=\"2051.5,-473.36 2041.72,-469.3 2046.84,-478.58 2051.5,-473.36\"/>\n</g>\n<!-- 90 -->\n<g id=\"node91\" class=\"node\">\n<title>90</title>\n<path fill=\"#399de5\" stroke=\"black\" d=\"M2173,-461.5C2173,-461.5 2102,-461.5 2102,-461.5 2096,-461.5 2090,-455.5 2090,-449.5 2090,-449.5 2090,-420.5 2090,-420.5 2090,-414.5 2096,-408.5 2102,-408.5 2102,-408.5 2173,-408.5 2173,-408.5 2179,-408.5 2185,-414.5 2185,-420.5 2185,-420.5 2185,-449.5 2185,-449.5 2185,-455.5 2179,-461.5 2173,-461.5\"/>\n<text text-anchor=\"start\" x=\"2109.5\" y=\"-446.3\" font-family=\"Helvetica,sans-Serif\" font-size=\"14.00\">gini = 0.0</text>\n<text text-anchor=\"start\" x=\"2100\" y=\"-431.3\" font-family=\"Helvetica,sans-Serif\" font-size=\"14.00\">samples = 8</text>\n<text text-anchor=\"start\" x=\"2098\" y=\"-416.3\" font-family=\"Helvetica,sans-Serif\" font-size=\"14.00\">value = [0, 8]</text>\n</g>\n<!-- 80&#45;&gt;90 -->\n<g id=\"edge90\" class=\"edge\">\n<title>80&#45;&gt;90</title>\n<path fill=\"none\" stroke=\"black\" d=\"M2124.67,-504.88C2126.66,-494.22 2128.87,-482.35 2130.88,-471.52\"/>\n<polygon fill=\"black\" stroke=\"black\" points=\"2134.36,-471.99 2132.75,-461.52 2127.47,-470.71 2134.36,-471.99\"/>\n</g>\n<!-- 82 -->\n<g id=\"node83\" class=\"node\">\n<title>82</title>\n<path fill=\"#6ab6ec\" stroke=\"black\" d=\"M1984,-365C1984,-365 1913,-365 1913,-365 1907,-365 1901,-359 1901,-353 1901,-353 1901,-309 1901,-309 1901,-303 1907,-297 1913,-297 1913,-297 1984,-297 1984,-297 1990,-297 1996,-303 1996,-309 1996,-309 1996,-353 1996,-353 1996,-359 1990,-365 1984,-365\"/>\n<text text-anchor=\"start\" x=\"1913\" y=\"-349.8\" font-family=\"Helvetica,sans-Serif\" font-size=\"14.00\">SOP ≤ 3.75</text>\n<text text-anchor=\"start\" x=\"1916.5\" y=\"-334.8\" font-family=\"Helvetica,sans-Serif\" font-size=\"14.00\">gini = 0.32</text>\n<text text-anchor=\"start\" x=\"1911\" y=\"-319.8\" font-family=\"Helvetica,sans-Serif\" font-size=\"14.00\">samples = 5</text>\n<text text-anchor=\"start\" x=\"1909\" y=\"-304.8\" font-family=\"Helvetica,sans-Serif\" font-size=\"14.00\">value = [1, 4]</text>\n</g>\n<!-- 81&#45;&gt;82 -->\n<g id=\"edge82\" class=\"edge\">\n<title>81&#45;&gt;82</title>\n<path fill=\"none\" stroke=\"black\" d=\"M1986.32,-400.88C1981.62,-392.33 1976.51,-383.01 1971.6,-374.07\"/>\n<polygon fill=\"black\" stroke=\"black\" points=\"1974.66,-372.38 1966.78,-365.3 1968.53,-375.75 1974.66,-372.38\"/>\n</g>\n<!-- 87 -->\n<g id=\"node88\" class=\"node\">\n<title>87</title>\n<path fill=\"#eeab7b\" stroke=\"black\" d=\"M2097,-365C2097,-365 2026,-365 2026,-365 2020,-365 2014,-359 2014,-353 2014,-353 2014,-309 2014,-309 2014,-303 2020,-297 2026,-297 2026,-297 2097,-297 2097,-297 2103,-297 2109,-303 2109,-309 2109,-309 2109,-353 2109,-353 2109,-359 2103,-365 2097,-365\"/>\n<text text-anchor=\"start\" x=\"2026\" y=\"-349.8\" font-family=\"Helvetica,sans-Serif\" font-size=\"14.00\">SOP ≤ 3.75</text>\n<text text-anchor=\"start\" x=\"2026\" y=\"-334.8\" font-family=\"Helvetica,sans-Serif\" font-size=\"14.00\">gini = 0.375</text>\n<text text-anchor=\"start\" x=\"2024\" y=\"-319.8\" font-family=\"Helvetica,sans-Serif\" font-size=\"14.00\">samples = 4</text>\n<text text-anchor=\"start\" x=\"2022\" y=\"-304.8\" font-family=\"Helvetica,sans-Serif\" font-size=\"14.00\">value = [3, 1]</text>\n</g>\n<!-- 81&#45;&gt;87 -->\n<g id=\"edge87\" class=\"edge\">\n<title>81&#45;&gt;87</title>\n<path fill=\"none\" stroke=\"black\" d=\"M2023.01,-400.88C2027.78,-392.33 2032.99,-383.01 2037.99,-374.07\"/>\n<polygon fill=\"black\" stroke=\"black\" points=\"2041.07,-375.74 2042.89,-365.3 2034.96,-372.32 2041.07,-375.74\"/>\n</g>\n<!-- 83 -->\n<g id=\"node84\" class=\"node\">\n<title>83</title>\n<path fill=\"#ffffff\" stroke=\"black\" d=\"M1871,-261C1871,-261 1746,-261 1746,-261 1740,-261 1734,-255 1734,-249 1734,-249 1734,-205 1734,-205 1734,-199 1740,-193 1746,-193 1746,-193 1871,-193 1871,-193 1877,-193 1883,-199 1883,-205 1883,-205 1883,-249 1883,-249 1883,-255 1877,-261 1871,-261\"/>\n<text text-anchor=\"start\" x=\"1742\" y=\"-245.8\" font-family=\"Helvetica,sans-Serif\" font-size=\"14.00\">TOEFL Score ≤ 106.0</text>\n<text text-anchor=\"start\" x=\"1780.5\" y=\"-230.8\" font-family=\"Helvetica,sans-Serif\" font-size=\"14.00\">gini = 0.5</text>\n<text text-anchor=\"start\" x=\"1771\" y=\"-215.8\" font-family=\"Helvetica,sans-Serif\" font-size=\"14.00\">samples = 2</text>\n<text text-anchor=\"start\" x=\"1769\" y=\"-200.8\" font-family=\"Helvetica,sans-Serif\" font-size=\"14.00\">value = [1, 1]</text>\n</g>\n<!-- 82&#45;&gt;83 -->\n<g id=\"edge83\" class=\"edge\">\n<title>82&#45;&gt;83</title>\n<path fill=\"none\" stroke=\"black\" d=\"M1903.05,-296.88C1890.09,-287.44 1875.84,-277.06 1862.43,-267.29\"/>\n<polygon fill=\"black\" stroke=\"black\" points=\"1864.35,-264.36 1854.21,-261.3 1860.23,-270.02 1864.35,-264.36\"/>\n</g>\n<!-- 86 -->\n<g id=\"node87\" class=\"node\">\n<title>86</title>\n<path fill=\"#399de5\" stroke=\"black\" d=\"M1984,-253.5C1984,-253.5 1913,-253.5 1913,-253.5 1907,-253.5 1901,-247.5 1901,-241.5 1901,-241.5 1901,-212.5 1901,-212.5 1901,-206.5 1907,-200.5 1913,-200.5 1913,-200.5 1984,-200.5 1984,-200.5 1990,-200.5 1996,-206.5 1996,-212.5 1996,-212.5 1996,-241.5 1996,-241.5 1996,-247.5 1990,-253.5 1984,-253.5\"/>\n<text text-anchor=\"start\" x=\"1920.5\" y=\"-238.3\" font-family=\"Helvetica,sans-Serif\" font-size=\"14.00\">gini = 0.0</text>\n<text text-anchor=\"start\" x=\"1911\" y=\"-223.3\" font-family=\"Helvetica,sans-Serif\" font-size=\"14.00\">samples = 3</text>\n<text text-anchor=\"start\" x=\"1909\" y=\"-208.3\" font-family=\"Helvetica,sans-Serif\" font-size=\"14.00\">value = [0, 3]</text>\n</g>\n<!-- 82&#45;&gt;86 -->\n<g id=\"edge86\" class=\"edge\">\n<title>82&#45;&gt;86</title>\n<path fill=\"none\" stroke=\"black\" d=\"M1948.5,-296.88C1948.5,-286.33 1948.5,-274.6 1948.5,-263.85\"/>\n<polygon fill=\"black\" stroke=\"black\" points=\"1952,-263.52 1948.5,-253.52 1945,-263.52 1952,-263.52\"/>\n</g>\n<!-- 84 -->\n<g id=\"node85\" class=\"node\">\n<title>84</title>\n<path fill=\"#e58139\" stroke=\"black\" d=\"M1787,-149.5C1787,-149.5 1716,-149.5 1716,-149.5 1710,-149.5 1704,-143.5 1704,-137.5 1704,-137.5 1704,-108.5 1704,-108.5 1704,-102.5 1710,-96.5 1716,-96.5 1716,-96.5 1787,-96.5 1787,-96.5 1793,-96.5 1799,-102.5 1799,-108.5 1799,-108.5 1799,-137.5 1799,-137.5 1799,-143.5 1793,-149.5 1787,-149.5\"/>\n<text text-anchor=\"start\" x=\"1723.5\" y=\"-134.3\" font-family=\"Helvetica,sans-Serif\" font-size=\"14.00\">gini = 0.0</text>\n<text text-anchor=\"start\" x=\"1714\" y=\"-119.3\" font-family=\"Helvetica,sans-Serif\" font-size=\"14.00\">samples = 1</text>\n<text text-anchor=\"start\" x=\"1712\" y=\"-104.3\" font-family=\"Helvetica,sans-Serif\" font-size=\"14.00\">value = [1, 0]</text>\n</g>\n<!-- 83&#45;&gt;84 -->\n<g id=\"edge84\" class=\"edge\">\n<title>83&#45;&gt;84</title>\n<path fill=\"none\" stroke=\"black\" d=\"M1789.99,-192.88C1783.85,-181.89 1776.99,-169.62 1770.79,-158.52\"/>\n<polygon fill=\"black\" stroke=\"black\" points=\"1773.69,-156.54 1765.76,-149.52 1767.58,-159.96 1773.69,-156.54\"/>\n</g>\n<!-- 85 -->\n<g id=\"node86\" class=\"node\">\n<title>85</title>\n<path fill=\"#399de5\" stroke=\"black\" d=\"M1900,-149.5C1900,-149.5 1829,-149.5 1829,-149.5 1823,-149.5 1817,-143.5 1817,-137.5 1817,-137.5 1817,-108.5 1817,-108.5 1817,-102.5 1823,-96.5 1829,-96.5 1829,-96.5 1900,-96.5 1900,-96.5 1906,-96.5 1912,-102.5 1912,-108.5 1912,-108.5 1912,-137.5 1912,-137.5 1912,-143.5 1906,-149.5 1900,-149.5\"/>\n<text text-anchor=\"start\" x=\"1836.5\" y=\"-134.3\" font-family=\"Helvetica,sans-Serif\" font-size=\"14.00\">gini = 0.0</text>\n<text text-anchor=\"start\" x=\"1827\" y=\"-119.3\" font-family=\"Helvetica,sans-Serif\" font-size=\"14.00\">samples = 1</text>\n<text text-anchor=\"start\" x=\"1825\" y=\"-104.3\" font-family=\"Helvetica,sans-Serif\" font-size=\"14.00\">value = [0, 1]</text>\n</g>\n<!-- 83&#45;&gt;85 -->\n<g id=\"edge85\" class=\"edge\">\n<title>83&#45;&gt;85</title>\n<path fill=\"none\" stroke=\"black\" d=\"M1826.68,-192.88C1832.72,-181.89 1839.46,-169.62 1845.55,-158.52\"/>\n<polygon fill=\"black\" stroke=\"black\" points=\"1848.74,-159.97 1850.49,-149.52 1842.61,-156.6 1848.74,-159.97\"/>\n</g>\n<!-- 88 -->\n<g id=\"node89\" class=\"node\">\n<title>88</title>\n<path fill=\"#399de5\" stroke=\"black\" d=\"M2097,-253.5C2097,-253.5 2026,-253.5 2026,-253.5 2020,-253.5 2014,-247.5 2014,-241.5 2014,-241.5 2014,-212.5 2014,-212.5 2014,-206.5 2020,-200.5 2026,-200.5 2026,-200.5 2097,-200.5 2097,-200.5 2103,-200.5 2109,-206.5 2109,-212.5 2109,-212.5 2109,-241.5 2109,-241.5 2109,-247.5 2103,-253.5 2097,-253.5\"/>\n<text text-anchor=\"start\" x=\"2033.5\" y=\"-238.3\" font-family=\"Helvetica,sans-Serif\" font-size=\"14.00\">gini = 0.0</text>\n<text text-anchor=\"start\" x=\"2024\" y=\"-223.3\" font-family=\"Helvetica,sans-Serif\" font-size=\"14.00\">samples = 1</text>\n<text text-anchor=\"start\" x=\"2022\" y=\"-208.3\" font-family=\"Helvetica,sans-Serif\" font-size=\"14.00\">value = [0, 1]</text>\n</g>\n<!-- 87&#45;&gt;88 -->\n<g id=\"edge88\" class=\"edge\">\n<title>87&#45;&gt;88</title>\n<path fill=\"none\" stroke=\"black\" d=\"M2061.5,-296.88C2061.5,-286.33 2061.5,-274.6 2061.5,-263.85\"/>\n<polygon fill=\"black\" stroke=\"black\" points=\"2065,-263.52 2061.5,-253.52 2058,-263.52 2065,-263.52\"/>\n</g>\n<!-- 89 -->\n<g id=\"node90\" class=\"node\">\n<title>89</title>\n<path fill=\"#e58139\" stroke=\"black\" d=\"M2210,-253.5C2210,-253.5 2139,-253.5 2139,-253.5 2133,-253.5 2127,-247.5 2127,-241.5 2127,-241.5 2127,-212.5 2127,-212.5 2127,-206.5 2133,-200.5 2139,-200.5 2139,-200.5 2210,-200.5 2210,-200.5 2216,-200.5 2222,-206.5 2222,-212.5 2222,-212.5 2222,-241.5 2222,-241.5 2222,-247.5 2216,-253.5 2210,-253.5\"/>\n<text text-anchor=\"start\" x=\"2146.5\" y=\"-238.3\" font-family=\"Helvetica,sans-Serif\" font-size=\"14.00\">gini = 0.0</text>\n<text text-anchor=\"start\" x=\"2137\" y=\"-223.3\" font-family=\"Helvetica,sans-Serif\" font-size=\"14.00\">samples = 3</text>\n<text text-anchor=\"start\" x=\"2135\" y=\"-208.3\" font-family=\"Helvetica,sans-Serif\" font-size=\"14.00\">value = [3, 0]</text>\n</g>\n<!-- 87&#45;&gt;89 -->\n<g id=\"edge89\" class=\"edge\">\n<title>87&#45;&gt;89</title>\n<path fill=\"none\" stroke=\"black\" d=\"M2098.19,-296.88C2111.1,-285.23 2125.6,-272.14 2138.46,-260.53\"/>\n<polygon fill=\"black\" stroke=\"black\" points=\"2141.15,-262.82 2146.23,-253.52 2136.46,-257.62 2141.15,-262.82\"/>\n</g>\n<!-- 93 -->\n<g id=\"node94\" class=\"node\">\n<title>93</title>\n<path fill=\"#70b8ec\" stroke=\"black\" d=\"M2359.5,-781C2359.5,-781 2231.5,-781 2231.5,-781 2225.5,-781 2219.5,-775 2219.5,-769 2219.5,-769 2219.5,-725 2219.5,-725 2219.5,-719 2225.5,-713 2231.5,-713 2231.5,-713 2359.5,-713 2359.5,-713 2365.5,-713 2371.5,-719 2371.5,-725 2371.5,-725 2371.5,-769 2371.5,-769 2371.5,-775 2365.5,-781 2359.5,-781\"/>\n<text text-anchor=\"start\" x=\"2227.5\" y=\"-765.8\" font-family=\"Helvetica,sans-Serif\" font-size=\"14.00\">University Rating ≤ 4.5</text>\n<text text-anchor=\"start\" x=\"2260\" y=\"-750.8\" font-family=\"Helvetica,sans-Serif\" font-size=\"14.00\">gini = 0.342</text>\n<text text-anchor=\"start\" x=\"2254.5\" y=\"-735.8\" font-family=\"Helvetica,sans-Serif\" font-size=\"14.00\">samples = 32</text>\n<text text-anchor=\"start\" x=\"2252.5\" y=\"-720.8\" font-family=\"Helvetica,sans-Serif\" font-size=\"14.00\">value = [7, 25]</text>\n</g>\n<!-- 92&#45;&gt;93 -->\n<g id=\"edge93\" class=\"edge\">\n<title>92&#45;&gt;93</title>\n<path fill=\"none\" stroke=\"black\" d=\"M2295.5,-816.88C2295.5,-808.78 2295.5,-799.98 2295.5,-791.47\"/>\n<polygon fill=\"black\" stroke=\"black\" points=\"2299,-791.3 2295.5,-781.3 2292,-791.3 2299,-791.3\"/>\n</g>\n<!-- 114 -->\n<g id=\"node115\" class=\"node\">\n<title>114</title>\n<path fill=\"#399de5\" stroke=\"black\" d=\"M2487.5,-773.5C2487.5,-773.5 2401.5,-773.5 2401.5,-773.5 2395.5,-773.5 2389.5,-767.5 2389.5,-761.5 2389.5,-761.5 2389.5,-732.5 2389.5,-732.5 2389.5,-726.5 2395.5,-720.5 2401.5,-720.5 2401.5,-720.5 2487.5,-720.5 2487.5,-720.5 2493.5,-720.5 2499.5,-726.5 2499.5,-732.5 2499.5,-732.5 2499.5,-761.5 2499.5,-761.5 2499.5,-767.5 2493.5,-773.5 2487.5,-773.5\"/>\n<text text-anchor=\"start\" x=\"2416.5\" y=\"-758.3\" font-family=\"Helvetica,sans-Serif\" font-size=\"14.00\">gini = 0.0</text>\n<text text-anchor=\"start\" x=\"2399.5\" y=\"-743.3\" font-family=\"Helvetica,sans-Serif\" font-size=\"14.00\">samples = 110</text>\n<text text-anchor=\"start\" x=\"2397.5\" y=\"-728.3\" font-family=\"Helvetica,sans-Serif\" font-size=\"14.00\">value = [0, 110]</text>\n</g>\n<!-- 92&#45;&gt;114 -->\n<g id=\"edge114\" class=\"edge\">\n<title>92&#45;&gt;114</title>\n<path fill=\"none\" stroke=\"black\" d=\"M2343.88,-816.88C2361.55,-804.79 2381.47,-791.15 2398.89,-779.22\"/>\n<polygon fill=\"black\" stroke=\"black\" points=\"2400.95,-782.06 2407.22,-773.52 2396.99,-776.28 2400.95,-782.06\"/>\n</g>\n<!-- 94 -->\n<g id=\"node95\" class=\"node\">\n<title>94</title>\n<path fill=\"#69b5eb\" stroke=\"black\" d=\"M2334.5,-677C2334.5,-677 2256.5,-677 2256.5,-677 2250.5,-677 2244.5,-671 2244.5,-665 2244.5,-665 2244.5,-621 2244.5,-621 2244.5,-615 2250.5,-609 2256.5,-609 2256.5,-609 2334.5,-609 2334.5,-609 2340.5,-609 2346.5,-615 2346.5,-621 2346.5,-621 2346.5,-665 2346.5,-665 2346.5,-671 2340.5,-677 2334.5,-677\"/>\n<text text-anchor=\"start\" x=\"2260.5\" y=\"-661.8\" font-family=\"Helvetica,sans-Serif\" font-size=\"14.00\">LOR ≤ 1.75</text>\n<text text-anchor=\"start\" x=\"2260\" y=\"-646.8\" font-family=\"Helvetica,sans-Serif\" font-size=\"14.00\">gini = 0.312</text>\n<text text-anchor=\"start\" x=\"2254.5\" y=\"-631.8\" font-family=\"Helvetica,sans-Serif\" font-size=\"14.00\">samples = 31</text>\n<text text-anchor=\"start\" x=\"2252.5\" y=\"-616.8\" font-family=\"Helvetica,sans-Serif\" font-size=\"14.00\">value = [6, 25]</text>\n</g>\n<!-- 93&#45;&gt;94 -->\n<g id=\"edge94\" class=\"edge\">\n<title>93&#45;&gt;94</title>\n<path fill=\"none\" stroke=\"black\" d=\"M2295.5,-712.88C2295.5,-704.78 2295.5,-695.98 2295.5,-687.47\"/>\n<polygon fill=\"black\" stroke=\"black\" points=\"2299,-687.3 2295.5,-677.3 2292,-687.3 2299,-687.3\"/>\n</g>\n<!-- 113 -->\n<g id=\"node114\" class=\"node\">\n<title>113</title>\n<path fill=\"#e58139\" stroke=\"black\" d=\"M2448,-669.5C2448,-669.5 2377,-669.5 2377,-669.5 2371,-669.5 2365,-663.5 2365,-657.5 2365,-657.5 2365,-628.5 2365,-628.5 2365,-622.5 2371,-616.5 2377,-616.5 2377,-616.5 2448,-616.5 2448,-616.5 2454,-616.5 2460,-622.5 2460,-628.5 2460,-628.5 2460,-657.5 2460,-657.5 2460,-663.5 2454,-669.5 2448,-669.5\"/>\n<text text-anchor=\"start\" x=\"2384.5\" y=\"-654.3\" font-family=\"Helvetica,sans-Serif\" font-size=\"14.00\">gini = 0.0</text>\n<text text-anchor=\"start\" x=\"2375\" y=\"-639.3\" font-family=\"Helvetica,sans-Serif\" font-size=\"14.00\">samples = 1</text>\n<text text-anchor=\"start\" x=\"2373\" y=\"-624.3\" font-family=\"Helvetica,sans-Serif\" font-size=\"14.00\">value = [1, 0]</text>\n</g>\n<!-- 93&#45;&gt;113 -->\n<g id=\"edge113\" class=\"edge\">\n<title>93&#45;&gt;113</title>\n<path fill=\"none\" stroke=\"black\" d=\"M2333.49,-712.88C2346.98,-701.12 2362.15,-687.89 2375.56,-676.2\"/>\n<polygon fill=\"black\" stroke=\"black\" points=\"2377.99,-678.73 2383.23,-669.52 2373.39,-673.45 2377.99,-678.73\"/>\n</g>\n<!-- 95 -->\n<g id=\"node96\" class=\"node\">\n<title>95</title>\n<path fill=\"#e58139\" stroke=\"black\" d=\"M2331,-565.5C2331,-565.5 2260,-565.5 2260,-565.5 2254,-565.5 2248,-559.5 2248,-553.5 2248,-553.5 2248,-524.5 2248,-524.5 2248,-518.5 2254,-512.5 2260,-512.5 2260,-512.5 2331,-512.5 2331,-512.5 2337,-512.5 2343,-518.5 2343,-524.5 2343,-524.5 2343,-553.5 2343,-553.5 2343,-559.5 2337,-565.5 2331,-565.5\"/>\n<text text-anchor=\"start\" x=\"2267.5\" y=\"-550.3\" font-family=\"Helvetica,sans-Serif\" font-size=\"14.00\">gini = 0.0</text>\n<text text-anchor=\"start\" x=\"2258\" y=\"-535.3\" font-family=\"Helvetica,sans-Serif\" font-size=\"14.00\">samples = 1</text>\n<text text-anchor=\"start\" x=\"2256\" y=\"-520.3\" font-family=\"Helvetica,sans-Serif\" font-size=\"14.00\">value = [1, 0]</text>\n</g>\n<!-- 94&#45;&gt;95 -->\n<g id=\"edge95\" class=\"edge\">\n<title>94&#45;&gt;95</title>\n<path fill=\"none\" stroke=\"black\" d=\"M2295.5,-608.88C2295.5,-598.33 2295.5,-586.6 2295.5,-575.85\"/>\n<polygon fill=\"black\" stroke=\"black\" points=\"2299,-575.52 2295.5,-565.52 2292,-575.52 2299,-575.52\"/>\n</g>\n<!-- 96 -->\n<g id=\"node97\" class=\"node\">\n<title>96</title>\n<path fill=\"#61b1ea\" stroke=\"black\" d=\"M2503,-573C2503,-573 2378,-573 2378,-573 2372,-573 2366,-567 2366,-561 2366,-561 2366,-517 2366,-517 2366,-511 2372,-505 2378,-505 2378,-505 2503,-505 2503,-505 2509,-505 2515,-511 2515,-517 2515,-517 2515,-561 2515,-561 2515,-567 2509,-573 2503,-573\"/>\n<text text-anchor=\"start\" x=\"2374\" y=\"-557.8\" font-family=\"Helvetica,sans-Serif\" font-size=\"14.00\">TOEFL Score ≤ 111.5</text>\n<text text-anchor=\"start\" x=\"2405\" y=\"-542.8\" font-family=\"Helvetica,sans-Serif\" font-size=\"14.00\">gini = 0.278</text>\n<text text-anchor=\"start\" x=\"2399.5\" y=\"-527.8\" font-family=\"Helvetica,sans-Serif\" font-size=\"14.00\">samples = 30</text>\n<text text-anchor=\"start\" x=\"2397.5\" y=\"-512.8\" font-family=\"Helvetica,sans-Serif\" font-size=\"14.00\">value = [5, 25]</text>\n</g>\n<!-- 94&#45;&gt;96 -->\n<g id=\"edge96\" class=\"edge\">\n<title>94&#45;&gt;96</title>\n<path fill=\"none\" stroke=\"black\" d=\"M2342.58,-608.88C2356,-599.44 2370.75,-589.06 2384.64,-579.29\"/>\n<polygon fill=\"black\" stroke=\"black\" points=\"2387,-581.92 2393.16,-573.3 2382.97,-576.19 2387,-581.92\"/>\n</g>\n<!-- 97 -->\n<g id=\"node98\" class=\"node\">\n<title>97</title>\n<path fill=\"#44a2e6\" stroke=\"black\" d=\"M2495.5,-469C2495.5,-469 2385.5,-469 2385.5,-469 2379.5,-469 2373.5,-463 2373.5,-457 2373.5,-457 2373.5,-413 2373.5,-413 2373.5,-407 2379.5,-401 2385.5,-401 2385.5,-401 2495.5,-401 2495.5,-401 2501.5,-401 2507.5,-407 2507.5,-413 2507.5,-413 2507.5,-457 2507.5,-457 2507.5,-463 2501.5,-469 2495.5,-469\"/>\n<text text-anchor=\"start\" x=\"2381.5\" y=\"-453.8\" font-family=\"Helvetica,sans-Serif\" font-size=\"14.00\">GRE Score ≤ 321.5</text>\n<text text-anchor=\"start\" x=\"2412.5\" y=\"-438.8\" font-family=\"Helvetica,sans-Serif\" font-size=\"14.00\">gini = 0.1</text>\n<text text-anchor=\"start\" x=\"2399.5\" y=\"-423.8\" font-family=\"Helvetica,sans-Serif\" font-size=\"14.00\">samples = 19</text>\n<text text-anchor=\"start\" x=\"2397.5\" y=\"-408.8\" font-family=\"Helvetica,sans-Serif\" font-size=\"14.00\">value = [1, 18]</text>\n</g>\n<!-- 96&#45;&gt;97 -->\n<g id=\"edge97\" class=\"edge\">\n<title>96&#45;&gt;97</title>\n<path fill=\"none\" stroke=\"black\" d=\"M2440.5,-504.88C2440.5,-496.78 2440.5,-487.98 2440.5,-479.47\"/>\n<polygon fill=\"black\" stroke=\"black\" points=\"2444,-479.3 2440.5,-469.3 2437,-479.3 2444,-479.3\"/>\n</g>\n<!-- 104 -->\n<g id=\"node105\" class=\"node\">\n<title>104</title>\n<path fill=\"#aad5f4\" stroke=\"black\" d=\"M2635,-469C2635,-469 2556,-469 2556,-469 2550,-469 2544,-463 2544,-457 2544,-457 2544,-413 2544,-413 2544,-407 2550,-401 2556,-401 2556,-401 2635,-401 2635,-401 2641,-401 2647,-407 2647,-413 2647,-413 2647,-457 2647,-457 2647,-463 2641,-469 2635,-469\"/>\n<text text-anchor=\"start\" x=\"2552\" y=\"-453.8\" font-family=\"Helvetica,sans-Serif\" font-size=\"14.00\">CGPA ≤ 9.075</text>\n<text text-anchor=\"start\" x=\"2560\" y=\"-438.8\" font-family=\"Helvetica,sans-Serif\" font-size=\"14.00\">gini = 0.463</text>\n<text text-anchor=\"start\" x=\"2554.5\" y=\"-423.8\" font-family=\"Helvetica,sans-Serif\" font-size=\"14.00\">samples = 11</text>\n<text text-anchor=\"start\" x=\"2556\" y=\"-408.8\" font-family=\"Helvetica,sans-Serif\" font-size=\"14.00\">value = [4, 7]</text>\n</g>\n<!-- 96&#45;&gt;104 -->\n<g id=\"edge104\" class=\"edge\">\n<title>96&#45;&gt;104</title>\n<path fill=\"none\" stroke=\"black\" d=\"M2490.82,-504.88C2505.38,-495.3 2521.4,-484.76 2536.44,-474.86\"/>\n<polygon fill=\"black\" stroke=\"black\" points=\"2538.73,-477.55 2545.16,-469.12 2534.89,-471.7 2538.73,-477.55\"/>\n</g>\n<!-- 98 -->\n<g id=\"node99\" class=\"node\">\n<title>98</title>\n<path fill=\"#6ab6ec\" stroke=\"black\" d=\"M2370,-365C2370,-365 2245,-365 2245,-365 2239,-365 2233,-359 2233,-353 2233,-353 2233,-309 2233,-309 2233,-303 2239,-297 2245,-297 2245,-297 2370,-297 2370,-297 2376,-297 2382,-303 2382,-309 2382,-309 2382,-353 2382,-353 2382,-359 2376,-365 2370,-365\"/>\n<text text-anchor=\"start\" x=\"2241\" y=\"-349.8\" font-family=\"Helvetica,sans-Serif\" font-size=\"14.00\">TOEFL Score ≤ 109.5</text>\n<text text-anchor=\"start\" x=\"2275.5\" y=\"-334.8\" font-family=\"Helvetica,sans-Serif\" font-size=\"14.00\">gini = 0.32</text>\n<text text-anchor=\"start\" x=\"2270\" y=\"-319.8\" font-family=\"Helvetica,sans-Serif\" font-size=\"14.00\">samples = 5</text>\n<text text-anchor=\"start\" x=\"2268\" y=\"-304.8\" font-family=\"Helvetica,sans-Serif\" font-size=\"14.00\">value = [1, 4]</text>\n</g>\n<!-- 97&#45;&gt;98 -->\n<g id=\"edge98\" class=\"edge\">\n<title>97&#45;&gt;98</title>\n<path fill=\"none\" stroke=\"black\" d=\"M2397.32,-400.88C2385.12,-391.53 2371.73,-381.26 2359.09,-371.57\"/>\n<polygon fill=\"black\" stroke=\"black\" points=\"2360.98,-368.61 2350.92,-365.3 2356.72,-374.16 2360.98,-368.61\"/>\n</g>\n<!-- 103 -->\n<g id=\"node104\" class=\"node\">\n<title>103</title>\n<path fill=\"#399de5\" stroke=\"black\" d=\"M2489.5,-357.5C2489.5,-357.5 2411.5,-357.5 2411.5,-357.5 2405.5,-357.5 2399.5,-351.5 2399.5,-345.5 2399.5,-345.5 2399.5,-316.5 2399.5,-316.5 2399.5,-310.5 2405.5,-304.5 2411.5,-304.5 2411.5,-304.5 2489.5,-304.5 2489.5,-304.5 2495.5,-304.5 2501.5,-310.5 2501.5,-316.5 2501.5,-316.5 2501.5,-345.5 2501.5,-345.5 2501.5,-351.5 2495.5,-357.5 2489.5,-357.5\"/>\n<text text-anchor=\"start\" x=\"2422.5\" y=\"-342.3\" font-family=\"Helvetica,sans-Serif\" font-size=\"14.00\">gini = 0.0</text>\n<text text-anchor=\"start\" x=\"2409.5\" y=\"-327.3\" font-family=\"Helvetica,sans-Serif\" font-size=\"14.00\">samples = 14</text>\n<text text-anchor=\"start\" x=\"2407.5\" y=\"-312.3\" font-family=\"Helvetica,sans-Serif\" font-size=\"14.00\">value = [0, 14]</text>\n</g>\n<!-- 97&#45;&gt;103 -->\n<g id=\"edge103\" class=\"edge\">\n<title>97&#45;&gt;103</title>\n<path fill=\"none\" stroke=\"black\" d=\"M2443.75,-400.88C2444.79,-390.22 2445.96,-378.35 2447.02,-367.52\"/>\n<polygon fill=\"black\" stroke=\"black\" points=\"2450.51,-367.81 2448,-357.52 2443.54,-367.13 2450.51,-367.81\"/>\n</g>\n<!-- 99 -->\n<g id=\"node100\" class=\"node\">\n<title>99</title>\n<path fill=\"#ffffff\" stroke=\"black\" d=\"M2362.5,-261C2362.5,-261 2252.5,-261 2252.5,-261 2246.5,-261 2240.5,-255 2240.5,-249 2240.5,-249 2240.5,-205 2240.5,-205 2240.5,-199 2246.5,-193 2252.5,-193 2252.5,-193 2362.5,-193 2362.5,-193 2368.5,-193 2374.5,-199 2374.5,-205 2374.5,-205 2374.5,-249 2374.5,-249 2374.5,-255 2368.5,-261 2362.5,-261\"/>\n<text text-anchor=\"start\" x=\"2248.5\" y=\"-245.8\" font-family=\"Helvetica,sans-Serif\" font-size=\"14.00\">GRE Score ≤ 320.5</text>\n<text text-anchor=\"start\" x=\"2279.5\" y=\"-230.8\" font-family=\"Helvetica,sans-Serif\" font-size=\"14.00\">gini = 0.5</text>\n<text text-anchor=\"start\" x=\"2270\" y=\"-215.8\" font-family=\"Helvetica,sans-Serif\" font-size=\"14.00\">samples = 2</text>\n<text text-anchor=\"start\" x=\"2268\" y=\"-200.8\" font-family=\"Helvetica,sans-Serif\" font-size=\"14.00\">value = [1, 1]</text>\n</g>\n<!-- 98&#45;&gt;99 -->\n<g id=\"edge99\" class=\"edge\">\n<title>98&#45;&gt;99</title>\n<path fill=\"none\" stroke=\"black\" d=\"M2307.5,-296.88C2307.5,-288.78 2307.5,-279.98 2307.5,-271.47\"/>\n<polygon fill=\"black\" stroke=\"black\" points=\"2311,-271.3 2307.5,-261.3 2304,-271.3 2311,-271.3\"/>\n</g>\n<!-- 102 -->\n<g id=\"node103\" class=\"node\">\n<title>102</title>\n<path fill=\"#399de5\" stroke=\"black\" d=\"M2476,-253.5C2476,-253.5 2405,-253.5 2405,-253.5 2399,-253.5 2393,-247.5 2393,-241.5 2393,-241.5 2393,-212.5 2393,-212.5 2393,-206.5 2399,-200.5 2405,-200.5 2405,-200.5 2476,-200.5 2476,-200.5 2482,-200.5 2488,-206.5 2488,-212.5 2488,-212.5 2488,-241.5 2488,-241.5 2488,-247.5 2482,-253.5 2476,-253.5\"/>\n<text text-anchor=\"start\" x=\"2412.5\" y=\"-238.3\" font-family=\"Helvetica,sans-Serif\" font-size=\"14.00\">gini = 0.0</text>\n<text text-anchor=\"start\" x=\"2403\" y=\"-223.3\" font-family=\"Helvetica,sans-Serif\" font-size=\"14.00\">samples = 3</text>\n<text text-anchor=\"start\" x=\"2401\" y=\"-208.3\" font-family=\"Helvetica,sans-Serif\" font-size=\"14.00\">value = [0, 3]</text>\n</g>\n<!-- 98&#45;&gt;102 -->\n<g id=\"edge102\" class=\"edge\">\n<title>98&#45;&gt;102</title>\n<path fill=\"none\" stroke=\"black\" d=\"M2350.68,-296.88C2366.17,-285.01 2383.59,-271.65 2398.94,-259.88\"/>\n<polygon fill=\"black\" stroke=\"black\" points=\"2401.42,-262.38 2407.22,-253.52 2397.16,-256.83 2401.42,-262.38\"/>\n</g>\n<!-- 100 -->\n<g id=\"node101\" class=\"node\">\n<title>100</title>\n<path fill=\"#399de5\" stroke=\"black\" d=\"M2323,-149.5C2323,-149.5 2252,-149.5 2252,-149.5 2246,-149.5 2240,-143.5 2240,-137.5 2240,-137.5 2240,-108.5 2240,-108.5 2240,-102.5 2246,-96.5 2252,-96.5 2252,-96.5 2323,-96.5 2323,-96.5 2329,-96.5 2335,-102.5 2335,-108.5 2335,-108.5 2335,-137.5 2335,-137.5 2335,-143.5 2329,-149.5 2323,-149.5\"/>\n<text text-anchor=\"start\" x=\"2259.5\" y=\"-134.3\" font-family=\"Helvetica,sans-Serif\" font-size=\"14.00\">gini = 0.0</text>\n<text text-anchor=\"start\" x=\"2250\" y=\"-119.3\" font-family=\"Helvetica,sans-Serif\" font-size=\"14.00\">samples = 1</text>\n<text text-anchor=\"start\" x=\"2248\" y=\"-104.3\" font-family=\"Helvetica,sans-Serif\" font-size=\"14.00\">value = [0, 1]</text>\n</g>\n<!-- 99&#45;&gt;100 -->\n<g id=\"edge100\" class=\"edge\">\n<title>99&#45;&gt;100</title>\n<path fill=\"none\" stroke=\"black\" d=\"M2301.01,-192.88C2298.91,-182.22 2296.59,-170.35 2294.46,-159.52\"/>\n<polygon fill=\"black\" stroke=\"black\" points=\"2297.86,-158.66 2292.5,-149.52 2290.99,-160.01 2297.86,-158.66\"/>\n</g>\n<!-- 101 -->\n<g id=\"node102\" class=\"node\">\n<title>101</title>\n<path fill=\"#e58139\" stroke=\"black\" d=\"M2436,-149.5C2436,-149.5 2365,-149.5 2365,-149.5 2359,-149.5 2353,-143.5 2353,-137.5 2353,-137.5 2353,-108.5 2353,-108.5 2353,-102.5 2359,-96.5 2365,-96.5 2365,-96.5 2436,-96.5 2436,-96.5 2442,-96.5 2448,-102.5 2448,-108.5 2448,-108.5 2448,-137.5 2448,-137.5 2448,-143.5 2442,-149.5 2436,-149.5\"/>\n<text text-anchor=\"start\" x=\"2372.5\" y=\"-134.3\" font-family=\"Helvetica,sans-Serif\" font-size=\"14.00\">gini = 0.0</text>\n<text text-anchor=\"start\" x=\"2363\" y=\"-119.3\" font-family=\"Helvetica,sans-Serif\" font-size=\"14.00\">samples = 1</text>\n<text text-anchor=\"start\" x=\"2361\" y=\"-104.3\" font-family=\"Helvetica,sans-Serif\" font-size=\"14.00\">value = [1, 0]</text>\n</g>\n<!-- 99&#45;&gt;101 -->\n<g id=\"edge101\" class=\"edge\">\n<title>99&#45;&gt;101</title>\n<path fill=\"none\" stroke=\"black\" d=\"M2337.69,-192.88C2348.12,-181.45 2359.8,-168.63 2370.24,-157.19\"/>\n<polygon fill=\"black\" stroke=\"black\" points=\"2373.08,-159.27 2377.23,-149.52 2367.91,-154.55 2373.08,-159.27\"/>\n</g>\n<!-- 105 -->\n<g id=\"node106\" class=\"node\">\n<title>105</title>\n<path fill=\"#f2c09c\" stroke=\"black\" d=\"M2659.5,-365C2659.5,-365 2531.5,-365 2531.5,-365 2525.5,-365 2519.5,-359 2519.5,-353 2519.5,-353 2519.5,-309 2519.5,-309 2519.5,-303 2525.5,-297 2531.5,-297 2531.5,-297 2659.5,-297 2659.5,-297 2665.5,-297 2671.5,-303 2671.5,-309 2671.5,-309 2671.5,-353 2671.5,-353 2671.5,-359 2665.5,-365 2659.5,-365\"/>\n<text text-anchor=\"start\" x=\"2527.5\" y=\"-349.8\" font-family=\"Helvetica,sans-Serif\" font-size=\"14.00\">University Rating ≤ 2.5</text>\n<text text-anchor=\"start\" x=\"2560\" y=\"-334.8\" font-family=\"Helvetica,sans-Serif\" font-size=\"14.00\">gini = 0.444</text>\n<text text-anchor=\"start\" x=\"2558\" y=\"-319.8\" font-family=\"Helvetica,sans-Serif\" font-size=\"14.00\">samples = 6</text>\n<text text-anchor=\"start\" x=\"2556\" y=\"-304.8\" font-family=\"Helvetica,sans-Serif\" font-size=\"14.00\">value = [4, 2]</text>\n</g>\n<!-- 104&#45;&gt;105 -->\n<g id=\"edge105\" class=\"edge\">\n<title>104&#45;&gt;105</title>\n<path fill=\"none\" stroke=\"black\" d=\"M2595.5,-400.88C2595.5,-392.78 2595.5,-383.98 2595.5,-375.47\"/>\n<polygon fill=\"black\" stroke=\"black\" points=\"2599,-375.3 2595.5,-365.3 2592,-375.3 2599,-375.3\"/>\n</g>\n<!-- 112 -->\n<g id=\"node113\" class=\"node\">\n<title>112</title>\n<path fill=\"#399de5\" stroke=\"black\" d=\"M2773,-357.5C2773,-357.5 2702,-357.5 2702,-357.5 2696,-357.5 2690,-351.5 2690,-345.5 2690,-345.5 2690,-316.5 2690,-316.5 2690,-310.5 2696,-304.5 2702,-304.5 2702,-304.5 2773,-304.5 2773,-304.5 2779,-304.5 2785,-310.5 2785,-316.5 2785,-316.5 2785,-345.5 2785,-345.5 2785,-351.5 2779,-357.5 2773,-357.5\"/>\n<text text-anchor=\"start\" x=\"2709.5\" y=\"-342.3\" font-family=\"Helvetica,sans-Serif\" font-size=\"14.00\">gini = 0.0</text>\n<text text-anchor=\"start\" x=\"2700\" y=\"-327.3\" font-family=\"Helvetica,sans-Serif\" font-size=\"14.00\">samples = 5</text>\n<text text-anchor=\"start\" x=\"2698\" y=\"-312.3\" font-family=\"Helvetica,sans-Serif\" font-size=\"14.00\">value = [0, 5]</text>\n</g>\n<!-- 104&#45;&gt;112 -->\n<g id=\"edge112\" class=\"edge\">\n<title>104&#45;&gt;112</title>\n<path fill=\"none\" stroke=\"black\" d=\"M2641.6,-400.88C2658.29,-388.9 2677.08,-375.4 2693.58,-363.55\"/>\n<polygon fill=\"black\" stroke=\"black\" points=\"2695.89,-366.2 2701.97,-357.52 2691.81,-360.51 2695.89,-366.2\"/>\n</g>\n<!-- 106 -->\n<g id=\"node107\" class=\"node\">\n<title>106</title>\n<path fill=\"#399de5\" stroke=\"black\" d=\"M2610,-253.5C2610,-253.5 2539,-253.5 2539,-253.5 2533,-253.5 2527,-247.5 2527,-241.5 2527,-241.5 2527,-212.5 2527,-212.5 2527,-206.5 2533,-200.5 2539,-200.5 2539,-200.5 2610,-200.5 2610,-200.5 2616,-200.5 2622,-206.5 2622,-212.5 2622,-212.5 2622,-241.5 2622,-241.5 2622,-247.5 2616,-253.5 2610,-253.5\"/>\n<text text-anchor=\"start\" x=\"2546.5\" y=\"-238.3\" font-family=\"Helvetica,sans-Serif\" font-size=\"14.00\">gini = 0.0</text>\n<text text-anchor=\"start\" x=\"2537\" y=\"-223.3\" font-family=\"Helvetica,sans-Serif\" font-size=\"14.00\">samples = 1</text>\n<text text-anchor=\"start\" x=\"2535\" y=\"-208.3\" font-family=\"Helvetica,sans-Serif\" font-size=\"14.00\">value = [0, 1]</text>\n</g>\n<!-- 105&#45;&gt;106 -->\n<g id=\"edge106\" class=\"edge\">\n<title>105&#45;&gt;106</title>\n<path fill=\"none\" stroke=\"black\" d=\"M2588.68,-296.88C2586.49,-286.22 2584.04,-274.35 2581.81,-263.52\"/>\n<polygon fill=\"black\" stroke=\"black\" points=\"2585.2,-262.61 2579.75,-253.52 2578.34,-264.02 2585.2,-262.61\"/>\n</g>\n<!-- 107 -->\n<g id=\"node108\" class=\"node\">\n<title>107</title>\n<path fill=\"#eca06a\" stroke=\"black\" d=\"M2723,-261C2723,-261 2652,-261 2652,-261 2646,-261 2640,-255 2640,-249 2640,-249 2640,-205 2640,-205 2640,-199 2646,-193 2652,-193 2652,-193 2723,-193 2723,-193 2729,-193 2735,-199 2735,-205 2735,-205 2735,-249 2735,-249 2735,-255 2729,-261 2723,-261\"/>\n<text text-anchor=\"start\" x=\"2648\" y=\"-245.8\" font-family=\"Helvetica,sans-Serif\" font-size=\"14.00\">CGPA ≤ 9.03</text>\n<text text-anchor=\"start\" x=\"2655.5\" y=\"-230.8\" font-family=\"Helvetica,sans-Serif\" font-size=\"14.00\">gini = 0.32</text>\n<text text-anchor=\"start\" x=\"2650\" y=\"-215.8\" font-family=\"Helvetica,sans-Serif\" font-size=\"14.00\">samples = 5</text>\n<text text-anchor=\"start\" x=\"2648\" y=\"-200.8\" font-family=\"Helvetica,sans-Serif\" font-size=\"14.00\">value = [4, 1]</text>\n</g>\n<!-- 105&#45;&gt;107 -->\n<g id=\"edge107\" class=\"edge\">\n<title>105&#45;&gt;107</title>\n<path fill=\"none\" stroke=\"black\" d=\"M2625.37,-296.88C2633.4,-287.98 2642.19,-278.24 2650.56,-268.96\"/>\n<polygon fill=\"black\" stroke=\"black\" points=\"2653.37,-271.07 2657.47,-261.3 2648.17,-266.38 2653.37,-271.07\"/>\n</g>\n<!-- 108 -->\n<g id=\"node109\" class=\"node\">\n<title>108</title>\n<path fill=\"#e58139\" stroke=\"black\" d=\"M2602,-149.5C2602,-149.5 2531,-149.5 2531,-149.5 2525,-149.5 2519,-143.5 2519,-137.5 2519,-137.5 2519,-108.5 2519,-108.5 2519,-102.5 2525,-96.5 2531,-96.5 2531,-96.5 2602,-96.5 2602,-96.5 2608,-96.5 2614,-102.5 2614,-108.5 2614,-108.5 2614,-137.5 2614,-137.5 2614,-143.5 2608,-149.5 2602,-149.5\"/>\n<text text-anchor=\"start\" x=\"2538.5\" y=\"-134.3\" font-family=\"Helvetica,sans-Serif\" font-size=\"14.00\">gini = 0.0</text>\n<text text-anchor=\"start\" x=\"2529\" y=\"-119.3\" font-family=\"Helvetica,sans-Serif\" font-size=\"14.00\">samples = 3</text>\n<text text-anchor=\"start\" x=\"2527\" y=\"-104.3\" font-family=\"Helvetica,sans-Serif\" font-size=\"14.00\">value = [3, 0]</text>\n</g>\n<!-- 107&#45;&gt;108 -->\n<g id=\"edge108\" class=\"edge\">\n<title>107&#45;&gt;108</title>\n<path fill=\"none\" stroke=\"black\" d=\"M2648.21,-192.88C2634.26,-181.12 2618.57,-167.89 2604.7,-156.2\"/>\n<polygon fill=\"black\" stroke=\"black\" points=\"2606.68,-153.29 2596.77,-149.52 2602.16,-158.64 2606.68,-153.29\"/>\n</g>\n<!-- 109 -->\n<g id=\"node110\" class=\"node\">\n<title>109</title>\n<path fill=\"#ffffff\" stroke=\"black\" d=\"M2769,-157C2769,-157 2644,-157 2644,-157 2638,-157 2632,-151 2632,-145 2632,-145 2632,-101 2632,-101 2632,-95 2638,-89 2644,-89 2644,-89 2769,-89 2769,-89 2775,-89 2781,-95 2781,-101 2781,-101 2781,-145 2781,-145 2781,-151 2775,-157 2769,-157\"/>\n<text text-anchor=\"start\" x=\"2640\" y=\"-141.8\" font-family=\"Helvetica,sans-Serif\" font-size=\"14.00\">TOEFL Score ≤ 113.0</text>\n<text text-anchor=\"start\" x=\"2678.5\" y=\"-126.8\" font-family=\"Helvetica,sans-Serif\" font-size=\"14.00\">gini = 0.5</text>\n<text text-anchor=\"start\" x=\"2669\" y=\"-111.8\" font-family=\"Helvetica,sans-Serif\" font-size=\"14.00\">samples = 2</text>\n<text text-anchor=\"start\" x=\"2667\" y=\"-96.8\" font-family=\"Helvetica,sans-Serif\" font-size=\"14.00\">value = [1, 1]</text>\n</g>\n<!-- 107&#45;&gt;109 -->\n<g id=\"edge109\" class=\"edge\">\n<title>107&#45;&gt;109</title>\n<path fill=\"none\" stroke=\"black\" d=\"M2693.67,-192.88C2695.2,-184.69 2696.85,-175.79 2698.45,-167.19\"/>\n<polygon fill=\"black\" stroke=\"black\" points=\"2701.91,-167.77 2700.3,-157.3 2695.03,-166.49 2701.91,-167.77\"/>\n</g>\n<!-- 110 -->\n<g id=\"node111\" class=\"node\">\n<title>110</title>\n<path fill=\"#e58139\" stroke=\"black\" d=\"M2685,-53C2685,-53 2614,-53 2614,-53 2608,-53 2602,-47 2602,-41 2602,-41 2602,-12 2602,-12 2602,-6 2608,0 2614,0 2614,0 2685,0 2685,0 2691,0 2697,-6 2697,-12 2697,-12 2697,-41 2697,-41 2697,-47 2691,-53 2685,-53\"/>\n<text text-anchor=\"start\" x=\"2621.5\" y=\"-37.8\" font-family=\"Helvetica,sans-Serif\" font-size=\"14.00\">gini = 0.0</text>\n<text text-anchor=\"start\" x=\"2612\" y=\"-22.8\" font-family=\"Helvetica,sans-Serif\" font-size=\"14.00\">samples = 1</text>\n<text text-anchor=\"start\" x=\"2610\" y=\"-7.8\" font-family=\"Helvetica,sans-Serif\" font-size=\"14.00\">value = [1, 0]</text>\n</g>\n<!-- 109&#45;&gt;110 -->\n<g id=\"edge110\" class=\"edge\">\n<title>109&#45;&gt;110</title>\n<path fill=\"none\" stroke=\"black\" d=\"M2686.56,-88.95C2681.27,-80.17 2675.53,-70.66 2670.2,-61.82\"/>\n<polygon fill=\"black\" stroke=\"black\" points=\"2673.19,-59.99 2665.02,-53.24 2667.19,-63.61 2673.19,-59.99\"/>\n</g>\n<!-- 111 -->\n<g id=\"node112\" class=\"node\">\n<title>111</title>\n<path fill=\"#399de5\" stroke=\"black\" d=\"M2798,-53C2798,-53 2727,-53 2727,-53 2721,-53 2715,-47 2715,-41 2715,-41 2715,-12 2715,-12 2715,-6 2721,0 2727,0 2727,0 2798,0 2798,0 2804,0 2810,-6 2810,-12 2810,-12 2810,-41 2810,-41 2810,-47 2804,-53 2798,-53\"/>\n<text text-anchor=\"start\" x=\"2734.5\" y=\"-37.8\" font-family=\"Helvetica,sans-Serif\" font-size=\"14.00\">gini = 0.0</text>\n<text text-anchor=\"start\" x=\"2725\" y=\"-22.8\" font-family=\"Helvetica,sans-Serif\" font-size=\"14.00\">samples = 1</text>\n<text text-anchor=\"start\" x=\"2723\" y=\"-7.8\" font-family=\"Helvetica,sans-Serif\" font-size=\"14.00\">value = [0, 1]</text>\n</g>\n<!-- 109&#45;&gt;111 -->\n<g id=\"edge111\" class=\"edge\">\n<title>109&#45;&gt;111</title>\n<path fill=\"none\" stroke=\"black\" d=\"M2726.09,-88.95C2731.24,-80.26 2736.8,-70.86 2742,-62.09\"/>\n<polygon fill=\"black\" stroke=\"black\" points=\"2745.16,-63.62 2747.25,-53.24 2739.14,-60.06 2745.16,-63.62\"/>\n</g>\n</g>\n</svg>\n",
            "text/plain": [
              "<graphviz.sources.Source at 0x7d2af96ebf10>"
            ]
          },
          "metadata": {},
          "execution_count": 236
        }
      ]
    },
    {
      "cell_type": "code",
      "source": [
        "# to prevent overfitting, we can play with some hyperparam\n",
        "model_smaller = DecisionTreeClassifier(max_depth=5,\n",
        "                                       min_samples_leaf = 10,\n",
        "                                       min_samples_split = 10)\n",
        "model_smaller.fit(features, labels)\n",
        "print(\"score: \", model_smaller.score(features, labels))\n",
        "print(\"depth: \", model_smaller.get_depth())\n",
        "print(model_smaller.predict(features[0:5]))"
      ],
      "metadata": {
        "id": "IdrNYcV3nog9",
        "outputId": "7b88a97a-7389-4848-f8fa-ac33473836cd",
        "colab": {
          "base_uri": "https://localhost:8080/"
        }
      },
      "execution_count": 239,
      "outputs": [
        {
          "output_type": "stream",
          "name": "stdout",
          "text": [
            "score:  0.8975\n",
            "depth:  5\n",
            "[ True  True False  True False]\n"
          ]
        }
      ]
    },
    {
      "cell_type": "code",
      "source": [
        "model_smaller.predict([[320, 110, 3, 4.0, 3.5, 8.9, 0]])"
      ],
      "metadata": {
        "id": "5ANdot9tpBDA",
        "outputId": "bd9b918d-e957-4a2b-de55-a58dc67fd047",
        "colab": {
          "base_uri": "https://localhost:8080/"
        }
      },
      "execution_count": 240,
      "outputs": [
        {
          "output_type": "stream",
          "name": "stderr",
          "text": [
            "/usr/local/lib/python3.11/dist-packages/sklearn/utils/validation.py:2739: UserWarning: X does not have valid feature names, but DecisionTreeClassifier was fitted with feature names\n",
            "  warnings.warn(\n"
          ]
        },
        {
          "output_type": "execute_result",
          "data": {
            "text/plain": [
              "array([ True])"
            ]
          },
          "metadata": {},
          "execution_count": 240
        }
      ]
    },
    {
      "cell_type": "markdown",
      "source": [
        "The construction of the tree is greedy in nature - at each point it selects the top feature. This does not work well for example, if a combo of features is strong, but none of the individual features are string.\n",
        "\n",
        "## Decision Trees for regression"
      ],
      "metadata": {
        "id": "5bb2-ajIpTjU"
      }
    }
  ],
  "metadata": {
    "language_info": {
      "name": "python"
    },
    "colab": {
      "provenance": [],
      "toc_visible": true,
      "include_colab_link": true
    },
    "kernelspec": {
      "name": "python3",
      "display_name": "Python 3"
    }
  },
  "nbformat": 4,
  "nbformat_minor": 0
}