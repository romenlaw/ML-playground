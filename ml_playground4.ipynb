{
  "cells": [
    {
      "cell_type": "markdown",
      "metadata": {
        "id": "view-in-github",
        "colab_type": "text"
      },
      "source": [
        "<a href=\"https://colab.research.google.com/github/romenlaw/ML-playground/blob/main/ml_playground4.ipynb\" target=\"_parent\"><img src=\"https://colab.research.google.com/assets/colab-badge.svg\" alt=\"Open In Colab\"/></a>"
      ]
    },
    {
      "cell_type": "code",
      "source": [
        "!rm -f data/*\n",
        "!wget -nv -P data https://raw.githubusercontent.com/luisguiserrano/manning/master/Chapter_10_Neural_Networks/one_circle.csv\n",
        "!wget -nv -P data https://raw.githubusercontent.com/luisguiserrano/manning/master/Chapter_10_Neural_Networks/Hyderabad.csv\n",
        "!ls -al data\n",
        "!wc -l data/*.csv"
      ],
      "metadata": {
        "colab": {
          "base_uri": "https://localhost:8080/"
        },
        "id": "BOyRTPOJ0pZy",
        "outputId": "cebb7743-8625-44c3-9b30-658c888f620a"
      },
      "id": "BOyRTPOJ0pZy",
      "execution_count": 77,
      "outputs": [
        {
          "output_type": "stream",
          "name": "stdout",
          "text": [
            "2025-03-04 05:46:04 URL:https://raw.githubusercontent.com/luisguiserrano/manning/master/Chapter_10_Neural_Networks/one_circle.csv [4820/4820] -> \"data/one_circle.csv\" [1]\n",
            "2025-03-04 05:46:05 URL:https://raw.githubusercontent.com/luisguiserrano/manning/master/Chapter_10_Neural_Networks/Hyderabad.csv [253067/253067] -> \"data/Hyderabad.csv\" [1]\n",
            "total 264\n",
            "drwxr-xr-x 2 root root   4096 Mar  4 05:46 .\n",
            "drwxr-xr-x 1 root root   4096 Mar  4 01:44 ..\n",
            "-rw-r--r-- 1 root root 253067 Mar  4 05:46 Hyderabad.csv\n",
            "-rw-r--r-- 1 root root   4820 Mar  4 05:46 one_circle.csv\n",
            "  2518 data/Hyderabad.csv\n",
            "   111 data/one_circle.csv\n",
            "  2629 total\n"
          ]
        }
      ]
    },
    {
      "cell_type": "code",
      "execution_count": 70,
      "id": "9c9135ee",
      "metadata": {
        "id": "9c9135ee"
      },
      "outputs": [],
      "source": [
        "import numpy as np\n",
        "import pandas as pd\n",
        "import graphviz\n",
        "import matplotlib.pyplot as plt\n",
        "from tensorflow import keras\n",
        "import torch\n",
        "\n",
        "# Some functions to plot our points and draw the lines\n",
        "def plot_points(features, labels, point_size=25, ax=None):\n",
        "  X = np.array(features)\n",
        "  y = np.array(labels)\n",
        "  spam = X[np.argwhere(y==1)]\n",
        "  ham = X[np.argwhere(y==0)]\n",
        "  if ax is None:\n",
        "    p=plt\n",
        "    p.xlabel('aha')\n",
        "    p.ylabel('boo')\n",
        "  else:\n",
        "    p=ax\n",
        "    p.set_xlabel('aha')\n",
        "    p.set_ylabel('boo')\n",
        "  p.scatter([s[0][0] for s in spam],\n",
        "            [s[0][1] for s in spam],\n",
        "            s = point_size,\n",
        "            color = 'cyan',\n",
        "            edgecolor = 'k',\n",
        "            marker = '^')\n",
        "  p.scatter([s[0][0] for s in ham],\n",
        "            [s[0][1] for s in ham],\n",
        "            s = point_size,\n",
        "            color = 'red',\n",
        "            edgecolor = 'k',\n",
        "            marker = 's')\n",
        "  p.legend(['happy','sad'])\n",
        "\n",
        "def draw_line(a,b,c, starting=0, ending=3, **kwargs):\n",
        "  # Plotting the line ax + by + c = 0\n",
        "  x = np.linspace(starting, ending, 1000)\n",
        "  plt.plot(x, -c/b - a*x/b, **kwargs)\n",
        "\n",
        "f = lambda x: int(x[1]>x[0])\n",
        "def g(Z):\n",
        "  return np.array([f(i) for i in Z])\n",
        "def plot_keras_model(X, y, model):\n",
        "  X = np.array(X)\n",
        "  y = np.array(y)\n",
        "  plot_step = 0.2\n",
        "  x_min, x_max = X[:, 0].min() - 1, X[:, 0].max() + 1\n",
        "  y_min, y_max = X[:, 1].min() - 1, X[:, 1].max() + 1\n",
        "  xx, yy = np.meshgrid(np.arange(x_min, x_max, plot_step),\n",
        "                        np.arange(y_min, y_max, plot_step))\n",
        "  Z = model.predict(np.c_[xx.ravel(), yy.ravel()])\n",
        "  Z = g(Z).reshape(xx.shape)\n",
        "  plt.contour(xx, yy, Z, colors = 'k',linewidths = 1)\n",
        "  plot_points(X, y)\n",
        "  plt.contourf(xx, yy, Z, colors=['red', 'blue'], alpha=0.2, levels=range(-1,2))\n",
        "  plt.show()\n",
        "\n",
        "def plot_torch_model(X, y, model):\n",
        "  X = np.array(X)\n",
        "  y = np.array(y)\n",
        "  plot_step = 0.2\n",
        "  x_min, x_max = X[:, 0].min() - 1, X[:, 0].max() + 1\n",
        "  y_min, y_max = X[:, 1].min() - 1, X[:, 1].max() + 1\n",
        "  xx, yy = np.meshgrid(np.arange(x_min, x_max, plot_step),\n",
        "                        np.arange(y_min, y_max, plot_step))\n",
        "  Z = model(torch.tensor(np.c_[xx.ravel(), yy.ravel()], dtype=torch.float32))\n",
        "  Z = g(Z).reshape(xx.shape)\n",
        "  plt.contour(xx, yy, Z, colors = 'k',linewidths = 1)\n",
        "  plot_points(X, y)\n",
        "  plt.contourf(xx, yy, Z, colors=['red', 'blue'], alpha=0.2, levels=range(-1,2))\n",
        "  plt.show()"
      ]
    },
    {
      "cell_type": "markdown",
      "source": [
        "# Neural Network\n",
        "\n",
        "Neural network can be seen as compositions of linear classifiers that give rise to nonlinear classifiers.\n",
        "\n",
        "In low dimensions, the linear classifiers would look like lines or planes, and the nonlinear classifiers would look like complicated curves or surfaces.\n",
        "\n",
        "Boundary of a perceptron is a straight line (see ch5-6). When combined into neuro-net, the boundary of the NN becomes non-linear.\n",
        "\n",
        "*Fully connected* architecture: every node in a layer is connected to every (non bias) node in next layer; no connections happen between non-consecutive layers.\n",
        "\n",
        "See [Back Prop Ninja notes](https://colab.research.google.com/github/romenlaw/ML-playground/blob/main/ml_playground4.ipynb#scrollTo=-XSSCuvxW5jZ&line=11&uniqifier=1) for gradient caculations."
      ],
      "metadata": {
        "id": "-XSSCuvxW5jZ"
      },
      "id": "-XSSCuvxW5jZ"
    },
    {
      "cell_type": "code",
      "source": [
        "# using the alien mood example\n",
        "alien_dataset = pd.DataFrame({\n",
        "  'aack':[1,2,0,0,1,1,2,2],\n",
        "  'beep':[0,0,1,2,1,2,1,2],\n",
        "  'happy': [0,0,0,0,1,1,1,1]})\n",
        "\n",
        "X = alien_dataset[['aack', 'beep']]\n",
        "y = alien_dataset['happy']"
      ],
      "metadata": {
        "id": "r3YaPDc8Xg7M"
      },
      "id": "r3YaPDc8Xg7M",
      "execution_count": 3,
      "outputs": []
    },
    {
      "cell_type": "code",
      "source": [
        "X, y"
      ],
      "metadata": {
        "colab": {
          "base_uri": "https://localhost:8080/"
        },
        "id": "zzq7jtfMXzi1",
        "outputId": "e75661c8-55ad-4252-9e47-b649f9d2c5bd"
      },
      "id": "zzq7jtfMXzi1",
      "execution_count": 4,
      "outputs": [
        {
          "output_type": "execute_result",
          "data": {
            "text/plain": [
              "(   aack  beep\n",
              " 0     1     0\n",
              " 1     2     0\n",
              " 2     0     1\n",
              " 3     0     2\n",
              " 4     1     1\n",
              " 5     1     2\n",
              " 6     2     1\n",
              " 7     2     2,\n",
              " 0    0\n",
              " 1    0\n",
              " 2    0\n",
              " 3    0\n",
              " 4    1\n",
              " 5    1\n",
              " 6    1\n",
              " 7    1\n",
              " Name: happy, dtype: int64)"
            ]
          },
          "metadata": {},
          "execution_count": 4
        }
      ]
    },
    {
      "cell_type": "markdown",
      "source": [
        "These points cannot be separated with one straight line. But can be with 2 lines:\n",
        "* line 1: $6x_a+10x_b-15=0$\n",
        "* line 2: $10x_a+6x_b-15=0$\n",
        "\n",
        "Looking at plot below, we can see that sentence can be classified as Happy if both line1 and line2 >=0\n",
        "\n",
        "From linear examples in previous chapters, we saw that if a word's weight was positive, the word is likely happy... but here the weights are all positive. i.e. the problem here is not linear."
      ],
      "metadata": {
        "id": "1cJEqcIea1O2"
      },
      "id": "1cJEqcIea1O2"
    },
    {
      "cell_type": "code",
      "source": [
        "plot_points(X, y, point_size=100)\n",
        "draw_line(6,10,-15)\n",
        "draw_line(10,6,-15)"
      ],
      "metadata": {
        "colab": {
          "base_uri": "https://localhost:8080/",
          "height": 449
        },
        "id": "_pbxomw5X4Nt",
        "outputId": "fae159b2-5795-4ed9-805b-ed087dfb2853"
      },
      "id": "_pbxomw5X4Nt",
      "execution_count": 5,
      "outputs": [
        {
          "output_type": "display_data",
          "data": {
            "text/plain": [
              "<Figure size 640x480 with 1 Axes>"
            ],
            "image/png": "[encoded data removed]"
          },
          "metadata": {}
        }
      ]
    },
    {
      "cell_type": "code",
      "source": [
        "# the neuro-net\n",
        "g = graphviz.Digraph(format='svg', graph_attr={'rankdir': 'LR'})\n",
        "g.node('xa', 'x_a', shape='circle')\n",
        "g.node('xb', 'x_b', shape='circle')\n",
        "g.node('b1', '1', shape='circle', style='filled', fillcolor='grey')\n",
        "g.node('b2', '1', shape='circle', style='filled', fillcolor='grey')\n",
        "g.node('p1', 'P1', shape='circle', style='filled', fillcolor='black', fontcolor='white')\n",
        "g.node('p2', 'P2', shape='circle', style='filled', fillcolor='black', fontcolor='white')\n",
        "g.node('p3', 'P3', shape='circle', style='filled', fillcolor='black', fontcolor='white')\n",
        "g.node('output', 'y_hat', shape='none')\n",
        "\n",
        "g.edge('xa', 'p1', label='6')\n",
        "g.edge('xa', 'p2', label='10')\n",
        "g.edge('xb', 'p1', label='10')\n",
        "g.edge('xb', 'p2', label='6')\n",
        "g.edge('b1', 'p1', label='-15')\n",
        "g.edge('b1', 'p2', label='-15')\n",
        "\n",
        "g.edge('p1', 'p3', label='1')\n",
        "g.edge('p2', 'p3', label='1')\n",
        "g.edge('b2', 'p3', label='-1.5')\n",
        "\n",
        "g.edge('p3', 'output')\n",
        "g"
      ],
      "metadata": {
        "colab": {
          "base_uri": "https://localhost:8080/",
          "height": 291
        },
        "id": "AYTpEd3qjWPb",
        "outputId": "1855c1e9-198d-46ed-e687-122f0f50b83c"
      },
      "id": "AYTpEd3qjWPb",
      "execution_count": 6,
      "outputs": [
        {
          "output_type": "execute_result",
          "data": {
            "image/svg+xml": "<?xml version=\"1.0\" encoding=\"UTF-8\" standalone=\"no\"?>\n<!DOCTYPE svg PUBLIC \"-//W3C//DTD SVG 1.1//EN\"\n \"http://www.w3.org/Graphics/SVG/1.1/DTD/svg11.dtd\">\n<!-- Generated by graphviz version 2.43.0 (0)\n -->\n<!-- Title: %3 Pages: 1 -->\n<svg width=\"341pt\" height=\"203pt\"\n viewBox=\"0.00 0.00 340.69 202.70\" xmlns=\"http://www.w3.org/2000/svg\" xmlns:xlink=\"http://www.w3.org/1999/xlink\">\n<g id=\"graph0\" class=\"graph\" transform=\"scale(1 1) rotate(0) translate(4 198.7)\">\n<title>%3</title>\n<polygon fill=\"white\" stroke=\"transparent\" points=\"-4,4 -4,-198.7 336.69,-198.7 336.69,4 -4,4\"/>\n<!-- xa -->\n<g id=\"node1\" class=\"node\">\n<title>xa</title>\n<ellipse fill=\"none\" stroke=\"black\" cx=\"24.05\" cy=\"-98.65\" rx=\"23.3\" ry=\"23.3\"/>\n<text text-anchor=\"middle\" x=\"24.05\" y=\"-94.95\" font-family=\"Times,serif\" font-size=\"14.00\">x_a</text>\n</g>\n<!-- p1 -->\n<g id=\"node5\" class=\"node\">\n<title>p1</title>\n<ellipse fill=\"black\" stroke=\"black\" cx=\"123.24\" cy=\"-48.65\" rx=\"20.3\" ry=\"20.3\"/>\n<text text-anchor=\"middle\" x=\"123.24\" y=\"-44.95\" font-family=\"Times,serif\" font-size=\"14.00\" fill=\"white\">P1</text>\n</g>\n<!-- xa&#45;&gt;p1 -->\n<g id=\"edge1\" class=\"edge\">\n<title>xa&#45;&gt;p1</title>\n<path fill=\"none\" stroke=\"black\" d=\"M33.98,-77.15C40.7,-64.01 51.3,-48.3 66.1,-40.65 74.77,-36.16 85.14,-36.35 94.6,-38.27\"/>\n<polygon fill=\"black\" stroke=\"black\" points=\"93.82,-41.68 104.38,-40.88 95.63,-34.92 93.82,-41.68\"/>\n<text text-anchor=\"middle\" x=\"75.6\" y=\"-44.45\" font-family=\"Times,serif\" font-size=\"14.00\">6</text>\n</g>\n<!-- p2 -->\n<g id=\"node6\" class=\"node\">\n<title>p2</title>\n<ellipse fill=\"black\" stroke=\"black\" cx=\"123.24\" cy=\"-110.65\" rx=\"20.3\" ry=\"20.3\"/>\n<text text-anchor=\"middle\" x=\"123.24\" y=\"-106.95\" font-family=\"Times,serif\" font-size=\"14.00\" fill=\"white\">P2</text>\n</g>\n<!-- xa&#45;&gt;p2 -->\n<g id=\"edge2\" class=\"edge\">\n<title>xa&#45;&gt;p2</title>\n<path fill=\"none\" stroke=\"black\" d=\"M47.59,-101.43C61.13,-103.1 78.5,-105.25 93.07,-107.05\"/>\n<polygon fill=\"black\" stroke=\"black\" points=\"92.75,-110.53 103.1,-108.28 93.6,-103.59 92.75,-110.53\"/>\n<text text-anchor=\"middle\" x=\"75.6\" y=\"-109.45\" font-family=\"Times,serif\" font-size=\"14.00\">10</text>\n</g>\n<!-- xb -->\n<g id=\"node2\" class=\"node\">\n<title>xb</title>\n<ellipse fill=\"none\" stroke=\"black\" cx=\"24.05\" cy=\"-170.65\" rx=\"24.1\" ry=\"24.1\"/>\n<text text-anchor=\"middle\" x=\"24.05\" y=\"-166.95\" font-family=\"Times,serif\" font-size=\"14.00\">x_b</text>\n</g>\n<!-- xb&#45;&gt;p1 -->\n<g id=\"edge3\" class=\"edge\">\n<title>xb&#45;&gt;p1</title>\n<path fill=\"none\" stroke=\"black\" d=\"M45.36,-158.94C58.16,-150.71 74.27,-138.69 85.1,-124.65 97.75,-108.24 93.88,-100.2 103.1,-81.65 104.3,-79.23 105.6,-76.74 106.95,-74.27\"/>\n<polygon fill=\"black\" stroke=\"black\" points=\"110.01,-75.97 111.88,-65.55 103.91,-72.53 110.01,-75.97\"/>\n<text text-anchor=\"middle\" x=\"75.6\" y=\"-147.45\" font-family=\"Times,serif\" font-size=\"14.00\">10</text>\n</g>\n<!-- xb&#45;&gt;p2 -->\n<g id=\"edge4\" class=\"edge\">\n<title>xb&#45;&gt;p2</title>\n<path fill=\"none\" stroke=\"black\" d=\"M47.84,-175.31C59.69,-176.54 73.99,-176.06 85.1,-169.65 98.56,-161.87 94.81,-152.81 103.1,-139.65 103.9,-138.37 104.73,-137.07 105.57,-135.75\"/>\n<polygon fill=\"black\" stroke=\"black\" points=\"108.66,-137.42 111.18,-127.13 102.8,-133.6 108.66,-137.42\"/>\n<text text-anchor=\"middle\" x=\"75.6\" y=\"-178.45\" font-family=\"Times,serif\" font-size=\"14.00\">6</text>\n</g>\n<!-- b1 -->\n<g id=\"node3\" class=\"node\">\n<title>b1</title>\n<ellipse fill=\"grey\" stroke=\"black\" cx=\"24.05\" cy=\"-25.65\" rx=\"18\" ry=\"18\"/>\n<text text-anchor=\"middle\" x=\"24.05\" y=\"-21.95\" font-family=\"Times,serif\" font-size=\"14.00\">1</text>\n</g>\n<!-- b1&#45;&gt;p1 -->\n<g id=\"edge5\" class=\"edge\">\n<title>b1&#45;&gt;p1</title>\n<path fill=\"none\" stroke=\"black\" d=\"M38.18,-14.42C50.52,-5.32 69.38,4.86 85.1,-2.65 94.07,-6.94 101.58,-14.57 107.44,-22.41\"/>\n<polygon fill=\"black\" stroke=\"black\" points=\"104.64,-24.52 113.15,-30.84 110.44,-20.59 104.64,-24.52\"/>\n<text text-anchor=\"middle\" x=\"75.6\" y=\"-6.45\" font-family=\"Times,serif\" font-size=\"14.00\">&#45;15</text>\n</g>\n<!-- b1&#45;&gt;p2 -->\n<g id=\"edge6\" class=\"edge\">\n<title>b1&#45;&gt;p2</title>\n<path fill=\"none\" stroke=\"black\" d=\"M38.16,-37.11C53.93,-50.91 80.69,-74.31 99.78,-91\"/>\n<polygon fill=\"black\" stroke=\"black\" points=\"97.61,-93.75 107.44,-97.7 102.22,-88.48 97.61,-93.75\"/>\n<text text-anchor=\"middle\" x=\"75.6\" y=\"-79.45\" font-family=\"Times,serif\" font-size=\"14.00\">&#45;15</text>\n</g>\n<!-- b2 -->\n<g id=\"node4\" class=\"node\">\n<title>b2</title>\n<ellipse fill=\"grey\" stroke=\"black\" cx=\"123.24\" cy=\"-166.65\" rx=\"18\" ry=\"18\"/>\n<text text-anchor=\"middle\" x=\"123.24\" y=\"-162.95\" font-family=\"Times,serif\" font-size=\"14.00\">1</text>\n</g>\n<!-- p3 -->\n<g id=\"node7\" class=\"node\">\n<title>p3</title>\n<ellipse fill=\"black\" stroke=\"black\" cx=\"221.54\" cy=\"-110.65\" rx=\"20.3\" ry=\"20.3\"/>\n<text text-anchor=\"middle\" x=\"221.54\" y=\"-106.95\" font-family=\"Times,serif\" font-size=\"14.00\" fill=\"white\">P3</text>\n</g>\n<!-- b2&#45;&gt;p3 -->\n<g id=\"edge9\" class=\"edge\">\n<title>b2&#45;&gt;p3</title>\n<path fill=\"none\" stroke=\"black\" d=\"M139.29,-157.9C154.16,-149.25 177.18,-135.86 194.93,-125.54\"/>\n<polygon fill=\"black\" stroke=\"black\" points=\"196.77,-128.52 203.66,-120.47 193.25,-122.47 196.77,-128.52\"/>\n<text text-anchor=\"middle\" x=\"172.39\" y=\"-147.45\" font-family=\"Times,serif\" font-size=\"14.00\">&#45;1.5</text>\n</g>\n<!-- p1&#45;&gt;p3 -->\n<g id=\"edge7\" class=\"edge\">\n<title>p1&#45;&gt;p3</title>\n<path fill=\"none\" stroke=\"black\" d=\"M140.58,-59.17C155.66,-68.87 178.27,-83.43 195.61,-94.6\"/>\n<polygon fill=\"black\" stroke=\"black\" points=\"193.82,-97.61 204.12,-100.08 197.61,-91.72 193.82,-97.61\"/>\n<text text-anchor=\"middle\" x=\"172.39\" y=\"-88.45\" font-family=\"Times,serif\" font-size=\"14.00\">1</text>\n</g>\n<!-- p2&#45;&gt;p3 -->\n<g id=\"edge8\" class=\"edge\">\n<title>p2&#45;&gt;p3</title>\n<path fill=\"none\" stroke=\"black\" d=\"M143.73,-110.65C157.31,-110.65 175.66,-110.65 191.02,-110.65\"/>\n<polygon fill=\"black\" stroke=\"black\" points=\"191.08,-114.15 201.08,-110.65 191.08,-107.15 191.08,-114.15\"/>\n<text text-anchor=\"middle\" x=\"172.39\" y=\"-114.45\" font-family=\"Times,serif\" font-size=\"14.00\">1</text>\n</g>\n<!-- output -->\n<g id=\"node8\" class=\"node\">\n<title>output</title>\n<text text-anchor=\"middle\" x=\"305.69\" y=\"-106.95\" font-family=\"Times,serif\" font-size=\"14.00\">y_hat</text>\n</g>\n<!-- p3&#45;&gt;output -->\n<g id=\"edge10\" class=\"edge\">\n<title>p3&#45;&gt;output</title>\n<path fill=\"none\" stroke=\"black\" d=\"M242.01,-110.65C249.94,-110.65 259.37,-110.65 268.47,-110.65\"/>\n<polygon fill=\"black\" stroke=\"black\" points=\"268.52,-114.15 278.52,-110.65 268.52,-107.15 268.52,-114.15\"/>\n</g>\n</g>\n</svg>\n",
            "text/plain": [
              "<graphviz.graphs.Digraph at 0x79b66d0a4510>"
            ]
          },
          "metadata": {},
          "execution_count": 6
        }
      ]
    },
    {
      "cell_type": "code",
      "source": [
        "def step(x):\n",
        "  if x >= 0:\n",
        "    return 1\n",
        "  else:\n",
        "    return 0\n",
        "\n",
        "def line_1(a,b):\n",
        "  return step(6*a + 10*b - 15)\n",
        "\n",
        "def line_2(a,b):\n",
        "  return step(10*a + 6*b - 15)\n",
        "\n",
        "def bias(a,b):\n",
        "  return 1\n",
        "\n",
        "def nn_with_step(a,b):\n",
        "  return step(step(6*a + 10*b - 15) + step(10*a + 6*b - 15) - 1.5)\n",
        "\n",
        "def sigmoid(x):\n",
        "  return np.exp(x)/(1.0 + np.exp(x))\n",
        "\n",
        "def nn_with_sigmoid(a,b):\n",
        "  return sigmoid(1.0*sigmoid(6*a + 10*b - 15) + 1.0*sigmoid(10*a + 6*b - 15) - 1.5)\n",
        "\n",
        "def plot_function(f, ax=None):\n",
        "  plot_points(X, y, 100, ax)\n",
        "\n",
        "  def h(x,y): # height function of the contour\n",
        "    return f(x,y)>=0.5\n",
        "  xx, yy = np.meshgrid(np.arange(-0.5,3,0.005),\n",
        "                       np.arange(-0.5,3,0.005))\n",
        "  Z = np.array([h(i[0], i[1]) for i in np.c_[xx.ravel(), yy.ravel()]])\n",
        "  Z = Z.reshape(xx.shape)\n",
        "  if ax is None:\n",
        "    plt.contourf(xx, yy, Z, colors=['red', 'blue'], alpha=0.25, levels=range(-1,2))\n",
        "    plt.contour(xx, yy, Z,colors = 'k',linewidths = 3)\n",
        "  else:\n",
        "    ax.contourf(xx, yy, Z, colors=['red', 'blue'], alpha=0.25, levels=range(-1,2))\n",
        "    ax.contour(xx, yy, Z,colors = 'k',linewidths = 3)\n"
      ],
      "metadata": {
        "id": "8Y0FZhxDkhA2"
      },
      "id": "8Y0FZhxDkhA2",
      "execution_count": 7,
      "outputs": []
    },
    {
      "cell_type": "markdown",
      "source": [
        "## Boundaries of NN 1st layer\n",
        "1st layer of the neuro-net"
      ],
      "metadata": {
        "id": "c49MYrZfm70j"
      },
      "id": "c49MYrZfm70j"
    },
    {
      "cell_type": "code",
      "source": [
        "fig, (ax1, ax2, ax3) = plt.subplots(1,3, figsize=(10,3))\n",
        "plot_function(line_1, ax1)\n",
        "plot_function(line_2, ax2)\n",
        "plot_function(bias, ax3)"
      ],
      "metadata": {
        "colab": {
          "base_uri": "https://localhost:8080/",
          "height": 248
        },
        "id": "bYLF3YdRmuqr",
        "outputId": "58e0090d-9d37-46f1-e8d1-e074e848b478"
      },
      "id": "bYLF3YdRmuqr",
      "execution_count": 8,
      "outputs": [
        {
          "output_type": "display_data",
          "data": {
            "text/plain": [
              "<Figure size 1000x300 with 3 Axes>"
            ],
            "image/png": "[encoded data removed]"
          },
          "metadata": {}
        }
      ]
    },
    {
      "cell_type": "markdown",
      "source": [
        "## Boundaries of NN 2nd layer"
      ],
      "metadata": {
        "id": "EYU_5DWMqlqf"
      },
      "id": "EYU_5DWMqlqf"
    },
    {
      "cell_type": "code",
      "source": [
        "fig, (ax1, ax2) = plt.subplots(1,2, figsize=(10,3))\n",
        "plot_function(nn_with_step, ax1)\n",
        "plot_function(nn_with_sigmoid, ax2)"
      ],
      "metadata": {
        "colab": {
          "base_uri": "https://localhost:8080/",
          "height": 248
        },
        "id": "dipbRNQTqtTm",
        "outputId": "4f92da93-cb6d-4247-83bd-2812062ebec7"
      },
      "id": "dipbRNQTqtTm",
      "execution_count": 9,
      "outputs": [
        {
          "output_type": "display_data",
          "data": {
            "text/plain": [
              "<Figure size 1000x300 with 2 Axes>"
            ],
            "image/png": "[encoded data removed]"
          },
          "metadata": {}
        }
      ]
    },
    {
      "cell_type": "markdown",
      "source": [
        "# One-Circle Example"
      ],
      "metadata": {
        "id": "-CaiZRuV08pF"
      },
      "id": "-CaiZRuV08pF"
    },
    {
      "cell_type": "code",
      "source": [
        "df = pd.read_csv('data/one_circle.csv', index_col=0)\n",
        "X = np.array(df[['x_1', 'x_2']])\n",
        "y = np.array(df['y']).astype(int)\n",
        "plot_points(X,y)"
      ],
      "metadata": {
        "colab": {
          "base_uri": "https://localhost:8080/",
          "height": 449
        },
        "id": "Oue2zWHc1Arq",
        "outputId": "f31f0e73-40e5-4f94-c855-a05c05bd12a2"
      },
      "id": "Oue2zWHc1Arq",
      "execution_count": 19,
      "outputs": [
        {
          "output_type": "display_data",
          "data": {
            "text/plain": [
              "<Figure size 640x480 with 1 Axes>"
            ],
            "image/png": "[encoded data removed]"
          },
          "metadata": {}
        }
      ]
    },
    {
      "cell_type": "code",
      "source": [
        "X.shape, y.shape"
      ],
      "metadata": {
        "id": "d6yKy6cZlL4L",
        "outputId": "cf60ae53-d07b-492b-8954-211a24fdea2b",
        "colab": {
          "base_uri": "https://localhost:8080/"
        }
      },
      "id": "d6yKy6cZlL4L",
      "execution_count": 72,
      "outputs": [
        {
          "output_type": "execute_result",
          "data": {
            "text/plain": [
              "((110, 2), (110,))"
            ]
          },
          "metadata": {},
          "execution_count": 72
        }
      ]
    },
    {
      "cell_type": "markdown",
      "source": [
        "## Tensorflow\n",
        "Implement the example using Tensorflow"
      ],
      "metadata": {
        "id": "Qz1WtxSr_grE"
      },
      "id": "Qz1WtxSr_grE"
    },
    {
      "cell_type": "code",
      "source": [
        "from tensorflow import keras\n",
        "from tensorflow.keras.models import Sequential\n",
        "from tensorflow.keras.layers import Dense, Dropout, Activation\n",
        "from tensorflow.keras.utils import to_categorical\n",
        "\n",
        "# turn y (0 or 1) into one-hot, i.e. [0,1] and [1,0]\n",
        "categorised_y = np.array(to_categorical(y, 2))\n",
        "\n",
        "# dimensions of the nero-net\n",
        "# input: (2,), hidden layer 1 (128,), hidden 2 (64,), output (2,)\n",
        "# activation fn: hidden layers: ReLU, output layer: Softmax\n",
        "# dropout in hidden layers, ratio 0.2\n",
        "model = Sequential()\n",
        "model.add(Dense(128, activation='relu', input_shape=(2,)))\n",
        "model.add(Dropout(.2))\n",
        "model.add(Dense(64, activation='relu'))\n",
        "model.add(Dropout(.2))\n",
        "model.add(Dense(2, activation='softmax'))\n",
        "model.compile(loss='categorical_crossentropy', # multi-value version of log loss\n",
        "              optimizer='adam',\n",
        "              metrics=['accuracy'])\n",
        "\n",
        "# train the model\n",
        "model.fit(X, categorised_y, epochs=100, batch_size=10)"
      ],
      "metadata": {
        "colab": {
          "base_uri": "https://localhost:8080/"
        },
        "id": "eVf-eczl_l5U",
        "outputId": "99c56c68-0eea-4f2c-ffac-b38b47974716"
      },
      "id": "eVf-eczl_l5U",
      "execution_count": 61,
      "outputs": [
        {
          "output_type": "stream",
          "name": "stdout",
          "text": [
            "Epoch 1/100\n"
          ]
        },
        {
          "output_type": "stream",
          "name": "stderr",
          "text": [
            "/usr/local/lib/python3.11/dist-packages/keras/src/layers/core/dense.py:87: UserWarning: Do not pass an `input_shape`/`input_dim` argument to a layer. When using Sequential models, prefer using an `Input(shape)` object as the first layer in the model instead.\n",
            "  super().__init__(activity_regularizer=activity_regularizer, **kwargs)\n"
          ]
        },
        {
          "output_type": "stream",
          "name": "stdout",
          "text": [
            "\u001b[1m11/11\u001b[0m \u001b[32m━━━━━━━━━━━━━━━━━━━━\u001b[0m\u001b[37m\u001b[0m \u001b[1m2s\u001b[0m 7ms/step - accuracy: 0.5239 - loss: 0.6914\n",
            "Epoch 2/100\n",
            "\u001b[1m11/11\u001b[0m \u001b[32m━━━━━━━━━━━━━━━━━━━━\u001b[0m\u001b[37m\u001b[0m \u001b[1m0s\u001b[0m 7ms/step - accuracy: 0.7210 - loss: 0.5329 \n",
            "Epoch 3/100\n",
            "\u001b[1m11/11\u001b[0m \u001b[32m━━━━━━━━━━━━━━━━━━━━\u001b[0m\u001b[37m\u001b[0m \u001b[1m0s\u001b[0m 7ms/step - accuracy: 0.7664 - loss: 0.4591 \n",
            "Epoch 4/100\n",
            "\u001b[1m11/11\u001b[0m \u001b[32m━━━━━━━━━━━━━━━━━━━━\u001b[0m\u001b[37m\u001b[0m \u001b[1m0s\u001b[0m 8ms/step - accuracy: 0.8218 - loss: 0.3740 \n",
            "Epoch 5/100\n",
            "\u001b[1m11/11\u001b[0m \u001b[32m━━━━━━━━━━━━━━━━━━━━\u001b[0m\u001b[37m\u001b[0m \u001b[1m0s\u001b[0m 7ms/step - accuracy: 0.7566 - loss: 0.4679 \n",
            "Epoch 6/100\n",
            "\u001b[1m11/11\u001b[0m \u001b[32m━━━━━━━━━━━━━━━━━━━━\u001b[0m\u001b[37m\u001b[0m \u001b[1m0s\u001b[0m 7ms/step - accuracy: 0.7830 - loss: 0.3891 \n",
            "Epoch 7/100\n",
            "\u001b[1m11/11\u001b[0m \u001b[32m━━━━━━━━━━━━━━━━━━━━\u001b[0m\u001b[37m\u001b[0m \u001b[1m0s\u001b[0m 8ms/step - accuracy: 0.8051 - loss: 0.3876 \n",
            "Epoch 8/100\n",
            "\u001b[1m11/11\u001b[0m \u001b[32m━━━━━━━━━━━━━━━━━━━━\u001b[0m\u001b[37m\u001b[0m \u001b[1m0s\u001b[0m 7ms/step - accuracy: 0.7748 - loss: 0.4382 \n",
            "Epoch 9/100\n",
            "\u001b[1m11/11\u001b[0m \u001b[32m━━━━━━━━━━━━━━━━━━━━\u001b[0m\u001b[37m\u001b[0m \u001b[1m0s\u001b[0m 8ms/step - accuracy: 0.7410 - loss: 0.4465 \n",
            "Epoch 10/100\n",
            "\u001b[1m11/11\u001b[0m \u001b[32m━━━━━━━━━━━━━━━━━━━━\u001b[0m\u001b[37m\u001b[0m \u001b[1m0s\u001b[0m 8ms/step - accuracy: 0.8032 - loss: 0.3884 \n",
            "Epoch 11/100\n",
            "\u001b[1m11/11\u001b[0m \u001b[32m━━━━━━━━━━━━━━━━━━━━\u001b[0m\u001b[37m\u001b[0m \u001b[1m0s\u001b[0m 11ms/step - accuracy: 0.7725 - loss: 0.4467\n",
            "Epoch 12/100\n",
            "\u001b[1m11/11\u001b[0m \u001b[32m━━━━━━━━━━━━━━━━━━━━\u001b[0m\u001b[37m\u001b[0m \u001b[1m0s\u001b[0m 5ms/step - accuracy: 0.7543 - loss: 0.4505  \n",
            "Epoch 13/100\n",
            "\u001b[1m11/11\u001b[0m \u001b[32m━━━━━━━━━━━━━━━━━━━━\u001b[0m\u001b[37m\u001b[0m \u001b[1m0s\u001b[0m 4ms/step - accuracy: 0.7605 - loss: 0.4014 \n",
            "Epoch 14/100\n",
            "\u001b[1m11/11\u001b[0m \u001b[32m━━━━━━━━━━━━━━━━━━━━\u001b[0m\u001b[37m\u001b[0m \u001b[1m0s\u001b[0m 5ms/step - accuracy: 0.7597 - loss: 0.4044  \n",
            "Epoch 15/100\n",
            "\u001b[1m11/11\u001b[0m \u001b[32m━━━━━━━━━━━━━━━━━━━━\u001b[0m\u001b[37m\u001b[0m \u001b[1m0s\u001b[0m 5ms/step - accuracy: 0.8119 - loss: 0.3623 \n",
            "Epoch 16/100\n",
            "\u001b[1m11/11\u001b[0m \u001b[32m━━━━━━━━━━━━━━━━━━━━\u001b[0m\u001b[37m\u001b[0m \u001b[1m0s\u001b[0m 5ms/step - accuracy: 0.7759 - loss: 0.4148 \n",
            "Epoch 17/100\n",
            "\u001b[1m11/11\u001b[0m \u001b[32m━━━━━━━━━━━━━━━━━━━━\u001b[0m\u001b[37m\u001b[0m \u001b[1m0s\u001b[0m 5ms/step - accuracy: 0.7926 - loss: 0.3532 \n",
            "Epoch 18/100\n",
            "\u001b[1m11/11\u001b[0m \u001b[32m━━━━━━━━━━━━━━━━━━━━\u001b[0m\u001b[37m\u001b[0m \u001b[1m0s\u001b[0m 8ms/step - accuracy: 0.7847 - loss: 0.4049 \n",
            "Epoch 19/100\n",
            "\u001b[1m11/11\u001b[0m \u001b[32m━━━━━━━━━━━━━━━━━━━━\u001b[0m\u001b[37m\u001b[0m \u001b[1m0s\u001b[0m 5ms/step - accuracy: 0.7265 - loss: 0.4484 \n",
            "Epoch 20/100\n",
            "\u001b[1m11/11\u001b[0m \u001b[32m━━━━━━━━━━━━━━━━━━━━\u001b[0m\u001b[37m\u001b[0m \u001b[1m0s\u001b[0m 5ms/step - accuracy: 0.7341 - loss: 0.4180 \n",
            "Epoch 21/100\n",
            "\u001b[1m11/11\u001b[0m \u001b[32m━━━━━━━━━━━━━━━━━━━━\u001b[0m\u001b[37m\u001b[0m \u001b[1m0s\u001b[0m 5ms/step - accuracy: 0.7619 - loss: 0.3840 \n",
            "Epoch 22/100\n",
            "\u001b[1m11/11\u001b[0m \u001b[32m━━━━━━━━━━━━━━━━━━━━\u001b[0m\u001b[37m\u001b[0m \u001b[1m0s\u001b[0m 5ms/step - accuracy: 0.7474 - loss: 0.4243 \n",
            "Epoch 23/100\n",
            "\u001b[1m11/11\u001b[0m \u001b[32m━━━━━━━━━━━━━━━━━━━━\u001b[0m\u001b[37m\u001b[0m \u001b[1m0s\u001b[0m 5ms/step - accuracy: 0.7890 - loss: 0.3845 \n",
            "Epoch 24/100\n",
            "\u001b[1m11/11\u001b[0m \u001b[32m━━━━━━━━━━━━━━━━━━━━\u001b[0m\u001b[37m\u001b[0m \u001b[1m0s\u001b[0m 4ms/step - accuracy: 0.8044 - loss: 0.3573 \n",
            "Epoch 25/100\n",
            "\u001b[1m11/11\u001b[0m \u001b[32m━━━━━━━━━━━━━━━━━━━━\u001b[0m\u001b[37m\u001b[0m \u001b[1m0s\u001b[0m 4ms/step - accuracy: 0.8420 - loss: 0.3888 \n",
            "Epoch 26/100\n",
            "\u001b[1m11/11\u001b[0m \u001b[32m━━━━━━━━━━━━━━━━━━━━\u001b[0m\u001b[37m\u001b[0m \u001b[1m0s\u001b[0m 4ms/step - accuracy: 0.7869 - loss: 0.3766 \n",
            "Epoch 27/100\n",
            "\u001b[1m11/11\u001b[0m \u001b[32m━━━━━━━━━━━━━━━━━━━━\u001b[0m\u001b[37m\u001b[0m \u001b[1m0s\u001b[0m 4ms/step - accuracy: 0.7402 - loss: 0.4206 \n",
            "Epoch 28/100\n",
            "\u001b[1m11/11\u001b[0m \u001b[32m━━━━━━━━━━━━━━━━━━━━\u001b[0m\u001b[37m\u001b[0m \u001b[1m0s\u001b[0m 5ms/step - accuracy: 0.8093 - loss: 0.3414  \n",
            "Epoch 29/100\n",
            "\u001b[1m11/11\u001b[0m \u001b[32m━━━━━━━━━━━━━━━━━━━━\u001b[0m\u001b[37m\u001b[0m \u001b[1m0s\u001b[0m 4ms/step - accuracy: 0.8183 - loss: 0.3581 \n",
            "Epoch 30/100\n",
            "\u001b[1m11/11\u001b[0m \u001b[32m━━━━━━━━━━━━━━━━━━━━\u001b[0m\u001b[37m\u001b[0m \u001b[1m0s\u001b[0m 4ms/step - accuracy: 0.8288 - loss: 0.3124 \n",
            "Epoch 31/100\n",
            "\u001b[1m11/11\u001b[0m \u001b[32m━━━━━━━━━━━━━━━━━━━━\u001b[0m\u001b[37m\u001b[0m \u001b[1m0s\u001b[0m 4ms/step - accuracy: 0.8302 - loss: 0.3387 \n",
            "Epoch 32/100\n",
            "\u001b[1m11/11\u001b[0m \u001b[32m━━━━━━━━━━━━━━━━━━━━\u001b[0m\u001b[37m\u001b[0m \u001b[1m0s\u001b[0m 5ms/step - accuracy: 0.8824 - loss: 0.2755 \n",
            "Epoch 33/100\n",
            "\u001b[1m11/11\u001b[0m \u001b[32m━━━━━━━━━━━━━━━━━━━━\u001b[0m\u001b[37m\u001b[0m \u001b[1m0s\u001b[0m 5ms/step - accuracy: 0.8562 - loss: 0.3410 \n",
            "Epoch 34/100\n",
            "\u001b[1m11/11\u001b[0m \u001b[32m━━━━━━━━━━━━━━━━━━━━\u001b[0m\u001b[37m\u001b[0m \u001b[1m0s\u001b[0m 5ms/step - accuracy: 0.8992 - loss: 0.2964 \n",
            "Epoch 35/100\n",
            "\u001b[1m11/11\u001b[0m \u001b[32m━━━━━━━━━━━━━━━━━━━━\u001b[0m\u001b[37m\u001b[0m \u001b[1m0s\u001b[0m 5ms/step - accuracy: 0.8461 - loss: 0.3582 \n",
            "Epoch 36/100\n",
            "\u001b[1m11/11\u001b[0m \u001b[32m━━━━━━━━━━━━━━━━━━━━\u001b[0m\u001b[37m\u001b[0m \u001b[1m0s\u001b[0m 5ms/step - accuracy: 0.9367 - loss: 0.2732 \n",
            "Epoch 37/100\n",
            "\u001b[1m11/11\u001b[0m \u001b[32m━━━━━━━━━━━━━━━━━━━━\u001b[0m\u001b[37m\u001b[0m \u001b[1m0s\u001b[0m 5ms/step - accuracy: 0.8494 - loss: 0.3521 \n",
            "Epoch 38/100\n",
            "\u001b[1m11/11\u001b[0m \u001b[32m━━━━━━━━━━━━━━━━━━━━\u001b[0m\u001b[37m\u001b[0m \u001b[1m0s\u001b[0m 5ms/step - accuracy: 0.9201 - loss: 0.3222 \n",
            "Epoch 39/100\n",
            "\u001b[1m11/11\u001b[0m \u001b[32m━━━━━━━━━━━━━━━━━━━━\u001b[0m\u001b[37m\u001b[0m \u001b[1m0s\u001b[0m 5ms/step - accuracy: 0.9314 - loss: 0.2450 \n",
            "Epoch 40/100\n",
            "\u001b[1m11/11\u001b[0m \u001b[32m━━━━━━━━━━━━━━━━━━━━\u001b[0m\u001b[37m\u001b[0m \u001b[1m0s\u001b[0m 5ms/step - accuracy: 0.8904 - loss: 0.2699 \n",
            "Epoch 41/100\n",
            "\u001b[1m11/11\u001b[0m \u001b[32m━━━━━━━━━━━━━━━━━━━━\u001b[0m\u001b[37m\u001b[0m \u001b[1m0s\u001b[0m 4ms/step - accuracy: 0.9233 - loss: 0.2572 \n",
            "Epoch 42/100\n",
            "\u001b[1m11/11\u001b[0m \u001b[32m━━━━━━━━━━━━━━━━━━━━\u001b[0m\u001b[37m\u001b[0m \u001b[1m0s\u001b[0m 6ms/step - accuracy: 0.9107 - loss: 0.3280 \n",
            "Epoch 43/100\n",
            "\u001b[1m11/11\u001b[0m \u001b[32m━━━━━━━━━━━━━━━━━━━━\u001b[0m\u001b[37m\u001b[0m \u001b[1m0s\u001b[0m 4ms/step - accuracy: 0.9285 - loss: 0.2465 \n",
            "Epoch 44/100\n",
            "\u001b[1m11/11\u001b[0m \u001b[32m━━━━━━━━━━━━━━━━━━━━\u001b[0m\u001b[37m\u001b[0m \u001b[1m0s\u001b[0m 5ms/step - accuracy: 0.9336 - loss: 0.2540 \n",
            "Epoch 45/100\n",
            "\u001b[1m11/11\u001b[0m \u001b[32m━━━━━━━━━━━━━━━━━━━━\u001b[0m\u001b[37m\u001b[0m \u001b[1m0s\u001b[0m 5ms/step - accuracy: 0.9164 - loss: 0.2268 \n",
            "Epoch 46/100\n",
            "\u001b[1m11/11\u001b[0m \u001b[32m━━━━━━━━━━━━━━━━━━━━\u001b[0m\u001b[37m\u001b[0m \u001b[1m0s\u001b[0m 5ms/step - accuracy: 0.9307 - loss: 0.2579 \n",
            "Epoch 47/100\n",
            "\u001b[1m11/11\u001b[0m \u001b[32m━━━━━━━━━━━━━━━━━━━━\u001b[0m\u001b[37m\u001b[0m \u001b[1m0s\u001b[0m 5ms/step - accuracy: 0.8857 - loss: 0.3279 \n",
            "Epoch 48/100\n",
            "\u001b[1m11/11\u001b[0m \u001b[32m━━━━━━━━━━━━━━━━━━━━\u001b[0m\u001b[37m\u001b[0m \u001b[1m0s\u001b[0m 6ms/step - accuracy: 0.9255 - loss: 0.2804 \n",
            "Epoch 49/100\n",
            "\u001b[1m11/11\u001b[0m \u001b[32m━━━━━━━━━━━━━━━━━━━━\u001b[0m\u001b[37m\u001b[0m \u001b[1m0s\u001b[0m 5ms/step - accuracy: 0.8733 - loss: 0.3190 \n",
            "Epoch 50/100\n",
            "\u001b[1m11/11\u001b[0m \u001b[32m━━━━━━━━━━━━━━━━━━━━\u001b[0m\u001b[37m\u001b[0m \u001b[1m0s\u001b[0m 5ms/step - accuracy: 0.9123 - loss: 0.2541 \n",
            "Epoch 51/100\n",
            "\u001b[1m11/11\u001b[0m \u001b[32m━━━━━━━━━━━━━━━━━━━━\u001b[0m\u001b[37m\u001b[0m \u001b[1m0s\u001b[0m 6ms/step - accuracy: 0.8922 - loss: 0.2437 \n",
            "Epoch 52/100\n",
            "\u001b[1m11/11\u001b[0m \u001b[32m━━━━━━━━━━━━━━━━━━━━\u001b[0m\u001b[37m\u001b[0m \u001b[1m0s\u001b[0m 4ms/step - accuracy: 0.9266 - loss: 0.2661 \n",
            "Epoch 53/100\n",
            "\u001b[1m11/11\u001b[0m \u001b[32m━━━━━━━━━━━━━━━━━━━━\u001b[0m\u001b[37m\u001b[0m \u001b[1m0s\u001b[0m 5ms/step - accuracy: 0.8704 - loss: 0.3224 \n",
            "Epoch 54/100\n",
            "\u001b[1m11/11\u001b[0m \u001b[32m━━━━━━━━━━━━━━━━━━━━\u001b[0m\u001b[37m\u001b[0m \u001b[1m0s\u001b[0m 5ms/step - accuracy: 0.8983 - loss: 0.3100 \n",
            "Epoch 55/100\n",
            "\u001b[1m11/11\u001b[0m \u001b[32m━━━━━━━━━━━━━━━━━━━━\u001b[0m\u001b[37m\u001b[0m \u001b[1m0s\u001b[0m 5ms/step - accuracy: 0.8623 - loss: 0.2765 \n",
            "Epoch 56/100\n",
            "\u001b[1m11/11\u001b[0m \u001b[32m━━━━━━━━━━━━━━━━━━━━\u001b[0m\u001b[37m\u001b[0m \u001b[1m0s\u001b[0m 5ms/step - accuracy: 0.8860 - loss: 0.2584 \n",
            "Epoch 57/100\n",
            "\u001b[1m11/11\u001b[0m \u001b[32m━━━━━━━━━━━━━━━━━━━━\u001b[0m\u001b[37m\u001b[0m \u001b[1m0s\u001b[0m 5ms/step - accuracy: 0.8857 - loss: 0.2574 \n",
            "Epoch 58/100\n",
            "\u001b[1m11/11\u001b[0m \u001b[32m━━━━━━━━━━━━━━━━━━━━\u001b[0m\u001b[37m\u001b[0m \u001b[1m0s\u001b[0m 6ms/step - accuracy: 0.9018 - loss: 0.2469 \n",
            "Epoch 59/100\n",
            "\u001b[1m11/11\u001b[0m \u001b[32m━━━━━━━━━━━━━━━━━━━━\u001b[0m\u001b[37m\u001b[0m \u001b[1m0s\u001b[0m 4ms/step - accuracy: 0.9313 - loss: 0.2340 \n",
            "Epoch 60/100\n",
            "\u001b[1m11/11\u001b[0m \u001b[32m━━━━━━━━━━━━━━━━━━━━\u001b[0m\u001b[37m\u001b[0m \u001b[1m0s\u001b[0m 4ms/step - accuracy: 0.8883 - loss: 0.2232 \n",
            "Epoch 61/100\n",
            "\u001b[1m11/11\u001b[0m \u001b[32m━━━━━━━━━━━━━━━━━━━━\u001b[0m\u001b[37m\u001b[0m \u001b[1m0s\u001b[0m 6ms/step - accuracy: 0.9329 - loss: 0.2177 \n",
            "Epoch 62/100\n",
            "\u001b[1m11/11\u001b[0m \u001b[32m━━━━━━━━━━━━━━━━━━━━\u001b[0m\u001b[37m\u001b[0m \u001b[1m0s\u001b[0m 5ms/step - accuracy: 0.8910 - loss: 0.2337 \n",
            "Epoch 63/100\n",
            "\u001b[1m11/11\u001b[0m \u001b[32m━━━━━━━━━━━━━━━━━━━━\u001b[0m\u001b[37m\u001b[0m \u001b[1m0s\u001b[0m 5ms/step - accuracy: 0.9281 - loss: 0.2513 \n",
            "Epoch 64/100\n",
            "\u001b[1m11/11\u001b[0m \u001b[32m━━━━━━━━━━━━━━━━━━━━\u001b[0m\u001b[37m\u001b[0m \u001b[1m0s\u001b[0m 5ms/step - accuracy: 0.9377 - loss: 0.2259 \n",
            "Epoch 65/100\n",
            "\u001b[1m11/11\u001b[0m \u001b[32m━━━━━━━━━━━━━━━━━━━━\u001b[0m\u001b[37m\u001b[0m \u001b[1m0s\u001b[0m 4ms/step - accuracy: 0.9394 - loss: 0.2172 \n",
            "Epoch 66/100\n",
            "\u001b[1m11/11\u001b[0m \u001b[32m━━━━━━━━━━━━━━━━━━━━\u001b[0m\u001b[37m\u001b[0m \u001b[1m0s\u001b[0m 5ms/step - accuracy: 0.8800 - loss: 0.2731 \n",
            "Epoch 67/100\n",
            "\u001b[1m11/11\u001b[0m \u001b[32m━━━━━━━━━━━━━━━━━━━━\u001b[0m\u001b[37m\u001b[0m \u001b[1m0s\u001b[0m 5ms/step - accuracy: 0.9004 - loss: 0.2394 \n",
            "Epoch 68/100\n",
            "\u001b[1m11/11\u001b[0m \u001b[32m━━━━━━━━━━━━━━━━━━━━\u001b[0m\u001b[37m\u001b[0m \u001b[1m0s\u001b[0m 5ms/step - accuracy: 0.9221 - loss: 0.2696 \n",
            "Epoch 69/100\n",
            "\u001b[1m11/11\u001b[0m \u001b[32m━━━━━━━━━━━━━━━━━━━━\u001b[0m\u001b[37m\u001b[0m \u001b[1m0s\u001b[0m 6ms/step - accuracy: 0.9224 - loss: 0.2394 \n",
            "Epoch 70/100\n",
            "\u001b[1m11/11\u001b[0m \u001b[32m━━━━━━━━━━━━━━━━━━━━\u001b[0m\u001b[37m\u001b[0m \u001b[1m0s\u001b[0m 4ms/step - accuracy: 0.9286 - loss: 0.2720 \n",
            "Epoch 71/100\n",
            "\u001b[1m11/11\u001b[0m \u001b[32m━━━━━━━━━━━━━━━━━━━━\u001b[0m\u001b[37m\u001b[0m \u001b[1m0s\u001b[0m 5ms/step - accuracy: 0.9007 - loss: 0.2207 \n",
            "Epoch 72/100\n",
            "\u001b[1m11/11\u001b[0m \u001b[32m━━━━━━━━━━━━━━━━━━━━\u001b[0m\u001b[37m\u001b[0m \u001b[1m0s\u001b[0m 6ms/step - accuracy: 0.9086 - loss: 0.2503 \n",
            "Epoch 73/100\n",
            "\u001b[1m11/11\u001b[0m \u001b[32m━━━━━━━━━━━━━━━━━━━━\u001b[0m\u001b[37m\u001b[0m \u001b[1m0s\u001b[0m 5ms/step - accuracy: 0.9431 - loss: 0.2097 \n",
            "Epoch 74/100\n",
            "\u001b[1m11/11\u001b[0m \u001b[32m━━━━━━━━━━━━━━━━━━━━\u001b[0m\u001b[37m\u001b[0m \u001b[1m0s\u001b[0m 4ms/step - accuracy: 0.8654 - loss: 0.2910 \n",
            "Epoch 75/100\n",
            "\u001b[1m11/11\u001b[0m \u001b[32m━━━━━━━━━━━━━━━━━━━━\u001b[0m\u001b[37m\u001b[0m \u001b[1m0s\u001b[0m 4ms/step - accuracy: 0.9141 - loss: 0.2493 \n",
            "Epoch 76/100\n",
            "\u001b[1m11/11\u001b[0m \u001b[32m━━━━━━━━━━━━━━━━━━━━\u001b[0m\u001b[37m\u001b[0m \u001b[1m0s\u001b[0m 5ms/step - accuracy: 0.9334 - loss: 0.2105 \n",
            "Epoch 77/100\n",
            "\u001b[1m11/11\u001b[0m \u001b[32m━━━━━━━━━━━━━━━━━━━━\u001b[0m\u001b[37m\u001b[0m \u001b[1m0s\u001b[0m 5ms/step - accuracy: 0.9487 - loss: 0.1799 \n",
            "Epoch 78/100\n",
            "\u001b[1m11/11\u001b[0m \u001b[32m━━━━━━━━━━━━━━━━━━━━\u001b[0m\u001b[37m\u001b[0m \u001b[1m0s\u001b[0m 5ms/step - accuracy: 0.8951 - loss: 0.2426 \n",
            "Epoch 79/100\n",
            "\u001b[1m11/11\u001b[0m \u001b[32m━━━━━━━━━━━━━━━━━━━━\u001b[0m\u001b[37m\u001b[0m \u001b[1m0s\u001b[0m 4ms/step - accuracy: 0.8945 - loss: 0.2389 \n",
            "Epoch 80/100\n",
            "\u001b[1m11/11\u001b[0m \u001b[32m━━━━━━━━━━━━━━━━━━━━\u001b[0m\u001b[37m\u001b[0m \u001b[1m0s\u001b[0m 6ms/step - accuracy: 0.8809 - loss: 0.2211 \n",
            "Epoch 81/100\n",
            "\u001b[1m11/11\u001b[0m \u001b[32m━━━━━━━━━━━━━━━━━━━━\u001b[0m\u001b[37m\u001b[0m \u001b[1m0s\u001b[0m 5ms/step - accuracy: 0.9408 - loss: 0.1647 \n",
            "Epoch 82/100\n",
            "\u001b[1m11/11\u001b[0m \u001b[32m━━━━━━━━━━━━━━━━━━━━\u001b[0m\u001b[37m\u001b[0m \u001b[1m0s\u001b[0m 6ms/step - accuracy: 0.9486 - loss: 0.1813 \n",
            "Epoch 83/100\n",
            "\u001b[1m11/11\u001b[0m \u001b[32m━━━━━━━━━━━━━━━━━━━━\u001b[0m\u001b[37m\u001b[0m \u001b[1m0s\u001b[0m 4ms/step - accuracy: 0.8981 - loss: 0.2552 \n",
            "Epoch 84/100\n",
            "\u001b[1m11/11\u001b[0m \u001b[32m━━━━━━━━━━━━━━━━━━━━\u001b[0m\u001b[37m\u001b[0m \u001b[1m0s\u001b[0m 4ms/step - accuracy: 0.8957 - loss: 0.3180 \n",
            "Epoch 85/100\n",
            "\u001b[1m11/11\u001b[0m \u001b[32m━━━━━━━━━━━━━━━━━━━━\u001b[0m\u001b[37m\u001b[0m \u001b[1m0s\u001b[0m 4ms/step - accuracy: 0.8639 - loss: 0.2736 \n",
            "Epoch 86/100\n",
            "\u001b[1m11/11\u001b[0m \u001b[32m━━━━━━━━━━━━━━━━━━━━\u001b[0m\u001b[37m\u001b[0m \u001b[1m0s\u001b[0m 4ms/step - accuracy: 0.9034 - loss: 0.2464 \n",
            "Epoch 87/100\n",
            "\u001b[1m11/11\u001b[0m \u001b[32m━━━━━━━━━━━━━━━━━━━━\u001b[0m\u001b[37m\u001b[0m \u001b[1m0s\u001b[0m 4ms/step - accuracy: 0.9542 - loss: 0.2032 \n",
            "Epoch 88/100\n",
            "\u001b[1m11/11\u001b[0m \u001b[32m━━━━━━━━━━━━━━━━━━━━\u001b[0m\u001b[37m\u001b[0m \u001b[1m0s\u001b[0m 5ms/step - accuracy: 0.8367 - loss: 0.3189 \n",
            "Epoch 89/100\n",
            "\u001b[1m11/11\u001b[0m \u001b[32m━━━━━━━━━━━━━━━━━━━━\u001b[0m\u001b[37m\u001b[0m \u001b[1m0s\u001b[0m 4ms/step - accuracy: 0.8076 - loss: 0.2898 \n",
            "Epoch 90/100\n",
            "\u001b[1m11/11\u001b[0m \u001b[32m━━━━━━━━━━━━━━━━━━━━\u001b[0m\u001b[37m\u001b[0m \u001b[1m0s\u001b[0m 4ms/step - accuracy: 0.9478 - loss: 0.2063 \n",
            "Epoch 91/100\n",
            "\u001b[1m11/11\u001b[0m \u001b[32m━━━━━━━━━━━━━━━━━━━━\u001b[0m\u001b[37m\u001b[0m \u001b[1m0s\u001b[0m 6ms/step - accuracy: 0.9490 - loss: 0.1694 \n",
            "Epoch 92/100\n",
            "\u001b[1m11/11\u001b[0m \u001b[32m━━━━━━━━━━━━━━━━━━━━\u001b[0m\u001b[37m\u001b[0m \u001b[1m0s\u001b[0m 4ms/step - accuracy: 0.9263 - loss: 0.1826 \n",
            "Epoch 93/100\n",
            "\u001b[1m11/11\u001b[0m \u001b[32m━━━━━━━━━━━━━━━━━━━━\u001b[0m\u001b[37m\u001b[0m \u001b[1m0s\u001b[0m 5ms/step - accuracy: 0.9447 - loss: 0.1974 \n",
            "Epoch 94/100\n",
            "\u001b[1m11/11\u001b[0m \u001b[32m━━━━━━━━━━━━━━━━━━━━\u001b[0m\u001b[37m\u001b[0m \u001b[1m0s\u001b[0m 4ms/step - accuracy: 0.9032 - loss: 0.2000 \n",
            "Epoch 95/100\n",
            "\u001b[1m11/11\u001b[0m \u001b[32m━━━━━━━━━━━━━━━━━━━━\u001b[0m\u001b[37m\u001b[0m \u001b[1m0s\u001b[0m 5ms/step - accuracy: 0.9157 - loss: 0.2080 \n",
            "Epoch 96/100\n",
            "\u001b[1m11/11\u001b[0m \u001b[32m━━━━━━━━━━━━━━━━━━━━\u001b[0m\u001b[37m\u001b[0m \u001b[1m0s\u001b[0m 4ms/step - accuracy: 0.9508 - loss: 0.1836 \n",
            "Epoch 97/100\n",
            "\u001b[1m11/11\u001b[0m \u001b[32m━━━━━━━━━━━━━━━━━━━━\u001b[0m\u001b[37m\u001b[0m \u001b[1m0s\u001b[0m 4ms/step - accuracy: 0.9316 - loss: 0.1795 \n",
            "Epoch 98/100\n",
            "\u001b[1m11/11\u001b[0m \u001b[32m━━━━━━━━━━━━━━━━━━━━\u001b[0m\u001b[37m\u001b[0m \u001b[1m0s\u001b[0m 5ms/step - accuracy: 0.9279 - loss: 0.1808 \n",
            "Epoch 99/100\n",
            "\u001b[1m11/11\u001b[0m \u001b[32m━━━━━━━━━━━━━━━━━━━━\u001b[0m\u001b[37m\u001b[0m \u001b[1m0s\u001b[0m 5ms/step - accuracy: 0.9141 - loss: 0.2595 \n",
            "Epoch 100/100\n",
            "\u001b[1m11/11\u001b[0m \u001b[32m━━━━━━━━━━━━━━━━━━━━\u001b[0m\u001b[37m\u001b[0m \u001b[1m0s\u001b[0m 4ms/step - accuracy: 0.9078 - loss: 0.2315 \n"
          ]
        },
        {
          "output_type": "execute_result",
          "data": {
            "text/plain": [
              "<keras.src.callbacks.history.History at 0x79b4f43f64d0>"
            ]
          },
          "metadata": {},
          "execution_count": 61
        }
      ]
    },
    {
      "cell_type": "code",
      "source": [
        "model.summary()"
      ],
      "metadata": {
        "colab": {
          "base_uri": "https://localhost:8080/",
          "height": 327
        },
        "id": "TAkgnvyb0JKv",
        "outputId": "66e50006-6c82-49cb-b2c5-1ede0e3e8d7d"
      },
      "id": "TAkgnvyb0JKv",
      "execution_count": 23,
      "outputs": [
        {
          "output_type": "display_data",
          "data": {
            "text/plain": [
              "\u001b[1mModel: \"sequential_3\"\u001b[0m\n"
            ],
            "text/html": [
              "<pre style=\"white-space:pre;overflow-x:auto;line-height:normal;font-family:Menlo,'DejaVu Sans Mono',consolas,'Courier New',monospace\"><span style=\"font-weight: bold\">Model: \"sequential_3\"</span>\n",
              "</pre>\n"
            ]
          },
          "metadata": {}
        },
        {
          "output_type": "display_data",
          "data": {
            "text/plain": [
              "┏━━━━━━━━━━━━━━━━━━━━━━━━━━━━━━━━━━━━━━┳━━━━━━━━━━━━━━━━━━━━━━━━━━━━━┳━━━━━━━━━━━━━━━━━┓\n",
              "┃\u001b[1m \u001b[0m\u001b[1mLayer (type)                        \u001b[0m\u001b[1m \u001b[0m┃\u001b[1m \u001b[0m\u001b[1mOutput Shape               \u001b[0m\u001b[1m \u001b[0m┃\u001b[1m \u001b[0m\u001b[1m        Param #\u001b[0m\u001b[1m \u001b[0m┃\n",
              "┡━━━━━━━━━━━━━━━━━━━━━━━━━━━━━━━━━━━━━━╇━━━━━━━━━━━━━━━━━━━━━━━━━━━━━╇━━━━━━━━━━━━━━━━━┩\n",
              "│ dense_9 (\u001b[38;5;33mDense\u001b[0m)                      │ (\u001b[38;5;45mNone\u001b[0m, \u001b[38;5;34m128\u001b[0m)                 │             \u001b[38;5;34m384\u001b[0m │\n",
              "├──────────────────────────────────────┼─────────────────────────────┼─────────────────┤\n",
              "│ dropout_6 (\u001b[38;5;33mDropout\u001b[0m)                  │ (\u001b[38;5;45mNone\u001b[0m, \u001b[38;5;34m128\u001b[0m)                 │               \u001b[38;5;34m0\u001b[0m │\n",
              "├──────────────────────────────────────┼─────────────────────────────┼─────────────────┤\n",
              "│ dense_10 (\u001b[38;5;33mDense\u001b[0m)                     │ (\u001b[38;5;45mNone\u001b[0m, \u001b[38;5;34m64\u001b[0m)                  │           \u001b[38;5;34m8,256\u001b[0m │\n",
              "├──────────────────────────────────────┼─────────────────────────────┼─────────────────┤\n",
              "│ dropout_7 (\u001b[38;5;33mDropout\u001b[0m)                  │ (\u001b[38;5;45mNone\u001b[0m, \u001b[38;5;34m64\u001b[0m)                  │               \u001b[38;5;34m0\u001b[0m │\n",
              "├──────────────────────────────────────┼─────────────────────────────┼─────────────────┤\n",
              "│ dense_11 (\u001b[38;5;33mDense\u001b[0m)                     │ (\u001b[38;5;45mNone\u001b[0m, \u001b[38;5;34m2\u001b[0m)                   │             \u001b[38;5;34m130\u001b[0m │\n",
              "└──────────────────────────────────────┴─────────────────────────────┴─────────────────┘\n"
            ],
            "text/html": [
              "<pre style=\"white-space:pre;overflow-x:auto;line-height:normal;font-family:Menlo,'DejaVu Sans Mono',consolas,'Courier New',monospace\">┏━━━━━━━━━━━━━━━━━━━━━━━━━━━━━━━━━━━━━━┳━━━━━━━━━━━━━━━━━━━━━━━━━━━━━┳━━━━━━━━━━━━━━━━━┓\n",
              "┃<span style=\"font-weight: bold\"> Layer (type)                         </span>┃<span style=\"font-weight: bold\"> Output Shape                </span>┃<span style=\"font-weight: bold\">         Param # </span>┃\n",
              "┡━━━━━━━━━━━━━━━━━━━━━━━━━━━━━━━━━━━━━━╇━━━━━━━━━━━━━━━━━━━━━━━━━━━━━╇━━━━━━━━━━━━━━━━━┩\n",
              "│ dense_9 (<span style=\"color: #0087ff; text-decoration-color: #0087ff\">Dense</span>)                      │ (<span style=\"color: #00d7ff; text-decoration-color: #00d7ff\">None</span>, <span style=\"color: #00af00; text-decoration-color: #00af00\">128</span>)                 │             <span style=\"color: #00af00; text-decoration-color: #00af00\">384</span> │\n",
              "├──────────────────────────────────────┼─────────────────────────────┼─────────────────┤\n",
              "│ dropout_6 (<span style=\"color: #0087ff; text-decoration-color: #0087ff\">Dropout</span>)                  │ (<span style=\"color: #00d7ff; text-decoration-color: #00d7ff\">None</span>, <span style=\"color: #00af00; text-decoration-color: #00af00\">128</span>)                 │               <span style=\"color: #00af00; text-decoration-color: #00af00\">0</span> │\n",
              "├──────────────────────────────────────┼─────────────────────────────┼─────────────────┤\n",
              "│ dense_10 (<span style=\"color: #0087ff; text-decoration-color: #0087ff\">Dense</span>)                     │ (<span style=\"color: #00d7ff; text-decoration-color: #00d7ff\">None</span>, <span style=\"color: #00af00; text-decoration-color: #00af00\">64</span>)                  │           <span style=\"color: #00af00; text-decoration-color: #00af00\">8,256</span> │\n",
              "├──────────────────────────────────────┼─────────────────────────────┼─────────────────┤\n",
              "│ dropout_7 (<span style=\"color: #0087ff; text-decoration-color: #0087ff\">Dropout</span>)                  │ (<span style=\"color: #00d7ff; text-decoration-color: #00d7ff\">None</span>, <span style=\"color: #00af00; text-decoration-color: #00af00\">64</span>)                  │               <span style=\"color: #00af00; text-decoration-color: #00af00\">0</span> │\n",
              "├──────────────────────────────────────┼─────────────────────────────┼─────────────────┤\n",
              "│ dense_11 (<span style=\"color: #0087ff; text-decoration-color: #0087ff\">Dense</span>)                     │ (<span style=\"color: #00d7ff; text-decoration-color: #00d7ff\">None</span>, <span style=\"color: #00af00; text-decoration-color: #00af00\">2</span>)                   │             <span style=\"color: #00af00; text-decoration-color: #00af00\">130</span> │\n",
              "└──────────────────────────────────────┴─────────────────────────────┴─────────────────┘\n",
              "</pre>\n"
            ]
          },
          "metadata": {}
        },
        {
          "output_type": "display_data",
          "data": {
            "text/plain": [
              "\u001b[1m Total params: \u001b[0m\u001b[38;5;34m26,312\u001b[0m (102.79 KB)\n"
            ],
            "text/html": [
              "<pre style=\"white-space:pre;overflow-x:auto;line-height:normal;font-family:Menlo,'DejaVu Sans Mono',consolas,'Courier New',monospace\"><span style=\"font-weight: bold\"> Total params: </span><span style=\"color: #00af00; text-decoration-color: #00af00\">26,312</span> (102.79 KB)\n",
              "</pre>\n"
            ]
          },
          "metadata": {}
        },
        {
          "output_type": "display_data",
          "data": {
            "text/plain": [
              "\u001b[1m Trainable params: \u001b[0m\u001b[38;5;34m8,770\u001b[0m (34.26 KB)\n"
            ],
            "text/html": [
              "<pre style=\"white-space:pre;overflow-x:auto;line-height:normal;font-family:Menlo,'DejaVu Sans Mono',consolas,'Courier New',monospace\"><span style=\"font-weight: bold\"> Trainable params: </span><span style=\"color: #00af00; text-decoration-color: #00af00\">8,770</span> (34.26 KB)\n",
              "</pre>\n"
            ]
          },
          "metadata": {}
        },
        {
          "output_type": "display_data",
          "data": {
            "text/plain": [
              "\u001b[1m Non-trainable params: \u001b[0m\u001b[38;5;34m0\u001b[0m (0.00 B)\n"
            ],
            "text/html": [
              "<pre style=\"white-space:pre;overflow-x:auto;line-height:normal;font-family:Menlo,'DejaVu Sans Mono',consolas,'Courier New',monospace\"><span style=\"font-weight: bold\"> Non-trainable params: </span><span style=\"color: #00af00; text-decoration-color: #00af00\">0</span> (0.00 B)\n",
              "</pre>\n"
            ]
          },
          "metadata": {}
        },
        {
          "output_type": "display_data",
          "data": {
            "text/plain": [
              "\u001b[1m Optimizer params: \u001b[0m\u001b[38;5;34m17,542\u001b[0m (68.53 KB)\n"
            ],
            "text/html": [
              "<pre style=\"white-space:pre;overflow-x:auto;line-height:normal;font-family:Menlo,'DejaVu Sans Mono',consolas,'Courier New',monospace\"><span style=\"font-weight: bold\"> Optimizer params: </span><span style=\"color: #00af00; text-decoration-color: #00af00\">17,542</span> (68.53 KB)\n",
              "</pre>\n"
            ]
          },
          "metadata": {}
        }
      ]
    },
    {
      "cell_type": "code",
      "source": [
        "categorised_y"
      ],
      "metadata": {
        "colab": {
          "base_uri": "https://localhost:8080/"
        },
        "id": "gPGuZYRWh0ND",
        "outputId": "6d9b162f-fa21-4365-c319-236225d02680"
      },
      "id": "gPGuZYRWh0ND",
      "execution_count": 62,
      "outputs": [
        {
          "output_type": "execute_result",
          "data": {
            "text/plain": [
              "array([[1., 0.],\n",
              "       [1., 0.],\n",
              "       [1., 0.],\n",
              "       [1., 0.],\n",
              "       [1., 0.],\n",
              "       [1., 0.],\n",
              "       [1., 0.],\n",
              "       [1., 0.],\n",
              "       [1., 0.],\n",
              "       [1., 0.],\n",
              "       [1., 0.],\n",
              "       [0., 1.],\n",
              "       [1., 0.],\n",
              "       [1., 0.],\n",
              "       [1., 0.],\n",
              "       [1., 0.],\n",
              "       [1., 0.],\n",
              "       [1., 0.],\n",
              "       [1., 0.],\n",
              "       [1., 0.],\n",
              "       [1., 0.],\n",
              "       [1., 0.],\n",
              "       [1., 0.],\n",
              "       [0., 1.],\n",
              "       [1., 0.],\n",
              "       [0., 1.],\n",
              "       [1., 0.],\n",
              "       [1., 0.],\n",
              "       [1., 0.],\n",
              "       [1., 0.],\n",
              "       [1., 0.],\n",
              "       [1., 0.],\n",
              "       [1., 0.],\n",
              "       [0., 1.],\n",
              "       [0., 1.],\n",
              "       [1., 0.],\n",
              "       [0., 1.],\n",
              "       [1., 0.],\n",
              "       [1., 0.],\n",
              "       [0., 1.],\n",
              "       [1., 0.],\n",
              "       [1., 0.],\n",
              "       [1., 0.],\n",
              "       [1., 0.],\n",
              "       [1., 0.],\n",
              "       [1., 0.],\n",
              "       [1., 0.],\n",
              "       [1., 0.],\n",
              "       [1., 0.],\n",
              "       [0., 1.],\n",
              "       [1., 0.],\n",
              "       [1., 0.],\n",
              "       [1., 0.],\n",
              "       [1., 0.],\n",
              "       [1., 0.],\n",
              "       [1., 0.],\n",
              "       [1., 0.],\n",
              "       [1., 0.],\n",
              "       [1., 0.],\n",
              "       [0., 1.],\n",
              "       [1., 0.],\n",
              "       [0., 1.],\n",
              "       [1., 0.],\n",
              "       [0., 1.],\n",
              "       [1., 0.],\n",
              "       [1., 0.],\n",
              "       [1., 0.],\n",
              "       [1., 0.],\n",
              "       [1., 0.],\n",
              "       [1., 0.],\n",
              "       [1., 0.],\n",
              "       [1., 0.],\n",
              "       [1., 0.],\n",
              "       [1., 0.],\n",
              "       [1., 0.],\n",
              "       [1., 0.],\n",
              "       [1., 0.],\n",
              "       [0., 1.],\n",
              "       [1., 0.],\n",
              "       [1., 0.],\n",
              "       [1., 0.],\n",
              "       [1., 0.],\n",
              "       [1., 0.],\n",
              "       [1., 0.],\n",
              "       [1., 0.],\n",
              "       [1., 0.],\n",
              "       [1., 0.],\n",
              "       [0., 1.],\n",
              "       [0., 1.],\n",
              "       [1., 0.],\n",
              "       [1., 0.],\n",
              "       [1., 0.],\n",
              "       [1., 0.],\n",
              "       [0., 1.],\n",
              "       [0., 1.],\n",
              "       [0., 1.],\n",
              "       [1., 0.],\n",
              "       [0., 1.],\n",
              "       [1., 0.],\n",
              "       [1., 0.],\n",
              "       [0., 1.],\n",
              "       [0., 1.],\n",
              "       [0., 1.],\n",
              "       [0., 1.],\n",
              "       [1., 0.],\n",
              "       [0., 1.],\n",
              "       [0., 1.],\n",
              "       [0., 1.],\n",
              "       [0., 1.],\n",
              "       [1., 0.]])"
            ]
          },
          "metadata": {},
          "execution_count": 62
        }
      ]
    },
    {
      "cell_type": "code",
      "source": [
        "plot_keras_model(X, y, model)"
      ],
      "metadata": {
        "colab": {
          "base_uri": "https://localhost:8080/",
          "height": 467
        },
        "id": "7Ozy1iKq1zZM",
        "outputId": "8a896860-2653-44a9-a59f-23a6b5ccdc94"
      },
      "id": "7Ozy1iKq1zZM",
      "execution_count": 30,
      "outputs": [
        {
          "output_type": "stream",
          "name": "stdout",
          "text": [
            "\u001b[1m50/50\u001b[0m \u001b[32m━━━━━━━━━━━━━━━━━━━━\u001b[0m\u001b[37m\u001b[0m \u001b[1m0s\u001b[0m 2ms/step\n"
          ]
        },
        {
          "output_type": "display_data",
          "data": {
            "text/plain": [
              "<Figure size 640x480 with 1 Axes>"
            ],
            "image/png": "[encoded data removed]"
          },
          "metadata": {}
        }
      ]
    },
    {
      "cell_type": "code",
      "source": [
        "model.predict(np.array([[-1,-3]])), model.predict(np.array([[0,0]]))"
      ],
      "metadata": {
        "colab": {
          "base_uri": "https://localhost:8080/"
        },
        "id": "it3bGYweTBCQ",
        "outputId": "fb8e3c5d-4064-48c0-d3a2-30869f053ab5"
      },
      "id": "it3bGYweTBCQ",
      "execution_count": 42,
      "outputs": [
        {
          "output_type": "stream",
          "name": "stdout",
          "text": [
            "\u001b[1m1/1\u001b[0m \u001b[32m━━━━━━━━━━━━━━━━━━━━\u001b[0m\u001b[37m\u001b[0m \u001b[1m0s\u001b[0m 141ms/step\n",
            "\u001b[1m1/1\u001b[0m \u001b[32m━━━━━━━━━━━━━━━━━━━━\u001b[0m\u001b[37m\u001b[0m \u001b[1m0s\u001b[0m 38ms/step\n"
          ]
        },
        {
          "output_type": "execute_result",
          "data": {
            "text/plain": [
              "(array([[9.9944276e-01, 5.5725832e-04]], dtype=float32),\n",
              " array([[0.02792207, 0.97207797]], dtype=float32))"
            ]
          },
          "metadata": {},
          "execution_count": 42
        }
      ]
    },
    {
      "cell_type": "markdown",
      "source": [
        "## PyTorch"
      ],
      "metadata": {
        "id": "LLI2RVLf3Iam"
      },
      "id": "LLI2RVLf3Iam"
    },
    {
      "cell_type": "code",
      "source": [
        "import torch\n",
        "import torch.nn as nn\n",
        "import torch.optim as optim\n",
        "import torch.nn.functional as F\n",
        "from torch.utils.data import DataLoader, Dataset, TensorDataset\n",
        "\n",
        "class OneCircleModel(nn.Module):\n",
        "  def __init__(self):\n",
        "    super().__init__()\n",
        "    self.fc1 = nn.Linear(2, 128)\n",
        "    self.fc2 = nn.Linear(128, 64)\n",
        "    self.fc3 = nn.Linear(64, 2)\n",
        "    self.dropout = nn.Dropout(0.2)\n",
        "\n",
        "  def forward(self, x):\n",
        "    x = F.relu(self.fc1(x))\n",
        "    x = self.dropout(x)\n",
        "    x = F.relu(self.fc2(x))\n",
        "    x = self.dropout(x)\n",
        "    x = F.relu(self.fc3(x))\n",
        "    x = F.softmax(x)\n",
        "    return x\n",
        "\n",
        "# prepare data\n",
        "batch_size=10\n",
        "categorised_y = F.one_hot(torch.tensor(y), 2).float()\n",
        "dataset = TensorDataset(torch.tensor(X, dtype=torch.float32),\n",
        "                        categorised_y)\n",
        "dataloader = DataLoader(dataset, batch_size=batch_size, shuffle=True)\n",
        "\n",
        "# create model\n",
        "model = OneCircleModel()\n",
        "criterion = nn.CrossEntropyLoss()\n",
        "optimiser = optim.Adam(model.parameters(), lr=0.001)\n",
        "num_epochs = 100\n",
        "for epoch in range(num_epochs):\n",
        "  model.train()\n",
        "\n",
        "  for features, labels in dataloader:\n",
        "    outputs = model(features)\n",
        "    loss = criterion(outputs, labels)\n",
        "\n",
        "    # back prop\n",
        "    optimiser.zero_grad()\n",
        "    loss.backward()\n",
        "    optimiser.step()\n",
        "  print(f\"Epoch [{epoch}/{num_epochs}], loss: {loss.item():.4f}\")\n"
      ],
      "metadata": {
        "colab": {
          "base_uri": "https://localhost:8080/"
        },
        "id": "RmOa6ot_3J5G",
        "outputId": "75925551-b850-4586-b091-7b796d1617d2"
      },
      "id": "RmOa6ot_3J5G",
      "execution_count": 73,
      "outputs": [
        {
          "output_type": "stream",
          "name": "stderr",
          "text": [
            "<ipython-input-73-6463b1e2c8d5>:21: UserWarning: Implicit dimension choice for softmax has been deprecated. Change the call to include dim=X as an argument.\n",
            "  x = F.softmax(x)\n"
          ]
        },
        {
          "output_type": "stream",
          "name": "stdout",
          "text": [
            "Epoch [0/100], loss: 0.5565\n",
            "Epoch [1/100], loss: 0.5668\n",
            "Epoch [2/100], loss: 0.4086\n",
            "Epoch [3/100], loss: 0.7699\n",
            "Epoch [4/100], loss: 0.4994\n",
            "Epoch [5/100], loss: 0.5918\n",
            "Epoch [6/100], loss: 0.4964\n",
            "Epoch [7/100], loss: 0.6084\n",
            "Epoch [8/100], loss: 0.4908\n",
            "Epoch [9/100], loss: 0.4545\n",
            "Epoch [10/100], loss: 0.4844\n",
            "Epoch [11/100], loss: 0.4448\n",
            "Epoch [12/100], loss: 0.4318\n",
            "Epoch [13/100], loss: 0.5458\n",
            "Epoch [14/100], loss: 0.4003\n",
            "Epoch [15/100], loss: 0.7311\n",
            "Epoch [16/100], loss: 0.4188\n",
            "Epoch [17/100], loss: 0.4194\n",
            "Epoch [18/100], loss: 0.3738\n",
            "Epoch [19/100], loss: 0.4784\n",
            "Epoch [20/100], loss: 0.4067\n",
            "Epoch [21/100], loss: 0.3505\n",
            "Epoch [22/100], loss: 0.4419\n",
            "Epoch [23/100], loss: 0.3967\n",
            "Epoch [24/100], loss: 0.3919\n",
            "Epoch [25/100], loss: 0.3236\n",
            "Epoch [26/100], loss: 0.3491\n",
            "Epoch [27/100], loss: 0.3260\n",
            "Epoch [28/100], loss: 0.5066\n",
            "Epoch [29/100], loss: 0.4247\n",
            "Epoch [30/100], loss: 0.4260\n",
            "Epoch [31/100], loss: 0.4286\n",
            "Epoch [32/100], loss: 0.3617\n",
            "Epoch [33/100], loss: 0.3460\n",
            "Epoch [34/100], loss: 0.3372\n",
            "Epoch [35/100], loss: 0.3557\n",
            "Epoch [36/100], loss: 0.5059\n",
            "Epoch [37/100], loss: 0.4682\n",
            "Epoch [38/100], loss: 0.4101\n",
            "Epoch [39/100], loss: 0.3555\n",
            "Epoch [40/100], loss: 0.4103\n",
            "Epoch [41/100], loss: 0.3593\n",
            "Epoch [42/100], loss: 0.5152\n",
            "Epoch [43/100], loss: 0.4136\n",
            "Epoch [44/100], loss: 0.4037\n",
            "Epoch [45/100], loss: 0.3173\n",
            "Epoch [46/100], loss: 0.4601\n",
            "Epoch [47/100], loss: 0.4192\n",
            "Epoch [48/100], loss: 0.5144\n",
            "Epoch [49/100], loss: 0.4882\n",
            "Epoch [50/100], loss: 0.3292\n",
            "Epoch [51/100], loss: 0.4340\n",
            "Epoch [52/100], loss: 0.5054\n",
            "Epoch [53/100], loss: 0.3596\n",
            "Epoch [54/100], loss: 0.3915\n",
            "Epoch [55/100], loss: 0.3161\n",
            "Epoch [56/100], loss: 0.6138\n",
            "Epoch [57/100], loss: 0.3217\n",
            "Epoch [58/100], loss: 0.3569\n",
            "Epoch [59/100], loss: 0.4492\n",
            "Epoch [60/100], loss: 0.3218\n",
            "Epoch [61/100], loss: 0.4137\n",
            "Epoch [62/100], loss: 0.4341\n",
            "Epoch [63/100], loss: 0.4556\n",
            "Epoch [64/100], loss: 0.4438\n",
            "Epoch [65/100], loss: 0.4176\n",
            "Epoch [66/100], loss: 0.4256\n",
            "Epoch [67/100], loss: 0.4316\n",
            "Epoch [68/100], loss: 0.3901\n",
            "Epoch [69/100], loss: 0.4312\n",
            "Epoch [70/100], loss: 0.3354\n",
            "Epoch [71/100], loss: 0.3293\n",
            "Epoch [72/100], loss: 0.4105\n",
            "Epoch [73/100], loss: 0.4246\n",
            "Epoch [74/100], loss: 0.6111\n",
            "Epoch [75/100], loss: 0.3189\n",
            "Epoch [76/100], loss: 0.4209\n",
            "Epoch [77/100], loss: 0.3170\n",
            "Epoch [78/100], loss: 0.3859\n",
            "Epoch [79/100], loss: 0.3156\n",
            "Epoch [80/100], loss: 0.4740\n",
            "Epoch [81/100], loss: 0.3535\n",
            "Epoch [82/100], loss: 0.3951\n",
            "Epoch [83/100], loss: 0.3763\n",
            "Epoch [84/100], loss: 0.3511\n",
            "Epoch [85/100], loss: 0.4789\n",
            "Epoch [86/100], loss: 0.3154\n",
            "Epoch [87/100], loss: 0.5078\n",
            "Epoch [88/100], loss: 0.3342\n",
            "Epoch [89/100], loss: 0.4158\n",
            "Epoch [90/100], loss: 0.3218\n",
            "Epoch [91/100], loss: 0.3343\n",
            "Epoch [92/100], loss: 0.3533\n",
            "Epoch [93/100], loss: 0.3386\n",
            "Epoch [94/100], loss: 0.4418\n",
            "Epoch [95/100], loss: 0.3357\n",
            "Epoch [96/100], loss: 0.5090\n",
            "Epoch [97/100], loss: 0.4516\n",
            "Epoch [98/100], loss: 0.4214\n",
            "Epoch [99/100], loss: 0.4146\n"
          ]
        }
      ]
    },
    {
      "cell_type": "code",
      "source": [
        "plot_torch_model(X, y, model)"
      ],
      "metadata": {
        "colab": {
          "base_uri": "https://localhost:8080/",
          "height": 506
        },
        "id": "uJ7tjV6ckNlD",
        "outputId": "e60647b7-7d2c-4fea-b6ae-15b58a333c05"
      },
      "id": "uJ7tjV6ckNlD",
      "execution_count": 74,
      "outputs": [
        {
          "output_type": "stream",
          "name": "stderr",
          "text": [
            "<ipython-input-73-6463b1e2c8d5>:21: UserWarning: Implicit dimension choice for softmax has been deprecated. Change the call to include dim=X as an argument.\n",
            "  x = F.softmax(x)\n"
          ]
        },
        {
          "output_type": "display_data",
          "data": {
            "text/plain": [
              "<Figure size 640x480 with 1 Axes>"
            ],
            "image/png": "[encoded data removed]"
          },
          "metadata": {}
        }
      ]
    },
    {
      "cell_type": "code",
      "source": [
        "model(torch.tensor([[-1.0, -3.0]])), model(torch.tensor([[0.0, 0.0]]))"
      ],
      "metadata": {
        "colab": {
          "base_uri": "https://localhost:8080/"
        },
        "id": "_fAvyhT2Rotv",
        "outputId": "65d9d0cb-31fe-4a2c-dc76-daaff4ba33e8"
      },
      "id": "_fAvyhT2Rotv",
      "execution_count": 75,
      "outputs": [
        {
          "output_type": "stream",
          "name": "stderr",
          "text": [
            "<ipython-input-73-6463b1e2c8d5>:21: UserWarning: Implicit dimension choice for softmax has been deprecated. Change the call to include dim=X as an argument.\n",
            "  x = F.softmax(x)\n"
          ]
        },
        {
          "output_type": "execute_result",
          "data": {
            "text/plain": [
              "(tensor([[9.9999e-01, 6.1115e-06]], grad_fn=<SoftmaxBackward0>),\n",
              " tensor([[0.0011, 0.9989]], grad_fn=<SoftmaxBackward0>))"
            ]
          },
          "metadata": {},
          "execution_count": 75
        }
      ]
    }
  ],
  "metadata": {
    "kernelspec": {
      "display_name": "Python 3",
      "language": "python",
      "name": "python3"
    },
    "language_info": {
      "codemirror_mode": {
        "name": "ipython",
        "version": 3
      },
      "file_extension": ".py",
      "mimetype": "text/x-python",
      "name": "python",
      "nbconvert_exporter": "python",
      "pygments_lexer": "ipython3",
      "version": "3.8.10"
    },
    "colab": {
      "provenance": [],
      "toc_visible": true,
      "include_colab_link": true
    }
  },
  "nbformat": 4,
  "nbformat_minor": 5
}