{
  "cells": [
    {
      "cell_type": "markdown",
      "metadata": {
        "id": "view-in-github",
        "colab_type": "text"
      },
      "source": [
        "<a href=\"https://colab.research.google.com/github/romenlaw/ML-playground/blob/main/ml_playground6.ipynb\" target=\"_parent\"><img src=\"https://colab.research.google.com/assets/colab-badge.svg\" alt=\"Open In Colab\"/></a>"
      ]
    },
    {
      "cell_type": "markdown",
      "source": [
        "# Ensemble\n",
        "\n",
        "Techniques of combining weak learners into strong learner:\n",
        "* **Bagging**:\n",
        "  * build sub datasets by randomly draw from dataset (with replacement)\n",
        "  * train (weak) models with these sub-datasets.\n",
        "  * combine week models to build storng one. prediction is done by voting (if classification) or averaging (if regression)\n",
        "* **Boosting**:\n",
        "  * start by training a random model, the first weak learner. Evaluate it on entire dataset\n",
        "  * shrink points with good pred; enlarge points with bad pred. Train 2nd weak learner on this modified dataset.\n",
        "  * continue to build several weak models\n",
        "  * combine the week models in same way as Bagging - i.e. voting or averaging.\n"
      ],
      "metadata": {
        "id": "zYbiNuBAZZ5c"
      }
    },
    {
      "cell_type": "code",
      "source": [],
      "metadata": {
        "id": "2MaUDb10aq64"
      },
      "execution_count": null,
      "outputs": []
    }
  ],
  "metadata": {
    "language_info": {
      "name": "python"
    },
    "colab": {
      "provenance": [],
      "include_colab_link": true
    }
  },
  "nbformat": 4,
  "nbformat_minor": 0
}