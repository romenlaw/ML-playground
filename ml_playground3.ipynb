{
  "cells": [
    {
      "cell_type": "markdown",
      "metadata": {
        "id": "view-in-github",
        "colab_type": "text"
      },
      "source": [
        "<a href=\"https://colab.research.google.com/github/romenlaw/ML-playground/blob/main/ml_playground3.ipynb\" target=\"_parent\"><img src=\"https://colab.research.google.com/assets/colab-badge.svg\" alt=\"Open In Colab\"/></a>"
      ]
    },
    {
      "cell_type": "markdown",
      "source": [
        "# Native Bayes Model\n",
        "\n",
        "it's an important ML model used in classification. It's called 'naive' because we make some assumption to simplify the calculation.\n",
        "\n",
        "It is based on the premise that the more information we gather about an event, the better estimate of the probability we can make. Bayes' theorem answers \"what is the prob of Y given X occured?\" - *conditional probability*."
      ],
      "metadata": {
        "id": "ft1ySWXqslsp"
      }
    }
  ],
  "metadata": {
    "language_info": {
      "name": "python"
    },
    "colab": {
      "provenance": [],
      "toc_visible": true,
      "include_colab_link": true
    }
  },
  "nbformat": 4,
  "nbformat_minor": 0
}