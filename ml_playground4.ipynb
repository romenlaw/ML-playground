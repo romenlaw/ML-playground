{
  "cells": [
    {
      "cell_type": "markdown",
      "metadata": {
        "id": "view-in-github",
        "colab_type": "text"
      },
      "source": [
        "<a href=\"https://colab.research.google.com/github/romenlaw/ML-playground/blob/main/ml_playground4.ipynb\" target=\"_parent\"><img src=\"https://colab.research.google.com/assets/colab-badge.svg\" alt=\"Open In Colab\"/></a>"
      ]
    },
    {
      "cell_type": "code",
      "source": [
        "!rm -f data/*\n",
        "!wget -nv -P data https://raw.githubusercontent.com/luisguiserrano/manning/master/Chapter_10_Neural_Networks/one_circle.csv\n",
        "!wget -nv -P data https://raw.githubusercontent.com/luisguiserrano/manning/master/Chapter_10_Neural_Networks/Hyderabad.csv\n",
        "!ls -al data\n",
        "!wc -l data/*.csv"
      ],
      "metadata": {
        "colab": {
          "base_uri": "https://localhost:8080/"
        },
        "id": "BOyRTPOJ0pZy",
        "outputId": "30f794db-ac99-4fea-a057-6b9877fbfd46"
      },
      "id": "BOyRTPOJ0pZy",
      "execution_count": 3,
      "outputs": [
        {
          "output_type": "stream",
          "name": "stdout",
          "text": [
            "2025-03-06 09:07:54 URL:https://raw.githubusercontent.com/luisguiserrano/manning/master/Chapter_10_Neural_Networks/one_circle.csv [4820/4820] -> \"data/one_circle.csv\" [1]\n",
            "2025-03-06 09:07:55 URL:https://raw.githubusercontent.com/luisguiserrano/manning/master/Chapter_10_Neural_Networks/Hyderabad.csv [253067/253067] -> \"data/Hyderabad.csv\" [1]\n",
            "total 264\n",
            "drwxr-xr-x 2 root root   4096 Mar  6 09:07 .\n",
            "drwxr-xr-x 1 root root   4096 Mar  6 09:07 ..\n",
            "-rw-r--r-- 1 root root 253067 Mar  6 09:07 Hyderabad.csv\n",
            "-rw-r--r-- 1 root root   4820 Mar  6 09:07 one_circle.csv\n",
            "  2518 data/Hyderabad.csv\n",
            "   111 data/one_circle.csv\n",
            "  2629 total\n"
          ]
        }
      ]
    },
    {
      "cell_type": "code",
      "execution_count": 13,
      "id": "9c9135ee",
      "metadata": {
        "id": "9c9135ee"
      },
      "outputs": [],
      "source": [
        "import numpy as np\n",
        "import pandas as pd\n",
        "import graphviz\n",
        "import matplotlib.pyplot as plt\n",
        "import tensorflow as tf\n",
        "from keras import Sequential\n",
        "from keras.layers import Dense, Dropout\n",
        "import torch\n",
        "import torch.nn as nn\n",
        "import torch.optim as optim\n",
        "import torch.nn.functional as F\n",
        "from torch.utils.data import DataLoader, Dataset, TensorDataset\n",
        "\n",
        "# Some functions to plot our points and draw the lines\n",
        "def plot_points(features, labels, point_size=25, ax=None):\n",
        "  X = np.array(features)\n",
        "  y = np.array(labels)\n",
        "  spam = X[np.argwhere(y==1)]\n",
        "  ham = X[np.argwhere(y==0)]\n",
        "  if ax is None:\n",
        "    p=plt\n",
        "    p.xlabel('aha')\n",
        "    p.ylabel('boo')\n",
        "  else:\n",
        "    p=ax\n",
        "    p.set_xlabel('aha')\n",
        "    p.set_ylabel('boo')\n",
        "  p.scatter([s[0][0] for s in spam],\n",
        "            [s[0][1] for s in spam],\n",
        "            s = point_size,\n",
        "            color = 'cyan',\n",
        "            edgecolor = 'k',\n",
        "            marker = '^')\n",
        "  p.scatter([s[0][0] for s in ham],\n",
        "            [s[0][1] for s in ham],\n",
        "            s = point_size,\n",
        "            color = 'red',\n",
        "            edgecolor = 'k',\n",
        "            marker = 's')\n",
        "  p.legend(['happy','sad'])\n",
        "\n",
        "def draw_line(a,b,c, starting=0, ending=3, **kwargs):\n",
        "  # Plotting the line ax + by + c = 0\n",
        "  x = np.linspace(starting, ending, 1000)\n",
        "  plt.plot(x, -c/b - a*x/b, **kwargs)\n",
        "\n",
        "f = lambda x: int(x[1]>x[0])\n",
        "def g(Z):\n",
        "  return np.array([f(i) for i in Z])\n",
        "def plot_keras_model(X, y, model, ax=None):\n",
        "  X = np.array(X)\n",
        "  y = np.array(y)\n",
        "  plot_step = 0.2\n",
        "  x_min, x_max = X[:, 0].min() - 1, X[:, 0].max() + 1\n",
        "  y_min, y_max = X[:, 1].min() - 1, X[:, 1].max() + 1\n",
        "  xx, yy = np.meshgrid(np.arange(x_min, x_max, plot_step),\n",
        "                        np.arange(y_min, y_max, plot_step))\n",
        "  Z = model.predict(np.c_[xx.ravel(), yy.ravel()])\n",
        "  Z = g(Z).reshape(xx.shape)\n",
        "  if ax is None:\n",
        "    plt.contour(xx, yy, Z, colors = 'k',linewidths = 1, levels=0)\n",
        "    plot_points(X, y)\n",
        "    plt.contourf(xx, yy, Z, colors=['red', 'blue'], alpha=0.2, levels=range(-1,2))\n",
        "    plt.show()\n",
        "  else:\n",
        "    ax.contour(xx, yy, Z, colors = 'k',linewidths = 1, levels=0)\n",
        "    plot_points(X, y, ax=ax)\n",
        "    ax.contourf(xx, yy, Z, colors=['red', 'blue'], alpha=0.2, levels=range(-1,2))\n",
        "\n",
        "def plot_torch_model(X, y, model, ax=None):\n",
        "  X = np.array(X)\n",
        "  y = np.array(y)\n",
        "  plot_step = 0.2\n",
        "  x_min, x_max = X[:, 0].min() - 1, X[:, 0].max() + 1\n",
        "  y_min, y_max = X[:, 1].min() - 1, X[:, 1].max() + 1\n",
        "  xx, yy = np.meshgrid(np.arange(x_min, x_max, plot_step),\n",
        "                        np.arange(y_min, y_max, plot_step))\n",
        "  Z = model(torch.tensor(np.c_[xx.ravel(), yy.ravel()], dtype=torch.float32))\n",
        "  Z = g(Z).reshape(xx.shape)\n",
        "  if ax is None:\n",
        "    plt.contour(xx, yy, Z, colors = 'k',linewidths = 1, levels=0)\n",
        "    plot_points(X, y)\n",
        "    plt.contourf(xx, yy, Z, colors=['red', 'blue'], alpha=0.2, levels=range(-1,2))\n",
        "    plt.show()\n",
        "  else:\n",
        "    ax.contour(xx, yy, Z, colors = 'k',linewidths = 1, levels=0)\n",
        "    plot_points(X, y, ax=ax)\n",
        "    ax.contourf(xx, yy, Z, colors=['red', 'blue'], alpha=0.2, levels=range(-1,2))\n"
      ]
    },
    {
      "cell_type": "markdown",
      "source": [
        "# Neural Network\n",
        "\n",
        "Neural network can be seen as compositions of linear classifiers that give rise to nonlinear classifiers.\n",
        "\n",
        "In low dimensions, the linear classifiers would look like lines or planes, and the nonlinear classifiers would look like complicated curves or surfaces.\n",
        "\n",
        "Boundary of a perceptron is a straight line (see ch5-6). When combined into neuro-net, the boundary of the NN becomes non-linear.\n",
        "\n",
        "*Fully connected* architecture: every node in a layer is connected to every (non bias) node in next layer; no connections happen between non-consecutive layers.\n",
        "\n",
        "See [Back Prop Ninja notes](https://colab.research.google.com/github/romenlaw/ML-playground/blob/main/ml_playground4.ipynb#scrollTo=-XSSCuvxW5jZ&line=11&uniqifier=1) for gradient caculations."
      ],
      "metadata": {
        "id": "-XSSCuvxW5jZ"
      },
      "id": "-XSSCuvxW5jZ"
    },
    {
      "cell_type": "code",
      "source": [
        "# using the alien mood example\n",
        "alien_dataset = pd.DataFrame({\n",
        "  'aack':[1,2,0,0,1,1,2,2],\n",
        "  'beep':[0,0,1,2,1,2,1,2],\n",
        "  'happy': [0,0,0,0,1,1,1,1]})\n",
        "\n",
        "X = alien_dataset[['aack', 'beep']]\n",
        "y = alien_dataset['happy']"
      ],
      "metadata": {
        "id": "r3YaPDc8Xg7M"
      },
      "id": "r3YaPDc8Xg7M",
      "execution_count": 34,
      "outputs": []
    },
    {
      "cell_type": "code",
      "source": [
        "X, y"
      ],
      "metadata": {
        "colab": {
          "base_uri": "https://localhost:8080/"
        },
        "id": "zzq7jtfMXzi1",
        "outputId": "29276e55-d8f9-4abc-c522-a8eccd2f9af2"
      },
      "id": "zzq7jtfMXzi1",
      "execution_count": 35,
      "outputs": [
        {
          "output_type": "execute_result",
          "data": {
            "text/plain": [
              "(   aack  beep\n",
              " 0     1     0\n",
              " 1     2     0\n",
              " 2     0     1\n",
              " 3     0     2\n",
              " 4     1     1\n",
              " 5     1     2\n",
              " 6     2     1\n",
              " 7     2     2,\n",
              " 0    0\n",
              " 1    0\n",
              " 2    0\n",
              " 3    0\n",
              " 4    1\n",
              " 5    1\n",
              " 6    1\n",
              " 7    1\n",
              " Name: happy, dtype: int64)"
            ]
          },
          "metadata": {},
          "execution_count": 35
        }
      ]
    },
    {
      "cell_type": "markdown",
      "source": [
        "These points cannot be separated with one straight line. But can be with 2 lines:\n",
        "* line 1: $6x_a+10x_b-15=0$\n",
        "* line 2: $10x_a+6x_b-15=0$\n",
        "\n",
        "Looking at plot below, we can see that sentence can be classified as Happy if both line1 and line2 >=0\n",
        "\n",
        "From linear examples in previous chapters, we saw that if a word's weight was positive, the word is likely happy... but here the weights are all positive. i.e. the problem here is not linear."
      ],
      "metadata": {
        "id": "1cJEqcIea1O2"
      },
      "id": "1cJEqcIea1O2"
    },
    {
      "cell_type": "code",
      "source": [
        "plot_points(X, y, point_size=100)\n",
        "draw_line(6,10,-15)\n",
        "draw_line(10,6,-15)"
      ],
      "metadata": {
        "colab": {
          "base_uri": "https://localhost:8080/",
          "height": 449
        },
        "id": "_pbxomw5X4Nt",
        "outputId": "61506666-c707-4ab5-dc50-1d8b6b1452e0"
      },
      "id": "_pbxomw5X4Nt",
      "execution_count": 36,
      "outputs": [
        {
          "output_type": "display_data",
          "data": {
            "text/plain": [
              "<Figure size 640x480 with 1 Axes>"
            ],
            "image/png": "[encoded data removed]"
          },
          "metadata": {}
        }
      ]
    },
    {
      "cell_type": "code",
      "source": [
        "# the neuro-net\n",
        "g = graphviz.Digraph(format='svg', graph_attr={'rankdir': 'LR'})\n",
        "g.node('xa', 'x_a', shape='circle')\n",
        "g.node('xb', 'x_b', shape='circle')\n",
        "g.node('b1', '1', shape='circle', style='filled', fillcolor='grey')\n",
        "g.node('b2', '1', shape='circle', style='filled', fillcolor='grey')\n",
        "g.node('p1', 'P1', shape='circle', style='filled', fillcolor='black', fontcolor='white')\n",
        "g.node('p2', 'P2', shape='circle', style='filled', fillcolor='black', fontcolor='white')\n",
        "g.node('p3', 'P3', shape='circle', style='filled', fillcolor='black', fontcolor='white')\n",
        "g.node('output', 'y_hat', shape='none')\n",
        "\n",
        "g.edge('xa', 'p1', label='6')\n",
        "g.edge('xa', 'p2', label='10')\n",
        "g.edge('xb', 'p1', label='10')\n",
        "g.edge('xb', 'p2', label='6')\n",
        "g.edge('b1', 'p1', label='-15')\n",
        "g.edge('b1', 'p2', label='-15')\n",
        "\n",
        "g.edge('p1', 'p3', label='1')\n",
        "g.edge('p2', 'p3', label='1')\n",
        "g.edge('b2', 'p3', label='-1.5')\n",
        "\n",
        "g.edge('p3', 'output')\n",
        "g"
      ],
      "metadata": {
        "colab": {
          "base_uri": "https://localhost:8080/",
          "height": 291
        },
        "id": "AYTpEd3qjWPb",
        "outputId": "9f9d8964-a0e4-45ec-ed23-bce8cd7a79d6"
      },
      "id": "AYTpEd3qjWPb",
      "execution_count": 37,
      "outputs": [
        {
          "output_type": "execute_result",
          "data": {
            "image/svg+xml": "<?xml version=\"1.0\" encoding=\"UTF-8\" standalone=\"no\"?>\n<!DOCTYPE svg PUBLIC \"-//W3C//DTD SVG 1.1//EN\"\n \"http://www.w3.org/Graphics/SVG/1.1/DTD/svg11.dtd\">\n<!-- Generated by graphviz version 2.43.0 (0)\n -->\n<!-- Title: %3 Pages: 1 -->\n<svg width=\"341pt\" height=\"203pt\"\n viewBox=\"0.00 0.00 340.69 202.70\" xmlns=\"http://www.w3.org/2000/svg\" xmlns:xlink=\"http://www.w3.org/1999/xlink\">\n<g id=\"graph0\" class=\"graph\" transform=\"scale(1 1) rotate(0) translate(4 198.7)\">\n<title>%3</title>\n<polygon fill=\"white\" stroke=\"transparent\" points=\"-4,4 -4,-198.7 336.69,-198.7 336.69,4 -4,4\"/>\n<!-- xa -->\n<g id=\"node1\" class=\"node\">\n<title>xa</title>\n<ellipse fill=\"none\" stroke=\"black\" cx=\"24.05\" cy=\"-98.65\" rx=\"23.3\" ry=\"23.3\"/>\n<text text-anchor=\"middle\" x=\"24.05\" y=\"-94.95\" font-family=\"Times,serif\" font-size=\"14.00\">x_a</text>\n</g>\n<!-- p1 -->\n<g id=\"node5\" class=\"node\">\n<title>p1</title>\n<ellipse fill=\"black\" stroke=\"black\" cx=\"123.24\" cy=\"-48.65\" rx=\"20.3\" ry=\"20.3\"/>\n<text text-anchor=\"middle\" x=\"123.24\" y=\"-44.95\" font-family=\"Times,serif\" font-size=\"14.00\" fill=\"white\">P1</text>\n</g>\n<!-- xa&#45;&gt;p1 -->\n<g id=\"edge1\" class=\"edge\">\n<title>xa&#45;&gt;p1</title>\n<path fill=\"none\" stroke=\"black\" d=\"M33.98,-77.15C40.7,-64.01 51.3,-48.3 66.1,-40.65 74.77,-36.16 85.14,-36.35 94.6,-38.27\"/>\n<polygon fill=\"black\" stroke=\"black\" points=\"93.82,-41.68 104.38,-40.88 95.63,-34.92 93.82,-41.68\"/>\n<text text-anchor=\"middle\" x=\"75.6\" y=\"-44.45\" font-family=\"Times,serif\" font-size=\"14.00\">6</text>\n</g>\n<!-- p2 -->\n<g id=\"node6\" class=\"node\">\n<title>p2</title>\n<ellipse fill=\"black\" stroke=\"black\" cx=\"123.24\" cy=\"-110.65\" rx=\"20.3\" ry=\"20.3\"/>\n<text text-anchor=\"middle\" x=\"123.24\" y=\"-106.95\" font-family=\"Times,serif\" font-size=\"14.00\" fill=\"white\">P2</text>\n</g>\n<!-- xa&#45;&gt;p2 -->\n<g id=\"edge2\" class=\"edge\">\n<title>xa&#45;&gt;p2</title>\n<path fill=\"none\" stroke=\"black\" d=\"M47.59,-101.43C61.13,-103.1 78.5,-105.25 93.07,-107.05\"/>\n<polygon fill=\"black\" stroke=\"black\" points=\"92.75,-110.53 103.1,-108.28 93.6,-103.59 92.75,-110.53\"/>\n<text text-anchor=\"middle\" x=\"75.6\" y=\"-109.45\" font-family=\"Times,serif\" font-size=\"14.00\">10</text>\n</g>\n<!-- xb -->\n<g id=\"node2\" class=\"node\">\n<title>xb</title>\n<ellipse fill=\"none\" stroke=\"black\" cx=\"24.05\" cy=\"-170.65\" rx=\"24.1\" ry=\"24.1\"/>\n<text text-anchor=\"middle\" x=\"24.05\" y=\"-166.95\" font-family=\"Times,serif\" font-size=\"14.00\">x_b</text>\n</g>\n<!-- xb&#45;&gt;p1 -->\n<g id=\"edge3\" class=\"edge\">\n<title>xb&#45;&gt;p1</title>\n<path fill=\"none\" stroke=\"black\" d=\"M45.36,-158.94C58.16,-150.71 74.27,-138.69 85.1,-124.65 97.75,-108.24 93.88,-100.2 103.1,-81.65 104.3,-79.23 105.6,-76.74 106.95,-74.27\"/>\n<polygon fill=\"black\" stroke=\"black\" points=\"110.01,-75.97 111.88,-65.55 103.91,-72.53 110.01,-75.97\"/>\n<text text-anchor=\"middle\" x=\"75.6\" y=\"-147.45\" font-family=\"Times,serif\" font-size=\"14.00\">10</text>\n</g>\n<!-- xb&#45;&gt;p2 -->\n<g id=\"edge4\" class=\"edge\">\n<title>xb&#45;&gt;p2</title>\n<path fill=\"none\" stroke=\"black\" d=\"M47.84,-175.31C59.69,-176.54 73.99,-176.06 85.1,-169.65 98.56,-161.87 94.81,-152.81 103.1,-139.65 103.9,-138.37 104.73,-137.07 105.57,-135.75\"/>\n<polygon fill=\"black\" stroke=\"black\" points=\"108.66,-137.42 111.18,-127.13 102.8,-133.6 108.66,-137.42\"/>\n<text text-anchor=\"middle\" x=\"75.6\" y=\"-178.45\" font-family=\"Times,serif\" font-size=\"14.00\">6</text>\n</g>\n<!-- b1 -->\n<g id=\"node3\" class=\"node\">\n<title>b1</title>\n<ellipse fill=\"grey\" stroke=\"black\" cx=\"24.05\" cy=\"-25.65\" rx=\"18\" ry=\"18\"/>\n<text text-anchor=\"middle\" x=\"24.05\" y=\"-21.95\" font-family=\"Times,serif\" font-size=\"14.00\">1</text>\n</g>\n<!-- b1&#45;&gt;p1 -->\n<g id=\"edge5\" class=\"edge\">\n<title>b1&#45;&gt;p1</title>\n<path fill=\"none\" stroke=\"black\" d=\"M38.18,-14.42C50.52,-5.32 69.38,4.86 85.1,-2.65 94.07,-6.94 101.58,-14.57 107.44,-22.41\"/>\n<polygon fill=\"black\" stroke=\"black\" points=\"104.64,-24.52 113.15,-30.84 110.44,-20.59 104.64,-24.52\"/>\n<text text-anchor=\"middle\" x=\"75.6\" y=\"-6.45\" font-family=\"Times,serif\" font-size=\"14.00\">&#45;15</text>\n</g>\n<!-- b1&#45;&gt;p2 -->\n<g id=\"edge6\" class=\"edge\">\n<title>b1&#45;&gt;p2</title>\n<path fill=\"none\" stroke=\"black\" d=\"M38.16,-37.11C53.93,-50.91 80.69,-74.31 99.78,-91\"/>\n<polygon fill=\"black\" stroke=\"black\" points=\"97.61,-93.75 107.44,-97.7 102.22,-88.48 97.61,-93.75\"/>\n<text text-anchor=\"middle\" x=\"75.6\" y=\"-79.45\" font-family=\"Times,serif\" font-size=\"14.00\">&#45;15</text>\n</g>\n<!-- b2 -->\n<g id=\"node4\" class=\"node\">\n<title>b2</title>\n<ellipse fill=\"grey\" stroke=\"black\" cx=\"123.24\" cy=\"-166.65\" rx=\"18\" ry=\"18\"/>\n<text text-anchor=\"middle\" x=\"123.24\" y=\"-162.95\" font-family=\"Times,serif\" font-size=\"14.00\">1</text>\n</g>\n<!-- p3 -->\n<g id=\"node7\" class=\"node\">\n<title>p3</title>\n<ellipse fill=\"black\" stroke=\"black\" cx=\"221.54\" cy=\"-110.65\" rx=\"20.3\" ry=\"20.3\"/>\n<text text-anchor=\"middle\" x=\"221.54\" y=\"-106.95\" font-family=\"Times,serif\" font-size=\"14.00\" fill=\"white\">P3</text>\n</g>\n<!-- b2&#45;&gt;p3 -->\n<g id=\"edge9\" class=\"edge\">\n<title>b2&#45;&gt;p3</title>\n<path fill=\"none\" stroke=\"black\" d=\"M139.29,-157.9C154.16,-149.25 177.18,-135.86 194.93,-125.54\"/>\n<polygon fill=\"black\" stroke=\"black\" points=\"196.77,-128.52 203.66,-120.47 193.25,-122.47 196.77,-128.52\"/>\n<text text-anchor=\"middle\" x=\"172.39\" y=\"-147.45\" font-family=\"Times,serif\" font-size=\"14.00\">&#45;1.5</text>\n</g>\n<!-- p1&#45;&gt;p3 -->\n<g id=\"edge7\" class=\"edge\">\n<title>p1&#45;&gt;p3</title>\n<path fill=\"none\" stroke=\"black\" d=\"M140.58,-59.17C155.66,-68.87 178.27,-83.43 195.61,-94.6\"/>\n<polygon fill=\"black\" stroke=\"black\" points=\"193.82,-97.61 204.12,-100.08 197.61,-91.72 193.82,-97.61\"/>\n<text text-anchor=\"middle\" x=\"172.39\" y=\"-88.45\" font-family=\"Times,serif\" font-size=\"14.00\">1</text>\n</g>\n<!-- p2&#45;&gt;p3 -->\n<g id=\"edge8\" class=\"edge\">\n<title>p2&#45;&gt;p3</title>\n<path fill=\"none\" stroke=\"black\" d=\"M143.73,-110.65C157.31,-110.65 175.66,-110.65 191.02,-110.65\"/>\n<polygon fill=\"black\" stroke=\"black\" points=\"191.08,-114.15 201.08,-110.65 191.08,-107.15 191.08,-114.15\"/>\n<text text-anchor=\"middle\" x=\"172.39\" y=\"-114.45\" font-family=\"Times,serif\" font-size=\"14.00\">1</text>\n</g>\n<!-- output -->\n<g id=\"node8\" class=\"node\">\n<title>output</title>\n<text text-anchor=\"middle\" x=\"305.69\" y=\"-106.95\" font-family=\"Times,serif\" font-size=\"14.00\">y_hat</text>\n</g>\n<!-- p3&#45;&gt;output -->\n<g id=\"edge10\" class=\"edge\">\n<title>p3&#45;&gt;output</title>\n<path fill=\"none\" stroke=\"black\" d=\"M242.01,-110.65C249.94,-110.65 259.37,-110.65 268.47,-110.65\"/>\n<polygon fill=\"black\" stroke=\"black\" points=\"268.52,-114.15 278.52,-110.65 268.52,-107.15 268.52,-114.15\"/>\n</g>\n</g>\n</svg>\n",
            "text/plain": [
              "<graphviz.graphs.Digraph at 0x794136bf6b90>"
            ]
          },
          "metadata": {},
          "execution_count": 37
        }
      ]
    },
    {
      "cell_type": "code",
      "source": [
        "def step(x):\n",
        "  if x >= 0:\n",
        "    return 1\n",
        "  else:\n",
        "    return 0\n",
        "\n",
        "def line_1(a,b):\n",
        "  return step(6*a + 10*b - 15)\n",
        "\n",
        "def line_2(a,b):\n",
        "  return step(10*a + 6*b - 15)\n",
        "\n",
        "def bias(a,b):\n",
        "  return 1\n",
        "\n",
        "def nn_with_step(a,b):\n",
        "  return step(step(6*a + 10*b - 15) + step(10*a + 6*b - 15) - 1.5)\n",
        "\n",
        "def sigmoid(x):\n",
        "  return np.exp(x)/(1.0 + np.exp(x))\n",
        "\n",
        "def nn_with_sigmoid(a,b):\n",
        "  return sigmoid(1.0*sigmoid(6*a + 10*b - 15) + 1.0*sigmoid(10*a + 6*b - 15) - 1.5)\n",
        "\n",
        "def plot_function(f, ax=None):\n",
        "  plot_points(X, y, 100, ax)\n",
        "\n",
        "  def h(x,y): # height function of the contour\n",
        "    return f(x,y)>=0.5\n",
        "  xx, yy = np.meshgrid(np.arange(-0.5,3,0.005),\n",
        "                       np.arange(-0.5,3,0.005))\n",
        "  Z = np.array([h(i[0], i[1]) for i in np.c_[xx.ravel(), yy.ravel()]])\n",
        "  Z = Z.reshape(xx.shape)\n",
        "  if ax is None:\n",
        "    plt.contourf(xx, yy, Z, colors=['red', 'blue'], alpha=0.25, levels=range(-1,2))\n",
        "    plt.contour(xx, yy, Z,colors = 'k',linewidths = 3)\n",
        "  else:\n",
        "    ax.contourf(xx, yy, Z, colors=['red', 'blue'], alpha=0.25, levels=range(-1,2))\n",
        "    ax.contour(xx, yy, Z,colors = 'k',linewidths = 3)\n"
      ],
      "metadata": {
        "id": "8Y0FZhxDkhA2"
      },
      "id": "8Y0FZhxDkhA2",
      "execution_count": 38,
      "outputs": []
    },
    {
      "cell_type": "markdown",
      "source": [
        "## Boundaries of NN 1st layer\n",
        "1st layer of the neuro-net"
      ],
      "metadata": {
        "id": "c49MYrZfm70j"
      },
      "id": "c49MYrZfm70j"
    },
    {
      "cell_type": "code",
      "source": [
        "fig, (ax1, ax2, ax3) = plt.subplots(1,3, figsize=(10,3))\n",
        "plot_function(line_1, ax1)\n",
        "plot_function(line_2, ax2)\n",
        "plot_function(bias, ax3)"
      ],
      "metadata": {
        "colab": {
          "base_uri": "https://localhost:8080/",
          "height": 248
        },
        "id": "bYLF3YdRmuqr",
        "outputId": "b7dd0226-18cb-4ec1-aeaa-2ff72b366056"
      },
      "id": "bYLF3YdRmuqr",
      "execution_count": 39,
      "outputs": [
        {
          "output_type": "display_data",
          "data": {
            "text/plain": [
              "<Figure size 1000x300 with 3 Axes>"
            ],
            "image/png": "[encoded data removed]"
          },
          "metadata": {}
        }
      ]
    },
    {
      "cell_type": "markdown",
      "source": [
        "## Boundaries of NN 2nd layer"
      ],
      "metadata": {
        "id": "EYU_5DWMqlqf"
      },
      "id": "EYU_5DWMqlqf"
    },
    {
      "cell_type": "code",
      "source": [
        "fig, (ax1, ax2) = plt.subplots(1,2, figsize=(10,3))\n",
        "plot_function(nn_with_step, ax1)\n",
        "plot_function(nn_with_sigmoid, ax2)"
      ],
      "metadata": {
        "colab": {
          "base_uri": "https://localhost:8080/",
          "height": 248
        },
        "id": "dipbRNQTqtTm",
        "outputId": "cdb89640-5e44-4b7c-c9ec-0e62123879c1"
      },
      "id": "dipbRNQTqtTm",
      "execution_count": 40,
      "outputs": [
        {
          "output_type": "display_data",
          "data": {
            "text/plain": [
              "<Figure size 1000x300 with 2 Axes>"
            ],
            "image/png": "[encoded data removed]"
          },
          "metadata": {}
        }
      ]
    },
    {
      "cell_type": "markdown",
      "source": [
        "# One-Circle Example"
      ],
      "metadata": {
        "id": "-CaiZRuV08pF"
      },
      "id": "-CaiZRuV08pF"
    },
    {
      "cell_type": "code",
      "source": [
        "df = pd.read_csv('data/one_circle.csv', index_col=0)\n",
        "X = np.array(df[['x_1', 'x_2']])\n",
        "y = np.array(df['y']).astype(int)\n",
        "plot_points(X,y)"
      ],
      "metadata": {
        "colab": {
          "base_uri": "https://localhost:8080/",
          "height": 449
        },
        "id": "Oue2zWHc1Arq",
        "outputId": "09b39a0c-eeba-4cd6-b6dd-7f64aa04c2d5"
      },
      "id": "Oue2zWHc1Arq",
      "execution_count": 41,
      "outputs": [
        {
          "output_type": "display_data",
          "data": {
            "text/plain": [
              "<Figure size 640x480 with 1 Axes>"
            ],
            "image/png": "[encoded data removed]"
          },
          "metadata": {}
        }
      ]
    },
    {
      "cell_type": "code",
      "source": [
        "X.shape, y.shape"
      ],
      "metadata": {
        "id": "d6yKy6cZlL4L",
        "outputId": "15c141c7-6639-468f-f66c-46122009ef4a",
        "colab": {
          "base_uri": "https://localhost:8080/"
        }
      },
      "id": "d6yKy6cZlL4L",
      "execution_count": 42,
      "outputs": [
        {
          "output_type": "execute_result",
          "data": {
            "text/plain": [
              "((110, 2), (110,))"
            ]
          },
          "metadata": {},
          "execution_count": 42
        }
      ]
    },
    {
      "cell_type": "markdown",
      "source": [
        "## Tensorflow\n",
        "Implement the example using Tensorflow"
      ],
      "metadata": {
        "id": "Qz1WtxSr_grE"
      },
      "id": "Qz1WtxSr_grE"
    },
    {
      "cell_type": "code",
      "source": [
        "from tensorflow import keras\n",
        "from tensorflow.keras.models import Sequential\n",
        "from tensorflow.keras.layers import Dense, Dropout, Activation\n",
        "from tensorflow.keras.utils import to_categorical\n",
        "\n",
        "# turn y (0 or 1) into one-hot, i.e. [0,1] and [1,0]\n",
        "categorised_y = np.array(to_categorical(y, 2))\n",
        "\n",
        "# dimensions of the nero-net\n",
        "# input: (2,), hidden layer 1 (128,), hidden 2 (64,), output (2,)\n",
        "# activation fn: hidden layers: ReLU, output layer: Softmax\n",
        "# dropout in hidden layers, ratio 0.2\n",
        "model = Sequential()\n",
        "model.add(Dense(128, activation='relu', input_shape=(2,)))\n",
        "model.add(Dropout(.2))\n",
        "model.add(Dense(64, activation='relu'))\n",
        "model.add(Dropout(.2))\n",
        "model.add(Dense(2, activation='softmax'))\n",
        "model.compile(loss='categorical_crossentropy', # multi-value version of log loss\n",
        "              optimizer='adam',\n",
        "              metrics=['accuracy'])\n",
        "\n",
        "# train the model\n",
        "model.fit(X, categorised_y, epochs=100, batch_size=10)"
      ],
      "metadata": {
        "colab": {
          "base_uri": "https://localhost:8080/"
        },
        "id": "eVf-eczl_l5U",
        "outputId": "949a3161-47e6-4944-e067-1a42c5160e79"
      },
      "id": "eVf-eczl_l5U",
      "execution_count": 43,
      "outputs": [
        {
          "output_type": "stream",
          "name": "stdout",
          "text": [
            "Epoch 1/100\n"
          ]
        },
        {
          "output_type": "stream",
          "name": "stderr",
          "text": [
            "/usr/local/lib/python3.11/dist-packages/keras/src/layers/core/dense.py:87: UserWarning: Do not pass an `input_shape`/`input_dim` argument to a layer. When using Sequential models, prefer using an `Input(shape)` object as the first layer in the model instead.\n",
            "  super().__init__(activity_regularizer=activity_regularizer, **kwargs)\n"
          ]
        },
        {
          "output_type": "stream",
          "name": "stdout",
          "text": [
            "\u001b[1m11/11\u001b[0m \u001b[32m━━━━━━━━━━━━━━━━━━━━\u001b[0m\u001b[37m\u001b[0m \u001b[1m1s\u001b[0m 6ms/step - accuracy: 0.5337 - loss: 0.6961  \n",
            "Epoch 2/100\n",
            "\u001b[1m11/11\u001b[0m \u001b[32m━━━━━━━━━━━━━━━━━━━━\u001b[0m\u001b[37m\u001b[0m \u001b[1m0s\u001b[0m 3ms/step - accuracy: 0.7576 - loss: 0.4889 \n",
            "Epoch 3/100\n",
            "\u001b[1m11/11\u001b[0m \u001b[32m━━━━━━━━━━━━━━━━━━━━\u001b[0m\u001b[37m\u001b[0m \u001b[1m0s\u001b[0m 3ms/step - accuracy: 0.7503 - loss: 0.5231 \n",
            "Epoch 4/100\n",
            "\u001b[1m11/11\u001b[0m \u001b[32m━━━━━━━━━━━━━━━━━━━━\u001b[0m\u001b[37m\u001b[0m \u001b[1m0s\u001b[0m 3ms/step - accuracy: 0.7506 - loss: 0.4878 \n",
            "Epoch 5/100\n",
            "\u001b[1m11/11\u001b[0m \u001b[32m━━━━━━━━━━━━━━━━━━━━\u001b[0m\u001b[37m\u001b[0m \u001b[1m0s\u001b[0m 3ms/step - accuracy: 0.7439 - loss: 0.4541 \n",
            "Epoch 6/100\n",
            "\u001b[1m11/11\u001b[0m \u001b[32m━━━━━━━━━━━━━━━━━━━━\u001b[0m\u001b[37m\u001b[0m \u001b[1m0s\u001b[0m 6ms/step - accuracy: 0.7883 - loss: 0.4359 \n",
            "Epoch 7/100\n",
            "\u001b[1m11/11\u001b[0m \u001b[32m━━━━━━━━━━━━━━━━━━━━\u001b[0m\u001b[37m\u001b[0m \u001b[1m0s\u001b[0m 3ms/step - accuracy: 0.7157 - loss: 0.4993 \n",
            "Epoch 8/100\n",
            "\u001b[1m11/11\u001b[0m \u001b[32m━━━━━━━━━━━━━━━━━━━━\u001b[0m\u001b[37m\u001b[0m \u001b[1m0s\u001b[0m 3ms/step - accuracy: 0.7734 - loss: 0.4380 \n",
            "Epoch 9/100\n",
            "\u001b[1m11/11\u001b[0m \u001b[32m━━━━━━━━━━━━━━━━━━━━\u001b[0m\u001b[37m\u001b[0m \u001b[1m0s\u001b[0m 3ms/step - accuracy: 0.7780 - loss: 0.4389 \n",
            "Epoch 10/100\n",
            "\u001b[1m11/11\u001b[0m \u001b[32m━━━━━━━━━━━━━━━━━━━━\u001b[0m\u001b[37m\u001b[0m \u001b[1m0s\u001b[0m 3ms/step - accuracy: 0.7775 - loss: 0.3962 \n",
            "Epoch 11/100\n",
            "\u001b[1m11/11\u001b[0m \u001b[32m━━━━━━━━━━━━━━━━━━━━\u001b[0m\u001b[37m\u001b[0m \u001b[1m0s\u001b[0m 3ms/step - accuracy: 0.8134 - loss: 0.3525 \n",
            "Epoch 12/100\n",
            "\u001b[1m11/11\u001b[0m \u001b[32m━━━━━━━━━━━━━━━━━━━━\u001b[0m\u001b[37m\u001b[0m \u001b[1m0s\u001b[0m 3ms/step - accuracy: 0.7289 - loss: 0.4659 \n",
            "Epoch 13/100\n",
            "\u001b[1m11/11\u001b[0m \u001b[32m━━━━━━━━━━━━━━━━━━━━\u001b[0m\u001b[37m\u001b[0m \u001b[1m0s\u001b[0m 3ms/step - accuracy: 0.7612 - loss: 0.3957 \n",
            "Epoch 14/100\n",
            "\u001b[1m11/11\u001b[0m \u001b[32m━━━━━━━━━━━━━━━━━━━━\u001b[0m\u001b[37m\u001b[0m \u001b[1m0s\u001b[0m 3ms/step - accuracy: 0.7232 - loss: 0.4616 \n",
            "Epoch 15/100\n",
            "\u001b[1m11/11\u001b[0m \u001b[32m━━━━━━━━━━━━━━━━━━━━\u001b[0m\u001b[37m\u001b[0m \u001b[1m0s\u001b[0m 3ms/step - accuracy: 0.7314 - loss: 0.4787 \n",
            "Epoch 16/100\n",
            "\u001b[1m11/11\u001b[0m \u001b[32m━━━━━━━━━━━━━━━━━━━━\u001b[0m\u001b[37m\u001b[0m \u001b[1m0s\u001b[0m 3ms/step - accuracy: 0.7792 - loss: 0.4539 \n",
            "Epoch 17/100\n",
            "\u001b[1m11/11\u001b[0m \u001b[32m━━━━━━━━━━━━━━━━━━━━\u001b[0m\u001b[37m\u001b[0m \u001b[1m0s\u001b[0m 3ms/step - accuracy: 0.7810 - loss: 0.3819 \n",
            "Epoch 18/100\n",
            "\u001b[1m11/11\u001b[0m \u001b[32m━━━━━━━━━━━━━━━━━━━━\u001b[0m\u001b[37m\u001b[0m \u001b[1m0s\u001b[0m 3ms/step - accuracy: 0.7907 - loss: 0.3707 \n",
            "Epoch 19/100\n",
            "\u001b[1m11/11\u001b[0m \u001b[32m━━━━━━━━━━━━━━━━━━━━\u001b[0m\u001b[37m\u001b[0m \u001b[1m0s\u001b[0m 3ms/step - accuracy: 0.7643 - loss: 0.3836 \n",
            "Epoch 20/100\n",
            "\u001b[1m11/11\u001b[0m \u001b[32m━━━━━━━━━━━━━━━━━━━━\u001b[0m\u001b[37m\u001b[0m \u001b[1m0s\u001b[0m 3ms/step - accuracy: 0.7953 - loss: 0.3468 \n",
            "Epoch 21/100\n",
            "\u001b[1m11/11\u001b[0m \u001b[32m━━━━━━━━━━━━━━━━━━━━\u001b[0m\u001b[37m\u001b[0m \u001b[1m0s\u001b[0m 3ms/step - accuracy: 0.7897 - loss: 0.3889 \n",
            "Epoch 22/100\n",
            "\u001b[1m11/11\u001b[0m \u001b[32m━━━━━━━━━━━━━━━━━━━━\u001b[0m\u001b[37m\u001b[0m \u001b[1m0s\u001b[0m 3ms/step - accuracy: 0.7938 - loss: 0.3354 \n",
            "Epoch 23/100\n",
            "\u001b[1m11/11\u001b[0m \u001b[32m━━━━━━━━━━━━━━━━━━━━\u001b[0m\u001b[37m\u001b[0m \u001b[1m0s\u001b[0m 2ms/step - accuracy: 0.8085 - loss: 0.3342 \n",
            "Epoch 24/100\n",
            "\u001b[1m11/11\u001b[0m \u001b[32m━━━━━━━━━━━━━━━━━━━━\u001b[0m\u001b[37m\u001b[0m \u001b[1m0s\u001b[0m 3ms/step - accuracy: 0.8167 - loss: 0.3689 \n",
            "Epoch 25/100\n",
            "\u001b[1m11/11\u001b[0m \u001b[32m━━━━━━━━━━━━━━━━━━━━\u001b[0m\u001b[37m\u001b[0m \u001b[1m0s\u001b[0m 3ms/step - accuracy: 0.8010 - loss: 0.3402 \n",
            "Epoch 26/100\n",
            "\u001b[1m11/11\u001b[0m \u001b[32m━━━━━━━━━━━━━━━━━━━━\u001b[0m\u001b[37m\u001b[0m \u001b[1m0s\u001b[0m 2ms/step - accuracy: 0.8069 - loss: 0.3417 \n",
            "Epoch 27/100\n",
            "\u001b[1m11/11\u001b[0m \u001b[32m━━━━━━━━━━━━━━━━━━━━\u001b[0m\u001b[37m\u001b[0m \u001b[1m0s\u001b[0m 3ms/step - accuracy: 0.8344 - loss: 0.4036 \n",
            "Epoch 28/100\n",
            "\u001b[1m11/11\u001b[0m \u001b[32m━━━━━━━━━━━━━━━━━━━━\u001b[0m\u001b[37m\u001b[0m \u001b[1m0s\u001b[0m 2ms/step - accuracy: 0.8317 - loss: 0.3334 \n",
            "Epoch 29/100\n",
            "\u001b[1m11/11\u001b[0m \u001b[32m━━━━━━━━━━━━━━━━━━━━\u001b[0m\u001b[37m\u001b[0m \u001b[1m0s\u001b[0m 2ms/step - accuracy: 0.8599 - loss: 0.2997 \n",
            "Epoch 30/100\n",
            "\u001b[1m11/11\u001b[0m \u001b[32m━━━━━━━━━━━━━━━━━━━━\u001b[0m\u001b[37m\u001b[0m \u001b[1m0s\u001b[0m 2ms/step - accuracy: 0.8398 - loss: 0.3695 \n",
            "Epoch 31/100\n",
            "\u001b[1m11/11\u001b[0m \u001b[32m━━━━━━━━━━━━━━━━━━━━\u001b[0m\u001b[37m\u001b[0m \u001b[1m0s\u001b[0m 2ms/step - accuracy: 0.8904 - loss: 0.3108 \n",
            "Epoch 32/100\n",
            "\u001b[1m11/11\u001b[0m \u001b[32m━━━━━━━━━━━━━━━━━━━━\u001b[0m\u001b[37m\u001b[0m \u001b[1m0s\u001b[0m 3ms/step - accuracy: 0.9014 - loss: 0.2946 \n",
            "Epoch 33/100\n",
            "\u001b[1m11/11\u001b[0m \u001b[32m━━━━━━━━━━━━━━━━━━━━\u001b[0m\u001b[37m\u001b[0m \u001b[1m0s\u001b[0m 2ms/step - accuracy: 0.8924 - loss: 0.3420 \n",
            "Epoch 34/100\n",
            "\u001b[1m11/11\u001b[0m \u001b[32m━━━━━━━━━━━━━━━━━━━━\u001b[0m\u001b[37m\u001b[0m \u001b[1m0s\u001b[0m 3ms/step - accuracy: 0.9190 - loss: 0.3280 \n",
            "Epoch 35/100\n",
            "\u001b[1m11/11\u001b[0m \u001b[32m━━━━━━━━━━━━━━━━━━━━\u001b[0m\u001b[37m\u001b[0m \u001b[1m0s\u001b[0m 3ms/step - accuracy: 0.9136 - loss: 0.3016 \n",
            "Epoch 36/100\n",
            "\u001b[1m11/11\u001b[0m \u001b[32m━━━━━━━━━━━━━━━━━━━━\u001b[0m\u001b[37m\u001b[0m \u001b[1m0s\u001b[0m 2ms/step - accuracy: 0.8961 - loss: 0.3324 \n",
            "Epoch 37/100\n",
            "\u001b[1m11/11\u001b[0m \u001b[32m━━━━━━━━━━━━━━━━━━━━\u001b[0m\u001b[37m\u001b[0m \u001b[1m0s\u001b[0m 3ms/step - accuracy: 0.9180 - loss: 0.3124 \n",
            "Epoch 38/100\n",
            "\u001b[1m11/11\u001b[0m \u001b[32m━━━━━━━━━━━━━━━━━━━━\u001b[0m\u001b[37m\u001b[0m \u001b[1m0s\u001b[0m 3ms/step - accuracy: 0.8971 - loss: 0.3051 \n",
            "Epoch 39/100\n",
            "\u001b[1m11/11\u001b[0m \u001b[32m━━━━━━━━━━━━━━━━━━━━\u001b[0m\u001b[37m\u001b[0m \u001b[1m0s\u001b[0m 3ms/step - accuracy: 0.8598 - loss: 0.4018 \n",
            "Epoch 40/100\n",
            "\u001b[1m11/11\u001b[0m \u001b[32m━━━━━━━━━━━━━━━━━━━━\u001b[0m\u001b[37m\u001b[0m \u001b[1m0s\u001b[0m 4ms/step - accuracy: 0.8722 - loss: 0.3209 \n",
            "Epoch 41/100\n",
            "\u001b[1m11/11\u001b[0m \u001b[32m━━━━━━━━━━━━━━━━━━━━\u001b[0m\u001b[37m\u001b[0m \u001b[1m0s\u001b[0m 3ms/step - accuracy: 0.8645 - loss: 0.3660 \n",
            "Epoch 42/100\n",
            "\u001b[1m11/11\u001b[0m \u001b[32m━━━━━━━━━━━━━━━━━━━━\u001b[0m\u001b[37m\u001b[0m \u001b[1m0s\u001b[0m 3ms/step - accuracy: 0.9245 - loss: 0.2629 \n",
            "Epoch 43/100\n",
            "\u001b[1m11/11\u001b[0m \u001b[32m━━━━━━━━━━━━━━━━━━━━\u001b[0m\u001b[37m\u001b[0m \u001b[1m0s\u001b[0m 3ms/step - accuracy: 0.9192 - loss: 0.2384 \n",
            "Epoch 44/100\n",
            "\u001b[1m11/11\u001b[0m \u001b[32m━━━━━━━━━━━━━━━━━━━━\u001b[0m\u001b[37m\u001b[0m \u001b[1m0s\u001b[0m 3ms/step - accuracy: 0.8821 - loss: 0.2571 \n",
            "Epoch 45/100\n",
            "\u001b[1m11/11\u001b[0m \u001b[32m━━━━━━━━━━━━━━━━━━━━\u001b[0m\u001b[37m\u001b[0m \u001b[1m0s\u001b[0m 3ms/step - accuracy: 0.8740 - loss: 0.3039 \n",
            "Epoch 46/100\n",
            "\u001b[1m11/11\u001b[0m \u001b[32m━━━━━━━━━━━━━━━━━━━━\u001b[0m\u001b[37m\u001b[0m \u001b[1m0s\u001b[0m 2ms/step - accuracy: 0.8924 - loss: 0.3146 \n",
            "Epoch 47/100\n",
            "\u001b[1m11/11\u001b[0m \u001b[32m━━━━━━━━━━━━━━━━━━━━\u001b[0m\u001b[37m\u001b[0m \u001b[1m0s\u001b[0m 2ms/step - accuracy: 0.9327 - loss: 0.2103 \n",
            "Epoch 48/100\n",
            "\u001b[1m11/11\u001b[0m \u001b[32m━━━━━━━━━━━━━━━━━━━━\u001b[0m\u001b[37m\u001b[0m \u001b[1m0s\u001b[0m 3ms/step - accuracy: 0.9240 - loss: 0.2339 \n",
            "Epoch 49/100\n",
            "\u001b[1m11/11\u001b[0m \u001b[32m━━━━━━━━━━━━━━━━━━━━\u001b[0m\u001b[37m\u001b[0m \u001b[1m0s\u001b[0m 3ms/step - accuracy: 0.8682 - loss: 0.2682 \n",
            "Epoch 50/100\n",
            "\u001b[1m11/11\u001b[0m \u001b[32m━━━━━━━━━━━━━━━━━━━━\u001b[0m\u001b[37m\u001b[0m \u001b[1m0s\u001b[0m 2ms/step - accuracy: 0.8322 - loss: 0.3377 \n",
            "Epoch 51/100\n",
            "\u001b[1m11/11\u001b[0m \u001b[32m━━━━━━━━━━━━━━━━━━━━\u001b[0m\u001b[37m\u001b[0m \u001b[1m0s\u001b[0m 2ms/step - accuracy: 0.8819 - loss: 0.2758 \n",
            "Epoch 52/100\n",
            "\u001b[1m11/11\u001b[0m \u001b[32m━━━━━━━━━━━━━━━━━━━━\u001b[0m\u001b[37m\u001b[0m \u001b[1m0s\u001b[0m 3ms/step - accuracy: 0.8252 - loss: 0.3354 \n",
            "Epoch 53/100\n",
            "\u001b[1m11/11\u001b[0m \u001b[32m━━━━━━━━━━━━━━━━━━━━\u001b[0m\u001b[37m\u001b[0m \u001b[1m0s\u001b[0m 3ms/step - accuracy: 0.8563 - loss: 0.2793 \n",
            "Epoch 54/100\n",
            "\u001b[1m11/11\u001b[0m \u001b[32m━━━━━━━━━━━━━━━━━━━━\u001b[0m\u001b[37m\u001b[0m \u001b[1m0s\u001b[0m 2ms/step - accuracy: 0.8648 - loss: 0.3316 \n",
            "Epoch 55/100\n",
            "\u001b[1m11/11\u001b[0m \u001b[32m━━━━━━━━━━━━━━━━━━━━\u001b[0m\u001b[37m\u001b[0m \u001b[1m0s\u001b[0m 3ms/step - accuracy: 0.9606 - loss: 0.1817 \n",
            "Epoch 56/100\n",
            "\u001b[1m11/11\u001b[0m \u001b[32m━━━━━━━━━━━━━━━━━━━━\u001b[0m\u001b[37m\u001b[0m \u001b[1m0s\u001b[0m 3ms/step - accuracy: 0.8888 - loss: 0.3149 \n",
            "Epoch 57/100\n",
            "\u001b[1m11/11\u001b[0m \u001b[32m━━━━━━━━━━━━━━━━━━━━\u001b[0m\u001b[37m\u001b[0m \u001b[1m0s\u001b[0m 3ms/step - accuracy: 0.9033 - loss: 0.2473 \n",
            "Epoch 58/100\n",
            "\u001b[1m11/11\u001b[0m \u001b[32m━━━━━━━━━━━━━━━━━━━━\u001b[0m\u001b[37m\u001b[0m \u001b[1m0s\u001b[0m 3ms/step - accuracy: 0.8943 - loss: 0.2568 \n",
            "Epoch 59/100\n",
            "\u001b[1m11/11\u001b[0m \u001b[32m━━━━━━━━━━━━━━━━━━━━\u001b[0m\u001b[37m\u001b[0m \u001b[1m0s\u001b[0m 3ms/step - accuracy: 0.9269 - loss: 0.2476 \n",
            "Epoch 60/100\n",
            "\u001b[1m11/11\u001b[0m \u001b[32m━━━━━━━━━━━━━━━━━━━━\u001b[0m\u001b[37m\u001b[0m \u001b[1m0s\u001b[0m 3ms/step - accuracy: 0.9530 - loss: 0.2294 \n",
            "Epoch 61/100\n",
            "\u001b[1m11/11\u001b[0m \u001b[32m━━━━━━━━━━━━━━━━━━━━\u001b[0m\u001b[37m\u001b[0m \u001b[1m0s\u001b[0m 3ms/step - accuracy: 0.8518 - loss: 0.3286 \n",
            "Epoch 62/100\n",
            "\u001b[1m11/11\u001b[0m \u001b[32m━━━━━━━━━━━━━━━━━━━━\u001b[0m\u001b[37m\u001b[0m \u001b[1m0s\u001b[0m 3ms/step - accuracy: 0.8793 - loss: 0.2642 \n",
            "Epoch 63/100\n",
            "\u001b[1m11/11\u001b[0m \u001b[32m━━━━━━━━━━━━━━━━━━━━\u001b[0m\u001b[37m\u001b[0m \u001b[1m0s\u001b[0m 3ms/step - accuracy: 0.9348 - loss: 0.2330 \n",
            "Epoch 64/100\n",
            "\u001b[1m11/11\u001b[0m \u001b[32m━━━━━━━━━━━━━━━━━━━━\u001b[0m\u001b[37m\u001b[0m \u001b[1m0s\u001b[0m 3ms/step - accuracy: 0.9366 - loss: 0.2117 \n",
            "Epoch 65/100\n",
            "\u001b[1m11/11\u001b[0m \u001b[32m━━━━━━━━━━━━━━━━━━━━\u001b[0m\u001b[37m\u001b[0m \u001b[1m0s\u001b[0m 3ms/step - accuracy: 0.9053 - loss: 0.2755 \n",
            "Epoch 66/100\n",
            "\u001b[1m11/11\u001b[0m \u001b[32m━━━━━━━━━━━━━━━━━━━━\u001b[0m\u001b[37m\u001b[0m \u001b[1m0s\u001b[0m 3ms/step - accuracy: 0.8555 - loss: 0.2546 \n",
            "Epoch 67/100\n",
            "\u001b[1m11/11\u001b[0m \u001b[32m━━━━━━━━━━━━━━━━━━━━\u001b[0m\u001b[37m\u001b[0m \u001b[1m0s\u001b[0m 3ms/step - accuracy: 0.8794 - loss: 0.2730 \n",
            "Epoch 68/100\n",
            "\u001b[1m11/11\u001b[0m \u001b[32m━━━━━━━━━━━━━━━━━━━━\u001b[0m\u001b[37m\u001b[0m \u001b[1m0s\u001b[0m 2ms/step - accuracy: 0.9103 - loss: 0.2756 \n",
            "Epoch 69/100\n",
            "\u001b[1m11/11\u001b[0m \u001b[32m━━━━━━━━━━━━━━━━━━━━\u001b[0m\u001b[37m\u001b[0m \u001b[1m0s\u001b[0m 3ms/step - accuracy: 0.9387 - loss: 0.2123 \n",
            "Epoch 70/100\n",
            "\u001b[1m11/11\u001b[0m \u001b[32m━━━━━━━━━━━━━━━━━━━━\u001b[0m\u001b[37m\u001b[0m \u001b[1m0s\u001b[0m 3ms/step - accuracy: 0.9048 - loss: 0.2547 \n",
            "Epoch 71/100\n",
            "\u001b[1m11/11\u001b[0m \u001b[32m━━━━━━━━━━━━━━━━━━━━\u001b[0m\u001b[37m\u001b[0m \u001b[1m0s\u001b[0m 3ms/step - accuracy: 0.8856 - loss: 0.2611 \n",
            "Epoch 72/100\n",
            "\u001b[1m11/11\u001b[0m \u001b[32m━━━━━━━━━━━━━━━━━━━━\u001b[0m\u001b[37m\u001b[0m \u001b[1m0s\u001b[0m 3ms/step - accuracy: 0.9144 - loss: 0.2837 \n",
            "Epoch 73/100\n",
            "\u001b[1m11/11\u001b[0m \u001b[32m━━━━━━━━━━━━━━━━━━━━\u001b[0m\u001b[37m\u001b[0m \u001b[1m0s\u001b[0m 3ms/step - accuracy: 0.9411 - loss: 0.2139 \n",
            "Epoch 74/100\n",
            "\u001b[1m11/11\u001b[0m \u001b[32m━━━━━━━━━━━━━━━━━━━━\u001b[0m\u001b[37m\u001b[0m \u001b[1m0s\u001b[0m 3ms/step - accuracy: 0.9383 - loss: 0.1825 \n",
            "Epoch 75/100\n",
            "\u001b[1m11/11\u001b[0m \u001b[32m━━━━━━━━━━━━━━━━━━━━\u001b[0m\u001b[37m\u001b[0m \u001b[1m0s\u001b[0m 3ms/step - accuracy: 0.9174 - loss: 0.2089 \n",
            "Epoch 76/100\n",
            "\u001b[1m11/11\u001b[0m \u001b[32m━━━━━━━━━━━━━━━━━━━━\u001b[0m\u001b[37m\u001b[0m \u001b[1m0s\u001b[0m 3ms/step - accuracy: 0.9186 - loss: 0.2597 \n",
            "Epoch 77/100\n",
            "\u001b[1m11/11\u001b[0m \u001b[32m━━━━━━━━━━━━━━━━━━━━\u001b[0m\u001b[37m\u001b[0m \u001b[1m0s\u001b[0m 3ms/step - accuracy: 0.8771 - loss: 0.2534 \n",
            "Epoch 78/100\n",
            "\u001b[1m11/11\u001b[0m \u001b[32m━━━━━━━━━━━━━━━━━━━━\u001b[0m\u001b[37m\u001b[0m \u001b[1m0s\u001b[0m 2ms/step - accuracy: 0.8864 - loss: 0.2404 \n",
            "Epoch 79/100\n",
            "\u001b[1m11/11\u001b[0m \u001b[32m━━━━━━━━━━━━━━━━━━━━\u001b[0m\u001b[37m\u001b[0m \u001b[1m0s\u001b[0m 3ms/step - accuracy: 0.9024 - loss: 0.2571 \n",
            "Epoch 80/100\n",
            "\u001b[1m11/11\u001b[0m \u001b[32m━━━━━━━━━━━━━━━━━━━━\u001b[0m\u001b[37m\u001b[0m \u001b[1m0s\u001b[0m 3ms/step - accuracy: 0.9035 - loss: 0.2428 \n",
            "Epoch 81/100\n",
            "\u001b[1m11/11\u001b[0m \u001b[32m━━━━━━━━━━━━━━━━━━━━\u001b[0m\u001b[37m\u001b[0m \u001b[1m0s\u001b[0m 3ms/step - accuracy: 0.9459 - loss: 0.2099 \n",
            "Epoch 82/100\n",
            "\u001b[1m11/11\u001b[0m \u001b[32m━━━━━━━━━━━━━━━━━━━━\u001b[0m\u001b[37m\u001b[0m \u001b[1m0s\u001b[0m 3ms/step - accuracy: 0.8973 - loss: 0.2387 \n",
            "Epoch 83/100\n",
            "\u001b[1m11/11\u001b[0m \u001b[32m━━━━━━━━━━━━━━━━━━━━\u001b[0m\u001b[37m\u001b[0m \u001b[1m0s\u001b[0m 3ms/step - accuracy: 0.9001 - loss: 0.2065 \n",
            "Epoch 84/100\n",
            "\u001b[1m11/11\u001b[0m \u001b[32m━━━━━━━━━━━━━━━━━━━━\u001b[0m\u001b[37m\u001b[0m \u001b[1m0s\u001b[0m 3ms/step - accuracy: 0.8502 - loss: 0.3292 \n",
            "Epoch 85/100\n",
            "\u001b[1m11/11\u001b[0m \u001b[32m━━━━━━━━━━━━━━━━━━━━\u001b[0m\u001b[37m\u001b[0m \u001b[1m0s\u001b[0m 2ms/step - accuracy: 0.8825 - loss: 0.2208 \n",
            "Epoch 86/100\n",
            "\u001b[1m11/11\u001b[0m \u001b[32m━━━━━━━━━━━━━━━━━━━━\u001b[0m\u001b[37m\u001b[0m \u001b[1m0s\u001b[0m 2ms/step - accuracy: 0.9040 - loss: 0.2558 \n",
            "Epoch 87/100\n",
            "\u001b[1m11/11\u001b[0m \u001b[32m━━━━━━━━━━━━━━━━━━━━\u001b[0m\u001b[37m\u001b[0m \u001b[1m0s\u001b[0m 2ms/step - accuracy: 0.9257 - loss: 0.2142 \n",
            "Epoch 88/100\n",
            "\u001b[1m11/11\u001b[0m \u001b[32m━━━━━━━━━━━━━━━━━━━━\u001b[0m\u001b[37m\u001b[0m \u001b[1m0s\u001b[0m 2ms/step - accuracy: 0.8686 - loss: 0.2779 \n",
            "Epoch 89/100\n",
            "\u001b[1m11/11\u001b[0m \u001b[32m━━━━━━━━━━━━━━━━━━━━\u001b[0m\u001b[37m\u001b[0m \u001b[1m0s\u001b[0m 2ms/step - accuracy: 0.9202 - loss: 0.2367 \n",
            "Epoch 90/100\n",
            "\u001b[1m11/11\u001b[0m \u001b[32m━━━━━━━━━━━━━━━━━━━━\u001b[0m\u001b[37m\u001b[0m \u001b[1m0s\u001b[0m 3ms/step - accuracy: 0.8938 - loss: 0.2743 \n",
            "Epoch 91/100\n",
            "\u001b[1m11/11\u001b[0m \u001b[32m━━━━━━━━━━━━━━━━━━━━\u001b[0m\u001b[37m\u001b[0m \u001b[1m0s\u001b[0m 3ms/step - accuracy: 0.9313 - loss: 0.1753 \n",
            "Epoch 92/100\n",
            "\u001b[1m11/11\u001b[0m \u001b[32m━━━━━━━━━━━━━━━━━━━━\u001b[0m\u001b[37m\u001b[0m \u001b[1m0s\u001b[0m 3ms/step - accuracy: 0.8687 - loss: 0.2941 \n",
            "Epoch 93/100\n",
            "\u001b[1m11/11\u001b[0m \u001b[32m━━━━━━━━━━━━━━━━━━━━\u001b[0m\u001b[37m\u001b[0m \u001b[1m0s\u001b[0m 2ms/step - accuracy: 0.8847 - loss: 0.2921 \n",
            "Epoch 94/100\n",
            "\u001b[1m11/11\u001b[0m \u001b[32m━━━━━━━━━━━━━━━━━━━━\u001b[0m\u001b[37m\u001b[0m \u001b[1m0s\u001b[0m 3ms/step - accuracy: 0.9032 - loss: 0.2524 \n",
            "Epoch 95/100\n",
            "\u001b[1m11/11\u001b[0m \u001b[32m━━━━━━━━━━━━━━━━━━━━\u001b[0m\u001b[37m\u001b[0m \u001b[1m0s\u001b[0m 3ms/step - accuracy: 0.9064 - loss: 0.2066 \n",
            "Epoch 96/100\n",
            "\u001b[1m11/11\u001b[0m \u001b[32m━━━━━━━━━━━━━━━━━━━━\u001b[0m\u001b[37m\u001b[0m \u001b[1m0s\u001b[0m 3ms/step - accuracy: 0.9298 - loss: 0.1930 \n",
            "Epoch 97/100\n",
            "\u001b[1m11/11\u001b[0m \u001b[32m━━━━━━━━━━━━━━━━━━━━\u001b[0m\u001b[37m\u001b[0m \u001b[1m0s\u001b[0m 3ms/step - accuracy: 0.9276 - loss: 0.2384 \n",
            "Epoch 98/100\n",
            "\u001b[1m11/11\u001b[0m \u001b[32m━━━━━━━━━━━━━━━━━━━━\u001b[0m\u001b[37m\u001b[0m \u001b[1m0s\u001b[0m 3ms/step - accuracy: 0.9167 - loss: 0.2295 \n",
            "Epoch 99/100\n",
            "\u001b[1m11/11\u001b[0m \u001b[32m━━━━━━━━━━━━━━━━━━━━\u001b[0m\u001b[37m\u001b[0m \u001b[1m0s\u001b[0m 3ms/step - accuracy: 0.9183 - loss: 0.2040 \n",
            "Epoch 100/100\n",
            "\u001b[1m11/11\u001b[0m \u001b[32m━━━━━━━━━━━━━━━━━━━━\u001b[0m\u001b[37m\u001b[0m \u001b[1m0s\u001b[0m 3ms/step - accuracy: 0.9184 - loss: 0.2627 \n"
          ]
        },
        {
          "output_type": "execute_result",
          "data": {
            "text/plain": [
              "<keras.src.callbacks.history.History at 0x79412d1bbe50>"
            ]
          },
          "metadata": {},
          "execution_count": 43
        }
      ]
    },
    {
      "cell_type": "code",
      "source": [
        "model.summary()"
      ],
      "metadata": {
        "colab": {
          "base_uri": "https://localhost:8080/",
          "height": 327
        },
        "id": "TAkgnvyb0JKv",
        "outputId": "070ea713-1b17-4a9c-e77b-eb2e7e368d1a"
      },
      "id": "TAkgnvyb0JKv",
      "execution_count": 44,
      "outputs": [
        {
          "output_type": "display_data",
          "data": {
            "text/plain": [
              "\u001b[1mModel: \"sequential_2\"\u001b[0m\n"
            ],
            "text/html": [
              "<pre style=\"white-space:pre;overflow-x:auto;line-height:normal;font-family:Menlo,'DejaVu Sans Mono',consolas,'Courier New',monospace\"><span style=\"font-weight: bold\">Model: \"sequential_2\"</span>\n",
              "</pre>\n"
            ]
          },
          "metadata": {}
        },
        {
          "output_type": "display_data",
          "data": {
            "text/plain": [
              "┏━━━━━━━━━━━━━━━━━━━━━━━━━━━━━━━━━━━━━━┳━━━━━━━━━━━━━━━━━━━━━━━━━━━━━┳━━━━━━━━━━━━━━━━━┓\n",
              "┃\u001b[1m \u001b[0m\u001b[1mLayer (type)                        \u001b[0m\u001b[1m \u001b[0m┃\u001b[1m \u001b[0m\u001b[1mOutput Shape               \u001b[0m\u001b[1m \u001b[0m┃\u001b[1m \u001b[0m\u001b[1m        Param #\u001b[0m\u001b[1m \u001b[0m┃\n",
              "┡━━━━━━━━━━━━━━━━━━━━━━━━━━━━━━━━━━━━━━╇━━━━━━━━━━━━━━━━━━━━━━━━━━━━━╇━━━━━━━━━━━━━━━━━┩\n",
              "│ dense_7 (\u001b[38;5;33mDense\u001b[0m)                      │ (\u001b[38;5;45mNone\u001b[0m, \u001b[38;5;34m128\u001b[0m)                 │             \u001b[38;5;34m384\u001b[0m │\n",
              "├──────────────────────────────────────┼─────────────────────────────┼─────────────────┤\n",
              "│ dropout_5 (\u001b[38;5;33mDropout\u001b[0m)                  │ (\u001b[38;5;45mNone\u001b[0m, \u001b[38;5;34m128\u001b[0m)                 │               \u001b[38;5;34m0\u001b[0m │\n",
              "├──────────────────────────────────────┼─────────────────────────────┼─────────────────┤\n",
              "│ dense_8 (\u001b[38;5;33mDense\u001b[0m)                      │ (\u001b[38;5;45mNone\u001b[0m, \u001b[38;5;34m64\u001b[0m)                  │           \u001b[38;5;34m8,256\u001b[0m │\n",
              "├──────────────────────────────────────┼─────────────────────────────┼─────────────────┤\n",
              "│ dropout_6 (\u001b[38;5;33mDropout\u001b[0m)                  │ (\u001b[38;5;45mNone\u001b[0m, \u001b[38;5;34m64\u001b[0m)                  │               \u001b[38;5;34m0\u001b[0m │\n",
              "├──────────────────────────────────────┼─────────────────────────────┼─────────────────┤\n",
              "│ dense_9 (\u001b[38;5;33mDense\u001b[0m)                      │ (\u001b[38;5;45mNone\u001b[0m, \u001b[38;5;34m2\u001b[0m)                   │             \u001b[38;5;34m130\u001b[0m │\n",
              "└──────────────────────────────────────┴─────────────────────────────┴─────────────────┘\n"
            ],
            "text/html": [
              "<pre style=\"white-space:pre;overflow-x:auto;line-height:normal;font-family:Menlo,'DejaVu Sans Mono',consolas,'Courier New',monospace\">┏━━━━━━━━━━━━━━━━━━━━━━━━━━━━━━━━━━━━━━┳━━━━━━━━━━━━━━━━━━━━━━━━━━━━━┳━━━━━━━━━━━━━━━━━┓\n",
              "┃<span style=\"font-weight: bold\"> Layer (type)                         </span>┃<span style=\"font-weight: bold\"> Output Shape                </span>┃<span style=\"font-weight: bold\">         Param # </span>┃\n",
              "┡━━━━━━━━━━━━━━━━━━━━━━━━━━━━━━━━━━━━━━╇━━━━━━━━━━━━━━━━━━━━━━━━━━━━━╇━━━━━━━━━━━━━━━━━┩\n",
              "│ dense_7 (<span style=\"color: #0087ff; text-decoration-color: #0087ff\">Dense</span>)                      │ (<span style=\"color: #00d7ff; text-decoration-color: #00d7ff\">None</span>, <span style=\"color: #00af00; text-decoration-color: #00af00\">128</span>)                 │             <span style=\"color: #00af00; text-decoration-color: #00af00\">384</span> │\n",
              "├──────────────────────────────────────┼─────────────────────────────┼─────────────────┤\n",
              "│ dropout_5 (<span style=\"color: #0087ff; text-decoration-color: #0087ff\">Dropout</span>)                  │ (<span style=\"color: #00d7ff; text-decoration-color: #00d7ff\">None</span>, <span style=\"color: #00af00; text-decoration-color: #00af00\">128</span>)                 │               <span style=\"color: #00af00; text-decoration-color: #00af00\">0</span> │\n",
              "├──────────────────────────────────────┼─────────────────────────────┼─────────────────┤\n",
              "│ dense_8 (<span style=\"color: #0087ff; text-decoration-color: #0087ff\">Dense</span>)                      │ (<span style=\"color: #00d7ff; text-decoration-color: #00d7ff\">None</span>, <span style=\"color: #00af00; text-decoration-color: #00af00\">64</span>)                  │           <span style=\"color: #00af00; text-decoration-color: #00af00\">8,256</span> │\n",
              "├──────────────────────────────────────┼─────────────────────────────┼─────────────────┤\n",
              "│ dropout_6 (<span style=\"color: #0087ff; text-decoration-color: #0087ff\">Dropout</span>)                  │ (<span style=\"color: #00d7ff; text-decoration-color: #00d7ff\">None</span>, <span style=\"color: #00af00; text-decoration-color: #00af00\">64</span>)                  │               <span style=\"color: #00af00; text-decoration-color: #00af00\">0</span> │\n",
              "├──────────────────────────────────────┼─────────────────────────────┼─────────────────┤\n",
              "│ dense_9 (<span style=\"color: #0087ff; text-decoration-color: #0087ff\">Dense</span>)                      │ (<span style=\"color: #00d7ff; text-decoration-color: #00d7ff\">None</span>, <span style=\"color: #00af00; text-decoration-color: #00af00\">2</span>)                   │             <span style=\"color: #00af00; text-decoration-color: #00af00\">130</span> │\n",
              "└──────────────────────────────────────┴─────────────────────────────┴─────────────────┘\n",
              "</pre>\n"
            ]
          },
          "metadata": {}
        },
        {
          "output_type": "display_data",
          "data": {
            "text/plain": [
              "\u001b[1m Total params: \u001b[0m\u001b[38;5;34m26,312\u001b[0m (102.79 KB)\n"
            ],
            "text/html": [
              "<pre style=\"white-space:pre;overflow-x:auto;line-height:normal;font-family:Menlo,'DejaVu Sans Mono',consolas,'Courier New',monospace\"><span style=\"font-weight: bold\"> Total params: </span><span style=\"color: #00af00; text-decoration-color: #00af00\">26,312</span> (102.79 KB)\n",
              "</pre>\n"
            ]
          },
          "metadata": {}
        },
        {
          "output_type": "display_data",
          "data": {
            "text/plain": [
              "\u001b[1m Trainable params: \u001b[0m\u001b[38;5;34m8,770\u001b[0m (34.26 KB)\n"
            ],
            "text/html": [
              "<pre style=\"white-space:pre;overflow-x:auto;line-height:normal;font-family:Menlo,'DejaVu Sans Mono',consolas,'Courier New',monospace\"><span style=\"font-weight: bold\"> Trainable params: </span><span style=\"color: #00af00; text-decoration-color: #00af00\">8,770</span> (34.26 KB)\n",
              "</pre>\n"
            ]
          },
          "metadata": {}
        },
        {
          "output_type": "display_data",
          "data": {
            "text/plain": [
              "\u001b[1m Non-trainable params: \u001b[0m\u001b[38;5;34m0\u001b[0m (0.00 B)\n"
            ],
            "text/html": [
              "<pre style=\"white-space:pre;overflow-x:auto;line-height:normal;font-family:Menlo,'DejaVu Sans Mono',consolas,'Courier New',monospace\"><span style=\"font-weight: bold\"> Non-trainable params: </span><span style=\"color: #00af00; text-decoration-color: #00af00\">0</span> (0.00 B)\n",
              "</pre>\n"
            ]
          },
          "metadata": {}
        },
        {
          "output_type": "display_data",
          "data": {
            "text/plain": [
              "\u001b[1m Optimizer params: \u001b[0m\u001b[38;5;34m17,542\u001b[0m (68.53 KB)\n"
            ],
            "text/html": [
              "<pre style=\"white-space:pre;overflow-x:auto;line-height:normal;font-family:Menlo,'DejaVu Sans Mono',consolas,'Courier New',monospace\"><span style=\"font-weight: bold\"> Optimizer params: </span><span style=\"color: #00af00; text-decoration-color: #00af00\">17,542</span> (68.53 KB)\n",
              "</pre>\n"
            ]
          },
          "metadata": {}
        }
      ]
    },
    {
      "cell_type": "code",
      "source": [
        "categorised_y"
      ],
      "metadata": {
        "colab": {
          "base_uri": "https://localhost:8080/"
        },
        "id": "gPGuZYRWh0ND",
        "outputId": "e3fe1203-7177-4463-daf1-8d39484119d2"
      },
      "id": "gPGuZYRWh0ND",
      "execution_count": 45,
      "outputs": [
        {
          "output_type": "execute_result",
          "data": {
            "text/plain": [
              "array([[1., 0.],\n",
              "       [1., 0.],\n",
              "       [1., 0.],\n",
              "       [1., 0.],\n",
              "       [1., 0.],\n",
              "       [1., 0.],\n",
              "       [1., 0.],\n",
              "       [1., 0.],\n",
              "       [1., 0.],\n",
              "       [1., 0.],\n",
              "       [1., 0.],\n",
              "       [0., 1.],\n",
              "       [1., 0.],\n",
              "       [1., 0.],\n",
              "       [1., 0.],\n",
              "       [1., 0.],\n",
              "       [1., 0.],\n",
              "       [1., 0.],\n",
              "       [1., 0.],\n",
              "       [1., 0.],\n",
              "       [1., 0.],\n",
              "       [1., 0.],\n",
              "       [1., 0.],\n",
              "       [0., 1.],\n",
              "       [1., 0.],\n",
              "       [0., 1.],\n",
              "       [1., 0.],\n",
              "       [1., 0.],\n",
              "       [1., 0.],\n",
              "       [1., 0.],\n",
              "       [1., 0.],\n",
              "       [1., 0.],\n",
              "       [1., 0.],\n",
              "       [0., 1.],\n",
              "       [0., 1.],\n",
              "       [1., 0.],\n",
              "       [0., 1.],\n",
              "       [1., 0.],\n",
              "       [1., 0.],\n",
              "       [0., 1.],\n",
              "       [1., 0.],\n",
              "       [1., 0.],\n",
              "       [1., 0.],\n",
              "       [1., 0.],\n",
              "       [1., 0.],\n",
              "       [1., 0.],\n",
              "       [1., 0.],\n",
              "       [1., 0.],\n",
              "       [1., 0.],\n",
              "       [0., 1.],\n",
              "       [1., 0.],\n",
              "       [1., 0.],\n",
              "       [1., 0.],\n",
              "       [1., 0.],\n",
              "       [1., 0.],\n",
              "       [1., 0.],\n",
              "       [1., 0.],\n",
              "       [1., 0.],\n",
              "       [1., 0.],\n",
              "       [0., 1.],\n",
              "       [1., 0.],\n",
              "       [0., 1.],\n",
              "       [1., 0.],\n",
              "       [0., 1.],\n",
              "       [1., 0.],\n",
              "       [1., 0.],\n",
              "       [1., 0.],\n",
              "       [1., 0.],\n",
              "       [1., 0.],\n",
              "       [1., 0.],\n",
              "       [1., 0.],\n",
              "       [1., 0.],\n",
              "       [1., 0.],\n",
              "       [1., 0.],\n",
              "       [1., 0.],\n",
              "       [1., 0.],\n",
              "       [1., 0.],\n",
              "       [0., 1.],\n",
              "       [1., 0.],\n",
              "       [1., 0.],\n",
              "       [1., 0.],\n",
              "       [1., 0.],\n",
              "       [1., 0.],\n",
              "       [1., 0.],\n",
              "       [1., 0.],\n",
              "       [1., 0.],\n",
              "       [1., 0.],\n",
              "       [0., 1.],\n",
              "       [0., 1.],\n",
              "       [1., 0.],\n",
              "       [1., 0.],\n",
              "       [1., 0.],\n",
              "       [1., 0.],\n",
              "       [0., 1.],\n",
              "       [0., 1.],\n",
              "       [0., 1.],\n",
              "       [1., 0.],\n",
              "       [0., 1.],\n",
              "       [1., 0.],\n",
              "       [1., 0.],\n",
              "       [0., 1.],\n",
              "       [0., 1.],\n",
              "       [0., 1.],\n",
              "       [0., 1.],\n",
              "       [1., 0.],\n",
              "       [0., 1.],\n",
              "       [0., 1.],\n",
              "       [0., 1.],\n",
              "       [0., 1.],\n",
              "       [1., 0.]])"
            ]
          },
          "metadata": {},
          "execution_count": 45
        }
      ]
    },
    {
      "cell_type": "markdown",
      "source": [
        "## PyTorch"
      ],
      "metadata": {
        "id": "LLI2RVLf3Iam"
      },
      "id": "LLI2RVLf3Iam"
    },
    {
      "cell_type": "code",
      "source": [
        "import torch\n",
        "import torch.nn as nn\n",
        "import torch.optim as optim\n",
        "import torch.nn.functional as F\n",
        "from torch.utils.data import DataLoader, Dataset, TensorDataset\n",
        "\n",
        "class OneCircleModel(nn.Module):\n",
        "  def __init__(self):\n",
        "    super().__init__()\n",
        "    self.fc1 = nn.Linear(2, 128)\n",
        "    self.fc2 = nn.Linear(128, 64)\n",
        "    self.fc3 = nn.Linear(64, 2)\n",
        "    self.dropout = nn.Dropout(0.2)\n",
        "\n",
        "  def forward(self, x):\n",
        "    x = F.relu(self.fc1(x))\n",
        "    x = self.dropout(x)\n",
        "    x = F.relu(self.fc2(x))\n",
        "    x = self.dropout(x)\n",
        "    # x = F.relu(self.fc3(x))\n",
        "    x = F.softmax(self.fc3(x), dim=1)\n",
        "    return x\n",
        "\n",
        "# prepare data\n",
        "batch_size=10\n",
        "categorised_y = F.one_hot(torch.tensor(y), 2).float()\n",
        "dataset = TensorDataset(torch.tensor(X, dtype=torch.float32),\n",
        "                        categorised_y)\n",
        "dataloader = DataLoader(dataset, batch_size=batch_size, shuffle=True)\n",
        "\n",
        "# create model\n",
        "model2 = OneCircleModel()\n",
        "criterion = nn.CrossEntropyLoss()\n",
        "optimiser = optim.Adam(model2.parameters(), lr=0.001)\n",
        "num_epochs = 100\n",
        "for epoch in range(num_epochs):\n",
        "  model2.train()\n",
        "\n",
        "  for features, labels in dataloader:\n",
        "    outputs = model2(features)\n",
        "    loss = criterion(outputs, labels)\n",
        "\n",
        "    # back prop\n",
        "    optimiser.zero_grad()\n",
        "    loss.backward()\n",
        "    optimiser.step()\n",
        "  print(f\"Epoch [{epoch}/{num_epochs}], loss: {loss.item():.4f}\")\n"
      ],
      "metadata": {
        "colab": {
          "base_uri": "https://localhost:8080/"
        },
        "id": "RmOa6ot_3J5G",
        "outputId": "b641864e-5c95-45aa-a2a9-f52943b04869"
      },
      "id": "RmOa6ot_3J5G",
      "execution_count": 46,
      "outputs": [
        {
          "output_type": "stream",
          "name": "stdout",
          "text": [
            "Epoch [0/100], loss: 0.6161\n",
            "Epoch [1/100], loss: 0.5541\n",
            "Epoch [2/100], loss: 0.4954\n",
            "Epoch [3/100], loss: 0.5023\n",
            "Epoch [4/100], loss: 0.5292\n",
            "Epoch [5/100], loss: 0.5579\n",
            "Epoch [6/100], loss: 0.5291\n",
            "Epoch [7/100], loss: 0.5764\n",
            "Epoch [8/100], loss: 0.4955\n",
            "Epoch [9/100], loss: 0.6076\n",
            "Epoch [10/100], loss: 0.6681\n",
            "Epoch [11/100], loss: 0.4628\n",
            "Epoch [12/100], loss: 0.4274\n",
            "Epoch [13/100], loss: 0.6815\n",
            "Epoch [14/100], loss: 0.6057\n",
            "Epoch [15/100], loss: 0.3492\n",
            "Epoch [16/100], loss: 0.4382\n",
            "Epoch [17/100], loss: 0.4854\n",
            "Epoch [18/100], loss: 0.3852\n",
            "Epoch [19/100], loss: 0.5759\n",
            "Epoch [20/100], loss: 0.6075\n",
            "Epoch [21/100], loss: 0.5043\n",
            "Epoch [22/100], loss: 0.4457\n",
            "Epoch [23/100], loss: 0.5015\n",
            "Epoch [24/100], loss: 0.3690\n",
            "Epoch [25/100], loss: 0.4644\n",
            "Epoch [26/100], loss: 0.3259\n",
            "Epoch [27/100], loss: 0.4214\n",
            "Epoch [28/100], loss: 0.4349\n",
            "Epoch [29/100], loss: 0.4461\n",
            "Epoch [30/100], loss: 0.4107\n",
            "Epoch [31/100], loss: 0.4614\n",
            "Epoch [32/100], loss: 0.3653\n",
            "Epoch [33/100], loss: 0.4378\n",
            "Epoch [34/100], loss: 0.3933\n",
            "Epoch [35/100], loss: 0.3294\n",
            "Epoch [36/100], loss: 0.3973\n",
            "Epoch [37/100], loss: 0.3347\n",
            "Epoch [38/100], loss: 0.5395\n",
            "Epoch [39/100], loss: 0.3434\n",
            "Epoch [40/100], loss: 0.4439\n",
            "Epoch [41/100], loss: 0.3541\n",
            "Epoch [42/100], loss: 0.3245\n",
            "Epoch [43/100], loss: 0.3603\n",
            "Epoch [44/100], loss: 0.3393\n",
            "Epoch [45/100], loss: 0.5209\n",
            "Epoch [46/100], loss: 0.3982\n",
            "Epoch [47/100], loss: 0.3422\n",
            "Epoch [48/100], loss: 0.3187\n",
            "Epoch [49/100], loss: 0.3851\n",
            "Epoch [50/100], loss: 0.3416\n",
            "Epoch [51/100], loss: 0.4248\n",
            "Epoch [52/100], loss: 0.3266\n",
            "Epoch [53/100], loss: 0.4087\n",
            "Epoch [54/100], loss: 0.4235\n",
            "Epoch [55/100], loss: 0.4331\n",
            "Epoch [56/100], loss: 0.4656\n",
            "Epoch [57/100], loss: 0.3540\n",
            "Epoch [58/100], loss: 0.3417\n",
            "Epoch [59/100], loss: 0.3515\n",
            "Epoch [60/100], loss: 0.4562\n",
            "Epoch [61/100], loss: 0.4238\n",
            "Epoch [62/100], loss: 0.5960\n",
            "Epoch [63/100], loss: 0.3894\n",
            "Epoch [64/100], loss: 0.4555\n",
            "Epoch [65/100], loss: 0.5075\n",
            "Epoch [66/100], loss: 0.3307\n",
            "Epoch [67/100], loss: 0.3220\n",
            "Epoch [68/100], loss: 0.3134\n",
            "Epoch [69/100], loss: 0.3571\n",
            "Epoch [70/100], loss: 0.4393\n",
            "Epoch [71/100], loss: 0.5176\n",
            "Epoch [72/100], loss: 0.3722\n",
            "Epoch [73/100], loss: 0.3151\n",
            "Epoch [74/100], loss: 0.4157\n",
            "Epoch [75/100], loss: 0.4177\n",
            "Epoch [76/100], loss: 0.3419\n",
            "Epoch [77/100], loss: 0.3177\n",
            "Epoch [78/100], loss: 0.3147\n",
            "Epoch [79/100], loss: 0.3942\n",
            "Epoch [80/100], loss: 0.3480\n",
            "Epoch [81/100], loss: 0.4145\n",
            "Epoch [82/100], loss: 0.3755\n",
            "Epoch [83/100], loss: 0.4134\n",
            "Epoch [84/100], loss: 0.3921\n",
            "Epoch [85/100], loss: 0.4839\n",
            "Epoch [86/100], loss: 0.3870\n",
            "Epoch [87/100], loss: 0.4386\n",
            "Epoch [88/100], loss: 0.3138\n",
            "Epoch [89/100], loss: 0.3437\n",
            "Epoch [90/100], loss: 0.3136\n",
            "Epoch [91/100], loss: 0.4488\n",
            "Epoch [92/100], loss: 0.4425\n",
            "Epoch [93/100], loss: 0.4034\n",
            "Epoch [94/100], loss: 0.3234\n",
            "Epoch [95/100], loss: 0.3321\n",
            "Epoch [96/100], loss: 0.3888\n",
            "Epoch [97/100], loss: 0.4140\n",
            "Epoch [98/100], loss: 0.4433\n",
            "Epoch [99/100], loss: 0.4150\n"
          ]
        }
      ]
    },
    {
      "cell_type": "code",
      "source": [
        "# pytorch using Sequential\n",
        "dropout_rate=0.0 # without dropout it's deterministic: the contour plot looks the same every time\n",
        "model3 = nn.Sequential(\n",
        "  nn.Linear(2, 128),\n",
        "  nn.ReLU(),\n",
        "  nn.Dropout(p=dropout_rate),\n",
        "  nn.Linear(128, 64),\n",
        "  nn.ReLU(),\n",
        "  nn.Dropout(p=dropout_rate),\n",
        "  nn.Linear(64, 2),\n",
        "  nn.Softmax(dim=1)\n",
        ")\n",
        "\n",
        "criterion = nn.CrossEntropyLoss()\n",
        "optimiser = optim.Adam(model3.parameters(), lr=0.001)\n",
        "for epoch in range(num_epochs):\n",
        "  model3.train()\n",
        "\n",
        "  for features, labels in dataloader:\n",
        "    outputs = model3(features)\n",
        "    loss = criterion(outputs, labels)\n",
        "\n",
        "    # back prop\n",
        "    optimiser.zero_grad()\n",
        "    loss.backward()\n",
        "    optimiser.step()\n",
        "  print(f\"Epoch [{epoch}/{num_epochs}], loss: {loss.item():.4f}\")\n"
      ],
      "metadata": {
        "colab": {
          "base_uri": "https://localhost:8080/"
        },
        "id": "EkZcidmugomj",
        "outputId": "059bdc62-fa3a-46f8-f7b1-34619ef033fc"
      },
      "id": "EkZcidmugomj",
      "execution_count": 47,
      "outputs": [
        {
          "output_type": "stream",
          "name": "stdout",
          "text": [
            "Epoch [0/100], loss: 0.6418\n",
            "Epoch [1/100], loss: 0.5074\n",
            "Epoch [2/100], loss: 0.5868\n",
            "Epoch [3/100], loss: 0.4232\n",
            "Epoch [4/100], loss: 0.5099\n",
            "Epoch [5/100], loss: 0.3489\n",
            "Epoch [6/100], loss: 0.4642\n",
            "Epoch [7/100], loss: 0.3658\n",
            "Epoch [8/100], loss: 0.4918\n",
            "Epoch [9/100], loss: 0.4523\n",
            "Epoch [10/100], loss: 0.4756\n",
            "Epoch [11/100], loss: 0.3401\n",
            "Epoch [12/100], loss: 0.3828\n",
            "Epoch [13/100], loss: 0.4412\n",
            "Epoch [14/100], loss: 0.5201\n",
            "Epoch [15/100], loss: 0.3825\n",
            "Epoch [16/100], loss: 0.4063\n",
            "Epoch [17/100], loss: 0.4033\n",
            "Epoch [18/100], loss: 0.4597\n",
            "Epoch [19/100], loss: 0.3428\n",
            "Epoch [20/100], loss: 0.4155\n",
            "Epoch [21/100], loss: 0.3556\n",
            "Epoch [22/100], loss: 0.3663\n",
            "Epoch [23/100], loss: 0.4301\n",
            "Epoch [24/100], loss: 0.3643\n",
            "Epoch [25/100], loss: 0.4954\n",
            "Epoch [26/100], loss: 0.3848\n",
            "Epoch [27/100], loss: 0.3248\n",
            "Epoch [28/100], loss: 0.3164\n",
            "Epoch [29/100], loss: 0.3315\n",
            "Epoch [30/100], loss: 0.3719\n",
            "Epoch [31/100], loss: 0.3717\n",
            "Epoch [32/100], loss: 0.3338\n",
            "Epoch [33/100], loss: 0.3780\n",
            "Epoch [34/100], loss: 0.3670\n",
            "Epoch [35/100], loss: 0.3260\n",
            "Epoch [36/100], loss: 0.4600\n",
            "Epoch [37/100], loss: 0.3148\n",
            "Epoch [38/100], loss: 0.3353\n",
            "Epoch [39/100], loss: 0.4484\n",
            "Epoch [40/100], loss: 0.3157\n",
            "Epoch [41/100], loss: 0.3216\n",
            "Epoch [42/100], loss: 0.3320\n",
            "Epoch [43/100], loss: 0.5256\n",
            "Epoch [44/100], loss: 0.3658\n",
            "Epoch [45/100], loss: 0.3187\n",
            "Epoch [46/100], loss: 0.4156\n",
            "Epoch [47/100], loss: 0.3283\n",
            "Epoch [48/100], loss: 0.3490\n",
            "Epoch [49/100], loss: 0.3170\n",
            "Epoch [50/100], loss: 0.3280\n",
            "Epoch [51/100], loss: 0.4178\n",
            "Epoch [52/100], loss: 0.3247\n",
            "Epoch [53/100], loss: 0.3417\n",
            "Epoch [54/100], loss: 0.3207\n",
            "Epoch [55/100], loss: 0.5133\n",
            "Epoch [56/100], loss: 0.4393\n",
            "Epoch [57/100], loss: 0.3142\n",
            "Epoch [58/100], loss: 0.3197\n",
            "Epoch [59/100], loss: 0.3252\n",
            "Epoch [60/100], loss: 0.3383\n",
            "Epoch [61/100], loss: 0.4176\n",
            "Epoch [62/100], loss: 0.4138\n",
            "Epoch [63/100], loss: 0.4239\n",
            "Epoch [64/100], loss: 0.5156\n",
            "Epoch [65/100], loss: 0.3366\n",
            "Epoch [66/100], loss: 0.4135\n",
            "Epoch [67/100], loss: 0.4542\n",
            "Epoch [68/100], loss: 0.3182\n",
            "Epoch [69/100], loss: 0.3139\n",
            "Epoch [70/100], loss: 0.3212\n",
            "Epoch [71/100], loss: 0.4136\n",
            "Epoch [72/100], loss: 0.3277\n",
            "Epoch [73/100], loss: 0.4171\n",
            "Epoch [74/100], loss: 0.5228\n",
            "Epoch [75/100], loss: 0.4282\n",
            "Epoch [76/100], loss: 0.3133\n",
            "Epoch [77/100], loss: 0.5149\n",
            "Epoch [78/100], loss: 0.3153\n",
            "Epoch [79/100], loss: 0.5318\n",
            "Epoch [80/100], loss: 0.3164\n",
            "Epoch [81/100], loss: 0.4318\n",
            "Epoch [82/100], loss: 0.4126\n",
            "Epoch [83/100], loss: 0.3238\n",
            "Epoch [84/100], loss: 0.4152\n",
            "Epoch [85/100], loss: 0.3162\n",
            "Epoch [86/100], loss: 0.4182\n",
            "Epoch [87/100], loss: 0.4133\n",
            "Epoch [88/100], loss: 0.4168\n",
            "Epoch [89/100], loss: 0.4133\n",
            "Epoch [90/100], loss: 0.4257\n",
            "Epoch [91/100], loss: 0.3175\n",
            "Epoch [92/100], loss: 0.3221\n",
            "Epoch [93/100], loss: 0.3166\n",
            "Epoch [94/100], loss: 0.4163\n",
            "Epoch [95/100], loss: 0.3325\n",
            "Epoch [96/100], loss: 0.3174\n",
            "Epoch [97/100], loss: 0.4155\n",
            "Epoch [98/100], loss: 0.3300\n",
            "Epoch [99/100], loss: 0.4144\n"
          ]
        }
      ]
    },
    {
      "cell_type": "code",
      "source": [
        "f = lambda x: int(x[1]>x[0])\n",
        "def g(Z):\n",
        "  return np.array([f(i) for i in Z])\n",
        "fig, (ax1, ax2, ax3) = plt.subplots(1,3, figsize=(15,5))\n",
        "plot_keras_model(X, y, model, ax1)\n",
        "plot_torch_model(X, y, model2, ax2)\n",
        "plot_torch_model(X, y, model3, ax3)"
      ],
      "metadata": {
        "id": "4nADHMvVmYLQ",
        "outputId": "80e51074-d0aa-47cf-aa86-5fd1372d0a2b",
        "colab": {
          "base_uri": "https://localhost:8080/",
          "height": 280
        }
      },
      "id": "4nADHMvVmYLQ",
      "execution_count": 48,
      "outputs": [
        {
          "output_type": "stream",
          "name": "stdout",
          "text": [
            "\u001b[1m50/50\u001b[0m \u001b[32m━━━━━━━━━━━━━━━━━━━━\u001b[0m\u001b[37m\u001b[0m \u001b[1m0s\u001b[0m 1ms/step \n"
          ]
        },
        {
          "output_type": "display_data",
          "data": {
            "text/plain": [
              "<Figure size 1500x500 with 3 Axes>"
            ],
            "image/png": "[encoded data removed]"
          },
          "metadata": {}
        }
      ]
    },
    {
      "cell_type": "code",
      "source": [
        "model(torch.tensor([[-1.0, -3.0]])), model(torch.tensor([[0.0, 0.0]]))"
      ],
      "metadata": {
        "id": "bwePh6NlnOhr",
        "outputId": "a58c33ba-3bb1-4608-b78c-9cde63f58457",
        "colab": {
          "base_uri": "https://localhost:8080/"
        }
      },
      "id": "bwePh6NlnOhr",
      "execution_count": 49,
      "outputs": [
        {
          "output_type": "execute_result",
          "data": {
            "text/plain": [
              "(<tf.Tensor: shape=(1, 2), dtype=float32, numpy=array([[9.994223e-01, 5.777252e-04]], dtype=float32)>,\n",
              " <tf.Tensor: shape=(1, 2), dtype=float32, numpy=array([[0.02588455, 0.9741155 ]], dtype=float32)>)"
            ]
          },
          "metadata": {},
          "execution_count": 49
        }
      ]
    },
    {
      "cell_type": "code",
      "source": [
        "with torch.no_grad():\n",
        "  out1 = model2(torch.tensor([[-1.0, -3.0]]))\n",
        "  out2 = model2(torch.tensor([[0.0, 0.0]]))\n",
        "  out3 = model3(torch.tensor([[-1.0, -3.0]]))\n",
        "  out4 = model3(torch.tensor([[0.0, 0.0]]))\n",
        "out1, out2, out3, out4"
      ],
      "metadata": {
        "colab": {
          "base_uri": "https://localhost:8080/"
        },
        "id": "_fAvyhT2Rotv",
        "outputId": "e31edfe8-076f-422e-ba6f-97d63e9a7af2"
      },
      "id": "_fAvyhT2Rotv",
      "execution_count": 50,
      "outputs": [
        {
          "output_type": "execute_result",
          "data": {
            "text/plain": [
              "(tensor([[9.9999e-01, 6.8210e-06]]),\n",
              " tensor([[0.0232, 0.9768]]),\n",
              " tensor([[1.0000e+00, 8.9557e-11]]),\n",
              " tensor([[1.1796e-04, 9.9988e-01]]))"
            ]
          },
          "metadata": {},
          "execution_count": 50
        }
      ]
    },
    {
      "cell_type": "markdown",
      "source": [
        "# MNIST example"
      ],
      "metadata": {
        "id": "g0O_afzZvXSn"
      },
      "id": "g0O_afzZvXSn"
    },
    {
      "cell_type": "markdown",
      "source": [
        "## in Tensorflow"
      ],
      "metadata": {
        "id": "TY068TPZvZA9"
      },
      "id": "TY068TPZvZA9"
    },
    {
      "cell_type": "code",
      "source": [
        "from tensorflow import keras\n",
        "\n",
        "(X_train, y_train), (X_test, y_test) = keras.datasets.mnist.load_data()\n",
        "X_train_reshaped = X_train.reshape(-1, 28*28)\n",
        "X_test_reshaped = X_test.reshape(-1, 28*28)\n",
        "\n",
        "X_train.shape, y_train.shape, X_test.shape, y_test.shape, \\\n",
        "X_train_reshaped.shape, X_test_reshaped.shape"
      ],
      "metadata": {
        "colab": {
          "base_uri": "https://localhost:8080/"
        },
        "id": "fZPbsV4VvbQf",
        "outputId": "8a41d382-725f-44e2-c09a-d3850b3f86d5"
      },
      "id": "fZPbsV4VvbQf",
      "execution_count": 87,
      "outputs": [
        {
          "output_type": "execute_result",
          "data": {
            "text/plain": [
              "((60000, 28, 28),\n",
              " (60000,),\n",
              " (10000, 28, 28),\n",
              " (10000,),\n",
              " (60000, 784),\n",
              " (10000, 784))"
            ]
          },
          "metadata": {},
          "execution_count": 87
        }
      ]
    },
    {
      "cell_type": "code",
      "source": [
        "import tensorflow as tf\n",
        "from tensorflow.keras.utils import to_categorical\n",
        "\n",
        "y_train_cat = to_categorical(y_train)\n",
        "y_test_cat = to_categorical(y_test)\n",
        "\n",
        "y_train_cat.shape, y_test_cat.shape, y_train_cat[0]"
      ],
      "metadata": {
        "colab": {
          "base_uri": "https://localhost:8080/"
        },
        "id": "3EnlMkiCvw-T",
        "outputId": "99f0aaae-e60e-4639-adce-1a59e972f210"
      },
      "id": "3EnlMkiCvw-T",
      "execution_count": 88,
      "outputs": [
        {
          "output_type": "execute_result",
          "data": {
            "text/plain": [
              "((60000, 10), (10000, 10), array([0., 0., 0., 0., 0., 1., 0., 0., 0., 0.]))"
            ]
          },
          "metadata": {},
          "execution_count": 88
        }
      ]
    },
    {
      "cell_type": "code",
      "source": [
        "import random\n",
        "import matplotlib.pyplot as plt\n",
        "\n",
        "fig = plt.figure(figsize=(20,20))\n",
        "for i in range(5):\n",
        "  idx = random.randint(0, len(X_train))\n",
        "  ax = fig.add_subplot(1, 5, i+1, xticks=[], yticks=[])\n",
        "  ax.imshow(X_train[idx], cmap='Greys')\n",
        "  ax.set_title(y_train[idx])\n",
        "  ax.set_xlabel(idx)"
      ],
      "metadata": {
        "colab": {
          "base_uri": "https://localhost:8080/",
          "height": 158
        },
        "id": "FV-WdoVrwt1O",
        "outputId": "b4717c4d-a005-4d1e-d24f-920b9af864ab"
      },
      "id": "FV-WdoVrwt1O",
      "execution_count": 53,
      "outputs": [
        {
          "output_type": "display_data",
          "data": {
            "text/plain": [
              "<Figure size 2000x2000 with 5 Axes>"
            ],
            "image/png": "[encoded data removed]"
          },
          "metadata": {}
        }
      ]
    },
    {
      "cell_type": "code",
      "source": [
        "# build the model\n",
        "import tensorflow.keras\n",
        "from tensorflow.keras.layers import Dropout, Dense\n",
        "\n",
        "mnist_model = keras.Sequential()\n",
        "mnist_model.add(keras.Input(shape=(28*28,)))\n",
        "mnist_model.add(Dense(128, activation='relu'))\n",
        "mnist_model.add(Dropout(.2))\n",
        "mnist_model.add(Dense(64, activation='relu'))\n",
        "mnist_model.add(Dropout(.2))\n",
        "mnist_model.add(Dense(10, activation='softmax'))\n",
        "\n",
        "# Compiling the model\n",
        "mnist_model.compile(loss = 'categorical_crossentropy', optimizer='adam', metrics=['accuracy'])\n",
        "mnist_model.summary()"
      ],
      "metadata": {
        "colab": {
          "base_uri": "https://localhost:8080/",
          "height": 311
        },
        "id": "AqBk9xkPdIBs",
        "outputId": "4f768c2c-e325-4deb-c5c6-d993c387bbab"
      },
      "id": "AqBk9xkPdIBs",
      "execution_count": 54,
      "outputs": [
        {
          "output_type": "display_data",
          "data": {
            "text/plain": [
              "\u001b[1mModel: \"sequential_3\"\u001b[0m\n"
            ],
            "text/html": [
              "<pre style=\"white-space:pre;overflow-x:auto;line-height:normal;font-family:Menlo,'DejaVu Sans Mono',consolas,'Courier New',monospace\"><span style=\"font-weight: bold\">Model: \"sequential_3\"</span>\n",
              "</pre>\n"
            ]
          },
          "metadata": {}
        },
        {
          "output_type": "display_data",
          "data": {
            "text/plain": [
              "┏━━━━━━━━━━━━━━━━━━━━━━━━━━━━━━━━━━━━━━┳━━━━━━━━━━━━━━━━━━━━━━━━━━━━━┳━━━━━━━━━━━━━━━━━┓\n",
              "┃\u001b[1m \u001b[0m\u001b[1mLayer (type)                        \u001b[0m\u001b[1m \u001b[0m┃\u001b[1m \u001b[0m\u001b[1mOutput Shape               \u001b[0m\u001b[1m \u001b[0m┃\u001b[1m \u001b[0m\u001b[1m        Param #\u001b[0m\u001b[1m \u001b[0m┃\n",
              "┡━━━━━━━━━━━━━━━━━━━━━━━━━━━━━━━━━━━━━━╇━━━━━━━━━━━━━━━━━━━━━━━━━━━━━╇━━━━━━━━━━━━━━━━━┩\n",
              "│ dense_10 (\u001b[38;5;33mDense\u001b[0m)                     │ (\u001b[38;5;45mNone\u001b[0m, \u001b[38;5;34m128\u001b[0m)                 │         \u001b[38;5;34m100,480\u001b[0m │\n",
              "├──────────────────────────────────────┼─────────────────────────────┼─────────────────┤\n",
              "│ dropout_7 (\u001b[38;5;33mDropout\u001b[0m)                  │ (\u001b[38;5;45mNone\u001b[0m, \u001b[38;5;34m128\u001b[0m)                 │               \u001b[38;5;34m0\u001b[0m │\n",
              "├──────────────────────────────────────┼─────────────────────────────┼─────────────────┤\n",
              "│ dense_11 (\u001b[38;5;33mDense\u001b[0m)                     │ (\u001b[38;5;45mNone\u001b[0m, \u001b[38;5;34m64\u001b[0m)                  │           \u001b[38;5;34m8,256\u001b[0m │\n",
              "├──────────────────────────────────────┼─────────────────────────────┼─────────────────┤\n",
              "│ dropout_8 (\u001b[38;5;33mDropout\u001b[0m)                  │ (\u001b[38;5;45mNone\u001b[0m, \u001b[38;5;34m64\u001b[0m)                  │               \u001b[38;5;34m0\u001b[0m │\n",
              "├──────────────────────────────────────┼─────────────────────────────┼─────────────────┤\n",
              "│ dense_12 (\u001b[38;5;33mDense\u001b[0m)                     │ (\u001b[38;5;45mNone\u001b[0m, \u001b[38;5;34m10\u001b[0m)                  │             \u001b[38;5;34m650\u001b[0m │\n",
              "└──────────────────────────────────────┴─────────────────────────────┴─────────────────┘\n"
            ],
            "text/html": [
              "<pre style=\"white-space:pre;overflow-x:auto;line-height:normal;font-family:Menlo,'DejaVu Sans Mono',consolas,'Courier New',monospace\">┏━━━━━━━━━━━━━━━━━━━━━━━━━━━━━━━━━━━━━━┳━━━━━━━━━━━━━━━━━━━━━━━━━━━━━┳━━━━━━━━━━━━━━━━━┓\n",
              "┃<span style=\"font-weight: bold\"> Layer (type)                         </span>┃<span style=\"font-weight: bold\"> Output Shape                </span>┃<span style=\"font-weight: bold\">         Param # </span>┃\n",
              "┡━━━━━━━━━━━━━━━━━━━━━━━━━━━━━━━━━━━━━━╇━━━━━━━━━━━━━━━━━━━━━━━━━━━━━╇━━━━━━━━━━━━━━━━━┩\n",
              "│ dense_10 (<span style=\"color: #0087ff; text-decoration-color: #0087ff\">Dense</span>)                     │ (<span style=\"color: #00d7ff; text-decoration-color: #00d7ff\">None</span>, <span style=\"color: #00af00; text-decoration-color: #00af00\">128</span>)                 │         <span style=\"color: #00af00; text-decoration-color: #00af00\">100,480</span> │\n",
              "├──────────────────────────────────────┼─────────────────────────────┼─────────────────┤\n",
              "│ dropout_7 (<span style=\"color: #0087ff; text-decoration-color: #0087ff\">Dropout</span>)                  │ (<span style=\"color: #00d7ff; text-decoration-color: #00d7ff\">None</span>, <span style=\"color: #00af00; text-decoration-color: #00af00\">128</span>)                 │               <span style=\"color: #00af00; text-decoration-color: #00af00\">0</span> │\n",
              "├──────────────────────────────────────┼─────────────────────────────┼─────────────────┤\n",
              "│ dense_11 (<span style=\"color: #0087ff; text-decoration-color: #0087ff\">Dense</span>)                     │ (<span style=\"color: #00d7ff; text-decoration-color: #00d7ff\">None</span>, <span style=\"color: #00af00; text-decoration-color: #00af00\">64</span>)                  │           <span style=\"color: #00af00; text-decoration-color: #00af00\">8,256</span> │\n",
              "├──────────────────────────────────────┼─────────────────────────────┼─────────────────┤\n",
              "│ dropout_8 (<span style=\"color: #0087ff; text-decoration-color: #0087ff\">Dropout</span>)                  │ (<span style=\"color: #00d7ff; text-decoration-color: #00d7ff\">None</span>, <span style=\"color: #00af00; text-decoration-color: #00af00\">64</span>)                  │               <span style=\"color: #00af00; text-decoration-color: #00af00\">0</span> │\n",
              "├──────────────────────────────────────┼─────────────────────────────┼─────────────────┤\n",
              "│ dense_12 (<span style=\"color: #0087ff; text-decoration-color: #0087ff\">Dense</span>)                     │ (<span style=\"color: #00d7ff; text-decoration-color: #00d7ff\">None</span>, <span style=\"color: #00af00; text-decoration-color: #00af00\">10</span>)                  │             <span style=\"color: #00af00; text-decoration-color: #00af00\">650</span> │\n",
              "└──────────────────────────────────────┴─────────────────────────────┴─────────────────┘\n",
              "</pre>\n"
            ]
          },
          "metadata": {}
        },
        {
          "output_type": "display_data",
          "data": {
            "text/plain": [
              "\u001b[1m Total params: \u001b[0m\u001b[38;5;34m109,386\u001b[0m (427.29 KB)\n"
            ],
            "text/html": [
              "<pre style=\"white-space:pre;overflow-x:auto;line-height:normal;font-family:Menlo,'DejaVu Sans Mono',consolas,'Courier New',monospace\"><span style=\"font-weight: bold\"> Total params: </span><span style=\"color: #00af00; text-decoration-color: #00af00\">109,386</span> (427.29 KB)\n",
              "</pre>\n"
            ]
          },
          "metadata": {}
        },
        {
          "output_type": "display_data",
          "data": {
            "text/plain": [
              "\u001b[1m Trainable params: \u001b[0m\u001b[38;5;34m109,386\u001b[0m (427.29 KB)\n"
            ],
            "text/html": [
              "<pre style=\"white-space:pre;overflow-x:auto;line-height:normal;font-family:Menlo,'DejaVu Sans Mono',consolas,'Courier New',monospace\"><span style=\"font-weight: bold\"> Trainable params: </span><span style=\"color: #00af00; text-decoration-color: #00af00\">109,386</span> (427.29 KB)\n",
              "</pre>\n"
            ]
          },
          "metadata": {}
        },
        {
          "output_type": "display_data",
          "data": {
            "text/plain": [
              "\u001b[1m Non-trainable params: \u001b[0m\u001b[38;5;34m0\u001b[0m (0.00 B)\n"
            ],
            "text/html": [
              "<pre style=\"white-space:pre;overflow-x:auto;line-height:normal;font-family:Menlo,'DejaVu Sans Mono',consolas,'Courier New',monospace\"><span style=\"font-weight: bold\"> Non-trainable params: </span><span style=\"color: #00af00; text-decoration-color: #00af00\">0</span> (0.00 B)\n",
              "</pre>\n"
            ]
          },
          "metadata": {}
        }
      ]
    },
    {
      "cell_type": "code",
      "source": [
        "mnist_model.fit(X_train_reshaped, y_train_cat, batch_size=10, epochs=10)"
      ],
      "metadata": {
        "colab": {
          "base_uri": "https://localhost:8080/"
        },
        "id": "DRjDD-sWiAyX",
        "outputId": "80d85b1b-2a8b-4cff-ac5d-77c7f5bfa052"
      },
      "id": "DRjDD-sWiAyX",
      "execution_count": 89,
      "outputs": [
        {
          "output_type": "stream",
          "name": "stdout",
          "text": [
            "Epoch 1/10\n",
            "\u001b[1m6000/6000\u001b[0m \u001b[32m━━━━━━━━━━━━━━━━━━━━\u001b[0m\u001b[37m\u001b[0m \u001b[1m11s\u001b[0m 2ms/step - accuracy: 0.9146 - loss: 0.3518\n",
            "Epoch 2/10\n",
            "\u001b[1m6000/6000\u001b[0m \u001b[32m━━━━━━━━━━━━━━━━━━━━\u001b[0m\u001b[37m\u001b[0m \u001b[1m12s\u001b[0m 2ms/step - accuracy: 0.9152 - loss: 0.3374\n",
            "Epoch 3/10\n",
            "\u001b[1m6000/6000\u001b[0m \u001b[32m━━━━━━━━━━━━━━━━━━━━\u001b[0m\u001b[37m\u001b[0m \u001b[1m20s\u001b[0m 2ms/step - accuracy: 0.9122 - loss: 0.3565\n",
            "Epoch 4/10\n",
            "\u001b[1m6000/6000\u001b[0m \u001b[32m━━━━━━━━━━━━━━━━━━━━\u001b[0m\u001b[37m\u001b[0m \u001b[1m11s\u001b[0m 2ms/step - accuracy: 0.9171 - loss: 0.3325\n",
            "Epoch 5/10\n",
            "\u001b[1m6000/6000\u001b[0m \u001b[32m━━━━━━━━━━━━━━━━━━━━\u001b[0m\u001b[37m\u001b[0m \u001b[1m22s\u001b[0m 2ms/step - accuracy: 0.9193 - loss: 0.3283\n",
            "Epoch 6/10\n",
            "\u001b[1m6000/6000\u001b[0m \u001b[32m━━━━━━━━━━━━━━━━━━━━\u001b[0m\u001b[37m\u001b[0m \u001b[1m19s\u001b[0m 2ms/step - accuracy: 0.9223 - loss: 0.3347\n",
            "Epoch 7/10\n",
            "\u001b[1m6000/6000\u001b[0m \u001b[32m━━━━━━━━━━━━━━━━━━━━\u001b[0m\u001b[37m\u001b[0m \u001b[1m11s\u001b[0m 2ms/step - accuracy: 0.9203 - loss: 0.3271\n",
            "Epoch 8/10\n",
            "\u001b[1m6000/6000\u001b[0m \u001b[32m━━━━━━━━━━━━━━━━━━━━\u001b[0m\u001b[37m\u001b[0m \u001b[1m21s\u001b[0m 2ms/step - accuracy: 0.9184 - loss: 0.3332\n",
            "Epoch 9/10\n",
            "\u001b[1m6000/6000\u001b[0m \u001b[32m━━━━━━━━━━━━━━━━━━━━\u001b[0m\u001b[37m\u001b[0m \u001b[1m21s\u001b[0m 2ms/step - accuracy: 0.9201 - loss: 0.3444\n",
            "Epoch 10/10\n",
            "\u001b[1m6000/6000\u001b[0m \u001b[32m━━━━━━━━━━━━━━━━━━━━\u001b[0m\u001b[37m\u001b[0m \u001b[1m11s\u001b[0m 2ms/step - accuracy: 0.9202 - loss: 0.3460\n"
          ]
        },
        {
          "output_type": "execute_result",
          "data": {
            "text/plain": [
              "<keras.src.callbacks.history.History at 0x79411dc55790>"
            ]
          },
          "metadata": {},
          "execution_count": 89
        }
      ]
    },
    {
      "cell_type": "code",
      "source": [
        "mnist_model.evaluate(X_test_reshaped, y_test_cat, batch_size=10)"
      ],
      "metadata": {
        "colab": {
          "base_uri": "https://localhost:8080/"
        },
        "id": "6v5jko1mjDEs",
        "outputId": "3cf3d0b2-3c04-421d-d8d8-d357ff9094eb"
      },
      "id": "6v5jko1mjDEs",
      "execution_count": 90,
      "outputs": [
        {
          "output_type": "stream",
          "name": "stdout",
          "text": [
            "\u001b[1m1000/1000\u001b[0m \u001b[32m━━━━━━━━━━━━━━━━━━━━\u001b[0m\u001b[37m\u001b[0m \u001b[1m1s\u001b[0m 1ms/step - accuracy: 0.9328 - loss: 0.4473\n"
          ]
        },
        {
          "output_type": "execute_result",
          "data": {
            "text/plain": [
              "[0.3804498016834259, 0.9399999976158142]"
            ]
          },
          "metadata": {},
          "execution_count": 90
        }
      ]
    },
    {
      "cell_type": "code",
      "source": [
        "pred_categorical = mnist_model.predict(X_test_reshaped)\n",
        "preds = [np.argmax(pred) for pred in pred_categorical]\n",
        "len(preds)"
      ],
      "metadata": {
        "colab": {
          "base_uri": "https://localhost:8080/"
        },
        "id": "RMNizjg8jnZt",
        "outputId": "1da77077-c6d5-427c-fddb-ce8ad1b9b0a1"
      },
      "id": "RMNizjg8jnZt",
      "execution_count": 91,
      "outputs": [
        {
          "output_type": "stream",
          "name": "stdout",
          "text": [
            "\u001b[1m313/313\u001b[0m \u001b[32m━━━━━━━━━━━━━━━━━━━━\u001b[0m\u001b[37m\u001b[0m \u001b[1m0s\u001b[0m 878us/step\n"
          ]
        },
        {
          "output_type": "execute_result",
          "data": {
            "text/plain": [
              "10000"
            ]
          },
          "metadata": {},
          "execution_count": 91
        }
      ]
    },
    {
      "cell_type": "code",
      "source": [
        "import random\n",
        "import matplotlib.pyplot as plt\n",
        "\n",
        "fig = plt.figure(figsize=(20,20))\n",
        "for i in range(5):\n",
        "  idx = random.randint(0, len(X_test))\n",
        "  cmap='Greys' if y_test[idx]==preds[idx] else 'inferno'\n",
        "  ax = fig.add_subplot(1, 5, i+1, xticks=[], yticks=[])\n",
        "  ax.imshow(X_test[idx], cmap=cmap)\n",
        "  ax.set_title(f\"y={y_test[idx]}, y_hat={preds[idx]}\")\n",
        "  ax.set_xlabel(idx)"
      ],
      "metadata": {
        "colab": {
          "base_uri": "https://localhost:8080/",
          "height": 158
        },
        "id": "kz7TAMYhkJTy",
        "outputId": "b2edd0e0-78ab-43e1-a81e-17ea768f35c2"
      },
      "id": "kz7TAMYhkJTy",
      "execution_count": 93,
      "outputs": [
        {
          "output_type": "display_data",
          "data": {
            "text/plain": [
              "<Figure size 2000x2000 with 5 Axes>"
            ],
            "image/png": "[encoded data removed]"
          },
          "metadata": {}
        }
      ]
    },
    {
      "cell_type": "markdown",
      "source": [
        "Let's find the wrong predictions and check their confidence."
      ],
      "metadata": {
        "id": "3TojSkW-JbXV"
      },
      "id": "3TojSkW-JbXV"
    },
    {
      "cell_type": "code",
      "source": [
        "wrong_idxs = np.where(y_test != preds)[0]\n",
        "wrong_preds = pred_categorical[wrong_idxs]\n",
        "\n",
        "right_idxs = np.where(y_test == preds)[0]\n",
        "right_preds = pred_categorical[right_idxs]\n",
        "\n",
        "wrong_preds.shape, right_preds.shape"
      ],
      "metadata": {
        "colab": {
          "base_uri": "https://localhost:8080/"
        },
        "id": "XtvftmCUJftk",
        "outputId": "9f2c0903-e2d9-4258-c681-bf3e407869d8"
      },
      "id": "XtvftmCUJftk",
      "execution_count": 120,
      "outputs": [
        {
          "output_type": "execute_result",
          "data": {
            "text/plain": [
              "((600, 10), (9400, 10))"
            ]
          },
          "metadata": {},
          "execution_count": 120
        }
      ]
    },
    {
      "cell_type": "code",
      "source": [
        "# correct predictions\n",
        "right_preds_max = right_preds.max(axis=1)\n",
        "right_preds_max.sort()\n",
        "plt.plot(right_preds_max)"
      ],
      "metadata": {
        "colab": {
          "base_uri": "https://localhost:8080/",
          "height": 448
        },
        "id": "Fn9xoIroMopE",
        "outputId": "1cde41aa-288b-4cb8-b33a-9df9ecc13c83"
      },
      "id": "Fn9xoIroMopE",
      "execution_count": 123,
      "outputs": [
        {
          "output_type": "execute_result",
          "data": {
            "text/plain": [
              "[<matplotlib.lines.Line2D at 0x7941407ffd10>]"
            ]
          },
          "metadata": {},
          "execution_count": 123
        },
        {
          "output_type": "display_data",
          "data": {
            "text/plain": [
              "<Figure size 640x480 with 1 Axes>"
            ],
            "image/png": "[encoded data removed]"
          },
          "metadata": {}
        }
      ]
    },
    {
      "cell_type": "code",
      "source": [
        "wrong_preds_max = wrong_preds.max(axis=1)\n",
        "wrong_preds_max.sort()\n",
        "plt.plot(wrong_preds_max)"
      ],
      "metadata": {
        "colab": {
          "base_uri": "https://localhost:8080/",
          "height": 448
        },
        "id": "Fsm7KYKdMLWB",
        "outputId": "5146858f-57e7-4ea7-ca34-99acfc7ec374"
      },
      "id": "Fsm7KYKdMLWB",
      "execution_count": 119,
      "outputs": [
        {
          "output_type": "execute_result",
          "data": {
            "text/plain": [
              "[<matplotlib.lines.Line2D at 0x79414020e1d0>]"
            ]
          },
          "metadata": {},
          "execution_count": 119
        },
        {
          "output_type": "display_data",
          "data": {
            "text/plain": [
              "<Figure size 640x480 with 1 Axes>"
            ],
            "image/png": "[encoded data removed]"
          },
          "metadata": {}
        }
      ]
    },
    {
      "cell_type": "markdown",
      "source": [
        "## in PyTorch"
      ],
      "metadata": {
        "id": "qGsVmbOMljSv"
      },
      "id": "qGsVmbOMljSv"
    },
    {
      "cell_type": "code",
      "source": [
        "from torchvision import datasets\n",
        "\n",
        "trainset = datasets.MNIST(root='./data', train=True, download=True)\n",
        "smean_train = trainset.data.float().mean() / 255\n",
        "sstd_train = trainset.data.float().std() / 255\n",
        "print('Min Pixel Value: {} \\nMax Pixel Value: {}'.format(trainset.data.min(), trainset.data.max()))\n",
        "print('Mean Pixel Value {} \\nPixel Values Std: {}'.format(trainset.data.float().mean(), trainset.data.float().std()))\n",
        "print('Scaled Mean Pixel Value {} \\nScaled Pixel Values Std: {}'.format(trainset.data.float().mean() / 255, trainset.data.float().std() / 255))\n",
        "\n",
        "testset = datasets.MNIST(root='./data', train=False, download=True)\n",
        "smean_test = testset.data.float().mean() / 255\n",
        "sstd_test = testset.data.float().std() / 255\n",
        "print('Min Pixel Value: {} \\nMax Pixel Value: {}'.format(testset.data.min(), testset.data.max()))\n",
        "print('Mean Pixel Value {} \\nPixel Values Std: {}'.format(testset.data.float().mean(), testset.data.float().std()))\n",
        "print('Scaled Mean Pixel Value {} \\nScaled Pixel Values Std: {}'.format(testset.data.float().mean() / 255, testset.data.float().std() / 255))\n"
      ],
      "metadata": {
        "colab": {
          "base_uri": "https://localhost:8080/"
        },
        "id": "Uz3o8LSsgNc0",
        "outputId": "4492436e-1be6-45b1-cf4f-73aca02d838c"
      },
      "id": "Uz3o8LSsgNc0",
      "execution_count": 239,
      "outputs": [
        {
          "output_type": "stream",
          "name": "stdout",
          "text": [
            "Min Pixel Value: 0 \n",
            "Max Pixel Value: 255\n",
            "Mean Pixel Value 33.31842041015625 \n",
            "Pixel Values Std: 78.56748962402344\n",
            "Scaled Mean Pixel Value 0.13066047430038452 \n",
            "Scaled Pixel Values Std: 0.30810779333114624\n",
            "Min Pixel Value: 0 \n",
            "Max Pixel Value: 255\n",
            "Mean Pixel Value 33.79122543334961 \n",
            "Pixel Values Std: 79.17247009277344\n",
            "Scaled Mean Pixel Value 0.1325146108865738 \n",
            "Scaled Pixel Values Std: 0.3104802668094635\n"
          ]
        }
      ]
    },
    {
      "cell_type": "code",
      "source": [
        "import torch\n",
        "import torch.nn\n",
        "import torch.nn.functional as F\n",
        "import torch.optim\n",
        "from torchvision import datasets, transforms\n",
        "from torch.utils.data import DataLoader\n",
        "\n",
        "transform_train = transforms.Compose([\n",
        "    transforms.ToTensor(),\n",
        "    transforms.Normalize((smean_train,), (sstd_train,))\n",
        "])\n",
        "transform_test = transforms.Compose([\n",
        "    transforms.ToTensor(),\n",
        "    transforms.Normalize((smean_test,), (sstd_test,))\n",
        "])\n",
        "# transform = transforms.ToTensor()\n",
        "dataset_train = datasets.MNIST(root='data', train=True, download=True, transform=transform_train)\n",
        "dataset_test = datasets.MNIST(root='data', train=False, download=True, transform=transform_test)\n",
        "dataloader_train = DataLoader(dataset_train, batch_size=100, shuffle=True)\n",
        "dataloader_test = DataLoader(dataset_test, batch_size=1000, shuffle=False)"
      ],
      "metadata": {
        "id": "2ncJqBzOlkuq"
      },
      "id": "2ncJqBzOlkuq",
      "execution_count": 275,
      "outputs": []
    },
    {
      "cell_type": "code",
      "source": [
        "dropout_rate=0.2\n",
        "mnist_model2 = nn.Sequential(\n",
        "    nn.Flatten(),\n",
        "    nn.Linear(28*28, 128),\n",
        "    nn.ReLU(),\n",
        "    nn.Dropout(p=dropout_rate),\n",
        "    nn.Linear(128, 64),\n",
        "    nn.ReLU(),\n",
        "    nn.Dropout(p=dropout_rate),\n",
        "    nn.Linear(64, 10),\n",
        "    nn.LogSoftmax(dim=1)\n",
        "    # nn.Softmax(dim=1)\n",
        ")\n",
        "mnist_model2"
      ],
      "metadata": {
        "colab": {
          "base_uri": "https://localhost:8080/"
        },
        "id": "UyD7XFyuoOz2",
        "outputId": "85aadfd3-8d10-40c0-c4ad-5aa489582eb1"
      },
      "id": "UyD7XFyuoOz2",
      "execution_count": 282,
      "outputs": [
        {
          "output_type": "execute_result",
          "data": {
            "text/plain": [
              "Sequential(\n",
              "  (0): Flatten(start_dim=1, end_dim=-1)\n",
              "  (1): Linear(in_features=784, out_features=128, bias=True)\n",
              "  (2): ReLU()\n",
              "  (3): Dropout(p=0.2, inplace=False)\n",
              "  (4): Linear(in_features=128, out_features=64, bias=True)\n",
              "  (5): ReLU()\n",
              "  (6): Dropout(p=0.2, inplace=False)\n",
              "  (7): Linear(in_features=64, out_features=10, bias=True)\n",
              "  (8): LogSoftmax(dim=1)\n",
              ")"
            ]
          },
          "metadata": {},
          "execution_count": 282
        }
      ]
    },
    {
      "cell_type": "code",
      "source": [
        "# from tqdm import tqdm_notebook as tqdm\n",
        "from tqdm.notebook import trange, tqdm\n",
        "# train\n",
        "num_epochs=10\n",
        "# criterion = nn.CrossEntropyLoss()\n",
        "criterion = nn.NLLLoss()\n",
        "optimiser = optim.Adam(mnist_model2.parameters(), lr=0.0002)\n",
        "\n",
        "for epoch in range(1, num_epochs+1):\n",
        "  mnist_model2.train()\n",
        "\n",
        "  pbar = tqdm(dataloader_train, desc=f\"Epoch {epoch}\", leave=True)  # Initialize tqdm progress bar\n",
        "  for feature, label in pbar:\n",
        "    pred = mnist_model2(feature)#.squeeze()\n",
        "    loss = criterion(pred, label)\n",
        "\n",
        "    optimiser.zero_grad()\n",
        "    loss.backward()\n",
        "    optimiser.step()\n",
        "\n",
        "    # pbar.set_postfix(loss=loss.item())\n",
        "\n",
        "  print(f\"Epoch {epoch}/{num_epochs}, loss={loss:.4f}\")\n"
      ],
      "metadata": {
        "colab": {
          "base_uri": "https://localhost:8080/",
          "height": 519,
          "referenced_widgets": [
            "c9a4bd3305ee443fae342b4728ce5735",
            "e75c33bcd9164c65a355f0a02525c64e",
            "94f7d4f049a04eb9a670e87ac193f05a",
            "30fd4c9ed4dd4ef5963eb695f48500a7",
            "b820b45b50bd497d91ea88973ae5acdd",
            "7f6b41d1dd1c4e968e57cb83440f317b",
            "ce8c33e67c754470b52ef1ba0e94d64f",
            "0fe71841689d48dfae787f6cf1695030",
            "4ec55e7598e24e0eb973cb7233d03558",
            "24432fd6679a4f2794dd8298b117b6cf",
            "29d7093657ff41a8b4b8b893abb33705",
            "e8925acb0ada48d98d7bf3cfbf0e7b10",
            "68f7d5b44f7145198beea8697011ec90",
            "799b201d78554164844d2ff7f8d2c068",
            "e3e8c792b64544adaa04516ea0f603d4",
            "5257cf6360da41c99551bab2b2f5047e",
            "3bfa795f93f44f1db40e693fb3f7df50",
            "862e22ea630042a396ae357098c95304",
            "32ee8b0e125e4c59ab4e7f0ff732e37f",
            "e443cdb5713d40eda85c1cb74dbbbee1",
            "eeb0d4d5d9814e408e89d728da2c6f87",
            "1560ae44ef8845d2afe33a48dc7c1961",
            "0ba35bb7a8da4c0cbc4ab888a340bcdc",
            "210fc8baf9a942e6ab158e8d572e23d5",
            "0b56d607146343a4ba675594ad81ae89",
            "718bcb4b621c4bf0b436047c15382795",
            "a221fdd7c1ab4f55ae77243ecb9fba15",
            "392286f8234748fe9933008dbdb12e43",
            "1b290834c6ac46c8ba89e68a59fc9be4",
            "0d3837aa202d48b39969e6484cb88df0",
            "1e5b9869793f45649c3cef94f2803e6f",
            "5ac18cf20fb54f58903a72d48190564a",
            "0dca9cef568e4892acbb3e2efb08326f",
            "cf6345fef0234166ac62f082cf1432b0",
            "df0445d81acf4de39d6ce3122420e19b",
            "eb3dbdfcefd94bb59b2bc7b6893c9bcd",
            "c271ed534b454a9d94661a2524f928bb",
            "da50a9dafe444ccf9eba2151ee3b38ba",
            "4e8a14d5294b43a6a2041e10f2c49549",
            "2db341eaa29c4e358879adbd75148d02",
            "f895b5cd423a4687b69af0b4d5dadf1d",
            "8ef13e06dec24bbcbf7dd851e1e3d060",
            "eec9c407114743f59d4dff28b014ca72",
            "df74c58da46447ddaa4f1a7e7e801af7",
            "e9020fb818f84e6ca95818df84ff547c",
            "45dd2de039e34086aa91ca33b23d4121",
            "dd2dab6e05174a4db00f2a211c5edd06",
            "d0096599e03a4bed8696ab305d500736",
            "53790bfbbe954ec48ad15274cd6bb73d",
            "26baa30856654a04b5f74708e0f40bee",
            "bd270a6138e7489b87587ae1d367cc7f",
            "ecbcaff09277441dac063fd501234740",
            "b9f4f6c070ec472f93a9bd23a63a4896",
            "375a85dfbd6044d4a8ce7db9c167a0fd",
            "7f14aa8d7a474f319348ef9ed6f0fdc0",
            "56ee4179d0fe41fd93122cfdc1a4256b",
            "c0411f5d10334dbc85e435eb0c89f518",
            "3221713532b9451caaaf7c9ecf3a58b0",
            "c8c5653138dd4041801797d249359425",
            "fdccff551baf43e295c29398d1e19f65",
            "e26755a1193c4e02b505374ddba854be",
            "421974fa667c49fab8118545c64da0bc",
            "4a4f174295e34caba8d2036c27ecb5bd",
            "335b3f2732e84f51903fd25c0f91e92a",
            "c1de0fc6b18b4c66ad548279e69dda03",
            "e2a1d506f8cb4107b2a409afe1626d03",
            "3360a0bbf1864fb5a73af03896eecc13",
            "017f4a1bdc0c415c8a3d131b24690fc6",
            "8d38bea0d2db486a90e12c1e93d73695",
            "161097450cb248aa959e9733b1ef607f",
            "03294b47671848b1b7dbd7897e577e9e",
            "ff58571df253489a86f0557b347e5289",
            "cbb320dcbdef4ff09ddd50f1fd86657b",
            "5c8e229e8f584d7daaac6128c69a97dd",
            "926e92fa393c4bb69188ae81b9d8b1f6",
            "ecd775d5a3b14b8c83d7154e56b1bb60",
            "6c7d7d67d7284987a8bb1ceab146f073",
            "bb97da52cf7a4406b45116a7f7f01869",
            "b4d72c3cecbc4b45a89ffaac84946f33",
            "3cf77b3781b946f8ae42a17845fa090b",
            "5eaa85428d194328ab6b502981fbf447",
            "bfb6c1f65c13492489dffe00121f418c",
            "d83a9803e4b9471e9518ae0231573c87",
            "ca08a94d2486447cad212fb6926271a4",
            "cdc14dc6cfc4468ea84694554d6fde6f",
            "7e43a1dc1c634648809d4f73f45530dc",
            "47978159f4c34e00bc25cd52f19ec29a",
            "352059ff28724e1696a2a89fd03a08df",
            "25a8f854d71e4b8ea3fc7cd32a27ed68",
            "53a1354cd4384c959e8d8c75dd09945d",
            "2b15db7150f9457ca210903b171241e1",
            "26b8ba02b69a4d218210395926b74ddc",
            "1088bb63c5c04c7ca9695499564c5ba6",
            "c30ec73edcdf4fe3a63dad48892a466c",
            "7d0cbb3a742e493485eb0e3dfd005e88",
            "199891aafbba465e87d425883e1e8b95",
            "c837b57b906e4cc78d79dd9144dd59ac",
            "6f1eb6c1ac3543a7b8ecb87ec2a678c7",
            "60b81e64256e4c1993c414debcc31977",
            "9c0baa9292f24b698892f4ddcc42bfea",
            "97d33ded23054d24896ec797ca4760ba",
            "4804c21ec8f444b0a9698d0f435d5af5",
            "a3514a9d0709484c9fc6eb950f8ee382",
            "bfd9733e7ef04b96919b937bcc7d541f",
            "87b0d871fc8d406ca9c59e8c12f15868",
            "ebc0cf2b2ad3404bb9e7030a1d9507f4",
            "995ec26599f0471780d2abcc3c47e750",
            "952c6f2273cc4b54b98941e7b764b43c",
            "49d76c2bd26a4e85a427c2ff20a72647",
            "e41a401ae17141e7a7d69e808b5cd4b8"
          ]
        },
        "id": "scPYNOLlqVJm",
        "outputId": "66ca360d-61de-451d-bcfb-7c092bd570a9"
      },
      "id": "scPYNOLlqVJm",
      "execution_count": 284,
      "outputs": [
        {
          "output_type": "display_data",
          "data": {
            "text/plain": [
              "Epoch 1:   0%|          | 0/600 [00:00<?, ?it/s]"
            ],
            "application/vnd.jupyter.widget-view+json": {
              "version_major": 2,
              "version_minor": 0,
              "model_id": "c9a4bd3305ee443fae342b4728ce5735"
            }
          },
          "metadata": {}
        },
        {
          "output_type": "stream",
          "name": "stdout",
          "text": [
            "Epoch 1/10, loss=0.0938\n"
          ]
        },
        {
          "output_type": "display_data",
          "data": {
            "text/plain": [
              "Epoch 2:   0%|          | 0/600 [00:00<?, ?it/s]"
            ],
            "application/vnd.jupyter.widget-view+json": {
              "version_major": 2,
              "version_minor": 0,
              "model_id": "e8925acb0ada48d98d7bf3cfbf0e7b10"
            }
          },
          "metadata": {}
        },
        {
          "output_type": "stream",
          "name": "stdout",
          "text": [
            "Epoch 2/10, loss=0.0325\n"
          ]
        },
        {
          "output_type": "display_data",
          "data": {
            "text/plain": [
              "Epoch 3:   0%|          | 0/600 [00:00<?, ?it/s]"
            ],
            "application/vnd.jupyter.widget-view+json": {
              "version_major": 2,
              "version_minor": 0,
              "model_id": "0ba35bb7a8da4c0cbc4ab888a340bcdc"
            }
          },
          "metadata": {}
        },
        {
          "output_type": "stream",
          "name": "stdout",
          "text": [
            "Epoch 3/10, loss=0.0174\n"
          ]
        },
        {
          "output_type": "display_data",
          "data": {
            "text/plain": [
              "Epoch 4:   0%|          | 0/600 [00:00<?, ?it/s]"
            ],
            "application/vnd.jupyter.widget-view+json": {
              "version_major": 2,
              "version_minor": 0,
              "model_id": "cf6345fef0234166ac62f082cf1432b0"
            }
          },
          "metadata": {}
        },
        {
          "output_type": "stream",
          "name": "stdout",
          "text": [
            "Epoch 4/10, loss=0.0533\n"
          ]
        },
        {
          "output_type": "display_data",
          "data": {
            "text/plain": [
              "Epoch 5:   0%|          | 0/600 [00:00<?, ?it/s]"
            ],
            "application/vnd.jupyter.widget-view+json": {
              "version_major": 2,
              "version_minor": 0,
              "model_id": "e9020fb818f84e6ca95818df84ff547c"
            }
          },
          "metadata": {}
        },
        {
          "output_type": "stream",
          "name": "stdout",
          "text": [
            "Epoch 5/10, loss=0.0549\n"
          ]
        },
        {
          "output_type": "display_data",
          "data": {
            "text/plain": [
              "Epoch 6:   0%|          | 0/600 [00:00<?, ?it/s]"
            ],
            "application/vnd.jupyter.widget-view+json": {
              "version_major": 2,
              "version_minor": 0,
              "model_id": "56ee4179d0fe41fd93122cfdc1a4256b"
            }
          },
          "metadata": {}
        },
        {
          "output_type": "stream",
          "name": "stdout",
          "text": [
            "Epoch 6/10, loss=0.0429\n"
          ]
        },
        {
          "output_type": "display_data",
          "data": {
            "text/plain": [
              "Epoch 7:   0%|          | 0/600 [00:00<?, ?it/s]"
            ],
            "application/vnd.jupyter.widget-view+json": {
              "version_major": 2,
              "version_minor": 0,
              "model_id": "3360a0bbf1864fb5a73af03896eecc13"
            }
          },
          "metadata": {}
        },
        {
          "output_type": "stream",
          "name": "stdout",
          "text": [
            "Epoch 7/10, loss=0.0813\n"
          ]
        },
        {
          "output_type": "display_data",
          "data": {
            "text/plain": [
              "Epoch 8:   0%|          | 0/600 [00:00<?, ?it/s]"
            ],
            "application/vnd.jupyter.widget-view+json": {
              "version_major": 2,
              "version_minor": 0,
              "model_id": "bb97da52cf7a4406b45116a7f7f01869"
            }
          },
          "metadata": {}
        },
        {
          "output_type": "stream",
          "name": "stdout",
          "text": [
            "Epoch 8/10, loss=0.0182\n"
          ]
        },
        {
          "output_type": "display_data",
          "data": {
            "text/plain": [
              "Epoch 9:   0%|          | 0/600 [00:00<?, ?it/s]"
            ],
            "application/vnd.jupyter.widget-view+json": {
              "version_major": 2,
              "version_minor": 0,
              "model_id": "25a8f854d71e4b8ea3fc7cd32a27ed68"
            }
          },
          "metadata": {}
        },
        {
          "output_type": "stream",
          "name": "stdout",
          "text": [
            "Epoch 9/10, loss=0.0218\n"
          ]
        },
        {
          "output_type": "display_data",
          "data": {
            "text/plain": [
              "Epoch 10:   0%|          | 0/600 [00:00<?, ?it/s]"
            ],
            "application/vnd.jupyter.widget-view+json": {
              "version_major": 2,
              "version_minor": 0,
              "model_id": "9c0baa9292f24b698892f4ddcc42bfea"
            }
          },
          "metadata": {}
        },
        {
          "output_type": "stream",
          "name": "stdout",
          "text": [
            "Epoch 10/10, loss=0.0521\n"
          ]
        }
      ]
    },
    {
      "cell_type": "code",
      "source": [
        "mnist_model2.eval()\n",
        "with torch.no_grad():\n",
        "  total_loss = 0\n",
        "  for feature, label in dataloader_test:\n",
        "    pred = mnist_model2(feature)\n",
        "    loss = criterion(pred, label)\n",
        "    total_loss += loss\n",
        "\n",
        "  avg_loss = total_loss / len(dataloader_test)\n",
        "  print(f\"Average loss on test dataset: {avg_loss:.4f}\")"
      ],
      "metadata": {
        "colab": {
          "base_uri": "https://localhost:8080/"
        },
        "id": "4E8UfYO6wn89",
        "outputId": "9034924f-36a6-4883-be14-3f1d6d81d35d"
      },
      "id": "4E8UfYO6wn89",
      "execution_count": 285,
      "outputs": [
        {
          "output_type": "stream",
          "name": "stdout",
          "text": [
            "Average loss on test dataset: 0.0655\n"
          ]
        }
      ]
    },
    {
      "cell_type": "code",
      "source": [
        "with torch.no_grad():\n",
        "  pred_categorical = mnist_model2(dataset_test.data.to(torch.float32))\n",
        "  preds = [np.argmax(pred) for pred in pred_categorical.detach().numpy()]\n",
        "  wrong_idxs = np.where(preds != dataset_test.targets.detach().numpy())[0]\n",
        "\n",
        "len(preds), wrong_idxs.shape, 1-(wrong_idxs.shape[0] / len(preds))"
      ],
      "metadata": {
        "id": "EAEMrWJ_4k9N",
        "outputId": "5a7753aa-f17a-40b4-a92e-36dc0dde12f5",
        "colab": {
          "base_uri": "https://localhost:8080/"
        }
      },
      "id": "EAEMrWJ_4k9N",
      "execution_count": 286,
      "outputs": [
        {
          "output_type": "execute_result",
          "data": {
            "text/plain": [
              "(10000, (254,), 0.9746)"
            ]
          },
          "metadata": {},
          "execution_count": 286
        }
      ]
    },
    {
      "cell_type": "code",
      "source": [
        "import random\n",
        "import matplotlib.pyplot as plt\n",
        "\n",
        "fig = plt.figure(figsize=(20,20))\n",
        "for i in range(5):\n",
        "  idx = random.randint(0, len(dataset_test))\n",
        "  cmap='Greys' if dataset_test.targets[idx]==preds[idx] else 'inferno'\n",
        "  ax = fig.add_subplot(1, 5, i+1, xticks=[], yticks=[])\n",
        "  ax.imshow(dataset_test.data[idx], cmap=cmap)\n",
        "  ax.set_title(f\"y={dataset_test.targets[idx]}, y_hat={preds[idx]}\")\n",
        "  ax.set_xlabel(idx)"
      ],
      "metadata": {
        "id": "GY2QXr_t4GL0",
        "outputId": "0d4ca7b5-df2d-4296-c626-6c90a46a184b",
        "colab": {
          "base_uri": "https://localhost:8080/",
          "height": 158
        }
      },
      "id": "GY2QXr_t4GL0",
      "execution_count": 272,
      "outputs": [
        {
          "output_type": "display_data",
          "data": {
            "text/plain": [
              "<Figure size 2000x2000 with 5 Axes>"
            ],
            "image/png": "[encoded data removed]"
          },
          "metadata": {}
        }
      ]
    },
    {
      "cell_type": "markdown",
      "source": [
        "Examining the values of the softmax, they are either 0 or 1, it means the logits has one partucular very large value compared to other classes. This is very different to tensorflow."
      ],
      "metadata": {
        "id": "7uyotpVbwJ2F"
      },
      "id": "7uyotpVbwJ2F"
    },
    {
      "cell_type": "code",
      "source": [
        "# print the wrong predictions and see how confident they are\n",
        "for i in wrong_idxs[:20]:\n",
        "  print(torch.exp(pred_categorical[i]).max())\n",
        "  # print(pred_categorical[i])"
      ],
      "metadata": {
        "colab": {
          "base_uri": "https://localhost:8080/"
        },
        "id": "0BZgL3yhPrKm",
        "outputId": "af75fd92-7486-4db5-e529-e8edf7483fc8"
      },
      "id": "0BZgL3yhPrKm",
      "execution_count": 287,
      "outputs": [
        {
          "output_type": "stream",
          "name": "stdout",
          "text": [
            "tensor(0.9902)\n",
            "tensor(1.)\n",
            "tensor(1.0000)\n",
            "tensor(1.)\n",
            "tensor(1.)\n",
            "tensor(1.)\n",
            "tensor(1.)\n",
            "tensor(1.)\n",
            "tensor(1.)\n",
            "tensor(1.)\n",
            "tensor(1.0000)\n",
            "tensor(1.)\n",
            "tensor(1.)\n",
            "tensor(1.0000)\n",
            "tensor(1.)\n",
            "tensor(1.)\n",
            "tensor(1.)\n",
            "tensor(1.)\n",
            "tensor(1.)\n",
            "tensor(1.)\n"
          ]
        }
      ]
    },
    {
      "cell_type": "code",
      "source": [
        "torch_wrong_maxes = torch.exp(pred_categorical[wrong_idxs]).max(axis=1).values.detach().numpy()\n",
        "torch_wrong_maxes.sort()\n",
        "plt.plot(torch_wrong_maxes)"
      ],
      "metadata": {
        "colab": {
          "base_uri": "https://localhost:8080/",
          "height": 448
        },
        "id": "kQX-N37rmkft",
        "outputId": "d49d92a1-90f1-4e27-a69d-ac2006bfd2fc"
      },
      "id": "kQX-N37rmkft",
      "execution_count": 288,
      "outputs": [
        {
          "output_type": "execute_result",
          "data": {
            "text/plain": [
              "[<matplotlib.lines.Line2D at 0x794136a89c10>]"
            ]
          },
          "metadata": {},
          "execution_count": 288
        },
        {
          "output_type": "display_data",
          "data": {
            "text/plain": [
              "<Figure size 640x480 with 1 Axes>"
            ],
            "image/png": "[encoded data removed]"
          },
          "metadata": {}
        }
      ]
    },
    {
      "cell_type": "markdown",
      "source": [
        "# Neuro-Net for Regression\n",
        "\n",
        "To make classification NN into regression NN:\n",
        "1. remove the final Softmax, so that it outputs any number\n",
        "2. change the error function to Absolute Error or MSE."
      ],
      "metadata": {
        "id": "nBzDKX3V-QR_"
      },
      "id": "nBzDKX3V-QR_"
    },
    {
      "cell_type": "markdown",
      "source": [
        "# House price example"
      ],
      "metadata": {
        "id": "oHSWUAZ2rFMm"
      },
      "id": "oHSWUAZ2rFMm"
    },
    {
      "cell_type": "code",
      "source": [
        "df = pd.read_csv('data/Hyderabad.csv')\n",
        "df"
      ],
      "metadata": {
        "id": "ZzR7W7K0rIPt",
        "outputId": "675a0091-d0f7-40a2-9a5f-12856ef06516",
        "colab": {
          "base_uri": "https://localhost:8080/",
          "height": 461
        }
      },
      "id": "ZzR7W7K0rIPt",
      "execution_count": 5,
      "outputs": [
        {
          "output_type": "execute_result",
          "data": {
            "text/plain": [
              "         Price  Area     Location  No. of Bedrooms  Resale  MaintenanceStaff  \\\n",
              "0      6968000  1340     Nizampet                2       0                 0   \n",
              "1     29000000  3498  Hitech City                4       0                 0   \n",
              "2      6590000  1318    Manikonda                2       0                 0   \n",
              "3      5739000  1295        Alwal                3       1                 0   \n",
              "4      5679000  1145   Kukatpally                2       0                 0   \n",
              "...        ...   ...          ...              ...     ...               ...   \n",
              "2513  11000000  1460     Nacharam                2       1                 9   \n",
              "2514  26000000  1314    Manikonda                2       1                 9   \n",
              "2515  13300000  2625     Madhapur                3       1                 9   \n",
              "2516  10800000  2050  Hitech City                3       0                 9   \n",
              "2517  10400000  1805     Narsingi                3       0                 9   \n",
              "\n",
              "      Gymnasium  SwimmingPool  LandscapedGardens  JoggingTrack  ...  \\\n",
              "0             1             1                  1             1  ...   \n",
              "1             1             1                  1             1  ...   \n",
              "2             1             0                  0             0  ...   \n",
              "3             0             0                  0             0  ...   \n",
              "4             0             0                  1             0  ...   \n",
              "...         ...           ...                ...           ...  ...   \n",
              "2513          9             9                  9             9  ...   \n",
              "2514          9             9                  9             9  ...   \n",
              "2515          9             9                  9             9  ...   \n",
              "2516          9             9                  9             9  ...   \n",
              "2517          9             9                  9             9  ...   \n",
              "\n",
              "      LiftAvailable  BED  VaastuCompliant  Microwave  GolfCourse  TV  \\\n",
              "0                 1    0                1          0           0   0   \n",
              "1                 1    0                1          0           0   0   \n",
              "2                 0    0                0          0           0   0   \n",
              "3                 1    0                0          0           0   0   \n",
              "4                 1    0                0          0           0   0   \n",
              "...             ...  ...              ...        ...         ...  ..   \n",
              "2513              9    9                9          9           9   9   \n",
              "2514              9    9                9          9           9   9   \n",
              "2515              9    9                9          9           9   9   \n",
              "2516              9    9                9          9           9   9   \n",
              "2517              9    9                9          9           9   9   \n",
              "\n",
              "      DiningTable  Sofa  Wardrobe  Refrigerator  \n",
              "0               0     0         0             0  \n",
              "1               0     0         0             0  \n",
              "2               0     0         0             0  \n",
              "3               0     0         0             0  \n",
              "4               0     0         0             0  \n",
              "...           ...   ...       ...           ...  \n",
              "2513            9     9         9             9  \n",
              "2514            9     9         9             9  \n",
              "2515            9     9         9             9  \n",
              "2516            9     9         9             9  \n",
              "2517            9     9         9             9  \n",
              "\n",
              "[2518 rows x 40 columns]"
            ],
            "text/html": [
              "\n",
              "  <div id=\"df-6a801402-adb9-4ba1-a82d-1484e47d7c61\" class=\"colab-df-container\">\n",
              "    <div>\n",
              "<style scoped>\n",
              "    .dataframe tbody tr th:only-of-type {\n",
              "        vertical-align: middle;\n",
              "    }\n",
              "\n",
              "    .dataframe tbody tr th {\n",
              "        vertical-align: top;\n",
              "    }\n",
              "\n",
              "    .dataframe thead th {\n",
              "        text-align: right;\n",
              "    }\n",
              "</style>\n",
              "<table border=\"1\" class=\"dataframe\">\n",
              "  <thead>\n",
              "    <tr style=\"text-align: right;\">\n",
              "      <th></th>\n",
              "      <th>Price</th>\n",
              "      <th>Area</th>\n",
              "      <th>Location</th>\n",
              "      <th>No. of Bedrooms</th>\n",
              "      <th>Resale</th>\n",
              "      <th>MaintenanceStaff</th>\n",
              "      <th>Gymnasium</th>\n",
              "      <th>SwimmingPool</th>\n",
              "      <th>LandscapedGardens</th>\n",
              "      <th>JoggingTrack</th>\n",
              "      <th>...</th>\n",
              "      <th>LiftAvailable</th>\n",
              "      <th>BED</th>\n",
              "      <th>VaastuCompliant</th>\n",
              "      <th>Microwave</th>\n",
              "      <th>GolfCourse</th>\n",
              "      <th>TV</th>\n",
              "      <th>DiningTable</th>\n",
              "      <th>Sofa</th>\n",
              "      <th>Wardrobe</th>\n",
              "      <th>Refrigerator</th>\n",
              "    </tr>\n",
              "  </thead>\n",
              "  <tbody>\n",
              "    <tr>\n",
              "      <th>0</th>\n",
              "      <td>6968000</td>\n",
              "      <td>1340</td>\n",
              "      <td>Nizampet</td>\n",
              "      <td>2</td>\n",
              "      <td>0</td>\n",
              "      <td>0</td>\n",
              "      <td>1</td>\n",
              "      <td>1</td>\n",
              "      <td>1</td>\n",
              "      <td>1</td>\n",
              "      <td>...</td>\n",
              "      <td>1</td>\n",
              "      <td>0</td>\n",
              "      <td>1</td>\n",
              "      <td>0</td>\n",
              "      <td>0</td>\n",
              "      <td>0</td>\n",
              "      <td>0</td>\n",
              "      <td>0</td>\n",
              "      <td>0</td>\n",
              "      <td>0</td>\n",
              "    </tr>\n",
              "    <tr>\n",
              "      <th>1</th>\n",
              "      <td>29000000</td>\n",
              "      <td>3498</td>\n",
              "      <td>Hitech City</td>\n",
              "      <td>4</td>\n",
              "      <td>0</td>\n",
              "      <td>0</td>\n",
              "      <td>1</td>\n",
              "      <td>1</td>\n",
              "      <td>1</td>\n",
              "      <td>1</td>\n",
              "      <td>...</td>\n",
              "      <td>1</td>\n",
              "      <td>0</td>\n",
              "      <td>1</td>\n",
              "      <td>0</td>\n",
              "      <td>0</td>\n",
              "      <td>0</td>\n",
              "      <td>0</td>\n",
              "      <td>0</td>\n",
              "      <td>0</td>\n",
              "      <td>0</td>\n",
              "    </tr>\n",
              "    <tr>\n",
              "      <th>2</th>\n",
              "      <td>6590000</td>\n",
              "      <td>1318</td>\n",
              "      <td>Manikonda</td>\n",
              "      <td>2</td>\n",
              "      <td>0</td>\n",
              "      <td>0</td>\n",
              "      <td>1</td>\n",
              "      <td>0</td>\n",
              "      <td>0</td>\n",
              "      <td>0</td>\n",
              "      <td>...</td>\n",
              "      <td>0</td>\n",
              "      <td>0</td>\n",
              "      <td>0</td>\n",
              "      <td>0</td>\n",
              "      <td>0</td>\n",
              "      <td>0</td>\n",
              "      <td>0</td>\n",
              "      <td>0</td>\n",
              "      <td>0</td>\n",
              "      <td>0</td>\n",
              "    </tr>\n",
              "    <tr>\n",
              "      <th>3</th>\n",
              "      <td>5739000</td>\n",
              "      <td>1295</td>\n",
              "      <td>Alwal</td>\n",
              "      <td>3</td>\n",
              "      <td>1</td>\n",
              "      <td>0</td>\n",
              "      <td>0</td>\n",
              "      <td>0</td>\n",
              "      <td>0</td>\n",
              "      <td>0</td>\n",
              "      <td>...</td>\n",
              "      <td>1</td>\n",
              "      <td>0</td>\n",
              "      <td>0</td>\n",
              "      <td>0</td>\n",
              "      <td>0</td>\n",
              "      <td>0</td>\n",
              "      <td>0</td>\n",
              "      <td>0</td>\n",
              "      <td>0</td>\n",
              "      <td>0</td>\n",
              "    </tr>\n",
              "    <tr>\n",
              "      <th>4</th>\n",
              "      <td>5679000</td>\n",
              "      <td>1145</td>\n",
              "      <td>Kukatpally</td>\n",
              "      <td>2</td>\n",
              "      <td>0</td>\n",
              "      <td>0</td>\n",
              "      <td>0</td>\n",
              "      <td>0</td>\n",
              "      <td>1</td>\n",
              "      <td>0</td>\n",
              "      <td>...</td>\n",
              "      <td>1</td>\n",
              "      <td>0</td>\n",
              "      <td>0</td>\n",
              "      <td>0</td>\n",
              "      <td>0</td>\n",
              "      <td>0</td>\n",
              "      <td>0</td>\n",
              "      <td>0</td>\n",
              "      <td>0</td>\n",
              "      <td>0</td>\n",
              "    </tr>\n",
              "    <tr>\n",
              "      <th>...</th>\n",
              "      <td>...</td>\n",
              "      <td>...</td>\n",
              "      <td>...</td>\n",
              "      <td>...</td>\n",
              "      <td>...</td>\n",
              "      <td>...</td>\n",
              "      <td>...</td>\n",
              "      <td>...</td>\n",
              "      <td>...</td>\n",
              "      <td>...</td>\n",
              "      <td>...</td>\n",
              "      <td>...</td>\n",
              "      <td>...</td>\n",
              "      <td>...</td>\n",
              "      <td>...</td>\n",
              "      <td>...</td>\n",
              "      <td>...</td>\n",
              "      <td>...</td>\n",
              "      <td>...</td>\n",
              "      <td>...</td>\n",
              "      <td>...</td>\n",
              "    </tr>\n",
              "    <tr>\n",
              "      <th>2513</th>\n",
              "      <td>11000000</td>\n",
              "      <td>1460</td>\n",
              "      <td>Nacharam</td>\n",
              "      <td>2</td>\n",
              "      <td>1</td>\n",
              "      <td>9</td>\n",
              "      <td>9</td>\n",
              "      <td>9</td>\n",
              "      <td>9</td>\n",
              "      <td>9</td>\n",
              "      <td>...</td>\n",
              "      <td>9</td>\n",
              "      <td>9</td>\n",
              "      <td>9</td>\n",
              "      <td>9</td>\n",
              "      <td>9</td>\n",
              "      <td>9</td>\n",
              "      <td>9</td>\n",
              "      <td>9</td>\n",
              "      <td>9</td>\n",
              "      <td>9</td>\n",
              "    </tr>\n",
              "    <tr>\n",
              "      <th>2514</th>\n",
              "      <td>26000000</td>\n",
              "      <td>1314</td>\n",
              "      <td>Manikonda</td>\n",
              "      <td>2</td>\n",
              "      <td>1</td>\n",
              "      <td>9</td>\n",
              "      <td>9</td>\n",
              "      <td>9</td>\n",
              "      <td>9</td>\n",
              "      <td>9</td>\n",
              "      <td>...</td>\n",
              "      <td>9</td>\n",
              "      <td>9</td>\n",
              "      <td>9</td>\n",
              "      <td>9</td>\n",
              "      <td>9</td>\n",
              "      <td>9</td>\n",
              "      <td>9</td>\n",
              "      <td>9</td>\n",
              "      <td>9</td>\n",
              "      <td>9</td>\n",
              "    </tr>\n",
              "    <tr>\n",
              "      <th>2515</th>\n",
              "      <td>13300000</td>\n",
              "      <td>2625</td>\n",
              "      <td>Madhapur</td>\n",
              "      <td>3</td>\n",
              "      <td>1</td>\n",
              "      <td>9</td>\n",
              "      <td>9</td>\n",
              "      <td>9</td>\n",
              "      <td>9</td>\n",
              "      <td>9</td>\n",
              "      <td>...</td>\n",
              "      <td>9</td>\n",
              "      <td>9</td>\n",
              "      <td>9</td>\n",
              "      <td>9</td>\n",
              "      <td>9</td>\n",
              "      <td>9</td>\n",
              "      <td>9</td>\n",
              "      <td>9</td>\n",
              "      <td>9</td>\n",
              "      <td>9</td>\n",
              "    </tr>\n",
              "    <tr>\n",
              "      <th>2516</th>\n",
              "      <td>10800000</td>\n",
              "      <td>2050</td>\n",
              "      <td>Hitech City</td>\n",
              "      <td>3</td>\n",
              "      <td>0</td>\n",
              "      <td>9</td>\n",
              "      <td>9</td>\n",
              "      <td>9</td>\n",
              "      <td>9</td>\n",
              "      <td>9</td>\n",
              "      <td>...</td>\n",
              "      <td>9</td>\n",
              "      <td>9</td>\n",
              "      <td>9</td>\n",
              "      <td>9</td>\n",
              "      <td>9</td>\n",
              "      <td>9</td>\n",
              "      <td>9</td>\n",
              "      <td>9</td>\n",
              "      <td>9</td>\n",
              "      <td>9</td>\n",
              "    </tr>\n",
              "    <tr>\n",
              "      <th>2517</th>\n",
              "      <td>10400000</td>\n",
              "      <td>1805</td>\n",
              "      <td>Narsingi</td>\n",
              "      <td>3</td>\n",
              "      <td>0</td>\n",
              "      <td>9</td>\n",
              "      <td>9</td>\n",
              "      <td>9</td>\n",
              "      <td>9</td>\n",
              "      <td>9</td>\n",
              "      <td>...</td>\n",
              "      <td>9</td>\n",
              "      <td>9</td>\n",
              "      <td>9</td>\n",
              "      <td>9</td>\n",
              "      <td>9</td>\n",
              "      <td>9</td>\n",
              "      <td>9</td>\n",
              "      <td>9</td>\n",
              "      <td>9</td>\n",
              "      <td>9</td>\n",
              "    </tr>\n",
              "  </tbody>\n",
              "</table>\n",
              "<p>2518 rows × 40 columns</p>\n",
              "</div>\n",
              "    <div class=\"colab-df-buttons\">\n",
              "\n",
              "  <div class=\"colab-df-container\">\n",
              "    <button class=\"colab-df-convert\" onclick=\"convertToInteractive('df-6a801402-adb9-4ba1-a82d-1484e47d7c61')\"\n",
              "            title=\"Convert this dataframe to an interactive table.\"\n",
              "            style=\"display:none;\">\n",
              "\n",
              "  <svg xmlns=\"http://www.w3.org/2000/svg\" height=\"24px\" viewBox=\"0 -960 960 960\">\n",
              "    <path d=\"M120-120v-720h720v720H120Zm60-500h600v-160H180v160Zm220 220h160v-160H400v160Zm0 220h160v-160H400v160ZM180-400h160v-160H180v160Zm440 0h160v-160H620v160ZM180-180h160v-160H180v160Zm440 0h160v-160H620v160Z\"/>\n",
              "  </svg>\n",
              "    </button>\n",
              "\n",
              "  <style>\n",
              "    .colab-df-container {\n",
              "      display:flex;\n",
              "      gap: 12px;\n",
              "    }\n",
              "\n",
              "    .colab-df-convert {\n",
              "      background-color: #E8F0FE;\n",
              "      border: none;\n",
              "      border-radius: 50%;\n",
              "      cursor: pointer;\n",
              "      display: none;\n",
              "      fill: #1967D2;\n",
              "      height: 32px;\n",
              "      padding: 0 0 0 0;\n",
              "      width: 32px;\n",
              "    }\n",
              "\n",
              "    .colab-df-convert:hover {\n",
              "      background-color: #E2EBFA;\n",
              "      box-shadow: 0px 1px 2px rgba(60, 64, 67, 0.3), 0px 1px 3px 1px rgba(60, 64, 67, 0.15);\n",
              "      fill: #174EA6;\n",
              "    }\n",
              "\n",
              "    .colab-df-buttons div {\n",
              "      margin-bottom: 4px;\n",
              "    }\n",
              "\n",
              "    [theme=dark] .colab-df-convert {\n",
              "      background-color: #3B4455;\n",
              "      fill: #D2E3FC;\n",
              "    }\n",
              "\n",
              "    [theme=dark] .colab-df-convert:hover {\n",
              "      background-color: #434B5C;\n",
              "      box-shadow: 0px 1px 3px 1px rgba(0, 0, 0, 0.15);\n",
              "      filter: drop-shadow(0px 1px 2px rgba(0, 0, 0, 0.3));\n",
              "      fill: #FFFFFF;\n",
              "    }\n",
              "  </style>\n",
              "\n",
              "    <script>\n",
              "      const buttonEl =\n",
              "        document.querySelector('#df-6a801402-adb9-4ba1-a82d-1484e47d7c61 button.colab-df-convert');\n",
              "      buttonEl.style.display =\n",
              "        google.colab.kernel.accessAllowed ? 'block' : 'none';\n",
              "\n",
              "      async function convertToInteractive(key) {\n",
              "        const element = document.querySelector('#df-6a801402-adb9-4ba1-a82d-1484e47d7c61');\n",
              "        const dataTable =\n",
              "          await google.colab.kernel.invokeFunction('convertToInteractive',\n",
              "                                                    [key], {});\n",
              "        if (!dataTable) return;\n",
              "\n",
              "        const docLinkHtml = 'Like what you see? Visit the ' +\n",
              "          '<a target=\"_blank\" href=https://colab.research.google.com/notebooks/data_table.ipynb>data table notebook</a>'\n",
              "          + ' to learn more about interactive tables.';\n",
              "        element.innerHTML = '';\n",
              "        dataTable['output_type'] = 'display_data';\n",
              "        await google.colab.output.renderOutput(dataTable, element);\n",
              "        const docLink = document.createElement('div');\n",
              "        docLink.innerHTML = docLinkHtml;\n",
              "        element.appendChild(docLink);\n",
              "      }\n",
              "    </script>\n",
              "  </div>\n",
              "\n",
              "\n",
              "<div id=\"df-2ec32959-66ea-4d61-b823-99a135101209\">\n",
              "  <button class=\"colab-df-quickchart\" onclick=\"quickchart('df-2ec32959-66ea-4d61-b823-99a135101209')\"\n",
              "            title=\"Suggest charts\"\n",
              "            style=\"display:none;\">\n",
              "\n",
              "<svg xmlns=\"http://www.w3.org/2000/svg\" height=\"24px\"viewBox=\"0 0 24 24\"\n",
              "     width=\"24px\">\n",
              "    <g>\n",
              "        <path d=\"M19 3H5c-1.1 0-2 .9-2 2v14c0 1.1.9 2 2 2h14c1.1 0 2-.9 2-2V5c0-1.1-.9-2-2-2zM9 17H7v-7h2v7zm4 0h-2V7h2v10zm4 0h-2v-4h2v4z\"/>\n",
              "    </g>\n",
              "</svg>\n",
              "  </button>\n",
              "\n",
              "<style>\n",
              "  .colab-df-quickchart {\n",
              "      --bg-color: #E8F0FE;\n",
              "      --fill-color: #1967D2;\n",
              "      --hover-bg-color: #E2EBFA;\n",
              "      --hover-fill-color: #174EA6;\n",
              "      --disabled-fill-color: #AAA;\n",
              "      --disabled-bg-color: #DDD;\n",
              "  }\n",
              "\n",
              "  [theme=dark] .colab-df-quickchart {\n",
              "      --bg-color: #3B4455;\n",
              "      --fill-color: #D2E3FC;\n",
              "      --hover-bg-color: #434B5C;\n",
              "      --hover-fill-color: #FFFFFF;\n",
              "      --disabled-bg-color: #3B4455;\n",
              "      --disabled-fill-color: #666;\n",
              "  }\n",
              "\n",
              "  .colab-df-quickchart {\n",
              "    background-color: var(--bg-color);\n",
              "    border: none;\n",
              "    border-radius: 50%;\n",
              "    cursor: pointer;\n",
              "    display: none;\n",
              "    fill: var(--fill-color);\n",
              "    height: 32px;\n",
              "    padding: 0;\n",
              "    width: 32px;\n",
              "  }\n",
              "\n",
              "  .colab-df-quickchart:hover {\n",
              "    background-color: var(--hover-bg-color);\n",
              "    box-shadow: 0 1px 2px rgba(60, 64, 67, 0.3), 0 1px 3px 1px rgba(60, 64, 67, 0.15);\n",
              "    fill: var(--button-hover-fill-color);\n",
              "  }\n",
              "\n",
              "  .colab-df-quickchart-complete:disabled,\n",
              "  .colab-df-quickchart-complete:disabled:hover {\n",
              "    background-color: var(--disabled-bg-color);\n",
              "    fill: var(--disabled-fill-color);\n",
              "    box-shadow: none;\n",
              "  }\n",
              "\n",
              "  .colab-df-spinner {\n",
              "    border: 2px solid var(--fill-color);\n",
              "    border-color: transparent;\n",
              "    border-bottom-color: var(--fill-color);\n",
              "    animation:\n",
              "      spin 1s steps(1) infinite;\n",
              "  }\n",
              "\n",
              "  @keyframes spin {\n",
              "    0% {\n",
              "      border-color: transparent;\n",
              "      border-bottom-color: var(--fill-color);\n",
              "      border-left-color: var(--fill-color);\n",
              "    }\n",
              "    20% {\n",
              "      border-color: transparent;\n",
              "      border-left-color: var(--fill-color);\n",
              "      border-top-color: var(--fill-color);\n",
              "    }\n",
              "    30% {\n",
              "      border-color: transparent;\n",
              "      border-left-color: var(--fill-color);\n",
              "      border-top-color: var(--fill-color);\n",
              "      border-right-color: var(--fill-color);\n",
              "    }\n",
              "    40% {\n",
              "      border-color: transparent;\n",
              "      border-right-color: var(--fill-color);\n",
              "      border-top-color: var(--fill-color);\n",
              "    }\n",
              "    60% {\n",
              "      border-color: transparent;\n",
              "      border-right-color: var(--fill-color);\n",
              "    }\n",
              "    80% {\n",
              "      border-color: transparent;\n",
              "      border-right-color: var(--fill-color);\n",
              "      border-bottom-color: var(--fill-color);\n",
              "    }\n",
              "    90% {\n",
              "      border-color: transparent;\n",
              "      border-bottom-color: var(--fill-color);\n",
              "    }\n",
              "  }\n",
              "</style>\n",
              "\n",
              "  <script>\n",
              "    async function quickchart(key) {\n",
              "      const quickchartButtonEl =\n",
              "        document.querySelector('#' + key + ' button');\n",
              "      quickchartButtonEl.disabled = true;  // To prevent multiple clicks.\n",
              "      quickchartButtonEl.classList.add('colab-df-spinner');\n",
              "      try {\n",
              "        const charts = await google.colab.kernel.invokeFunction(\n",
              "            'suggestCharts', [key], {});\n",
              "      } catch (error) {\n",
              "        console.error('Error during call to suggestCharts:', error);\n",
              "      }\n",
              "      quickchartButtonEl.classList.remove('colab-df-spinner');\n",
              "      quickchartButtonEl.classList.add('colab-df-quickchart-complete');\n",
              "    }\n",
              "    (() => {\n",
              "      let quickchartButtonEl =\n",
              "        document.querySelector('#df-2ec32959-66ea-4d61-b823-99a135101209 button');\n",
              "      quickchartButtonEl.style.display =\n",
              "        google.colab.kernel.accessAllowed ? 'block' : 'none';\n",
              "    })();\n",
              "  </script>\n",
              "</div>\n",
              "\n",
              "  <div id=\"id_f95c4b90-07d2-4f80-9aee-5c9dd81107af\">\n",
              "    <style>\n",
              "      .colab-df-generate {\n",
              "        background-color: #E8F0FE;\n",
              "        border: none;\n",
              "        border-radius: 50%;\n",
              "        cursor: pointer;\n",
              "        display: none;\n",
              "        fill: #1967D2;\n",
              "        height: 32px;\n",
              "        padding: 0 0 0 0;\n",
              "        width: 32px;\n",
              "      }\n",
              "\n",
              "      .colab-df-generate:hover {\n",
              "        background-color: #E2EBFA;\n",
              "        box-shadow: 0px 1px 2px rgba(60, 64, 67, 0.3), 0px 1px 3px 1px rgba(60, 64, 67, 0.15);\n",
              "        fill: #174EA6;\n",
              "      }\n",
              "\n",
              "      [theme=dark] .colab-df-generate {\n",
              "        background-color: #3B4455;\n",
              "        fill: #D2E3FC;\n",
              "      }\n",
              "\n",
              "      [theme=dark] .colab-df-generate:hover {\n",
              "        background-color: #434B5C;\n",
              "        box-shadow: 0px 1px 3px 1px rgba(0, 0, 0, 0.15);\n",
              "        filter: drop-shadow(0px 1px 2px rgba(0, 0, 0, 0.3));\n",
              "        fill: #FFFFFF;\n",
              "      }\n",
              "    </style>\n",
              "    <button class=\"colab-df-generate\" onclick=\"generateWithVariable('df')\"\n",
              "            title=\"Generate code using this dataframe.\"\n",
              "            style=\"display:none;\">\n",
              "\n",
              "  <svg xmlns=\"http://www.w3.org/2000/svg\" height=\"24px\"viewBox=\"0 0 24 24\"\n",
              "       width=\"24px\">\n",
              "    <path d=\"M7,19H8.4L18.45,9,17,7.55,7,17.6ZM5,21V16.75L18.45,3.32a2,2,0,0,1,2.83,0l1.4,1.43a1.91,1.91,0,0,1,.58,1.4,1.91,1.91,0,0,1-.58,1.4L9.25,21ZM18.45,9,17,7.55Zm-12,3A5.31,5.31,0,0,0,4.9,8.1,5.31,5.31,0,0,0,1,6.5,5.31,5.31,0,0,0,4.9,4.9,5.31,5.31,0,0,0,6.5,1,5.31,5.31,0,0,0,8.1,4.9,5.31,5.31,0,0,0,12,6.5,5.46,5.46,0,0,0,6.5,12Z\"/>\n",
              "  </svg>\n",
              "    </button>\n",
              "    <script>\n",
              "      (() => {\n",
              "      const buttonEl =\n",
              "        document.querySelector('#id_f95c4b90-07d2-4f80-9aee-5c9dd81107af button.colab-df-generate');\n",
              "      buttonEl.style.display =\n",
              "        google.colab.kernel.accessAllowed ? 'block' : 'none';\n",
              "\n",
              "      buttonEl.onclick = () => {\n",
              "        google.colab.notebook.generateWithVariable('df');\n",
              "      }\n",
              "      })();\n",
              "    </script>\n",
              "  </div>\n",
              "\n",
              "    </div>\n",
              "  </div>\n"
            ],
            "application/vnd.google.colaboratory.intrinsic+json": {
              "type": "dataframe",
              "variable_name": "df"
            }
          },
          "metadata": {},
          "execution_count": 5
        }
      ]
    },
    {
      "cell_type": "code",
      "source": [
        "df['Location'].nunique()"
      ],
      "metadata": {
        "id": "jOmwF3wZrxs9",
        "outputId": "d89bfe3b-1c2a-4d75-e44e-c9e911c4e4ca",
        "colab": {
          "base_uri": "https://localhost:8080/"
        }
      },
      "id": "jOmwF3wZrxs9",
      "execution_count": 359,
      "outputs": [
        {
          "output_type": "execute_result",
          "data": {
            "text/plain": [
              "243"
            ]
          },
          "metadata": {},
          "execution_count": 359
        }
      ]
    },
    {
      "cell_type": "code",
      "source": [
        "# turn the location strings into numbers\n",
        "\n",
        "from sklearn.preprocessing import LabelEncoder, MinMaxScaler\n",
        "label_encoder = LabelEncoder()\n",
        "df['Loc'] = label_encoder.fit_transform(df['Location'])\n",
        "scaler = MinMaxScaler()\n",
        "# df['Area_scaled'] = scaler.fit_transform(df[['Area']])\n",
        "# df['Loc_scaled'] = scaler.fit_transform(df[['Loc']])\n",
        "df"
      ],
      "metadata": {
        "id": "DHDQ8jweshu4",
        "outputId": "49cf6a99-bb53-42dd-a1d5-021c6522e5eb",
        "colab": {
          "base_uri": "https://localhost:8080/",
          "height": 461
        }
      },
      "id": "DHDQ8jweshu4",
      "execution_count": 6,
      "outputs": [
        {
          "output_type": "execute_result",
          "data": {
            "text/plain": [
              "         Price  Area     Location  No. of Bedrooms  Resale  MaintenanceStaff  \\\n",
              "0      6968000  1340     Nizampet                2       0                 0   \n",
              "1     29000000  3498  Hitech City                4       0                 0   \n",
              "2      6590000  1318    Manikonda                2       0                 0   \n",
              "3      5739000  1295        Alwal                3       1                 0   \n",
              "4      5679000  1145   Kukatpally                2       0                 0   \n",
              "...        ...   ...          ...              ...     ...               ...   \n",
              "2513  11000000  1460     Nacharam                2       1                 9   \n",
              "2514  26000000  1314    Manikonda                2       1                 9   \n",
              "2515  13300000  2625     Madhapur                3       1                 9   \n",
              "2516  10800000  2050  Hitech City                3       0                 9   \n",
              "2517  10400000  1805     Narsingi                3       0                 9   \n",
              "\n",
              "      Gymnasium  SwimmingPool  LandscapedGardens  JoggingTrack  ...  BED  \\\n",
              "0             1             1                  1             1  ...    0   \n",
              "1             1             1                  1             1  ...    0   \n",
              "2             1             0                  0             0  ...    0   \n",
              "3             0             0                  0             0  ...    0   \n",
              "4             0             0                  1             0  ...    0   \n",
              "...         ...           ...                ...           ...  ...  ...   \n",
              "2513          9             9                  9             9  ...    9   \n",
              "2514          9             9                  9             9  ...    9   \n",
              "2515          9             9                  9             9  ...    9   \n",
              "2516          9             9                  9             9  ...    9   \n",
              "2517          9             9                  9             9  ...    9   \n",
              "\n",
              "      VaastuCompliant  Microwave  GolfCourse  TV  DiningTable  Sofa  Wardrobe  \\\n",
              "0                   1          0           0   0            0     0         0   \n",
              "1                   1          0           0   0            0     0         0   \n",
              "2                   0          0           0   0            0     0         0   \n",
              "3                   0          0           0   0            0     0         0   \n",
              "4                   0          0           0   0            0     0         0   \n",
              "...               ...        ...         ...  ..          ...   ...       ...   \n",
              "2513                9          9           9   9            9     9         9   \n",
              "2514                9          9           9   9            9     9         9   \n",
              "2515                9          9           9   9            9     9         9   \n",
              "2516                9          9           9   9            9     9         9   \n",
              "2517                9          9           9   9            9     9         9   \n",
              "\n",
              "      Refrigerator  Loc  \n",
              "0                0  162  \n",
              "1                0   85  \n",
              "2                0  132  \n",
              "3                0    9  \n",
              "4                0  118  \n",
              "...            ...  ...  \n",
              "2513             9  150  \n",
              "2514             9  132  \n",
              "2515             9  124  \n",
              "2516             9   85  \n",
              "2517             9  158  \n",
              "\n",
              "[2518 rows x 41 columns]"
            ],
            "text/html": [
              "\n",
              "  <div id=\"df-f3152bdf-1a7d-4acb-b4c4-f454f4b96193\" class=\"colab-df-container\">\n",
              "    <div>\n",
              "<style scoped>\n",
              "    .dataframe tbody tr th:only-of-type {\n",
              "        vertical-align: middle;\n",
              "    }\n",
              "\n",
              "    .dataframe tbody tr th {\n",
              "        vertical-align: top;\n",
              "    }\n",
              "\n",
              "    .dataframe thead th {\n",
              "        text-align: right;\n",
              "    }\n",
              "</style>\n",
              "<table border=\"1\" class=\"dataframe\">\n",
              "  <thead>\n",
              "    <tr style=\"text-align: right;\">\n",
              "      <th></th>\n",
              "      <th>Price</th>\n",
              "      <th>Area</th>\n",
              "      <th>Location</th>\n",
              "      <th>No. of Bedrooms</th>\n",
              "      <th>Resale</th>\n",
              "      <th>MaintenanceStaff</th>\n",
              "      <th>Gymnasium</th>\n",
              "      <th>SwimmingPool</th>\n",
              "      <th>LandscapedGardens</th>\n",
              "      <th>JoggingTrack</th>\n",
              "      <th>...</th>\n",
              "      <th>BED</th>\n",
              "      <th>VaastuCompliant</th>\n",
              "      <th>Microwave</th>\n",
              "      <th>GolfCourse</th>\n",
              "      <th>TV</th>\n",
              "      <th>DiningTable</th>\n",
              "      <th>Sofa</th>\n",
              "      <th>Wardrobe</th>\n",
              "      <th>Refrigerator</th>\n",
              "      <th>Loc</th>\n",
              "    </tr>\n",
              "  </thead>\n",
              "  <tbody>\n",
              "    <tr>\n",
              "      <th>0</th>\n",
              "      <td>6968000</td>\n",
              "      <td>1340</td>\n",
              "      <td>Nizampet</td>\n",
              "      <td>2</td>\n",
              "      <td>0</td>\n",
              "      <td>0</td>\n",
              "      <td>1</td>\n",
              "      <td>1</td>\n",
              "      <td>1</td>\n",
              "      <td>1</td>\n",
              "      <td>...</td>\n",
              "      <td>0</td>\n",
              "      <td>1</td>\n",
              "      <td>0</td>\n",
              "      <td>0</td>\n",
              "      <td>0</td>\n",
              "      <td>0</td>\n",
              "      <td>0</td>\n",
              "      <td>0</td>\n",
              "      <td>0</td>\n",
              "      <td>162</td>\n",
              "    </tr>\n",
              "    <tr>\n",
              "      <th>1</th>\n",
              "      <td>29000000</td>\n",
              "      <td>3498</td>\n",
              "      <td>Hitech City</td>\n",
              "      <td>4</td>\n",
              "      <td>0</td>\n",
              "      <td>0</td>\n",
              "      <td>1</td>\n",
              "      <td>1</td>\n",
              "      <td>1</td>\n",
              "      <td>1</td>\n",
              "      <td>...</td>\n",
              "      <td>0</td>\n",
              "      <td>1</td>\n",
              "      <td>0</td>\n",
              "      <td>0</td>\n",
              "      <td>0</td>\n",
              "      <td>0</td>\n",
              "      <td>0</td>\n",
              "      <td>0</td>\n",
              "      <td>0</td>\n",
              "      <td>85</td>\n",
              "    </tr>\n",
              "    <tr>\n",
              "      <th>2</th>\n",
              "      <td>6590000</td>\n",
              "      <td>1318</td>\n",
              "      <td>Manikonda</td>\n",
              "      <td>2</td>\n",
              "      <td>0</td>\n",
              "      <td>0</td>\n",
              "      <td>1</td>\n",
              "      <td>0</td>\n",
              "      <td>0</td>\n",
              "      <td>0</td>\n",
              "      <td>...</td>\n",
              "      <td>0</td>\n",
              "      <td>0</td>\n",
              "      <td>0</td>\n",
              "      <td>0</td>\n",
              "      <td>0</td>\n",
              "      <td>0</td>\n",
              "      <td>0</td>\n",
              "      <td>0</td>\n",
              "      <td>0</td>\n",
              "      <td>132</td>\n",
              "    </tr>\n",
              "    <tr>\n",
              "      <th>3</th>\n",
              "      <td>5739000</td>\n",
              "      <td>1295</td>\n",
              "      <td>Alwal</td>\n",
              "      <td>3</td>\n",
              "      <td>1</td>\n",
              "      <td>0</td>\n",
              "      <td>0</td>\n",
              "      <td>0</td>\n",
              "      <td>0</td>\n",
              "      <td>0</td>\n",
              "      <td>...</td>\n",
              "      <td>0</td>\n",
              "      <td>0</td>\n",
              "      <td>0</td>\n",
              "      <td>0</td>\n",
              "      <td>0</td>\n",
              "      <td>0</td>\n",
              "      <td>0</td>\n",
              "      <td>0</td>\n",
              "      <td>0</td>\n",
              "      <td>9</td>\n",
              "    </tr>\n",
              "    <tr>\n",
              "      <th>4</th>\n",
              "      <td>5679000</td>\n",
              "      <td>1145</td>\n",
              "      <td>Kukatpally</td>\n",
              "      <td>2</td>\n",
              "      <td>0</td>\n",
              "      <td>0</td>\n",
              "      <td>0</td>\n",
              "      <td>0</td>\n",
              "      <td>1</td>\n",
              "      <td>0</td>\n",
              "      <td>...</td>\n",
              "      <td>0</td>\n",
              "      <td>0</td>\n",
              "      <td>0</td>\n",
              "      <td>0</td>\n",
              "      <td>0</td>\n",
              "      <td>0</td>\n",
              "      <td>0</td>\n",
              "      <td>0</td>\n",
              "      <td>0</td>\n",
              "      <td>118</td>\n",
              "    </tr>\n",
              "    <tr>\n",
              "      <th>...</th>\n",
              "      <td>...</td>\n",
              "      <td>...</td>\n",
              "      <td>...</td>\n",
              "      <td>...</td>\n",
              "      <td>...</td>\n",
              "      <td>...</td>\n",
              "      <td>...</td>\n",
              "      <td>...</td>\n",
              "      <td>...</td>\n",
              "      <td>...</td>\n",
              "      <td>...</td>\n",
              "      <td>...</td>\n",
              "      <td>...</td>\n",
              "      <td>...</td>\n",
              "      <td>...</td>\n",
              "      <td>...</td>\n",
              "      <td>...</td>\n",
              "      <td>...</td>\n",
              "      <td>...</td>\n",
              "      <td>...</td>\n",
              "      <td>...</td>\n",
              "    </tr>\n",
              "    <tr>\n",
              "      <th>2513</th>\n",
              "      <td>11000000</td>\n",
              "      <td>1460</td>\n",
              "      <td>Nacharam</td>\n",
              "      <td>2</td>\n",
              "      <td>1</td>\n",
              "      <td>9</td>\n",
              "      <td>9</td>\n",
              "      <td>9</td>\n",
              "      <td>9</td>\n",
              "      <td>9</td>\n",
              "      <td>...</td>\n",
              "      <td>9</td>\n",
              "      <td>9</td>\n",
              "      <td>9</td>\n",
              "      <td>9</td>\n",
              "      <td>9</td>\n",
              "      <td>9</td>\n",
              "      <td>9</td>\n",
              "      <td>9</td>\n",
              "      <td>9</td>\n",
              "      <td>150</td>\n",
              "    </tr>\n",
              "    <tr>\n",
              "      <th>2514</th>\n",
              "      <td>26000000</td>\n",
              "      <td>1314</td>\n",
              "      <td>Manikonda</td>\n",
              "      <td>2</td>\n",
              "      <td>1</td>\n",
              "      <td>9</td>\n",
              "      <td>9</td>\n",
              "      <td>9</td>\n",
              "      <td>9</td>\n",
              "      <td>9</td>\n",
              "      <td>...</td>\n",
              "      <td>9</td>\n",
              "      <td>9</td>\n",
              "      <td>9</td>\n",
              "      <td>9</td>\n",
              "      <td>9</td>\n",
              "      <td>9</td>\n",
              "      <td>9</td>\n",
              "      <td>9</td>\n",
              "      <td>9</td>\n",
              "      <td>132</td>\n",
              "    </tr>\n",
              "    <tr>\n",
              "      <th>2515</th>\n",
              "      <td>13300000</td>\n",
              "      <td>2625</td>\n",
              "      <td>Madhapur</td>\n",
              "      <td>3</td>\n",
              "      <td>1</td>\n",
              "      <td>9</td>\n",
              "      <td>9</td>\n",
              "      <td>9</td>\n",
              "      <td>9</td>\n",
              "      <td>9</td>\n",
              "      <td>...</td>\n",
              "      <td>9</td>\n",
              "      <td>9</td>\n",
              "      <td>9</td>\n",
              "      <td>9</td>\n",
              "      <td>9</td>\n",
              "      <td>9</td>\n",
              "      <td>9</td>\n",
              "      <td>9</td>\n",
              "      <td>9</td>\n",
              "      <td>124</td>\n",
              "    </tr>\n",
              "    <tr>\n",
              "      <th>2516</th>\n",
              "      <td>10800000</td>\n",
              "      <td>2050</td>\n",
              "      <td>Hitech City</td>\n",
              "      <td>3</td>\n",
              "      <td>0</td>\n",
              "      <td>9</td>\n",
              "      <td>9</td>\n",
              "      <td>9</td>\n",
              "      <td>9</td>\n",
              "      <td>9</td>\n",
              "      <td>...</td>\n",
              "      <td>9</td>\n",
              "      <td>9</td>\n",
              "      <td>9</td>\n",
              "      <td>9</td>\n",
              "      <td>9</td>\n",
              "      <td>9</td>\n",
              "      <td>9</td>\n",
              "      <td>9</td>\n",
              "      <td>9</td>\n",
              "      <td>85</td>\n",
              "    </tr>\n",
              "    <tr>\n",
              "      <th>2517</th>\n",
              "      <td>10400000</td>\n",
              "      <td>1805</td>\n",
              "      <td>Narsingi</td>\n",
              "      <td>3</td>\n",
              "      <td>0</td>\n",
              "      <td>9</td>\n",
              "      <td>9</td>\n",
              "      <td>9</td>\n",
              "      <td>9</td>\n",
              "      <td>9</td>\n",
              "      <td>...</td>\n",
              "      <td>9</td>\n",
              "      <td>9</td>\n",
              "      <td>9</td>\n",
              "      <td>9</td>\n",
              "      <td>9</td>\n",
              "      <td>9</td>\n",
              "      <td>9</td>\n",
              "      <td>9</td>\n",
              "      <td>9</td>\n",
              "      <td>158</td>\n",
              "    </tr>\n",
              "  </tbody>\n",
              "</table>\n",
              "<p>2518 rows × 41 columns</p>\n",
              "</div>\n",
              "    <div class=\"colab-df-buttons\">\n",
              "\n",
              "  <div class=\"colab-df-container\">\n",
              "    <button class=\"colab-df-convert\" onclick=\"convertToInteractive('df-f3152bdf-1a7d-4acb-b4c4-f454f4b96193')\"\n",
              "            title=\"Convert this dataframe to an interactive table.\"\n",
              "            style=\"display:none;\">\n",
              "\n",
              "  <svg xmlns=\"http://www.w3.org/2000/svg\" height=\"24px\" viewBox=\"0 -960 960 960\">\n",
              "    <path d=\"M120-120v-720h720v720H120Zm60-500h600v-160H180v160Zm220 220h160v-160H400v160Zm0 220h160v-160H400v160ZM180-400h160v-160H180v160Zm440 0h160v-160H620v160ZM180-180h160v-160H180v160Zm440 0h160v-160H620v160Z\"/>\n",
              "  </svg>\n",
              "    </button>\n",
              "\n",
              "  <style>\n",
              "    .colab-df-container {\n",
              "      display:flex;\n",
              "      gap: 12px;\n",
              "    }\n",
              "\n",
              "    .colab-df-convert {\n",
              "      background-color: #E8F0FE;\n",
              "      border: none;\n",
              "      border-radius: 50%;\n",
              "      cursor: pointer;\n",
              "      display: none;\n",
              "      fill: #1967D2;\n",
              "      height: 32px;\n",
              "      padding: 0 0 0 0;\n",
              "      width: 32px;\n",
              "    }\n",
              "\n",
              "    .colab-df-convert:hover {\n",
              "      background-color: #E2EBFA;\n",
              "      box-shadow: 0px 1px 2px rgba(60, 64, 67, 0.3), 0px 1px 3px 1px rgba(60, 64, 67, 0.15);\n",
              "      fill: #174EA6;\n",
              "    }\n",
              "\n",
              "    .colab-df-buttons div {\n",
              "      margin-bottom: 4px;\n",
              "    }\n",
              "\n",
              "    [theme=dark] .colab-df-convert {\n",
              "      background-color: #3B4455;\n",
              "      fill: #D2E3FC;\n",
              "    }\n",
              "\n",
              "    [theme=dark] .colab-df-convert:hover {\n",
              "      background-color: #434B5C;\n",
              "      box-shadow: 0px 1px 3px 1px rgba(0, 0, 0, 0.15);\n",
              "      filter: drop-shadow(0px 1px 2px rgba(0, 0, 0, 0.3));\n",
              "      fill: #FFFFFF;\n",
              "    }\n",
              "  </style>\n",
              "\n",
              "    <script>\n",
              "      const buttonEl =\n",
              "        document.querySelector('#df-f3152bdf-1a7d-4acb-b4c4-f454f4b96193 button.colab-df-convert');\n",
              "      buttonEl.style.display =\n",
              "        google.colab.kernel.accessAllowed ? 'block' : 'none';\n",
              "\n",
              "      async function convertToInteractive(key) {\n",
              "        const element = document.querySelector('#df-f3152bdf-1a7d-4acb-b4c4-f454f4b96193');\n",
              "        const dataTable =\n",
              "          await google.colab.kernel.invokeFunction('convertToInteractive',\n",
              "                                                    [key], {});\n",
              "        if (!dataTable) return;\n",
              "\n",
              "        const docLinkHtml = 'Like what you see? Visit the ' +\n",
              "          '<a target=\"_blank\" href=https://colab.research.google.com/notebooks/data_table.ipynb>data table notebook</a>'\n",
              "          + ' to learn more about interactive tables.';\n",
              "        element.innerHTML = '';\n",
              "        dataTable['output_type'] = 'display_data';\n",
              "        await google.colab.output.renderOutput(dataTable, element);\n",
              "        const docLink = document.createElement('div');\n",
              "        docLink.innerHTML = docLinkHtml;\n",
              "        element.appendChild(docLink);\n",
              "      }\n",
              "    </script>\n",
              "  </div>\n",
              "\n",
              "\n",
              "<div id=\"df-8eb007b2-12ed-4af5-a449-e5405ac053d3\">\n",
              "  <button class=\"colab-df-quickchart\" onclick=\"quickchart('df-8eb007b2-12ed-4af5-a449-e5405ac053d3')\"\n",
              "            title=\"Suggest charts\"\n",
              "            style=\"display:none;\">\n",
              "\n",
              "<svg xmlns=\"http://www.w3.org/2000/svg\" height=\"24px\"viewBox=\"0 0 24 24\"\n",
              "     width=\"24px\">\n",
              "    <g>\n",
              "        <path d=\"M19 3H5c-1.1 0-2 .9-2 2v14c0 1.1.9 2 2 2h14c1.1 0 2-.9 2-2V5c0-1.1-.9-2-2-2zM9 17H7v-7h2v7zm4 0h-2V7h2v10zm4 0h-2v-4h2v4z\"/>\n",
              "    </g>\n",
              "</svg>\n",
              "  </button>\n",
              "\n",
              "<style>\n",
              "  .colab-df-quickchart {\n",
              "      --bg-color: #E8F0FE;\n",
              "      --fill-color: #1967D2;\n",
              "      --hover-bg-color: #E2EBFA;\n",
              "      --hover-fill-color: #174EA6;\n",
              "      --disabled-fill-color: #AAA;\n",
              "      --disabled-bg-color: #DDD;\n",
              "  }\n",
              "\n",
              "  [theme=dark] .colab-df-quickchart {\n",
              "      --bg-color: #3B4455;\n",
              "      --fill-color: #D2E3FC;\n",
              "      --hover-bg-color: #434B5C;\n",
              "      --hover-fill-color: #FFFFFF;\n",
              "      --disabled-bg-color: #3B4455;\n",
              "      --disabled-fill-color: #666;\n",
              "  }\n",
              "\n",
              "  .colab-df-quickchart {\n",
              "    background-color: var(--bg-color);\n",
              "    border: none;\n",
              "    border-radius: 50%;\n",
              "    cursor: pointer;\n",
              "    display: none;\n",
              "    fill: var(--fill-color);\n",
              "    height: 32px;\n",
              "    padding: 0;\n",
              "    width: 32px;\n",
              "  }\n",
              "\n",
              "  .colab-df-quickchart:hover {\n",
              "    background-color: var(--hover-bg-color);\n",
              "    box-shadow: 0 1px 2px rgba(60, 64, 67, 0.3), 0 1px 3px 1px rgba(60, 64, 67, 0.15);\n",
              "    fill: var(--button-hover-fill-color);\n",
              "  }\n",
              "\n",
              "  .colab-df-quickchart-complete:disabled,\n",
              "  .colab-df-quickchart-complete:disabled:hover {\n",
              "    background-color: var(--disabled-bg-color);\n",
              "    fill: var(--disabled-fill-color);\n",
              "    box-shadow: none;\n",
              "  }\n",
              "\n",
              "  .colab-df-spinner {\n",
              "    border: 2px solid var(--fill-color);\n",
              "    border-color: transparent;\n",
              "    border-bottom-color: var(--fill-color);\n",
              "    animation:\n",
              "      spin 1s steps(1) infinite;\n",
              "  }\n",
              "\n",
              "  @keyframes spin {\n",
              "    0% {\n",
              "      border-color: transparent;\n",
              "      border-bottom-color: var(--fill-color);\n",
              "      border-left-color: var(--fill-color);\n",
              "    }\n",
              "    20% {\n",
              "      border-color: transparent;\n",
              "      border-left-color: var(--fill-color);\n",
              "      border-top-color: var(--fill-color);\n",
              "    }\n",
              "    30% {\n",
              "      border-color: transparent;\n",
              "      border-left-color: var(--fill-color);\n",
              "      border-top-color: var(--fill-color);\n",
              "      border-right-color: var(--fill-color);\n",
              "    }\n",
              "    40% {\n",
              "      border-color: transparent;\n",
              "      border-right-color: var(--fill-color);\n",
              "      border-top-color: var(--fill-color);\n",
              "    }\n",
              "    60% {\n",
              "      border-color: transparent;\n",
              "      border-right-color: var(--fill-color);\n",
              "    }\n",
              "    80% {\n",
              "      border-color: transparent;\n",
              "      border-right-color: var(--fill-color);\n",
              "      border-bottom-color: var(--fill-color);\n",
              "    }\n",
              "    90% {\n",
              "      border-color: transparent;\n",
              "      border-bottom-color: var(--fill-color);\n",
              "    }\n",
              "  }\n",
              "</style>\n",
              "\n",
              "  <script>\n",
              "    async function quickchart(key) {\n",
              "      const quickchartButtonEl =\n",
              "        document.querySelector('#' + key + ' button');\n",
              "      quickchartButtonEl.disabled = true;  // To prevent multiple clicks.\n",
              "      quickchartButtonEl.classList.add('colab-df-spinner');\n",
              "      try {\n",
              "        const charts = await google.colab.kernel.invokeFunction(\n",
              "            'suggestCharts', [key], {});\n",
              "      } catch (error) {\n",
              "        console.error('Error during call to suggestCharts:', error);\n",
              "      }\n",
              "      quickchartButtonEl.classList.remove('colab-df-spinner');\n",
              "      quickchartButtonEl.classList.add('colab-df-quickchart-complete');\n",
              "    }\n",
              "    (() => {\n",
              "      let quickchartButtonEl =\n",
              "        document.querySelector('#df-8eb007b2-12ed-4af5-a449-e5405ac053d3 button');\n",
              "      quickchartButtonEl.style.display =\n",
              "        google.colab.kernel.accessAllowed ? 'block' : 'none';\n",
              "    })();\n",
              "  </script>\n",
              "</div>\n",
              "\n",
              "  <div id=\"id_c5e57298-e706-41ab-a3a9-3a4363d92ac4\">\n",
              "    <style>\n",
              "      .colab-df-generate {\n",
              "        background-color: #E8F0FE;\n",
              "        border: none;\n",
              "        border-radius: 50%;\n",
              "        cursor: pointer;\n",
              "        display: none;\n",
              "        fill: #1967D2;\n",
              "        height: 32px;\n",
              "        padding: 0 0 0 0;\n",
              "        width: 32px;\n",
              "      }\n",
              "\n",
              "      .colab-df-generate:hover {\n",
              "        background-color: #E2EBFA;\n",
              "        box-shadow: 0px 1px 2px rgba(60, 64, 67, 0.3), 0px 1px 3px 1px rgba(60, 64, 67, 0.15);\n",
              "        fill: #174EA6;\n",
              "      }\n",
              "\n",
              "      [theme=dark] .colab-df-generate {\n",
              "        background-color: #3B4455;\n",
              "        fill: #D2E3FC;\n",
              "      }\n",
              "\n",
              "      [theme=dark] .colab-df-generate:hover {\n",
              "        background-color: #434B5C;\n",
              "        box-shadow: 0px 1px 3px 1px rgba(0, 0, 0, 0.15);\n",
              "        filter: drop-shadow(0px 1px 2px rgba(0, 0, 0, 0.3));\n",
              "        fill: #FFFFFF;\n",
              "      }\n",
              "    </style>\n",
              "    <button class=\"colab-df-generate\" onclick=\"generateWithVariable('df')\"\n",
              "            title=\"Generate code using this dataframe.\"\n",
              "            style=\"display:none;\">\n",
              "\n",
              "  <svg xmlns=\"http://www.w3.org/2000/svg\" height=\"24px\"viewBox=\"0 0 24 24\"\n",
              "       width=\"24px\">\n",
              "    <path d=\"M7,19H8.4L18.45,9,17,7.55,7,17.6ZM5,21V16.75L18.45,3.32a2,2,0,0,1,2.83,0l1.4,1.43a1.91,1.91,0,0,1,.58,1.4,1.91,1.91,0,0,1-.58,1.4L9.25,21ZM18.45,9,17,7.55Zm-12,3A5.31,5.31,0,0,0,4.9,8.1,5.31,5.31,0,0,0,1,6.5,5.31,5.31,0,0,0,4.9,4.9,5.31,5.31,0,0,0,6.5,1,5.31,5.31,0,0,0,8.1,4.9,5.31,5.31,0,0,0,12,6.5,5.46,5.46,0,0,0,6.5,12Z\"/>\n",
              "  </svg>\n",
              "    </button>\n",
              "    <script>\n",
              "      (() => {\n",
              "      const buttonEl =\n",
              "        document.querySelector('#id_c5e57298-e706-41ab-a3a9-3a4363d92ac4 button.colab-df-generate');\n",
              "      buttonEl.style.display =\n",
              "        google.colab.kernel.accessAllowed ? 'block' : 'none';\n",
              "\n",
              "      buttonEl.onclick = () => {\n",
              "        google.colab.notebook.generateWithVariable('df');\n",
              "      }\n",
              "      })();\n",
              "    </script>\n",
              "  </div>\n",
              "\n",
              "    </div>\n",
              "  </div>\n"
            ],
            "application/vnd.google.colaboratory.intrinsic+json": {
              "type": "dataframe",
              "variable_name": "df"
            }
          },
          "metadata": {},
          "execution_count": 6
        }
      ]
    },
    {
      "cell_type": "code",
      "source": [
        "df.max()"
      ],
      "metadata": {
        "colab": {
          "base_uri": "https://localhost:8080/",
          "height": 1000
        },
        "id": "v86O8CGp-26D",
        "outputId": "710a65ac-85e6-46f1-9610-00e3804ae66c"
      },
      "id": "v86O8CGp-26D",
      "execution_count": 399,
      "outputs": [
        {
          "output_type": "execute_result",
          "data": {
            "text/plain": [
              "Price                          165000000\n",
              "Area                                9400\n",
              "Location               west venkatapuram\n",
              "No. of Bedrooms                        8\n",
              "Resale                                 1\n",
              "MaintenanceStaff                       9\n",
              "Gymnasium                              9\n",
              "SwimmingPool                           9\n",
              "LandscapedGardens                      9\n",
              "JoggingTrack                           9\n",
              "RainWaterHarvesting                    9\n",
              "IndoorGames                            9\n",
              "ShoppingMall                           9\n",
              "Intercom                               9\n",
              "SportsFacility                         9\n",
              "ATM                                    9\n",
              "ClubHouse                              9\n",
              "School                                 9\n",
              "24X7Security                           9\n",
              "PowerBackup                            9\n",
              "CarParking                             9\n",
              "StaffQuarter                           9\n",
              "Cafeteria                              9\n",
              "MultipurposeRoom                       9\n",
              "Hospital                               9\n",
              "WashingMachine                         9\n",
              "Gasconnection                          9\n",
              "AC                                     9\n",
              "Wifi                                   9\n",
              "Children'splayarea                     9\n",
              "LiftAvailable                          9\n",
              "BED                                    9\n",
              "VaastuCompliant                        9\n",
              "Microwave                              9\n",
              "GolfCourse                             9\n",
              "TV                                     9\n",
              "DiningTable                            9\n",
              "Sofa                                   9\n",
              "Wardrobe                               9\n",
              "Refrigerator                           9\n",
              "Loc                                  242\n",
              "dtype: object"
            ],
            "text/html": [
              "<div>\n",
              "<style scoped>\n",
              "    .dataframe tbody tr th:only-of-type {\n",
              "        vertical-align: middle;\n",
              "    }\n",
              "\n",
              "    .dataframe tbody tr th {\n",
              "        vertical-align: top;\n",
              "    }\n",
              "\n",
              "    .dataframe thead th {\n",
              "        text-align: right;\n",
              "    }\n",
              "</style>\n",
              "<table border=\"1\" class=\"dataframe\">\n",
              "  <thead>\n",
              "    <tr style=\"text-align: right;\">\n",
              "      <th></th>\n",
              "      <th>0</th>\n",
              "    </tr>\n",
              "  </thead>\n",
              "  <tbody>\n",
              "    <tr>\n",
              "      <th>Price</th>\n",
              "      <td>165000000</td>\n",
              "    </tr>\n",
              "    <tr>\n",
              "      <th>Area</th>\n",
              "      <td>9400</td>\n",
              "    </tr>\n",
              "    <tr>\n",
              "      <th>Location</th>\n",
              "      <td>west venkatapuram</td>\n",
              "    </tr>\n",
              "    <tr>\n",
              "      <th>No. of Bedrooms</th>\n",
              "      <td>8</td>\n",
              "    </tr>\n",
              "    <tr>\n",
              "      <th>Resale</th>\n",
              "      <td>1</td>\n",
              "    </tr>\n",
              "    <tr>\n",
              "      <th>MaintenanceStaff</th>\n",
              "      <td>9</td>\n",
              "    </tr>\n",
              "    <tr>\n",
              "      <th>Gymnasium</th>\n",
              "      <td>9</td>\n",
              "    </tr>\n",
              "    <tr>\n",
              "      <th>SwimmingPool</th>\n",
              "      <td>9</td>\n",
              "    </tr>\n",
              "    <tr>\n",
              "      <th>LandscapedGardens</th>\n",
              "      <td>9</td>\n",
              "    </tr>\n",
              "    <tr>\n",
              "      <th>JoggingTrack</th>\n",
              "      <td>9</td>\n",
              "    </tr>\n",
              "    <tr>\n",
              "      <th>RainWaterHarvesting</th>\n",
              "      <td>9</td>\n",
              "    </tr>\n",
              "    <tr>\n",
              "      <th>IndoorGames</th>\n",
              "      <td>9</td>\n",
              "    </tr>\n",
              "    <tr>\n",
              "      <th>ShoppingMall</th>\n",
              "      <td>9</td>\n",
              "    </tr>\n",
              "    <tr>\n",
              "      <th>Intercom</th>\n",
              "      <td>9</td>\n",
              "    </tr>\n",
              "    <tr>\n",
              "      <th>SportsFacility</th>\n",
              "      <td>9</td>\n",
              "    </tr>\n",
              "    <tr>\n",
              "      <th>ATM</th>\n",
              "      <td>9</td>\n",
              "    </tr>\n",
              "    <tr>\n",
              "      <th>ClubHouse</th>\n",
              "      <td>9</td>\n",
              "    </tr>\n",
              "    <tr>\n",
              "      <th>School</th>\n",
              "      <td>9</td>\n",
              "    </tr>\n",
              "    <tr>\n",
              "      <th>24X7Security</th>\n",
              "      <td>9</td>\n",
              "    </tr>\n",
              "    <tr>\n",
              "      <th>PowerBackup</th>\n",
              "      <td>9</td>\n",
              "    </tr>\n",
              "    <tr>\n",
              "      <th>CarParking</th>\n",
              "      <td>9</td>\n",
              "    </tr>\n",
              "    <tr>\n",
              "      <th>StaffQuarter</th>\n",
              "      <td>9</td>\n",
              "    </tr>\n",
              "    <tr>\n",
              "      <th>Cafeteria</th>\n",
              "      <td>9</td>\n",
              "    </tr>\n",
              "    <tr>\n",
              "      <th>MultipurposeRoom</th>\n",
              "      <td>9</td>\n",
              "    </tr>\n",
              "    <tr>\n",
              "      <th>Hospital</th>\n",
              "      <td>9</td>\n",
              "    </tr>\n",
              "    <tr>\n",
              "      <th>WashingMachine</th>\n",
              "      <td>9</td>\n",
              "    </tr>\n",
              "    <tr>\n",
              "      <th>Gasconnection</th>\n",
              "      <td>9</td>\n",
              "    </tr>\n",
              "    <tr>\n",
              "      <th>AC</th>\n",
              "      <td>9</td>\n",
              "    </tr>\n",
              "    <tr>\n",
              "      <th>Wifi</th>\n",
              "      <td>9</td>\n",
              "    </tr>\n",
              "    <tr>\n",
              "      <th>Children'splayarea</th>\n",
              "      <td>9</td>\n",
              "    </tr>\n",
              "    <tr>\n",
              "      <th>LiftAvailable</th>\n",
              "      <td>9</td>\n",
              "    </tr>\n",
              "    <tr>\n",
              "      <th>BED</th>\n",
              "      <td>9</td>\n",
              "    </tr>\n",
              "    <tr>\n",
              "      <th>VaastuCompliant</th>\n",
              "      <td>9</td>\n",
              "    </tr>\n",
              "    <tr>\n",
              "      <th>Microwave</th>\n",
              "      <td>9</td>\n",
              "    </tr>\n",
              "    <tr>\n",
              "      <th>GolfCourse</th>\n",
              "      <td>9</td>\n",
              "    </tr>\n",
              "    <tr>\n",
              "      <th>TV</th>\n",
              "      <td>9</td>\n",
              "    </tr>\n",
              "    <tr>\n",
              "      <th>DiningTable</th>\n",
              "      <td>9</td>\n",
              "    </tr>\n",
              "    <tr>\n",
              "      <th>Sofa</th>\n",
              "      <td>9</td>\n",
              "    </tr>\n",
              "    <tr>\n",
              "      <th>Wardrobe</th>\n",
              "      <td>9</td>\n",
              "    </tr>\n",
              "    <tr>\n",
              "      <th>Refrigerator</th>\n",
              "      <td>9</td>\n",
              "    </tr>\n",
              "    <tr>\n",
              "      <th>Loc</th>\n",
              "      <td>242</td>\n",
              "    </tr>\n",
              "  </tbody>\n",
              "</table>\n",
              "</div><br><label><b>dtype:</b> object</label>"
            ]
          },
          "metadata": {},
          "execution_count": 399
        }
      ]
    },
    {
      "cell_type": "code",
      "source": [
        "# features = df.drop(['Location', 'Price', 'Area', 'Loc'], axis=1)\n",
        "features_unscaled = df.drop(['Location', 'Price'], axis=1)\n",
        "labels = df['Price'].astype(float)\n",
        "features = pd.DataFrame(scaler.fit_transform(features_unscaled), columns=features_unscaled.columns)\n",
        "features"
      ],
      "metadata": {
        "id": "lsgITBZDtgVB",
        "outputId": "d3ca8a9a-af0d-4cdf-9765-1267edcdb342",
        "colab": {
          "base_uri": "https://localhost:8080/",
          "height": 461
        }
      },
      "id": "lsgITBZDtgVB",
      "execution_count": 7,
      "outputs": [
        {
          "output_type": "execute_result",
          "data": {
            "text/plain": [
              "          Area  No. of Bedrooms  Resale  MaintenanceStaff  Gymnasium  \\\n",
              "0     0.094382         0.142857     0.0               0.0   0.111111   \n",
              "1     0.336854         0.428571     0.0               0.0   0.111111   \n",
              "2     0.091910         0.142857     0.0               0.0   0.111111   \n",
              "3     0.089326         0.285714     1.0               0.0   0.000000   \n",
              "4     0.072472         0.142857     0.0               0.0   0.000000   \n",
              "...        ...              ...     ...               ...        ...   \n",
              "2513  0.107865         0.142857     1.0               1.0   1.000000   \n",
              "2514  0.091461         0.142857     1.0               1.0   1.000000   \n",
              "2515  0.238764         0.285714     1.0               1.0   1.000000   \n",
              "2516  0.174157         0.285714     0.0               1.0   1.000000   \n",
              "2517  0.146629         0.285714     0.0               1.0   1.000000   \n",
              "\n",
              "      SwimmingPool  LandscapedGardens  JoggingTrack  RainWaterHarvesting  \\\n",
              "0         0.111111           0.111111      0.111111             0.111111   \n",
              "1         0.111111           0.111111      0.111111             0.111111   \n",
              "2         0.000000           0.000000      0.000000             0.000000   \n",
              "3         0.000000           0.000000      0.000000             0.000000   \n",
              "4         0.000000           0.111111      0.000000             0.000000   \n",
              "...            ...                ...           ...                  ...   \n",
              "2513      1.000000           1.000000      1.000000             1.000000   \n",
              "2514      1.000000           1.000000      1.000000             1.000000   \n",
              "2515      1.000000           1.000000      1.000000             1.000000   \n",
              "2516      1.000000           1.000000      1.000000             1.000000   \n",
              "2517      1.000000           1.000000      1.000000             1.000000   \n",
              "\n",
              "      IndoorGames  ...  BED  VaastuCompliant  Microwave  GolfCourse   TV  \\\n",
              "0        0.111111  ...  0.0         0.111111        0.0         0.0  0.0   \n",
              "1        0.111111  ...  0.0         0.111111        0.0         0.0  0.0   \n",
              "2        0.111111  ...  0.0         0.000000        0.0         0.0  0.0   \n",
              "3        0.000000  ...  0.0         0.000000        0.0         0.0  0.0   \n",
              "4        0.000000  ...  0.0         0.000000        0.0         0.0  0.0   \n",
              "...           ...  ...  ...              ...        ...         ...  ...   \n",
              "2513     1.000000  ...  1.0         1.000000        1.0         1.0  1.0   \n",
              "2514     1.000000  ...  1.0         1.000000        1.0         1.0  1.0   \n",
              "2515     1.000000  ...  1.0         1.000000        1.0         1.0  1.0   \n",
              "2516     1.000000  ...  1.0         1.000000        1.0         1.0  1.0   \n",
              "2517     1.000000  ...  1.0         1.000000        1.0         1.0  1.0   \n",
              "\n",
              "      DiningTable  Sofa  Wardrobe  Refrigerator       Loc  \n",
              "0             0.0   0.0       0.0           0.0  0.669421  \n",
              "1             0.0   0.0       0.0           0.0  0.351240  \n",
              "2             0.0   0.0       0.0           0.0  0.545455  \n",
              "3             0.0   0.0       0.0           0.0  0.037190  \n",
              "4             0.0   0.0       0.0           0.0  0.487603  \n",
              "...           ...   ...       ...           ...       ...  \n",
              "2513          1.0   1.0       1.0           1.0  0.619835  \n",
              "2514          1.0   1.0       1.0           1.0  0.545455  \n",
              "2515          1.0   1.0       1.0           1.0  0.512397  \n",
              "2516          1.0   1.0       1.0           1.0  0.351240  \n",
              "2517          1.0   1.0       1.0           1.0  0.652893  \n",
              "\n",
              "[2518 rows x 39 columns]"
            ],
            "text/html": [
              "\n",
              "  <div id=\"df-f28773e2-caf2-473b-ab59-86738e2d4acb\" class=\"colab-df-container\">\n",
              "    <div>\n",
              "<style scoped>\n",
              "    .dataframe tbody tr th:only-of-type {\n",
              "        vertical-align: middle;\n",
              "    }\n",
              "\n",
              "    .dataframe tbody tr th {\n",
              "        vertical-align: top;\n",
              "    }\n",
              "\n",
              "    .dataframe thead th {\n",
              "        text-align: right;\n",
              "    }\n",
              "</style>\n",
              "<table border=\"1\" class=\"dataframe\">\n",
              "  <thead>\n",
              "    <tr style=\"text-align: right;\">\n",
              "      <th></th>\n",
              "      <th>Area</th>\n",
              "      <th>No. of Bedrooms</th>\n",
              "      <th>Resale</th>\n",
              "      <th>MaintenanceStaff</th>\n",
              "      <th>Gymnasium</th>\n",
              "      <th>SwimmingPool</th>\n",
              "      <th>LandscapedGardens</th>\n",
              "      <th>JoggingTrack</th>\n",
              "      <th>RainWaterHarvesting</th>\n",
              "      <th>IndoorGames</th>\n",
              "      <th>...</th>\n",
              "      <th>BED</th>\n",
              "      <th>VaastuCompliant</th>\n",
              "      <th>Microwave</th>\n",
              "      <th>GolfCourse</th>\n",
              "      <th>TV</th>\n",
              "      <th>DiningTable</th>\n",
              "      <th>Sofa</th>\n",
              "      <th>Wardrobe</th>\n",
              "      <th>Refrigerator</th>\n",
              "      <th>Loc</th>\n",
              "    </tr>\n",
              "  </thead>\n",
              "  <tbody>\n",
              "    <tr>\n",
              "      <th>0</th>\n",
              "      <td>0.094382</td>\n",
              "      <td>0.142857</td>\n",
              "      <td>0.0</td>\n",
              "      <td>0.0</td>\n",
              "      <td>0.111111</td>\n",
              "      <td>0.111111</td>\n",
              "      <td>0.111111</td>\n",
              "      <td>0.111111</td>\n",
              "      <td>0.111111</td>\n",
              "      <td>0.111111</td>\n",
              "      <td>...</td>\n",
              "      <td>0.0</td>\n",
              "      <td>0.111111</td>\n",
              "      <td>0.0</td>\n",
              "      <td>0.0</td>\n",
              "      <td>0.0</td>\n",
              "      <td>0.0</td>\n",
              "      <td>0.0</td>\n",
              "      <td>0.0</td>\n",
              "      <td>0.0</td>\n",
              "      <td>0.669421</td>\n",
              "    </tr>\n",
              "    <tr>\n",
              "      <th>1</th>\n",
              "      <td>0.336854</td>\n",
              "      <td>0.428571</td>\n",
              "      <td>0.0</td>\n",
              "      <td>0.0</td>\n",
              "      <td>0.111111</td>\n",
              "      <td>0.111111</td>\n",
              "      <td>0.111111</td>\n",
              "      <td>0.111111</td>\n",
              "      <td>0.111111</td>\n",
              "      <td>0.111111</td>\n",
              "      <td>...</td>\n",
              "      <td>0.0</td>\n",
              "      <td>0.111111</td>\n",
              "      <td>0.0</td>\n",
              "      <td>0.0</td>\n",
              "      <td>0.0</td>\n",
              "      <td>0.0</td>\n",
              "      <td>0.0</td>\n",
              "      <td>0.0</td>\n",
              "      <td>0.0</td>\n",
              "      <td>0.351240</td>\n",
              "    </tr>\n",
              "    <tr>\n",
              "      <th>2</th>\n",
              "      <td>0.091910</td>\n",
              "      <td>0.142857</td>\n",
              "      <td>0.0</td>\n",
              "      <td>0.0</td>\n",
              "      <td>0.111111</td>\n",
              "      <td>0.000000</td>\n",
              "      <td>0.000000</td>\n",
              "      <td>0.000000</td>\n",
              "      <td>0.000000</td>\n",
              "      <td>0.111111</td>\n",
              "      <td>...</td>\n",
              "      <td>0.0</td>\n",
              "      <td>0.000000</td>\n",
              "      <td>0.0</td>\n",
              "      <td>0.0</td>\n",
              "      <td>0.0</td>\n",
              "      <td>0.0</td>\n",
              "      <td>0.0</td>\n",
              "      <td>0.0</td>\n",
              "      <td>0.0</td>\n",
              "      <td>0.545455</td>\n",
              "    </tr>\n",
              "    <tr>\n",
              "      <th>3</th>\n",
              "      <td>0.089326</td>\n",
              "      <td>0.285714</td>\n",
              "      <td>1.0</td>\n",
              "      <td>0.0</td>\n",
              "      <td>0.000000</td>\n",
              "      <td>0.000000</td>\n",
              "      <td>0.000000</td>\n",
              "      <td>0.000000</td>\n",
              "      <td>0.000000</td>\n",
              "      <td>0.000000</td>\n",
              "      <td>...</td>\n",
              "      <td>0.0</td>\n",
              "      <td>0.000000</td>\n",
              "      <td>0.0</td>\n",
              "      <td>0.0</td>\n",
              "      <td>0.0</td>\n",
              "      <td>0.0</td>\n",
              "      <td>0.0</td>\n",
              "      <td>0.0</td>\n",
              "      <td>0.0</td>\n",
              "      <td>0.037190</td>\n",
              "    </tr>\n",
              "    <tr>\n",
              "      <th>4</th>\n",
              "      <td>0.072472</td>\n",
              "      <td>0.142857</td>\n",
              "      <td>0.0</td>\n",
              "      <td>0.0</td>\n",
              "      <td>0.000000</td>\n",
              "      <td>0.000000</td>\n",
              "      <td>0.111111</td>\n",
              "      <td>0.000000</td>\n",
              "      <td>0.000000</td>\n",
              "      <td>0.000000</td>\n",
              "      <td>...</td>\n",
              "      <td>0.0</td>\n",
              "      <td>0.000000</td>\n",
              "      <td>0.0</td>\n",
              "      <td>0.0</td>\n",
              "      <td>0.0</td>\n",
              "      <td>0.0</td>\n",
              "      <td>0.0</td>\n",
              "      <td>0.0</td>\n",
              "      <td>0.0</td>\n",
              "      <td>0.487603</td>\n",
              "    </tr>\n",
              "    <tr>\n",
              "      <th>...</th>\n",
              "      <td>...</td>\n",
              "      <td>...</td>\n",
              "      <td>...</td>\n",
              "      <td>...</td>\n",
              "      <td>...</td>\n",
              "      <td>...</td>\n",
              "      <td>...</td>\n",
              "      <td>...</td>\n",
              "      <td>...</td>\n",
              "      <td>...</td>\n",
              "      <td>...</td>\n",
              "      <td>...</td>\n",
              "      <td>...</td>\n",
              "      <td>...</td>\n",
              "      <td>...</td>\n",
              "      <td>...</td>\n",
              "      <td>...</td>\n",
              "      <td>...</td>\n",
              "      <td>...</td>\n",
              "      <td>...</td>\n",
              "      <td>...</td>\n",
              "    </tr>\n",
              "    <tr>\n",
              "      <th>2513</th>\n",
              "      <td>0.107865</td>\n",
              "      <td>0.142857</td>\n",
              "      <td>1.0</td>\n",
              "      <td>1.0</td>\n",
              "      <td>1.000000</td>\n",
              "      <td>1.000000</td>\n",
              "      <td>1.000000</td>\n",
              "      <td>1.000000</td>\n",
              "      <td>1.000000</td>\n",
              "      <td>1.000000</td>\n",
              "      <td>...</td>\n",
              "      <td>1.0</td>\n",
              "      <td>1.000000</td>\n",
              "      <td>1.0</td>\n",
              "      <td>1.0</td>\n",
              "      <td>1.0</td>\n",
              "      <td>1.0</td>\n",
              "      <td>1.0</td>\n",
              "      <td>1.0</td>\n",
              "      <td>1.0</td>\n",
              "      <td>0.619835</td>\n",
              "    </tr>\n",
              "    <tr>\n",
              "      <th>2514</th>\n",
              "      <td>0.091461</td>\n",
              "      <td>0.142857</td>\n",
              "      <td>1.0</td>\n",
              "      <td>1.0</td>\n",
              "      <td>1.000000</td>\n",
              "      <td>1.000000</td>\n",
              "      <td>1.000000</td>\n",
              "      <td>1.000000</td>\n",
              "      <td>1.000000</td>\n",
              "      <td>1.000000</td>\n",
              "      <td>...</td>\n",
              "      <td>1.0</td>\n",
              "      <td>1.000000</td>\n",
              "      <td>1.0</td>\n",
              "      <td>1.0</td>\n",
              "      <td>1.0</td>\n",
              "      <td>1.0</td>\n",
              "      <td>1.0</td>\n",
              "      <td>1.0</td>\n",
              "      <td>1.0</td>\n",
              "      <td>0.545455</td>\n",
              "    </tr>\n",
              "    <tr>\n",
              "      <th>2515</th>\n",
              "      <td>0.238764</td>\n",
              "      <td>0.285714</td>\n",
              "      <td>1.0</td>\n",
              "      <td>1.0</td>\n",
              "      <td>1.000000</td>\n",
              "      <td>1.000000</td>\n",
              "      <td>1.000000</td>\n",
              "      <td>1.000000</td>\n",
              "      <td>1.000000</td>\n",
              "      <td>1.000000</td>\n",
              "      <td>...</td>\n",
              "      <td>1.0</td>\n",
              "      <td>1.000000</td>\n",
              "      <td>1.0</td>\n",
              "      <td>1.0</td>\n",
              "      <td>1.0</td>\n",
              "      <td>1.0</td>\n",
              "      <td>1.0</td>\n",
              "      <td>1.0</td>\n",
              "      <td>1.0</td>\n",
              "      <td>0.512397</td>\n",
              "    </tr>\n",
              "    <tr>\n",
              "      <th>2516</th>\n",
              "      <td>0.174157</td>\n",
              "      <td>0.285714</td>\n",
              "      <td>0.0</td>\n",
              "      <td>1.0</td>\n",
              "      <td>1.000000</td>\n",
              "      <td>1.000000</td>\n",
              "      <td>1.000000</td>\n",
              "      <td>1.000000</td>\n",
              "      <td>1.000000</td>\n",
              "      <td>1.000000</td>\n",
              "      <td>...</td>\n",
              "      <td>1.0</td>\n",
              "      <td>1.000000</td>\n",
              "      <td>1.0</td>\n",
              "      <td>1.0</td>\n",
              "      <td>1.0</td>\n",
              "      <td>1.0</td>\n",
              "      <td>1.0</td>\n",
              "      <td>1.0</td>\n",
              "      <td>1.0</td>\n",
              "      <td>0.351240</td>\n",
              "    </tr>\n",
              "    <tr>\n",
              "      <th>2517</th>\n",
              "      <td>0.146629</td>\n",
              "      <td>0.285714</td>\n",
              "      <td>0.0</td>\n",
              "      <td>1.0</td>\n",
              "      <td>1.000000</td>\n",
              "      <td>1.000000</td>\n",
              "      <td>1.000000</td>\n",
              "      <td>1.000000</td>\n",
              "      <td>1.000000</td>\n",
              "      <td>1.000000</td>\n",
              "      <td>...</td>\n",
              "      <td>1.0</td>\n",
              "      <td>1.000000</td>\n",
              "      <td>1.0</td>\n",
              "      <td>1.0</td>\n",
              "      <td>1.0</td>\n",
              "      <td>1.0</td>\n",
              "      <td>1.0</td>\n",
              "      <td>1.0</td>\n",
              "      <td>1.0</td>\n",
              "      <td>0.652893</td>\n",
              "    </tr>\n",
              "  </tbody>\n",
              "</table>\n",
              "<p>2518 rows × 39 columns</p>\n",
              "</div>\n",
              "    <div class=\"colab-df-buttons\">\n",
              "\n",
              "  <div class=\"colab-df-container\">\n",
              "    <button class=\"colab-df-convert\" onclick=\"convertToInteractive('df-f28773e2-caf2-473b-ab59-86738e2d4acb')\"\n",
              "            title=\"Convert this dataframe to an interactive table.\"\n",
              "            style=\"display:none;\">\n",
              "\n",
              "  <svg xmlns=\"http://www.w3.org/2000/svg\" height=\"24px\" viewBox=\"0 -960 960 960\">\n",
              "    <path d=\"M120-120v-720h720v720H120Zm60-500h600v-160H180v160Zm220 220h160v-160H400v160Zm0 220h160v-160H400v160ZM180-400h160v-160H180v160Zm440 0h160v-160H620v160ZM180-180h160v-160H180v160Zm440 0h160v-160H620v160Z\"/>\n",
              "  </svg>\n",
              "    </button>\n",
              "\n",
              "  <style>\n",
              "    .colab-df-container {\n",
              "      display:flex;\n",
              "      gap: 12px;\n",
              "    }\n",
              "\n",
              "    .colab-df-convert {\n",
              "      background-color: #E8F0FE;\n",
              "      border: none;\n",
              "      border-radius: 50%;\n",
              "      cursor: pointer;\n",
              "      display: none;\n",
              "      fill: #1967D2;\n",
              "      height: 32px;\n",
              "      padding: 0 0 0 0;\n",
              "      width: 32px;\n",
              "    }\n",
              "\n",
              "    .colab-df-convert:hover {\n",
              "      background-color: #E2EBFA;\n",
              "      box-shadow: 0px 1px 2px rgba(60, 64, 67, 0.3), 0px 1px 3px 1px rgba(60, 64, 67, 0.15);\n",
              "      fill: #174EA6;\n",
              "    }\n",
              "\n",
              "    .colab-df-buttons div {\n",
              "      margin-bottom: 4px;\n",
              "    }\n",
              "\n",
              "    [theme=dark] .colab-df-convert {\n",
              "      background-color: #3B4455;\n",
              "      fill: #D2E3FC;\n",
              "    }\n",
              "\n",
              "    [theme=dark] .colab-df-convert:hover {\n",
              "      background-color: #434B5C;\n",
              "      box-shadow: 0px 1px 3px 1px rgba(0, 0, 0, 0.15);\n",
              "      filter: drop-shadow(0px 1px 2px rgba(0, 0, 0, 0.3));\n",
              "      fill: #FFFFFF;\n",
              "    }\n",
              "  </style>\n",
              "\n",
              "    <script>\n",
              "      const buttonEl =\n",
              "        document.querySelector('#df-f28773e2-caf2-473b-ab59-86738e2d4acb button.colab-df-convert');\n",
              "      buttonEl.style.display =\n",
              "        google.colab.kernel.accessAllowed ? 'block' : 'none';\n",
              "\n",
              "      async function convertToInteractive(key) {\n",
              "        const element = document.querySelector('#df-f28773e2-caf2-473b-ab59-86738e2d4acb');\n",
              "        const dataTable =\n",
              "          await google.colab.kernel.invokeFunction('convertToInteractive',\n",
              "                                                    [key], {});\n",
              "        if (!dataTable) return;\n",
              "\n",
              "        const docLinkHtml = 'Like what you see? Visit the ' +\n",
              "          '<a target=\"_blank\" href=https://colab.research.google.com/notebooks/data_table.ipynb>data table notebook</a>'\n",
              "          + ' to learn more about interactive tables.';\n",
              "        element.innerHTML = '';\n",
              "        dataTable['output_type'] = 'display_data';\n",
              "        await google.colab.output.renderOutput(dataTable, element);\n",
              "        const docLink = document.createElement('div');\n",
              "        docLink.innerHTML = docLinkHtml;\n",
              "        element.appendChild(docLink);\n",
              "      }\n",
              "    </script>\n",
              "  </div>\n",
              "\n",
              "\n",
              "<div id=\"df-b47202de-88b4-44e8-805a-9adeeffe5a13\">\n",
              "  <button class=\"colab-df-quickchart\" onclick=\"quickchart('df-b47202de-88b4-44e8-805a-9adeeffe5a13')\"\n",
              "            title=\"Suggest charts\"\n",
              "            style=\"display:none;\">\n",
              "\n",
              "<svg xmlns=\"http://www.w3.org/2000/svg\" height=\"24px\"viewBox=\"0 0 24 24\"\n",
              "     width=\"24px\">\n",
              "    <g>\n",
              "        <path d=\"M19 3H5c-1.1 0-2 .9-2 2v14c0 1.1.9 2 2 2h14c1.1 0 2-.9 2-2V5c0-1.1-.9-2-2-2zM9 17H7v-7h2v7zm4 0h-2V7h2v10zm4 0h-2v-4h2v4z\"/>\n",
              "    </g>\n",
              "</svg>\n",
              "  </button>\n",
              "\n",
              "<style>\n",
              "  .colab-df-quickchart {\n",
              "      --bg-color: #E8F0FE;\n",
              "      --fill-color: #1967D2;\n",
              "      --hover-bg-color: #E2EBFA;\n",
              "      --hover-fill-color: #174EA6;\n",
              "      --disabled-fill-color: #AAA;\n",
              "      --disabled-bg-color: #DDD;\n",
              "  }\n",
              "\n",
              "  [theme=dark] .colab-df-quickchart {\n",
              "      --bg-color: #3B4455;\n",
              "      --fill-color: #D2E3FC;\n",
              "      --hover-bg-color: #434B5C;\n",
              "      --hover-fill-color: #FFFFFF;\n",
              "      --disabled-bg-color: #3B4455;\n",
              "      --disabled-fill-color: #666;\n",
              "  }\n",
              "\n",
              "  .colab-df-quickchart {\n",
              "    background-color: var(--bg-color);\n",
              "    border: none;\n",
              "    border-radius: 50%;\n",
              "    cursor: pointer;\n",
              "    display: none;\n",
              "    fill: var(--fill-color);\n",
              "    height: 32px;\n",
              "    padding: 0;\n",
              "    width: 32px;\n",
              "  }\n",
              "\n",
              "  .colab-df-quickchart:hover {\n",
              "    background-color: var(--hover-bg-color);\n",
              "    box-shadow: 0 1px 2px rgba(60, 64, 67, 0.3), 0 1px 3px 1px rgba(60, 64, 67, 0.15);\n",
              "    fill: var(--button-hover-fill-color);\n",
              "  }\n",
              "\n",
              "  .colab-df-quickchart-complete:disabled,\n",
              "  .colab-df-quickchart-complete:disabled:hover {\n",
              "    background-color: var(--disabled-bg-color);\n",
              "    fill: var(--disabled-fill-color);\n",
              "    box-shadow: none;\n",
              "  }\n",
              "\n",
              "  .colab-df-spinner {\n",
              "    border: 2px solid var(--fill-color);\n",
              "    border-color: transparent;\n",
              "    border-bottom-color: var(--fill-color);\n",
              "    animation:\n",
              "      spin 1s steps(1) infinite;\n",
              "  }\n",
              "\n",
              "  @keyframes spin {\n",
              "    0% {\n",
              "      border-color: transparent;\n",
              "      border-bottom-color: var(--fill-color);\n",
              "      border-left-color: var(--fill-color);\n",
              "    }\n",
              "    20% {\n",
              "      border-color: transparent;\n",
              "      border-left-color: var(--fill-color);\n",
              "      border-top-color: var(--fill-color);\n",
              "    }\n",
              "    30% {\n",
              "      border-color: transparent;\n",
              "      border-left-color: var(--fill-color);\n",
              "      border-top-color: var(--fill-color);\n",
              "      border-right-color: var(--fill-color);\n",
              "    }\n",
              "    40% {\n",
              "      border-color: transparent;\n",
              "      border-right-color: var(--fill-color);\n",
              "      border-top-color: var(--fill-color);\n",
              "    }\n",
              "    60% {\n",
              "      border-color: transparent;\n",
              "      border-right-color: var(--fill-color);\n",
              "    }\n",
              "    80% {\n",
              "      border-color: transparent;\n",
              "      border-right-color: var(--fill-color);\n",
              "      border-bottom-color: var(--fill-color);\n",
              "    }\n",
              "    90% {\n",
              "      border-color: transparent;\n",
              "      border-bottom-color: var(--fill-color);\n",
              "    }\n",
              "  }\n",
              "</style>\n",
              "\n",
              "  <script>\n",
              "    async function quickchart(key) {\n",
              "      const quickchartButtonEl =\n",
              "        document.querySelector('#' + key + ' button');\n",
              "      quickchartButtonEl.disabled = true;  // To prevent multiple clicks.\n",
              "      quickchartButtonEl.classList.add('colab-df-spinner');\n",
              "      try {\n",
              "        const charts = await google.colab.kernel.invokeFunction(\n",
              "            'suggestCharts', [key], {});\n",
              "      } catch (error) {\n",
              "        console.error('Error during call to suggestCharts:', error);\n",
              "      }\n",
              "      quickchartButtonEl.classList.remove('colab-df-spinner');\n",
              "      quickchartButtonEl.classList.add('colab-df-quickchart-complete');\n",
              "    }\n",
              "    (() => {\n",
              "      let quickchartButtonEl =\n",
              "        document.querySelector('#df-b47202de-88b4-44e8-805a-9adeeffe5a13 button');\n",
              "      quickchartButtonEl.style.display =\n",
              "        google.colab.kernel.accessAllowed ? 'block' : 'none';\n",
              "    })();\n",
              "  </script>\n",
              "</div>\n",
              "\n",
              "  <div id=\"id_d157d8c3-e612-4009-a3ee-deb3b1ee065c\">\n",
              "    <style>\n",
              "      .colab-df-generate {\n",
              "        background-color: #E8F0FE;\n",
              "        border: none;\n",
              "        border-radius: 50%;\n",
              "        cursor: pointer;\n",
              "        display: none;\n",
              "        fill: #1967D2;\n",
              "        height: 32px;\n",
              "        padding: 0 0 0 0;\n",
              "        width: 32px;\n",
              "      }\n",
              "\n",
              "      .colab-df-generate:hover {\n",
              "        background-color: #E2EBFA;\n",
              "        box-shadow: 0px 1px 2px rgba(60, 64, 67, 0.3), 0px 1px 3px 1px rgba(60, 64, 67, 0.15);\n",
              "        fill: #174EA6;\n",
              "      }\n",
              "\n",
              "      [theme=dark] .colab-df-generate {\n",
              "        background-color: #3B4455;\n",
              "        fill: #D2E3FC;\n",
              "      }\n",
              "\n",
              "      [theme=dark] .colab-df-generate:hover {\n",
              "        background-color: #434B5C;\n",
              "        box-shadow: 0px 1px 3px 1px rgba(0, 0, 0, 0.15);\n",
              "        filter: drop-shadow(0px 1px 2px rgba(0, 0, 0, 0.3));\n",
              "        fill: #FFFFFF;\n",
              "      }\n",
              "    </style>\n",
              "    <button class=\"colab-df-generate\" onclick=\"generateWithVariable('features')\"\n",
              "            title=\"Generate code using this dataframe.\"\n",
              "            style=\"display:none;\">\n",
              "\n",
              "  <svg xmlns=\"http://www.w3.org/2000/svg\" height=\"24px\"viewBox=\"0 0 24 24\"\n",
              "       width=\"24px\">\n",
              "    <path d=\"M7,19H8.4L18.45,9,17,7.55,7,17.6ZM5,21V16.75L18.45,3.32a2,2,0,0,1,2.83,0l1.4,1.43a1.91,1.91,0,0,1,.58,1.4,1.91,1.91,0,0,1-.58,1.4L9.25,21ZM18.45,9,17,7.55Zm-12,3A5.31,5.31,0,0,0,4.9,8.1,5.31,5.31,0,0,0,1,6.5,5.31,5.31,0,0,0,4.9,4.9,5.31,5.31,0,0,0,6.5,1,5.31,5.31,0,0,0,8.1,4.9,5.31,5.31,0,0,0,12,6.5,5.46,5.46,0,0,0,6.5,12Z\"/>\n",
              "  </svg>\n",
              "    </button>\n",
              "    <script>\n",
              "      (() => {\n",
              "      const buttonEl =\n",
              "        document.querySelector('#id_d157d8c3-e612-4009-a3ee-deb3b1ee065c button.colab-df-generate');\n",
              "      buttonEl.style.display =\n",
              "        google.colab.kernel.accessAllowed ? 'block' : 'none';\n",
              "\n",
              "      buttonEl.onclick = () => {\n",
              "        google.colab.notebook.generateWithVariable('features');\n",
              "      }\n",
              "      })();\n",
              "    </script>\n",
              "  </div>\n",
              "\n",
              "    </div>\n",
              "  </div>\n"
            ],
            "application/vnd.google.colaboratory.intrinsic+json": {
              "type": "dataframe",
              "variable_name": "features"
            }
          },
          "metadata": {},
          "execution_count": 7
        }
      ]
    },
    {
      "cell_type": "code",
      "source": [
        "features.max()"
      ],
      "metadata": {
        "colab": {
          "base_uri": "https://localhost:8080/",
          "height": 1000
        },
        "id": "SDV8F-oz_ATo",
        "outputId": "e10bf502-b131-44d2-f504-9a5762f5d310"
      },
      "id": "SDV8F-oz_ATo",
      "execution_count": 400,
      "outputs": [
        {
          "output_type": "execute_result",
          "data": {
            "text/plain": [
              "Area                   1.0\n",
              "No. of Bedrooms        1.0\n",
              "Resale                 1.0\n",
              "MaintenanceStaff       1.0\n",
              "Gymnasium              1.0\n",
              "SwimmingPool           1.0\n",
              "LandscapedGardens      1.0\n",
              "JoggingTrack           1.0\n",
              "RainWaterHarvesting    1.0\n",
              "IndoorGames            1.0\n",
              "ShoppingMall           1.0\n",
              "Intercom               1.0\n",
              "SportsFacility         1.0\n",
              "ATM                    1.0\n",
              "ClubHouse              1.0\n",
              "School                 1.0\n",
              "24X7Security           1.0\n",
              "PowerBackup            1.0\n",
              "CarParking             1.0\n",
              "StaffQuarter           1.0\n",
              "Cafeteria              1.0\n",
              "MultipurposeRoom       1.0\n",
              "Hospital               1.0\n",
              "WashingMachine         1.0\n",
              "Gasconnection          1.0\n",
              "AC                     1.0\n",
              "Wifi                   1.0\n",
              "Children'splayarea     1.0\n",
              "LiftAvailable          1.0\n",
              "BED                    1.0\n",
              "VaastuCompliant        1.0\n",
              "Microwave              1.0\n",
              "GolfCourse             1.0\n",
              "TV                     1.0\n",
              "DiningTable            1.0\n",
              "Sofa                   1.0\n",
              "Wardrobe               1.0\n",
              "Refrigerator           1.0\n",
              "Loc                    1.0\n",
              "dtype: float64"
            ],
            "text/html": [
              "<div>\n",
              "<style scoped>\n",
              "    .dataframe tbody tr th:only-of-type {\n",
              "        vertical-align: middle;\n",
              "    }\n",
              "\n",
              "    .dataframe tbody tr th {\n",
              "        vertical-align: top;\n",
              "    }\n",
              "\n",
              "    .dataframe thead th {\n",
              "        text-align: right;\n",
              "    }\n",
              "</style>\n",
              "<table border=\"1\" class=\"dataframe\">\n",
              "  <thead>\n",
              "    <tr style=\"text-align: right;\">\n",
              "      <th></th>\n",
              "      <th>0</th>\n",
              "    </tr>\n",
              "  </thead>\n",
              "  <tbody>\n",
              "    <tr>\n",
              "      <th>Area</th>\n",
              "      <td>1.0</td>\n",
              "    </tr>\n",
              "    <tr>\n",
              "      <th>No. of Bedrooms</th>\n",
              "      <td>1.0</td>\n",
              "    </tr>\n",
              "    <tr>\n",
              "      <th>Resale</th>\n",
              "      <td>1.0</td>\n",
              "    </tr>\n",
              "    <tr>\n",
              "      <th>MaintenanceStaff</th>\n",
              "      <td>1.0</td>\n",
              "    </tr>\n",
              "    <tr>\n",
              "      <th>Gymnasium</th>\n",
              "      <td>1.0</td>\n",
              "    </tr>\n",
              "    <tr>\n",
              "      <th>SwimmingPool</th>\n",
              "      <td>1.0</td>\n",
              "    </tr>\n",
              "    <tr>\n",
              "      <th>LandscapedGardens</th>\n",
              "      <td>1.0</td>\n",
              "    </tr>\n",
              "    <tr>\n",
              "      <th>JoggingTrack</th>\n",
              "      <td>1.0</td>\n",
              "    </tr>\n",
              "    <tr>\n",
              "      <th>RainWaterHarvesting</th>\n",
              "      <td>1.0</td>\n",
              "    </tr>\n",
              "    <tr>\n",
              "      <th>IndoorGames</th>\n",
              "      <td>1.0</td>\n",
              "    </tr>\n",
              "    <tr>\n",
              "      <th>ShoppingMall</th>\n",
              "      <td>1.0</td>\n",
              "    </tr>\n",
              "    <tr>\n",
              "      <th>Intercom</th>\n",
              "      <td>1.0</td>\n",
              "    </tr>\n",
              "    <tr>\n",
              "      <th>SportsFacility</th>\n",
              "      <td>1.0</td>\n",
              "    </tr>\n",
              "    <tr>\n",
              "      <th>ATM</th>\n",
              "      <td>1.0</td>\n",
              "    </tr>\n",
              "    <tr>\n",
              "      <th>ClubHouse</th>\n",
              "      <td>1.0</td>\n",
              "    </tr>\n",
              "    <tr>\n",
              "      <th>School</th>\n",
              "      <td>1.0</td>\n",
              "    </tr>\n",
              "    <tr>\n",
              "      <th>24X7Security</th>\n",
              "      <td>1.0</td>\n",
              "    </tr>\n",
              "    <tr>\n",
              "      <th>PowerBackup</th>\n",
              "      <td>1.0</td>\n",
              "    </tr>\n",
              "    <tr>\n",
              "      <th>CarParking</th>\n",
              "      <td>1.0</td>\n",
              "    </tr>\n",
              "    <tr>\n",
              "      <th>StaffQuarter</th>\n",
              "      <td>1.0</td>\n",
              "    </tr>\n",
              "    <tr>\n",
              "      <th>Cafeteria</th>\n",
              "      <td>1.0</td>\n",
              "    </tr>\n",
              "    <tr>\n",
              "      <th>MultipurposeRoom</th>\n",
              "      <td>1.0</td>\n",
              "    </tr>\n",
              "    <tr>\n",
              "      <th>Hospital</th>\n",
              "      <td>1.0</td>\n",
              "    </tr>\n",
              "    <tr>\n",
              "      <th>WashingMachine</th>\n",
              "      <td>1.0</td>\n",
              "    </tr>\n",
              "    <tr>\n",
              "      <th>Gasconnection</th>\n",
              "      <td>1.0</td>\n",
              "    </tr>\n",
              "    <tr>\n",
              "      <th>AC</th>\n",
              "      <td>1.0</td>\n",
              "    </tr>\n",
              "    <tr>\n",
              "      <th>Wifi</th>\n",
              "      <td>1.0</td>\n",
              "    </tr>\n",
              "    <tr>\n",
              "      <th>Children'splayarea</th>\n",
              "      <td>1.0</td>\n",
              "    </tr>\n",
              "    <tr>\n",
              "      <th>LiftAvailable</th>\n",
              "      <td>1.0</td>\n",
              "    </tr>\n",
              "    <tr>\n",
              "      <th>BED</th>\n",
              "      <td>1.0</td>\n",
              "    </tr>\n",
              "    <tr>\n",
              "      <th>VaastuCompliant</th>\n",
              "      <td>1.0</td>\n",
              "    </tr>\n",
              "    <tr>\n",
              "      <th>Microwave</th>\n",
              "      <td>1.0</td>\n",
              "    </tr>\n",
              "    <tr>\n",
              "      <th>GolfCourse</th>\n",
              "      <td>1.0</td>\n",
              "    </tr>\n",
              "    <tr>\n",
              "      <th>TV</th>\n",
              "      <td>1.0</td>\n",
              "    </tr>\n",
              "    <tr>\n",
              "      <th>DiningTable</th>\n",
              "      <td>1.0</td>\n",
              "    </tr>\n",
              "    <tr>\n",
              "      <th>Sofa</th>\n",
              "      <td>1.0</td>\n",
              "    </tr>\n",
              "    <tr>\n",
              "      <th>Wardrobe</th>\n",
              "      <td>1.0</td>\n",
              "    </tr>\n",
              "    <tr>\n",
              "      <th>Refrigerator</th>\n",
              "      <td>1.0</td>\n",
              "    </tr>\n",
              "    <tr>\n",
              "      <th>Loc</th>\n",
              "      <td>1.0</td>\n",
              "    </tr>\n",
              "  </tbody>\n",
              "</table>\n",
              "</div><br><label><b>dtype:</b> float64</label>"
            ]
          },
          "metadata": {},
          "execution_count": 400
        }
      ]
    },
    {
      "cell_type": "code",
      "source": [
        "from sklearn.model_selection import train_test_split\n",
        "# Split the DataFrame into training and testing datasets\n",
        "X_train, X_test, y_train, y_test = train_test_split(features, labels, test_size=0.2, random_state=42)\n",
        "\n",
        "features.shape, labels.shape, X_train.shape, X_test.shape, y_train.shape, y_test.shape"
      ],
      "metadata": {
        "id": "kDfBYqE0vyKd",
        "outputId": "9e91e59e-530f-4e22-a1c9-bdf68c1511e9",
        "colab": {
          "base_uri": "https://localhost:8080/"
        }
      },
      "id": "kDfBYqE0vyKd",
      "execution_count": 8,
      "outputs": [
        {
          "output_type": "execute_result",
          "data": {
            "text/plain": [
              "((2518, 39), (2518,), (2014, 39), (504, 39), (2014,), (504,))"
            ]
          },
          "metadata": {},
          "execution_count": 8
        }
      ]
    },
    {
      "cell_type": "markdown",
      "source": [
        "## in Tensorflow"
      ],
      "metadata": {
        "id": "5aHjKATvwp90"
      },
      "id": "5aHjKATvwp90"
    },
    {
      "cell_type": "code",
      "source": [
        "import tensorflow as tf\n",
        "from tensorflow import keras\n",
        "from tensorflow.keras.models import Sequential\n",
        "from tensorflow.keras.layers import Dense, Dropout, Activation\n",
        "\n",
        "# Building the model\n",
        "house_model = Sequential()\n",
        "house_model.add(Dense(features.shape[1], activation='relu',\n",
        "                      input_shape=(features.shape[1],), name='input_layer')\n",
        "                )\n",
        "house_model.add(Dropout(.2))\n",
        "house_model.add(Dense(128, activation='relu', name='hidden_1'))\n",
        "house_model.add(Dropout(.2))\n",
        "house_model.add(Dense(64, activation='relu', name='hidden_2'))\n",
        "house_model.add(Dropout(.2))\n",
        "house_model.add(Dense(1, name='output_layer'))\n",
        "\n",
        "optimiser = tf.keras.optimizers.Adamax(learning_rate=0.1)\n",
        "# Compiling the model. The metrics flag is added for the model to report the root mean squared error at each epoch.\n",
        "house_model.compile(loss = 'mean_squared_error', optimizer=optimiser, metrics=[keras.metrics.RootMeanSquaredError()])\n",
        "house_model.summary()"
      ],
      "metadata": {
        "id": "C4IMtlLNwWe_",
        "outputId": "a4b971b0-9d3c-4aed-f57b-32059d33d9c9",
        "colab": {
          "base_uri": "https://localhost:8080/",
          "height": 433
        }
      },
      "id": "C4IMtlLNwWe_",
      "execution_count": 17,
      "outputs": [
        {
          "output_type": "stream",
          "name": "stderr",
          "text": [
            "/usr/local/lib/python3.11/dist-packages/keras/src/layers/core/dense.py:87: UserWarning: Do not pass an `input_shape`/`input_dim` argument to a layer. When using Sequential models, prefer using an `Input(shape)` object as the first layer in the model instead.\n",
            "  super().__init__(activity_regularizer=activity_regularizer, **kwargs)\n"
          ]
        },
        {
          "output_type": "display_data",
          "data": {
            "text/plain": [
              "\u001b[1mModel: \"sequential_5\"\u001b[0m\n"
            ],
            "text/html": [
              "<pre style=\"white-space:pre;overflow-x:auto;line-height:normal;font-family:Menlo,'DejaVu Sans Mono',consolas,'Courier New',monospace\"><span style=\"font-weight: bold\">Model: \"sequential_5\"</span>\n",
              "</pre>\n"
            ]
          },
          "metadata": {}
        },
        {
          "output_type": "display_data",
          "data": {
            "text/plain": [
              "┏━━━━━━━━━━━━━━━━━━━━━━━━━━━━━━━━━━━━━━┳━━━━━━━━━━━━━━━━━━━━━━━━━━━━━┳━━━━━━━━━━━━━━━━━┓\n",
              "┃\u001b[1m \u001b[0m\u001b[1mLayer (type)                        \u001b[0m\u001b[1m \u001b[0m┃\u001b[1m \u001b[0m\u001b[1mOutput Shape               \u001b[0m\u001b[1m \u001b[0m┃\u001b[1m \u001b[0m\u001b[1m        Param #\u001b[0m\u001b[1m \u001b[0m┃\n",
              "┡━━━━━━━━━━━━━━━━━━━━━━━━━━━━━━━━━━━━━━╇━━━━━━━━━━━━━━━━━━━━━━━━━━━━━╇━━━━━━━━━━━━━━━━━┩\n",
              "│ input_layer (\u001b[38;5;33mDense\u001b[0m)                  │ (\u001b[38;5;45mNone\u001b[0m, \u001b[38;5;34m39\u001b[0m)                  │           \u001b[38;5;34m1,560\u001b[0m │\n",
              "├──────────────────────────────────────┼─────────────────────────────┼─────────────────┤\n",
              "│ dropout_12 (\u001b[38;5;33mDropout\u001b[0m)                 │ (\u001b[38;5;45mNone\u001b[0m, \u001b[38;5;34m39\u001b[0m)                  │               \u001b[38;5;34m0\u001b[0m │\n",
              "├──────────────────────────────────────┼─────────────────────────────┼─────────────────┤\n",
              "│ hidden_1 (\u001b[38;5;33mDense\u001b[0m)                     │ (\u001b[38;5;45mNone\u001b[0m, \u001b[38;5;34m128\u001b[0m)                 │           \u001b[38;5;34m5,120\u001b[0m │\n",
              "├──────────────────────────────────────┼─────────────────────────────┼─────────────────┤\n",
              "│ dropout_13 (\u001b[38;5;33mDropout\u001b[0m)                 │ (\u001b[38;5;45mNone\u001b[0m, \u001b[38;5;34m128\u001b[0m)                 │               \u001b[38;5;34m0\u001b[0m │\n",
              "├──────────────────────────────────────┼─────────────────────────────┼─────────────────┤\n",
              "│ hidden_2 (\u001b[38;5;33mDense\u001b[0m)                     │ (\u001b[38;5;45mNone\u001b[0m, \u001b[38;5;34m64\u001b[0m)                  │           \u001b[38;5;34m8,256\u001b[0m │\n",
              "├──────────────────────────────────────┼─────────────────────────────┼─────────────────┤\n",
              "│ dropout_14 (\u001b[38;5;33mDropout\u001b[0m)                 │ (\u001b[38;5;45mNone\u001b[0m, \u001b[38;5;34m64\u001b[0m)                  │               \u001b[38;5;34m0\u001b[0m │\n",
              "├──────────────────────────────────────┼─────────────────────────────┼─────────────────┤\n",
              "│ output_layer (\u001b[38;5;33mDense\u001b[0m)                 │ (\u001b[38;5;45mNone\u001b[0m, \u001b[38;5;34m1\u001b[0m)                   │              \u001b[38;5;34m65\u001b[0m │\n",
              "└──────────────────────────────────────┴─────────────────────────────┴─────────────────┘\n"
            ],
            "text/html": [
              "<pre style=\"white-space:pre;overflow-x:auto;line-height:normal;font-family:Menlo,'DejaVu Sans Mono',consolas,'Courier New',monospace\">┏━━━━━━━━━━━━━━━━━━━━━━━━━━━━━━━━━━━━━━┳━━━━━━━━━━━━━━━━━━━━━━━━━━━━━┳━━━━━━━━━━━━━━━━━┓\n",
              "┃<span style=\"font-weight: bold\"> Layer (type)                         </span>┃<span style=\"font-weight: bold\"> Output Shape                </span>┃<span style=\"font-weight: bold\">         Param # </span>┃\n",
              "┡━━━━━━━━━━━━━━━━━━━━━━━━━━━━━━━━━━━━━━╇━━━━━━━━━━━━━━━━━━━━━━━━━━━━━╇━━━━━━━━━━━━━━━━━┩\n",
              "│ input_layer (<span style=\"color: #0087ff; text-decoration-color: #0087ff\">Dense</span>)                  │ (<span style=\"color: #00d7ff; text-decoration-color: #00d7ff\">None</span>, <span style=\"color: #00af00; text-decoration-color: #00af00\">39</span>)                  │           <span style=\"color: #00af00; text-decoration-color: #00af00\">1,560</span> │\n",
              "├──────────────────────────────────────┼─────────────────────────────┼─────────────────┤\n",
              "│ dropout_12 (<span style=\"color: #0087ff; text-decoration-color: #0087ff\">Dropout</span>)                 │ (<span style=\"color: #00d7ff; text-decoration-color: #00d7ff\">None</span>, <span style=\"color: #00af00; text-decoration-color: #00af00\">39</span>)                  │               <span style=\"color: #00af00; text-decoration-color: #00af00\">0</span> │\n",
              "├──────────────────────────────────────┼─────────────────────────────┼─────────────────┤\n",
              "│ hidden_1 (<span style=\"color: #0087ff; text-decoration-color: #0087ff\">Dense</span>)                     │ (<span style=\"color: #00d7ff; text-decoration-color: #00d7ff\">None</span>, <span style=\"color: #00af00; text-decoration-color: #00af00\">128</span>)                 │           <span style=\"color: #00af00; text-decoration-color: #00af00\">5,120</span> │\n",
              "├──────────────────────────────────────┼─────────────────────────────┼─────────────────┤\n",
              "│ dropout_13 (<span style=\"color: #0087ff; text-decoration-color: #0087ff\">Dropout</span>)                 │ (<span style=\"color: #00d7ff; text-decoration-color: #00d7ff\">None</span>, <span style=\"color: #00af00; text-decoration-color: #00af00\">128</span>)                 │               <span style=\"color: #00af00; text-decoration-color: #00af00\">0</span> │\n",
              "├──────────────────────────────────────┼─────────────────────────────┼─────────────────┤\n",
              "│ hidden_2 (<span style=\"color: #0087ff; text-decoration-color: #0087ff\">Dense</span>)                     │ (<span style=\"color: #00d7ff; text-decoration-color: #00d7ff\">None</span>, <span style=\"color: #00af00; text-decoration-color: #00af00\">64</span>)                  │           <span style=\"color: #00af00; text-decoration-color: #00af00\">8,256</span> │\n",
              "├──────────────────────────────────────┼─────────────────────────────┼─────────────────┤\n",
              "│ dropout_14 (<span style=\"color: #0087ff; text-decoration-color: #0087ff\">Dropout</span>)                 │ (<span style=\"color: #00d7ff; text-decoration-color: #00d7ff\">None</span>, <span style=\"color: #00af00; text-decoration-color: #00af00\">64</span>)                  │               <span style=\"color: #00af00; text-decoration-color: #00af00\">0</span> │\n",
              "├──────────────────────────────────────┼─────────────────────────────┼─────────────────┤\n",
              "│ output_layer (<span style=\"color: #0087ff; text-decoration-color: #0087ff\">Dense</span>)                 │ (<span style=\"color: #00d7ff; text-decoration-color: #00d7ff\">None</span>, <span style=\"color: #00af00; text-decoration-color: #00af00\">1</span>)                   │              <span style=\"color: #00af00; text-decoration-color: #00af00\">65</span> │\n",
              "└──────────────────────────────────────┴─────────────────────────────┴─────────────────┘\n",
              "</pre>\n"
            ]
          },
          "metadata": {}
        },
        {
          "output_type": "display_data",
          "data": {
            "text/plain": [
              "\u001b[1m Total params: \u001b[0m\u001b[38;5;34m15,001\u001b[0m (58.60 KB)\n"
            ],
            "text/html": [
              "<pre style=\"white-space:pre;overflow-x:auto;line-height:normal;font-family:Menlo,'DejaVu Sans Mono',consolas,'Courier New',monospace\"><span style=\"font-weight: bold\"> Total params: </span><span style=\"color: #00af00; text-decoration-color: #00af00\">15,001</span> (58.60 KB)\n",
              "</pre>\n"
            ]
          },
          "metadata": {}
        },
        {
          "output_type": "display_data",
          "data": {
            "text/plain": [
              "\u001b[1m Trainable params: \u001b[0m\u001b[38;5;34m15,001\u001b[0m (58.60 KB)\n"
            ],
            "text/html": [
              "<pre style=\"white-space:pre;overflow-x:auto;line-height:normal;font-family:Menlo,'DejaVu Sans Mono',consolas,'Courier New',monospace\"><span style=\"font-weight: bold\"> Trainable params: </span><span style=\"color: #00af00; text-decoration-color: #00af00\">15,001</span> (58.60 KB)\n",
              "</pre>\n"
            ]
          },
          "metadata": {}
        },
        {
          "output_type": "display_data",
          "data": {
            "text/plain": [
              "\u001b[1m Non-trainable params: \u001b[0m\u001b[38;5;34m0\u001b[0m (0.00 B)\n"
            ],
            "text/html": [
              "<pre style=\"white-space:pre;overflow-x:auto;line-height:normal;font-family:Menlo,'DejaVu Sans Mono',consolas,'Courier New',monospace\"><span style=\"font-weight: bold\"> Non-trainable params: </span><span style=\"color: #00af00; text-decoration-color: #00af00\">0</span> (0.00 B)\n",
              "</pre>\n"
            ]
          },
          "metadata": {}
        }
      ]
    },
    {
      "cell_type": "code",
      "source": [
        "house_model.fit(X_train, y_train, epochs=100, batch_size=10)"
      ],
      "metadata": {
        "id": "ZAGxAvRnxRQ6",
        "outputId": "0ea568f8-f78d-4da0-e44e-75c8422bcae1",
        "colab": {
          "base_uri": "https://localhost:8080/"
        }
      },
      "id": "ZAGxAvRnxRQ6",
      "execution_count": 18,
      "outputs": [
        {
          "output_type": "stream",
          "name": "stdout",
          "text": [
            "Epoch 1/100\n",
            "\u001b[1m202/202\u001b[0m \u001b[32m━━━━━━━━━━━━━━━━━━━━\u001b[0m\u001b[37m\u001b[0m \u001b[1m2s\u001b[0m 2ms/step - loss: 133344180305920.0000 - root_mean_squared_error: 11502801.0000\n",
            "Epoch 2/100\n",
            "\u001b[1m202/202\u001b[0m \u001b[32m━━━━━━━━━━━━━━━━━━━━\u001b[0m\u001b[37m\u001b[0m \u001b[1m1s\u001b[0m 2ms/step - loss: 62489672810496.0000 - root_mean_squared_error: 7878151.0000\n",
            "Epoch 3/100\n",
            "\u001b[1m202/202\u001b[0m \u001b[32m━━━━━━━━━━━━━━━━━━━━\u001b[0m\u001b[37m\u001b[0m \u001b[1m1s\u001b[0m 2ms/step - loss: 62660943020032.0000 - root_mean_squared_error: 7806735.5000\n",
            "Epoch 4/100\n",
            "\u001b[1m202/202\u001b[0m \u001b[32m━━━━━━━━━━━━━━━━━━━━\u001b[0m\u001b[37m\u001b[0m \u001b[1m1s\u001b[0m 2ms/step - loss: 73375095455744.0000 - root_mean_squared_error: 8440193.0000\n",
            "Epoch 5/100\n",
            "\u001b[1m202/202\u001b[0m \u001b[32m━━━━━━━━━━━━━━━━━━━━\u001b[0m\u001b[37m\u001b[0m \u001b[1m1s\u001b[0m 2ms/step - loss: 39435592794112.0000 - root_mean_squared_error: 6213996.5000\n",
            "Epoch 6/100\n",
            "\u001b[1m202/202\u001b[0m \u001b[32m━━━━━━━━━━━━━━━━━━━━\u001b[0m\u001b[37m\u001b[0m \u001b[1m1s\u001b[0m 3ms/step - loss: 49807787819008.0000 - root_mean_squared_error: 7011708.0000\n",
            "Epoch 7/100\n",
            "\u001b[1m202/202\u001b[0m \u001b[32m━━━━━━━━━━━━━━━━━━━━\u001b[0m\u001b[37m\u001b[0m \u001b[1m1s\u001b[0m 3ms/step - loss: 27923725680640.0000 - root_mean_squared_error: 5246259.0000\n",
            "Epoch 8/100\n",
            "\u001b[1m202/202\u001b[0m \u001b[32m━━━━━━━━━━━━━━━━━━━━\u001b[0m\u001b[37m\u001b[0m \u001b[1m1s\u001b[0m 3ms/step - loss: 21104613654528.0000 - root_mean_squared_error: 4562023.5000\n",
            "Epoch 9/100\n",
            "\u001b[1m202/202\u001b[0m \u001b[32m━━━━━━━━━━━━━━━━━━━━\u001b[0m\u001b[37m\u001b[0m \u001b[1m0s\u001b[0m 2ms/step - loss: 27289448349696.0000 - root_mean_squared_error: 5181229.0000\n",
            "Epoch 10/100\n",
            "\u001b[1m202/202\u001b[0m \u001b[32m━━━━━━━━━━━━━━━━━━━━\u001b[0m\u001b[37m\u001b[0m \u001b[1m1s\u001b[0m 2ms/step - loss: 53198916157440.0000 - root_mean_squared_error: 7028898.0000\n",
            "Epoch 11/100\n",
            "\u001b[1m202/202\u001b[0m \u001b[32m━━━━━━━━━━━━━━━━━━━━\u001b[0m\u001b[37m\u001b[0m \u001b[1m1s\u001b[0m 2ms/step - loss: 22851813900288.0000 - root_mean_squared_error: 4765214.0000\n",
            "Epoch 12/100\n",
            "\u001b[1m202/202\u001b[0m \u001b[32m━━━━━━━━━━━━━━━━━━━━\u001b[0m\u001b[37m\u001b[0m \u001b[1m1s\u001b[0m 2ms/step - loss: 29165690552320.0000 - root_mean_squared_error: 5317692.0000\n",
            "Epoch 13/100\n",
            "\u001b[1m202/202\u001b[0m \u001b[32m━━━━━━━━━━━━━━━━━━━━\u001b[0m\u001b[37m\u001b[0m \u001b[1m1s\u001b[0m 2ms/step - loss: 32862996791296.0000 - root_mean_squared_error: 5686324.0000\n",
            "Epoch 14/100\n",
            "\u001b[1m202/202\u001b[0m \u001b[32m━━━━━━━━━━━━━━━━━━━━\u001b[0m\u001b[37m\u001b[0m \u001b[1m1s\u001b[0m 2ms/step - loss: 36223796117504.0000 - root_mean_squared_error: 5873704.0000\n",
            "Epoch 15/100\n",
            "\u001b[1m202/202\u001b[0m \u001b[32m━━━━━━━━━━━━━━━━━━━━\u001b[0m\u001b[37m\u001b[0m \u001b[1m1s\u001b[0m 2ms/step - loss: 21929520005120.0000 - root_mean_squared_error: 4612230.5000\n",
            "Epoch 16/100\n",
            "\u001b[1m202/202\u001b[0m \u001b[32m━━━━━━━━━━━━━━━━━━━━\u001b[0m\u001b[37m\u001b[0m \u001b[1m1s\u001b[0m 2ms/step - loss: 18252065406976.0000 - root_mean_squared_error: 4258829.5000\n",
            "Epoch 17/100\n",
            "\u001b[1m202/202\u001b[0m \u001b[32m━━━━━━━━━━━━━━━━━━━━\u001b[0m\u001b[37m\u001b[0m \u001b[1m0s\u001b[0m 2ms/step - loss: 27261625434112.0000 - root_mean_squared_error: 5132295.5000\n",
            "Epoch 18/100\n",
            "\u001b[1m202/202\u001b[0m \u001b[32m━━━━━━━━━━━━━━━━━━━━\u001b[0m\u001b[37m\u001b[0m \u001b[1m1s\u001b[0m 2ms/step - loss: 24062300520448.0000 - root_mean_squared_error: 4859912.0000\n",
            "Epoch 19/100\n",
            "\u001b[1m202/202\u001b[0m \u001b[32m━━━━━━━━━━━━━━━━━━━━\u001b[0m\u001b[37m\u001b[0m \u001b[1m1s\u001b[0m 2ms/step - loss: 25172509720576.0000 - root_mean_squared_error: 4949449.5000\n",
            "Epoch 20/100\n",
            "\u001b[1m202/202\u001b[0m \u001b[32m━━━━━━━━━━━━━━━━━━━━\u001b[0m\u001b[37m\u001b[0m \u001b[1m1s\u001b[0m 2ms/step - loss: 23809809711104.0000 - root_mean_squared_error: 4756590.0000\n",
            "Epoch 21/100\n",
            "\u001b[1m202/202\u001b[0m \u001b[32m━━━━━━━━━━━━━━━━━━━━\u001b[0m\u001b[37m\u001b[0m \u001b[1m0s\u001b[0m 2ms/step - loss: 22596814897152.0000 - root_mean_squared_error: 4712780.0000\n",
            "Epoch 22/100\n",
            "\u001b[1m202/202\u001b[0m \u001b[32m━━━━━━━━━━━━━━━━━━━━\u001b[0m\u001b[37m\u001b[0m \u001b[1m1s\u001b[0m 2ms/step - loss: 25437136748544.0000 - root_mean_squared_error: 4931332.5000\n",
            "Epoch 23/100\n",
            "\u001b[1m202/202\u001b[0m \u001b[32m━━━━━━━━━━━━━━━━━━━━\u001b[0m\u001b[37m\u001b[0m \u001b[1m1s\u001b[0m 2ms/step - loss: 44786648088576.0000 - root_mean_squared_error: 6465435.5000\n",
            "Epoch 24/100\n",
            "\u001b[1m202/202\u001b[0m \u001b[32m━━━━━━━━━━━━━━━━━━━━\u001b[0m\u001b[37m\u001b[0m \u001b[1m1s\u001b[0m 2ms/step - loss: 29029405032448.0000 - root_mean_squared_error: 5286287.0000\n",
            "Epoch 25/100\n",
            "\u001b[1m202/202\u001b[0m \u001b[32m━━━━━━━━━━━━━━━━━━━━\u001b[0m\u001b[37m\u001b[0m \u001b[1m0s\u001b[0m 2ms/step - loss: 33122263498752.0000 - root_mean_squared_error: 5630707.5000\n",
            "Epoch 26/100\n",
            "\u001b[1m202/202\u001b[0m \u001b[32m━━━━━━━━━━━━━━━━━━━━\u001b[0m\u001b[37m\u001b[0m \u001b[1m1s\u001b[0m 3ms/step - loss: 49314961293312.0000 - root_mean_squared_error: 6661628.0000\n",
            "Epoch 27/100\n",
            "\u001b[1m202/202\u001b[0m \u001b[32m━━━━━━━━━━━━━━━━━━━━\u001b[0m\u001b[37m\u001b[0m \u001b[1m1s\u001b[0m 3ms/step - loss: 16654362738688.0000 - root_mean_squared_error: 4068464.2500\n",
            "Epoch 28/100\n",
            "\u001b[1m202/202\u001b[0m \u001b[32m━━━━━━━━━━━━━━━━━━━━\u001b[0m\u001b[37m\u001b[0m \u001b[1m1s\u001b[0m 2ms/step - loss: 18413780992000.0000 - root_mean_squared_error: 4248049.5000\n",
            "Epoch 29/100\n",
            "\u001b[1m202/202\u001b[0m \u001b[32m━━━━━━━━━━━━━━━━━━━━\u001b[0m\u001b[37m\u001b[0m \u001b[1m0s\u001b[0m 2ms/step - loss: 16644884660224.0000 - root_mean_squared_error: 4023104.5000\n",
            "Epoch 30/100\n",
            "\u001b[1m202/202\u001b[0m \u001b[32m━━━━━━━━━━━━━━━━━━━━\u001b[0m\u001b[37m\u001b[0m \u001b[1m0s\u001b[0m 2ms/step - loss: 68396469190656.0000 - root_mean_squared_error: 7405552.5000\n",
            "Epoch 31/100\n",
            "\u001b[1m202/202\u001b[0m \u001b[32m━━━━━━━━━━━━━━━━━━━━\u001b[0m\u001b[37m\u001b[0m \u001b[1m0s\u001b[0m 2ms/step - loss: 30846255890432.0000 - root_mean_squared_error: 5436267.0000\n",
            "Epoch 32/100\n",
            "\u001b[1m202/202\u001b[0m \u001b[32m━━━━━━━━━━━━━━━━━━━━\u001b[0m\u001b[37m\u001b[0m \u001b[1m1s\u001b[0m 2ms/step - loss: 15219305742336.0000 - root_mean_squared_error: 3808238.7500\n",
            "Epoch 33/100\n",
            "\u001b[1m202/202\u001b[0m \u001b[32m━━━━━━━━━━━━━━━━━━━━\u001b[0m\u001b[37m\u001b[0m \u001b[1m1s\u001b[0m 2ms/step - loss: 24312260067328.0000 - root_mean_squared_error: 4862827.0000\n",
            "Epoch 34/100\n",
            "\u001b[1m202/202\u001b[0m \u001b[32m━━━━━━━━━━━━━━━━━━━━\u001b[0m\u001b[37m\u001b[0m \u001b[1m0s\u001b[0m 2ms/step - loss: 60446585389056.0000 - root_mean_squared_error: 7124788.5000\n",
            "Epoch 35/100\n",
            "\u001b[1m202/202\u001b[0m \u001b[32m━━━━━━━━━━━━━━━━━━━━\u001b[0m\u001b[37m\u001b[0m \u001b[1m1s\u001b[0m 2ms/step - loss: 26289136205824.0000 - root_mean_squared_error: 5033414.0000\n",
            "Epoch 36/100\n",
            "\u001b[1m202/202\u001b[0m \u001b[32m━━━━━━━━━━━━━━━━━━━━\u001b[0m\u001b[37m\u001b[0m \u001b[1m1s\u001b[0m 2ms/step - loss: 21482044391424.0000 - root_mean_squared_error: 4596120.0000\n",
            "Epoch 37/100\n",
            "\u001b[1m202/202\u001b[0m \u001b[32m━━━━━━━━━━━━━━━━━━━━\u001b[0m\u001b[37m\u001b[0m \u001b[1m1s\u001b[0m 2ms/step - loss: 16962888400896.0000 - root_mean_squared_error: 4058642.5000\n",
            "Epoch 38/100\n",
            "\u001b[1m202/202\u001b[0m \u001b[32m━━━━━━━━━━━━━━━━━━━━\u001b[0m\u001b[37m\u001b[0m \u001b[1m1s\u001b[0m 2ms/step - loss: 15020641484800.0000 - root_mean_squared_error: 3845465.0000\n",
            "Epoch 39/100\n",
            "\u001b[1m202/202\u001b[0m \u001b[32m━━━━━━━━━━━━━━━━━━━━\u001b[0m\u001b[37m\u001b[0m \u001b[1m1s\u001b[0m 2ms/step - loss: 35206224412672.0000 - root_mean_squared_error: 5809731.0000\n",
            "Epoch 40/100\n",
            "\u001b[1m202/202\u001b[0m \u001b[32m━━━━━━━━━━━━━━━━━━━━\u001b[0m\u001b[37m\u001b[0m \u001b[1m1s\u001b[0m 2ms/step - loss: 21909206990848.0000 - root_mean_squared_error: 4587477.0000\n",
            "Epoch 41/100\n",
            "\u001b[1m202/202\u001b[0m \u001b[32m━━━━━━━━━━━━━━━━━━━━\u001b[0m\u001b[37m\u001b[0m \u001b[1m0s\u001b[0m 2ms/step - loss: 18032766222336.0000 - root_mean_squared_error: 4198004.0000\n",
            "Epoch 42/100\n",
            "\u001b[1m202/202\u001b[0m \u001b[32m━━━━━━━━━━━━━━━━━━━━\u001b[0m\u001b[37m\u001b[0m \u001b[1m1s\u001b[0m 2ms/step - loss: 26492656418816.0000 - root_mean_squared_error: 5043818.5000\n",
            "Epoch 43/100\n",
            "\u001b[1m202/202\u001b[0m \u001b[32m━━━━━━━━━━━━━━━━━━━━\u001b[0m\u001b[37m\u001b[0m \u001b[1m1s\u001b[0m 2ms/step - loss: 18373316444160.0000 - root_mean_squared_error: 4263989.5000\n",
            "Epoch 44/100\n",
            "\u001b[1m202/202\u001b[0m \u001b[32m━━━━━━━━━━━━━━━━━━━━\u001b[0m\u001b[37m\u001b[0m \u001b[1m1s\u001b[0m 2ms/step - loss: 19313641652224.0000 - root_mean_squared_error: 4325284.5000\n",
            "Epoch 45/100\n",
            "\u001b[1m202/202\u001b[0m \u001b[32m━━━━━━━━━━━━━━━━━━━━\u001b[0m\u001b[37m\u001b[0m \u001b[1m1s\u001b[0m 4ms/step - loss: 68382850285568.0000 - root_mean_squared_error: 7409338.0000\n",
            "Epoch 46/100\n",
            "\u001b[1m202/202\u001b[0m \u001b[32m━━━━━━━━━━━━━━━━━━━━\u001b[0m\u001b[37m\u001b[0m \u001b[1m1s\u001b[0m 4ms/step - loss: 19812914823168.0000 - root_mean_squared_error: 4399430.5000\n",
            "Epoch 47/100\n",
            "\u001b[1m202/202\u001b[0m \u001b[32m━━━━━━━━━━━━━━━━━━━━\u001b[0m\u001b[37m\u001b[0m \u001b[1m1s\u001b[0m 2ms/step - loss: 15554063630336.0000 - root_mean_squared_error: 3913373.5000\n",
            "Epoch 48/100\n",
            "\u001b[1m202/202\u001b[0m \u001b[32m━━━━━━━━━━━━━━━━━━━━\u001b[0m\u001b[37m\u001b[0m \u001b[1m0s\u001b[0m 2ms/step - loss: 15921790844928.0000 - root_mean_squared_error: 3967896.7500\n",
            "Epoch 49/100\n",
            "\u001b[1m202/202\u001b[0m \u001b[32m━━━━━━━━━━━━━━━━━━━━\u001b[0m\u001b[37m\u001b[0m \u001b[1m1s\u001b[0m 2ms/step - loss: 31123967049728.0000 - root_mean_squared_error: 5488795.0000\n",
            "Epoch 50/100\n",
            "\u001b[1m202/202\u001b[0m \u001b[32m━━━━━━━━━━━━━━━━━━━━\u001b[0m\u001b[37m\u001b[0m \u001b[1m1s\u001b[0m 2ms/step - loss: 16084299153408.0000 - root_mean_squared_error: 3977204.2500\n",
            "Epoch 51/100\n",
            "\u001b[1m202/202\u001b[0m \u001b[32m━━━━━━━━━━━━━━━━━━━━\u001b[0m\u001b[37m\u001b[0m \u001b[1m1s\u001b[0m 2ms/step - loss: 72223347965952.0000 - root_mean_squared_error: 7214808.0000\n",
            "Epoch 52/100\n",
            "\u001b[1m202/202\u001b[0m \u001b[32m━━━━━━━━━━━━━━━━━━━━\u001b[0m\u001b[37m\u001b[0m \u001b[1m1s\u001b[0m 2ms/step - loss: 23995097284608.0000 - root_mean_squared_error: 4814939.5000\n",
            "Epoch 53/100\n",
            "\u001b[1m202/202\u001b[0m \u001b[32m━━━━━━━━━━━━━━━━━━━━\u001b[0m\u001b[37m\u001b[0m \u001b[1m1s\u001b[0m 2ms/step - loss: 20467840712704.0000 - root_mean_squared_error: 4434814.0000\n",
            "Epoch 54/100\n",
            "\u001b[1m202/202\u001b[0m \u001b[32m━━━━━━━━━━━━━━━━━━━━\u001b[0m\u001b[37m\u001b[0m \u001b[1m1s\u001b[0m 2ms/step - loss: 18475412094976.0000 - root_mean_squared_error: 4257298.0000\n",
            "Epoch 55/100\n",
            "\u001b[1m202/202\u001b[0m \u001b[32m━━━━━━━━━━━━━━━━━━━━\u001b[0m\u001b[37m\u001b[0m \u001b[1m1s\u001b[0m 2ms/step - loss: 24729939345408.0000 - root_mean_squared_error: 4866738.5000\n",
            "Epoch 56/100\n",
            "\u001b[1m202/202\u001b[0m \u001b[32m━━━━━━━━━━━━━━━━━━━━\u001b[0m\u001b[37m\u001b[0m \u001b[1m1s\u001b[0m 2ms/step - loss: 28708003905536.0000 - root_mean_squared_error: 5225584.0000\n",
            "Epoch 57/100\n",
            "\u001b[1m202/202\u001b[0m \u001b[32m━━━━━━━━━━━━━━━━━━━━\u001b[0m\u001b[37m\u001b[0m \u001b[1m1s\u001b[0m 2ms/step - loss: 24148044677120.0000 - root_mean_squared_error: 4833926.0000\n",
            "Epoch 58/100\n",
            "\u001b[1m202/202\u001b[0m \u001b[32m━━━━━━━━━━━━━━━━━━━━\u001b[0m\u001b[37m\u001b[0m \u001b[1m1s\u001b[0m 2ms/step - loss: 22824263614464.0000 - root_mean_squared_error: 4666949.5000\n",
            "Epoch 59/100\n",
            "\u001b[1m202/202\u001b[0m \u001b[32m━━━━━━━━━━━━━━━━━━━━\u001b[0m\u001b[37m\u001b[0m \u001b[1m1s\u001b[0m 2ms/step - loss: 23837253042176.0000 - root_mean_squared_error: 4835371.5000\n",
            "Epoch 60/100\n",
            "\u001b[1m202/202\u001b[0m \u001b[32m━━━━━━━━━━━━━━━━━━━━\u001b[0m\u001b[37m\u001b[0m \u001b[1m1s\u001b[0m 2ms/step - loss: 31561969827840.0000 - root_mean_squared_error: 5535837.5000\n",
            "Epoch 61/100\n",
            "\u001b[1m202/202\u001b[0m \u001b[32m━━━━━━━━━━━━━━━━━━━━\u001b[0m\u001b[37m\u001b[0m \u001b[1m1s\u001b[0m 2ms/step - loss: 48710000050176.0000 - root_mean_squared_error: 6648423.0000\n",
            "Epoch 62/100\n",
            "\u001b[1m202/202\u001b[0m \u001b[32m━━━━━━━━━━━━━━━━━━━━\u001b[0m\u001b[37m\u001b[0m \u001b[1m1s\u001b[0m 2ms/step - loss: 19812667359232.0000 - root_mean_squared_error: 4375404.0000\n",
            "Epoch 63/100\n",
            "\u001b[1m202/202\u001b[0m \u001b[32m━━━━━━━━━━━━━━━━━━━━\u001b[0m\u001b[37m\u001b[0m \u001b[1m1s\u001b[0m 4ms/step - loss: 32288859488256.0000 - root_mean_squared_error: 5500089.5000\n",
            "Epoch 64/100\n",
            "\u001b[1m202/202\u001b[0m \u001b[32m━━━━━━━━━━━━━━━━━━━━\u001b[0m\u001b[37m\u001b[0m \u001b[1m1s\u001b[0m 4ms/step - loss: 18648999657472.0000 - root_mean_squared_error: 4229116.5000\n",
            "Epoch 65/100\n",
            "\u001b[1m202/202\u001b[0m \u001b[32m━━━━━━━━━━━━━━━━━━━━\u001b[0m\u001b[37m\u001b[0m \u001b[1m1s\u001b[0m 3ms/step - loss: 19197209870336.0000 - root_mean_squared_error: 4312112.5000\n",
            "Epoch 66/100\n",
            "\u001b[1m202/202\u001b[0m \u001b[32m━━━━━━━━━━━━━━━━━━━━\u001b[0m\u001b[37m\u001b[0m \u001b[1m0s\u001b[0m 2ms/step - loss: 24098465906688.0000 - root_mean_squared_error: 4832388.0000\n",
            "Epoch 67/100\n",
            "\u001b[1m202/202\u001b[0m \u001b[32m━━━━━━━━━━━━━━━━━━━━\u001b[0m\u001b[37m\u001b[0m \u001b[1m1s\u001b[0m 2ms/step - loss: 44118591930368.0000 - root_mean_squared_error: 6382916.0000\n",
            "Epoch 68/100\n",
            "\u001b[1m202/202\u001b[0m \u001b[32m━━━━━━━━━━━━━━━━━━━━\u001b[0m\u001b[37m\u001b[0m \u001b[1m0s\u001b[0m 2ms/step - loss: 18036771782656.0000 - root_mean_squared_error: 4203718.5000\n",
            "Epoch 69/100\n",
            "\u001b[1m202/202\u001b[0m \u001b[32m━━━━━━━━━━━━━━━━━━━━\u001b[0m\u001b[37m\u001b[0m \u001b[1m1s\u001b[0m 2ms/step - loss: 21999415984128.0000 - root_mean_squared_error: 4639942.0000\n",
            "Epoch 70/100\n",
            "\u001b[1m202/202\u001b[0m \u001b[32m━━━━━━━━━━━━━━━━━━━━\u001b[0m\u001b[37m\u001b[0m \u001b[1m0s\u001b[0m 2ms/step - loss: 14733616873472.0000 - root_mean_squared_error: 3819395.7500\n",
            "Epoch 71/100\n",
            "\u001b[1m202/202\u001b[0m \u001b[32m━━━━━━━━━━━━━━━━━━━━\u001b[0m\u001b[37m\u001b[0m \u001b[1m1s\u001b[0m 2ms/step - loss: 17655211753472.0000 - root_mean_squared_error: 4156795.7500\n",
            "Epoch 72/100\n",
            "\u001b[1m202/202\u001b[0m \u001b[32m━━━━━━━━━━━━━━━━━━━━\u001b[0m\u001b[37m\u001b[0m \u001b[1m1s\u001b[0m 2ms/step - loss: 22595458039808.0000 - root_mean_squared_error: 4691685.5000\n",
            "Epoch 73/100\n",
            "\u001b[1m202/202\u001b[0m \u001b[32m━━━━━━━━━━━━━━━━━━━━\u001b[0m\u001b[37m\u001b[0m \u001b[1m1s\u001b[0m 2ms/step - loss: 21390575009792.0000 - root_mean_squared_error: 4554241.0000\n",
            "Epoch 74/100\n",
            "\u001b[1m202/202\u001b[0m \u001b[32m━━━━━━━━━━━━━━━━━━━━\u001b[0m\u001b[37m\u001b[0m \u001b[1m1s\u001b[0m 2ms/step - loss: 16209772806144.0000 - root_mean_squared_error: 3979040.0000\n",
            "Epoch 75/100\n",
            "\u001b[1m202/202\u001b[0m \u001b[32m━━━━━━━━━━━━━━━━━━━━\u001b[0m\u001b[37m\u001b[0m \u001b[1m1s\u001b[0m 2ms/step - loss: 38760624422912.0000 - root_mean_squared_error: 6078136.5000\n",
            "Epoch 76/100\n",
            "\u001b[1m202/202\u001b[0m \u001b[32m━━━━━━━━━━━━━━━━━━━━\u001b[0m\u001b[37m\u001b[0m \u001b[1m1s\u001b[0m 2ms/step - loss: 45218233581568.0000 - root_mean_squared_error: 6386808.0000\n",
            "Epoch 77/100\n",
            "\u001b[1m202/202\u001b[0m \u001b[32m━━━━━━━━━━━━━━━━━━━━\u001b[0m\u001b[37m\u001b[0m \u001b[1m1s\u001b[0m 2ms/step - loss: 21800037646336.0000 - root_mean_squared_error: 4619690.0000\n",
            "Epoch 78/100\n",
            "\u001b[1m202/202\u001b[0m \u001b[32m━━━━━━━━━━━━━━━━━━━━\u001b[0m\u001b[37m\u001b[0m \u001b[1m1s\u001b[0m 2ms/step - loss: 26251450384384.0000 - root_mean_squared_error: 5071851.0000\n",
            "Epoch 79/100\n",
            "\u001b[1m202/202\u001b[0m \u001b[32m━━━━━━━━━━━━━━━━━━━━\u001b[0m\u001b[37m\u001b[0m \u001b[1m1s\u001b[0m 2ms/step - loss: 16726447095808.0000 - root_mean_squared_error: 4056649.2500\n",
            "Epoch 80/100\n",
            "\u001b[1m202/202\u001b[0m \u001b[32m━━━━━━━━━━━━━━━━━━━━\u001b[0m\u001b[37m\u001b[0m \u001b[1m1s\u001b[0m 2ms/step - loss: 13233298604032.0000 - root_mean_squared_error: 3587823.0000\n",
            "Epoch 81/100\n",
            "\u001b[1m202/202\u001b[0m \u001b[32m━━━━━━━━━━━━━━━━━━━━\u001b[0m\u001b[37m\u001b[0m \u001b[1m1s\u001b[0m 2ms/step - loss: 43119571632128.0000 - root_mean_squared_error: 6284008.5000\n",
            "Epoch 82/100\n",
            "\u001b[1m202/202\u001b[0m \u001b[32m━━━━━━━━━━━━━━━━━━━━\u001b[0m\u001b[37m\u001b[0m \u001b[1m1s\u001b[0m 3ms/step - loss: 15699004096512.0000 - root_mean_squared_error: 3945676.2500\n",
            "Epoch 83/100\n",
            "\u001b[1m202/202\u001b[0m \u001b[32m━━━━━━━━━━━━━━━━━━━━\u001b[0m\u001b[37m\u001b[0m \u001b[1m1s\u001b[0m 4ms/step - loss: 20435815104512.0000 - root_mean_squared_error: 4447171.5000\n",
            "Epoch 84/100\n",
            "\u001b[1m202/202\u001b[0m \u001b[32m━━━━━━━━━━━━━━━━━━━━\u001b[0m\u001b[37m\u001b[0m \u001b[1m1s\u001b[0m 2ms/step - loss: 33014513926144.0000 - root_mean_squared_error: 5522513.5000\n",
            "Epoch 85/100\n",
            "\u001b[1m202/202\u001b[0m \u001b[32m━━━━━━━━━━━━━━━━━━━━\u001b[0m\u001b[37m\u001b[0m \u001b[1m1s\u001b[0m 2ms/step - loss: 21734205947904.0000 - root_mean_squared_error: 4633820.5000\n",
            "Epoch 86/100\n",
            "\u001b[1m202/202\u001b[0m \u001b[32m━━━━━━━━━━━━━━━━━━━━\u001b[0m\u001b[37m\u001b[0m \u001b[1m0s\u001b[0m 2ms/step - loss: 16569522454528.0000 - root_mean_squared_error: 4049149.0000\n",
            "Epoch 87/100\n",
            "\u001b[1m202/202\u001b[0m \u001b[32m━━━━━━━━━━━━━━━━━━━━\u001b[0m\u001b[37m\u001b[0m \u001b[1m1s\u001b[0m 2ms/step - loss: 14473921298432.0000 - root_mean_squared_error: 3771016.5000\n",
            "Epoch 88/100\n",
            "\u001b[1m202/202\u001b[0m \u001b[32m━━━━━━━━━━━━━━━━━━━━\u001b[0m\u001b[37m\u001b[0m \u001b[1m0s\u001b[0m 2ms/step - loss: 17124602937344.0000 - root_mean_squared_error: 4050719.2500\n",
            "Epoch 89/100\n",
            "\u001b[1m202/202\u001b[0m \u001b[32m━━━━━━━━━━━━━━━━━━━━\u001b[0m\u001b[37m\u001b[0m \u001b[1m0s\u001b[0m 2ms/step - loss: 25524151779328.0000 - root_mean_squared_error: 4931597.0000\n",
            "Epoch 90/100\n",
            "\u001b[1m202/202\u001b[0m \u001b[32m━━━━━━━━━━━━━━━━━━━━\u001b[0m\u001b[37m\u001b[0m \u001b[1m1s\u001b[0m 2ms/step - loss: 27257806520320.0000 - root_mean_squared_error: 5143205.0000\n",
            "Epoch 91/100\n",
            "\u001b[1m202/202\u001b[0m \u001b[32m━━━━━━━━━━━━━━━━━━━━\u001b[0m\u001b[37m\u001b[0m \u001b[1m1s\u001b[0m 3ms/step - loss: 21458583552000.0000 - root_mean_squared_error: 4579938.0000\n",
            "Epoch 92/100\n",
            "\u001b[1m202/202\u001b[0m \u001b[32m━━━━━━━━━━━━━━━━━━━━\u001b[0m\u001b[37m\u001b[0m \u001b[1m1s\u001b[0m 2ms/step - loss: 20420839342080.0000 - root_mean_squared_error: 4441958.0000\n",
            "Epoch 93/100\n",
            "\u001b[1m202/202\u001b[0m \u001b[32m━━━━━━━━━━━━━━━━━━━━\u001b[0m\u001b[37m\u001b[0m \u001b[1m1s\u001b[0m 2ms/step - loss: 34014771544064.0000 - root_mean_squared_error: 5671426.5000\n",
            "Epoch 94/100\n",
            "\u001b[1m202/202\u001b[0m \u001b[32m━━━━━━━━━━━━━━━━━━━━\u001b[0m\u001b[37m\u001b[0m \u001b[1m0s\u001b[0m 2ms/step - loss: 32985313181696.0000 - root_mean_squared_error: 5585809.0000\n",
            "Epoch 95/100\n",
            "\u001b[1m202/202\u001b[0m \u001b[32m━━━━━━━━━━━━━━━━━━━━\u001b[0m\u001b[37m\u001b[0m \u001b[1m1s\u001b[0m 2ms/step - loss: 15303480180736.0000 - root_mean_squared_error: 3871159.0000\n",
            "Epoch 96/100\n",
            "\u001b[1m202/202\u001b[0m \u001b[32m━━━━━━━━━━━━━━━━━━━━\u001b[0m\u001b[37m\u001b[0m \u001b[1m1s\u001b[0m 2ms/step - loss: 17468256944128.0000 - root_mean_squared_error: 4108301.5000\n",
            "Epoch 97/100\n",
            "\u001b[1m202/202\u001b[0m \u001b[32m━━━━━━━━━━━━━━━━━━━━\u001b[0m\u001b[37m\u001b[0m \u001b[1m1s\u001b[0m 2ms/step - loss: 24469408055296.0000 - root_mean_squared_error: 4817613.5000\n",
            "Epoch 98/100\n",
            "\u001b[1m202/202\u001b[0m \u001b[32m━━━━━━━━━━━━━━━━━━━━\u001b[0m\u001b[37m\u001b[0m \u001b[1m1s\u001b[0m 2ms/step - loss: 25918366023680.0000 - root_mean_squared_error: 4967307.0000\n",
            "Epoch 99/100\n",
            "\u001b[1m202/202\u001b[0m \u001b[32m━━━━━━━━━━━━━━━━━━━━\u001b[0m\u001b[37m\u001b[0m \u001b[1m0s\u001b[0m 2ms/step - loss: 12462675984384.0000 - root_mean_squared_error: 3487056.5000\n",
            "Epoch 100/100\n",
            "\u001b[1m202/202\u001b[0m \u001b[32m━━━━━━━━━━━━━━━━━━━━\u001b[0m\u001b[37m\u001b[0m \u001b[1m1s\u001b[0m 2ms/step - loss: 19518663426048.0000 - root_mean_squared_error: 4339364.5000\n"
          ]
        },
        {
          "output_type": "execute_result",
          "data": {
            "text/plain": [
              "<keras.src.callbacks.history.History at 0x7b2869837ed0>"
            ]
          },
          "metadata": {},
          "execution_count": 18
        }
      ]
    },
    {
      "cell_type": "code",
      "source": [
        "house_model.evaluate(X_test, y_test)"
      ],
      "metadata": {
        "id": "Hzwrw2-Cx_zE",
        "outputId": "140c55ae-0f13-4124-dcb3-0950af9f6ec5",
        "colab": {
          "base_uri": "https://localhost:8080/"
        }
      },
      "id": "Hzwrw2-Cx_zE",
      "execution_count": 19,
      "outputs": [
        {
          "output_type": "stream",
          "name": "stdout",
          "text": [
            "\u001b[1m16/16\u001b[0m \u001b[32m━━━━━━━━━━━━━━━━━━━━\u001b[0m\u001b[37m\u001b[0m \u001b[1m0s\u001b[0m 3ms/step - loss: 17660932784128.0000 - root_mean_squared_error: 4124191.2500 \n"
          ]
        },
        {
          "output_type": "execute_result",
          "data": {
            "text/plain": [
              "[18041874153472.0, 4247572.5]"
            ]
          },
          "metadata": {},
          "execution_count": 19
        }
      ]
    },
    {
      "cell_type": "code",
      "source": [
        "preds = house_model.predict(X_test)\n",
        "preds.shape"
      ],
      "metadata": {
        "id": "-acoyvltyM1j",
        "outputId": "43bdc9da-069b-447c-f349-4a525f7bfb82",
        "colab": {
          "base_uri": "https://localhost:8080/"
        }
      },
      "id": "-acoyvltyM1j",
      "execution_count": 21,
      "outputs": [
        {
          "output_type": "stream",
          "name": "stdout",
          "text": [
            "\u001b[1m16/16\u001b[0m \u001b[32m━━━━━━━━━━━━━━━━━━━━\u001b[0m\u001b[37m\u001b[0m \u001b[1m0s\u001b[0m 5ms/step\n"
          ]
        },
        {
          "output_type": "execute_result",
          "data": {
            "text/plain": [
              "(504, 1)"
            ]
          },
          "metadata": {},
          "execution_count": 21
        }
      ]
    },
    {
      "cell_type": "code",
      "source": [
        "err = preds.flatten() - y_test.to_numpy()\n",
        "err_percent = np.abs(((err)/y_test.to_numpy()))\n",
        "err_percent.sort()\n",
        "err_percent.min(), err_percent.max()"
      ],
      "metadata": {
        "id": "l_7W7s95yZhl",
        "outputId": "eaf1ccf9-e693-4b4f-f86f-ec096ed4f964",
        "colab": {
          "base_uri": "https://localhost:8080/"
        }
      },
      "id": "l_7W7s95yZhl",
      "execution_count": 22,
      "outputs": [
        {
          "output_type": "execute_result",
          "data": {
            "text/plain": [
              "(0.0002538181818181818, 2.085953409090909)"
            ]
          },
          "metadata": {},
          "execution_count": 22
        }
      ]
    },
    {
      "cell_type": "code",
      "source": [
        "rms = tf.sqrt(tf.reduce_mean(tf.square(err)))\n",
        "rms_percent = rms / tf.reduce_mean(y_test)\n",
        "rms, rms_percent"
      ],
      "metadata": {
        "colab": {
          "base_uri": "https://localhost:8080/"
        },
        "id": "3QJ9Qj0mq7Et",
        "outputId": "2d1f0ec0-fa20-4398-d627-f274aafbeaec"
      },
      "id": "3QJ9Qj0mq7Et",
      "execution_count": 23,
      "outputs": [
        {
          "output_type": "execute_result",
          "data": {
            "text/plain": [
              "(<tf.Tensor: shape=(), dtype=float64, numpy=4247572.915194151>,\n",
              " <tf.Tensor: shape=(), dtype=float64, numpy=0.4371339063078387>)"
            ]
          },
          "metadata": {},
          "execution_count": 23
        }
      ]
    },
    {
      "cell_type": "markdown",
      "source": [
        "Let's examine the weights of the NN and see whether it can give us any indication which column of the CSV file influences the price the most."
      ],
      "metadata": {
        "id": "-Bmrg2QGyDfx"
      },
      "id": "-Bmrg2QGyDfx"
    },
    {
      "cell_type": "code",
      "source": [
        "input_weights = house_model.get_layer('input_layer').get_weights()[0]\n",
        "input_biases = house_model.get_layer('input_layer').get_weights()[1]"
      ],
      "metadata": {
        "id": "yAOSLpX1yNV0"
      },
      "id": "yAOSLpX1yNV0",
      "execution_count": 24,
      "outputs": []
    },
    {
      "cell_type": "code",
      "source": [
        "plt.imshow(input_weights)\n",
        "plt.colorbar()"
      ],
      "metadata": {
        "id": "SLZtGbpwvCvu",
        "outputId": "e3a9b774-5923-4265-8535-10d5039e13c9",
        "colab": {
          "base_uri": "https://localhost:8080/",
          "height": 449
        }
      },
      "id": "SLZtGbpwvCvu",
      "execution_count": 34,
      "outputs": [
        {
          "output_type": "execute_result",
          "data": {
            "text/plain": [
              "<matplotlib.colorbar.Colorbar at 0x7b2860e74bd0>"
            ]
          },
          "metadata": {},
          "execution_count": 34
        },
        {
          "output_type": "display_data",
          "data": {
            "text/plain": [
              "<Figure size 640x480 with 2 Axes>"
            ],
            "image/png": "[encoded data removed]"
          },
          "metadata": {}
        }
      ]
    },
    {
      "cell_type": "code",
      "source": [
        "input_weights[:,0].sum()"
      ],
      "metadata": {
        "colab": {
          "base_uri": "https://localhost:8080/"
        },
        "id": "-2NVFZnK2q4h",
        "outputId": "11ad481c-916d-44e1-d75f-ec5159a2ee85"
      },
      "id": "-2NVFZnK2q4h",
      "execution_count": 25,
      "outputs": [
        {
          "output_type": "execute_result",
          "data": {
            "text/plain": [
              "-2.2345405"
            ]
          },
          "metadata": {},
          "execution_count": 25
        }
      ]
    },
    {
      "cell_type": "code",
      "source": [
        "np.argsort(input_weights.sum(axis=1))"
      ],
      "metadata": {
        "colab": {
          "base_uri": "https://localhost:8080/"
        },
        "id": "aHe2NhO62lZH",
        "outputId": "9ae77e8b-ec80-4b5d-f44b-ce1e5d9edd55"
      },
      "id": "aHe2NhO62lZH",
      "execution_count": 26,
      "outputs": [
        {
          "output_type": "execute_result",
          "data": {
            "text/plain": [
              "array([32,  3, 31, 15,  4, 16, 19,  8, 36, 28, 11, 18, 38, 35, 12, 37, 30,\n",
              "        1, 27, 26,  7, 23, 13, 17,  2, 34, 22, 10, 24, 33,  6, 20,  5, 29,\n",
              "       14,  9, 25, 21,  0])"
            ]
          },
          "metadata": {},
          "execution_count": 26
        }
      ]
    },
    {
      "cell_type": "code",
      "source": [
        "features.columns[np.argsort(input_weights.sum(axis=0))]"
      ],
      "metadata": {
        "colab": {
          "base_uri": "https://localhost:8080/"
        },
        "id": "MNDtcp7W0Qvz",
        "outputId": "ea038127-7593-4c94-df26-9cde6da2cb00"
      },
      "id": "MNDtcp7W0Qvz",
      "execution_count": 27,
      "outputs": [
        {
          "output_type": "execute_result",
          "data": {
            "text/plain": [
              "Index(['LiftAvailable', 'ATM', 'StaffQuarter', 'JoggingTrack', 'Resale',\n",
              "       'Wifi', 'Sofa', 'MaintenanceStaff', 'Cafeteria', 'BED', 'Gasconnection',\n",
              "       'Hospital', 'Area', 'No. of Bedrooms', 'CarParking', 'SwimmingPool',\n",
              "       'Children'splayarea', 'AC', 'LandscapedGardens', 'Wardrobe', 'TV',\n",
              "       'PowerBackup', 'SportsFacility', '24X7Security', 'Refrigerator',\n",
              "       'Gymnasium', 'GolfCourse', 'ShoppingMall', 'ClubHouse', 'Loc',\n",
              "       'MultipurposeRoom', 'Microwave', 'WashingMachine', 'IndoorGames',\n",
              "       'RainWaterHarvesting', 'Intercom', 'DiningTable', 'School',\n",
              "       'VaastuCompliant'],\n",
              "      dtype='object')"
            ]
          },
          "metadata": {},
          "execution_count": 27
        }
      ]
    },
    {
      "cell_type": "code",
      "source": [
        "features.columns[np.argsort(input_weights.sum(axis=1))]"
      ],
      "metadata": {
        "colab": {
          "base_uri": "https://localhost:8080/"
        },
        "id": "Hpiv4zMw7H-Y",
        "outputId": "51e2d140-e3b4-4a22-d0d4-ac11db14cec0"
      },
      "id": "Hpiv4zMw7H-Y",
      "execution_count": 28,
      "outputs": [
        {
          "output_type": "execute_result",
          "data": {
            "text/plain": [
              "Index(['GolfCourse', 'MaintenanceStaff', 'Microwave', 'School', 'Gymnasium',\n",
              "       '24X7Security', 'StaffQuarter', 'RainWaterHarvesting', 'Wardrobe',\n",
              "       'LiftAvailable', 'Intercom', 'CarParking', 'Loc', 'Sofa',\n",
              "       'SportsFacility', 'Refrigerator', 'VaastuCompliant', 'No. of Bedrooms',\n",
              "       'Children'splayarea', 'Wifi', 'JoggingTrack', 'WashingMachine', 'ATM',\n",
              "       'PowerBackup', 'Resale', 'DiningTable', 'Hospital', 'ShoppingMall',\n",
              "       'Gasconnection', 'TV', 'LandscapedGardens', 'Cafeteria', 'SwimmingPool',\n",
              "       'BED', 'ClubHouse', 'IndoorGames', 'AC', 'MultipurposeRoom', 'Area'],\n",
              "      dtype='object')"
            ]
          },
          "metadata": {},
          "execution_count": 28
        }
      ]
    },
    {
      "cell_type": "code",
      "source": [
        "hidden1_weights = house_model.get_layer('hidden_1').get_weights()[0]\n",
        "hidden1_biases = house_model.get_layer('hidden_1').get_weights()[1]"
      ],
      "metadata": {
        "id": "kDZbczH_3yWx"
      },
      "id": "kDZbczH_3yWx",
      "execution_count": 29,
      "outputs": []
    },
    {
      "cell_type": "code",
      "source": [
        "plt.imshow(hidden1_weights)\n",
        "# plt.colorbar()"
      ],
      "metadata": {
        "id": "0tplh8CwwlM5",
        "outputId": "8389fa6d-5c08-414b-c192-56ef547869b4",
        "colab": {
          "base_uri": "https://localhost:8080/",
          "height": 233
        }
      },
      "id": "0tplh8CwwlM5",
      "execution_count": 37,
      "outputs": [
        {
          "output_type": "execute_result",
          "data": {
            "text/plain": [
              "<matplotlib.image.AxesImage at 0x7b2860bfb1d0>"
            ]
          },
          "metadata": {},
          "execution_count": 37
        },
        {
          "output_type": "display_data",
          "data": {
            "text/plain": [
              "<Figure size 640x480 with 1 Axes>"
            ],
            "image/png": "[encoded data removed]"
          },
          "metadata": {}
        }
      ]
    },
    {
      "cell_type": "code",
      "source": [
        "hidden1_weights.shape, hidden1_biases.shape"
      ],
      "metadata": {
        "colab": {
          "base_uri": "https://localhost:8080/"
        },
        "id": "_2psnHK93747",
        "outputId": "2d4be146-f0fc-47ca-8c6d-1d824dc4a24c"
      },
      "id": "_2psnHK93747",
      "execution_count": 30,
      "outputs": [
        {
          "output_type": "execute_result",
          "data": {
            "text/plain": [
              "((39, 128), (128,))"
            ]
          },
          "metadata": {},
          "execution_count": 30
        }
      ]
    },
    {
      "cell_type": "code",
      "source": [
        "features.columns[np.argsort(hidden1_weights.sum(axis=1))]"
      ],
      "metadata": {
        "colab": {
          "base_uri": "https://localhost:8080/"
        },
        "id": "sNTyzZBo3_qm",
        "outputId": "d6eddb30-68d7-469c-8006-76a3461d590c"
      },
      "id": "sNTyzZBo3_qm",
      "execution_count": 31,
      "outputs": [
        {
          "output_type": "execute_result",
          "data": {
            "text/plain": [
              "Index(['CarParking', 'Children'splayarea', 'MaintenanceStaff', 'Wifi', 'ATM',\n",
              "       'SwimmingPool', 'LiftAvailable', 'Gasconnection', 'Sofa',\n",
              "       'StaffQuarter', 'Cafeteria', 'Resale', 'JoggingTrack', 'Area',\n",
              "       'Hospital', 'No. of Bedrooms', 'VaastuCompliant', 'School',\n",
              "       'DiningTable', 'WashingMachine', 'IndoorGames', 'AC', 'Refrigerator',\n",
              "       '24X7Security', 'RainWaterHarvesting', 'Gymnasium', 'ClubHouse',\n",
              "       'ShoppingMall', 'MultipurposeRoom', 'GolfCourse', 'Loc', 'PowerBackup',\n",
              "       'TV', 'Intercom', 'Wardrobe', 'Microwave', 'SportsFacility',\n",
              "       'LandscapedGardens', 'BED'],\n",
              "      dtype='object')"
            ]
          },
          "metadata": {},
          "execution_count": 31
        }
      ]
    },
    {
      "cell_type": "code",
      "source": [
        "hidden2_weights = house_model.get_layer('hidden_2').get_weights()[0]\n",
        "hidden2_biases = house_model.get_layer('hidden_2').get_weights()[1]\n",
        "plt.imshow(hidden2_weights)"
      ],
      "metadata": {
        "id": "8BD4juyCw_vU",
        "outputId": "105f4145-2d13-4514-a072-be1d554dd855",
        "colab": {
          "base_uri": "https://localhost:8080/",
          "height": 452
        }
      },
      "id": "8BD4juyCw_vU",
      "execution_count": 38,
      "outputs": [
        {
          "output_type": "execute_result",
          "data": {
            "text/plain": [
              "<matplotlib.image.AxesImage at 0x7b285ead2650>"
            ]
          },
          "metadata": {},
          "execution_count": 38
        },
        {
          "output_type": "display_data",
          "data": {
            "text/plain": [
              "<Figure size 640x480 with 1 Axes>"
            ],
            "image/png": "[encoded data removed]"
          },
          "metadata": {}
        }
      ]
    },
    {
      "cell_type": "markdown",
      "source": [
        "## In PyTorch"
      ],
      "metadata": {
        "id": "A0cx2dcPnXQ2"
      },
      "id": "A0cx2dcPnXQ2"
    },
    {
      "cell_type": "code",
      "source": [
        "import torch\n",
        "import torch.nn as nn\n",
        "import torch.optim as optim\n",
        "import torch.nn.functional as F\n",
        "from torch.utils.data import DataLoader, Dataset, TensorDataset\n",
        "\n",
        "class RMSELoss(nn.Module):\n",
        "  def __init__(self, eps=1e-6):\n",
        "    super().__init__()\n",
        "    self.mse = nn.MSELoss()\n",
        "    self.eps = eps\n",
        "\n",
        "  def forward(self,yhat,y):\n",
        "    loss = torch.sqrt(self.mse(yhat,y) + self.eps)\n",
        "    return loss\n",
        "\n",
        "dropout_rate = 0.2\n",
        "house_model2 = nn.Sequential(\n",
        "    nn.Linear(features.shape[1], 128),\n",
        "    nn.ReLU(),\n",
        "    nn.Dropout(p=dropout_rate),\n",
        "    nn.Linear(128, 64),\n",
        "    nn.ReLU(),\n",
        "    nn.Dropout(p=dropout_rate),\n",
        "    nn.Linear(64, 1)\n",
        ")\n",
        "house_model2"
      ],
      "metadata": {
        "colab": {
          "base_uri": "https://localhost:8080/"
        },
        "id": "Fiehq5hCnZrz",
        "outputId": "ea730be6-c3db-4301-f11f-f1e1fefb5b2a"
      },
      "id": "Fiehq5hCnZrz",
      "execution_count": 39,
      "outputs": [
        {
          "output_type": "execute_result",
          "data": {
            "text/plain": [
              "Sequential(\n",
              "  (0): Linear(in_features=39, out_features=128, bias=True)\n",
              "  (1): ReLU()\n",
              "  (2): Dropout(p=0.2, inplace=False)\n",
              "  (3): Linear(in_features=128, out_features=64, bias=True)\n",
              "  (4): ReLU()\n",
              "  (5): Dropout(p=0.2, inplace=False)\n",
              "  (6): Linear(in_features=64, out_features=1, bias=True)\n",
              ")"
            ]
          },
          "metadata": {},
          "execution_count": 39
        }
      ]
    },
    {
      "cell_type": "code",
      "source": [
        "batch_size=10\n",
        "Xt_train = torch.tensor(X_train.to_numpy(), dtype=torch.float32)\n",
        "yt_train = torch.tensor(y_train.to_numpy(), dtype=torch.float32)\n",
        "Xt_test = torch.tensor(X_test.to_numpy(), dtype=torch.float32)\n",
        "yt_test = torch.tensor(y_test.to_numpy(), dtype=torch.float32)\n",
        "\n",
        "dataset_train = TensorDataset(torch.tensor(Xt_train, dtype=torch.float32),\n",
        "                        yt_train)\n",
        "dataloader = DataLoader(dataset_train, batch_size=batch_size, shuffle=True)\n",
        "\n",
        "# train\n",
        "num_epochs = 100\n",
        "criterion = RMSELoss()\n",
        "optimiser = optim.Adamax(house_model2.parameters(), lr=0.1)\n",
        "for epoch in range(num_epochs):\n",
        "  house_model2.train()\n",
        "\n",
        "  for feature, label in dataloader:\n",
        "    pred = house_model2(feature).squeeze()\n",
        "    loss = criterion(pred, label)\n",
        "\n",
        "    optimiser.zero_grad()\n",
        "    loss.backward()\n",
        "    optimiser.step()\n",
        "\n",
        "  print(f\"Epoch [{epoch}/{num_epochs}], loss: {loss.item():.4f}\")"
      ],
      "metadata": {
        "colab": {
          "base_uri": "https://localhost:8080/"
        },
        "id": "KtNlhnjWpPF5",
        "outputId": "a3e00c83-949b-4c2e-d20b-6ac2e615f8ef"
      },
      "id": "KtNlhnjWpPF5",
      "execution_count": 41,
      "outputs": [
        {
          "output_type": "stream",
          "name": "stderr",
          "text": [
            "<ipython-input-41-bf03516017a5>:7: UserWarning: To copy construct from a tensor, it is recommended to use sourceTensor.clone().detach() or sourceTensor.clone().detach().requires_grad_(True), rather than torch.tensor(sourceTensor).\n",
            "  dataset_train = TensorDataset(torch.tensor(Xt_train, dtype=torch.float32),\n"
          ]
        },
        {
          "output_type": "stream",
          "name": "stdout",
          "text": [
            "Epoch [0/100], loss: 9295468.0000\n",
            "Epoch [1/100], loss: 1737755.2500\n",
            "Epoch [2/100], loss: 3992501.0000\n",
            "Epoch [3/100], loss: 2613003.7500\n",
            "Epoch [4/100], loss: 1671616.1250\n",
            "Epoch [5/100], loss: 3786650.7500\n",
            "Epoch [6/100], loss: 2367796.0000\n",
            "Epoch [7/100], loss: 3871651.5000\n",
            "Epoch [8/100], loss: 3759227.7500\n",
            "Epoch [9/100], loss: 1941002.7500\n",
            "Epoch [10/100], loss: 1965638.1250\n",
            "Epoch [11/100], loss: 1448593.5000\n",
            "Epoch [12/100], loss: 16789804.0000\n",
            "Epoch [13/100], loss: 1809911.0000\n",
            "Epoch [14/100], loss: 3000392.2500\n",
            "Epoch [15/100], loss: 16751640.0000\n",
            "Epoch [16/100], loss: 3899122.7500\n",
            "Epoch [17/100], loss: 7167237.0000\n",
            "Epoch [18/100], loss: 2795761.7500\n",
            "Epoch [19/100], loss: 2192884.2500\n",
            "Epoch [20/100], loss: 1173859.1250\n",
            "Epoch [21/100], loss: 3408100.5000\n",
            "Epoch [22/100], loss: 657721.1250\n",
            "Epoch [23/100], loss: 6196734.0000\n",
            "Epoch [24/100], loss: 3081708.5000\n",
            "Epoch [25/100], loss: 3026244.5000\n",
            "Epoch [26/100], loss: 2801087.7500\n",
            "Epoch [27/100], loss: 3023062.2500\n",
            "Epoch [28/100], loss: 1498056.1250\n",
            "Epoch [29/100], loss: 5040578.5000\n",
            "Epoch [30/100], loss: 1664716.5000\n",
            "Epoch [31/100], loss: 2255716.5000\n",
            "Epoch [32/100], loss: 8600508.0000\n",
            "Epoch [33/100], loss: 6911103.0000\n",
            "Epoch [34/100], loss: 2363967.0000\n",
            "Epoch [35/100], loss: 1113890.7500\n",
            "Epoch [36/100], loss: 1615173.1250\n",
            "Epoch [37/100], loss: 1407369.1250\n",
            "Epoch [38/100], loss: 1039374.5000\n",
            "Epoch [39/100], loss: 5919190.5000\n",
            "Epoch [40/100], loss: 1803568.1250\n",
            "Epoch [41/100], loss: 2251324.5000\n",
            "Epoch [42/100], loss: 2340393.0000\n",
            "Epoch [43/100], loss: 8028351.0000\n",
            "Epoch [44/100], loss: 1661011.0000\n",
            "Epoch [45/100], loss: 2345804.7500\n",
            "Epoch [46/100], loss: 1555605.3750\n",
            "Epoch [47/100], loss: 2337549.5000\n",
            "Epoch [48/100], loss: 1195686.2500\n",
            "Epoch [49/100], loss: 1499946.0000\n",
            "Epoch [50/100], loss: 2922200.2500\n",
            "Epoch [51/100], loss: 1596492.2500\n",
            "Epoch [52/100], loss: 1507004.3750\n",
            "Epoch [53/100], loss: 2090448.8750\n",
            "Epoch [54/100], loss: 3125130.0000\n",
            "Epoch [55/100], loss: 2354903.2500\n",
            "Epoch [56/100], loss: 27232530.0000\n",
            "Epoch [57/100], loss: 2572914.2500\n",
            "Epoch [58/100], loss: 3624904.5000\n",
            "Epoch [59/100], loss: 5178705.0000\n",
            "Epoch [60/100], loss: 3058365.0000\n",
            "Epoch [61/100], loss: 2413828.0000\n",
            "Epoch [62/100], loss: 8474820.0000\n",
            "Epoch [63/100], loss: 2366958.0000\n",
            "Epoch [64/100], loss: 1848245.1250\n",
            "Epoch [65/100], loss: 1346124.8750\n",
            "Epoch [66/100], loss: 7757540.5000\n",
            "Epoch [67/100], loss: 1947906.6250\n",
            "Epoch [68/100], loss: 832590.6250\n",
            "Epoch [69/100], loss: 1729502.0000\n",
            "Epoch [70/100], loss: 9688299.0000\n",
            "Epoch [71/100], loss: 825330.1875\n",
            "Epoch [72/100], loss: 2511705.2500\n",
            "Epoch [73/100], loss: 4043965.7500\n",
            "Epoch [74/100], loss: 1665620.8750\n",
            "Epoch [75/100], loss: 2081291.8750\n",
            "Epoch [76/100], loss: 3498992.0000\n",
            "Epoch [77/100], loss: 666028.3125\n",
            "Epoch [78/100], loss: 2066577.6250\n",
            "Epoch [79/100], loss: 1631807.1250\n",
            "Epoch [80/100], loss: 1861118.6250\n",
            "Epoch [81/100], loss: 3548237.7500\n",
            "Epoch [82/100], loss: 1578718.8750\n",
            "Epoch [83/100], loss: 2722458.2500\n",
            "Epoch [84/100], loss: 2499746.0000\n",
            "Epoch [85/100], loss: 1668511.7500\n",
            "Epoch [86/100], loss: 1413470.7500\n",
            "Epoch [87/100], loss: 4207123.0000\n",
            "Epoch [88/100], loss: 1446764.0000\n",
            "Epoch [89/100], loss: 3134147.2500\n",
            "Epoch [90/100], loss: 2111756.0000\n",
            "Epoch [91/100], loss: 2097111.2500\n",
            "Epoch [92/100], loss: 644517.2500\n",
            "Epoch [93/100], loss: 1578304.6250\n",
            "Epoch [94/100], loss: 635263.6875\n",
            "Epoch [95/100], loss: 806807.6250\n",
            "Epoch [96/100], loss: 1213555.3750\n",
            "Epoch [97/100], loss: 858433.8750\n",
            "Epoch [98/100], loss: 1160506.5000\n",
            "Epoch [99/100], loss: 5350753.0000\n"
          ]
        }
      ]
    },
    {
      "cell_type": "code",
      "source": [
        "dataset_test = TensorDataset(torch.tensor(Xt_test, dtype=torch.float32),\n",
        "                        yt_test)\n",
        "dataloader = DataLoader(dataset_test, batch_size=batch_size, shuffle=True)\n",
        "\n",
        "house_model2.eval()\n",
        "with torch.no_grad():\n",
        "  total_loss = 0\n",
        "  for feature, label in dataloader:\n",
        "    pred = house_model2(feature).squeeze()\n",
        "    loss = criterion(pred, label)\n",
        "    total_loss += loss\n",
        "\n",
        "  avg_loss = total_loss / len(dataloader)\n",
        "  print(f\"Average RMSE on test dataset: {avg_loss:.4f}\")"
      ],
      "metadata": {
        "colab": {
          "base_uri": "https://localhost:8080/"
        },
        "id": "8NZr_nYFGwQx",
        "outputId": "32510a76-66e8-4264-88af-863f876df899"
      },
      "id": "8NZr_nYFGwQx",
      "execution_count": 42,
      "outputs": [
        {
          "output_type": "stream",
          "name": "stdout",
          "text": [
            "Average RMSE on test dataset: 3125808.2500\n"
          ]
        },
        {
          "output_type": "stream",
          "name": "stderr",
          "text": [
            "<ipython-input-42-741d035f8d32>:1: UserWarning: To copy construct from a tensor, it is recommended to use sourceTensor.clone().detach() or sourceTensor.clone().detach().requires_grad_(True), rather than torch.tensor(sourceTensor).\n",
            "  dataset_test = TensorDataset(torch.tensor(Xt_test, dtype=torch.float32),\n"
          ]
        }
      ]
    },
    {
      "cell_type": "code",
      "source": [
        "preds2= house_model2(Xt_test)\n",
        "err2 = preds2.squeeze() - yt_test\n",
        "err_percent2 = err2 / yt_test\n",
        "print(f\"min={err_percent2.abs().min()}, max={err_percent2.abs().max()}\")\n",
        "err_percent2 = np.abs(err_percent2.detach().numpy())\n",
        "err_percent2.sort()\n"
      ],
      "metadata": {
        "colab": {
          "base_uri": "https://localhost:8080/"
        },
        "id": "ArwfU0lsKdH1",
        "outputId": "a701d590-ee2c-423e-baf8-c4cc5f689ee1"
      },
      "id": "ArwfU0lsKdH1",
      "execution_count": 43,
      "outputs": [
        {
          "output_type": "stream",
          "name": "stdout",
          "text": [
            "min=0.0007031304412521422, max=2.071579933166504\n"
          ]
        }
      ]
    },
    {
      "cell_type": "code",
      "source": [
        "plt.plot(err_percent*100, label='tensorflow')\n",
        "plt.plot(err_percent2*100, label='torch')\n",
        "plt.ylabel('%')\n",
        "plt.yscale('log')\n",
        "plt.xlabel('sample')\n",
        "plt.axhline(y=100, color='m', label='100%', lw=0.5)\n",
        "plt.axhline(y=50, color='c', label='50%', lw=0.5)\n",
        "plt.legend()"
      ],
      "metadata": {
        "colab": {
          "base_uri": "https://localhost:8080/",
          "height": 467
        },
        "id": "3F0TwjngMyIz",
        "outputId": "218d56f9-cc13-4027-a26f-6ae103aeeb64"
      },
      "id": "3F0TwjngMyIz",
      "execution_count": 44,
      "outputs": [
        {
          "output_type": "execute_result",
          "data": {
            "text/plain": [
              "<matplotlib.legend.Legend at 0x7b28516bbed0>"
            ]
          },
          "metadata": {},
          "execution_count": 44
        },
        {
          "output_type": "display_data",
          "data": {
            "text/plain": [
              "<Figure size 640x480 with 1 Axes>"
            ],
            "image/png": "[encoded data removed]"
          },
          "metadata": {}
        }
      ]
    },
    {
      "cell_type": "code",
      "source": [
        "rmse = torch.mean(torch.sqrt(torch.mean(err2**2)))\n",
        "rmse"
      ],
      "metadata": {
        "colab": {
          "base_uri": "https://localhost:8080/"
        },
        "id": "mcKeQTkqKuvN",
        "outputId": "b6994a56-418c-4b90-89e4-250e103ae6a1"
      },
      "id": "mcKeQTkqKuvN",
      "execution_count": 45,
      "outputs": [
        {
          "output_type": "execute_result",
          "data": {
            "text/plain": [
              "tensor(4193780.2500, grad_fn=<MeanBackward0>)"
            ]
          },
          "metadata": {},
          "execution_count": 45
        }
      ]
    },
    {
      "cell_type": "markdown",
      "source": [
        "There seems to be some overlapping between the tensorflow and torch networks first layers."
      ],
      "metadata": {
        "id": "0K0DVKyp_mTU"
      },
      "id": "0K0DVKyp_mTU"
    },
    {
      "cell_type": "code",
      "source": [
        "features.columns[np.argsort(house_model2[0].weight.data.sum(axis=0).detach().numpy())]"
      ],
      "metadata": {
        "colab": {
          "base_uri": "https://localhost:8080/"
        },
        "id": "C0SfQHQ69cso",
        "outputId": "7edf0249-985e-4d40-89af-28fe1ec2d098"
      },
      "id": "C0SfQHQ69cso",
      "execution_count": 46,
      "outputs": [
        {
          "output_type": "execute_result",
          "data": {
            "text/plain": [
              "Index(['MaintenanceStaff', 'GolfCourse', 'StaffQuarter', '24X7Security',\n",
              "       'LiftAvailable', 'Microwave', 'School', 'Wardrobe', 'SportsFacility',\n",
              "       'RainWaterHarvesting', 'BED', 'Intercom', 'Loc', 'Gymnasium',\n",
              "       'CarParking', 'Wifi', 'JoggingTrack', 'VaastuCompliant', 'Sofa',\n",
              "       'Hospital', 'WashingMachine', 'ShoppingMall', 'Refrigerator',\n",
              "       'Children'splayarea', 'DiningTable', 'Resale', 'Cafeteria',\n",
              "       'Gasconnection', 'PowerBackup', 'SwimmingPool', 'LandscapedGardens',\n",
              "       'TV', 'No. of Bedrooms', 'ClubHouse', 'ATM', 'IndoorGames', 'AC',\n",
              "       'MultipurposeRoom', 'Area'],\n",
              "      dtype='object')"
            ]
          },
          "metadata": {},
          "execution_count": 46
        }
      ]
    },
    {
      "cell_type": "code",
      "source": [
        "features.columns[np.argsort(input_weights.sum(axis=1))]"
      ],
      "metadata": {
        "colab": {
          "base_uri": "https://localhost:8080/"
        },
        "id": "ubtEIPI-_PHn",
        "outputId": "46014315-7a76-4cf5-d268-408341050c0a"
      },
      "id": "ubtEIPI-_PHn",
      "execution_count": 47,
      "outputs": [
        {
          "output_type": "execute_result",
          "data": {
            "text/plain": [
              "Index(['GolfCourse', 'MaintenanceStaff', 'Microwave', 'School', 'Gymnasium',\n",
              "       '24X7Security', 'StaffQuarter', 'RainWaterHarvesting', 'Wardrobe',\n",
              "       'LiftAvailable', 'Intercom', 'CarParking', 'Loc', 'Sofa',\n",
              "       'SportsFacility', 'Refrigerator', 'VaastuCompliant', 'No. of Bedrooms',\n",
              "       'Children'splayarea', 'Wifi', 'JoggingTrack', 'WashingMachine', 'ATM',\n",
              "       'PowerBackup', 'Resale', 'DiningTable', 'Hospital', 'ShoppingMall',\n",
              "       'Gasconnection', 'TV', 'LandscapedGardens', 'Cafeteria', 'SwimmingPool',\n",
              "       'BED', 'ClubHouse', 'IndoorGames', 'AC', 'MultipurposeRoom', 'Area'],\n",
              "      dtype='object')"
            ]
          },
          "metadata": {},
          "execution_count": 47
        }
      ]
    },
    {
      "cell_type": "code",
      "source": [
        "plt.imshow(house_model2[0].weight.data.detach().numpy())"
      ],
      "metadata": {
        "id": "3-_lxEfdyCj0",
        "outputId": "2f8d318f-e84b-47a3-91c6-6543b4e60ce3",
        "colab": {
          "base_uri": "https://localhost:8080/",
          "height": 452
        }
      },
      "id": "3-_lxEfdyCj0",
      "execution_count": 48,
      "outputs": [
        {
          "output_type": "execute_result",
          "data": {
            "text/plain": [
              "<matplotlib.image.AxesImage at 0x7b28504c5490>"
            ]
          },
          "metadata": {},
          "execution_count": 48
        },
        {
          "output_type": "display_data",
          "data": {
            "text/plain": [
              "<Figure size 640x480 with 1 Axes>"
            ],
            "image/png": "[encoded data removed]"
          },
          "metadata": {}
        }
      ]
    },
    {
      "cell_type": "code",
      "source": [
        "plt.imshow(house_model2[3].weight.data.detach().numpy())"
      ],
      "metadata": {
        "id": "GrjEHdXVypim",
        "outputId": "f771d946-8607-4dae-9f00-220a9b2fb080",
        "colab": {
          "base_uri": "https://localhost:8080/",
          "height": 330
        }
      },
      "id": "GrjEHdXVypim",
      "execution_count": 50,
      "outputs": [
        {
          "output_type": "execute_result",
          "data": {
            "text/plain": [
              "<matplotlib.image.AxesImage at 0x7b285036e4d0>"
            ]
          },
          "metadata": {},
          "execution_count": 50
        },
        {
          "output_type": "display_data",
          "data": {
            "text/plain": [
              "<Figure size 640x480 with 1 Axes>"
            ],
            "image/png": "[encoded data removed]"
          },
          "metadata": {}
        }
      ]
    },
    {
      "cell_type": "code",
      "source": [
        "plt.imshow(house_model2[6].weight.data.detach().numpy())"
      ],
      "metadata": {
        "id": "xX4TFzMAy1ne",
        "outputId": "49faba90-8985-4aed-fbdb-7e42d263e256",
        "colab": {
          "base_uri": "https://localhost:8080/",
          "height": 91
        }
      },
      "id": "xX4TFzMAy1ne",
      "execution_count": 51,
      "outputs": [
        {
          "output_type": "execute_result",
          "data": {
            "text/plain": [
              "<matplotlib.image.AxesImage at 0x7b2851017690>"
            ]
          },
          "metadata": {},
          "execution_count": 51
        },
        {
          "output_type": "display_data",
          "data": {
            "text/plain": [
              "<Figure size 640x480 with 1 Axes>"
            ],
            "image/png": "[encoded data removed]"
          },
          "metadata": {}
        }
      ]
    }
  ],
  "metadata": {
    "kernelspec": {
      "display_name": "Python 3",
      "language": "python",
      "name": "python3"
    },
    "language_info": {
      "codemirror_mode": {
        "name": "ipython",
        "version": 3
      },
      "file_extension": ".py",
      "mimetype": "text/x-python",
      "name": "python",
      "nbconvert_exporter": "python",
      "pygments_lexer": "ipython3",
      "version": "3.8.10"
    },
    "colab": {
      "provenance": [],
      "toc_visible": true,
      "include_colab_link": true
    },
    "widgets": {
      "application/vnd.jupyter.widget-state+json": {
        "c9a4bd3305ee443fae342b4728ce5735": {
          "model_module": "@jupyter-widgets/controls",
          "model_name": "HBoxModel",
          "model_module_version": "1.5.0",
          "state": {
            "_dom_classes": [],
            "_model_module": "@jupyter-widgets/controls",
            "_model_module_version": "1.5.0",
            "_model_name": "HBoxModel",
            "_view_count": null,
            "_view_module": "@jupyter-widgets/controls",
            "_view_module_version": "1.5.0",
            "_view_name": "HBoxView",
            "box_style": "",
            "children": [
              "IPY_MODEL_e75c33bcd9164c65a355f0a02525c64e",
              "IPY_MODEL_94f7d4f049a04eb9a670e87ac193f05a",
              "IPY_MODEL_30fd4c9ed4dd4ef5963eb695f48500a7"
            ],
            "layout": "IPY_MODEL_b820b45b50bd497d91ea88973ae5acdd"
          }
        },
        "e75c33bcd9164c65a355f0a02525c64e": {
          "model_module": "@jupyter-widgets/controls",
          "model_name": "HTMLModel",
          "model_module_version": "1.5.0",
          "state": {
            "_dom_classes": [],
            "_model_module": "@jupyter-widgets/controls",
            "_model_module_version": "1.5.0",
            "_model_name": "HTMLModel",
            "_view_count": null,
            "_view_module": "@jupyter-widgets/controls",
            "_view_module_version": "1.5.0",
            "_view_name": "HTMLView",
            "description": "",
            "description_tooltip": null,
            "layout": "IPY_MODEL_7f6b41d1dd1c4e968e57cb83440f317b",
            "placeholder": "​",
            "style": "IPY_MODEL_ce8c33e67c754470b52ef1ba0e94d64f",
            "value": "Epoch 1: 100%"
          }
        },
        "94f7d4f049a04eb9a670e87ac193f05a": {
          "model_module": "@jupyter-widgets/controls",
          "model_name": "FloatProgressModel",
          "model_module_version": "1.5.0",
          "state": {
            "_dom_classes": [],
            "_model_module": "@jupyter-widgets/controls",
            "_model_module_version": "1.5.0",
            "_model_name": "FloatProgressModel",
            "_view_count": null,
            "_view_module": "@jupyter-widgets/controls",
            "_view_module_version": "1.5.0",
            "_view_name": "ProgressView",
            "bar_style": "success",
            "description": "",
            "description_tooltip": null,
            "layout": "IPY_MODEL_0fe71841689d48dfae787f6cf1695030",
            "max": 600,
            "min": 0,
            "orientation": "horizontal",
            "style": "IPY_MODEL_4ec55e7598e24e0eb973cb7233d03558",
            "value": 600
          }
        },
        "30fd4c9ed4dd4ef5963eb695f48500a7": {
          "model_module": "@jupyter-widgets/controls",
          "model_name": "HTMLModel",
          "model_module_version": "1.5.0",
          "state": {
            "_dom_classes": [],
            "_model_module": "@jupyter-widgets/controls",
            "_model_module_version": "1.5.0",
            "_model_name": "HTMLModel",
            "_view_count": null,
            "_view_module": "@jupyter-widgets/controls",
            "_view_module_version": "1.5.0",
            "_view_name": "HTMLView",
            "description": "",
            "description_tooltip": null,
            "layout": "IPY_MODEL_24432fd6679a4f2794dd8298b117b6cf",
            "placeholder": "​",
            "style": "IPY_MODEL_29d7093657ff41a8b4b8b893abb33705",
            "value": " 600/600 [00:12&lt;00:00, 49.60it/s]"
          }
        },
        "b820b45b50bd497d91ea88973ae5acdd": {
          "model_module": "@jupyter-widgets/base",
          "model_name": "LayoutModel",
          "model_module_version": "1.2.0",
          "state": {
            "_model_module": "@jupyter-widgets/base",
            "_model_module_version": "1.2.0",
            "_model_name": "LayoutModel",
            "_view_count": null,
            "_view_module": "@jupyter-widgets/base",
            "_view_module_version": "1.2.0",
            "_view_name": "LayoutView",
            "align_content": null,
            "align_items": null,
            "align_self": null,
            "border": null,
            "bottom": null,
            "display": null,
            "flex": null,
            "flex_flow": null,
            "grid_area": null,
            "grid_auto_columns": null,
            "grid_auto_flow": null,
            "grid_auto_rows": null,
            "grid_column": null,
            "grid_gap": null,
            "grid_row": null,
            "grid_template_areas": null,
            "grid_template_columns": null,
            "grid_template_rows": null,
            "height": null,
            "justify_content": null,
            "justify_items": null,
            "left": null,
            "margin": null,
            "max_height": null,
            "max_width": null,
            "min_height": null,
            "min_width": null,
            "object_fit": null,
            "object_position": null,
            "order": null,
            "overflow": null,
            "overflow_x": null,
            "overflow_y": null,
            "padding": null,
            "right": null,
            "top": null,
            "visibility": null,
            "width": null
          }
        },
        "7f6b41d1dd1c4e968e57cb83440f317b": {
          "model_module": "@jupyter-widgets/base",
          "model_name": "LayoutModel",
          "model_module_version": "1.2.0",
          "state": {
            "_model_module": "@jupyter-widgets/base",
            "_model_module_version": "1.2.0",
            "_model_name": "LayoutModel",
            "_view_count": null,
            "_view_module": "@jupyter-widgets/base",
            "_view_module_version": "1.2.0",
            "_view_name": "LayoutView",
            "align_content": null,
            "align_items": null,
            "align_self": null,
            "border": null,
            "bottom": null,
            "display": null,
            "flex": null,
            "flex_flow": null,
            "grid_area": null,
            "grid_auto_columns": null,
            "grid_auto_flow": null,
            "grid_auto_rows": null,
            "grid_column": null,
            "grid_gap": null,
            "grid_row": null,
            "grid_template_areas": null,
            "grid_template_columns": null,
            "grid_template_rows": null,
            "height": null,
            "justify_content": null,
            "justify_items": null,
            "left": null,
            "margin": null,
            "max_height": null,
            "max_width": null,
            "min_height": null,
            "min_width": null,
            "object_fit": null,
            "object_position": null,
            "order": null,
            "overflow": null,
            "overflow_x": null,
            "overflow_y": null,
            "padding": null,
            "right": null,
            "top": null,
            "visibility": null,
            "width": null
          }
        },
        "ce8c33e67c754470b52ef1ba0e94d64f": {
          "model_module": "@jupyter-widgets/controls",
          "model_name": "DescriptionStyleModel",
          "model_module_version": "1.5.0",
          "state": {
            "_model_module": "@jupyter-widgets/controls",
            "_model_module_version": "1.5.0",
            "_model_name": "DescriptionStyleModel",
            "_view_count": null,
            "_view_module": "@jupyter-widgets/base",
            "_view_module_version": "1.2.0",
            "_view_name": "StyleView",
            "description_width": ""
          }
        },
        "0fe71841689d48dfae787f6cf1695030": {
          "model_module": "@jupyter-widgets/base",
          "model_name": "LayoutModel",
          "model_module_version": "1.2.0",
          "state": {
            "_model_module": "@jupyter-widgets/base",
            "_model_module_version": "1.2.0",
            "_model_name": "LayoutModel",
            "_view_count": null,
            "_view_module": "@jupyter-widgets/base",
            "_view_module_version": "1.2.0",
            "_view_name": "LayoutView",
            "align_content": null,
            "align_items": null,
            "align_self": null,
            "border": null,
            "bottom": null,
            "display": null,
            "flex": null,
            "flex_flow": null,
            "grid_area": null,
            "grid_auto_columns": null,
            "grid_auto_flow": null,
            "grid_auto_rows": null,
            "grid_column": null,
            "grid_gap": null,
            "grid_row": null,
            "grid_template_areas": null,
            "grid_template_columns": null,
            "grid_template_rows": null,
            "height": null,
            "justify_content": null,
            "justify_items": null,
            "left": null,
            "margin": null,
            "max_height": null,
            "max_width": null,
            "min_height": null,
            "min_width": null,
            "object_fit": null,
            "object_position": null,
            "order": null,
            "overflow": null,
            "overflow_x": null,
            "overflow_y": null,
            "padding": null,
            "right": null,
            "top": null,
            "visibility": null,
            "width": null
          }
        },
        "4ec55e7598e24e0eb973cb7233d03558": {
          "model_module": "@jupyter-widgets/controls",
          "model_name": "ProgressStyleModel",
          "model_module_version": "1.5.0",
          "state": {
            "_model_module": "@jupyter-widgets/controls",
            "_model_module_version": "1.5.0",
            "_model_name": "ProgressStyleModel",
            "_view_count": null,
            "_view_module": "@jupyter-widgets/base",
            "_view_module_version": "1.2.0",
            "_view_name": "StyleView",
            "bar_color": null,
            "description_width": ""
          }
        },
        "24432fd6679a4f2794dd8298b117b6cf": {
          "model_module": "@jupyter-widgets/base",
          "model_name": "LayoutModel",
          "model_module_version": "1.2.0",
          "state": {
            "_model_module": "@jupyter-widgets/base",
            "_model_module_version": "1.2.0",
            "_model_name": "LayoutModel",
            "_view_count": null,
            "_view_module": "@jupyter-widgets/base",
            "_view_module_version": "1.2.0",
            "_view_name": "LayoutView",
            "align_content": null,
            "align_items": null,
            "align_self": null,
            "border": null,
            "bottom": null,
            "display": null,
            "flex": null,
            "flex_flow": null,
            "grid_area": null,
            "grid_auto_columns": null,
            "grid_auto_flow": null,
            "grid_auto_rows": null,
            "grid_column": null,
            "grid_gap": null,
            "grid_row": null,
            "grid_template_areas": null,
            "grid_template_columns": null,
            "grid_template_rows": null,
            "height": null,
            "justify_content": null,
            "justify_items": null,
            "left": null,
            "margin": null,
            "max_height": null,
            "max_width": null,
            "min_height": null,
            "min_width": null,
            "object_fit": null,
            "object_position": null,
            "order": null,
            "overflow": null,
            "overflow_x": null,
            "overflow_y": null,
            "padding": null,
            "right": null,
            "top": null,
            "visibility": null,
            "width": null
          }
        },
        "29d7093657ff41a8b4b8b893abb33705": {
          "model_module": "@jupyter-widgets/controls",
          "model_name": "DescriptionStyleModel",
          "model_module_version": "1.5.0",
          "state": {
            "_model_module": "@jupyter-widgets/controls",
            "_model_module_version": "1.5.0",
            "_model_name": "DescriptionStyleModel",
            "_view_count": null,
            "_view_module": "@jupyter-widgets/base",
            "_view_module_version": "1.2.0",
            "_view_name": "StyleView",
            "description_width": ""
          }
        },
        "e8925acb0ada48d98d7bf3cfbf0e7b10": {
          "model_module": "@jupyter-widgets/controls",
          "model_name": "HBoxModel",
          "model_module_version": "1.5.0",
          "state": {
            "_dom_classes": [],
            "_model_module": "@jupyter-widgets/controls",
            "_model_module_version": "1.5.0",
            "_model_name": "HBoxModel",
            "_view_count": null,
            "_view_module": "@jupyter-widgets/controls",
            "_view_module_version": "1.5.0",
            "_view_name": "HBoxView",
            "box_style": "",
            "children": [
              "IPY_MODEL_68f7d5b44f7145198beea8697011ec90",
              "IPY_MODEL_799b201d78554164844d2ff7f8d2c068",
              "IPY_MODEL_e3e8c792b64544adaa04516ea0f603d4"
            ],
            "layout": "IPY_MODEL_5257cf6360da41c99551bab2b2f5047e"
          }
        },
        "68f7d5b44f7145198beea8697011ec90": {
          "model_module": "@jupyter-widgets/controls",
          "model_name": "HTMLModel",
          "model_module_version": "1.5.0",
          "state": {
            "_dom_classes": [],
            "_model_module": "@jupyter-widgets/controls",
            "_model_module_version": "1.5.0",
            "_model_name": "HTMLModel",
            "_view_count": null,
            "_view_module": "@jupyter-widgets/controls",
            "_view_module_version": "1.5.0",
            "_view_name": "HTMLView",
            "description": "",
            "description_tooltip": null,
            "layout": "IPY_MODEL_3bfa795f93f44f1db40e693fb3f7df50",
            "placeholder": "​",
            "style": "IPY_MODEL_862e22ea630042a396ae357098c95304",
            "value": "Epoch 2: 100%"
          }
        },
        "799b201d78554164844d2ff7f8d2c068": {
          "model_module": "@jupyter-widgets/controls",
          "model_name": "FloatProgressModel",
          "model_module_version": "1.5.0",
          "state": {
            "_dom_classes": [],
            "_model_module": "@jupyter-widgets/controls",
            "_model_module_version": "1.5.0",
            "_model_name": "FloatProgressModel",
            "_view_count": null,
            "_view_module": "@jupyter-widgets/controls",
            "_view_module_version": "1.5.0",
            "_view_name": "ProgressView",
            "bar_style": "success",
            "description": "",
            "description_tooltip": null,
            "layout": "IPY_MODEL_32ee8b0e125e4c59ab4e7f0ff732e37f",
            "max": 600,
            "min": 0,
            "orientation": "horizontal",
            "style": "IPY_MODEL_e443cdb5713d40eda85c1cb74dbbbee1",
            "value": 600
          }
        },
        "e3e8c792b64544adaa04516ea0f603d4": {
          "model_module": "@jupyter-widgets/controls",
          "model_name": "HTMLModel",
          "model_module_version": "1.5.0",
          "state": {
            "_dom_classes": [],
            "_model_module": "@jupyter-widgets/controls",
            "_model_module_version": "1.5.0",
            "_model_name": "HTMLModel",
            "_view_count": null,
            "_view_module": "@jupyter-widgets/controls",
            "_view_module_version": "1.5.0",
            "_view_name": "HTMLView",
            "description": "",
            "description_tooltip": null,
            "layout": "IPY_MODEL_eeb0d4d5d9814e408e89d728da2c6f87",
            "placeholder": "​",
            "style": "IPY_MODEL_1560ae44ef8845d2afe33a48dc7c1961",
            "value": " 600/600 [00:12&lt;00:00, 48.36it/s]"
          }
        },
        "5257cf6360da41c99551bab2b2f5047e": {
          "model_module": "@jupyter-widgets/base",
          "model_name": "LayoutModel",
          "model_module_version": "1.2.0",
          "state": {
            "_model_module": "@jupyter-widgets/base",
            "_model_module_version": "1.2.0",
            "_model_name": "LayoutModel",
            "_view_count": null,
            "_view_module": "@jupyter-widgets/base",
            "_view_module_version": "1.2.0",
            "_view_name": "LayoutView",
            "align_content": null,
            "align_items": null,
            "align_self": null,
            "border": null,
            "bottom": null,
            "display": null,
            "flex": null,
            "flex_flow": null,
            "grid_area": null,
            "grid_auto_columns": null,
            "grid_auto_flow": null,
            "grid_auto_rows": null,
            "grid_column": null,
            "grid_gap": null,
            "grid_row": null,
            "grid_template_areas": null,
            "grid_template_columns": null,
            "grid_template_rows": null,
            "height": null,
            "justify_content": null,
            "justify_items": null,
            "left": null,
            "margin": null,
            "max_height": null,
            "max_width": null,
            "min_height": null,
            "min_width": null,
            "object_fit": null,
            "object_position": null,
            "order": null,
            "overflow": null,
            "overflow_x": null,
            "overflow_y": null,
            "padding": null,
            "right": null,
            "top": null,
            "visibility": null,
            "width": null
          }
        },
        "3bfa795f93f44f1db40e693fb3f7df50": {
          "model_module": "@jupyter-widgets/base",
          "model_name": "LayoutModel",
          "model_module_version": "1.2.0",
          "state": {
            "_model_module": "@jupyter-widgets/base",
            "_model_module_version": "1.2.0",
            "_model_name": "LayoutModel",
            "_view_count": null,
            "_view_module": "@jupyter-widgets/base",
            "_view_module_version": "1.2.0",
            "_view_name": "LayoutView",
            "align_content": null,
            "align_items": null,
            "align_self": null,
            "border": null,
            "bottom": null,
            "display": null,
            "flex": null,
            "flex_flow": null,
            "grid_area": null,
            "grid_auto_columns": null,
            "grid_auto_flow": null,
            "grid_auto_rows": null,
            "grid_column": null,
            "grid_gap": null,
            "grid_row": null,
            "grid_template_areas": null,
            "grid_template_columns": null,
            "grid_template_rows": null,
            "height": null,
            "justify_content": null,
            "justify_items": null,
            "left": null,
            "margin": null,
            "max_height": null,
            "max_width": null,
            "min_height": null,
            "min_width": null,
            "object_fit": null,
            "object_position": null,
            "order": null,
            "overflow": null,
            "overflow_x": null,
            "overflow_y": null,
            "padding": null,
            "right": null,
            "top": null,
            "visibility": null,
            "width": null
          }
        },
        "862e22ea630042a396ae357098c95304": {
          "model_module": "@jupyter-widgets/controls",
          "model_name": "DescriptionStyleModel",
          "model_module_version": "1.5.0",
          "state": {
            "_model_module": "@jupyter-widgets/controls",
            "_model_module_version": "1.5.0",
            "_model_name": "DescriptionStyleModel",
            "_view_count": null,
            "_view_module": "@jupyter-widgets/base",
            "_view_module_version": "1.2.0",
            "_view_name": "StyleView",
            "description_width": ""
          }
        },
        "32ee8b0e125e4c59ab4e7f0ff732e37f": {
          "model_module": "@jupyter-widgets/base",
          "model_name": "LayoutModel",
          "model_module_version": "1.2.0",
          "state": {
            "_model_module": "@jupyter-widgets/base",
            "_model_module_version": "1.2.0",
            "_model_name": "LayoutModel",
            "_view_count": null,
            "_view_module": "@jupyter-widgets/base",
            "_view_module_version": "1.2.0",
            "_view_name": "LayoutView",
            "align_content": null,
            "align_items": null,
            "align_self": null,
            "border": null,
            "bottom": null,
            "display": null,
            "flex": null,
            "flex_flow": null,
            "grid_area": null,
            "grid_auto_columns": null,
            "grid_auto_flow": null,
            "grid_auto_rows": null,
            "grid_column": null,
            "grid_gap": null,
            "grid_row": null,
            "grid_template_areas": null,
            "grid_template_columns": null,
            "grid_template_rows": null,
            "height": null,
            "justify_content": null,
            "justify_items": null,
            "left": null,
            "margin": null,
            "max_height": null,
            "max_width": null,
            "min_height": null,
            "min_width": null,
            "object_fit": null,
            "object_position": null,
            "order": null,
            "overflow": null,
            "overflow_x": null,
            "overflow_y": null,
            "padding": null,
            "right": null,
            "top": null,
            "visibility": null,
            "width": null
          }
        },
        "e443cdb5713d40eda85c1cb74dbbbee1": {
          "model_module": "@jupyter-widgets/controls",
          "model_name": "ProgressStyleModel",
          "model_module_version": "1.5.0",
          "state": {
            "_model_module": "@jupyter-widgets/controls",
            "_model_module_version": "1.5.0",
            "_model_name": "ProgressStyleModel",
            "_view_count": null,
            "_view_module": "@jupyter-widgets/base",
            "_view_module_version": "1.2.0",
            "_view_name": "StyleView",
            "bar_color": null,
            "description_width": ""
          }
        },
        "eeb0d4d5d9814e408e89d728da2c6f87": {
          "model_module": "@jupyter-widgets/base",
          "model_name": "LayoutModel",
          "model_module_version": "1.2.0",
          "state": {
            "_model_module": "@jupyter-widgets/base",
            "_model_module_version": "1.2.0",
            "_model_name": "LayoutModel",
            "_view_count": null,
            "_view_module": "@jupyter-widgets/base",
            "_view_module_version": "1.2.0",
            "_view_name": "LayoutView",
            "align_content": null,
            "align_items": null,
            "align_self": null,
            "border": null,
            "bottom": null,
            "display": null,
            "flex": null,
            "flex_flow": null,
            "grid_area": null,
            "grid_auto_columns": null,
            "grid_auto_flow": null,
            "grid_auto_rows": null,
            "grid_column": null,
            "grid_gap": null,
            "grid_row": null,
            "grid_template_areas": null,
            "grid_template_columns": null,
            "grid_template_rows": null,
            "height": null,
            "justify_content": null,
            "justify_items": null,
            "left": null,
            "margin": null,
            "max_height": null,
            "max_width": null,
            "min_height": null,
            "min_width": null,
            "object_fit": null,
            "object_position": null,
            "order": null,
            "overflow": null,
            "overflow_x": null,
            "overflow_y": null,
            "padding": null,
            "right": null,
            "top": null,
            "visibility": null,
            "width": null
          }
        },
        "1560ae44ef8845d2afe33a48dc7c1961": {
          "model_module": "@jupyter-widgets/controls",
          "model_name": "DescriptionStyleModel",
          "model_module_version": "1.5.0",
          "state": {
            "_model_module": "@jupyter-widgets/controls",
            "_model_module_version": "1.5.0",
            "_model_name": "DescriptionStyleModel",
            "_view_count": null,
            "_view_module": "@jupyter-widgets/base",
            "_view_module_version": "1.2.0",
            "_view_name": "StyleView",
            "description_width": ""
          }
        },
        "0ba35bb7a8da4c0cbc4ab888a340bcdc": {
          "model_module": "@jupyter-widgets/controls",
          "model_name": "HBoxModel",
          "model_module_version": "1.5.0",
          "state": {
            "_dom_classes": [],
            "_model_module": "@jupyter-widgets/controls",
            "_model_module_version": "1.5.0",
            "_model_name": "HBoxModel",
            "_view_count": null,
            "_view_module": "@jupyter-widgets/controls",
            "_view_module_version": "1.5.0",
            "_view_name": "HBoxView",
            "box_style": "",
            "children": [
              "IPY_MODEL_210fc8baf9a942e6ab158e8d572e23d5",
              "IPY_MODEL_0b56d607146343a4ba675594ad81ae89",
              "IPY_MODEL_718bcb4b621c4bf0b436047c15382795"
            ],
            "layout": "IPY_MODEL_a221fdd7c1ab4f55ae77243ecb9fba15"
          }
        },
        "210fc8baf9a942e6ab158e8d572e23d5": {
          "model_module": "@jupyter-widgets/controls",
          "model_name": "HTMLModel",
          "model_module_version": "1.5.0",
          "state": {
            "_dom_classes": [],
            "_model_module": "@jupyter-widgets/controls",
            "_model_module_version": "1.5.0",
            "_model_name": "HTMLModel",
            "_view_count": null,
            "_view_module": "@jupyter-widgets/controls",
            "_view_module_version": "1.5.0",
            "_view_name": "HTMLView",
            "description": "",
            "description_tooltip": null,
            "layout": "IPY_MODEL_392286f8234748fe9933008dbdb12e43",
            "placeholder": "​",
            "style": "IPY_MODEL_1b290834c6ac46c8ba89e68a59fc9be4",
            "value": "Epoch 3: 100%"
          }
        },
        "0b56d607146343a4ba675594ad81ae89": {
          "model_module": "@jupyter-widgets/controls",
          "model_name": "FloatProgressModel",
          "model_module_version": "1.5.0",
          "state": {
            "_dom_classes": [],
            "_model_module": "@jupyter-widgets/controls",
            "_model_module_version": "1.5.0",
            "_model_name": "FloatProgressModel",
            "_view_count": null,
            "_view_module": "@jupyter-widgets/controls",
            "_view_module_version": "1.5.0",
            "_view_name": "ProgressView",
            "bar_style": "success",
            "description": "",
            "description_tooltip": null,
            "layout": "IPY_MODEL_0d3837aa202d48b39969e6484cb88df0",
            "max": 600,
            "min": 0,
            "orientation": "horizontal",
            "style": "IPY_MODEL_1e5b9869793f45649c3cef94f2803e6f",
            "value": 600
          }
        },
        "718bcb4b621c4bf0b436047c15382795": {
          "model_module": "@jupyter-widgets/controls",
          "model_name": "HTMLModel",
          "model_module_version": "1.5.0",
          "state": {
            "_dom_classes": [],
            "_model_module": "@jupyter-widgets/controls",
            "_model_module_version": "1.5.0",
            "_model_name": "HTMLModel",
            "_view_count": null,
            "_view_module": "@jupyter-widgets/controls",
            "_view_module_version": "1.5.0",
            "_view_name": "HTMLView",
            "description": "",
            "description_tooltip": null,
            "layout": "IPY_MODEL_5ac18cf20fb54f58903a72d48190564a",
            "placeholder": "​",
            "style": "IPY_MODEL_0dca9cef568e4892acbb3e2efb08326f",
            "value": " 600/600 [00:12&lt;00:00, 51.56it/s]"
          }
        },
        "a221fdd7c1ab4f55ae77243ecb9fba15": {
          "model_module": "@jupyter-widgets/base",
          "model_name": "LayoutModel",
          "model_module_version": "1.2.0",
          "state": {
            "_model_module": "@jupyter-widgets/base",
            "_model_module_version": "1.2.0",
            "_model_name": "LayoutModel",
            "_view_count": null,
            "_view_module": "@jupyter-widgets/base",
            "_view_module_version": "1.2.0",
            "_view_name": "LayoutView",
            "align_content": null,
            "align_items": null,
            "align_self": null,
            "border": null,
            "bottom": null,
            "display": null,
            "flex": null,
            "flex_flow": null,
            "grid_area": null,
            "grid_auto_columns": null,
            "grid_auto_flow": null,
            "grid_auto_rows": null,
            "grid_column": null,
            "grid_gap": null,
            "grid_row": null,
            "grid_template_areas": null,
            "grid_template_columns": null,
            "grid_template_rows": null,
            "height": null,
            "justify_content": null,
            "justify_items": null,
            "left": null,
            "margin": null,
            "max_height": null,
            "max_width": null,
            "min_height": null,
            "min_width": null,
            "object_fit": null,
            "object_position": null,
            "order": null,
            "overflow": null,
            "overflow_x": null,
            "overflow_y": null,
            "padding": null,
            "right": null,
            "top": null,
            "visibility": null,
            "width": null
          }
        },
        "392286f8234748fe9933008dbdb12e43": {
          "model_module": "@jupyter-widgets/base",
          "model_name": "LayoutModel",
          "model_module_version": "1.2.0",
          "state": {
            "_model_module": "@jupyter-widgets/base",
            "_model_module_version": "1.2.0",
            "_model_name": "LayoutModel",
            "_view_count": null,
            "_view_module": "@jupyter-widgets/base",
            "_view_module_version": "1.2.0",
            "_view_name": "LayoutView",
            "align_content": null,
            "align_items": null,
            "align_self": null,
            "border": null,
            "bottom": null,
            "display": null,
            "flex": null,
            "flex_flow": null,
            "grid_area": null,
            "grid_auto_columns": null,
            "grid_auto_flow": null,
            "grid_auto_rows": null,
            "grid_column": null,
            "grid_gap": null,
            "grid_row": null,
            "grid_template_areas": null,
            "grid_template_columns": null,
            "grid_template_rows": null,
            "height": null,
            "justify_content": null,
            "justify_items": null,
            "left": null,
            "margin": null,
            "max_height": null,
            "max_width": null,
            "min_height": null,
            "min_width": null,
            "object_fit": null,
            "object_position": null,
            "order": null,
            "overflow": null,
            "overflow_x": null,
            "overflow_y": null,
            "padding": null,
            "right": null,
            "top": null,
            "visibility": null,
            "width": null
          }
        },
        "1b290834c6ac46c8ba89e68a59fc9be4": {
          "model_module": "@jupyter-widgets/controls",
          "model_name": "DescriptionStyleModel",
          "model_module_version": "1.5.0",
          "state": {
            "_model_module": "@jupyter-widgets/controls",
            "_model_module_version": "1.5.0",
            "_model_name": "DescriptionStyleModel",
            "_view_count": null,
            "_view_module": "@jupyter-widgets/base",
            "_view_module_version": "1.2.0",
            "_view_name": "StyleView",
            "description_width": ""
          }
        },
        "0d3837aa202d48b39969e6484cb88df0": {
          "model_module": "@jupyter-widgets/base",
          "model_name": "LayoutModel",
          "model_module_version": "1.2.0",
          "state": {
            "_model_module": "@jupyter-widgets/base",
            "_model_module_version": "1.2.0",
            "_model_name": "LayoutModel",
            "_view_count": null,
            "_view_module": "@jupyter-widgets/base",
            "_view_module_version": "1.2.0",
            "_view_name": "LayoutView",
            "align_content": null,
            "align_items": null,
            "align_self": null,
            "border": null,
            "bottom": null,
            "display": null,
            "flex": null,
            "flex_flow": null,
            "grid_area": null,
            "grid_auto_columns": null,
            "grid_auto_flow": null,
            "grid_auto_rows": null,
            "grid_column": null,
            "grid_gap": null,
            "grid_row": null,
            "grid_template_areas": null,
            "grid_template_columns": null,
            "grid_template_rows": null,
            "height": null,
            "justify_content": null,
            "justify_items": null,
            "left": null,
            "margin": null,
            "max_height": null,
            "max_width": null,
            "min_height": null,
            "min_width": null,
            "object_fit": null,
            "object_position": null,
            "order": null,
            "overflow": null,
            "overflow_x": null,
            "overflow_y": null,
            "padding": null,
            "right": null,
            "top": null,
            "visibility": null,
            "width": null
          }
        },
        "1e5b9869793f45649c3cef94f2803e6f": {
          "model_module": "@jupyter-widgets/controls",
          "model_name": "ProgressStyleModel",
          "model_module_version": "1.5.0",
          "state": {
            "_model_module": "@jupyter-widgets/controls",
            "_model_module_version": "1.5.0",
            "_model_name": "ProgressStyleModel",
            "_view_count": null,
            "_view_module": "@jupyter-widgets/base",
            "_view_module_version": "1.2.0",
            "_view_name": "StyleView",
            "bar_color": null,
            "description_width": ""
          }
        },
        "5ac18cf20fb54f58903a72d48190564a": {
          "model_module": "@jupyter-widgets/base",
          "model_name": "LayoutModel",
          "model_module_version": "1.2.0",
          "state": {
            "_model_module": "@jupyter-widgets/base",
            "_model_module_version": "1.2.0",
            "_model_name": "LayoutModel",
            "_view_count": null,
            "_view_module": "@jupyter-widgets/base",
            "_view_module_version": "1.2.0",
            "_view_name": "LayoutView",
            "align_content": null,
            "align_items": null,
            "align_self": null,
            "border": null,
            "bottom": null,
            "display": null,
            "flex": null,
            "flex_flow": null,
            "grid_area": null,
            "grid_auto_columns": null,
            "grid_auto_flow": null,
            "grid_auto_rows": null,
            "grid_column": null,
            "grid_gap": null,
            "grid_row": null,
            "grid_template_areas": null,
            "grid_template_columns": null,
            "grid_template_rows": null,
            "height": null,
            "justify_content": null,
            "justify_items": null,
            "left": null,
            "margin": null,
            "max_height": null,
            "max_width": null,
            "min_height": null,
            "min_width": null,
            "object_fit": null,
            "object_position": null,
            "order": null,
            "overflow": null,
            "overflow_x": null,
            "overflow_y": null,
            "padding": null,
            "right": null,
            "top": null,
            "visibility": null,
            "width": null
          }
        },
        "0dca9cef568e4892acbb3e2efb08326f": {
          "model_module": "@jupyter-widgets/controls",
          "model_name": "DescriptionStyleModel",
          "model_module_version": "1.5.0",
          "state": {
            "_model_module": "@jupyter-widgets/controls",
            "_model_module_version": "1.5.0",
            "_model_name": "DescriptionStyleModel",
            "_view_count": null,
            "_view_module": "@jupyter-widgets/base",
            "_view_module_version": "1.2.0",
            "_view_name": "StyleView",
            "description_width": ""
          }
        },
        "cf6345fef0234166ac62f082cf1432b0": {
          "model_module": "@jupyter-widgets/controls",
          "model_name": "HBoxModel",
          "model_module_version": "1.5.0",
          "state": {
            "_dom_classes": [],
            "_model_module": "@jupyter-widgets/controls",
            "_model_module_version": "1.5.0",
            "_model_name": "HBoxModel",
            "_view_count": null,
            "_view_module": "@jupyter-widgets/controls",
            "_view_module_version": "1.5.0",
            "_view_name": "HBoxView",
            "box_style": "",
            "children": [
              "IPY_MODEL_df0445d81acf4de39d6ce3122420e19b",
              "IPY_MODEL_eb3dbdfcefd94bb59b2bc7b6893c9bcd",
              "IPY_MODEL_c271ed534b454a9d94661a2524f928bb"
            ],
            "layout": "IPY_MODEL_da50a9dafe444ccf9eba2151ee3b38ba"
          }
        },
        "df0445d81acf4de39d6ce3122420e19b": {
          "model_module": "@jupyter-widgets/controls",
          "model_name": "HTMLModel",
          "model_module_version": "1.5.0",
          "state": {
            "_dom_classes": [],
            "_model_module": "@jupyter-widgets/controls",
            "_model_module_version": "1.5.0",
            "_model_name": "HTMLModel",
            "_view_count": null,
            "_view_module": "@jupyter-widgets/controls",
            "_view_module_version": "1.5.0",
            "_view_name": "HTMLView",
            "description": "",
            "description_tooltip": null,
            "layout": "IPY_MODEL_4e8a14d5294b43a6a2041e10f2c49549",
            "placeholder": "​",
            "style": "IPY_MODEL_2db341eaa29c4e358879adbd75148d02",
            "value": "Epoch 4: 100%"
          }
        },
        "eb3dbdfcefd94bb59b2bc7b6893c9bcd": {
          "model_module": "@jupyter-widgets/controls",
          "model_name": "FloatProgressModel",
          "model_module_version": "1.5.0",
          "state": {
            "_dom_classes": [],
            "_model_module": "@jupyter-widgets/controls",
            "_model_module_version": "1.5.0",
            "_model_name": "FloatProgressModel",
            "_view_count": null,
            "_view_module": "@jupyter-widgets/controls",
            "_view_module_version": "1.5.0",
            "_view_name": "ProgressView",
            "bar_style": "success",
            "description": "",
            "description_tooltip": null,
            "layout": "IPY_MODEL_f895b5cd423a4687b69af0b4d5dadf1d",
            "max": 600,
            "min": 0,
            "orientation": "horizontal",
            "style": "IPY_MODEL_8ef13e06dec24bbcbf7dd851e1e3d060",
            "value": 600
          }
        },
        "c271ed534b454a9d94661a2524f928bb": {
          "model_module": "@jupyter-widgets/controls",
          "model_name": "HTMLModel",
          "model_module_version": "1.5.0",
          "state": {
            "_dom_classes": [],
            "_model_module": "@jupyter-widgets/controls",
            "_model_module_version": "1.5.0",
            "_model_name": "HTMLModel",
            "_view_count": null,
            "_view_module": "@jupyter-widgets/controls",
            "_view_module_version": "1.5.0",
            "_view_name": "HTMLView",
            "description": "",
            "description_tooltip": null,
            "layout": "IPY_MODEL_eec9c407114743f59d4dff28b014ca72",
            "placeholder": "​",
            "style": "IPY_MODEL_df74c58da46447ddaa4f1a7e7e801af7",
            "value": " 600/600 [00:12&lt;00:00, 50.09it/s]"
          }
        },
        "da50a9dafe444ccf9eba2151ee3b38ba": {
          "model_module": "@jupyter-widgets/base",
          "model_name": "LayoutModel",
          "model_module_version": "1.2.0",
          "state": {
            "_model_module": "@jupyter-widgets/base",
            "_model_module_version": "1.2.0",
            "_model_name": "LayoutModel",
            "_view_count": null,
            "_view_module": "@jupyter-widgets/base",
            "_view_module_version": "1.2.0",
            "_view_name": "LayoutView",
            "align_content": null,
            "align_items": null,
            "align_self": null,
            "border": null,
            "bottom": null,
            "display": null,
            "flex": null,
            "flex_flow": null,
            "grid_area": null,
            "grid_auto_columns": null,
            "grid_auto_flow": null,
            "grid_auto_rows": null,
            "grid_column": null,
            "grid_gap": null,
            "grid_row": null,
            "grid_template_areas": null,
            "grid_template_columns": null,
            "grid_template_rows": null,
            "height": null,
            "justify_content": null,
            "justify_items": null,
            "left": null,
            "margin": null,
            "max_height": null,
            "max_width": null,
            "min_height": null,
            "min_width": null,
            "object_fit": null,
            "object_position": null,
            "order": null,
            "overflow": null,
            "overflow_x": null,
            "overflow_y": null,
            "padding": null,
            "right": null,
            "top": null,
            "visibility": null,
            "width": null
          }
        },
        "4e8a14d5294b43a6a2041e10f2c49549": {
          "model_module": "@jupyter-widgets/base",
          "model_name": "LayoutModel",
          "model_module_version": "1.2.0",
          "state": {
            "_model_module": "@jupyter-widgets/base",
            "_model_module_version": "1.2.0",
            "_model_name": "LayoutModel",
            "_view_count": null,
            "_view_module": "@jupyter-widgets/base",
            "_view_module_version": "1.2.0",
            "_view_name": "LayoutView",
            "align_content": null,
            "align_items": null,
            "align_self": null,
            "border": null,
            "bottom": null,
            "display": null,
            "flex": null,
            "flex_flow": null,
            "grid_area": null,
            "grid_auto_columns": null,
            "grid_auto_flow": null,
            "grid_auto_rows": null,
            "grid_column": null,
            "grid_gap": null,
            "grid_row": null,
            "grid_template_areas": null,
            "grid_template_columns": null,
            "grid_template_rows": null,
            "height": null,
            "justify_content": null,
            "justify_items": null,
            "left": null,
            "margin": null,
            "max_height": null,
            "max_width": null,
            "min_height": null,
            "min_width": null,
            "object_fit": null,
            "object_position": null,
            "order": null,
            "overflow": null,
            "overflow_x": null,
            "overflow_y": null,
            "padding": null,
            "right": null,
            "top": null,
            "visibility": null,
            "width": null
          }
        },
        "2db341eaa29c4e358879adbd75148d02": {
          "model_module": "@jupyter-widgets/controls",
          "model_name": "DescriptionStyleModel",
          "model_module_version": "1.5.0",
          "state": {
            "_model_module": "@jupyter-widgets/controls",
            "_model_module_version": "1.5.0",
            "_model_name": "DescriptionStyleModel",
            "_view_count": null,
            "_view_module": "@jupyter-widgets/base",
            "_view_module_version": "1.2.0",
            "_view_name": "StyleView",
            "description_width": ""
          }
        },
        "f895b5cd423a4687b69af0b4d5dadf1d": {
          "model_module": "@jupyter-widgets/base",
          "model_name": "LayoutModel",
          "model_module_version": "1.2.0",
          "state": {
            "_model_module": "@jupyter-widgets/base",
            "_model_module_version": "1.2.0",
            "_model_name": "LayoutModel",
            "_view_count": null,
            "_view_module": "@jupyter-widgets/base",
            "_view_module_version": "1.2.0",
            "_view_name": "LayoutView",
            "align_content": null,
            "align_items": null,
            "align_self": null,
            "border": null,
            "bottom": null,
            "display": null,
            "flex": null,
            "flex_flow": null,
            "grid_area": null,
            "grid_auto_columns": null,
            "grid_auto_flow": null,
            "grid_auto_rows": null,
            "grid_column": null,
            "grid_gap": null,
            "grid_row": null,
            "grid_template_areas": null,
            "grid_template_columns": null,
            "grid_template_rows": null,
            "height": null,
            "justify_content": null,
            "justify_items": null,
            "left": null,
            "margin": null,
            "max_height": null,
            "max_width": null,
            "min_height": null,
            "min_width": null,
            "object_fit": null,
            "object_position": null,
            "order": null,
            "overflow": null,
            "overflow_x": null,
            "overflow_y": null,
            "padding": null,
            "right": null,
            "top": null,
            "visibility": null,
            "width": null
          }
        },
        "8ef13e06dec24bbcbf7dd851e1e3d060": {
          "model_module": "@jupyter-widgets/controls",
          "model_name": "ProgressStyleModel",
          "model_module_version": "1.5.0",
          "state": {
            "_model_module": "@jupyter-widgets/controls",
            "_model_module_version": "1.5.0",
            "_model_name": "ProgressStyleModel",
            "_view_count": null,
            "_view_module": "@jupyter-widgets/base",
            "_view_module_version": "1.2.0",
            "_view_name": "StyleView",
            "bar_color": null,
            "description_width": ""
          }
        },
        "eec9c407114743f59d4dff28b014ca72": {
          "model_module": "@jupyter-widgets/base",
          "model_name": "LayoutModel",
          "model_module_version": "1.2.0",
          "state": {
            "_model_module": "@jupyter-widgets/base",
            "_model_module_version": "1.2.0",
            "_model_name": "LayoutModel",
            "_view_count": null,
            "_view_module": "@jupyter-widgets/base",
            "_view_module_version": "1.2.0",
            "_view_name": "LayoutView",
            "align_content": null,
            "align_items": null,
            "align_self": null,
            "border": null,
            "bottom": null,
            "display": null,
            "flex": null,
            "flex_flow": null,
            "grid_area": null,
            "grid_auto_columns": null,
            "grid_auto_flow": null,
            "grid_auto_rows": null,
            "grid_column": null,
            "grid_gap": null,
            "grid_row": null,
            "grid_template_areas": null,
            "grid_template_columns": null,
            "grid_template_rows": null,
            "height": null,
            "justify_content": null,
            "justify_items": null,
            "left": null,
            "margin": null,
            "max_height": null,
            "max_width": null,
            "min_height": null,
            "min_width": null,
            "object_fit": null,
            "object_position": null,
            "order": null,
            "overflow": null,
            "overflow_x": null,
            "overflow_y": null,
            "padding": null,
            "right": null,
            "top": null,
            "visibility": null,
            "width": null
          }
        },
        "df74c58da46447ddaa4f1a7e7e801af7": {
          "model_module": "@jupyter-widgets/controls",
          "model_name": "DescriptionStyleModel",
          "model_module_version": "1.5.0",
          "state": {
            "_model_module": "@jupyter-widgets/controls",
            "_model_module_version": "1.5.0",
            "_model_name": "DescriptionStyleModel",
            "_view_count": null,
            "_view_module": "@jupyter-widgets/base",
            "_view_module_version": "1.2.0",
            "_view_name": "StyleView",
            "description_width": ""
          }
        },
        "e9020fb818f84e6ca95818df84ff547c": {
          "model_module": "@jupyter-widgets/controls",
          "model_name": "HBoxModel",
          "model_module_version": "1.5.0",
          "state": {
            "_dom_classes": [],
            "_model_module": "@jupyter-widgets/controls",
            "_model_module_version": "1.5.0",
            "_model_name": "HBoxModel",
            "_view_count": null,
            "_view_module": "@jupyter-widgets/controls",
            "_view_module_version": "1.5.0",
            "_view_name": "HBoxView",
            "box_style": "",
            "children": [
              "IPY_MODEL_45dd2de039e34086aa91ca33b23d4121",
              "IPY_MODEL_dd2dab6e05174a4db00f2a211c5edd06",
              "IPY_MODEL_d0096599e03a4bed8696ab305d500736"
            ],
            "layout": "IPY_MODEL_53790bfbbe954ec48ad15274cd6bb73d"
          }
        },
        "45dd2de039e34086aa91ca33b23d4121": {
          "model_module": "@jupyter-widgets/controls",
          "model_name": "HTMLModel",
          "model_module_version": "1.5.0",
          "state": {
            "_dom_classes": [],
            "_model_module": "@jupyter-widgets/controls",
            "_model_module_version": "1.5.0",
            "_model_name": "HTMLModel",
            "_view_count": null,
            "_view_module": "@jupyter-widgets/controls",
            "_view_module_version": "1.5.0",
            "_view_name": "HTMLView",
            "description": "",
            "description_tooltip": null,
            "layout": "IPY_MODEL_26baa30856654a04b5f74708e0f40bee",
            "placeholder": "​",
            "style": "IPY_MODEL_bd270a6138e7489b87587ae1d367cc7f",
            "value": "Epoch 5: 100%"
          }
        },
        "dd2dab6e05174a4db00f2a211c5edd06": {
          "model_module": "@jupyter-widgets/controls",
          "model_name": "FloatProgressModel",
          "model_module_version": "1.5.0",
          "state": {
            "_dom_classes": [],
            "_model_module": "@jupyter-widgets/controls",
            "_model_module_version": "1.5.0",
            "_model_name": "FloatProgressModel",
            "_view_count": null,
            "_view_module": "@jupyter-widgets/controls",
            "_view_module_version": "1.5.0",
            "_view_name": "ProgressView",
            "bar_style": "success",
            "description": "",
            "description_tooltip": null,
            "layout": "IPY_MODEL_ecbcaff09277441dac063fd501234740",
            "max": 600,
            "min": 0,
            "orientation": "horizontal",
            "style": "IPY_MODEL_b9f4f6c070ec472f93a9bd23a63a4896",
            "value": 600
          }
        },
        "d0096599e03a4bed8696ab305d500736": {
          "model_module": "@jupyter-widgets/controls",
          "model_name": "HTMLModel",
          "model_module_version": "1.5.0",
          "state": {
            "_dom_classes": [],
            "_model_module": "@jupyter-widgets/controls",
            "_model_module_version": "1.5.0",
            "_model_name": "HTMLModel",
            "_view_count": null,
            "_view_module": "@jupyter-widgets/controls",
            "_view_module_version": "1.5.0",
            "_view_name": "HTMLView",
            "description": "",
            "description_tooltip": null,
            "layout": "IPY_MODEL_375a85dfbd6044d4a8ce7db9c167a0fd",
            "placeholder": "​",
            "style": "IPY_MODEL_7f14aa8d7a474f319348ef9ed6f0fdc0",
            "value": " 600/600 [00:12&lt;00:00, 51.35it/s]"
          }
        },
        "53790bfbbe954ec48ad15274cd6bb73d": {
          "model_module": "@jupyter-widgets/base",
          "model_name": "LayoutModel",
          "model_module_version": "1.2.0",
          "state": {
            "_model_module": "@jupyter-widgets/base",
            "_model_module_version": "1.2.0",
            "_model_name": "LayoutModel",
            "_view_count": null,
            "_view_module": "@jupyter-widgets/base",
            "_view_module_version": "1.2.0",
            "_view_name": "LayoutView",
            "align_content": null,
            "align_items": null,
            "align_self": null,
            "border": null,
            "bottom": null,
            "display": null,
            "flex": null,
            "flex_flow": null,
            "grid_area": null,
            "grid_auto_columns": null,
            "grid_auto_flow": null,
            "grid_auto_rows": null,
            "grid_column": null,
            "grid_gap": null,
            "grid_row": null,
            "grid_template_areas": null,
            "grid_template_columns": null,
            "grid_template_rows": null,
            "height": null,
            "justify_content": null,
            "justify_items": null,
            "left": null,
            "margin": null,
            "max_height": null,
            "max_width": null,
            "min_height": null,
            "min_width": null,
            "object_fit": null,
            "object_position": null,
            "order": null,
            "overflow": null,
            "overflow_x": null,
            "overflow_y": null,
            "padding": null,
            "right": null,
            "top": null,
            "visibility": null,
            "width": null
          }
        },
        "26baa30856654a04b5f74708e0f40bee": {
          "model_module": "@jupyter-widgets/base",
          "model_name": "LayoutModel",
          "model_module_version": "1.2.0",
          "state": {
            "_model_module": "@jupyter-widgets/base",
            "_model_module_version": "1.2.0",
            "_model_name": "LayoutModel",
            "_view_count": null,
            "_view_module": "@jupyter-widgets/base",
            "_view_module_version": "1.2.0",
            "_view_name": "LayoutView",
            "align_content": null,
            "align_items": null,
            "align_self": null,
            "border": null,
            "bottom": null,
            "display": null,
            "flex": null,
            "flex_flow": null,
            "grid_area": null,
            "grid_auto_columns": null,
            "grid_auto_flow": null,
            "grid_auto_rows": null,
            "grid_column": null,
            "grid_gap": null,
            "grid_row": null,
            "grid_template_areas": null,
            "grid_template_columns": null,
            "grid_template_rows": null,
            "height": null,
            "justify_content": null,
            "justify_items": null,
            "left": null,
            "margin": null,
            "max_height": null,
            "max_width": null,
            "min_height": null,
            "min_width": null,
            "object_fit": null,
            "object_position": null,
            "order": null,
            "overflow": null,
            "overflow_x": null,
            "overflow_y": null,
            "padding": null,
            "right": null,
            "top": null,
            "visibility": null,
            "width": null
          }
        },
        "bd270a6138e7489b87587ae1d367cc7f": {
          "model_module": "@jupyter-widgets/controls",
          "model_name": "DescriptionStyleModel",
          "model_module_version": "1.5.0",
          "state": {
            "_model_module": "@jupyter-widgets/controls",
            "_model_module_version": "1.5.0",
            "_model_name": "DescriptionStyleModel",
            "_view_count": null,
            "_view_module": "@jupyter-widgets/base",
            "_view_module_version": "1.2.0",
            "_view_name": "StyleView",
            "description_width": ""
          }
        },
        "ecbcaff09277441dac063fd501234740": {
          "model_module": "@jupyter-widgets/base",
          "model_name": "LayoutModel",
          "model_module_version": "1.2.0",
          "state": {
            "_model_module": "@jupyter-widgets/base",
            "_model_module_version": "1.2.0",
            "_model_name": "LayoutModel",
            "_view_count": null,
            "_view_module": "@jupyter-widgets/base",
            "_view_module_version": "1.2.0",
            "_view_name": "LayoutView",
            "align_content": null,
            "align_items": null,
            "align_self": null,
            "border": null,
            "bottom": null,
            "display": null,
            "flex": null,
            "flex_flow": null,
            "grid_area": null,
            "grid_auto_columns": null,
            "grid_auto_flow": null,
            "grid_auto_rows": null,
            "grid_column": null,
            "grid_gap": null,
            "grid_row": null,
            "grid_template_areas": null,
            "grid_template_columns": null,
            "grid_template_rows": null,
            "height": null,
            "justify_content": null,
            "justify_items": null,
            "left": null,
            "margin": null,
            "max_height": null,
            "max_width": null,
            "min_height": null,
            "min_width": null,
            "object_fit": null,
            "object_position": null,
            "order": null,
            "overflow": null,
            "overflow_x": null,
            "overflow_y": null,
            "padding": null,
            "right": null,
            "top": null,
            "visibility": null,
            "width": null
          }
        },
        "b9f4f6c070ec472f93a9bd23a63a4896": {
          "model_module": "@jupyter-widgets/controls",
          "model_name": "ProgressStyleModel",
          "model_module_version": "1.5.0",
          "state": {
            "_model_module": "@jupyter-widgets/controls",
            "_model_module_version": "1.5.0",
            "_model_name": "ProgressStyleModel",
            "_view_count": null,
            "_view_module": "@jupyter-widgets/base",
            "_view_module_version": "1.2.0",
            "_view_name": "StyleView",
            "bar_color": null,
            "description_width": ""
          }
        },
        "375a85dfbd6044d4a8ce7db9c167a0fd": {
          "model_module": "@jupyter-widgets/base",
          "model_name": "LayoutModel",
          "model_module_version": "1.2.0",
          "state": {
            "_model_module": "@jupyter-widgets/base",
            "_model_module_version": "1.2.0",
            "_model_name": "LayoutModel",
            "_view_count": null,
            "_view_module": "@jupyter-widgets/base",
            "_view_module_version": "1.2.0",
            "_view_name": "LayoutView",
            "align_content": null,
            "align_items": null,
            "align_self": null,
            "border": null,
            "bottom": null,
            "display": null,
            "flex": null,
            "flex_flow": null,
            "grid_area": null,
            "grid_auto_columns": null,
            "grid_auto_flow": null,
            "grid_auto_rows": null,
            "grid_column": null,
            "grid_gap": null,
            "grid_row": null,
            "grid_template_areas": null,
            "grid_template_columns": null,
            "grid_template_rows": null,
            "height": null,
            "justify_content": null,
            "justify_items": null,
            "left": null,
            "margin": null,
            "max_height": null,
            "max_width": null,
            "min_height": null,
            "min_width": null,
            "object_fit": null,
            "object_position": null,
            "order": null,
            "overflow": null,
            "overflow_x": null,
            "overflow_y": null,
            "padding": null,
            "right": null,
            "top": null,
            "visibility": null,
            "width": null
          }
        },
        "7f14aa8d7a474f319348ef9ed6f0fdc0": {
          "model_module": "@jupyter-widgets/controls",
          "model_name": "DescriptionStyleModel",
          "model_module_version": "1.5.0",
          "state": {
            "_model_module": "@jupyter-widgets/controls",
            "_model_module_version": "1.5.0",
            "_model_name": "DescriptionStyleModel",
            "_view_count": null,
            "_view_module": "@jupyter-widgets/base",
            "_view_module_version": "1.2.0",
            "_view_name": "StyleView",
            "description_width": ""
          }
        },
        "56ee4179d0fe41fd93122cfdc1a4256b": {
          "model_module": "@jupyter-widgets/controls",
          "model_name": "HBoxModel",
          "model_module_version": "1.5.0",
          "state": {
            "_dom_classes": [],
            "_model_module": "@jupyter-widgets/controls",
            "_model_module_version": "1.5.0",
            "_model_name": "HBoxModel",
            "_view_count": null,
            "_view_module": "@jupyter-widgets/controls",
            "_view_module_version": "1.5.0",
            "_view_name": "HBoxView",
            "box_style": "",
            "children": [
              "IPY_MODEL_c0411f5d10334dbc85e435eb0c89f518",
              "IPY_MODEL_3221713532b9451caaaf7c9ecf3a58b0",
              "IPY_MODEL_c8c5653138dd4041801797d249359425"
            ],
            "layout": "IPY_MODEL_fdccff551baf43e295c29398d1e19f65"
          }
        },
        "c0411f5d10334dbc85e435eb0c89f518": {
          "model_module": "@jupyter-widgets/controls",
          "model_name": "HTMLModel",
          "model_module_version": "1.5.0",
          "state": {
            "_dom_classes": [],
            "_model_module": "@jupyter-widgets/controls",
            "_model_module_version": "1.5.0",
            "_model_name": "HTMLModel",
            "_view_count": null,
            "_view_module": "@jupyter-widgets/controls",
            "_view_module_version": "1.5.0",
            "_view_name": "HTMLView",
            "description": "",
            "description_tooltip": null,
            "layout": "IPY_MODEL_e26755a1193c4e02b505374ddba854be",
            "placeholder": "​",
            "style": "IPY_MODEL_421974fa667c49fab8118545c64da0bc",
            "value": "Epoch 6: 100%"
          }
        },
        "3221713532b9451caaaf7c9ecf3a58b0": {
          "model_module": "@jupyter-widgets/controls",
          "model_name": "FloatProgressModel",
          "model_module_version": "1.5.0",
          "state": {
            "_dom_classes": [],
            "_model_module": "@jupyter-widgets/controls",
            "_model_module_version": "1.5.0",
            "_model_name": "FloatProgressModel",
            "_view_count": null,
            "_view_module": "@jupyter-widgets/controls",
            "_view_module_version": "1.5.0",
            "_view_name": "ProgressView",
            "bar_style": "success",
            "description": "",
            "description_tooltip": null,
            "layout": "IPY_MODEL_4a4f174295e34caba8d2036c27ecb5bd",
            "max": 600,
            "min": 0,
            "orientation": "horizontal",
            "style": "IPY_MODEL_335b3f2732e84f51903fd25c0f91e92a",
            "value": 600
          }
        },
        "c8c5653138dd4041801797d249359425": {
          "model_module": "@jupyter-widgets/controls",
          "model_name": "HTMLModel",
          "model_module_version": "1.5.0",
          "state": {
            "_dom_classes": [],
            "_model_module": "@jupyter-widgets/controls",
            "_model_module_version": "1.5.0",
            "_model_name": "HTMLModel",
            "_view_count": null,
            "_view_module": "@jupyter-widgets/controls",
            "_view_module_version": "1.5.0",
            "_view_name": "HTMLView",
            "description": "",
            "description_tooltip": null,
            "layout": "IPY_MODEL_c1de0fc6b18b4c66ad548279e69dda03",
            "placeholder": "​",
            "style": "IPY_MODEL_e2a1d506f8cb4107b2a409afe1626d03",
            "value": " 600/600 [00:12&lt;00:00, 48.25it/s]"
          }
        },
        "fdccff551baf43e295c29398d1e19f65": {
          "model_module": "@jupyter-widgets/base",
          "model_name": "LayoutModel",
          "model_module_version": "1.2.0",
          "state": {
            "_model_module": "@jupyter-widgets/base",
            "_model_module_version": "1.2.0",
            "_model_name": "LayoutModel",
            "_view_count": null,
            "_view_module": "@jupyter-widgets/base",
            "_view_module_version": "1.2.0",
            "_view_name": "LayoutView",
            "align_content": null,
            "align_items": null,
            "align_self": null,
            "border": null,
            "bottom": null,
            "display": null,
            "flex": null,
            "flex_flow": null,
            "grid_area": null,
            "grid_auto_columns": null,
            "grid_auto_flow": null,
            "grid_auto_rows": null,
            "grid_column": null,
            "grid_gap": null,
            "grid_row": null,
            "grid_template_areas": null,
            "grid_template_columns": null,
            "grid_template_rows": null,
            "height": null,
            "justify_content": null,
            "justify_items": null,
            "left": null,
            "margin": null,
            "max_height": null,
            "max_width": null,
            "min_height": null,
            "min_width": null,
            "object_fit": null,
            "object_position": null,
            "order": null,
            "overflow": null,
            "overflow_x": null,
            "overflow_y": null,
            "padding": null,
            "right": null,
            "top": null,
            "visibility": null,
            "width": null
          }
        },
        "e26755a1193c4e02b505374ddba854be": {
          "model_module": "@jupyter-widgets/base",
          "model_name": "LayoutModel",
          "model_module_version": "1.2.0",
          "state": {
            "_model_module": "@jupyter-widgets/base",
            "_model_module_version": "1.2.0",
            "_model_name": "LayoutModel",
            "_view_count": null,
            "_view_module": "@jupyter-widgets/base",
            "_view_module_version": "1.2.0",
            "_view_name": "LayoutView",
            "align_content": null,
            "align_items": null,
            "align_self": null,
            "border": null,
            "bottom": null,
            "display": null,
            "flex": null,
            "flex_flow": null,
            "grid_area": null,
            "grid_auto_columns": null,
            "grid_auto_flow": null,
            "grid_auto_rows": null,
            "grid_column": null,
            "grid_gap": null,
            "grid_row": null,
            "grid_template_areas": null,
            "grid_template_columns": null,
            "grid_template_rows": null,
            "height": null,
            "justify_content": null,
            "justify_items": null,
            "left": null,
            "margin": null,
            "max_height": null,
            "max_width": null,
            "min_height": null,
            "min_width": null,
            "object_fit": null,
            "object_position": null,
            "order": null,
            "overflow": null,
            "overflow_x": null,
            "overflow_y": null,
            "padding": null,
            "right": null,
            "top": null,
            "visibility": null,
            "width": null
          }
        },
        "421974fa667c49fab8118545c64da0bc": {
          "model_module": "@jupyter-widgets/controls",
          "model_name": "DescriptionStyleModel",
          "model_module_version": "1.5.0",
          "state": {
            "_model_module": "@jupyter-widgets/controls",
            "_model_module_version": "1.5.0",
            "_model_name": "DescriptionStyleModel",
            "_view_count": null,
            "_view_module": "@jupyter-widgets/base",
            "_view_module_version": "1.2.0",
            "_view_name": "StyleView",
            "description_width": ""
          }
        },
        "4a4f174295e34caba8d2036c27ecb5bd": {
          "model_module": "@jupyter-widgets/base",
          "model_name": "LayoutModel",
          "model_module_version": "1.2.0",
          "state": {
            "_model_module": "@jupyter-widgets/base",
            "_model_module_version": "1.2.0",
            "_model_name": "LayoutModel",
            "_view_count": null,
            "_view_module": "@jupyter-widgets/base",
            "_view_module_version": "1.2.0",
            "_view_name": "LayoutView",
            "align_content": null,
            "align_items": null,
            "align_self": null,
            "border": null,
            "bottom": null,
            "display": null,
            "flex": null,
            "flex_flow": null,
            "grid_area": null,
            "grid_auto_columns": null,
            "grid_auto_flow": null,
            "grid_auto_rows": null,
            "grid_column": null,
            "grid_gap": null,
            "grid_row": null,
            "grid_template_areas": null,
            "grid_template_columns": null,
            "grid_template_rows": null,
            "height": null,
            "justify_content": null,
            "justify_items": null,
            "left": null,
            "margin": null,
            "max_height": null,
            "max_width": null,
            "min_height": null,
            "min_width": null,
            "object_fit": null,
            "object_position": null,
            "order": null,
            "overflow": null,
            "overflow_x": null,
            "overflow_y": null,
            "padding": null,
            "right": null,
            "top": null,
            "visibility": null,
            "width": null
          }
        },
        "335b3f2732e84f51903fd25c0f91e92a": {
          "model_module": "@jupyter-widgets/controls",
          "model_name": "ProgressStyleModel",
          "model_module_version": "1.5.0",
          "state": {
            "_model_module": "@jupyter-widgets/controls",
            "_model_module_version": "1.5.0",
            "_model_name": "ProgressStyleModel",
            "_view_count": null,
            "_view_module": "@jupyter-widgets/base",
            "_view_module_version": "1.2.0",
            "_view_name": "StyleView",
            "bar_color": null,
            "description_width": ""
          }
        },
        "c1de0fc6b18b4c66ad548279e69dda03": {
          "model_module": "@jupyter-widgets/base",
          "model_name": "LayoutModel",
          "model_module_version": "1.2.0",
          "state": {
            "_model_module": "@jupyter-widgets/base",
            "_model_module_version": "1.2.0",
            "_model_name": "LayoutModel",
            "_view_count": null,
            "_view_module": "@jupyter-widgets/base",
            "_view_module_version": "1.2.0",
            "_view_name": "LayoutView",
            "align_content": null,
            "align_items": null,
            "align_self": null,
            "border": null,
            "bottom": null,
            "display": null,
            "flex": null,
            "flex_flow": null,
            "grid_area": null,
            "grid_auto_columns": null,
            "grid_auto_flow": null,
            "grid_auto_rows": null,
            "grid_column": null,
            "grid_gap": null,
            "grid_row": null,
            "grid_template_areas": null,
            "grid_template_columns": null,
            "grid_template_rows": null,
            "height": null,
            "justify_content": null,
            "justify_items": null,
            "left": null,
            "margin": null,
            "max_height": null,
            "max_width": null,
            "min_height": null,
            "min_width": null,
            "object_fit": null,
            "object_position": null,
            "order": null,
            "overflow": null,
            "overflow_x": null,
            "overflow_y": null,
            "padding": null,
            "right": null,
            "top": null,
            "visibility": null,
            "width": null
          }
        },
        "e2a1d506f8cb4107b2a409afe1626d03": {
          "model_module": "@jupyter-widgets/controls",
          "model_name": "DescriptionStyleModel",
          "model_module_version": "1.5.0",
          "state": {
            "_model_module": "@jupyter-widgets/controls",
            "_model_module_version": "1.5.0",
            "_model_name": "DescriptionStyleModel",
            "_view_count": null,
            "_view_module": "@jupyter-widgets/base",
            "_view_module_version": "1.2.0",
            "_view_name": "StyleView",
            "description_width": ""
          }
        },
        "3360a0bbf1864fb5a73af03896eecc13": {
          "model_module": "@jupyter-widgets/controls",
          "model_name": "HBoxModel",
          "model_module_version": "1.5.0",
          "state": {
            "_dom_classes": [],
            "_model_module": "@jupyter-widgets/controls",
            "_model_module_version": "1.5.0",
            "_model_name": "HBoxModel",
            "_view_count": null,
            "_view_module": "@jupyter-widgets/controls",
            "_view_module_version": "1.5.0",
            "_view_name": "HBoxView",
            "box_style": "",
            "children": [
              "IPY_MODEL_017f4a1bdc0c415c8a3d131b24690fc6",
              "IPY_MODEL_8d38bea0d2db486a90e12c1e93d73695",
              "IPY_MODEL_161097450cb248aa959e9733b1ef607f"
            ],
            "layout": "IPY_MODEL_03294b47671848b1b7dbd7897e577e9e"
          }
        },
        "017f4a1bdc0c415c8a3d131b24690fc6": {
          "model_module": "@jupyter-widgets/controls",
          "model_name": "HTMLModel",
          "model_module_version": "1.5.0",
          "state": {
            "_dom_classes": [],
            "_model_module": "@jupyter-widgets/controls",
            "_model_module_version": "1.5.0",
            "_model_name": "HTMLModel",
            "_view_count": null,
            "_view_module": "@jupyter-widgets/controls",
            "_view_module_version": "1.5.0",
            "_view_name": "HTMLView",
            "description": "",
            "description_tooltip": null,
            "layout": "IPY_MODEL_ff58571df253489a86f0557b347e5289",
            "placeholder": "​",
            "style": "IPY_MODEL_cbb320dcbdef4ff09ddd50f1fd86657b",
            "value": "Epoch 7: 100%"
          }
        },
        "8d38bea0d2db486a90e12c1e93d73695": {
          "model_module": "@jupyter-widgets/controls",
          "model_name": "FloatProgressModel",
          "model_module_version": "1.5.0",
          "state": {
            "_dom_classes": [],
            "_model_module": "@jupyter-widgets/controls",
            "_model_module_version": "1.5.0",
            "_model_name": "FloatProgressModel",
            "_view_count": null,
            "_view_module": "@jupyter-widgets/controls",
            "_view_module_version": "1.5.0",
            "_view_name": "ProgressView",
            "bar_style": "success",
            "description": "",
            "description_tooltip": null,
            "layout": "IPY_MODEL_5c8e229e8f584d7daaac6128c69a97dd",
            "max": 600,
            "min": 0,
            "orientation": "horizontal",
            "style": "IPY_MODEL_926e92fa393c4bb69188ae81b9d8b1f6",
            "value": 600
          }
        },
        "161097450cb248aa959e9733b1ef607f": {
          "model_module": "@jupyter-widgets/controls",
          "model_name": "HTMLModel",
          "model_module_version": "1.5.0",
          "state": {
            "_dom_classes": [],
            "_model_module": "@jupyter-widgets/controls",
            "_model_module_version": "1.5.0",
            "_model_name": "HTMLModel",
            "_view_count": null,
            "_view_module": "@jupyter-widgets/controls",
            "_view_module_version": "1.5.0",
            "_view_name": "HTMLView",
            "description": "",
            "description_tooltip": null,
            "layout": "IPY_MODEL_ecd775d5a3b14b8c83d7154e56b1bb60",
            "placeholder": "​",
            "style": "IPY_MODEL_6c7d7d67d7284987a8bb1ceab146f073",
            "value": " 600/600 [00:12&lt;00:00, 51.60it/s]"
          }
        },
        "03294b47671848b1b7dbd7897e577e9e": {
          "model_module": "@jupyter-widgets/base",
          "model_name": "LayoutModel",
          "model_module_version": "1.2.0",
          "state": {
            "_model_module": "@jupyter-widgets/base",
            "_model_module_version": "1.2.0",
            "_model_name": "LayoutModel",
            "_view_count": null,
            "_view_module": "@jupyter-widgets/base",
            "_view_module_version": "1.2.0",
            "_view_name": "LayoutView",
            "align_content": null,
            "align_items": null,
            "align_self": null,
            "border": null,
            "bottom": null,
            "display": null,
            "flex": null,
            "flex_flow": null,
            "grid_area": null,
            "grid_auto_columns": null,
            "grid_auto_flow": null,
            "grid_auto_rows": null,
            "grid_column": null,
            "grid_gap": null,
            "grid_row": null,
            "grid_template_areas": null,
            "grid_template_columns": null,
            "grid_template_rows": null,
            "height": null,
            "justify_content": null,
            "justify_items": null,
            "left": null,
            "margin": null,
            "max_height": null,
            "max_width": null,
            "min_height": null,
            "min_width": null,
            "object_fit": null,
            "object_position": null,
            "order": null,
            "overflow": null,
            "overflow_x": null,
            "overflow_y": null,
            "padding": null,
            "right": null,
            "top": null,
            "visibility": null,
            "width": null
          }
        },
        "ff58571df253489a86f0557b347e5289": {
          "model_module": "@jupyter-widgets/base",
          "model_name": "LayoutModel",
          "model_module_version": "1.2.0",
          "state": {
            "_model_module": "@jupyter-widgets/base",
            "_model_module_version": "1.2.0",
            "_model_name": "LayoutModel",
            "_view_count": null,
            "_view_module": "@jupyter-widgets/base",
            "_view_module_version": "1.2.0",
            "_view_name": "LayoutView",
            "align_content": null,
            "align_items": null,
            "align_self": null,
            "border": null,
            "bottom": null,
            "display": null,
            "flex": null,
            "flex_flow": null,
            "grid_area": null,
            "grid_auto_columns": null,
            "grid_auto_flow": null,
            "grid_auto_rows": null,
            "grid_column": null,
            "grid_gap": null,
            "grid_row": null,
            "grid_template_areas": null,
            "grid_template_columns": null,
            "grid_template_rows": null,
            "height": null,
            "justify_content": null,
            "justify_items": null,
            "left": null,
            "margin": null,
            "max_height": null,
            "max_width": null,
            "min_height": null,
            "min_width": null,
            "object_fit": null,
            "object_position": null,
            "order": null,
            "overflow": null,
            "overflow_x": null,
            "overflow_y": null,
            "padding": null,
            "right": null,
            "top": null,
            "visibility": null,
            "width": null
          }
        },
        "cbb320dcbdef4ff09ddd50f1fd86657b": {
          "model_module": "@jupyter-widgets/controls",
          "model_name": "DescriptionStyleModel",
          "model_module_version": "1.5.0",
          "state": {
            "_model_module": "@jupyter-widgets/controls",
            "_model_module_version": "1.5.0",
            "_model_name": "DescriptionStyleModel",
            "_view_count": null,
            "_view_module": "@jupyter-widgets/base",
            "_view_module_version": "1.2.0",
            "_view_name": "StyleView",
            "description_width": ""
          }
        },
        "5c8e229e8f584d7daaac6128c69a97dd": {
          "model_module": "@jupyter-widgets/base",
          "model_name": "LayoutModel",
          "model_module_version": "1.2.0",
          "state": {
            "_model_module": "@jupyter-widgets/base",
            "_model_module_version": "1.2.0",
            "_model_name": "LayoutModel",
            "_view_count": null,
            "_view_module": "@jupyter-widgets/base",
            "_view_module_version": "1.2.0",
            "_view_name": "LayoutView",
            "align_content": null,
            "align_items": null,
            "align_self": null,
            "border": null,
            "bottom": null,
            "display": null,
            "flex": null,
            "flex_flow": null,
            "grid_area": null,
            "grid_auto_columns": null,
            "grid_auto_flow": null,
            "grid_auto_rows": null,
            "grid_column": null,
            "grid_gap": null,
            "grid_row": null,
            "grid_template_areas": null,
            "grid_template_columns": null,
            "grid_template_rows": null,
            "height": null,
            "justify_content": null,
            "justify_items": null,
            "left": null,
            "margin": null,
            "max_height": null,
            "max_width": null,
            "min_height": null,
            "min_width": null,
            "object_fit": null,
            "object_position": null,
            "order": null,
            "overflow": null,
            "overflow_x": null,
            "overflow_y": null,
            "padding": null,
            "right": null,
            "top": null,
            "visibility": null,
            "width": null
          }
        },
        "926e92fa393c4bb69188ae81b9d8b1f6": {
          "model_module": "@jupyter-widgets/controls",
          "model_name": "ProgressStyleModel",
          "model_module_version": "1.5.0",
          "state": {
            "_model_module": "@jupyter-widgets/controls",
            "_model_module_version": "1.5.0",
            "_model_name": "ProgressStyleModel",
            "_view_count": null,
            "_view_module": "@jupyter-widgets/base",
            "_view_module_version": "1.2.0",
            "_view_name": "StyleView",
            "bar_color": null,
            "description_width": ""
          }
        },
        "ecd775d5a3b14b8c83d7154e56b1bb60": {
          "model_module": "@jupyter-widgets/base",
          "model_name": "LayoutModel",
          "model_module_version": "1.2.0",
          "state": {
            "_model_module": "@jupyter-widgets/base",
            "_model_module_version": "1.2.0",
            "_model_name": "LayoutModel",
            "_view_count": null,
            "_view_module": "@jupyter-widgets/base",
            "_view_module_version": "1.2.0",
            "_view_name": "LayoutView",
            "align_content": null,
            "align_items": null,
            "align_self": null,
            "border": null,
            "bottom": null,
            "display": null,
            "flex": null,
            "flex_flow": null,
            "grid_area": null,
            "grid_auto_columns": null,
            "grid_auto_flow": null,
            "grid_auto_rows": null,
            "grid_column": null,
            "grid_gap": null,
            "grid_row": null,
            "grid_template_areas": null,
            "grid_template_columns": null,
            "grid_template_rows": null,
            "height": null,
            "justify_content": null,
            "justify_items": null,
            "left": null,
            "margin": null,
            "max_height": null,
            "max_width": null,
            "min_height": null,
            "min_width": null,
            "object_fit": null,
            "object_position": null,
            "order": null,
            "overflow": null,
            "overflow_x": null,
            "overflow_y": null,
            "padding": null,
            "right": null,
            "top": null,
            "visibility": null,
            "width": null
          }
        },
        "6c7d7d67d7284987a8bb1ceab146f073": {
          "model_module": "@jupyter-widgets/controls",
          "model_name": "DescriptionStyleModel",
          "model_module_version": "1.5.0",
          "state": {
            "_model_module": "@jupyter-widgets/controls",
            "_model_module_version": "1.5.0",
            "_model_name": "DescriptionStyleModel",
            "_view_count": null,
            "_view_module": "@jupyter-widgets/base",
            "_view_module_version": "1.2.0",
            "_view_name": "StyleView",
            "description_width": ""
          }
        },
        "bb97da52cf7a4406b45116a7f7f01869": {
          "model_module": "@jupyter-widgets/controls",
          "model_name": "HBoxModel",
          "model_module_version": "1.5.0",
          "state": {
            "_dom_classes": [],
            "_model_module": "@jupyter-widgets/controls",
            "_model_module_version": "1.5.0",
            "_model_name": "HBoxModel",
            "_view_count": null,
            "_view_module": "@jupyter-widgets/controls",
            "_view_module_version": "1.5.0",
            "_view_name": "HBoxView",
            "box_style": "",
            "children": [
              "IPY_MODEL_b4d72c3cecbc4b45a89ffaac84946f33",
              "IPY_MODEL_3cf77b3781b946f8ae42a17845fa090b",
              "IPY_MODEL_5eaa85428d194328ab6b502981fbf447"
            ],
            "layout": "IPY_MODEL_bfb6c1f65c13492489dffe00121f418c"
          }
        },
        "b4d72c3cecbc4b45a89ffaac84946f33": {
          "model_module": "@jupyter-widgets/controls",
          "model_name": "HTMLModel",
          "model_module_version": "1.5.0",
          "state": {
            "_dom_classes": [],
            "_model_module": "@jupyter-widgets/controls",
            "_model_module_version": "1.5.0",
            "_model_name": "HTMLModel",
            "_view_count": null,
            "_view_module": "@jupyter-widgets/controls",
            "_view_module_version": "1.5.0",
            "_view_name": "HTMLView",
            "description": "",
            "description_tooltip": null,
            "layout": "IPY_MODEL_d83a9803e4b9471e9518ae0231573c87",
            "placeholder": "​",
            "style": "IPY_MODEL_ca08a94d2486447cad212fb6926271a4",
            "value": "Epoch 8: 100%"
          }
        },
        "3cf77b3781b946f8ae42a17845fa090b": {
          "model_module": "@jupyter-widgets/controls",
          "model_name": "FloatProgressModel",
          "model_module_version": "1.5.0",
          "state": {
            "_dom_classes": [],
            "_model_module": "@jupyter-widgets/controls",
            "_model_module_version": "1.5.0",
            "_model_name": "FloatProgressModel",
            "_view_count": null,
            "_view_module": "@jupyter-widgets/controls",
            "_view_module_version": "1.5.0",
            "_view_name": "ProgressView",
            "bar_style": "success",
            "description": "",
            "description_tooltip": null,
            "layout": "IPY_MODEL_cdc14dc6cfc4468ea84694554d6fde6f",
            "max": 600,
            "min": 0,
            "orientation": "horizontal",
            "style": "IPY_MODEL_7e43a1dc1c634648809d4f73f45530dc",
            "value": 600
          }
        },
        "5eaa85428d194328ab6b502981fbf447": {
          "model_module": "@jupyter-widgets/controls",
          "model_name": "HTMLModel",
          "model_module_version": "1.5.0",
          "state": {
            "_dom_classes": [],
            "_model_module": "@jupyter-widgets/controls",
            "_model_module_version": "1.5.0",
            "_model_name": "HTMLModel",
            "_view_count": null,
            "_view_module": "@jupyter-widgets/controls",
            "_view_module_version": "1.5.0",
            "_view_name": "HTMLView",
            "description": "",
            "description_tooltip": null,
            "layout": "IPY_MODEL_47978159f4c34e00bc25cd52f19ec29a",
            "placeholder": "​",
            "style": "IPY_MODEL_352059ff28724e1696a2a89fd03a08df",
            "value": " 600/600 [00:12&lt;00:00, 40.32it/s]"
          }
        },
        "bfb6c1f65c13492489dffe00121f418c": {
          "model_module": "@jupyter-widgets/base",
          "model_name": "LayoutModel",
          "model_module_version": "1.2.0",
          "state": {
            "_model_module": "@jupyter-widgets/base",
            "_model_module_version": "1.2.0",
            "_model_name": "LayoutModel",
            "_view_count": null,
            "_view_module": "@jupyter-widgets/base",
            "_view_module_version": "1.2.0",
            "_view_name": "LayoutView",
            "align_content": null,
            "align_items": null,
            "align_self": null,
            "border": null,
            "bottom": null,
            "display": null,
            "flex": null,
            "flex_flow": null,
            "grid_area": null,
            "grid_auto_columns": null,
            "grid_auto_flow": null,
            "grid_auto_rows": null,
            "grid_column": null,
            "grid_gap": null,
            "grid_row": null,
            "grid_template_areas": null,
            "grid_template_columns": null,
            "grid_template_rows": null,
            "height": null,
            "justify_content": null,
            "justify_items": null,
            "left": null,
            "margin": null,
            "max_height": null,
            "max_width": null,
            "min_height": null,
            "min_width": null,
            "object_fit": null,
            "object_position": null,
            "order": null,
            "overflow": null,
            "overflow_x": null,
            "overflow_y": null,
            "padding": null,
            "right": null,
            "top": null,
            "visibility": null,
            "width": null
          }
        },
        "d83a9803e4b9471e9518ae0231573c87": {
          "model_module": "@jupyter-widgets/base",
          "model_name": "LayoutModel",
          "model_module_version": "1.2.0",
          "state": {
            "_model_module": "@jupyter-widgets/base",
            "_model_module_version": "1.2.0",
            "_model_name": "LayoutModel",
            "_view_count": null,
            "_view_module": "@jupyter-widgets/base",
            "_view_module_version": "1.2.0",
            "_view_name": "LayoutView",
            "align_content": null,
            "align_items": null,
            "align_self": null,
            "border": null,
            "bottom": null,
            "display": null,
            "flex": null,
            "flex_flow": null,
            "grid_area": null,
            "grid_auto_columns": null,
            "grid_auto_flow": null,
            "grid_auto_rows": null,
            "grid_column": null,
            "grid_gap": null,
            "grid_row": null,
            "grid_template_areas": null,
            "grid_template_columns": null,
            "grid_template_rows": null,
            "height": null,
            "justify_content": null,
            "justify_items": null,
            "left": null,
            "margin": null,
            "max_height": null,
            "max_width": null,
            "min_height": null,
            "min_width": null,
            "object_fit": null,
            "object_position": null,
            "order": null,
            "overflow": null,
            "overflow_x": null,
            "overflow_y": null,
            "padding": null,
            "right": null,
            "top": null,
            "visibility": null,
            "width": null
          }
        },
        "ca08a94d2486447cad212fb6926271a4": {
          "model_module": "@jupyter-widgets/controls",
          "model_name": "DescriptionStyleModel",
          "model_module_version": "1.5.0",
          "state": {
            "_model_module": "@jupyter-widgets/controls",
            "_model_module_version": "1.5.0",
            "_model_name": "DescriptionStyleModel",
            "_view_count": null,
            "_view_module": "@jupyter-widgets/base",
            "_view_module_version": "1.2.0",
            "_view_name": "StyleView",
            "description_width": ""
          }
        },
        "cdc14dc6cfc4468ea84694554d6fde6f": {
          "model_module": "@jupyter-widgets/base",
          "model_name": "LayoutModel",
          "model_module_version": "1.2.0",
          "state": {
            "_model_module": "@jupyter-widgets/base",
            "_model_module_version": "1.2.0",
            "_model_name": "LayoutModel",
            "_view_count": null,
            "_view_module": "@jupyter-widgets/base",
            "_view_module_version": "1.2.0",
            "_view_name": "LayoutView",
            "align_content": null,
            "align_items": null,
            "align_self": null,
            "border": null,
            "bottom": null,
            "display": null,
            "flex": null,
            "flex_flow": null,
            "grid_area": null,
            "grid_auto_columns": null,
            "grid_auto_flow": null,
            "grid_auto_rows": null,
            "grid_column": null,
            "grid_gap": null,
            "grid_row": null,
            "grid_template_areas": null,
            "grid_template_columns": null,
            "grid_template_rows": null,
            "height": null,
            "justify_content": null,
            "justify_items": null,
            "left": null,
            "margin": null,
            "max_height": null,
            "max_width": null,
            "min_height": null,
            "min_width": null,
            "object_fit": null,
            "object_position": null,
            "order": null,
            "overflow": null,
            "overflow_x": null,
            "overflow_y": null,
            "padding": null,
            "right": null,
            "top": null,
            "visibility": null,
            "width": null
          }
        },
        "7e43a1dc1c634648809d4f73f45530dc": {
          "model_module": "@jupyter-widgets/controls",
          "model_name": "ProgressStyleModel",
          "model_module_version": "1.5.0",
          "state": {
            "_model_module": "@jupyter-widgets/controls",
            "_model_module_version": "1.5.0",
            "_model_name": "ProgressStyleModel",
            "_view_count": null,
            "_view_module": "@jupyter-widgets/base",
            "_view_module_version": "1.2.0",
            "_view_name": "StyleView",
            "bar_color": null,
            "description_width": ""
          }
        },
        "47978159f4c34e00bc25cd52f19ec29a": {
          "model_module": "@jupyter-widgets/base",
          "model_name": "LayoutModel",
          "model_module_version": "1.2.0",
          "state": {
            "_model_module": "@jupyter-widgets/base",
            "_model_module_version": "1.2.0",
            "_model_name": "LayoutModel",
            "_view_count": null,
            "_view_module": "@jupyter-widgets/base",
            "_view_module_version": "1.2.0",
            "_view_name": "LayoutView",
            "align_content": null,
            "align_items": null,
            "align_self": null,
            "border": null,
            "bottom": null,
            "display": null,
            "flex": null,
            "flex_flow": null,
            "grid_area": null,
            "grid_auto_columns": null,
            "grid_auto_flow": null,
            "grid_auto_rows": null,
            "grid_column": null,
            "grid_gap": null,
            "grid_row": null,
            "grid_template_areas": null,
            "grid_template_columns": null,
            "grid_template_rows": null,
            "height": null,
            "justify_content": null,
            "justify_items": null,
            "left": null,
            "margin": null,
            "max_height": null,
            "max_width": null,
            "min_height": null,
            "min_width": null,
            "object_fit": null,
            "object_position": null,
            "order": null,
            "overflow": null,
            "overflow_x": null,
            "overflow_y": null,
            "padding": null,
            "right": null,
            "top": null,
            "visibility": null,
            "width": null
          }
        },
        "352059ff28724e1696a2a89fd03a08df": {
          "model_module": "@jupyter-widgets/controls",
          "model_name": "DescriptionStyleModel",
          "model_module_version": "1.5.0",
          "state": {
            "_model_module": "@jupyter-widgets/controls",
            "_model_module_version": "1.5.0",
            "_model_name": "DescriptionStyleModel",
            "_view_count": null,
            "_view_module": "@jupyter-widgets/base",
            "_view_module_version": "1.2.0",
            "_view_name": "StyleView",
            "description_width": ""
          }
        },
        "25a8f854d71e4b8ea3fc7cd32a27ed68": {
          "model_module": "@jupyter-widgets/controls",
          "model_name": "HBoxModel",
          "model_module_version": "1.5.0",
          "state": {
            "_dom_classes": [],
            "_model_module": "@jupyter-widgets/controls",
            "_model_module_version": "1.5.0",
            "_model_name": "HBoxModel",
            "_view_count": null,
            "_view_module": "@jupyter-widgets/controls",
            "_view_module_version": "1.5.0",
            "_view_name": "HBoxView",
            "box_style": "",
            "children": [
              "IPY_MODEL_53a1354cd4384c959e8d8c75dd09945d",
              "IPY_MODEL_2b15db7150f9457ca210903b171241e1",
              "IPY_MODEL_26b8ba02b69a4d218210395926b74ddc"
            ],
            "layout": "IPY_MODEL_1088bb63c5c04c7ca9695499564c5ba6"
          }
        },
        "53a1354cd4384c959e8d8c75dd09945d": {
          "model_module": "@jupyter-widgets/controls",
          "model_name": "HTMLModel",
          "model_module_version": "1.5.0",
          "state": {
            "_dom_classes": [],
            "_model_module": "@jupyter-widgets/controls",
            "_model_module_version": "1.5.0",
            "_model_name": "HTMLModel",
            "_view_count": null,
            "_view_module": "@jupyter-widgets/controls",
            "_view_module_version": "1.5.0",
            "_view_name": "HTMLView",
            "description": "",
            "description_tooltip": null,
            "layout": "IPY_MODEL_c30ec73edcdf4fe3a63dad48892a466c",
            "placeholder": "​",
            "style": "IPY_MODEL_7d0cbb3a742e493485eb0e3dfd005e88",
            "value": "Epoch 9: 100%"
          }
        },
        "2b15db7150f9457ca210903b171241e1": {
          "model_module": "@jupyter-widgets/controls",
          "model_name": "FloatProgressModel",
          "model_module_version": "1.5.0",
          "state": {
            "_dom_classes": [],
            "_model_module": "@jupyter-widgets/controls",
            "_model_module_version": "1.5.0",
            "_model_name": "FloatProgressModel",
            "_view_count": null,
            "_view_module": "@jupyter-widgets/controls",
            "_view_module_version": "1.5.0",
            "_view_name": "ProgressView",
            "bar_style": "success",
            "description": "",
            "description_tooltip": null,
            "layout": "IPY_MODEL_199891aafbba465e87d425883e1e8b95",
            "max": 600,
            "min": 0,
            "orientation": "horizontal",
            "style": "IPY_MODEL_c837b57b906e4cc78d79dd9144dd59ac",
            "value": 600
          }
        },
        "26b8ba02b69a4d218210395926b74ddc": {
          "model_module": "@jupyter-widgets/controls",
          "model_name": "HTMLModel",
          "model_module_version": "1.5.0",
          "state": {
            "_dom_classes": [],
            "_model_module": "@jupyter-widgets/controls",
            "_model_module_version": "1.5.0",
            "_model_name": "HTMLModel",
            "_view_count": null,
            "_view_module": "@jupyter-widgets/controls",
            "_view_module_version": "1.5.0",
            "_view_name": "HTMLView",
            "description": "",
            "description_tooltip": null,
            "layout": "IPY_MODEL_6f1eb6c1ac3543a7b8ecb87ec2a678c7",
            "placeholder": "​",
            "style": "IPY_MODEL_60b81e64256e4c1993c414debcc31977",
            "value": " 600/600 [00:12&lt;00:00, 43.34it/s]"
          }
        },
        "1088bb63c5c04c7ca9695499564c5ba6": {
          "model_module": "@jupyter-widgets/base",
          "model_name": "LayoutModel",
          "model_module_version": "1.2.0",
          "state": {
            "_model_module": "@jupyter-widgets/base",
            "_model_module_version": "1.2.0",
            "_model_name": "LayoutModel",
            "_view_count": null,
            "_view_module": "@jupyter-widgets/base",
            "_view_module_version": "1.2.0",
            "_view_name": "LayoutView",
            "align_content": null,
            "align_items": null,
            "align_self": null,
            "border": null,
            "bottom": null,
            "display": null,
            "flex": null,
            "flex_flow": null,
            "grid_area": null,
            "grid_auto_columns": null,
            "grid_auto_flow": null,
            "grid_auto_rows": null,
            "grid_column": null,
            "grid_gap": null,
            "grid_row": null,
            "grid_template_areas": null,
            "grid_template_columns": null,
            "grid_template_rows": null,
            "height": null,
            "justify_content": null,
            "justify_items": null,
            "left": null,
            "margin": null,
            "max_height": null,
            "max_width": null,
            "min_height": null,
            "min_width": null,
            "object_fit": null,
            "object_position": null,
            "order": null,
            "overflow": null,
            "overflow_x": null,
            "overflow_y": null,
            "padding": null,
            "right": null,
            "top": null,
            "visibility": null,
            "width": null
          }
        },
        "c30ec73edcdf4fe3a63dad48892a466c": {
          "model_module": "@jupyter-widgets/base",
          "model_name": "LayoutModel",
          "model_module_version": "1.2.0",
          "state": {
            "_model_module": "@jupyter-widgets/base",
            "_model_module_version": "1.2.0",
            "_model_name": "LayoutModel",
            "_view_count": null,
            "_view_module": "@jupyter-widgets/base",
            "_view_module_version": "1.2.0",
            "_view_name": "LayoutView",
            "align_content": null,
            "align_items": null,
            "align_self": null,
            "border": null,
            "bottom": null,
            "display": null,
            "flex": null,
            "flex_flow": null,
            "grid_area": null,
            "grid_auto_columns": null,
            "grid_auto_flow": null,
            "grid_auto_rows": null,
            "grid_column": null,
            "grid_gap": null,
            "grid_row": null,
            "grid_template_areas": null,
            "grid_template_columns": null,
            "grid_template_rows": null,
            "height": null,
            "justify_content": null,
            "justify_items": null,
            "left": null,
            "margin": null,
            "max_height": null,
            "max_width": null,
            "min_height": null,
            "min_width": null,
            "object_fit": null,
            "object_position": null,
            "order": null,
            "overflow": null,
            "overflow_x": null,
            "overflow_y": null,
            "padding": null,
            "right": null,
            "top": null,
            "visibility": null,
            "width": null
          }
        },
        "7d0cbb3a742e493485eb0e3dfd005e88": {
          "model_module": "@jupyter-widgets/controls",
          "model_name": "DescriptionStyleModel",
          "model_module_version": "1.5.0",
          "state": {
            "_model_module": "@jupyter-widgets/controls",
            "_model_module_version": "1.5.0",
            "_model_name": "DescriptionStyleModel",
            "_view_count": null,
            "_view_module": "@jupyter-widgets/base",
            "_view_module_version": "1.2.0",
            "_view_name": "StyleView",
            "description_width": ""
          }
        },
        "199891aafbba465e87d425883e1e8b95": {
          "model_module": "@jupyter-widgets/base",
          "model_name": "LayoutModel",
          "model_module_version": "1.2.0",
          "state": {
            "_model_module": "@jupyter-widgets/base",
            "_model_module_version": "1.2.0",
            "_model_name": "LayoutModel",
            "_view_count": null,
            "_view_module": "@jupyter-widgets/base",
            "_view_module_version": "1.2.0",
            "_view_name": "LayoutView",
            "align_content": null,
            "align_items": null,
            "align_self": null,
            "border": null,
            "bottom": null,
            "display": null,
            "flex": null,
            "flex_flow": null,
            "grid_area": null,
            "grid_auto_columns": null,
            "grid_auto_flow": null,
            "grid_auto_rows": null,
            "grid_column": null,
            "grid_gap": null,
            "grid_row": null,
            "grid_template_areas": null,
            "grid_template_columns": null,
            "grid_template_rows": null,
            "height": null,
            "justify_content": null,
            "justify_items": null,
            "left": null,
            "margin": null,
            "max_height": null,
            "max_width": null,
            "min_height": null,
            "min_width": null,
            "object_fit": null,
            "object_position": null,
            "order": null,
            "overflow": null,
            "overflow_x": null,
            "overflow_y": null,
            "padding": null,
            "right": null,
            "top": null,
            "visibility": null,
            "width": null
          }
        },
        "c837b57b906e4cc78d79dd9144dd59ac": {
          "model_module": "@jupyter-widgets/controls",
          "model_name": "ProgressStyleModel",
          "model_module_version": "1.5.0",
          "state": {
            "_model_module": "@jupyter-widgets/controls",
            "_model_module_version": "1.5.0",
            "_model_name": "ProgressStyleModel",
            "_view_count": null,
            "_view_module": "@jupyter-widgets/base",
            "_view_module_version": "1.2.0",
            "_view_name": "StyleView",
            "bar_color": null,
            "description_width": ""
          }
        },
        "6f1eb6c1ac3543a7b8ecb87ec2a678c7": {
          "model_module": "@jupyter-widgets/base",
          "model_name": "LayoutModel",
          "model_module_version": "1.2.0",
          "state": {
            "_model_module": "@jupyter-widgets/base",
            "_model_module_version": "1.2.0",
            "_model_name": "LayoutModel",
            "_view_count": null,
            "_view_module": "@jupyter-widgets/base",
            "_view_module_version": "1.2.0",
            "_view_name": "LayoutView",
            "align_content": null,
            "align_items": null,
            "align_self": null,
            "border": null,
            "bottom": null,
            "display": null,
            "flex": null,
            "flex_flow": null,
            "grid_area": null,
            "grid_auto_columns": null,
            "grid_auto_flow": null,
            "grid_auto_rows": null,
            "grid_column": null,
            "grid_gap": null,
            "grid_row": null,
            "grid_template_areas": null,
            "grid_template_columns": null,
            "grid_template_rows": null,
            "height": null,
            "justify_content": null,
            "justify_items": null,
            "left": null,
            "margin": null,
            "max_height": null,
            "max_width": null,
            "min_height": null,
            "min_width": null,
            "object_fit": null,
            "object_position": null,
            "order": null,
            "overflow": null,
            "overflow_x": null,
            "overflow_y": null,
            "padding": null,
            "right": null,
            "top": null,
            "visibility": null,
            "width": null
          }
        },
        "60b81e64256e4c1993c414debcc31977": {
          "model_module": "@jupyter-widgets/controls",
          "model_name": "DescriptionStyleModel",
          "model_module_version": "1.5.0",
          "state": {
            "_model_module": "@jupyter-widgets/controls",
            "_model_module_version": "1.5.0",
            "_model_name": "DescriptionStyleModel",
            "_view_count": null,
            "_view_module": "@jupyter-widgets/base",
            "_view_module_version": "1.2.0",
            "_view_name": "StyleView",
            "description_width": ""
          }
        },
        "9c0baa9292f24b698892f4ddcc42bfea": {
          "model_module": "@jupyter-widgets/controls",
          "model_name": "HBoxModel",
          "model_module_version": "1.5.0",
          "state": {
            "_dom_classes": [],
            "_model_module": "@jupyter-widgets/controls",
            "_model_module_version": "1.5.0",
            "_model_name": "HBoxModel",
            "_view_count": null,
            "_view_module": "@jupyter-widgets/controls",
            "_view_module_version": "1.5.0",
            "_view_name": "HBoxView",
            "box_style": "",
            "children": [
              "IPY_MODEL_97d33ded23054d24896ec797ca4760ba",
              "IPY_MODEL_4804c21ec8f444b0a9698d0f435d5af5",
              "IPY_MODEL_a3514a9d0709484c9fc6eb950f8ee382"
            ],
            "layout": "IPY_MODEL_bfd9733e7ef04b96919b937bcc7d541f"
          }
        },
        "97d33ded23054d24896ec797ca4760ba": {
          "model_module": "@jupyter-widgets/controls",
          "model_name": "HTMLModel",
          "model_module_version": "1.5.0",
          "state": {
            "_dom_classes": [],
            "_model_module": "@jupyter-widgets/controls",
            "_model_module_version": "1.5.0",
            "_model_name": "HTMLModel",
            "_view_count": null,
            "_view_module": "@jupyter-widgets/controls",
            "_view_module_version": "1.5.0",
            "_view_name": "HTMLView",
            "description": "",
            "description_tooltip": null,
            "layout": "IPY_MODEL_87b0d871fc8d406ca9c59e8c12f15868",
            "placeholder": "​",
            "style": "IPY_MODEL_ebc0cf2b2ad3404bb9e7030a1d9507f4",
            "value": "Epoch 10: 100%"
          }
        },
        "4804c21ec8f444b0a9698d0f435d5af5": {
          "model_module": "@jupyter-widgets/controls",
          "model_name": "FloatProgressModel",
          "model_module_version": "1.5.0",
          "state": {
            "_dom_classes": [],
            "_model_module": "@jupyter-widgets/controls",
            "_model_module_version": "1.5.0",
            "_model_name": "FloatProgressModel",
            "_view_count": null,
            "_view_module": "@jupyter-widgets/controls",
            "_view_module_version": "1.5.0",
            "_view_name": "ProgressView",
            "bar_style": "success",
            "description": "",
            "description_tooltip": null,
            "layout": "IPY_MODEL_995ec26599f0471780d2abcc3c47e750",
            "max": 600,
            "min": 0,
            "orientation": "horizontal",
            "style": "IPY_MODEL_952c6f2273cc4b54b98941e7b764b43c",
            "value": 600
          }
        },
        "a3514a9d0709484c9fc6eb950f8ee382": {
          "model_module": "@jupyter-widgets/controls",
          "model_name": "HTMLModel",
          "model_module_version": "1.5.0",
          "state": {
            "_dom_classes": [],
            "_model_module": "@jupyter-widgets/controls",
            "_model_module_version": "1.5.0",
            "_model_name": "HTMLModel",
            "_view_count": null,
            "_view_module": "@jupyter-widgets/controls",
            "_view_module_version": "1.5.0",
            "_view_name": "HTMLView",
            "description": "",
            "description_tooltip": null,
            "layout": "IPY_MODEL_49d76c2bd26a4e85a427c2ff20a72647",
            "placeholder": "​",
            "style": "IPY_MODEL_e41a401ae17141e7a7d69e808b5cd4b8",
            "value": " 600/600 [00:12&lt;00:00, 50.44it/s]"
          }
        },
        "bfd9733e7ef04b96919b937bcc7d541f": {
          "model_module": "@jupyter-widgets/base",
          "model_name": "LayoutModel",
          "model_module_version": "1.2.0",
          "state": {
            "_model_module": "@jupyter-widgets/base",
            "_model_module_version": "1.2.0",
            "_model_name": "LayoutModel",
            "_view_count": null,
            "_view_module": "@jupyter-widgets/base",
            "_view_module_version": "1.2.0",
            "_view_name": "LayoutView",
            "align_content": null,
            "align_items": null,
            "align_self": null,
            "border": null,
            "bottom": null,
            "display": null,
            "flex": null,
            "flex_flow": null,
            "grid_area": null,
            "grid_auto_columns": null,
            "grid_auto_flow": null,
            "grid_auto_rows": null,
            "grid_column": null,
            "grid_gap": null,
            "grid_row": null,
            "grid_template_areas": null,
            "grid_template_columns": null,
            "grid_template_rows": null,
            "height": null,
            "justify_content": null,
            "justify_items": null,
            "left": null,
            "margin": null,
            "max_height": null,
            "max_width": null,
            "min_height": null,
            "min_width": null,
            "object_fit": null,
            "object_position": null,
            "order": null,
            "overflow": null,
            "overflow_x": null,
            "overflow_y": null,
            "padding": null,
            "right": null,
            "top": null,
            "visibility": null,
            "width": null
          }
        },
        "87b0d871fc8d406ca9c59e8c12f15868": {
          "model_module": "@jupyter-widgets/base",
          "model_name": "LayoutModel",
          "model_module_version": "1.2.0",
          "state": {
            "_model_module": "@jupyter-widgets/base",
            "_model_module_version": "1.2.0",
            "_model_name": "LayoutModel",
            "_view_count": null,
            "_view_module": "@jupyter-widgets/base",
            "_view_module_version": "1.2.0",
            "_view_name": "LayoutView",
            "align_content": null,
            "align_items": null,
            "align_self": null,
            "border": null,
            "bottom": null,
            "display": null,
            "flex": null,
            "flex_flow": null,
            "grid_area": null,
            "grid_auto_columns": null,
            "grid_auto_flow": null,
            "grid_auto_rows": null,
            "grid_column": null,
            "grid_gap": null,
            "grid_row": null,
            "grid_template_areas": null,
            "grid_template_columns": null,
            "grid_template_rows": null,
            "height": null,
            "justify_content": null,
            "justify_items": null,
            "left": null,
            "margin": null,
            "max_height": null,
            "max_width": null,
            "min_height": null,
            "min_width": null,
            "object_fit": null,
            "object_position": null,
            "order": null,
            "overflow": null,
            "overflow_x": null,
            "overflow_y": null,
            "padding": null,
            "right": null,
            "top": null,
            "visibility": null,
            "width": null
          }
        },
        "ebc0cf2b2ad3404bb9e7030a1d9507f4": {
          "model_module": "@jupyter-widgets/controls",
          "model_name": "DescriptionStyleModel",
          "model_module_version": "1.5.0",
          "state": {
            "_model_module": "@jupyter-widgets/controls",
            "_model_module_version": "1.5.0",
            "_model_name": "DescriptionStyleModel",
            "_view_count": null,
            "_view_module": "@jupyter-widgets/base",
            "_view_module_version": "1.2.0",
            "_view_name": "StyleView",
            "description_width": ""
          }
        },
        "995ec26599f0471780d2abcc3c47e750": {
          "model_module": "@jupyter-widgets/base",
          "model_name": "LayoutModel",
          "model_module_version": "1.2.0",
          "state": {
            "_model_module": "@jupyter-widgets/base",
            "_model_module_version": "1.2.0",
            "_model_name": "LayoutModel",
            "_view_count": null,
            "_view_module": "@jupyter-widgets/base",
            "_view_module_version": "1.2.0",
            "_view_name": "LayoutView",
            "align_content": null,
            "align_items": null,
            "align_self": null,
            "border": null,
            "bottom": null,
            "display": null,
            "flex": null,
            "flex_flow": null,
            "grid_area": null,
            "grid_auto_columns": null,
            "grid_auto_flow": null,
            "grid_auto_rows": null,
            "grid_column": null,
            "grid_gap": null,
            "grid_row": null,
            "grid_template_areas": null,
            "grid_template_columns": null,
            "grid_template_rows": null,
            "height": null,
            "justify_content": null,
            "justify_items": null,
            "left": null,
            "margin": null,
            "max_height": null,
            "max_width": null,
            "min_height": null,
            "min_width": null,
            "object_fit": null,
            "object_position": null,
            "order": null,
            "overflow": null,
            "overflow_x": null,
            "overflow_y": null,
            "padding": null,
            "right": null,
            "top": null,
            "visibility": null,
            "width": null
          }
        },
        "952c6f2273cc4b54b98941e7b764b43c": {
          "model_module": "@jupyter-widgets/controls",
          "model_name": "ProgressStyleModel",
          "model_module_version": "1.5.0",
          "state": {
            "_model_module": "@jupyter-widgets/controls",
            "_model_module_version": "1.5.0",
            "_model_name": "ProgressStyleModel",
            "_view_count": null,
            "_view_module": "@jupyter-widgets/base",
            "_view_module_version": "1.2.0",
            "_view_name": "StyleView",
            "bar_color": null,
            "description_width": ""
          }
        },
        "49d76c2bd26a4e85a427c2ff20a72647": {
          "model_module": "@jupyter-widgets/base",
          "model_name": "LayoutModel",
          "model_module_version": "1.2.0",
          "state": {
            "_model_module": "@jupyter-widgets/base",
            "_model_module_version": "1.2.0",
            "_model_name": "LayoutModel",
            "_view_count": null,
            "_view_module": "@jupyter-widgets/base",
            "_view_module_version": "1.2.0",
            "_view_name": "LayoutView",
            "align_content": null,
            "align_items": null,
            "align_self": null,
            "border": null,
            "bottom": null,
            "display": null,
            "flex": null,
            "flex_flow": null,
            "grid_area": null,
            "grid_auto_columns": null,
            "grid_auto_flow": null,
            "grid_auto_rows": null,
            "grid_column": null,
            "grid_gap": null,
            "grid_row": null,
            "grid_template_areas": null,
            "grid_template_columns": null,
            "grid_template_rows": null,
            "height": null,
            "justify_content": null,
            "justify_items": null,
            "left": null,
            "margin": null,
            "max_height": null,
            "max_width": null,
            "min_height": null,
            "min_width": null,
            "object_fit": null,
            "object_position": null,
            "order": null,
            "overflow": null,
            "overflow_x": null,
            "overflow_y": null,
            "padding": null,
            "right": null,
            "top": null,
            "visibility": null,
            "width": null
          }
        },
        "e41a401ae17141e7a7d69e808b5cd4b8": {
          "model_module": "@jupyter-widgets/controls",
          "model_name": "DescriptionStyleModel",
          "model_module_version": "1.5.0",
          "state": {
            "_model_module": "@jupyter-widgets/controls",
            "_model_module_version": "1.5.0",
            "_model_name": "DescriptionStyleModel",
            "_view_count": null,
            "_view_module": "@jupyter-widgets/base",
            "_view_module_version": "1.2.0",
            "_view_name": "StyleView",
            "description_width": ""
          }
        }
      }
    }
  },
  "nbformat": 4,
  "nbformat_minor": 5
}