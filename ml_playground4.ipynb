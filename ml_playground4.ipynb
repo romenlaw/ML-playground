{
  "cells": [
    {
      "cell_type": "markdown",
      "metadata": {
        "id": "view-in-github",
        "colab_type": "text"
      },
      "source": [
        "<a href=\"https://colab.research.google.com/github/romenlaw/ML-playground/blob/main/ml_playground4.ipynb\" target=\"_parent\"><img src=\"https://colab.research.google.com/assets/colab-badge.svg\" alt=\"Open In Colab\"/></a>"
      ]
    },
    {
      "cell_type": "code",
      "execution_count": 8,
      "id": "9c9135ee",
      "metadata": {
        "id": "9c9135ee"
      },
      "outputs": [],
      "source": [
        "import numpy as np\n",
        "import pandas as pd\n",
        "import matplotlib.pyplot as plt\n",
        "\n",
        "# Some functions to plot our points and draw the lines\n",
        "def plot_points(features, labels, point_size=25):\n",
        "  X = np.array(features)\n",
        "  y = np.array(labels)\n",
        "  spam = X[np.argwhere(y==1)]\n",
        "  ham = X[np.argwhere(y==0)]\n",
        "  plt.scatter([s[0][0] for s in spam],\n",
        "              [s[0][1] for s in spam],\n",
        "              s = point_size, color = 'cyan', edgecolor = 'k', marker = '^')\n",
        "  plt.scatter([s[0][0] for s in ham],\n",
        "              [s[0][1] for s in ham],\n",
        "              s = point_size, color = 'red', edgecolor = 'k', marker = 's')\n",
        "  plt.xlabel('x_1')\n",
        "  plt.ylabel('x_2')\n",
        "  plt.legend(['label 1','label 0'])"
      ]
    },
    {
      "cell_type": "markdown",
      "source": [
        "# Neural Network\n",
        "\n",
        "Neural network can be seen as compositions of linear classifiers that give rise to nonlinear classifiers.\n",
        "\n",
        "In low dimensions, the linear classifiers would look like lines or planes, and the nonlinear classifiers would look like complicated curves or surfaces."
      ],
      "metadata": {
        "id": "-XSSCuvxW5jZ"
      },
      "id": "-XSSCuvxW5jZ"
    },
    {
      "cell_type": "code",
      "source": [
        "# using the alien mood example\n",
        "alien_dataset = pd.DataFrame({\n",
        "  'aack':[1,2,0,0,1,1,2,2],\n",
        "  'beep':[0,0,1,2,1,2,1,2],\n",
        "  'happy': [0,0,0,0,1,1,1,1]})\n",
        "\n",
        "X = alien_dataset[['aack', 'beep']]\n",
        "y = alien_dataset['happy']"
      ],
      "metadata": {
        "id": "r3YaPDc8Xg7M"
      },
      "id": "r3YaPDc8Xg7M",
      "execution_count": 4,
      "outputs": []
    },
    {
      "cell_type": "code",
      "source": [
        "X, y"
      ],
      "metadata": {
        "id": "zzq7jtfMXzi1",
        "outputId": "d3c6e9d4-338b-4763-94cc-417efd7ce835",
        "colab": {
          "base_uri": "https://localhost:8080/"
        }
      },
      "id": "zzq7jtfMXzi1",
      "execution_count": 7,
      "outputs": [
        {
          "output_type": "execute_result",
          "data": {
            "text/plain": [
              "(   aack  beep\n",
              " 0     1     0\n",
              " 1     2     0\n",
              " 2     0     1\n",
              " 3     0     2\n",
              " 4     1     1\n",
              " 5     1     2\n",
              " 6     2     1\n",
              " 7     2     2,\n",
              " 0    0\n",
              " 1    0\n",
              " 2    0\n",
              " 3    0\n",
              " 4    1\n",
              " 5    1\n",
              " 6    1\n",
              " 7    1\n",
              " Name: happy, dtype: int64)"
            ]
          },
          "metadata": {},
          "execution_count": 7
        }
      ]
    },
    {
      "cell_type": "code",
      "source": [
        "plot_points(X, y, point_size=100)"
      ],
      "metadata": {
        "id": "_pbxomw5X4Nt",
        "outputId": "69dd6b43-dcc6-44cb-8be3-f4ed81bcb188",
        "colab": {
          "base_uri": "https://localhost:8080/",
          "height": 449
        }
      },
      "id": "_pbxomw5X4Nt",
      "execution_count": 11,
      "outputs": [
        {
          "output_type": "display_data",
          "data": {
            "text/plain": [
              "<Figure size 640x480 with 1 Axes>"
            ],
            "image/png": "[encoded data removed]"
          },
          "metadata": {}
        }
      ]
    }
  ],
  "metadata": {
    "kernelspec": {
      "display_name": "Python 3",
      "language": "python",
      "name": "python3"
    },
    "language_info": {
      "codemirror_mode": {
        "name": "ipython",
        "version": 3
      },
      "file_extension": ".py",
      "mimetype": "text/x-python",
      "name": "python",
      "nbconvert_exporter": "python",
      "pygments_lexer": "ipython3",
      "version": "3.8.10"
    },
    "colab": {
      "provenance": [],
      "toc_visible": true,
      "include_colab_link": true
    }
  },
  "nbformat": 4,
  "nbformat_minor": 5
}