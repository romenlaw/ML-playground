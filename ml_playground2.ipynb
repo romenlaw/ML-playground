{
  "cells": [
    {
      "cell_type": "markdown",
      "metadata": {
        "id": "view-in-github",
        "colab_type": "text"
      },
      "source": [
        "<a href=\"https://colab.research.google.com/github/romenlaw/ML-playground/blob/main/ml_playground2.ipynb\" target=\"_parent\"><img src=\"https://colab.research.google.com/assets/colab-badge.svg\" alt=\"Open In Colab\"/></a>"
      ]
    },
    {
      "cell_type": "code",
      "source": [
        "import random\n",
        "import numpy as np\n",
        "import matplotlib\n",
        "from matplotlib import pyplot as plt\n",
        "import pandas as pd\n",
        "from sklearn.preprocessing import PolynomialFeatures\n",
        "from sklearn.linear_model import LinearRegression, Lasso, Ridge, ElasticNet\n",
        "from sklearn.metrics import mean_squared_error, r2_score\n",
        "from sklearn.model_selection import train_test_split\n",
        "\n",
        "# Some functions to plot our points and draw the lines\n",
        "def plot_points(features, labels):\n",
        "  X = np.array(features)\n",
        "  y = np.array(labels)\n",
        "  spam = X[np.argwhere(y==1)]\n",
        "  ham = X[np.argwhere(y==0)]\n",
        "  plt.scatter([s[0][0] for s in spam],\n",
        "              [s[0][1] for s in spam],\n",
        "              s = 100,\n",
        "              color = 'cyan',\n",
        "              edgecolor = 'k',\n",
        "              marker = '^')\n",
        "  plt.scatter([s[0][0] for s in ham],\n",
        "              [s[0][1] for s in ham],\n",
        "              s = 100,\n",
        "              color = 'red',\n",
        "              edgecolor = 'k',\n",
        "              marker = 's')\n",
        "  plt.xlabel('aack')\n",
        "  plt.ylabel('beep')\n",
        "  plt.legend(['happy','sad'])\n",
        "\n",
        "def draw_line(a,b,c, starting=0, ending=3, **kwargs):\n",
        "  # Plotting the line ax + by + c = 0\n",
        "  x = np.linspace(starting, ending, 1000)\n",
        "  plt.plot(x, -c/b - a*x/b, **kwargs)"
      ],
      "metadata": {
        "id": "DIMiWK8LgJFn"
      },
      "id": "DIMiWK8LgJFn",
      "execution_count": 1,
      "outputs": []
    },
    {
      "cell_type": "markdown",
      "source": [
        "# Classification\n",
        "\n",
        "Regression models predict a number; whereas *classification* models predict a state or a category (drawing a line to separate our data points).\n",
        "\n",
        "*Perceptron* uses linear regression and is building block of neuro net.\n",
        "\n",
        "Instead of expressing a line with $y=mx+b$, we rewrite it into $w_1x_1+w_2x_2+b=0$\n",
        "The line divides the plane into two zones with LHS>=0 being the positive zone, LHS<0 the negative zone.\n",
        "\n",
        "If we want to flip the positive and negative zones, simplly change the sign of all the w and b in the equation.\n",
        "\n",
        "Step function (a specific case of activation function):\n",
        "* $step(x)=1 \\text{ if } x\\ge 0 $\n",
        "* $step(x)=0 \\text{ if } x\\lt 0 $\n",
        "\n",
        "The perceptron can be expressed with step function - the perceptron produces 1 if point is in positive zone; 0 if in negative zone:\n",
        "$$\\hat{y}=step(w_1x_1+w_2x_2+b)$$\n",
        "\n",
        "The bias / intercept term basically gives the result for when w's are 0. i.e. in the alien sentiment example, it's the sentiment of a quiet alien (no words are said).\n",
        "\n",
        "## Error function\n",
        "\n",
        "Intuitively, we can sum up the distance of wrongly classified points and the dividing line. But this is not used because it's complicated to calculate the distance: the square root has complicated derivative.\n",
        "\n",
        "So instead we use a *score* with these properties:\n",
        "1. points on boundary, score=0\n",
        "2. points in +zone, score>0\n",
        "3. points in -zone, score<0\n",
        "4. points close to boundary, |score| is small\n",
        "5. points far from boundary, |score| is large\n",
        "\n",
        "The *perceptron error* should be proportional to the distance between point and boundary. The perceptron for a point is defined as:\n",
        "1. if point is correctly classified, error=0\n",
        "2. if point is misclassified, $\\text{error}=|w_1x_1+w_2x_2+\\ldots+w_nx_n+b|=| w\\cdotp x + b |$\n",
        "\n",
        "The derivitives of the error:\n",
        "* $\\frac{\\delta \\text{error}}{\\delta w}=x$\n",
        "* $\\frac{\\delta \\text{error}}{\\delta b}=1$\n",
        "\n",
        "The *mean perceptron error* (i.e. the error for entire dataset) = average of perceptron errors of all points."
      ],
      "metadata": {
        "id": "P_E2NWudyiW9"
      },
      "id": "P_E2NWudyiW9"
    },
    {
      "cell_type": "markdown",
      "source": [
        "## Perceptron Algorithm\n",
        "\n",
        "Using the happy/sad alien as an example. They have two words (Ha, Boo) in their vocab (i.e. features is 2-dim)."
      ],
      "metadata": {
        "id": "eFwb38uNXg3f"
      },
      "id": "eFwb38uNXg3f"
    },
    {
      "cell_type": "code",
      "source": [
        "# we have 8 data points and their labels in the dataset\n",
        "features = np.array([[1,0],[0,2],[1,1],[1,2],[1,3],[2,2],[2,3],[3,2]])\n",
        "labels = np.array([0,0,0,0,1,1,1,1])\n",
        "\n",
        "# printing the dataset in table\n",
        "df = pd.DataFrame({\n",
        "    'Ha' : features[:,0],\n",
        "    'Boo' : features[:,1],\n",
        "    'Happy(1)/Sad(0)': labels\n",
        "})\n",
        "print(df)\n",
        "\n",
        "# Plotting the points\n",
        "plot_points(features, labels)\n",
        "\n",
        "# Uncomment the following line to see a good line fit for this data.\n",
        "draw_line(1,1,-3.5)"
      ],
      "metadata": {
        "id": "1WaxiNwLjLv5",
        "outputId": "e543b903-4cde-4ab6-d776-cbec5541131a",
        "colab": {
          "base_uri": "https://localhost:8080/",
          "height": 605
        }
      },
      "id": "1WaxiNwLjLv5",
      "execution_count": 4,
      "outputs": [
        {
          "output_type": "stream",
          "name": "stdout",
          "text": [
            "   Ha  Boo  Happy(1)/Sad(0)\n",
            "0   1    0                0\n",
            "1   0    2                0\n",
            "2   1    1                0\n",
            "3   1    2                0\n",
            "4   1    3                1\n",
            "5   2    2                1\n",
            "6   2    3                1\n",
            "7   3    2                1\n"
          ]
        },
        {
          "output_type": "display_data",
          "data": {
            "text/plain": [
              "<Figure size 640x480 with 1 Axes>"
            ],
            "image/png": "[encoded data removed]"
          },
          "metadata": {}
        }
      ]
    },
    {
      "cell_type": "code",
      "source": [
        "def step(x):\n",
        "  return 1 if x>=0 else 0\n",
        "\n",
        "def score(weights, bias, features):\n",
        "  return np.dot(features, weights) + bias\n",
        "\n",
        "def prediction(weights, bias, features):\n",
        "  return step(score(weights, bias, features))\n",
        "\n",
        "def error(weights, bias, features, label):\n",
        "  pred = prediction(weights, bias, features)\n",
        "  if pred == label:\n",
        "    return 0\n",
        "  else:\n",
        "    return np.abs(score(weights, bias, features))\n",
        "\n",
        "\n"
      ],
      "metadata": {
        "id": "vhRCysWPlzCu"
      },
      "id": "vhRCysWPlzCu",
      "execution_count": null,
      "outputs": []
    }
  ],
  "metadata": {
    "kernelspec": {
      "display_name": "Python 3",
      "language": "python",
      "name": "python3"
    },
    "language_info": {
      "codemirror_mode": {
        "name": "ipython",
        "version": 3
      },
      "file_extension": ".py",
      "mimetype": "text/x-python",
      "name": "python",
      "nbconvert_exporter": "python",
      "pygments_lexer": "ipython3",
      "version": "3.8.10"
    },
    "colab": {
      "provenance": [],
      "toc_visible": true,
      "include_colab_link": true
    }
  },
  "nbformat": 4,
  "nbformat_minor": 5
}