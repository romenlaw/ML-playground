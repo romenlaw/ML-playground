{
  "cells": [
    {
      "cell_type": "markdown",
      "metadata": {
        "id": "view-in-github",
        "colab_type": "text"
      },
      "source": [
        "<a href=\"https://colab.research.google.com/github/romenlaw/ML-playground/blob/main/ml_playground2.ipynb\" target=\"_parent\"><img src=\"https://colab.research.google.com/assets/colab-badge.svg\" alt=\"Open In Colab\"/></a>"
      ]
    },
    {
      "cell_type": "code",
      "source": [
        "import random\n",
        "import numpy as np\n",
        "import matplotlib\n",
        "from matplotlib import pyplot as plt\n",
        "import pandas as pd\n",
        "from sklearn.preprocessing import PolynomialFeatures\n",
        "from sklearn.linear_model import LinearRegression, Lasso, Ridge, ElasticNet\n",
        "from sklearn.metrics import mean_squared_error, r2_score\n",
        "from sklearn.model_selection import train_test_split"
      ],
      "metadata": {
        "id": "DIMiWK8LgJFn"
      },
      "id": "DIMiWK8LgJFn",
      "execution_count": null,
      "outputs": []
    },
    {
      "cell_type": "markdown",
      "source": [
        "# Classification\n",
        "\n",
        "Regression models predict a number; whereas *classification* models predict a state or a category (drawing a line to separate our data points).\n",
        "\n",
        "*Perceptron* uses linear regression and is building block of neuro net.\n",
        "\n",
        "Instead of expressing a line with $y=mx+b$, we rewrite it into $w_1x_1+w_2x_2+b=0$\n",
        "The line divides the plane into two zones with LHS>=0 being the positive zone, LHS<0 the negative zone.\n",
        "\n",
        "If we want to flip the positive and negative zones, simplly change the sign of all the w and b in the equation.\n",
        "\n",
        "Step function (a specific case of activation function):\n",
        "* $step(x)=1 \\text{ if } x\\ge 0 $\n",
        "* $step(x)=0 \\text{ if } x\\lt 0 $\n",
        "\n",
        "The perceptron can be expressed with step function:\n",
        "$$\\hat{y}=step(w_1x_1+w_2x_2+b)$$\n",
        "\n",
        "The bias / intercept term basically gives the result for when w's are 0. i.e. in the alien sentiment example, it's the sentiment of a quiet alien (no words are said).\n",
        "\n",
        "## Error function"
      ],
      "metadata": {
        "id": "P_E2NWudyiW9"
      },
      "id": "P_E2NWudyiW9"
    }
  ],
  "metadata": {
    "kernelspec": {
      "display_name": "Python 3",
      "language": "python",
      "name": "python3"
    },
    "language_info": {
      "codemirror_mode": {
        "name": "ipython",
        "version": 3
      },
      "file_extension": ".py",
      "mimetype": "text/x-python",
      "name": "python",
      "nbconvert_exporter": "python",
      "pygments_lexer": "ipython3",
      "version": "3.8.10"
    },
    "colab": {
      "provenance": [],
      "toc_visible": true,
      "include_colab_link": true
    }
  },
  "nbformat": 4,
  "nbformat_minor": 5
}