{
  "cells": [
    {
      "cell_type": "markdown",
      "metadata": {
        "id": "view-in-github",
        "colab_type": "text"
      },
      "source": [
        "<a href=\"https://colab.research.google.com/github/romenlaw/ML-playground/blob/main/ml_playground5.ipynb\" target=\"_parent\"><img src=\"https://colab.research.google.com/assets/colab-badge.svg\" alt=\"Open In Colab\"/></a>"
      ]
    },
    {
      "cell_type": "code",
      "source": [
        "!rm -f data/*\n",
        "!wget -nv -P data https://raw.githubusercontent.com/luisguiserrano/manning/master/Chapter_11_Support_Vector_Machines/linear.csv\n",
        "!wget -nv -P data https://raw.githubusercontent.com/luisguiserrano/manning/master/Chapter_11_Support_Vector_Machines/one_circle.csv\n",
        "!wget -nv -P data https://raw.githubusercontent.com/luisguiserrano/manning/master/Chapter_11_Support_Vector_Machines/two_circles.csv\n",
        "!ls -al data\n",
        "!wc -l data/*.csv"
      ],
      "metadata": {
        "colab": {
          "base_uri": "https://localhost:8080/"
        },
        "id": "9iiuwnVklj9Y",
        "outputId": "098337d3-afad-48c3-8627-a4967cc0e0d2"
      },
      "id": "9iiuwnVklj9Y",
      "execution_count": 1,
      "outputs": [
        {
          "output_type": "stream",
          "name": "stdout",
          "text": [
            "2025-03-08 00:15:58 URL:https://raw.githubusercontent.com/luisguiserrano/manning/master/Chapter_11_Support_Vector_Machines/linear.csv [2617/2617] -> \"data/linear.csv\" [1]\n",
            "2025-03-08 00:15:58 URL:https://raw.githubusercontent.com/luisguiserrano/manning/master/Chapter_11_Support_Vector_Machines/one_circle.csv [4820/4820] -> \"data/one_circle.csv\" [1]\n",
            "2025-03-08 00:15:58 URL:https://raw.githubusercontent.com/luisguiserrano/manning/master/Chapter_11_Support_Vector_Machines/two_circles.csv [9726/9726] -> \"data/two_circles.csv\" [1]\n",
            "total 32\n",
            "drwxr-xr-x 2 root root 4096 Mar  8 00:15 .\n",
            "drwxr-xr-x 1 root root 4096 Mar  8 00:15 ..\n",
            "-rw-r--r-- 1 root root 2617 Mar  8 00:15 linear.csv\n",
            "-rw-r--r-- 1 root root 4820 Mar  8 00:15 one_circle.csv\n",
            "-rw-r--r-- 1 root root 9726 Mar  8 00:15 two_circles.csv\n",
            "   61 data/linear.csv\n",
            "  111 data/one_circle.csv\n",
            "  221 data/two_circles.csv\n",
            "  393 total\n"
          ]
        }
      ]
    },
    {
      "cell_type": "code",
      "execution_count": 18,
      "id": "9c9135ee",
      "metadata": {
        "id": "9c9135ee"
      },
      "outputs": [],
      "source": [
        "import numpy as np\n",
        "import pandas as pd\n",
        "import matplotlib.pyplot as plt\n",
        "import tensorflow as tf\n",
        "import torch\n",
        "\n",
        "# Some functions to plot our points and draw the lines\n",
        "# Some functions to plot our points and draw the lines\n",
        "def plot_points(features, labels, point_size=25, ax=None):\n",
        "  X = np.array(features)\n",
        "  y = np.array(labels)\n",
        "  spam = X[np.argwhere(y==1)]\n",
        "  ham = X[np.argwhere(y==0)]\n",
        "  if ax is None:\n",
        "    p=plt\n",
        "    p.xlabel('aha')\n",
        "    p.ylabel('boo')\n",
        "  else:\n",
        "    p=ax\n",
        "    p.set_xlabel('aha')\n",
        "    p.set_ylabel('boo')\n",
        "  p.scatter([s[0][0] for s in spam],\n",
        "            [s[0][1] for s in spam],\n",
        "            s = point_size,\n",
        "            color = 'cyan',\n",
        "            edgecolor = 'k',\n",
        "            marker = '^')\n",
        "  p.scatter([s[0][0] for s in ham],\n",
        "            [s[0][1] for s in ham],\n",
        "            s = point_size,\n",
        "            color = 'red',\n",
        "            edgecolor = 'k',\n",
        "            marker = 's')\n",
        "  p.legend(['happy','sad'])\n",
        "\n",
        "# f = lambda x: int(x[1]>x[0])\n",
        "# def g(Z):\n",
        "#   return np.array([f(i) for i in Z])\n",
        "def plot_keras_model(X, y, model, ax=None):\n",
        "  X = np.array(X)\n",
        "  y = np.array(y)\n",
        "  plot_step = 0.01\n",
        "  x_min, x_max = X[:, 0].min() - 1, X[:, 0].max() + 1\n",
        "  y_min, y_max = X[:, 1].min() - 1, X[:, 1].max() + 1\n",
        "  xx, yy = np.meshgrid(np.arange(x_min, x_max, plot_step),\n",
        "                       np.arange(y_min, y_max, plot_step))\n",
        "  Z = model.predict(np.c_[xx.ravel(), yy.ravel()])\n",
        "  Z = Z.reshape(xx.shape)\n",
        "  if ax is None:\n",
        "    plt.contour(xx, yy, Z, colors = 'k',linewidths = 1, levels=0)\n",
        "    plot_points(X, y)\n",
        "    plt.contourf(xx, yy, Z, colors=['red', 'blue'], alpha=0.2, levels=range(-1,2))\n",
        "    plt.show()\n",
        "  else:\n",
        "    ax.contour(xx, yy, Z, colors = 'k',linewidths = 1, levels=0)\n",
        "    plot_points(X, y, ax=ax)\n",
        "    ax.contourf(xx, yy, Z, colors=['red', 'blue'], alpha=0.2, levels=range(-1,2))\n",
        "\n",
        "def plot_torch_model(X, y, model, ax=None):\n",
        "  X = np.array(X)\n",
        "  y = np.array(y)\n",
        "  plot_step = 0.2\n",
        "  x_min, x_max = X[:, 0].min() - 1, X[:, 0].max() + 1\n",
        "  y_min, y_max = X[:, 1].min() - 1, X[:, 1].max() + 1\n",
        "  xx, yy = np.meshgrid(np.arange(x_min, x_max, plot_step),\n",
        "                        np.arange(y_min, y_max, plot_step))\n",
        "  Z = model(torch.tensor(np.c_[xx.ravel(), yy.ravel()], dtype=torch.float32))\n",
        "  Z = Z.reshape(xx.shape)\n",
        "  if ax is None:\n",
        "    plt.contour(xx, yy, Z, colors = 'k',linewidths = 1, levels=0)\n",
        "    plot_points(X, y)\n",
        "    plt.contourf(xx, yy, Z, colors=['red', 'blue'], alpha=0.2, levels=range(-1,2))\n",
        "    plt.show()\n",
        "  else:\n",
        "    ax.contour(xx, yy, Z, colors = 'k',linewidths = 1, levels=0)\n",
        "    plot_points(X, y, ax=ax)\n",
        "    ax.contourf(xx, yy, Z, colors=['red', 'blue'], alpha=0.2, levels=range(-1,2))"
      ]
    },
    {
      "cell_type": "markdown",
      "source": [
        "# SVM\n",
        "Support Vector Machine - line that is as far from the points as possible in a discrete classifier.\n",
        "\n",
        "To train an SVM, we need to build an error function for a classifier consisting of two (paralell) lines, spaced as far apart as possible.\n",
        "1. Each of the two lines should classify the points as best as possible\n",
        "2. The two lines should be as far away from each other as possible\n",
        "\n",
        "Hence, the error function can look like this: Error = classification error + distance error\n",
        "* classification error function: sum of |score1|+|score2| where score1 and 2 are the score of each line, respectively (i.e. $|W\\cdot X+b_1| + |W\\cdot X+b_2|$ for linear classifier)\n",
        "* the perpandicular distance between 2 paralell lines $w_1x_1+w_2x_2+b_1=0$ and $w_1x_1+w_2x_2+b_1=0$ is $\\frac{2}{\\sqrt{w_1^2+w_2^2}}$. i.e. dot product of W: $\\frac{n}{\\sqrt{W\\cdot W}}$, where $n$ is dim of W. The bigger the distance, the better the classifier.\n",
        "\n",
        "Do we want the SVM to focus more on classification or distance? the *C parameter* (C=1 same focus on each; C>1 more on classification; C<1 more on distance): $Error = C(ClassifierError)+DistanceError$"
      ],
      "metadata": {
        "id": "5N4o7rah0r4v"
      },
      "id": "5N4o7rah0r4v"
    },
    {
      "cell_type": "markdown",
      "source": [
        "## Linear example"
      ],
      "metadata": {
        "id": "UWai8a1FHbeR"
      },
      "id": "UWai8a1FHbeR"
    },
    {
      "cell_type": "code",
      "source": [
        "df = pd.read_csv('data/linear.csv')\n",
        "df[:10]"
      ],
      "metadata": {
        "colab": {
          "base_uri": "https://localhost:8080/",
          "height": 363
        },
        "id": "s9LeB28nHeD3",
        "outputId": "65824edc-032c-45ef-c6cb-ced16fc45077"
      },
      "id": "s9LeB28nHeD3",
      "execution_count": 4,
      "outputs": [
        {
          "output_type": "execute_result",
          "data": {
            "text/plain": [
              "   Unnamed: 0       x_1       x_2  y\n",
              "0           0 -2.921542 -2.924093  0\n",
              "1           1  0.136782  0.540402  1\n",
              "2           2  2.747296  1.547237  1\n",
              "3           3 -2.780707 -2.673131  0\n",
              "4           4  2.030421  1.329452  1\n",
              "5           5 -0.314170 -2.591670  0\n",
              "6           6 -1.896219 -0.516953  0\n",
              "7           7  1.432148  0.841080  1\n",
              "8           8  0.885989  2.424742  1\n",
              "9           9 -2.634456  1.428708  0"
            ],
            "text/html": [
              "\n",
              "  <div id=\"df-0141cf99-7a7a-4364-af7e-fdf0e8712d83\" class=\"colab-df-container\">\n",
              "    <div>\n",
              "<style scoped>\n",
              "    .dataframe tbody tr th:only-of-type {\n",
              "        vertical-align: middle;\n",
              "    }\n",
              "\n",
              "    .dataframe tbody tr th {\n",
              "        vertical-align: top;\n",
              "    }\n",
              "\n",
              "    .dataframe thead th {\n",
              "        text-align: right;\n",
              "    }\n",
              "</style>\n",
              "<table border=\"1\" class=\"dataframe\">\n",
              "  <thead>\n",
              "    <tr style=\"text-align: right;\">\n",
              "      <th></th>\n",
              "      <th>Unnamed: 0</th>\n",
              "      <th>x_1</th>\n",
              "      <th>x_2</th>\n",
              "      <th>y</th>\n",
              "    </tr>\n",
              "  </thead>\n",
              "  <tbody>\n",
              "    <tr>\n",
              "      <th>0</th>\n",
              "      <td>0</td>\n",
              "      <td>-2.921542</td>\n",
              "      <td>-2.924093</td>\n",
              "      <td>0</td>\n",
              "    </tr>\n",
              "    <tr>\n",
              "      <th>1</th>\n",
              "      <td>1</td>\n",
              "      <td>0.136782</td>\n",
              "      <td>0.540402</td>\n",
              "      <td>1</td>\n",
              "    </tr>\n",
              "    <tr>\n",
              "      <th>2</th>\n",
              "      <td>2</td>\n",
              "      <td>2.747296</td>\n",
              "      <td>1.547237</td>\n",
              "      <td>1</td>\n",
              "    </tr>\n",
              "    <tr>\n",
              "      <th>3</th>\n",
              "      <td>3</td>\n",
              "      <td>-2.780707</td>\n",
              "      <td>-2.673131</td>\n",
              "      <td>0</td>\n",
              "    </tr>\n",
              "    <tr>\n",
              "      <th>4</th>\n",
              "      <td>4</td>\n",
              "      <td>2.030421</td>\n",
              "      <td>1.329452</td>\n",
              "      <td>1</td>\n",
              "    </tr>\n",
              "    <tr>\n",
              "      <th>5</th>\n",
              "      <td>5</td>\n",
              "      <td>-0.314170</td>\n",
              "      <td>-2.591670</td>\n",
              "      <td>0</td>\n",
              "    </tr>\n",
              "    <tr>\n",
              "      <th>6</th>\n",
              "      <td>6</td>\n",
              "      <td>-1.896219</td>\n",
              "      <td>-0.516953</td>\n",
              "      <td>0</td>\n",
              "    </tr>\n",
              "    <tr>\n",
              "      <th>7</th>\n",
              "      <td>7</td>\n",
              "      <td>1.432148</td>\n",
              "      <td>0.841080</td>\n",
              "      <td>1</td>\n",
              "    </tr>\n",
              "    <tr>\n",
              "      <th>8</th>\n",
              "      <td>8</td>\n",
              "      <td>0.885989</td>\n",
              "      <td>2.424742</td>\n",
              "      <td>1</td>\n",
              "    </tr>\n",
              "    <tr>\n",
              "      <th>9</th>\n",
              "      <td>9</td>\n",
              "      <td>-2.634456</td>\n",
              "      <td>1.428708</td>\n",
              "      <td>0</td>\n",
              "    </tr>\n",
              "  </tbody>\n",
              "</table>\n",
              "</div>\n",
              "    <div class=\"colab-df-buttons\">\n",
              "\n",
              "  <div class=\"colab-df-container\">\n",
              "    <button class=\"colab-df-convert\" onclick=\"convertToInteractive('df-0141cf99-7a7a-4364-af7e-fdf0e8712d83')\"\n",
              "            title=\"Convert this dataframe to an interactive table.\"\n",
              "            style=\"display:none;\">\n",
              "\n",
              "  <svg xmlns=\"http://www.w3.org/2000/svg\" height=\"24px\" viewBox=\"0 -960 960 960\">\n",
              "    <path d=\"M120-120v-720h720v720H120Zm60-500h600v-160H180v160Zm220 220h160v-160H400v160Zm0 220h160v-160H400v160ZM180-400h160v-160H180v160Zm440 0h160v-160H620v160ZM180-180h160v-160H180v160Zm440 0h160v-160H620v160Z\"/>\n",
              "  </svg>\n",
              "    </button>\n",
              "\n",
              "  <style>\n",
              "    .colab-df-container {\n",
              "      display:flex;\n",
              "      gap: 12px;\n",
              "    }\n",
              "\n",
              "    .colab-df-convert {\n",
              "      background-color: #E8F0FE;\n",
              "      border: none;\n",
              "      border-radius: 50%;\n",
              "      cursor: pointer;\n",
              "      display: none;\n",
              "      fill: #1967D2;\n",
              "      height: 32px;\n",
              "      padding: 0 0 0 0;\n",
              "      width: 32px;\n",
              "    }\n",
              "\n",
              "    .colab-df-convert:hover {\n",
              "      background-color: #E2EBFA;\n",
              "      box-shadow: 0px 1px 2px rgba(60, 64, 67, 0.3), 0px 1px 3px 1px rgba(60, 64, 67, 0.15);\n",
              "      fill: #174EA6;\n",
              "    }\n",
              "\n",
              "    .colab-df-buttons div {\n",
              "      margin-bottom: 4px;\n",
              "    }\n",
              "\n",
              "    [theme=dark] .colab-df-convert {\n",
              "      background-color: #3B4455;\n",
              "      fill: #D2E3FC;\n",
              "    }\n",
              "\n",
              "    [theme=dark] .colab-df-convert:hover {\n",
              "      background-color: #434B5C;\n",
              "      box-shadow: 0px 1px 3px 1px rgba(0, 0, 0, 0.15);\n",
              "      filter: drop-shadow(0px 1px 2px rgba(0, 0, 0, 0.3));\n",
              "      fill: #FFFFFF;\n",
              "    }\n",
              "  </style>\n",
              "\n",
              "    <script>\n",
              "      const buttonEl =\n",
              "        document.querySelector('#df-0141cf99-7a7a-4364-af7e-fdf0e8712d83 button.colab-df-convert');\n",
              "      buttonEl.style.display =\n",
              "        google.colab.kernel.accessAllowed ? 'block' : 'none';\n",
              "\n",
              "      async function convertToInteractive(key) {\n",
              "        const element = document.querySelector('#df-0141cf99-7a7a-4364-af7e-fdf0e8712d83');\n",
              "        const dataTable =\n",
              "          await google.colab.kernel.invokeFunction('convertToInteractive',\n",
              "                                                    [key], {});\n",
              "        if (!dataTable) return;\n",
              "\n",
              "        const docLinkHtml = 'Like what you see? Visit the ' +\n",
              "          '<a target=\"_blank\" href=https://colab.research.google.com/notebooks/data_table.ipynb>data table notebook</a>'\n",
              "          + ' to learn more about interactive tables.';\n",
              "        element.innerHTML = '';\n",
              "        dataTable['output_type'] = 'display_data';\n",
              "        await google.colab.output.renderOutput(dataTable, element);\n",
              "        const docLink = document.createElement('div');\n",
              "        docLink.innerHTML = docLinkHtml;\n",
              "        element.appendChild(docLink);\n",
              "      }\n",
              "    </script>\n",
              "  </div>\n",
              "\n",
              "\n",
              "<div id=\"df-12f0fe5c-3780-4143-bbf2-d256c14acf3c\">\n",
              "  <button class=\"colab-df-quickchart\" onclick=\"quickchart('df-12f0fe5c-3780-4143-bbf2-d256c14acf3c')\"\n",
              "            title=\"Suggest charts\"\n",
              "            style=\"display:none;\">\n",
              "\n",
              "<svg xmlns=\"http://www.w3.org/2000/svg\" height=\"24px\"viewBox=\"0 0 24 24\"\n",
              "     width=\"24px\">\n",
              "    <g>\n",
              "        <path d=\"M19 3H5c-1.1 0-2 .9-2 2v14c0 1.1.9 2 2 2h14c1.1 0 2-.9 2-2V5c0-1.1-.9-2-2-2zM9 17H7v-7h2v7zm4 0h-2V7h2v10zm4 0h-2v-4h2v4z\"/>\n",
              "    </g>\n",
              "</svg>\n",
              "  </button>\n",
              "\n",
              "<style>\n",
              "  .colab-df-quickchart {\n",
              "      --bg-color: #E8F0FE;\n",
              "      --fill-color: #1967D2;\n",
              "      --hover-bg-color: #E2EBFA;\n",
              "      --hover-fill-color: #174EA6;\n",
              "      --disabled-fill-color: #AAA;\n",
              "      --disabled-bg-color: #DDD;\n",
              "  }\n",
              "\n",
              "  [theme=dark] .colab-df-quickchart {\n",
              "      --bg-color: #3B4455;\n",
              "      --fill-color: #D2E3FC;\n",
              "      --hover-bg-color: #434B5C;\n",
              "      --hover-fill-color: #FFFFFF;\n",
              "      --disabled-bg-color: #3B4455;\n",
              "      --disabled-fill-color: #666;\n",
              "  }\n",
              "\n",
              "  .colab-df-quickchart {\n",
              "    background-color: var(--bg-color);\n",
              "    border: none;\n",
              "    border-radius: 50%;\n",
              "    cursor: pointer;\n",
              "    display: none;\n",
              "    fill: var(--fill-color);\n",
              "    height: 32px;\n",
              "    padding: 0;\n",
              "    width: 32px;\n",
              "  }\n",
              "\n",
              "  .colab-df-quickchart:hover {\n",
              "    background-color: var(--hover-bg-color);\n",
              "    box-shadow: 0 1px 2px rgba(60, 64, 67, 0.3), 0 1px 3px 1px rgba(60, 64, 67, 0.15);\n",
              "    fill: var(--button-hover-fill-color);\n",
              "  }\n",
              "\n",
              "  .colab-df-quickchart-complete:disabled,\n",
              "  .colab-df-quickchart-complete:disabled:hover {\n",
              "    background-color: var(--disabled-bg-color);\n",
              "    fill: var(--disabled-fill-color);\n",
              "    box-shadow: none;\n",
              "  }\n",
              "\n",
              "  .colab-df-spinner {\n",
              "    border: 2px solid var(--fill-color);\n",
              "    border-color: transparent;\n",
              "    border-bottom-color: var(--fill-color);\n",
              "    animation:\n",
              "      spin 1s steps(1) infinite;\n",
              "  }\n",
              "\n",
              "  @keyframes spin {\n",
              "    0% {\n",
              "      border-color: transparent;\n",
              "      border-bottom-color: var(--fill-color);\n",
              "      border-left-color: var(--fill-color);\n",
              "    }\n",
              "    20% {\n",
              "      border-color: transparent;\n",
              "      border-left-color: var(--fill-color);\n",
              "      border-top-color: var(--fill-color);\n",
              "    }\n",
              "    30% {\n",
              "      border-color: transparent;\n",
              "      border-left-color: var(--fill-color);\n",
              "      border-top-color: var(--fill-color);\n",
              "      border-right-color: var(--fill-color);\n",
              "    }\n",
              "    40% {\n",
              "      border-color: transparent;\n",
              "      border-right-color: var(--fill-color);\n",
              "      border-top-color: var(--fill-color);\n",
              "    }\n",
              "    60% {\n",
              "      border-color: transparent;\n",
              "      border-right-color: var(--fill-color);\n",
              "    }\n",
              "    80% {\n",
              "      border-color: transparent;\n",
              "      border-right-color: var(--fill-color);\n",
              "      border-bottom-color: var(--fill-color);\n",
              "    }\n",
              "    90% {\n",
              "      border-color: transparent;\n",
              "      border-bottom-color: var(--fill-color);\n",
              "    }\n",
              "  }\n",
              "</style>\n",
              "\n",
              "  <script>\n",
              "    async function quickchart(key) {\n",
              "      const quickchartButtonEl =\n",
              "        document.querySelector('#' + key + ' button');\n",
              "      quickchartButtonEl.disabled = true;  // To prevent multiple clicks.\n",
              "      quickchartButtonEl.classList.add('colab-df-spinner');\n",
              "      try {\n",
              "        const charts = await google.colab.kernel.invokeFunction(\n",
              "            'suggestCharts', [key], {});\n",
              "      } catch (error) {\n",
              "        console.error('Error during call to suggestCharts:', error);\n",
              "      }\n",
              "      quickchartButtonEl.classList.remove('colab-df-spinner');\n",
              "      quickchartButtonEl.classList.add('colab-df-quickchart-complete');\n",
              "    }\n",
              "    (() => {\n",
              "      let quickchartButtonEl =\n",
              "        document.querySelector('#df-12f0fe5c-3780-4143-bbf2-d256c14acf3c button');\n",
              "      quickchartButtonEl.style.display =\n",
              "        google.colab.kernel.accessAllowed ? 'block' : 'none';\n",
              "    })();\n",
              "  </script>\n",
              "</div>\n",
              "\n",
              "    </div>\n",
              "  </div>\n"
            ],
            "application/vnd.google.colaboratory.intrinsic+json": {
              "type": "dataframe",
              "summary": "{\n  \"name\": \"df[:10]\",\n  \"rows\": 10,\n  \"fields\": [\n    {\n      \"column\": \"Unnamed: 0\",\n      \"properties\": {\n        \"dtype\": \"number\",\n        \"std\": 3,\n        \"min\": 0,\n        \"max\": 9,\n        \"num_unique_values\": 10,\n        \"samples\": [\n          8,\n          1,\n          5\n        ],\n        \"semantic_type\": \"\",\n        \"description\": \"\"\n      }\n    },\n    {\n      \"column\": \"x_1\",\n      \"properties\": {\n        \"dtype\": \"number\",\n        \"std\": 2.1168336737184723,\n        \"min\": -2.9215421587612864,\n        \"max\": 2.7472957442884027,\n        \"num_unique_values\": 10,\n        \"samples\": [\n          0.8859891385888985,\n          0.1367823452479766,\n          -0.314170015192591\n        ],\n        \"semantic_type\": \"\",\n        \"description\": \"\"\n      }\n    },\n    {\n      \"column\": \"x_2\",\n      \"properties\": {\n        \"dtype\": \"number\",\n        \"std\": 1.9923756174946163,\n        \"min\": -2.924092758749856,\n        \"max\": 2.4247415377997505,\n        \"num_unique_values\": 10,\n        \"samples\": [\n          2.4247415377997505,\n          0.5404018260196919,\n          -2.591670461555064\n        ],\n        \"semantic_type\": \"\",\n        \"description\": \"\"\n      }\n    },\n    {\n      \"column\": \"y\",\n      \"properties\": {\n        \"dtype\": \"number\",\n        \"std\": 0,\n        \"min\": 0,\n        \"max\": 1,\n        \"num_unique_values\": 2,\n        \"samples\": [\n          1,\n          0\n        ],\n        \"semantic_type\": \"\",\n        \"description\": \"\"\n      }\n    }\n  ]\n}"
            }
          },
          "metadata": {},
          "execution_count": 4
        }
      ]
    },
    {
      "cell_type": "code",
      "source": [
        "features = df[['x_1', 'x_2']]\n",
        "labels = df['y']\n",
        "plot_points(features, labels)"
      ],
      "metadata": {
        "colab": {
          "base_uri": "https://localhost:8080/",
          "height": 449
        },
        "id": "N_vDRRfLHxQl",
        "outputId": "80d09daa-d1fa-466c-f7af-8883ba3a9eb2"
      },
      "id": "N_vDRRfLHxQl",
      "execution_count": 14,
      "outputs": [
        {
          "output_type": "display_data",
          "data": {
            "text/plain": [
              "<Figure size 640x480 with 1 Axes>"
            ],
            "image/png": "[encoded data removed]"
          },
          "metadata": {}
        }
      ]
    },
    {
      "cell_type": "code",
      "source": [
        "from sklearn.svm import SVC\n",
        "\n",
        "svm_linear = SVC(kernel='linear')\n",
        "svm_linear.fit(features, labels)\n",
        "print('Accuracy: (C=1)', svm_linear.score(features, labels))\n",
        "\n",
        "svm_linear_001 = SVC(kernel='linear', C=0.01)\n",
        "svm_linear_001.fit(features, labels)\n",
        "print('Accuracy: (C=0.01)', svm_linear_001.score(features, labels))\n",
        "\n",
        "svm_linear_100 = SVC(kernel='linear', C=100)\n",
        "svm_linear_100.fit(features, labels)\n",
        "print('Accuracy: (C=100)', svm_linear_100.score(features, labels))\n",
        "\n",
        "# f = lambda x: int(x[1]>x[0])\n",
        "# def g(Z):\n",
        "#   return np.array([f(i) for i in Z])\n",
        "\n",
        "fig, (ax1, ax2, ax3) = plt.subplots(1,3, figsize=(10,3))\n",
        "plot_keras_model(features, labels, svm_linear_001, ax1)\n",
        "plot_keras_model(features, labels, svm_linear, ax2)\n",
        "plot_keras_model(features, labels, svm_linear_100, ax3)\n",
        "ax1.set_title(f'C=0.01\\nAccuracy: {svm_linear_001.score(features, labels):.4f}')\n",
        "ax2.set_title(f'C=1\\nAccuracy: {svm_linear.score(features, labels):.4f}')\n",
        "ax3.set_title(f'C=100\\nAccuracy: {svm_linear_100.score(features, labels):.4f}')"
      ],
      "metadata": {
        "colab": {
          "base_uri": "https://localhost:8080/",
          "height": 488
        },
        "id": "sYUVEv8eJCRl",
        "outputId": "e8d3dd4a-175f-49d1-ddc2-1241544e27fe"
      },
      "id": "sYUVEv8eJCRl",
      "execution_count": 23,
      "outputs": [
        {
          "output_type": "stream",
          "name": "stdout",
          "text": [
            "Accuracy: (C=1) 0.9333333333333333\n",
            "Accuracy: (C=0.01) 0.8666666666666667\n",
            "Accuracy: (C=100) 0.9166666666666666\n"
          ]
        },
        {
          "output_type": "stream",
          "name": "stderr",
          "text": [
            "/usr/local/lib/python3.11/dist-packages/sklearn/utils/validation.py:2739: UserWarning: X does not have valid feature names, but SVC was fitted with feature names\n",
            "  warnings.warn(\n",
            "/usr/local/lib/python3.11/dist-packages/sklearn/utils/validation.py:2739: UserWarning: X does not have valid feature names, but SVC was fitted with feature names\n",
            "  warnings.warn(\n",
            "/usr/local/lib/python3.11/dist-packages/sklearn/utils/validation.py:2739: UserWarning: X does not have valid feature names, but SVC was fitted with feature names\n",
            "  warnings.warn(\n"
          ]
        },
        {
          "output_type": "execute_result",
          "data": {
            "text/plain": [
              "Text(0.5, 1.0, 'C=100\\nAccuracy: 0.9167')"
            ]
          },
          "metadata": {},
          "execution_count": 23
        },
        {
          "output_type": "display_data",
          "data": {
            "text/plain": [
              "<Figure size 1000x300 with 3 Axes>"
            ],
            "image/png": "[encoded data removed]"
          },
          "metadata": {}
        }
      ]
    },
    {
      "cell_type": "markdown",
      "source": [
        "## Kernel Method\n",
        "\n",
        "A kernel is a similarity function, i.e. to tell us if 2 points are similar or different (e.g. close or far).\n",
        "\n",
        "Kernel gives rise to *feature map*: map between dataset's space and a higher dimensional space.\n",
        "\n",
        "In our example, we look at adding columns (features / dimensions) to our dataset to make the points separatable.\n",
        "* polynomial kernal: model data using polynomials such as circle, parabola, hyperbola\n",
        "* radial basis functions (RBF) kernel\n",
        "\n",
        "## One-circle example"
      ],
      "metadata": {
        "id": "6cHaRgT8ObA0"
      },
      "id": "6cHaRgT8ObA0"
    },
    {
      "cell_type": "code",
      "source": [
        "df = pd.read_csv('data/one_circle.csv')\n",
        "print(df[:10])\n",
        "features = df[['x_1', 'x_2']]\n",
        "labels = df['y']\n",
        "plot_points(features, labels)"
      ],
      "metadata": {
        "id": "gs6E2QTvOj1f",
        "outputId": "2216229b-63fb-479c-edb1-f314b561a996",
        "colab": {
          "base_uri": "https://localhost:8080/",
          "height": 650
        }
      },
      "id": "gs6E2QTvOj1f",
      "execution_count": 26,
      "outputs": [
        {
          "output_type": "stream",
          "name": "stdout",
          "text": [
            "   Unnamed: 0       x_1       x_2  y\n",
            "0           0 -0.759416  2.753240  0\n",
            "1           1 -1.885278  1.629527  0\n",
            "2           2  2.463302 -1.023869  0\n",
            "3           3 -1.986004 -0.898810  0\n",
            "4           4  2.010834 -2.580117  0\n",
            "5           5  2.410188  2.370501  0\n",
            "6           6  1.599140 -0.862732  0\n",
            "7           7 -1.109856 -2.469697  0\n",
            "8           8  2.447342  2.811180  0\n",
            "9           9 -1.697732  2.539848  0\n"
          ]
        },
        {
          "output_type": "display_data",
          "data": {
            "text/plain": [
              "<Figure size 640x480 with 1 Axes>"
            ],
            "image/png": "[encoded data removed]"
          },
          "metadata": {}
        }
      ]
    },
    {
      "cell_type": "code",
      "source": [
        "# add another column for x_1^2 + x_2^2\n",
        "df['circ'] = df['x_1']**2 + df['x_2']**2\n",
        "print(df)\n",
        "plt.scatter(df['circ'], df['y'])"
      ],
      "metadata": {
        "id": "c_Hq1JQmPeIj",
        "outputId": "3de32087-fd69-41de-df7c-05f28fe78200",
        "colab": {
          "base_uri": "https://localhost:8080/",
          "height": 704
        }
      },
      "id": "c_Hq1JQmPeIj",
      "execution_count": 28,
      "outputs": [
        {
          "output_type": "stream",
          "name": "stdout",
          "text": [
            "     Unnamed: 0       x_1       x_2  y       circ\n",
            "0             0 -0.759416  2.753240  0   8.157044\n",
            "1             1 -1.885278  1.629527  0   6.209630\n",
            "2             2  2.463302 -1.023869  0   7.116166\n",
            "3             3 -1.986004 -0.898810  0   4.752072\n",
            "4             4  2.010834 -2.580117  0  10.700460\n",
            "..          ...       ...       ... ..        ...\n",
            "105         105 -1.376637  2.778703  1   9.616323\n",
            "106         106 -0.703722  0.215382  1   0.541614\n",
            "107         107  0.729767 -2.479655  1   6.681248\n",
            "108         108 -1.715920 -0.393404  1   3.099148\n",
            "109         109  2.382873 -2.951074  0  14.386922\n",
            "\n",
            "[110 rows x 5 columns]\n"
          ]
        },
        {
          "output_type": "execute_result",
          "data": {
            "text/plain": [
              "<matplotlib.collections.PathCollection at 0x7d7f6a4ce290>"
            ]
          },
          "metadata": {},
          "execution_count": 28
        },
        {
          "output_type": "display_data",
          "data": {
            "text/plain": [
              "<Figure size 640x480 with 1 Axes>"
            ],
            "image/png": "[encoded data removed]"
          },
          "metadata": {}
        }
      ]
    }
  ],
  "metadata": {
    "kernelspec": {
      "display_name": "Python 3",
      "language": "python",
      "name": "python3"
    },
    "language_info": {
      "codemirror_mode": {
        "name": "ipython",
        "version": 3
      },
      "file_extension": ".py",
      "mimetype": "text/x-python",
      "name": "python",
      "nbconvert_exporter": "python",
      "pygments_lexer": "ipython3",
      "version": "3.8.10"
    },
    "colab": {
      "provenance": [],
      "toc_visible": true,
      "include_colab_link": true
    }
  },
  "nbformat": 4,
  "nbformat_minor": 5
}